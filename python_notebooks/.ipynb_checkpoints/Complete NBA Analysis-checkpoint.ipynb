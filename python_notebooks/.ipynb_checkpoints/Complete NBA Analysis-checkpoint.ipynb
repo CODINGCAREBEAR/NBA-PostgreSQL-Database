{
 "cells": [
  {
   "cell_type": "code",
   "execution_count": 1,
   "id": "b2b9454d",
   "metadata": {
    "scrolled": false
   },
   "outputs": [],
   "source": [
    "import os as os\n",
    "import pandas as pd\n",
    "import numpy as np\n",
    "import itertools\n",
    "from openpyxl import load_workbook\n",
    "pd.set_option('display.max_rows', 500)\n",
    "pd.options.display.float_format = '{:.4f}'.format\n",
    "pd.set_option('display.max_columns', None)\n",
    "from pathlib import Path\n",
    "from openpyxl import load_workbook"
   ]
  },
  {
   "cell_type": "markdown",
   "id": "2f15b4ec",
   "metadata": {},
   "source": [
    "# TABLE OF CONTENTS\n",
    "\n",
    "\n",
    "# Stage 1.) Create standardized validation and cleaning functions\n",
    "        \n",
    "        1.) Validate that no yearly files are the EXACT same\n",
    "        2.) Validate that all yearly files being combined have the same column structure\n",
    "        3.) Validate compilation. Ensure the sum of record counts of yearly results = record count of combined dataframe\n",
    "        4.) Validate data completeness. Make sure we have data for every year in the range 2004-2023\n",
    "        5.) Clean player/team names of symbols that denote something in the original source data\n",
    "        \n",
    "\n",
    "# Stage 2.) Compile dataframes from yearly source files. Validate and do preliminary cleaning\n",
    "\n",
    "## 2.1) PLAYER STATS:\n",
    "\n",
    "#### Player Regular Season Stats Dataframes\n",
    "* [Data Source 1. BASIC PLAYER STATS IN REGULAR SEASON](#Step1)\n",
    "        \n",
    "* [Data Source 2. ADVANCED PLAYER STATS IN REGULAR SEASON](#Step2)\n",
    "        - Validate player list of advanced stats = player list of basic stats for each year\n",
    "\n",
    "* [Data Source 3. PLAYER SHOOTING STATS IN REGULAR SEASON](#Step3)\n",
    "        - Validate player list of shooting stats = player list of basic stats for each year\n",
    "        \n",
    "* [Data Source 4. PLAYER PLAY-BY-PLAY STATS IN REGULAR SEASON](#Step4)\n",
    "        - Validate player list of shooting stats = player list of basic stats for each year\n",
    "\n",
    "#### Player Playoff Stats Dataframes\n",
    "\n",
    "* [Data Source 5. BASIC PLAYER STATS IN PLAYOFFS](#Step5)\n",
    "\n",
    "* [Data Source 6. ADVANCED PLAYER STATS IN PLAYOFFS](#Step6)\n",
    "        - Validate player list of basic stats in playoffs = player list of advanced stats in playoffs for each year\n",
    "        \n",
    "* [Data Source 7. PLAYER SHOOTING STATS IN PLAYOFFS](#Step7)\n",
    "        - Validate player list of shooting stats = player list of basic stats for each year\n",
    "        \n",
    "* [Data Source 8. PLAYER PLAY-BY-PLAY STATS IN PLAYOFFS](#Step8)\n",
    "        - Validate player list of shooting stats = player list of basic stats for each year        \n",
    "        \n",
    "#### Player Awards (e.g. MVP) Dataframes\n",
    "* [Data Source 9. AWARD VOTING HISTORY](#Step9)\n",
    "        - Validate manual extraction accuracy by ensuring award winners actually had stats in the year they won the award\n",
    "* [Data Source 10. FINALS MVP](#Step10)\n",
    "        - Validate manual extraction accuracy by ensuring award winners actually had stats in the year they won the award\n",
    "        \n",
    "## 2.2) TEAM STATS: \n",
    "\n",
    "#### Team Regular Season Stats Dataframes\n",
    "* [Data Source 11. BASIC TEAM STATS](#Step11)\n",
    "* [Data Source 12. OPPONENT STATS AGAINST TEAM](#Step12)\n",
    "* [Data Source 13. ADVANCED TEAM STATS](#Step13)\n",
    "* [Data Source 14. TEAM SHOOTING STATS](#Step14)\n",
    "* [Data Source 15, OPPONENT SHOOTING AGAINST TEAM STATS](#Step15)\n",
    "\n",
    "#### Team Regular Season Standings Dataframe\n",
    "* [Data Source 16. REGULAR SEASON TEAM STANDINGS](#Step22)\n",
    "\n",
    "#### Team Playoff Stats Dataframes\n",
    "* [Data Source 17. BASIC TEAM STATS](#Step16)\n",
    "* [Data Source 18. OPPONENT STATS AGAINST TEAM](#Step17)\n",
    "* [Data Source 19. ADVANCED TEAM STATS](#Step18)\n",
    "* [Data Source 20. TEAM SHOOTING STATS](#Step19)\n",
    "* [Data Source 21. OPPONENT SHOOTING AGAINST TEAM STATS](#Step20)\n",
    "\n",
    "#### Team Playoff Standings Dataframe\n",
    "* [Data Source 22. PLAYOFFS TEAM STANDINGS](#Step21)\n",
    "  \n",
    "# Stage 3.) Extensively clean and validate all dataframes as prep for joins\n",
    "* [Step 1. Standardardize name of \"Player Unique ID\" column for all player-related dataframes](#Step23)\n",
    "        - This is necessary because the name of the columns were one of \"-9999\",\"Player-additional\", or \"-additional\"\n",
    "* [Step 2. Standardardize name of \"Team Name\" column for all player-related dataframes](#Step24)\n",
    "        - This is necessary because the name of the columns were one of \"Tm\" or \"Team\"\n",
    "* [Step 3. Address duplicate records for regular season stats where players got traded mid season](#Step25)\n",
    "        - For players that got traded mid-season, keep team value as the team they were traded to last before drop\n",
    "        - Drop duplicate records for players that got traded\n",
    "        - After drop, validate only one player record exists in each regular season player-related dataframe\n",
    "        - After drop, validate all regular season player stat dataframes are the same length\n",
    "* [Step 4. Validate we don't have the same issue for playoff stats for players](#Step26) \n",
    "        - Validate that there aren't multiple player records in playoffs (players can't be traded, so shouldn't)\n",
    "        - Validate all playoff player stat dataframes are the same length as expected\n",
    "* [Step 5. Normalize team names across years where teams change location or name](#Step27) \n",
    "        - Examples include Charlotte Bobcats -> Charlotte Hornets. Or Seattle SuperSonics to OKC Thunder\n",
    "        \n",
    "# Stage 4.) Create keys for table joins across all dataframes\n",
    "\n",
    "* [Key creation 1. Create Player-unique-id-year-concat to enable joins between player tables](#Step28)\n",
    "        - Example of a key for a Giannis record in 2019 would be \"antetgi01-2019\"\n",
    "* [Key creation 2. Create Team-name-year-concat to enable joins between all tables](#Step29) \n",
    "        - Example of a key for a Toronto Raptors record in 2019 would be \"Toronto Raptors-2019\"\n",
    "        \n",
    "# Stage 5.) Change each dataframe's column names to be both more understandable and unique between tables once merged \n",
    "* [Player Related Stats. Change column names](#Step30)\n",
    "        - Include table name in column name so that when we join tables we can differentiate same named columns \n",
    "            - For example, there may be 3P% across multiple tables. Change 3P% to \"Regular season player 3 Point %\"\n",
    "* [Team Related Stats. Change column names](#Step31)\n",
    "        - Include table name in column name so that when we join tables we can differentiate same named columns \n",
    "            - For example, there may be team 3P% across multiple tables. Change 3P% to \"Team Playoff 3 Point %\"\n",
    "            \n",
    "# Stage 6.) Do some feature engineering to aid machine learning in Stage 8+ and refine dataframes further before merge\n",
    "* [Create indicators for each type of qualified* player stat](#Step99)\n",
    "        - Example: create column to indicate a player has played more than 50 games*\n",
    "* [Create ranked stats columns for key stats so you have performance relative to peers](#Step99)\n",
    "        - Example: create column that is the rank of each player's Points Per Game (e.g. top scorer = 1)\n",
    "* [Encode variables like \"Position\"](#Step99)\n",
    "* [Perform final cleaning by excluding redundant columns prior to merging tables](#Step99)\n",
    "        - Examples of redundant columns: Player Name, Team Name, Year\n",
    "       \n",
    "# Stage 7.) Join all REGULAR SEASON player stats, player awards, and team stats tables together into a single, combined dataframe. The machine learning models will train on this combined dataframe. \n",
    "\n",
    "\n",
    "## PLAYER STATS MERGED DATAFRAMES\n",
    "\n",
    "* [Merged Table 1. MERGE ALL REGULAR SEASON PLAYER STATS. Join the following tables together:](#Step32)\n",
    "        - Basic Player Stats (Regular Season)\n",
    "        - Advanced Player Stats (Regular Season)\n",
    "        - Player Shooting Stats (Regular Season)\n",
    "        - Player Play by Play Stats (Regular Season)\n",
    "        \n",
    "* [Merged Table 2. MERGE ALL REGULAR  TEAM STATS. Join the following tables together:](#Step33)\n",
    "        - Basic Team Stats (Regular Season)\n",
    "        - Basic Opponent Team Stats (Regular Season)\n",
    "        - Advanced Team Stats (Regular Season)\n",
    "        - Team Shooting Stats (Regular Season)\n",
    "        - Team Opponent Shooting Stats (Regular Season)\n",
    "        - Team Regular Season Record\n",
    "        \n",
    "## Remove 2024 data and store. This data will be used separately for predicting, not training\n",
    "\n",
    "# Stage 8.) Create machine learning models to predict vote share % for each end of season player award\n",
    "        \n",
    "        Standard Procedures:\n",
    "        - 1.) Merge player stats, team stats, and award stat table to have final data set\n",
    "        - 2.) Split data into training and testing data sets\n",
    "        - 3.) Evaluate model predictive power\n",
    "        - 4.) Identify which features were most important to model\n",
    "        - 5.) Try to simplify/refine model by filtering down to subset of features \n",
    "        - 6.) Use final model to populate and store the model-predicted vote % for every player-season\n",
    "        - 7.) Use final model to predict 2024 award winner\n",
    "\n",
    "\n",
    "\n",
    "* [MVP Award Prediction](#Step34)\n",
    "* [DPOY Award Prediction](#Step35)\n",
    "* [6MAN Award Prediction](#Step36)\n",
    "        - Filtered down training/testing data to just 6MAN eligible candidates (>60 games played, <35 games started)\n",
    "* [ROY Award Prediction](#Step37)\n",
    "        - Load in rookie data spanning 2003-2024 so that we can flag which player-seasons qualified as rookie seasons\n",
    "        - Filtered down training/testing data to just rookies        \n",
    "* [MIP Award Prediction](#Step38)\n",
    "        - Create delta columns to store changes in stats between seasons to help model understand \"improvement\"\n",
    "* [2024 Playoff Prediction](#Step39)\n",
    "        - The results of this exercise were unfortunately very boring. Complex models just barely edged out purely using regular season team record. Turns out regular seasoning winning is really the only important predictor of post season winning \n",
    "          \n",
    "# Stage 9.) Compile all dataframes into one\n",
    "* [Merged Table 3. MERGE ALL PLAYER AWARDS. Join the following tables together:](#Step40)\n",
    "        - MVP Vote History\n",
    "        - ROY Vote History\n",
    "        - All NBA Vote History\n",
    "        - All Defense History\n",
    "        - MIP Vote History\n",
    "        - Six Man Vote History        \n",
    "        - DPOY Vote History\n",
    "        - Finals MVP Vote History\n",
    "* [Merged Table 4. MERGE ALL PLAYOFF PLAYER STATS. Join the following tables together:](#Step41)\n",
    "        - Basic Player Stats (Playoffs)\n",
    "        - Advanced Player Stats (Playoffs)\n",
    "        - Player Shooting Stats (Playoffs)\n",
    "        - Player Play by Play Stats (Playoffs)\n",
    "        \n",
    "* [Merged Table 5. MERGE ALL PLAYOFF TEAM STATS. Join the following tables together:](#Step42)\n",
    "        - Basic Team Stats (Playoffs)\n",
    "        - Basic Opponent Team Stats (Playoffs)\n",
    "        - Advanced Team Stats (Playoffs)\n",
    "        - Team Shooting Stats (Playoffs)\n",
    "        - Team Opponent Shooting Stats (Playoffs)    \n",
    "        \n",
    "* [Merged Table 6. MERGE ALL TEAM RELATED DATA. Join the following tables together:](#Step43)  \n",
    "        - ALL REGULAR SEASON TEAM STATS (created above by merging)\n",
    "        - ALL PLAYOFF TEAM STATS (created above by merging)\n",
    "        - Team Playoff Record         \n",
    "        \n",
    "* [Merged Table 7. MERGE ALL PLAYER RELATED DATA. Join the following tables together:](#Step44)  \n",
    "        - ALL REGULAR SEASON PLAYER STATS (created above by merging)\n",
    "        - ALL PLAYOFF PLAYER STATS (created above by merging)\n",
    "        - All PLAYER AWARDS (created above by merging)\n",
    "        \n",
    "* [Merged Table 8. MERGE ALL PLAYER AND TEAM RELATED DATA INTO ONE ULTIMATE DATAFRAME](#Step45)  \n",
    "        - ALL TEAM RELATED DATA (created above)\n",
    "        - ALL PLAYER RELATED DATA (created above)\n",
    "        \n",
    "# Stage 10.) Export final dataframes of interest\n",
    "\n",
    "* [Special combined team stats containing league average data](#Step46)  \n",
    "* [ULTIMATE FINAL COMBINED DATAFRAME](#Step47)  \n",
    "               "
   ]
  },
  {
   "cell_type": "markdown",
   "id": "2e2a0d06",
   "metadata": {},
   "source": [
    "# Stage 1.) Create list of validation functions"
   ]
  },
  {
   "cell_type": "code",
   "execution_count": 2,
   "id": "3e1bbc2e",
   "metadata": {
    "scrolled": false
   },
   "outputs": [],
   "source": [
    "def create_list_of_dataframes_for_yearly_stats(folder_path,header_row_value):\n",
    "\n",
    "    master_df_list = []\n",
    "\n",
    "    cumulative_row_counter = 0\n",
    "\n",
    "    for file_name in os.listdir(folder_path):\n",
    "        \n",
    "        if file_name == 'desktop.ini':\n",
    "            \n",
    "            continue\n",
    "        \n",
    "        # Assign season value\n",
    "        year = file_name.split(' ')[0]\n",
    "\n",
    "        # Create dataframe name\n",
    "        dataframe_name = f'_{file_name.split(\".\")[0].lower().replace(\" \",\"_\")}_df'\n",
    "\n",
    "        # Store dataframe globally with specified name\n",
    "        globals()[dataframe_name] = pd.read_csv(f'{folder_path}\\\\{file_name}',header=header_row_value)\n",
    "\n",
    "        # Add a Year Column and assign to year\n",
    "        globals()[dataframe_name]['Year'] = int(year)\n",
    "\n",
    "        # Append to master_df_list\n",
    "        master_df_list.append(globals()[dataframe_name]) \n",
    "\n",
    "        # Cumulative_row_counter\n",
    "        cumulative_row_counter = cumulative_row_counter + len(globals()[dataframe_name])\n",
    "    \n",
    "    globals()['master_df_list'] = master_df_list\n",
    "    globals()['cumulative_row_counter'] = cumulative_row_counter\n",
    "    \n",
    "    return master_df_list[0].head(1)\n",
    "    "
   ]
  },
  {
   "cell_type": "code",
   "execution_count": 3,
   "id": "15d3a45a",
   "metadata": {
    "scrolled": false
   },
   "outputs": [],
   "source": [
    "def check_all_unique_dataframes(dfs,column_to_ignore):\n",
    "    num_dfs = len(dfs)\n",
    "    identical_pairs = []\n",
    "    \n",
    "    # Dataframes with column removed\n",
    "    list_of_dataframes_edited = []\n",
    "    \n",
    "    # Remove column to ignore\n",
    "    for i in range(num_dfs):\n",
    "        edited_df = dfs[i].drop(column_to_ignore,axis=1)\n",
    "        list_of_dataframes_edited.append(edited_df)\n",
    "\n",
    "    # Compare and append\n",
    "    for i in range(num_dfs):\n",
    "        for j in range(i+1, num_dfs):\n",
    "            if list_of_dataframes_edited[i].equals(list_of_dataframes_edited[j]):\n",
    "                identical_pairs.append((i, j))\n",
    "                \n",
    "    if len(identical_pairs)>0:\n",
    "        raise Exception(f'MATCHING DATAFRAMES FOUND - {identical_pairs}. This is likely the result of accidentally copying the wrong years data while creating yearly data files')  "
   ]
  },
  {
   "cell_type": "code",
   "execution_count": 4,
   "id": "cfaf9b5d",
   "metadata": {
    "scrolled": false
   },
   "outputs": [],
   "source": [
    "def validate_column_structure_is_same(list_of_dataframes):\n",
    "    \n",
    "    first_dataframe_column_structure = list(list_of_dataframes[0].columns)\n",
    "    first_dataframe_column_structure\n",
    "\n",
    "    for dataframe in list_of_dataframes:\n",
    "        if list(dataframe.columns)!=first_dataframe_column_structure:\n",
    "            raise Exception(f\"{dataframe} columns don't match. Review files to ensure they're all the same structure and that a file is not misplaced\")"
   ]
  },
  {
   "cell_type": "code",
   "execution_count": 5,
   "id": "de76b307",
   "metadata": {
    "scrolled": false
   },
   "outputs": [],
   "source": [
    "def concat_dataframes_and_validate_and_reset_index_and_sort(desired_name_of_output_dataframe,list_of_dataframes_to_concat,length_value_to_use_to_validate):\n",
    "    \n",
    "    globals()[desired_name_of_output_dataframe] = pd.concat(list_of_dataframes_to_concat)\n",
    "\n",
    "    # Verify that total record count of master dataframe matches the cumulative record count of the original dataframes\n",
    "    if len(globals()[desired_name_of_output_dataframe])!=length_value_to_use_to_validate:\n",
    "        raise Exception('Record count of master dataframe does not match cumulative count of component dataframes')\n",
    "\n",
    "    # Reset indices and sort\n",
    "    globals()[desired_name_of_output_dataframe] = globals()[desired_name_of_output_dataframe].sort_values('Year',ascending=False)\n",
    "    globals()[desired_name_of_output_dataframe].reset_index(drop=True,inplace=True)\n",
    "    globals()[desired_name_of_output_dataframe].head(1)"
   ]
  },
  {
   "cell_type": "code",
   "execution_count": 6,
   "id": "869e711c",
   "metadata": {
    "scrolled": false
   },
   "outputs": [],
   "source": [
    "def validate_completeness_of_data(dataframe,beginning_year,ending_year_plus_one): \n",
    "\n",
    "    # Validate that every year contains data\n",
    "    set_of_years_in_dataframe = set(dataframe['Year'])\n",
    "    set_of_years_in_range = set(range(2004,2024))\n",
    "\n",
    "    years_not_in_dataframe = list(set_of_years_in_range-set_of_years_in_dataframe)\n",
    "\n",
    "    if len(years_not_in_dataframe)>0:\n",
    "        raise Exception(f'Missing data for the following years: {years_not_in_dataframe}')"
   ]
  },
  {
   "cell_type": "code",
   "execution_count": 7,
   "id": "15757ba6",
   "metadata": {
    "scrolled": false
   },
   "outputs": [],
   "source": [
    "def clean_column_values(dataframe,column_to_clean):\n",
    "    \n",
    "    # Clean player names of symbols like asterisks and names with '.'\n",
    "    dataframe[column_to_clean] = dataframe[column_to_clean].str.replace(\"*\",'')\n",
    "    dataframe[column_to_clean] = dataframe[column_to_clean].str.replace(\".\",'')"
   ]
  },
  {
   "cell_type": "code",
   "execution_count": 8,
   "id": "8a35634f",
   "metadata": {
    "scrolled": false
   },
   "outputs": [],
   "source": [
    "def validate_dataframes_using_column_values(dataframe_to_compare,column_to_compare,dataframe_to_compare_against,column_to_compare_against):\n",
    "    \n",
    "    for year in dataframe_to_compare['Year'].unique():\n",
    "        \n",
    "        # Filter df of interest on year\n",
    "        dataframe_to_compare = dataframe_to_compare.loc[dataframe_to_compare['Year']==year]\n",
    "\n",
    "        # Grab list of players for year\n",
    "        unique_values_of_column_to_compare = set(dataframe_to_compare[column_to_compare])\n",
    "\n",
    "        # Filter basic yearly player stats df on year\n",
    "        dataframe_to_compare_against = dataframe_to_compare_against.loc[dataframe_to_compare_against['Year']==year]\n",
    "\n",
    "        # Grab list of players that played in year\n",
    "        unique_values_of_column_to_compare_against = set(dataframe_to_compare_against[column_to_compare_against])\n",
    "\n",
    "        # Determine difference\n",
    "        unique_values_not_found = list(unique_values_of_column_to_compare - unique_values_of_column_to_compare_against)\n",
    "\n",
    "        # Raise error if players are found to not have played in year\n",
    "        if len(unique_values_not_found)>0:\n",
    "             raise Exception(f'For {year}, {unique_values_not_found} not found in dataframe used to compare against. Likely issue of loading the wrong years data.')"
   ]
  },
  {
   "cell_type": "markdown",
   "id": "9d6eb642",
   "metadata": {},
   "source": [
    "\n",
    "# Stage 2.) Compile PLAYER related dataframes from yearly source files"
   ]
  },
  {
   "cell_type": "markdown",
   "id": "98a3d7ed",
   "metadata": {},
   "source": [
    "## Define directory to point to for source data"
   ]
  },
  {
   "cell_type": "code",
   "execution_count": 9,
   "id": "3fdb5c0b",
   "metadata": {},
   "outputs": [
    {
     "data": {
      "text/plain": [
       "WindowsPath('C:/Users/Carey/NBA-PostgreSQL-Database/source_data')"
      ]
     },
     "execution_count": 9,
     "metadata": {},
     "output_type": "execute_result"
    }
   ],
   "source": [
    "# Get current notebook directory\n",
    "notebook_dir = Path.cwd()\n",
    "\n",
    "# Move up to project root (NBA-PostgreSQL-Database) and then to source_data\n",
    "project_root = notebook_dir.parent\n",
    "source_data_path = project_root / 'source_data'\n",
    "source_data_path"
   ]
  },
  {
   "cell_type": "markdown",
   "id": "5241464d",
   "metadata": {},
   "source": [
    "## Regular Season Player Stats"
   ]
  },
  {
   "cell_type": "markdown",
   "id": "a1fae500",
   "metadata": {},
   "source": [
    "### BASIC PLAYER STATS IN REGULAR SEASON. Compile yearly data into one dataframe\n",
    " <a class=\"anchor\" id=\"Step1\"></a>"
   ]
  },
  {
   "cell_type": "markdown",
   "id": "3f862492",
   "metadata": {},
   "source": [
    "#### Create dataframes of yearly data"
   ]
  },
  {
   "cell_type": "code",
   "execution_count": 10,
   "id": "be164ae8",
   "metadata": {
    "scrolled": false
   },
   "outputs": [
    {
     "data": {
      "text/html": [
       "<div>\n",
       "<style scoped>\n",
       "    .dataframe tbody tr th:only-of-type {\n",
       "        vertical-align: middle;\n",
       "    }\n",
       "\n",
       "    .dataframe tbody tr th {\n",
       "        vertical-align: top;\n",
       "    }\n",
       "\n",
       "    .dataframe thead th {\n",
       "        text-align: right;\n",
       "    }\n",
       "</style>\n",
       "<table border=\"1\" class=\"dataframe\">\n",
       "  <thead>\n",
       "    <tr style=\"text-align: right;\">\n",
       "      <th></th>\n",
       "      <th>Rk</th>\n",
       "      <th>Player</th>\n",
       "      <th>Pos</th>\n",
       "      <th>Age</th>\n",
       "      <th>Tm</th>\n",
       "      <th>G</th>\n",
       "      <th>GS</th>\n",
       "      <th>MP</th>\n",
       "      <th>FG</th>\n",
       "      <th>FGA</th>\n",
       "      <th>FG%</th>\n",
       "      <th>3P</th>\n",
       "      <th>3PA</th>\n",
       "      <th>3P%</th>\n",
       "      <th>2P</th>\n",
       "      <th>2PA</th>\n",
       "      <th>2P%</th>\n",
       "      <th>eFG%</th>\n",
       "      <th>FT</th>\n",
       "      <th>FTA</th>\n",
       "      <th>FT%</th>\n",
       "      <th>ORB</th>\n",
       "      <th>DRB</th>\n",
       "      <th>TRB</th>\n",
       "      <th>AST</th>\n",
       "      <th>STL</th>\n",
       "      <th>BLK</th>\n",
       "      <th>TOV</th>\n",
       "      <th>PF</th>\n",
       "      <th>PTS</th>\n",
       "      <th>Player-additional</th>\n",
       "      <th>Year</th>\n",
       "    </tr>\n",
       "  </thead>\n",
       "  <tbody>\n",
       "    <tr>\n",
       "      <th>0</th>\n",
       "      <td>1</td>\n",
       "      <td>Shareef Abdur-Rahim</td>\n",
       "      <td>PF</td>\n",
       "      <td>27</td>\n",
       "      <td>TOT</td>\n",
       "      <td>85</td>\n",
       "      <td>56</td>\n",
       "      <td>31.6000</td>\n",
       "      <td>5.9000</td>\n",
       "      <td>12.4000</td>\n",
       "      <td>0.4750</td>\n",
       "      <td>0.1000</td>\n",
       "      <td>0.4000</td>\n",
       "      <td>0.2650</td>\n",
       "      <td>5.8000</td>\n",
       "      <td>12.0000</td>\n",
       "      <td>0.4820</td>\n",
       "      <td>0.4800</td>\n",
       "      <td>4.4000</td>\n",
       "      <td>5.0000</td>\n",
       "      <td>0.8690</td>\n",
       "      <td>2.2000</td>\n",
       "      <td>5.3000</td>\n",
       "      <td>7.5000</td>\n",
       "      <td>2.0000</td>\n",
       "      <td>0.8000</td>\n",
       "      <td>0.4000</td>\n",
       "      <td>2.2000</td>\n",
       "      <td>2.6000</td>\n",
       "      <td>16.3000</td>\n",
       "      <td>abdursh01</td>\n",
       "      <td>2004</td>\n",
       "    </tr>\n",
       "  </tbody>\n",
       "</table>\n",
       "</div>"
      ],
      "text/plain": [
       "   Rk               Player Pos  Age   Tm   G  GS      MP     FG     FGA  \\\n",
       "0   1  Shareef Abdur-Rahim  PF   27  TOT  85  56 31.6000 5.9000 12.4000   \n",
       "\n",
       "     FG%     3P    3PA    3P%     2P     2PA    2P%   eFG%     FT    FTA  \\\n",
       "0 0.4750 0.1000 0.4000 0.2650 5.8000 12.0000 0.4820 0.4800 4.4000 5.0000   \n",
       "\n",
       "     FT%    ORB    DRB    TRB    AST    STL    BLK    TOV     PF     PTS  \\\n",
       "0 0.8690 2.2000 5.3000 7.5000 2.0000 0.8000 0.4000 2.2000 2.6000 16.3000   \n",
       "\n",
       "  Player-additional  Year  \n",
       "0         abdursh01  2004  "
      ]
     },
     "execution_count": 10,
     "metadata": {},
     "output_type": "execute_result"
    }
   ],
   "source": [
    "create_list_of_dataframes_for_yearly_stats(f'{source_data_path}\\\\Player Stats\\\\Regular season\\\\NBA Basic Player Stats',0)"
   ]
  },
  {
   "cell_type": "markdown",
   "id": "2ad29f00",
   "metadata": {},
   "source": [
    "###### Validate that all of the yearly data files contain different data"
   ]
  },
  {
   "cell_type": "code",
   "execution_count": 11,
   "id": "a5e135db",
   "metadata": {
    "scrolled": false
   },
   "outputs": [],
   "source": [
    "check_all_unique_dataframes(master_df_list,'Year')"
   ]
  },
  {
   "cell_type": "markdown",
   "id": "fbcf6504",
   "metadata": {},
   "source": [
    "###### Validate that the column structure for every data frame is the same."
   ]
  },
  {
   "cell_type": "code",
   "execution_count": 12,
   "id": "76b2b4cf",
   "metadata": {
    "scrolled": false
   },
   "outputs": [],
   "source": [
    "validate_column_structure_is_same(master_df_list)"
   ]
  },
  {
   "cell_type": "markdown",
   "id": "ba611313",
   "metadata": {},
   "source": [
    "###### Concat/combine yearly dataframes into one AND validate that the length of the combined dataframe is the same as the sum of the yearly dataframes"
   ]
  },
  {
   "cell_type": "code",
   "execution_count": 13,
   "id": "6f7a6876",
   "metadata": {
    "scrolled": false
   },
   "outputs": [],
   "source": [
    "concat_dataframes_and_validate_and_reset_index_and_sort('basic_player_stats_regular_season_df',master_df_list,cumulative_row_counter)"
   ]
  },
  {
   "cell_type": "markdown",
   "id": "5eaba329",
   "metadata": {},
   "source": [
    "###### Validate we have all of the data we need from 2004-2023"
   ]
  },
  {
   "cell_type": "code",
   "execution_count": 14,
   "id": "f61009d2",
   "metadata": {
    "scrolled": false
   },
   "outputs": [],
   "source": [
    "validate_completeness_of_data(basic_player_stats_regular_season_df,2004,2024)"
   ]
  },
  {
   "cell_type": "markdown",
   "id": "ba695672",
   "metadata": {},
   "source": [
    "###### Clean player names"
   ]
  },
  {
   "cell_type": "code",
   "execution_count": 15,
   "id": "a24b3176",
   "metadata": {
    "scrolled": false
   },
   "outputs": [
    {
     "name": "stderr",
     "output_type": "stream",
     "text": [
      "C:\\Users\\Carey\\AppData\\Local\\Temp\\ipykernel_35268\\102270080.py:4: FutureWarning: The default value of regex will change from True to False in a future version. In addition, single character regular expressions will *not* be treated as literal strings when regex=True.\n",
      "  dataframe[column_to_clean] = dataframe[column_to_clean].str.replace(\"*\",'')\n",
      "C:\\Users\\Carey\\AppData\\Local\\Temp\\ipykernel_35268\\102270080.py:5: FutureWarning: The default value of regex will change from True to False in a future version. In addition, single character regular expressions will *not* be treated as literal strings when regex=True.\n",
      "  dataframe[column_to_clean] = dataframe[column_to_clean].str.replace(\".\",'')\n"
     ]
    }
   ],
   "source": [
    "clean_column_values(basic_player_stats_regular_season_df,'Player')"
   ]
  },
  {
   "cell_type": "markdown",
   "id": "c8709b87",
   "metadata": {},
   "source": [
    "###### Validate against dataframe"
   ]
  },
  {
   "cell_type": "code",
   "execution_count": 16,
   "id": "40812357",
   "metadata": {
    "scrolled": false
   },
   "outputs": [],
   "source": [
    "# N/A"
   ]
  },
  {
   "cell_type": "markdown",
   "id": "25014907",
   "metadata": {},
   "source": [
    "### ADVANCED PLAYER STATS IN REGULAR SEASON. Compile yearly data into one dataframe\n",
    " <a class=\"anchor\" id=\"Step2\"></a>"
   ]
  },
  {
   "cell_type": "markdown",
   "id": "06c8a6e8",
   "metadata": {},
   "source": [
    "#### Create dataframes of yearly data"
   ]
  },
  {
   "cell_type": "code",
   "execution_count": 17,
   "id": "7fc926b4",
   "metadata": {
    "scrolled": false
   },
   "outputs": [
    {
     "data": {
      "text/html": [
       "<div>\n",
       "<style scoped>\n",
       "    .dataframe tbody tr th:only-of-type {\n",
       "        vertical-align: middle;\n",
       "    }\n",
       "\n",
       "    .dataframe tbody tr th {\n",
       "        vertical-align: top;\n",
       "    }\n",
       "\n",
       "    .dataframe thead th {\n",
       "        text-align: right;\n",
       "    }\n",
       "</style>\n",
       "<table border=\"1\" class=\"dataframe\">\n",
       "  <thead>\n",
       "    <tr style=\"text-align: right;\">\n",
       "      <th></th>\n",
       "      <th>Rk</th>\n",
       "      <th>Player</th>\n",
       "      <th>Pos</th>\n",
       "      <th>Age</th>\n",
       "      <th>Tm</th>\n",
       "      <th>G</th>\n",
       "      <th>MP</th>\n",
       "      <th>PER</th>\n",
       "      <th>TS%</th>\n",
       "      <th>3PAr</th>\n",
       "      <th>FTr</th>\n",
       "      <th>ORB%</th>\n",
       "      <th>DRB%</th>\n",
       "      <th>TRB%</th>\n",
       "      <th>AST%</th>\n",
       "      <th>STL%</th>\n",
       "      <th>BLK%</th>\n",
       "      <th>TOV%</th>\n",
       "      <th>USG%</th>\n",
       "      <th>Unnamed: 19</th>\n",
       "      <th>OWS</th>\n",
       "      <th>DWS</th>\n",
       "      <th>WS</th>\n",
       "      <th>WS/48</th>\n",
       "      <th>Unnamed: 24</th>\n",
       "      <th>OBPM</th>\n",
       "      <th>DBPM</th>\n",
       "      <th>BPM</th>\n",
       "      <th>VORP</th>\n",
       "      <th>Player-additional</th>\n",
       "      <th>Year</th>\n",
       "    </tr>\n",
       "  </thead>\n",
       "  <tbody>\n",
       "    <tr>\n",
       "      <th>0</th>\n",
       "      <td>1</td>\n",
       "      <td>Shareef Abdur-Rahim</td>\n",
       "      <td>PF</td>\n",
       "      <td>27</td>\n",
       "      <td>TOT</td>\n",
       "      <td>85</td>\n",
       "      <td>2684</td>\n",
       "      <td>19.9000</td>\n",
       "      <td>0.5570</td>\n",
       "      <td>0.0320</td>\n",
       "      <td>0.4070</td>\n",
       "      <td>8.2000</td>\n",
       "      <td>19.0000</td>\n",
       "      <td>13.6000</td>\n",
       "      <td>12.3000</td>\n",
       "      <td>1.4000</td>\n",
       "      <td>1.0000</td>\n",
       "      <td>12.9000</td>\n",
       "      <td>24.4000</td>\n",
       "      <td>NaN</td>\n",
       "      <td>6.1000</td>\n",
       "      <td>2.0000</td>\n",
       "      <td>8.1000</td>\n",
       "      <td>0.1450</td>\n",
       "      <td>NaN</td>\n",
       "      <td>2.3000</td>\n",
       "      <td>-0.7000</td>\n",
       "      <td>1.6000</td>\n",
       "      <td>2.4000</td>\n",
       "      <td>abdursh01</td>\n",
       "      <td>2004</td>\n",
       "    </tr>\n",
       "  </tbody>\n",
       "</table>\n",
       "</div>"
      ],
      "text/plain": [
       "   Rk               Player Pos  Age   Tm   G    MP     PER    TS%   3PAr  \\\n",
       "0   1  Shareef Abdur-Rahim  PF   27  TOT  85  2684 19.9000 0.5570 0.0320   \n",
       "\n",
       "     FTr   ORB%    DRB%    TRB%    AST%   STL%   BLK%    TOV%    USG%  \\\n",
       "0 0.4070 8.2000 19.0000 13.6000 12.3000 1.4000 1.0000 12.9000 24.4000   \n",
       "\n",
       "   Unnamed: 19    OWS    DWS     WS  WS/48  Unnamed: 24   OBPM    DBPM    BPM  \\\n",
       "0          NaN 6.1000 2.0000 8.1000 0.1450          NaN 2.3000 -0.7000 1.6000   \n",
       "\n",
       "    VORP Player-additional  Year  \n",
       "0 2.4000         abdursh01  2004  "
      ]
     },
     "execution_count": 17,
     "metadata": {},
     "output_type": "execute_result"
    }
   ],
   "source": [
    "create_list_of_dataframes_for_yearly_stats(f'{source_data_path}\\\\Player Stats\\\\Regular season\\\\NBA Advanced Player Stats',0)"
   ]
  },
  {
   "cell_type": "markdown",
   "id": "02a8a30f",
   "metadata": {},
   "source": [
    "###### Validate that all of the yearly data files contain different data"
   ]
  },
  {
   "cell_type": "code",
   "execution_count": 18,
   "id": "9cf5df97",
   "metadata": {
    "scrolled": false
   },
   "outputs": [],
   "source": [
    "check_all_unique_dataframes(master_df_list,'Year')"
   ]
  },
  {
   "cell_type": "markdown",
   "id": "1fa8ddb3",
   "metadata": {},
   "source": [
    "###### Validate that the column structure for every data frame is the same."
   ]
  },
  {
   "cell_type": "code",
   "execution_count": 19,
   "id": "dbd0f6b7",
   "metadata": {
    "scrolled": false
   },
   "outputs": [],
   "source": [
    "validate_column_structure_is_same(master_df_list)"
   ]
  },
  {
   "cell_type": "markdown",
   "id": "b0c899c0",
   "metadata": {},
   "source": [
    "###### Concat/combine yearly dataframes into one AND validate that the length of the combined dataframe is the same as the sum of the yearly dataframes"
   ]
  },
  {
   "cell_type": "code",
   "execution_count": 20,
   "id": "d3f7b9d4",
   "metadata": {
    "scrolled": false
   },
   "outputs": [],
   "source": [
    "concat_dataframes_and_validate_and_reset_index_and_sort('advanced_player_stats_in_regular_season_df',master_df_list,cumulative_row_counter)"
   ]
  },
  {
   "cell_type": "markdown",
   "id": "b8b8f099",
   "metadata": {},
   "source": [
    "###### Validate we have all of the data we need from 2004-2023"
   ]
  },
  {
   "cell_type": "code",
   "execution_count": 21,
   "id": "2276f547",
   "metadata": {
    "scrolled": false
   },
   "outputs": [],
   "source": [
    "validate_completeness_of_data(advanced_player_stats_in_regular_season_df,2004,2024)"
   ]
  },
  {
   "cell_type": "markdown",
   "id": "ddd4dcd2",
   "metadata": {},
   "source": [
    "###### Clean player names"
   ]
  },
  {
   "cell_type": "code",
   "execution_count": 22,
   "id": "5337c0e8",
   "metadata": {
    "scrolled": true
   },
   "outputs": [
    {
     "name": "stderr",
     "output_type": "stream",
     "text": [
      "C:\\Users\\Carey\\AppData\\Local\\Temp\\ipykernel_35268\\102270080.py:4: FutureWarning: The default value of regex will change from True to False in a future version. In addition, single character regular expressions will *not* be treated as literal strings when regex=True.\n",
      "  dataframe[column_to_clean] = dataframe[column_to_clean].str.replace(\"*\",'')\n",
      "C:\\Users\\Carey\\AppData\\Local\\Temp\\ipykernel_35268\\102270080.py:5: FutureWarning: The default value of regex will change from True to False in a future version. In addition, single character regular expressions will *not* be treated as literal strings when regex=True.\n",
      "  dataframe[column_to_clean] = dataframe[column_to_clean].str.replace(\".\",'')\n"
     ]
    }
   ],
   "source": [
    "clean_column_values(advanced_player_stats_in_regular_season_df,'Player')"
   ]
  },
  {
   "cell_type": "markdown",
   "id": "d25f06a5",
   "metadata": {},
   "source": [
    "###### Validate against dataframe"
   ]
  },
  {
   "cell_type": "code",
   "execution_count": 23,
   "id": "0f639d0a",
   "metadata": {
    "scrolled": false
   },
   "outputs": [],
   "source": [
    "validate_dataframes_using_column_values(advanced_player_stats_in_regular_season_df,'Player-additional',basic_player_stats_regular_season_df,'Player-additional')"
   ]
  },
  {
   "cell_type": "markdown",
   "id": "9b3b884f",
   "metadata": {},
   "source": [
    "### PLAYER SHOOTING IN REGULAR SEASON. Compile yearly data into one dataframe\n",
    " <a class=\"anchor\" id=\"Step3\"></a>"
   ]
  },
  {
   "cell_type": "markdown",
   "id": "f03be493",
   "metadata": {},
   "source": [
    "#### Create dataframes of yearly data"
   ]
  },
  {
   "cell_type": "code",
   "execution_count": 24,
   "id": "282801d2",
   "metadata": {
    "scrolled": false
   },
   "outputs": [
    {
     "data": {
      "text/html": [
       "<div>\n",
       "<style scoped>\n",
       "    .dataframe tbody tr th:only-of-type {\n",
       "        vertical-align: middle;\n",
       "    }\n",
       "\n",
       "    .dataframe tbody tr th {\n",
       "        vertical-align: top;\n",
       "    }\n",
       "\n",
       "    .dataframe thead th {\n",
       "        text-align: right;\n",
       "    }\n",
       "</style>\n",
       "<table border=\"1\" class=\"dataframe\">\n",
       "  <thead>\n",
       "    <tr style=\"text-align: right;\">\n",
       "      <th></th>\n",
       "      <th>Rk</th>\n",
       "      <th>Player</th>\n",
       "      <th>Pos</th>\n",
       "      <th>Age</th>\n",
       "      <th>Tm</th>\n",
       "      <th>G</th>\n",
       "      <th>MP</th>\n",
       "      <th>FG%</th>\n",
       "      <th>Dist.</th>\n",
       "      <th>Unnamed: 9</th>\n",
       "      <th>2P</th>\n",
       "      <th>0-3</th>\n",
       "      <th>3-10</th>\n",
       "      <th>10-16</th>\n",
       "      <th>16-3P</th>\n",
       "      <th>3P</th>\n",
       "      <th>Unnamed: 16</th>\n",
       "      <th>2P.1</th>\n",
       "      <th>0-3.1</th>\n",
       "      <th>3-10.1</th>\n",
       "      <th>10-16.1</th>\n",
       "      <th>16-3P.1</th>\n",
       "      <th>3P.1</th>\n",
       "      <th>Unnamed: 23</th>\n",
       "      <th>2P.2</th>\n",
       "      <th>3P.2</th>\n",
       "      <th>Unnamed: 26</th>\n",
       "      <th>%FGA</th>\n",
       "      <th>#</th>\n",
       "      <th>Unnamed: 29</th>\n",
       "      <th>%3PA</th>\n",
       "      <th>3P%</th>\n",
       "      <th>Unnamed: 32</th>\n",
       "      <th>Att.</th>\n",
       "      <th>#.1</th>\n",
       "      <th>-9999</th>\n",
       "      <th>Year</th>\n",
       "    </tr>\n",
       "  </thead>\n",
       "  <tbody>\n",
       "    <tr>\n",
       "      <th>0</th>\n",
       "      <td>1</td>\n",
       "      <td>Shareef Abdur-Rahim</td>\n",
       "      <td>PF</td>\n",
       "      <td>27</td>\n",
       "      <td>TOT</td>\n",
       "      <td>85</td>\n",
       "      <td>2684</td>\n",
       "      <td>0.4750</td>\n",
       "      <td>7.8000</td>\n",
       "      <td>NaN</td>\n",
       "      <td>0.9680</td>\n",
       "      <td>0.3570</td>\n",
       "      <td>0.3190</td>\n",
       "      <td>0.1160</td>\n",
       "      <td>0.1760</td>\n",
       "      <td>0.0320</td>\n",
       "      <td>NaN</td>\n",
       "      <td>0.4820</td>\n",
       "      <td>0.5850</td>\n",
       "      <td>0.4260</td>\n",
       "      <td>0.4260</td>\n",
       "      <td>0.4140</td>\n",
       "      <td>0.2650</td>\n",
       "      <td>NaN</td>\n",
       "      <td>0.5390</td>\n",
       "      <td>0.8890</td>\n",
       "      <td>NaN</td>\n",
       "      <td>0.0690</td>\n",
       "      <td>71</td>\n",
       "      <td>NaN</td>\n",
       "      <td>0.2060</td>\n",
       "      <td>0.4290</td>\n",
       "      <td>NaN</td>\n",
       "      <td>0</td>\n",
       "      <td>0</td>\n",
       "      <td>abdursh01</td>\n",
       "      <td>2004</td>\n",
       "    </tr>\n",
       "  </tbody>\n",
       "</table>\n",
       "</div>"
      ],
      "text/plain": [
       "   Rk               Player Pos  Age   Tm   G    MP    FG%  Dist.  Unnamed: 9  \\\n",
       "0   1  Shareef Abdur-Rahim  PF   27  TOT  85  2684 0.4750 7.8000         NaN   \n",
       "\n",
       "      2P    0-3   3-10  10-16  16-3P     3P  Unnamed: 16   2P.1  0-3.1  \\\n",
       "0 0.9680 0.3570 0.3190 0.1160 0.1760 0.0320          NaN 0.4820 0.5850   \n",
       "\n",
       "   3-10.1  10-16.1  16-3P.1   3P.1  Unnamed: 23   2P.2   3P.2  Unnamed: 26  \\\n",
       "0  0.4260   0.4260   0.4140 0.2650          NaN 0.5390 0.8890          NaN   \n",
       "\n",
       "    %FGA   #  Unnamed: 29   %3PA    3P%  Unnamed: 32  Att.  #.1      -9999  \\\n",
       "0 0.0690  71          NaN 0.2060 0.4290          NaN     0    0  abdursh01   \n",
       "\n",
       "   Year  \n",
       "0  2004  "
      ]
     },
     "execution_count": 24,
     "metadata": {},
     "output_type": "execute_result"
    }
   ],
   "source": [
    "create_list_of_dataframes_for_yearly_stats(f'{source_data_path}\\\\Player Stats\\\\Regular season\\\\NBA Player Shooting Stats',1)"
   ]
  },
  {
   "cell_type": "markdown",
   "id": "1f1195a6",
   "metadata": {},
   "source": [
    "###### Validate that all of the yearly data files contain different data"
   ]
  },
  {
   "cell_type": "code",
   "execution_count": 25,
   "id": "55aef1c4",
   "metadata": {
    "scrolled": false
   },
   "outputs": [],
   "source": [
    "check_all_unique_dataframes(master_df_list,'Year')"
   ]
  },
  {
   "cell_type": "markdown",
   "id": "6717649c",
   "metadata": {},
   "source": [
    "###### Validate that the column structure for every data frame is the same."
   ]
  },
  {
   "cell_type": "code",
   "execution_count": 26,
   "id": "3bab30a3",
   "metadata": {
    "scrolled": false
   },
   "outputs": [],
   "source": [
    "validate_column_structure_is_same(master_df_list)"
   ]
  },
  {
   "cell_type": "markdown",
   "id": "8eaa18fe",
   "metadata": {},
   "source": [
    "###### Concat/combine yearly dataframes into one AND validate that the length of the combined dataframe is the same as the sum of the yearly dataframes"
   ]
  },
  {
   "cell_type": "code",
   "execution_count": 27,
   "id": "08e1d0e3",
   "metadata": {
    "scrolled": false
   },
   "outputs": [],
   "source": [
    "concat_dataframes_and_validate_and_reset_index_and_sort('player_shooting_in_regular_season_df',master_df_list,cumulative_row_counter)"
   ]
  },
  {
   "cell_type": "markdown",
   "id": "606aa458",
   "metadata": {},
   "source": [
    "###### Validate we have all of the data we need from 2004-2023"
   ]
  },
  {
   "cell_type": "code",
   "execution_count": 28,
   "id": "24c8b887",
   "metadata": {
    "scrolled": false
   },
   "outputs": [],
   "source": [
    "validate_completeness_of_data(player_shooting_in_regular_season_df,2004,2024)"
   ]
  },
  {
   "cell_type": "markdown",
   "id": "4a96f894",
   "metadata": {},
   "source": [
    "###### Clean player names"
   ]
  },
  {
   "cell_type": "code",
   "execution_count": 29,
   "id": "4c280809",
   "metadata": {
    "scrolled": false
   },
   "outputs": [
    {
     "name": "stderr",
     "output_type": "stream",
     "text": [
      "C:\\Users\\Carey\\AppData\\Local\\Temp\\ipykernel_35268\\102270080.py:4: FutureWarning: The default value of regex will change from True to False in a future version. In addition, single character regular expressions will *not* be treated as literal strings when regex=True.\n",
      "  dataframe[column_to_clean] = dataframe[column_to_clean].str.replace(\"*\",'')\n",
      "C:\\Users\\Carey\\AppData\\Local\\Temp\\ipykernel_35268\\102270080.py:5: FutureWarning: The default value of regex will change from True to False in a future version. In addition, single character regular expressions will *not* be treated as literal strings when regex=True.\n",
      "  dataframe[column_to_clean] = dataframe[column_to_clean].str.replace(\".\",'')\n"
     ]
    }
   ],
   "source": [
    "clean_column_values(advanced_player_stats_in_regular_season_df,'Player')"
   ]
  },
  {
   "cell_type": "markdown",
   "id": "d5d535f9",
   "metadata": {},
   "source": [
    "###### Validate against dataframe"
   ]
  },
  {
   "cell_type": "code",
   "execution_count": 30,
   "id": "bc00e056",
   "metadata": {
    "scrolled": false
   },
   "outputs": [],
   "source": [
    "validate_dataframes_using_column_values(player_shooting_in_regular_season_df,'-9999',basic_player_stats_regular_season_df,'Player-additional')"
   ]
  },
  {
   "cell_type": "markdown",
   "id": "49502249",
   "metadata": {},
   "source": [
    "### PLAYER PLAY-BY-PLAY STATS IN REGULAR SEASON. Compile yearly data into one dataframe\n",
    " <a class=\"anchor\" id=\"Step4\"></a>"
   ]
  },
  {
   "cell_type": "markdown",
   "id": "9032fe95",
   "metadata": {},
   "source": [
    "#### Create dataframes of yearly data"
   ]
  },
  {
   "cell_type": "code",
   "execution_count": 31,
   "id": "68057098",
   "metadata": {
    "scrolled": false
   },
   "outputs": [
    {
     "data": {
      "text/html": [
       "<div>\n",
       "<style scoped>\n",
       "    .dataframe tbody tr th:only-of-type {\n",
       "        vertical-align: middle;\n",
       "    }\n",
       "\n",
       "    .dataframe tbody tr th {\n",
       "        vertical-align: top;\n",
       "    }\n",
       "\n",
       "    .dataframe thead th {\n",
       "        text-align: right;\n",
       "    }\n",
       "</style>\n",
       "<table border=\"1\" class=\"dataframe\">\n",
       "  <thead>\n",
       "    <tr style=\"text-align: right;\">\n",
       "      <th></th>\n",
       "      <th>Rk</th>\n",
       "      <th>Player</th>\n",
       "      <th>Pos</th>\n",
       "      <th>Age</th>\n",
       "      <th>Tm</th>\n",
       "      <th>G</th>\n",
       "      <th>MP</th>\n",
       "      <th>PG%</th>\n",
       "      <th>SG%</th>\n",
       "      <th>SF%</th>\n",
       "      <th>PF%</th>\n",
       "      <th>C%</th>\n",
       "      <th>OnCourt</th>\n",
       "      <th>On-Off</th>\n",
       "      <th>BadPass</th>\n",
       "      <th>LostBall</th>\n",
       "      <th>Shoot</th>\n",
       "      <th>Off.</th>\n",
       "      <th>Shoot.1</th>\n",
       "      <th>Off..1</th>\n",
       "      <th>PGA</th>\n",
       "      <th>And1</th>\n",
       "      <th>Blkd</th>\n",
       "      <th>-9999</th>\n",
       "      <th>Year</th>\n",
       "    </tr>\n",
       "  </thead>\n",
       "  <tbody>\n",
       "    <tr>\n",
       "      <th>0</th>\n",
       "      <td>1</td>\n",
       "      <td>Shareef Abdur-Rahim</td>\n",
       "      <td>PF</td>\n",
       "      <td>27</td>\n",
       "      <td>TOT</td>\n",
       "      <td>85</td>\n",
       "      <td>2684</td>\n",
       "      <td>NaN</td>\n",
       "      <td>NaN</td>\n",
       "      <td>6%</td>\n",
       "      <td>93%</td>\n",
       "      <td>1%</td>\n",
       "      <td>-2.5000</td>\n",
       "      <td>2.3000</td>\n",
       "      <td>56</td>\n",
       "      <td>72</td>\n",
       "      <td>95</td>\n",
       "      <td>29</td>\n",
       "      <td>185</td>\n",
       "      <td>NaN</td>\n",
       "      <td>390</td>\n",
       "      <td>31</td>\n",
       "      <td>94</td>\n",
       "      <td>abdursh01</td>\n",
       "      <td>2004</td>\n",
       "    </tr>\n",
       "  </tbody>\n",
       "</table>\n",
       "</div>"
      ],
      "text/plain": [
       "   Rk               Player Pos  Age   Tm   G    MP  PG%  SG% SF%  PF%  C%  \\\n",
       "0   1  Shareef Abdur-Rahim  PF   27  TOT  85  2684  NaN  NaN  6%  93%  1%   \n",
       "\n",
       "   OnCourt  On-Off  BadPass  LostBall  Shoot  Off.  Shoot.1  Off..1  PGA  \\\n",
       "0  -2.5000  2.3000       56        72     95    29      185     NaN  390   \n",
       "\n",
       "   And1  Blkd      -9999  Year  \n",
       "0    31    94  abdursh01  2004  "
      ]
     },
     "execution_count": 31,
     "metadata": {},
     "output_type": "execute_result"
    }
   ],
   "source": [
    "create_list_of_dataframes_for_yearly_stats(f'{source_data_path}\\\\Player Stats\\\\Regular season\\\\NBA Player Play by Play Stats',1)"
   ]
  },
  {
   "cell_type": "markdown",
   "id": "cac8d8ea",
   "metadata": {},
   "source": [
    "###### Validate that all of the yearly data files contain different data"
   ]
  },
  {
   "cell_type": "code",
   "execution_count": 32,
   "id": "dc058557",
   "metadata": {
    "scrolled": false
   },
   "outputs": [],
   "source": [
    "check_all_unique_dataframes(master_df_list,'Year')"
   ]
  },
  {
   "cell_type": "markdown",
   "id": "f091cc50",
   "metadata": {},
   "source": [
    "###### Validate that the column structure for every data frame is the same."
   ]
  },
  {
   "cell_type": "code",
   "execution_count": 33,
   "id": "284ebddb",
   "metadata": {
    "scrolled": false
   },
   "outputs": [],
   "source": [
    "validate_column_structure_is_same(master_df_list)"
   ]
  },
  {
   "cell_type": "markdown",
   "id": "018a7a91",
   "metadata": {},
   "source": [
    "###### Concat/combine yearly dataframes into one AND validate that the length of the combined dataframe is the same as the sum of the yearly dataframes"
   ]
  },
  {
   "cell_type": "code",
   "execution_count": 34,
   "id": "ebbe93b0",
   "metadata": {
    "scrolled": false
   },
   "outputs": [],
   "source": [
    "concat_dataframes_and_validate_and_reset_index_and_sort('player_play_by_play_in_regular_season_df',master_df_list,cumulative_row_counter)"
   ]
  },
  {
   "cell_type": "markdown",
   "id": "b092f252",
   "metadata": {},
   "source": [
    "###### Validate we have all of the data we need from 2004-2023"
   ]
  },
  {
   "cell_type": "code",
   "execution_count": 35,
   "id": "1d2b6471",
   "metadata": {
    "scrolled": false
   },
   "outputs": [],
   "source": [
    "validate_completeness_of_data(player_play_by_play_in_regular_season_df,2004,2024)"
   ]
  },
  {
   "cell_type": "markdown",
   "id": "8a476945",
   "metadata": {},
   "source": [
    "###### Clean player names"
   ]
  },
  {
   "cell_type": "code",
   "execution_count": 36,
   "id": "1df73acd",
   "metadata": {
    "scrolled": false
   },
   "outputs": [
    {
     "name": "stderr",
     "output_type": "stream",
     "text": [
      "C:\\Users\\Carey\\AppData\\Local\\Temp\\ipykernel_35268\\102270080.py:4: FutureWarning: The default value of regex will change from True to False in a future version. In addition, single character regular expressions will *not* be treated as literal strings when regex=True.\n",
      "  dataframe[column_to_clean] = dataframe[column_to_clean].str.replace(\"*\",'')\n",
      "C:\\Users\\Carey\\AppData\\Local\\Temp\\ipykernel_35268\\102270080.py:5: FutureWarning: The default value of regex will change from True to False in a future version. In addition, single character regular expressions will *not* be treated as literal strings when regex=True.\n",
      "  dataframe[column_to_clean] = dataframe[column_to_clean].str.replace(\".\",'')\n"
     ]
    }
   ],
   "source": [
    "clean_column_values(player_play_by_play_in_regular_season_df,'Player')"
   ]
  },
  {
   "cell_type": "markdown",
   "id": "747e0610",
   "metadata": {},
   "source": [
    "###### Validate against dataframe"
   ]
  },
  {
   "cell_type": "code",
   "execution_count": 37,
   "id": "53e1c87e",
   "metadata": {
    "scrolled": false
   },
   "outputs": [],
   "source": [
    "validate_dataframes_using_column_values(player_play_by_play_in_regular_season_df,'-9999',basic_player_stats_regular_season_df,'Player-additional')"
   ]
  },
  {
   "cell_type": "markdown",
   "id": "9d80fd78",
   "metadata": {},
   "source": [
    "## Player Playoff Stats"
   ]
  },
  {
   "cell_type": "markdown",
   "id": "7e98266a",
   "metadata": {},
   "source": [
    "### BASIC PLAYER STATS IN PLAYOFFS. Compile yearly data into one dataframe\n",
    " <a class=\"anchor\" id=\"Step5\"></a>"
   ]
  },
  {
   "cell_type": "markdown",
   "id": "949f372c",
   "metadata": {},
   "source": [
    "#### Create dataframes of yearly data"
   ]
  },
  {
   "cell_type": "code",
   "execution_count": 38,
   "id": "2673f45f",
   "metadata": {
    "scrolled": false
   },
   "outputs": [
    {
     "data": {
      "text/html": [
       "<div>\n",
       "<style scoped>\n",
       "    .dataframe tbody tr th:only-of-type {\n",
       "        vertical-align: middle;\n",
       "    }\n",
       "\n",
       "    .dataframe tbody tr th {\n",
       "        vertical-align: top;\n",
       "    }\n",
       "\n",
       "    .dataframe thead th {\n",
       "        text-align: right;\n",
       "    }\n",
       "</style>\n",
       "<table border=\"1\" class=\"dataframe\">\n",
       "  <thead>\n",
       "    <tr style=\"text-align: right;\">\n",
       "      <th></th>\n",
       "      <th>Rk</th>\n",
       "      <th>Player</th>\n",
       "      <th>Pos</th>\n",
       "      <th>Age</th>\n",
       "      <th>Tm</th>\n",
       "      <th>G</th>\n",
       "      <th>GS</th>\n",
       "      <th>MP</th>\n",
       "      <th>FG</th>\n",
       "      <th>FGA</th>\n",
       "      <th>FG%</th>\n",
       "      <th>3P</th>\n",
       "      <th>3PA</th>\n",
       "      <th>3P%</th>\n",
       "      <th>2P</th>\n",
       "      <th>2PA</th>\n",
       "      <th>2P%</th>\n",
       "      <th>eFG%</th>\n",
       "      <th>FT</th>\n",
       "      <th>FTA</th>\n",
       "      <th>FT%</th>\n",
       "      <th>ORB</th>\n",
       "      <th>DRB</th>\n",
       "      <th>TRB</th>\n",
       "      <th>AST</th>\n",
       "      <th>STL</th>\n",
       "      <th>BLK</th>\n",
       "      <th>TOV</th>\n",
       "      <th>PF</th>\n",
       "      <th>PTS</th>\n",
       "      <th>Player-additional</th>\n",
       "      <th>Year</th>\n",
       "    </tr>\n",
       "  </thead>\n",
       "  <tbody>\n",
       "    <tr>\n",
       "      <th>0</th>\n",
       "      <td>1</td>\n",
       "      <td>Malik Allen</td>\n",
       "      <td>PF</td>\n",
       "      <td>25</td>\n",
       "      <td>MIA</td>\n",
       "      <td>10</td>\n",
       "      <td>0</td>\n",
       "      <td>13.8000</td>\n",
       "      <td>2.2000</td>\n",
       "      <td>4.9000</td>\n",
       "      <td>0.4490</td>\n",
       "      <td>0.0000</td>\n",
       "      <td>0.0000</td>\n",
       "      <td>NaN</td>\n",
       "      <td>2.2000</td>\n",
       "      <td>4.9000</td>\n",
       "      <td>0.4490</td>\n",
       "      <td>0.4490</td>\n",
       "      <td>0.6000</td>\n",
       "      <td>0.9000</td>\n",
       "      <td>0.6670</td>\n",
       "      <td>1.2000</td>\n",
       "      <td>1.8000</td>\n",
       "      <td>3.0000</td>\n",
       "      <td>0.4000</td>\n",
       "      <td>0.2000</td>\n",
       "      <td>0.9000</td>\n",
       "      <td>0.4000</td>\n",
       "      <td>2.1000</td>\n",
       "      <td>5.0000</td>\n",
       "      <td>allenma01</td>\n",
       "      <td>2004</td>\n",
       "    </tr>\n",
       "  </tbody>\n",
       "</table>\n",
       "</div>"
      ],
      "text/plain": [
       "   Rk       Player Pos  Age   Tm   G  GS      MP     FG    FGA    FG%     3P  \\\n",
       "0   1  Malik Allen  PF   25  MIA  10   0 13.8000 2.2000 4.9000 0.4490 0.0000   \n",
       "\n",
       "     3PA  3P%     2P    2PA    2P%   eFG%     FT    FTA    FT%    ORB    DRB  \\\n",
       "0 0.0000  NaN 2.2000 4.9000 0.4490 0.4490 0.6000 0.9000 0.6670 1.2000 1.8000   \n",
       "\n",
       "     TRB    AST    STL    BLK    TOV     PF    PTS Player-additional  Year  \n",
       "0 3.0000 0.4000 0.2000 0.9000 0.4000 2.1000 5.0000         allenma01  2004  "
      ]
     },
     "execution_count": 38,
     "metadata": {},
     "output_type": "execute_result"
    }
   ],
   "source": [
    "create_list_of_dataframes_for_yearly_stats(f'{source_data_path}\\\\Player Stats\\\\Playoffs\\\\NBA Basic Player Stats in Playoffs',0)"
   ]
  },
  {
   "cell_type": "markdown",
   "id": "1122e817",
   "metadata": {},
   "source": [
    "###### Validate that all of the yearly data files contain different data"
   ]
  },
  {
   "cell_type": "code",
   "execution_count": 39,
   "id": "d80ef9d4",
   "metadata": {
    "scrolled": false
   },
   "outputs": [],
   "source": [
    "check_all_unique_dataframes(master_df_list,'Year')"
   ]
  },
  {
   "cell_type": "markdown",
   "id": "cc570070",
   "metadata": {},
   "source": [
    "###### Validate that the column structure for every data frame is the same."
   ]
  },
  {
   "cell_type": "code",
   "execution_count": 40,
   "id": "c2be7c50",
   "metadata": {
    "scrolled": false
   },
   "outputs": [],
   "source": [
    "validate_column_structure_is_same(master_df_list)"
   ]
  },
  {
   "cell_type": "markdown",
   "id": "b566f3a0",
   "metadata": {},
   "source": [
    "###### Concat/combine yearly dataframes into one AND validate that the length of the combined dataframe is the same as the sum of the yearly dataframes"
   ]
  },
  {
   "cell_type": "code",
   "execution_count": 41,
   "id": "9fd1a102",
   "metadata": {
    "scrolled": false
   },
   "outputs": [],
   "source": [
    "concat_dataframes_and_validate_and_reset_index_and_sort('player_basic_playoff_stats_df',master_df_list,cumulative_row_counter)"
   ]
  },
  {
   "cell_type": "markdown",
   "id": "a750a8c7",
   "metadata": {},
   "source": [
    "###### Validate we have all of the data we need from 2004-2023"
   ]
  },
  {
   "cell_type": "code",
   "execution_count": 42,
   "id": "f54d5548",
   "metadata": {
    "scrolled": false
   },
   "outputs": [],
   "source": [
    "validate_completeness_of_data(player_basic_playoff_stats_df,2004,2024)"
   ]
  },
  {
   "cell_type": "markdown",
   "id": "e2212f59",
   "metadata": {},
   "source": [
    "###### Clean player names"
   ]
  },
  {
   "cell_type": "code",
   "execution_count": 43,
   "id": "49367782",
   "metadata": {
    "scrolled": false
   },
   "outputs": [
    {
     "name": "stderr",
     "output_type": "stream",
     "text": [
      "C:\\Users\\Carey\\AppData\\Local\\Temp\\ipykernel_35268\\102270080.py:4: FutureWarning: The default value of regex will change from True to False in a future version. In addition, single character regular expressions will *not* be treated as literal strings when regex=True.\n",
      "  dataframe[column_to_clean] = dataframe[column_to_clean].str.replace(\"*\",'')\n",
      "C:\\Users\\Carey\\AppData\\Local\\Temp\\ipykernel_35268\\102270080.py:5: FutureWarning: The default value of regex will change from True to False in a future version. In addition, single character regular expressions will *not* be treated as literal strings when regex=True.\n",
      "  dataframe[column_to_clean] = dataframe[column_to_clean].str.replace(\".\",'')\n"
     ]
    }
   ],
   "source": [
    "clean_column_values(player_basic_playoff_stats_df,'Player')"
   ]
  },
  {
   "cell_type": "markdown",
   "id": "79cc4fe0",
   "metadata": {},
   "source": [
    "###### Validate against dataframe"
   ]
  },
  {
   "cell_type": "code",
   "execution_count": 44,
   "id": "9bd10b74",
   "metadata": {
    "scrolled": false
   },
   "outputs": [],
   "source": [
    "# N/A"
   ]
  },
  {
   "cell_type": "markdown",
   "id": "cbc32943",
   "metadata": {},
   "source": [
    "### ADVANCED PLAYER STATS IN PLAYOFFS. Compile yearly data into one dataframe\n",
    " <a class=\"anchor\" id=\"Step6\"></a>"
   ]
  },
  {
   "cell_type": "markdown",
   "id": "01f6c569",
   "metadata": {},
   "source": [
    "#### Create dataframes of yearly data"
   ]
  },
  {
   "cell_type": "code",
   "execution_count": 45,
   "id": "81423355",
   "metadata": {
    "scrolled": false
   },
   "outputs": [
    {
     "data": {
      "text/html": [
       "<div>\n",
       "<style scoped>\n",
       "    .dataframe tbody tr th:only-of-type {\n",
       "        vertical-align: middle;\n",
       "    }\n",
       "\n",
       "    .dataframe tbody tr th {\n",
       "        vertical-align: top;\n",
       "    }\n",
       "\n",
       "    .dataframe thead th {\n",
       "        text-align: right;\n",
       "    }\n",
       "</style>\n",
       "<table border=\"1\" class=\"dataframe\">\n",
       "  <thead>\n",
       "    <tr style=\"text-align: right;\">\n",
       "      <th></th>\n",
       "      <th>Rk</th>\n",
       "      <th>Player</th>\n",
       "      <th>Pos</th>\n",
       "      <th>Age</th>\n",
       "      <th>Tm</th>\n",
       "      <th>G</th>\n",
       "      <th>MP</th>\n",
       "      <th>PER</th>\n",
       "      <th>TS%</th>\n",
       "      <th>3PAr</th>\n",
       "      <th>FTr</th>\n",
       "      <th>ORB%</th>\n",
       "      <th>DRB%</th>\n",
       "      <th>TRB%</th>\n",
       "      <th>AST%</th>\n",
       "      <th>STL%</th>\n",
       "      <th>BLK%</th>\n",
       "      <th>TOV%</th>\n",
       "      <th>USG%</th>\n",
       "      <th>Unnamed: 19</th>\n",
       "      <th>OWS</th>\n",
       "      <th>DWS</th>\n",
       "      <th>WS</th>\n",
       "      <th>WS/48</th>\n",
       "      <th>Unnamed: 24</th>\n",
       "      <th>OBPM</th>\n",
       "      <th>DBPM</th>\n",
       "      <th>BPM</th>\n",
       "      <th>VORP</th>\n",
       "      <th>Player-additional</th>\n",
       "      <th>Year</th>\n",
       "    </tr>\n",
       "  </thead>\n",
       "  <tbody>\n",
       "    <tr>\n",
       "      <th>0</th>\n",
       "      <td>1</td>\n",
       "      <td>Malik Allen</td>\n",
       "      <td>PF</td>\n",
       "      <td>25</td>\n",
       "      <td>MIA</td>\n",
       "      <td>10</td>\n",
       "      <td>138</td>\n",
       "      <td>16.1000</td>\n",
       "      <td>0.4720</td>\n",
       "      <td>0.0000</td>\n",
       "      <td>0.1840</td>\n",
       "      <td>10.0000</td>\n",
       "      <td>15.0000</td>\n",
       "      <td>12.5000</td>\n",
       "      <td>6.1000</td>\n",
       "      <td>0.8000</td>\n",
       "      <td>5.6000</td>\n",
       "      <td>7.0000</td>\n",
       "      <td>19.8000</td>\n",
       "      <td>NaN</td>\n",
       "      <td>0.2000</td>\n",
       "      <td>0.2000</td>\n",
       "      <td>0.4000</td>\n",
       "      <td>0.1310</td>\n",
       "      <td>NaN</td>\n",
       "      <td>-0.8000</td>\n",
       "      <td>1.0000</td>\n",
       "      <td>0.2000</td>\n",
       "      <td>0.1000</td>\n",
       "      <td>allenma01</td>\n",
       "      <td>2004</td>\n",
       "    </tr>\n",
       "  </tbody>\n",
       "</table>\n",
       "</div>"
      ],
      "text/plain": [
       "   Rk       Player Pos  Age   Tm   G   MP     PER    TS%   3PAr    FTr  \\\n",
       "0   1  Malik Allen  PF   25  MIA  10  138 16.1000 0.4720 0.0000 0.1840   \n",
       "\n",
       "     ORB%    DRB%    TRB%   AST%   STL%   BLK%   TOV%    USG%  Unnamed: 19  \\\n",
       "0 10.0000 15.0000 12.5000 6.1000 0.8000 5.6000 7.0000 19.8000          NaN   \n",
       "\n",
       "     OWS    DWS     WS  WS/48  Unnamed: 24    OBPM   DBPM    BPM   VORP  \\\n",
       "0 0.2000 0.2000 0.4000 0.1310          NaN -0.8000 1.0000 0.2000 0.1000   \n",
       "\n",
       "  Player-additional  Year  \n",
       "0         allenma01  2004  "
      ]
     },
     "execution_count": 45,
     "metadata": {},
     "output_type": "execute_result"
    }
   ],
   "source": [
    "create_list_of_dataframes_for_yearly_stats(f'{source_data_path}\\\\Player Stats\\\\Playoffs\\\\NBA Advanced Player Stats in Playoffs',0)"
   ]
  },
  {
   "cell_type": "markdown",
   "id": "c788c053",
   "metadata": {},
   "source": [
    "###### Validate that all of the yearly data files contain different data"
   ]
  },
  {
   "cell_type": "code",
   "execution_count": 46,
   "id": "de3b8310",
   "metadata": {
    "scrolled": false
   },
   "outputs": [],
   "source": [
    "check_all_unique_dataframes(master_df_list,'Year')"
   ]
  },
  {
   "cell_type": "markdown",
   "id": "5c282dad",
   "metadata": {},
   "source": [
    "###### Validate that the column structure for every data frame is the same."
   ]
  },
  {
   "cell_type": "code",
   "execution_count": 47,
   "id": "8ff68259",
   "metadata": {
    "scrolled": false
   },
   "outputs": [],
   "source": [
    "validate_column_structure_is_same(master_df_list)"
   ]
  },
  {
   "cell_type": "markdown",
   "id": "d21b3994",
   "metadata": {},
   "source": [
    "###### Concat/combine yearly dataframes into one AND validate that the length of the combined dataframe is the same as the sum of the yearly dataframes"
   ]
  },
  {
   "cell_type": "code",
   "execution_count": 48,
   "id": "a1d16590",
   "metadata": {
    "scrolled": false
   },
   "outputs": [],
   "source": [
    "concat_dataframes_and_validate_and_reset_index_and_sort('player_advanced_stats_in_playoffs_df',master_df_list,cumulative_row_counter)"
   ]
  },
  {
   "cell_type": "markdown",
   "id": "b501e536",
   "metadata": {},
   "source": [
    "###### Validate we have all of the data we need from 2004-2023"
   ]
  },
  {
   "cell_type": "code",
   "execution_count": 49,
   "id": "ce3c1dc1",
   "metadata": {
    "scrolled": false
   },
   "outputs": [],
   "source": [
    "validate_completeness_of_data(player_advanced_stats_in_playoffs_df,2004,2024)"
   ]
  },
  {
   "cell_type": "markdown",
   "id": "f392982c",
   "metadata": {},
   "source": [
    "###### Clean player names"
   ]
  },
  {
   "cell_type": "code",
   "execution_count": 50,
   "id": "740a3608",
   "metadata": {
    "scrolled": false
   },
   "outputs": [
    {
     "name": "stderr",
     "output_type": "stream",
     "text": [
      "C:\\Users\\Carey\\AppData\\Local\\Temp\\ipykernel_35268\\102270080.py:4: FutureWarning: The default value of regex will change from True to False in a future version. In addition, single character regular expressions will *not* be treated as literal strings when regex=True.\n",
      "  dataframe[column_to_clean] = dataframe[column_to_clean].str.replace(\"*\",'')\n",
      "C:\\Users\\Carey\\AppData\\Local\\Temp\\ipykernel_35268\\102270080.py:5: FutureWarning: The default value of regex will change from True to False in a future version. In addition, single character regular expressions will *not* be treated as literal strings when regex=True.\n",
      "  dataframe[column_to_clean] = dataframe[column_to_clean].str.replace(\".\",'')\n"
     ]
    }
   ],
   "source": [
    "clean_column_values(player_advanced_stats_in_playoffs_df,'Player')"
   ]
  },
  {
   "cell_type": "markdown",
   "id": "4b7c9dcf",
   "metadata": {},
   "source": [
    "###### Validate against dataframe"
   ]
  },
  {
   "cell_type": "code",
   "execution_count": 51,
   "id": "0d451db9",
   "metadata": {
    "scrolled": false
   },
   "outputs": [],
   "source": [
    "validate_dataframes_using_column_values(player_advanced_stats_in_playoffs_df,'Player-additional',player_basic_playoff_stats_df,'Player-additional')"
   ]
  },
  {
   "cell_type": "markdown",
   "id": "f1c8c767",
   "metadata": {},
   "source": [
    "### PLAYER SHOOTING STATS IN PLAYOFFS. Compile yearly data into one dataframe\n",
    " <a class=\"anchor\" id=\"Step7\"></a>"
   ]
  },
  {
   "cell_type": "markdown",
   "id": "33e78baa",
   "metadata": {},
   "source": [
    "#### Create dataframes of yearly data"
   ]
  },
  {
   "cell_type": "code",
   "execution_count": 52,
   "id": "234aa0c2",
   "metadata": {
    "scrolled": false
   },
   "outputs": [
    {
     "data": {
      "text/html": [
       "<div>\n",
       "<style scoped>\n",
       "    .dataframe tbody tr th:only-of-type {\n",
       "        vertical-align: middle;\n",
       "    }\n",
       "\n",
       "    .dataframe tbody tr th {\n",
       "        vertical-align: top;\n",
       "    }\n",
       "\n",
       "    .dataframe thead th {\n",
       "        text-align: right;\n",
       "    }\n",
       "</style>\n",
       "<table border=\"1\" class=\"dataframe\">\n",
       "  <thead>\n",
       "    <tr style=\"text-align: right;\">\n",
       "      <th></th>\n",
       "      <th>Rk</th>\n",
       "      <th>Player</th>\n",
       "      <th>Pos</th>\n",
       "      <th>Age</th>\n",
       "      <th>Tm</th>\n",
       "      <th>G</th>\n",
       "      <th>MP</th>\n",
       "      <th>FG%</th>\n",
       "      <th>Dist.</th>\n",
       "      <th>Unnamed: 9</th>\n",
       "      <th>2P</th>\n",
       "      <th>0-3</th>\n",
       "      <th>3-10</th>\n",
       "      <th>10-16</th>\n",
       "      <th>16-3P</th>\n",
       "      <th>3P</th>\n",
       "      <th>Unnamed: 16</th>\n",
       "      <th>2P.1</th>\n",
       "      <th>0-3.1</th>\n",
       "      <th>3-10.1</th>\n",
       "      <th>10-16.1</th>\n",
       "      <th>16-3P.1</th>\n",
       "      <th>3P.1</th>\n",
       "      <th>Unnamed: 23</th>\n",
       "      <th>2P.2</th>\n",
       "      <th>3P.2</th>\n",
       "      <th>Unnamed: 26</th>\n",
       "      <th>%FGA</th>\n",
       "      <th>#</th>\n",
       "      <th>Unnamed: 29</th>\n",
       "      <th>%3PA</th>\n",
       "      <th>3P%</th>\n",
       "      <th>Unnamed: 32</th>\n",
       "      <th>Att.</th>\n",
       "      <th>#.1</th>\n",
       "      <th>-9999</th>\n",
       "      <th>Year</th>\n",
       "    </tr>\n",
       "  </thead>\n",
       "  <tbody>\n",
       "    <tr>\n",
       "      <th>0</th>\n",
       "      <td>1</td>\n",
       "      <td>Malik Allen</td>\n",
       "      <td>PF</td>\n",
       "      <td>25</td>\n",
       "      <td>MIA</td>\n",
       "      <td>10</td>\n",
       "      <td>138</td>\n",
       "      <td>0.4490</td>\n",
       "      <td>10.6000</td>\n",
       "      <td>NaN</td>\n",
       "      <td>1.0000</td>\n",
       "      <td>0.2040</td>\n",
       "      <td>0.2450</td>\n",
       "      <td>0.1840</td>\n",
       "      <td>0.3670</td>\n",
       "      <td>0.0000</td>\n",
       "      <td>NaN</td>\n",
       "      <td>0.4490</td>\n",
       "      <td>0.5000</td>\n",
       "      <td>0.6670</td>\n",
       "      <td>0.2220</td>\n",
       "      <td>0.3890</td>\n",
       "      <td>NaN</td>\n",
       "      <td>NaN</td>\n",
       "      <td>0.5910</td>\n",
       "      <td>NaN</td>\n",
       "      <td>NaN</td>\n",
       "      <td>0.0000</td>\n",
       "      <td>0</td>\n",
       "      <td>NaN</td>\n",
       "      <td>NaN</td>\n",
       "      <td>NaN</td>\n",
       "      <td>NaN</td>\n",
       "      <td>0</td>\n",
       "      <td>0</td>\n",
       "      <td>allenma01</td>\n",
       "      <td>2004</td>\n",
       "    </tr>\n",
       "  </tbody>\n",
       "</table>\n",
       "</div>"
      ],
      "text/plain": [
       "   Rk       Player Pos  Age   Tm   G   MP    FG%   Dist.  Unnamed: 9     2P  \\\n",
       "0   1  Malik Allen  PF   25  MIA  10  138 0.4490 10.6000         NaN 1.0000   \n",
       "\n",
       "     0-3   3-10  10-16  16-3P     3P  Unnamed: 16   2P.1  0-3.1  3-10.1  \\\n",
       "0 0.2040 0.2450 0.1840 0.3670 0.0000          NaN 0.4490 0.5000  0.6670   \n",
       "\n",
       "   10-16.1  16-3P.1  3P.1  Unnamed: 23   2P.2  3P.2  Unnamed: 26   %FGA  #  \\\n",
       "0   0.2220   0.3890   NaN          NaN 0.5910   NaN          NaN 0.0000  0   \n",
       "\n",
       "   Unnamed: 29  %3PA  3P%  Unnamed: 32  Att.  #.1      -9999  Year  \n",
       "0          NaN   NaN  NaN          NaN     0    0  allenma01  2004  "
      ]
     },
     "execution_count": 52,
     "metadata": {},
     "output_type": "execute_result"
    }
   ],
   "source": [
    "create_list_of_dataframes_for_yearly_stats(f'{source_data_path}\\\\Player Stats\\\\Playoffs\\\\NBA Player Shooting',1)"
   ]
  },
  {
   "cell_type": "markdown",
   "id": "895bb187",
   "metadata": {},
   "source": [
    "###### Validate that all of the yearly data files contain different data"
   ]
  },
  {
   "cell_type": "code",
   "execution_count": 53,
   "id": "08693fe0",
   "metadata": {
    "scrolled": false
   },
   "outputs": [],
   "source": [
    "check_all_unique_dataframes(master_df_list,'Year')"
   ]
  },
  {
   "cell_type": "markdown",
   "id": "cb0cda1a",
   "metadata": {},
   "source": [
    "###### Validate that the column structure for every data frame is the same."
   ]
  },
  {
   "cell_type": "code",
   "execution_count": 54,
   "id": "7138ddf1",
   "metadata": {
    "scrolled": false
   },
   "outputs": [],
   "source": [
    "validate_column_structure_is_same(master_df_list)"
   ]
  },
  {
   "cell_type": "markdown",
   "id": "c04071cb",
   "metadata": {},
   "source": [
    "###### Concat/combine yearly dataframes into one AND validate that the length of the combined dataframe is the same as the sum of the yearly dataframes"
   ]
  },
  {
   "cell_type": "code",
   "execution_count": 55,
   "id": "6e3487a1",
   "metadata": {
    "scrolled": false
   },
   "outputs": [],
   "source": [
    "concat_dataframes_and_validate_and_reset_index_and_sort('player_shooting_stats_in_playoffs_df',master_df_list,cumulative_row_counter)"
   ]
  },
  {
   "cell_type": "markdown",
   "id": "9ea77dba",
   "metadata": {},
   "source": [
    "###### Validate we have all of the data we need from 2004-2023"
   ]
  },
  {
   "cell_type": "code",
   "execution_count": 56,
   "id": "81c83124",
   "metadata": {
    "scrolled": false
   },
   "outputs": [],
   "source": [
    "validate_completeness_of_data(player_shooting_stats_in_playoffs_df,2004,2024)"
   ]
  },
  {
   "cell_type": "markdown",
   "id": "eea72604",
   "metadata": {},
   "source": [
    "###### Clean player names"
   ]
  },
  {
   "cell_type": "code",
   "execution_count": 57,
   "id": "00612adb",
   "metadata": {
    "scrolled": false
   },
   "outputs": [
    {
     "name": "stderr",
     "output_type": "stream",
     "text": [
      "C:\\Users\\Carey\\AppData\\Local\\Temp\\ipykernel_35268\\102270080.py:4: FutureWarning: The default value of regex will change from True to False in a future version. In addition, single character regular expressions will *not* be treated as literal strings when regex=True.\n",
      "  dataframe[column_to_clean] = dataframe[column_to_clean].str.replace(\"*\",'')\n",
      "C:\\Users\\Carey\\AppData\\Local\\Temp\\ipykernel_35268\\102270080.py:5: FutureWarning: The default value of regex will change from True to False in a future version. In addition, single character regular expressions will *not* be treated as literal strings when regex=True.\n",
      "  dataframe[column_to_clean] = dataframe[column_to_clean].str.replace(\".\",'')\n"
     ]
    }
   ],
   "source": [
    "clean_column_values(player_shooting_stats_in_playoffs_df,'Player')"
   ]
  },
  {
   "cell_type": "markdown",
   "id": "9cde9808",
   "metadata": {},
   "source": [
    "###### Validate against dataframe"
   ]
  },
  {
   "cell_type": "code",
   "execution_count": 58,
   "id": "0068428b",
   "metadata": {
    "scrolled": false
   },
   "outputs": [],
   "source": [
    "validate_dataframes_using_column_values(player_shooting_stats_in_playoffs_df,'-9999',player_basic_playoff_stats_df,'Player-additional')"
   ]
  },
  {
   "cell_type": "markdown",
   "id": "3de55744",
   "metadata": {},
   "source": [
    "### PLAYER PLAY-BY-PLAY STATS IN PLAYOFFS. Compile yearly data into one dataframe\n",
    " <a class=\"anchor\" id=\"Step8\"></a>"
   ]
  },
  {
   "cell_type": "markdown",
   "id": "654da38e",
   "metadata": {},
   "source": [
    "#### Create dataframes of yearly data"
   ]
  },
  {
   "cell_type": "code",
   "execution_count": 59,
   "id": "3b7e259b",
   "metadata": {
    "scrolled": false
   },
   "outputs": [
    {
     "data": {
      "text/html": [
       "<div>\n",
       "<style scoped>\n",
       "    .dataframe tbody tr th:only-of-type {\n",
       "        vertical-align: middle;\n",
       "    }\n",
       "\n",
       "    .dataframe tbody tr th {\n",
       "        vertical-align: top;\n",
       "    }\n",
       "\n",
       "    .dataframe thead th {\n",
       "        text-align: right;\n",
       "    }\n",
       "</style>\n",
       "<table border=\"1\" class=\"dataframe\">\n",
       "  <thead>\n",
       "    <tr style=\"text-align: right;\">\n",
       "      <th></th>\n",
       "      <th>Rk</th>\n",
       "      <th>Player</th>\n",
       "      <th>Pos</th>\n",
       "      <th>Age</th>\n",
       "      <th>Tm</th>\n",
       "      <th>G</th>\n",
       "      <th>MP</th>\n",
       "      <th>PG%</th>\n",
       "      <th>SG%</th>\n",
       "      <th>SF%</th>\n",
       "      <th>PF%</th>\n",
       "      <th>C%</th>\n",
       "      <th>OnCourt</th>\n",
       "      <th>On-Off</th>\n",
       "      <th>BadPass</th>\n",
       "      <th>LostBall</th>\n",
       "      <th>Shoot</th>\n",
       "      <th>Off.</th>\n",
       "      <th>Shoot.1</th>\n",
       "      <th>Off..1</th>\n",
       "      <th>PGA</th>\n",
       "      <th>And1</th>\n",
       "      <th>Blkd</th>\n",
       "      <th>-9999</th>\n",
       "      <th>Year</th>\n",
       "    </tr>\n",
       "  </thead>\n",
       "  <tbody>\n",
       "    <tr>\n",
       "      <th>0</th>\n",
       "      <td>1</td>\n",
       "      <td>Malik Allen</td>\n",
       "      <td>PF</td>\n",
       "      <td>25</td>\n",
       "      <td>MIA</td>\n",
       "      <td>10</td>\n",
       "      <td>138</td>\n",
       "      <td>NaN</td>\n",
       "      <td>NaN</td>\n",
       "      <td>2%</td>\n",
       "      <td>27%</td>\n",
       "      <td>71%</td>\n",
       "      <td>8.4000</td>\n",
       "      <td>10.6000</td>\n",
       "      <td>1</td>\n",
       "      <td>2</td>\n",
       "      <td>9</td>\n",
       "      <td>1</td>\n",
       "      <td>4</td>\n",
       "      <td>NaN</td>\n",
       "      <td>8</td>\n",
       "      <td>1</td>\n",
       "      <td>4</td>\n",
       "      <td>allenma01</td>\n",
       "      <td>2004</td>\n",
       "    </tr>\n",
       "  </tbody>\n",
       "</table>\n",
       "</div>"
      ],
      "text/plain": [
       "   Rk       Player Pos  Age   Tm   G   MP  PG%  SG% SF%  PF%   C%  OnCourt  \\\n",
       "0   1  Malik Allen  PF   25  MIA  10  138  NaN  NaN  2%  27%  71%   8.4000   \n",
       "\n",
       "   On-Off  BadPass  LostBall  Shoot  Off.  Shoot.1  Off..1  PGA  And1  Blkd  \\\n",
       "0 10.6000        1         2      9     1        4     NaN    8     1     4   \n",
       "\n",
       "       -9999  Year  \n",
       "0  allenma01  2004  "
      ]
     },
     "execution_count": 59,
     "metadata": {},
     "output_type": "execute_result"
    }
   ],
   "source": [
    "create_list_of_dataframes_for_yearly_stats(f'{source_data_path}\\\\Player Stats\\\\Playoffs\\\\NBA Player Play by Play',1)"
   ]
  },
  {
   "cell_type": "markdown",
   "id": "a2fdf78c",
   "metadata": {},
   "source": [
    "###### Validate that all of the yearly data files contain different data"
   ]
  },
  {
   "cell_type": "code",
   "execution_count": 60,
   "id": "6938f129",
   "metadata": {
    "scrolled": false
   },
   "outputs": [],
   "source": [
    "check_all_unique_dataframes(master_df_list,'Year')"
   ]
  },
  {
   "cell_type": "markdown",
   "id": "d20255fb",
   "metadata": {},
   "source": [
    "###### Validate that the column structure for every data frame is the same."
   ]
  },
  {
   "cell_type": "code",
   "execution_count": 61,
   "id": "3c319ea8",
   "metadata": {
    "scrolled": false
   },
   "outputs": [],
   "source": [
    "validate_column_structure_is_same(master_df_list)"
   ]
  },
  {
   "cell_type": "markdown",
   "id": "9fb1ced2",
   "metadata": {},
   "source": [
    "###### Concat/combine yearly dataframes into one AND validate that the length of the combined dataframe is the same as the sum of the yearly dataframes"
   ]
  },
  {
   "cell_type": "code",
   "execution_count": 62,
   "id": "3e9696c7",
   "metadata": {
    "scrolled": false
   },
   "outputs": [],
   "source": [
    "concat_dataframes_and_validate_and_reset_index_and_sort('player_play_by_play_stats_in_playoffs_df',master_df_list,cumulative_row_counter)"
   ]
  },
  {
   "cell_type": "markdown",
   "id": "36185480",
   "metadata": {},
   "source": [
    "###### Validate we have all of the data we need from 2004-2023"
   ]
  },
  {
   "cell_type": "code",
   "execution_count": 63,
   "id": "9375eb85",
   "metadata": {
    "scrolled": false
   },
   "outputs": [],
   "source": [
    "validate_completeness_of_data(player_play_by_play_stats_in_playoffs_df,2004,2024)"
   ]
  },
  {
   "cell_type": "markdown",
   "id": "c80877ce",
   "metadata": {},
   "source": [
    "###### Clean player names"
   ]
  },
  {
   "cell_type": "code",
   "execution_count": 64,
   "id": "2189336f",
   "metadata": {
    "scrolled": false
   },
   "outputs": [
    {
     "name": "stderr",
     "output_type": "stream",
     "text": [
      "C:\\Users\\Carey\\AppData\\Local\\Temp\\ipykernel_35268\\102270080.py:4: FutureWarning: The default value of regex will change from True to False in a future version. In addition, single character regular expressions will *not* be treated as literal strings when regex=True.\n",
      "  dataframe[column_to_clean] = dataframe[column_to_clean].str.replace(\"*\",'')\n",
      "C:\\Users\\Carey\\AppData\\Local\\Temp\\ipykernel_35268\\102270080.py:5: FutureWarning: The default value of regex will change from True to False in a future version. In addition, single character regular expressions will *not* be treated as literal strings when regex=True.\n",
      "  dataframe[column_to_clean] = dataframe[column_to_clean].str.replace(\".\",'')\n"
     ]
    }
   ],
   "source": [
    "clean_column_values(player_play_by_play_stats_in_playoffs_df,'Player')"
   ]
  },
  {
   "cell_type": "markdown",
   "id": "46e4dfe9",
   "metadata": {},
   "source": [
    "###### Validate against dataframe"
   ]
  },
  {
   "cell_type": "code",
   "execution_count": 65,
   "id": "60c6d3e7",
   "metadata": {
    "scrolled": false
   },
   "outputs": [],
   "source": [
    "validate_dataframes_using_column_values(player_play_by_play_stats_in_playoffs_df,'-9999',player_basic_playoff_stats_df,'Player-additional')"
   ]
  },
  {
   "cell_type": "markdown",
   "id": "d24ce228",
   "metadata": {},
   "source": [
    "## AWARD VOTING HISTORY. For each award, compile yearly data into one dataframe\n",
    " <a class=\"anchor\" id=\"Step9\"></a>"
   ]
  },
  {
   "cell_type": "markdown",
   "id": "b97bf762",
   "metadata": {},
   "source": [
    "### MVP. Compile yearly data into one dataframe"
   ]
  },
  {
   "cell_type": "markdown",
   "id": "efe298b1",
   "metadata": {},
   "source": [
    "#### Create dataframes of yearly data"
   ]
  },
  {
   "cell_type": "code",
   "execution_count": 66,
   "id": "ecf33326",
   "metadata": {
    "scrolled": false
   },
   "outputs": [
    {
     "data": {
      "text/html": [
       "<div>\n",
       "<style scoped>\n",
       "    .dataframe tbody tr th:only-of-type {\n",
       "        vertical-align: middle;\n",
       "    }\n",
       "\n",
       "    .dataframe tbody tr th {\n",
       "        vertical-align: top;\n",
       "    }\n",
       "\n",
       "    .dataframe thead th {\n",
       "        text-align: right;\n",
       "    }\n",
       "</style>\n",
       "<table border=\"1\" class=\"dataframe\">\n",
       "  <thead>\n",
       "    <tr style=\"text-align: right;\">\n",
       "      <th></th>\n",
       "      <th>Rank</th>\n",
       "      <th>Player</th>\n",
       "      <th>Age</th>\n",
       "      <th>Tm</th>\n",
       "      <th>First</th>\n",
       "      <th>Pts Won</th>\n",
       "      <th>Pts Max</th>\n",
       "      <th>Share</th>\n",
       "      <th>G</th>\n",
       "      <th>MP</th>\n",
       "      <th>PTS</th>\n",
       "      <th>TRB</th>\n",
       "      <th>AST</th>\n",
       "      <th>STL</th>\n",
       "      <th>BLK</th>\n",
       "      <th>FG%</th>\n",
       "      <th>3P%</th>\n",
       "      <th>FT%</th>\n",
       "      <th>WS</th>\n",
       "      <th>WS/48</th>\n",
       "      <th>-9999</th>\n",
       "      <th>Year</th>\n",
       "    </tr>\n",
       "  </thead>\n",
       "  <tbody>\n",
       "    <tr>\n",
       "      <th>0</th>\n",
       "      <td>1</td>\n",
       "      <td>Kevin Garnett</td>\n",
       "      <td>27</td>\n",
       "      <td>MIN</td>\n",
       "      <td>120.0000</td>\n",
       "      <td>1219.0000</td>\n",
       "      <td>1230</td>\n",
       "      <td>0.9910</td>\n",
       "      <td>82</td>\n",
       "      <td>39.4000</td>\n",
       "      <td>24.2000</td>\n",
       "      <td>13.9000</td>\n",
       "      <td>5.0000</td>\n",
       "      <td>1.5000</td>\n",
       "      <td>2.2000</td>\n",
       "      <td>0.4990</td>\n",
       "      <td>0.2560</td>\n",
       "      <td>0.7910</td>\n",
       "      <td>18.3000</td>\n",
       "      <td>0.2720</td>\n",
       "      <td>garneke01</td>\n",
       "      <td>2004</td>\n",
       "    </tr>\n",
       "  </tbody>\n",
       "</table>\n",
       "</div>"
      ],
      "text/plain": [
       "  Rank         Player  Age   Tm    First   Pts Won  Pts Max  Share   G  \\\n",
       "0    1  Kevin Garnett   27  MIN 120.0000 1219.0000     1230 0.9910  82   \n",
       "\n",
       "       MP     PTS     TRB    AST    STL    BLK    FG%    3P%    FT%      WS  \\\n",
       "0 39.4000 24.2000 13.9000 5.0000 1.5000 2.2000 0.4990 0.2560 0.7910 18.3000   \n",
       "\n",
       "   WS/48      -9999  Year  \n",
       "0 0.2720  garneke01  2004  "
      ]
     },
     "execution_count": 66,
     "metadata": {},
     "output_type": "execute_result"
    }
   ],
   "source": [
    "create_list_of_dataframes_for_yearly_stats(f'{source_data_path}\\\\NBA Player Awards\\\\MVP',1)"
   ]
  },
  {
   "cell_type": "markdown",
   "id": "643cb668",
   "metadata": {},
   "source": [
    "###### Validate that all of the yearly data files contain different data"
   ]
  },
  {
   "cell_type": "code",
   "execution_count": 67,
   "id": "92ce4fb7",
   "metadata": {
    "scrolled": false
   },
   "outputs": [],
   "source": [
    "check_all_unique_dataframes(master_df_list,'Year')"
   ]
  },
  {
   "cell_type": "markdown",
   "id": "2fff6208",
   "metadata": {},
   "source": [
    "###### Validate that the column structure for every data frame is the same."
   ]
  },
  {
   "cell_type": "code",
   "execution_count": 68,
   "id": "ab4c43f1",
   "metadata": {
    "scrolled": false
   },
   "outputs": [],
   "source": [
    "validate_column_structure_is_same(master_df_list)"
   ]
  },
  {
   "cell_type": "markdown",
   "id": "1c0b566d",
   "metadata": {},
   "source": [
    "###### Concat/combine yearly dataframes into one AND validate that the length of the combined dataframe is the same as the sum of the yearly dataframes"
   ]
  },
  {
   "cell_type": "code",
   "execution_count": 69,
   "id": "6e53948b",
   "metadata": {
    "scrolled": false
   },
   "outputs": [],
   "source": [
    "concat_dataframes_and_validate_and_reset_index_and_sort('mvp_vote_df',master_df_list,cumulative_row_counter)"
   ]
  },
  {
   "cell_type": "markdown",
   "id": "91ed03f0",
   "metadata": {},
   "source": [
    "###### Validate we have all of the data we need from 2004-2023"
   ]
  },
  {
   "cell_type": "code",
   "execution_count": 70,
   "id": "da3d6c11",
   "metadata": {
    "scrolled": false
   },
   "outputs": [],
   "source": [
    "validate_completeness_of_data(mvp_vote_df,2004,2024)"
   ]
  },
  {
   "cell_type": "markdown",
   "id": "e7f0e1b8",
   "metadata": {},
   "source": [
    "###### Clean player names"
   ]
  },
  {
   "cell_type": "code",
   "execution_count": 71,
   "id": "b7056bb7",
   "metadata": {
    "scrolled": false
   },
   "outputs": [
    {
     "name": "stderr",
     "output_type": "stream",
     "text": [
      "C:\\Users\\Carey\\AppData\\Local\\Temp\\ipykernel_35268\\102270080.py:4: FutureWarning: The default value of regex will change from True to False in a future version. In addition, single character regular expressions will *not* be treated as literal strings when regex=True.\n",
      "  dataframe[column_to_clean] = dataframe[column_to_clean].str.replace(\"*\",'')\n",
      "C:\\Users\\Carey\\AppData\\Local\\Temp\\ipykernel_35268\\102270080.py:5: FutureWarning: The default value of regex will change from True to False in a future version. In addition, single character regular expressions will *not* be treated as literal strings when regex=True.\n",
      "  dataframe[column_to_clean] = dataframe[column_to_clean].str.replace(\".\",'')\n"
     ]
    }
   ],
   "source": [
    "clean_column_values(mvp_vote_df,'Player')"
   ]
  },
  {
   "cell_type": "markdown",
   "id": "0564a9ac",
   "metadata": {},
   "source": [
    "###### Validate against dataframe"
   ]
  },
  {
   "cell_type": "code",
   "execution_count": 72,
   "id": "e0039674",
   "metadata": {
    "scrolled": false
   },
   "outputs": [],
   "source": [
    "validate_dataframes_using_column_values(mvp_vote_df,'-9999',basic_player_stats_regular_season_df,'Player-additional')"
   ]
  },
  {
   "cell_type": "markdown",
   "id": "af32483f",
   "metadata": {},
   "source": [
    "### ROY. Compile yearly data into one dataframe"
   ]
  },
  {
   "cell_type": "markdown",
   "id": "383a8496",
   "metadata": {},
   "source": [
    "#### Create dataframes of yearly data"
   ]
  },
  {
   "cell_type": "code",
   "execution_count": 73,
   "id": "91f58f58",
   "metadata": {
    "scrolled": false
   },
   "outputs": [
    {
     "data": {
      "text/html": [
       "<div>\n",
       "<style scoped>\n",
       "    .dataframe tbody tr th:only-of-type {\n",
       "        vertical-align: middle;\n",
       "    }\n",
       "\n",
       "    .dataframe tbody tr th {\n",
       "        vertical-align: top;\n",
       "    }\n",
       "\n",
       "    .dataframe thead th {\n",
       "        text-align: right;\n",
       "    }\n",
       "</style>\n",
       "<table border=\"1\" class=\"dataframe\">\n",
       "  <thead>\n",
       "    <tr style=\"text-align: right;\">\n",
       "      <th></th>\n",
       "      <th>Rank</th>\n",
       "      <th>Player</th>\n",
       "      <th>Age</th>\n",
       "      <th>Tm</th>\n",
       "      <th>First</th>\n",
       "      <th>Pts Won</th>\n",
       "      <th>Pts Max</th>\n",
       "      <th>Share</th>\n",
       "      <th>G</th>\n",
       "      <th>MP</th>\n",
       "      <th>PTS</th>\n",
       "      <th>TRB</th>\n",
       "      <th>AST</th>\n",
       "      <th>STL</th>\n",
       "      <th>BLK</th>\n",
       "      <th>FG%</th>\n",
       "      <th>3P%</th>\n",
       "      <th>FT%</th>\n",
       "      <th>WS</th>\n",
       "      <th>WS/48</th>\n",
       "      <th>-9999</th>\n",
       "      <th>Year</th>\n",
       "    </tr>\n",
       "  </thead>\n",
       "  <tbody>\n",
       "    <tr>\n",
       "      <th>0</th>\n",
       "      <td>1</td>\n",
       "      <td>LeBron James</td>\n",
       "      <td>19</td>\n",
       "      <td>CLE</td>\n",
       "      <td>78.0000</td>\n",
       "      <td>508.0000</td>\n",
       "      <td>590</td>\n",
       "      <td>0.8610</td>\n",
       "      <td>79</td>\n",
       "      <td>39.5000</td>\n",
       "      <td>20.9000</td>\n",
       "      <td>5.5000</td>\n",
       "      <td>5.9000</td>\n",
       "      <td>1.6000</td>\n",
       "      <td>0.7000</td>\n",
       "      <td>0.4170</td>\n",
       "      <td>0.2900</td>\n",
       "      <td>0.7540</td>\n",
       "      <td>5.1000</td>\n",
       "      <td>0.0780</td>\n",
       "      <td>jamesle01</td>\n",
       "      <td>2004</td>\n",
       "    </tr>\n",
       "  </tbody>\n",
       "</table>\n",
       "</div>"
      ],
      "text/plain": [
       "   Rank        Player  Age   Tm   First  Pts Won  Pts Max  Share   G      MP  \\\n",
       "0     1  LeBron James   19  CLE 78.0000 508.0000      590 0.8610  79 39.5000   \n",
       "\n",
       "      PTS    TRB    AST    STL    BLK    FG%    3P%    FT%     WS  WS/48  \\\n",
       "0 20.9000 5.5000 5.9000 1.6000 0.7000 0.4170 0.2900 0.7540 5.1000 0.0780   \n",
       "\n",
       "       -9999  Year  \n",
       "0  jamesle01  2004  "
      ]
     },
     "execution_count": 73,
     "metadata": {},
     "output_type": "execute_result"
    }
   ],
   "source": [
    "create_list_of_dataframes_for_yearly_stats(f'{source_data_path}\\\\NBA Player Awards\\\\ROY',1)"
   ]
  },
  {
   "cell_type": "markdown",
   "id": "a7a76d89",
   "metadata": {},
   "source": [
    "###### Validate that all of the yearly data files contain different data"
   ]
  },
  {
   "cell_type": "code",
   "execution_count": 74,
   "id": "b02d5898",
   "metadata": {
    "scrolled": false
   },
   "outputs": [],
   "source": [
    "check_all_unique_dataframes(master_df_list,'Year')"
   ]
  },
  {
   "cell_type": "markdown",
   "id": "981c333c",
   "metadata": {},
   "source": [
    "###### Validate that the column structure for every data frame is the same."
   ]
  },
  {
   "cell_type": "code",
   "execution_count": 75,
   "id": "2be8fbc4",
   "metadata": {
    "scrolled": false
   },
   "outputs": [],
   "source": [
    "validate_column_structure_is_same(master_df_list)"
   ]
  },
  {
   "cell_type": "markdown",
   "id": "4f965ab9",
   "metadata": {},
   "source": [
    "###### Concat/combine yearly dataframes into one AND validate that the length of the combined dataframe is the same as the sum of the yearly dataframes"
   ]
  },
  {
   "cell_type": "code",
   "execution_count": 76,
   "id": "41c8525a",
   "metadata": {
    "scrolled": false
   },
   "outputs": [],
   "source": [
    "concat_dataframes_and_validate_and_reset_index_and_sort('roy_vote_df',master_df_list,cumulative_row_counter)"
   ]
  },
  {
   "cell_type": "markdown",
   "id": "81021e70",
   "metadata": {},
   "source": [
    "###### Validate we have all of the data we need from 2004-2023"
   ]
  },
  {
   "cell_type": "code",
   "execution_count": 77,
   "id": "dddc9a7f",
   "metadata": {
    "scrolled": false
   },
   "outputs": [],
   "source": [
    "validate_completeness_of_data(roy_vote_df,2004,2024)"
   ]
  },
  {
   "cell_type": "markdown",
   "id": "1544672f",
   "metadata": {},
   "source": [
    "###### Clean player names"
   ]
  },
  {
   "cell_type": "code",
   "execution_count": 78,
   "id": "5a0f537f",
   "metadata": {
    "scrolled": false
   },
   "outputs": [
    {
     "name": "stderr",
     "output_type": "stream",
     "text": [
      "C:\\Users\\Carey\\AppData\\Local\\Temp\\ipykernel_35268\\102270080.py:4: FutureWarning: The default value of regex will change from True to False in a future version. In addition, single character regular expressions will *not* be treated as literal strings when regex=True.\n",
      "  dataframe[column_to_clean] = dataframe[column_to_clean].str.replace(\"*\",'')\n",
      "C:\\Users\\Carey\\AppData\\Local\\Temp\\ipykernel_35268\\102270080.py:5: FutureWarning: The default value of regex will change from True to False in a future version. In addition, single character regular expressions will *not* be treated as literal strings when regex=True.\n",
      "  dataframe[column_to_clean] = dataframe[column_to_clean].str.replace(\".\",'')\n"
     ]
    }
   ],
   "source": [
    "clean_column_values(roy_vote_df,'Player')"
   ]
  },
  {
   "cell_type": "markdown",
   "id": "d8b64244",
   "metadata": {},
   "source": [
    "###### Validate against dataframe"
   ]
  },
  {
   "cell_type": "code",
   "execution_count": 79,
   "id": "d447d4f0",
   "metadata": {
    "scrolled": false
   },
   "outputs": [],
   "source": [
    "validate_dataframes_using_column_values(roy_vote_df,'-9999',basic_player_stats_regular_season_df,'Player-additional')"
   ]
  },
  {
   "cell_type": "markdown",
   "id": "35172377",
   "metadata": {},
   "source": [
    "### ALL NBA. Compile yearly data into one dataframe"
   ]
  },
  {
   "cell_type": "markdown",
   "id": "2705f367",
   "metadata": {},
   "source": [
    "#### Create dataframes of yearly data"
   ]
  },
  {
   "cell_type": "code",
   "execution_count": 80,
   "id": "e21a16a5",
   "metadata": {
    "scrolled": false
   },
   "outputs": [
    {
     "data": {
      "text/html": [
       "<div>\n",
       "<style scoped>\n",
       "    .dataframe tbody tr th:only-of-type {\n",
       "        vertical-align: middle;\n",
       "    }\n",
       "\n",
       "    .dataframe tbody tr th {\n",
       "        vertical-align: top;\n",
       "    }\n",
       "\n",
       "    .dataframe thead th {\n",
       "        text-align: right;\n",
       "    }\n",
       "</style>\n",
       "<table border=\"1\" class=\"dataframe\">\n",
       "  <thead>\n",
       "    <tr style=\"text-align: right;\">\n",
       "      <th></th>\n",
       "      <th># Tm</th>\n",
       "      <th>Pos</th>\n",
       "      <th>Player</th>\n",
       "      <th>Age</th>\n",
       "      <th>Tm</th>\n",
       "      <th>Pts Won</th>\n",
       "      <th>Pts Max</th>\n",
       "      <th>Share</th>\n",
       "      <th>1st Tm</th>\n",
       "      <th>2nd Tm</th>\n",
       "      <th>3rd Tm</th>\n",
       "      <th>G</th>\n",
       "      <th>MP</th>\n",
       "      <th>PTS</th>\n",
       "      <th>TRB</th>\n",
       "      <th>AST</th>\n",
       "      <th>STL</th>\n",
       "      <th>BLK</th>\n",
       "      <th>FG%</th>\n",
       "      <th>3P%</th>\n",
       "      <th>FT%</th>\n",
       "      <th>WS</th>\n",
       "      <th>WS/48</th>\n",
       "      <th>-9999</th>\n",
       "      <th>Year</th>\n",
       "    </tr>\n",
       "  </thead>\n",
       "  <tbody>\n",
       "    <tr>\n",
       "      <th>0</th>\n",
       "      <td>1st</td>\n",
       "      <td>F</td>\n",
       "      <td>Kevin Garnett</td>\n",
       "      <td>27</td>\n",
       "      <td>MIN</td>\n",
       "      <td>615</td>\n",
       "      <td>615</td>\n",
       "      <td>1.0000</td>\n",
       "      <td>123</td>\n",
       "      <td>0.0000</td>\n",
       "      <td>0.0000</td>\n",
       "      <td>82</td>\n",
       "      <td>39.4000</td>\n",
       "      <td>24.2000</td>\n",
       "      <td>13.9000</td>\n",
       "      <td>5.0000</td>\n",
       "      <td>1.5000</td>\n",
       "      <td>2.2000</td>\n",
       "      <td>0.4990</td>\n",
       "      <td>0.2560</td>\n",
       "      <td>0.7910</td>\n",
       "      <td>18.3000</td>\n",
       "      <td>0.2720</td>\n",
       "      <td>garneke01</td>\n",
       "      <td>2004</td>\n",
       "    </tr>\n",
       "  </tbody>\n",
       "</table>\n",
       "</div>"
      ],
      "text/plain": [
       "  # Tm Pos         Player  Age   Tm  Pts Won  Pts Max  Share  1st Tm  2nd Tm  \\\n",
       "0  1st   F  Kevin Garnett   27  MIN      615      615 1.0000     123  0.0000   \n",
       "\n",
       "   3rd Tm   G      MP     PTS     TRB    AST    STL    BLK    FG%    3P%  \\\n",
       "0  0.0000  82 39.4000 24.2000 13.9000 5.0000 1.5000 2.2000 0.4990 0.2560   \n",
       "\n",
       "     FT%      WS  WS/48      -9999  Year  \n",
       "0 0.7910 18.3000 0.2720  garneke01  2004  "
      ]
     },
     "execution_count": 80,
     "metadata": {},
     "output_type": "execute_result"
    }
   ],
   "source": [
    "create_list_of_dataframes_for_yearly_stats(f'{source_data_path}\\\\NBA Player Awards\\\\ALL NBA',1)"
   ]
  },
  {
   "cell_type": "markdown",
   "id": "7b26e6be",
   "metadata": {},
   "source": [
    "###### Validate that all of the yearly data files contain different data"
   ]
  },
  {
   "cell_type": "code",
   "execution_count": 81,
   "id": "371f55d2",
   "metadata": {
    "scrolled": false
   },
   "outputs": [],
   "source": [
    "check_all_unique_dataframes(master_df_list,'Year')"
   ]
  },
  {
   "cell_type": "markdown",
   "id": "45dae33a",
   "metadata": {},
   "source": [
    "###### Validate that the column structure for every data frame is the same."
   ]
  },
  {
   "cell_type": "code",
   "execution_count": 82,
   "id": "1b00793d",
   "metadata": {
    "scrolled": false
   },
   "outputs": [],
   "source": [
    "validate_column_structure_is_same(master_df_list)"
   ]
  },
  {
   "cell_type": "markdown",
   "id": "a1665dd7",
   "metadata": {},
   "source": [
    "###### Concat/combine yearly dataframes into one AND validate that the length of the combined dataframe is the same as the sum of the yearly dataframes"
   ]
  },
  {
   "cell_type": "code",
   "execution_count": 83,
   "id": "7c364f28",
   "metadata": {
    "scrolled": false
   },
   "outputs": [],
   "source": [
    "concat_dataframes_and_validate_and_reset_index_and_sort('all_nba_df',master_df_list,cumulative_row_counter)"
   ]
  },
  {
   "cell_type": "markdown",
   "id": "b3633a6d",
   "metadata": {},
   "source": [
    "###### Validate we have all of the data we need from 2004-2023"
   ]
  },
  {
   "cell_type": "code",
   "execution_count": 84,
   "id": "e4160324",
   "metadata": {
    "scrolled": false
   },
   "outputs": [],
   "source": [
    "validate_completeness_of_data(all_nba_df,2004,2024)"
   ]
  },
  {
   "cell_type": "markdown",
   "id": "a59a2db5",
   "metadata": {},
   "source": [
    "###### Clean player names"
   ]
  },
  {
   "cell_type": "code",
   "execution_count": 85,
   "id": "a7a7d94f",
   "metadata": {
    "scrolled": false
   },
   "outputs": [
    {
     "name": "stderr",
     "output_type": "stream",
     "text": [
      "C:\\Users\\Carey\\AppData\\Local\\Temp\\ipykernel_35268\\102270080.py:4: FutureWarning: The default value of regex will change from True to False in a future version. In addition, single character regular expressions will *not* be treated as literal strings when regex=True.\n",
      "  dataframe[column_to_clean] = dataframe[column_to_clean].str.replace(\"*\",'')\n",
      "C:\\Users\\Carey\\AppData\\Local\\Temp\\ipykernel_35268\\102270080.py:5: FutureWarning: The default value of regex will change from True to False in a future version. In addition, single character regular expressions will *not* be treated as literal strings when regex=True.\n",
      "  dataframe[column_to_clean] = dataframe[column_to_clean].str.replace(\".\",'')\n"
     ]
    }
   ],
   "source": [
    "clean_column_values(all_nba_df,'Player')"
   ]
  },
  {
   "cell_type": "markdown",
   "id": "393f4816",
   "metadata": {},
   "source": [
    "###### Validate against dataframe"
   ]
  },
  {
   "cell_type": "code",
   "execution_count": 86,
   "id": "21efbe3d",
   "metadata": {
    "scrolled": false
   },
   "outputs": [],
   "source": [
    "validate_dataframes_using_column_values(all_nba_df,'-9999',basic_player_stats_regular_season_df,'Player-additional')"
   ]
  },
  {
   "cell_type": "markdown",
   "id": "c3fb44ea",
   "metadata": {},
   "source": [
    "### ALL DEFENSE. Compile yearly data into one dataframe"
   ]
  },
  {
   "cell_type": "markdown",
   "id": "deef3571",
   "metadata": {},
   "source": [
    "#### Create dataframes of yearly data"
   ]
  },
  {
   "cell_type": "code",
   "execution_count": 87,
   "id": "ace5adf9",
   "metadata": {
    "scrolled": false
   },
   "outputs": [
    {
     "data": {
      "text/html": [
       "<div>\n",
       "<style scoped>\n",
       "    .dataframe tbody tr th:only-of-type {\n",
       "        vertical-align: middle;\n",
       "    }\n",
       "\n",
       "    .dataframe tbody tr th {\n",
       "        vertical-align: top;\n",
       "    }\n",
       "\n",
       "    .dataframe thead th {\n",
       "        text-align: right;\n",
       "    }\n",
       "</style>\n",
       "<table border=\"1\" class=\"dataframe\">\n",
       "  <thead>\n",
       "    <tr style=\"text-align: right;\">\n",
       "      <th></th>\n",
       "      <th># Tm</th>\n",
       "      <th>Pos</th>\n",
       "      <th>Player</th>\n",
       "      <th>Age</th>\n",
       "      <th>Tm</th>\n",
       "      <th>Pts Won</th>\n",
       "      <th>Pts Max</th>\n",
       "      <th>Share</th>\n",
       "      <th>G</th>\n",
       "      <th>MP</th>\n",
       "      <th>PTS</th>\n",
       "      <th>TRB</th>\n",
       "      <th>AST</th>\n",
       "      <th>STL</th>\n",
       "      <th>BLK</th>\n",
       "      <th>FG%</th>\n",
       "      <th>3P%</th>\n",
       "      <th>FT%</th>\n",
       "      <th>WS</th>\n",
       "      <th>WS/48</th>\n",
       "      <th>DWS</th>\n",
       "      <th>DBPM</th>\n",
       "      <th>DRtg</th>\n",
       "      <th>-9999</th>\n",
       "      <th>Year</th>\n",
       "    </tr>\n",
       "  </thead>\n",
       "  <tbody>\n",
       "    <tr>\n",
       "      <th>0</th>\n",
       "      <td>1st</td>\n",
       "      <td>F</td>\n",
       "      <td>Metta World Peace</td>\n",
       "      <td>24</td>\n",
       "      <td>IND</td>\n",
       "      <td>54</td>\n",
       "      <td>58</td>\n",
       "      <td>0.9310</td>\n",
       "      <td>73</td>\n",
       "      <td>37.2000</td>\n",
       "      <td>18.3000</td>\n",
       "      <td>5.3000</td>\n",
       "      <td>3.7000</td>\n",
       "      <td>2.1000</td>\n",
       "      <td>0.7000</td>\n",
       "      <td>0.4210</td>\n",
       "      <td>0.3100</td>\n",
       "      <td>0.7330</td>\n",
       "      <td>8.0000</td>\n",
       "      <td>0.1410</td>\n",
       "      <td>5.2000</td>\n",
       "      <td>1.9000</td>\n",
       "      <td>96</td>\n",
       "      <td>artesro01</td>\n",
       "      <td>2004</td>\n",
       "    </tr>\n",
       "  </tbody>\n",
       "</table>\n",
       "</div>"
      ],
      "text/plain": [
       "  # Tm Pos             Player  Age   Tm  Pts Won  Pts Max  Share   G      MP  \\\n",
       "0  1st   F  Metta World Peace   24  IND       54       58 0.9310  73 37.2000   \n",
       "\n",
       "      PTS    TRB    AST    STL    BLK    FG%    3P%    FT%     WS  WS/48  \\\n",
       "0 18.3000 5.3000 3.7000 2.1000 0.7000 0.4210 0.3100 0.7330 8.0000 0.1410   \n",
       "\n",
       "     DWS   DBPM  DRtg      -9999  Year  \n",
       "0 5.2000 1.9000    96  artesro01  2004  "
      ]
     },
     "execution_count": 87,
     "metadata": {},
     "output_type": "execute_result"
    }
   ],
   "source": [
    "create_list_of_dataframes_for_yearly_stats(f'{source_data_path}\\\\NBA Player Awards\\\\ALL Defense',1)"
   ]
  },
  {
   "cell_type": "markdown",
   "id": "333e694c",
   "metadata": {},
   "source": [
    "###### Validate that all of the yearly data files contain different data"
   ]
  },
  {
   "cell_type": "code",
   "execution_count": 88,
   "id": "15069d72",
   "metadata": {
    "scrolled": false
   },
   "outputs": [],
   "source": [
    "check_all_unique_dataframes(master_df_list,'Year')"
   ]
  },
  {
   "cell_type": "markdown",
   "id": "d4be8176",
   "metadata": {},
   "source": [
    "###### Validate that the column structure for every data frame is the same."
   ]
  },
  {
   "cell_type": "code",
   "execution_count": 89,
   "id": "ff7fba9f",
   "metadata": {
    "scrolled": false
   },
   "outputs": [],
   "source": [
    "validate_column_structure_is_same(master_df_list)"
   ]
  },
  {
   "cell_type": "markdown",
   "id": "59f63b21",
   "metadata": {},
   "source": [
    "###### Concat/combine yearly dataframes into one AND validate that the length of the combined dataframe is the same as the sum of the yearly dataframes"
   ]
  },
  {
   "cell_type": "code",
   "execution_count": 90,
   "id": "7d58f48a",
   "metadata": {
    "scrolled": false
   },
   "outputs": [],
   "source": [
    "concat_dataframes_and_validate_and_reset_index_and_sort('all_defense_df',master_df_list,cumulative_row_counter)"
   ]
  },
  {
   "cell_type": "markdown",
   "id": "67de3a5f",
   "metadata": {},
   "source": [
    "###### Validate we have all of the data we need from 2004-2023"
   ]
  },
  {
   "cell_type": "code",
   "execution_count": 91,
   "id": "380d1401",
   "metadata": {
    "scrolled": false
   },
   "outputs": [],
   "source": [
    "validate_completeness_of_data(all_defense_df,2004,2024)"
   ]
  },
  {
   "cell_type": "markdown",
   "id": "cc8494fb",
   "metadata": {},
   "source": [
    "###### Clean player names"
   ]
  },
  {
   "cell_type": "code",
   "execution_count": 92,
   "id": "d516d8b7",
   "metadata": {
    "scrolled": false
   },
   "outputs": [
    {
     "name": "stderr",
     "output_type": "stream",
     "text": [
      "C:\\Users\\Carey\\AppData\\Local\\Temp\\ipykernel_35268\\102270080.py:4: FutureWarning: The default value of regex will change from True to False in a future version. In addition, single character regular expressions will *not* be treated as literal strings when regex=True.\n",
      "  dataframe[column_to_clean] = dataframe[column_to_clean].str.replace(\"*\",'')\n",
      "C:\\Users\\Carey\\AppData\\Local\\Temp\\ipykernel_35268\\102270080.py:5: FutureWarning: The default value of regex will change from True to False in a future version. In addition, single character regular expressions will *not* be treated as literal strings when regex=True.\n",
      "  dataframe[column_to_clean] = dataframe[column_to_clean].str.replace(\".\",'')\n"
     ]
    }
   ],
   "source": [
    "clean_column_values(all_defense_df,'Player')"
   ]
  },
  {
   "cell_type": "markdown",
   "id": "b76df14d",
   "metadata": {},
   "source": [
    "###### Validate against dataframe"
   ]
  },
  {
   "cell_type": "code",
   "execution_count": 93,
   "id": "ab04fa74",
   "metadata": {
    "scrolled": false
   },
   "outputs": [],
   "source": [
    "validate_dataframes_using_column_values(all_defense_df,'-9999',basic_player_stats_regular_season_df,'Player-additional')"
   ]
  },
  {
   "cell_type": "markdown",
   "id": "921ce364",
   "metadata": {},
   "source": [
    "### MIP. Compile yearly data into one dataframe"
   ]
  },
  {
   "cell_type": "markdown",
   "id": "5609c095",
   "metadata": {},
   "source": [
    "#### Create dataframes of yearly data"
   ]
  },
  {
   "cell_type": "code",
   "execution_count": 94,
   "id": "9cc27446",
   "metadata": {
    "scrolled": false
   },
   "outputs": [
    {
     "data": {
      "text/html": [
       "<div>\n",
       "<style scoped>\n",
       "    .dataframe tbody tr th:only-of-type {\n",
       "        vertical-align: middle;\n",
       "    }\n",
       "\n",
       "    .dataframe tbody tr th {\n",
       "        vertical-align: top;\n",
       "    }\n",
       "\n",
       "    .dataframe thead th {\n",
       "        text-align: right;\n",
       "    }\n",
       "</style>\n",
       "<table border=\"1\" class=\"dataframe\">\n",
       "  <thead>\n",
       "    <tr style=\"text-align: right;\">\n",
       "      <th></th>\n",
       "      <th>Rank</th>\n",
       "      <th>Player</th>\n",
       "      <th>Age</th>\n",
       "      <th>Tm</th>\n",
       "      <th>First</th>\n",
       "      <th>Pts Won</th>\n",
       "      <th>Pts Max</th>\n",
       "      <th>Share</th>\n",
       "      <th>G</th>\n",
       "      <th>MP</th>\n",
       "      <th>PTS</th>\n",
       "      <th>TRB</th>\n",
       "      <th>AST</th>\n",
       "      <th>STL</th>\n",
       "      <th>BLK</th>\n",
       "      <th>FG%</th>\n",
       "      <th>3P%</th>\n",
       "      <th>FT%</th>\n",
       "      <th>WS</th>\n",
       "      <th>WS/48</th>\n",
       "      <th>-9999</th>\n",
       "      <th>Year</th>\n",
       "    </tr>\n",
       "  </thead>\n",
       "  <tbody>\n",
       "    <tr>\n",
       "      <th>0</th>\n",
       "      <td>1</td>\n",
       "      <td>Zach Randolph</td>\n",
       "      <td>22</td>\n",
       "      <td>POR</td>\n",
       "      <td>59.0000</td>\n",
       "      <td>379.0000</td>\n",
       "      <td>605</td>\n",
       "      <td>0.6260</td>\n",
       "      <td>81</td>\n",
       "      <td>37.9000</td>\n",
       "      <td>20.1000</td>\n",
       "      <td>10.5000</td>\n",
       "      <td>2.0000</td>\n",
       "      <td>0.8000</td>\n",
       "      <td>0.5000</td>\n",
       "      <td>0.4850</td>\n",
       "      <td>0.2000</td>\n",
       "      <td>0.7610</td>\n",
       "      <td>7.1000</td>\n",
       "      <td>0.1110</td>\n",
       "      <td>randoza01</td>\n",
       "      <td>2004</td>\n",
       "    </tr>\n",
       "  </tbody>\n",
       "</table>\n",
       "</div>"
      ],
      "text/plain": [
       "  Rank         Player  Age   Tm   First  Pts Won  Pts Max  Share   G      MP  \\\n",
       "0    1  Zach Randolph   22  POR 59.0000 379.0000      605 0.6260  81 37.9000   \n",
       "\n",
       "      PTS     TRB    AST    STL    BLK    FG%    3P%    FT%     WS  WS/48  \\\n",
       "0 20.1000 10.5000 2.0000 0.8000 0.5000 0.4850 0.2000 0.7610 7.1000 0.1110   \n",
       "\n",
       "       -9999  Year  \n",
       "0  randoza01  2004  "
      ]
     },
     "execution_count": 94,
     "metadata": {},
     "output_type": "execute_result"
    }
   ],
   "source": [
    "create_list_of_dataframes_for_yearly_stats(f'{source_data_path}\\\\NBA Player Awards\\\\MIP',1)"
   ]
  },
  {
   "cell_type": "markdown",
   "id": "32599d39",
   "metadata": {},
   "source": [
    "###### Validate that all of the yearly data files contain different data"
   ]
  },
  {
   "cell_type": "code",
   "execution_count": 95,
   "id": "8ed6d87c",
   "metadata": {
    "scrolled": false
   },
   "outputs": [],
   "source": [
    "check_all_unique_dataframes(master_df_list,'Year')"
   ]
  },
  {
   "cell_type": "markdown",
   "id": "a378509f",
   "metadata": {},
   "source": [
    "###### Validate that the column structure for every data frame is the same."
   ]
  },
  {
   "cell_type": "code",
   "execution_count": 96,
   "id": "a996f9a5",
   "metadata": {
    "scrolled": false
   },
   "outputs": [],
   "source": [
    "validate_column_structure_is_same(master_df_list)"
   ]
  },
  {
   "cell_type": "markdown",
   "id": "41b95417",
   "metadata": {},
   "source": [
    "###### Concat/combine yearly dataframes into one AND validate that the length of the combined dataframe is the same as the sum of the yearly dataframes"
   ]
  },
  {
   "cell_type": "code",
   "execution_count": 97,
   "id": "ac14b285",
   "metadata": {
    "scrolled": false
   },
   "outputs": [],
   "source": [
    "concat_dataframes_and_validate_and_reset_index_and_sort('mip_df',master_df_list,cumulative_row_counter)"
   ]
  },
  {
   "cell_type": "markdown",
   "id": "6013950a",
   "metadata": {},
   "source": [
    "###### Validate we have all of the data we need from 2004-2023"
   ]
  },
  {
   "cell_type": "code",
   "execution_count": 98,
   "id": "618d678a",
   "metadata": {
    "scrolled": false
   },
   "outputs": [],
   "source": [
    "validate_completeness_of_data(mip_df,2004,2024)"
   ]
  },
  {
   "cell_type": "markdown",
   "id": "7f167643",
   "metadata": {},
   "source": [
    "###### Clean player names"
   ]
  },
  {
   "cell_type": "code",
   "execution_count": 99,
   "id": "98c9e3ce",
   "metadata": {
    "scrolled": false
   },
   "outputs": [
    {
     "name": "stderr",
     "output_type": "stream",
     "text": [
      "C:\\Users\\Carey\\AppData\\Local\\Temp\\ipykernel_35268\\102270080.py:4: FutureWarning: The default value of regex will change from True to False in a future version. In addition, single character regular expressions will *not* be treated as literal strings when regex=True.\n",
      "  dataframe[column_to_clean] = dataframe[column_to_clean].str.replace(\"*\",'')\n",
      "C:\\Users\\Carey\\AppData\\Local\\Temp\\ipykernel_35268\\102270080.py:5: FutureWarning: The default value of regex will change from True to False in a future version. In addition, single character regular expressions will *not* be treated as literal strings when regex=True.\n",
      "  dataframe[column_to_clean] = dataframe[column_to_clean].str.replace(\".\",'')\n"
     ]
    }
   ],
   "source": [
    "clean_column_values(mip_df,'Player')"
   ]
  },
  {
   "cell_type": "markdown",
   "id": "3af4cb0a",
   "metadata": {},
   "source": [
    "###### Validate against dataframe"
   ]
  },
  {
   "cell_type": "code",
   "execution_count": 100,
   "id": "b012dae4",
   "metadata": {
    "scrolled": false
   },
   "outputs": [],
   "source": [
    "validate_dataframes_using_column_values(mip_df,'-9999',basic_player_stats_regular_season_df,'Player-additional')"
   ]
  },
  {
   "cell_type": "markdown",
   "id": "39c7df50",
   "metadata": {},
   "source": [
    "### 6th Man. Compile yearly data into one dataframe"
   ]
  },
  {
   "cell_type": "markdown",
   "id": "81b286c8",
   "metadata": {},
   "source": [
    "#### Create dataframes of yearly data"
   ]
  },
  {
   "cell_type": "code",
   "execution_count": 101,
   "id": "0b101a20",
   "metadata": {
    "scrolled": false
   },
   "outputs": [
    {
     "data": {
      "text/html": [
       "<div>\n",
       "<style scoped>\n",
       "    .dataframe tbody tr th:only-of-type {\n",
       "        vertical-align: middle;\n",
       "    }\n",
       "\n",
       "    .dataframe tbody tr th {\n",
       "        vertical-align: top;\n",
       "    }\n",
       "\n",
       "    .dataframe thead th {\n",
       "        text-align: right;\n",
       "    }\n",
       "</style>\n",
       "<table border=\"1\" class=\"dataframe\">\n",
       "  <thead>\n",
       "    <tr style=\"text-align: right;\">\n",
       "      <th></th>\n",
       "      <th>Rank</th>\n",
       "      <th>Player</th>\n",
       "      <th>Age</th>\n",
       "      <th>Tm</th>\n",
       "      <th>First</th>\n",
       "      <th>Pts Won</th>\n",
       "      <th>Pts Max</th>\n",
       "      <th>Share</th>\n",
       "      <th>G</th>\n",
       "      <th>MP</th>\n",
       "      <th>PTS</th>\n",
       "      <th>TRB</th>\n",
       "      <th>AST</th>\n",
       "      <th>STL</th>\n",
       "      <th>BLK</th>\n",
       "      <th>FG%</th>\n",
       "      <th>3P%</th>\n",
       "      <th>FT%</th>\n",
       "      <th>WS</th>\n",
       "      <th>WS/48</th>\n",
       "      <th>-9999</th>\n",
       "      <th>Year</th>\n",
       "    </tr>\n",
       "  </thead>\n",
       "  <tbody>\n",
       "    <tr>\n",
       "      <th>0</th>\n",
       "      <td>1</td>\n",
       "      <td>Antawn Jamison</td>\n",
       "      <td>27</td>\n",
       "      <td>DAL</td>\n",
       "      <td>43.0000</td>\n",
       "      <td>338.0000</td>\n",
       "      <td>600</td>\n",
       "      <td>0.5630</td>\n",
       "      <td>82</td>\n",
       "      <td>29.0000</td>\n",
       "      <td>14.8000</td>\n",
       "      <td>6.3000</td>\n",
       "      <td>0.9000</td>\n",
       "      <td>1.0000</td>\n",
       "      <td>0.4000</td>\n",
       "      <td>0.5350</td>\n",
       "      <td>0.4000</td>\n",
       "      <td>0.7480</td>\n",
       "      <td>9.0000</td>\n",
       "      <td>0.1830</td>\n",
       "      <td>jamisan01</td>\n",
       "      <td>2004</td>\n",
       "    </tr>\n",
       "  </tbody>\n",
       "</table>\n",
       "</div>"
      ],
      "text/plain": [
       "  Rank          Player  Age   Tm   First  Pts Won  Pts Max  Share   G      MP  \\\n",
       "0    1  Antawn Jamison   27  DAL 43.0000 338.0000      600 0.5630  82 29.0000   \n",
       "\n",
       "      PTS    TRB    AST    STL    BLK    FG%    3P%    FT%     WS  WS/48  \\\n",
       "0 14.8000 6.3000 0.9000 1.0000 0.4000 0.5350 0.4000 0.7480 9.0000 0.1830   \n",
       "\n",
       "       -9999  Year  \n",
       "0  jamisan01  2004  "
      ]
     },
     "execution_count": 101,
     "metadata": {},
     "output_type": "execute_result"
    }
   ],
   "source": [
    "create_list_of_dataframes_for_yearly_stats(f'{source_data_path}\\\\NBA Player Awards\\\\6MAN',1)"
   ]
  },
  {
   "cell_type": "markdown",
   "id": "6cf688d9",
   "metadata": {},
   "source": [
    "###### Validate that all of the yearly data files contain different data"
   ]
  },
  {
   "cell_type": "code",
   "execution_count": 102,
   "id": "1f27394f",
   "metadata": {
    "scrolled": false
   },
   "outputs": [],
   "source": [
    "check_all_unique_dataframes(master_df_list,'Year')"
   ]
  },
  {
   "cell_type": "markdown",
   "id": "66d9f912",
   "metadata": {},
   "source": [
    "###### Validate that the column structure for every data frame is the same."
   ]
  },
  {
   "cell_type": "code",
   "execution_count": 103,
   "id": "1cfb91fc",
   "metadata": {
    "scrolled": false
   },
   "outputs": [],
   "source": [
    "validate_column_structure_is_same(master_df_list)"
   ]
  },
  {
   "cell_type": "markdown",
   "id": "b50f413a",
   "metadata": {},
   "source": [
    "###### Concat/combine yearly dataframes into one AND validate that the length of the combined dataframe is the same as the sum of the yearly dataframes"
   ]
  },
  {
   "cell_type": "code",
   "execution_count": 104,
   "id": "e78c0bc4",
   "metadata": {
    "scrolled": false
   },
   "outputs": [],
   "source": [
    "concat_dataframes_and_validate_and_reset_index_and_sort('six_man_df',master_df_list,cumulative_row_counter)"
   ]
  },
  {
   "cell_type": "markdown",
   "id": "a1fc3ab2",
   "metadata": {},
   "source": [
    "###### Validate we have all of the data we need from 2004-2023"
   ]
  },
  {
   "cell_type": "code",
   "execution_count": 105,
   "id": "139d5510",
   "metadata": {
    "scrolled": false
   },
   "outputs": [],
   "source": [
    "validate_completeness_of_data(six_man_df,2004,2024)"
   ]
  },
  {
   "cell_type": "markdown",
   "id": "0a845c71",
   "metadata": {},
   "source": [
    "###### Clean player names"
   ]
  },
  {
   "cell_type": "code",
   "execution_count": 106,
   "id": "98fe603f",
   "metadata": {
    "scrolled": false
   },
   "outputs": [
    {
     "name": "stderr",
     "output_type": "stream",
     "text": [
      "C:\\Users\\Carey\\AppData\\Local\\Temp\\ipykernel_35268\\102270080.py:4: FutureWarning: The default value of regex will change from True to False in a future version. In addition, single character regular expressions will *not* be treated as literal strings when regex=True.\n",
      "  dataframe[column_to_clean] = dataframe[column_to_clean].str.replace(\"*\",'')\n",
      "C:\\Users\\Carey\\AppData\\Local\\Temp\\ipykernel_35268\\102270080.py:5: FutureWarning: The default value of regex will change from True to False in a future version. In addition, single character regular expressions will *not* be treated as literal strings when regex=True.\n",
      "  dataframe[column_to_clean] = dataframe[column_to_clean].str.replace(\".\",'')\n"
     ]
    }
   ],
   "source": [
    "clean_column_values(six_man_df,'Player')"
   ]
  },
  {
   "cell_type": "markdown",
   "id": "527a59a4",
   "metadata": {},
   "source": [
    "###### Validate against dataframe"
   ]
  },
  {
   "cell_type": "code",
   "execution_count": 107,
   "id": "5d06e9a9",
   "metadata": {
    "scrolled": false
   },
   "outputs": [],
   "source": [
    "validate_dataframes_using_column_values(six_man_df,'-9999',basic_player_stats_regular_season_df,'Player-additional')"
   ]
  },
  {
   "cell_type": "markdown",
   "id": "a0309bb0",
   "metadata": {},
   "source": [
    "### DPOY. Compile yearly data into one dataframe"
   ]
  },
  {
   "cell_type": "markdown",
   "id": "5fe408f4",
   "metadata": {},
   "source": [
    "#### Create dataframes of yearly data"
   ]
  },
  {
   "cell_type": "code",
   "execution_count": 108,
   "id": "4ebff481",
   "metadata": {
    "scrolled": false
   },
   "outputs": [
    {
     "data": {
      "text/html": [
       "<div>\n",
       "<style scoped>\n",
       "    .dataframe tbody tr th:only-of-type {\n",
       "        vertical-align: middle;\n",
       "    }\n",
       "\n",
       "    .dataframe tbody tr th {\n",
       "        vertical-align: top;\n",
       "    }\n",
       "\n",
       "    .dataframe thead th {\n",
       "        text-align: right;\n",
       "    }\n",
       "</style>\n",
       "<table border=\"1\" class=\"dataframe\">\n",
       "  <thead>\n",
       "    <tr style=\"text-align: right;\">\n",
       "      <th></th>\n",
       "      <th>Rank</th>\n",
       "      <th>Player</th>\n",
       "      <th>Age</th>\n",
       "      <th>Tm</th>\n",
       "      <th>First</th>\n",
       "      <th>Pts Won</th>\n",
       "      <th>Pts Max</th>\n",
       "      <th>Share</th>\n",
       "      <th>G</th>\n",
       "      <th>MP</th>\n",
       "      <th>PTS</th>\n",
       "      <th>TRB</th>\n",
       "      <th>AST</th>\n",
       "      <th>STL</th>\n",
       "      <th>BLK</th>\n",
       "      <th>FG%</th>\n",
       "      <th>3P%</th>\n",
       "      <th>FT%</th>\n",
       "      <th>WS</th>\n",
       "      <th>WS/48</th>\n",
       "      <th>DWS</th>\n",
       "      <th>DBPM</th>\n",
       "      <th>DRtg</th>\n",
       "      <th>-9999</th>\n",
       "      <th>Year</th>\n",
       "    </tr>\n",
       "  </thead>\n",
       "  <tbody>\n",
       "    <tr>\n",
       "      <th>0</th>\n",
       "      <td>1</td>\n",
       "      <td>Metta World Peace</td>\n",
       "      <td>24</td>\n",
       "      <td>IND</td>\n",
       "      <td>80.0000</td>\n",
       "      <td>476.0000</td>\n",
       "      <td>605</td>\n",
       "      <td>0.7870</td>\n",
       "      <td>73</td>\n",
       "      <td>37.2000</td>\n",
       "      <td>18.3000</td>\n",
       "      <td>5.3000</td>\n",
       "      <td>3.7000</td>\n",
       "      <td>2.1000</td>\n",
       "      <td>0.7000</td>\n",
       "      <td>0.4210</td>\n",
       "      <td>0.3100</td>\n",
       "      <td>0.7330</td>\n",
       "      <td>8.0000</td>\n",
       "      <td>0.1410</td>\n",
       "      <td>5.2000</td>\n",
       "      <td>1.9000</td>\n",
       "      <td>96</td>\n",
       "      <td>artesro01</td>\n",
       "      <td>2004</td>\n",
       "    </tr>\n",
       "  </tbody>\n",
       "</table>\n",
       "</div>"
      ],
      "text/plain": [
       "  Rank             Player  Age   Tm   First  Pts Won  Pts Max  Share   G  \\\n",
       "0    1  Metta World Peace   24  IND 80.0000 476.0000      605 0.7870  73   \n",
       "\n",
       "       MP     PTS    TRB    AST    STL    BLK    FG%    3P%    FT%     WS  \\\n",
       "0 37.2000 18.3000 5.3000 3.7000 2.1000 0.7000 0.4210 0.3100 0.7330 8.0000   \n",
       "\n",
       "   WS/48    DWS   DBPM  DRtg      -9999  Year  \n",
       "0 0.1410 5.2000 1.9000    96  artesro01  2004  "
      ]
     },
     "execution_count": 108,
     "metadata": {},
     "output_type": "execute_result"
    }
   ],
   "source": [
    "create_list_of_dataframes_for_yearly_stats(f'{source_data_path}\\\\NBA Player Awards\\\\DPOY',1)"
   ]
  },
  {
   "cell_type": "markdown",
   "id": "081f2fa0",
   "metadata": {},
   "source": [
    "###### Validate that all of the yearly data files contain different data"
   ]
  },
  {
   "cell_type": "code",
   "execution_count": 109,
   "id": "0298fdb7",
   "metadata": {
    "scrolled": false
   },
   "outputs": [],
   "source": [
    "check_all_unique_dataframes(master_df_list,'Year')"
   ]
  },
  {
   "cell_type": "markdown",
   "id": "8197f904",
   "metadata": {},
   "source": [
    "###### Validate that the column structure for every data frame is the same."
   ]
  },
  {
   "cell_type": "code",
   "execution_count": 110,
   "id": "68ba1001",
   "metadata": {
    "scrolled": false
   },
   "outputs": [],
   "source": [
    "validate_column_structure_is_same(master_df_list)"
   ]
  },
  {
   "cell_type": "markdown",
   "id": "2ec3cfdd",
   "metadata": {},
   "source": [
    "###### Concat/combine yearly dataframes into one AND validate that the length of the combined dataframe is the same as the sum of the yearly dataframes"
   ]
  },
  {
   "cell_type": "code",
   "execution_count": 111,
   "id": "23c2242e",
   "metadata": {
    "scrolled": false
   },
   "outputs": [],
   "source": [
    "concat_dataframes_and_validate_and_reset_index_and_sort('dpoy_df',master_df_list,cumulative_row_counter)"
   ]
  },
  {
   "cell_type": "markdown",
   "id": "78c8fa36",
   "metadata": {},
   "source": [
    "###### Validate we have all of the data we need from 2004-2023"
   ]
  },
  {
   "cell_type": "code",
   "execution_count": 112,
   "id": "a8c1666a",
   "metadata": {
    "scrolled": false
   },
   "outputs": [],
   "source": [
    "validate_completeness_of_data(dpoy_df,2004,2024)"
   ]
  },
  {
   "cell_type": "markdown",
   "id": "f458fee0",
   "metadata": {},
   "source": [
    "###### Clean player names"
   ]
  },
  {
   "cell_type": "code",
   "execution_count": 113,
   "id": "1f154429",
   "metadata": {
    "scrolled": false
   },
   "outputs": [
    {
     "name": "stderr",
     "output_type": "stream",
     "text": [
      "C:\\Users\\Carey\\AppData\\Local\\Temp\\ipykernel_35268\\102270080.py:4: FutureWarning: The default value of regex will change from True to False in a future version. In addition, single character regular expressions will *not* be treated as literal strings when regex=True.\n",
      "  dataframe[column_to_clean] = dataframe[column_to_clean].str.replace(\"*\",'')\n",
      "C:\\Users\\Carey\\AppData\\Local\\Temp\\ipykernel_35268\\102270080.py:5: FutureWarning: The default value of regex will change from True to False in a future version. In addition, single character regular expressions will *not* be treated as literal strings when regex=True.\n",
      "  dataframe[column_to_clean] = dataframe[column_to_clean].str.replace(\".\",'')\n"
     ]
    }
   ],
   "source": [
    "clean_column_values(dpoy_df,'Player')"
   ]
  },
  {
   "cell_type": "markdown",
   "id": "e9b53291",
   "metadata": {},
   "source": [
    "###### Validate against dataframe"
   ]
  },
  {
   "cell_type": "code",
   "execution_count": 114,
   "id": "5ab980e2",
   "metadata": {
    "scrolled": false
   },
   "outputs": [],
   "source": [
    "validate_dataframes_using_column_values(dpoy_df,'-9999',basic_player_stats_regular_season_df,'Player-additional')"
   ]
  },
  {
   "cell_type": "markdown",
   "id": "6e0da5bb",
   "metadata": {},
   "source": [
    "## LOAD IN FINALS MVP AND STATS"
   ]
  },
  {
   "cell_type": "code",
   "execution_count": 115,
   "id": "e9f0c65d",
   "metadata": {
    "scrolled": false
   },
   "outputs": [
    {
     "data": {
      "text/html": [
       "<div>\n",
       "<style scoped>\n",
       "    .dataframe tbody tr th:only-of-type {\n",
       "        vertical-align: middle;\n",
       "    }\n",
       "\n",
       "    .dataframe tbody tr th {\n",
       "        vertical-align: top;\n",
       "    }\n",
       "\n",
       "    .dataframe thead th {\n",
       "        text-align: right;\n",
       "    }\n",
       "</style>\n",
       "<table border=\"1\" class=\"dataframe\">\n",
       "  <thead>\n",
       "    <tr style=\"text-align: right;\">\n",
       "      <th></th>\n",
       "      <th>Year</th>\n",
       "      <th>Lg</th>\n",
       "      <th>Player</th>\n",
       "      <th>Age</th>\n",
       "      <th>Tm</th>\n",
       "      <th>G</th>\n",
       "      <th>MP</th>\n",
       "      <th>PTS</th>\n",
       "      <th>TRB</th>\n",
       "      <th>AST</th>\n",
       "      <th>STL</th>\n",
       "      <th>BLK</th>\n",
       "      <th>FG%</th>\n",
       "      <th>3P%</th>\n",
       "      <th>FT%</th>\n",
       "      <th>-9999</th>\n",
       "    </tr>\n",
       "  </thead>\n",
       "  <tbody>\n",
       "    <tr>\n",
       "      <th>0</th>\n",
       "      <td>2023</td>\n",
       "      <td>NBA</td>\n",
       "      <td>Nikola Jokić</td>\n",
       "      <td>27</td>\n",
       "      <td>DEN</td>\n",
       "      <td>5</td>\n",
       "      <td>41.2000</td>\n",
       "      <td>30.2000</td>\n",
       "      <td>14.0000</td>\n",
       "      <td>7.2000</td>\n",
       "      <td>0.8000</td>\n",
       "      <td>1.4000</td>\n",
       "      <td>0.5830</td>\n",
       "      <td>0.4210</td>\n",
       "      <td>0.8380</td>\n",
       "      <td>jokicni01</td>\n",
       "    </tr>\n",
       "    <tr>\n",
       "      <th>1</th>\n",
       "      <td>2022</td>\n",
       "      <td>NBA</td>\n",
       "      <td>Stephen Curry</td>\n",
       "      <td>33</td>\n",
       "      <td>GSW</td>\n",
       "      <td>6</td>\n",
       "      <td>37.5000</td>\n",
       "      <td>31.2000</td>\n",
       "      <td>6.0000</td>\n",
       "      <td>5.0000</td>\n",
       "      <td>2.0000</td>\n",
       "      <td>0.2000</td>\n",
       "      <td>0.4820</td>\n",
       "      <td>0.4370</td>\n",
       "      <td>0.8570</td>\n",
       "      <td>curryst01</td>\n",
       "    </tr>\n",
       "    <tr>\n",
       "      <th>2</th>\n",
       "      <td>2021</td>\n",
       "      <td>NBA</td>\n",
       "      <td>Giannis Antetokounmpo</td>\n",
       "      <td>26</td>\n",
       "      <td>MIL</td>\n",
       "      <td>6</td>\n",
       "      <td>39.8000</td>\n",
       "      <td>35.2000</td>\n",
       "      <td>13.2000</td>\n",
       "      <td>5.0000</td>\n",
       "      <td>1.2000</td>\n",
       "      <td>1.8000</td>\n",
       "      <td>0.6180</td>\n",
       "      <td>0.2000</td>\n",
       "      <td>0.6590</td>\n",
       "      <td>antetgi01</td>\n",
       "    </tr>\n",
       "    <tr>\n",
       "      <th>3</th>\n",
       "      <td>2020</td>\n",
       "      <td>NBA</td>\n",
       "      <td>LeBron James</td>\n",
       "      <td>35</td>\n",
       "      <td>LAL</td>\n",
       "      <td>6</td>\n",
       "      <td>39.3000</td>\n",
       "      <td>29.8000</td>\n",
       "      <td>11.8000</td>\n",
       "      <td>8.5000</td>\n",
       "      <td>1.2000</td>\n",
       "      <td>0.5000</td>\n",
       "      <td>0.5910</td>\n",
       "      <td>0.4170</td>\n",
       "      <td>0.6670</td>\n",
       "      <td>jamesle01</td>\n",
       "    </tr>\n",
       "    <tr>\n",
       "      <th>4</th>\n",
       "      <td>2019</td>\n",
       "      <td>NBA</td>\n",
       "      <td>Kawhi Leonard</td>\n",
       "      <td>27</td>\n",
       "      <td>TOR</td>\n",
       "      <td>6</td>\n",
       "      <td>40.5000</td>\n",
       "      <td>28.5000</td>\n",
       "      <td>9.8000</td>\n",
       "      <td>4.2000</td>\n",
       "      <td>2.0000</td>\n",
       "      <td>1.2000</td>\n",
       "      <td>0.4340</td>\n",
       "      <td>0.3570</td>\n",
       "      <td>0.9060</td>\n",
       "      <td>leonaka01</td>\n",
       "    </tr>\n",
       "    <tr>\n",
       "      <th>5</th>\n",
       "      <td>2018</td>\n",
       "      <td>NBA</td>\n",
       "      <td>Kevin Durant</td>\n",
       "      <td>29</td>\n",
       "      <td>GSW</td>\n",
       "      <td>4</td>\n",
       "      <td>41.3000</td>\n",
       "      <td>28.8000</td>\n",
       "      <td>10.8000</td>\n",
       "      <td>7.5000</td>\n",
       "      <td>0.8000</td>\n",
       "      <td>2.3000</td>\n",
       "      <td>0.5260</td>\n",
       "      <td>0.4090</td>\n",
       "      <td>0.9630</td>\n",
       "      <td>duranke01</td>\n",
       "    </tr>\n",
       "    <tr>\n",
       "      <th>6</th>\n",
       "      <td>2017</td>\n",
       "      <td>NBA</td>\n",
       "      <td>Kevin Durant</td>\n",
       "      <td>28</td>\n",
       "      <td>GSW</td>\n",
       "      <td>5</td>\n",
       "      <td>39.8000</td>\n",
       "      <td>35.2000</td>\n",
       "      <td>8.2000</td>\n",
       "      <td>5.4000</td>\n",
       "      <td>1.0000</td>\n",
       "      <td>1.6000</td>\n",
       "      <td>0.5560</td>\n",
       "      <td>0.4740</td>\n",
       "      <td>0.9270</td>\n",
       "      <td>duranke01</td>\n",
       "    </tr>\n",
       "    <tr>\n",
       "      <th>7</th>\n",
       "      <td>2016</td>\n",
       "      <td>NBA</td>\n",
       "      <td>LeBron James</td>\n",
       "      <td>31</td>\n",
       "      <td>CLE</td>\n",
       "      <td>7</td>\n",
       "      <td>41.7000</td>\n",
       "      <td>29.7000</td>\n",
       "      <td>11.3000</td>\n",
       "      <td>8.9000</td>\n",
       "      <td>2.6000</td>\n",
       "      <td>2.3000</td>\n",
       "      <td>0.4940</td>\n",
       "      <td>0.3710</td>\n",
       "      <td>0.7210</td>\n",
       "      <td>jamesle01</td>\n",
       "    </tr>\n",
       "    <tr>\n",
       "      <th>8</th>\n",
       "      <td>2015</td>\n",
       "      <td>NBA</td>\n",
       "      <td>Andre Iguodala</td>\n",
       "      <td>31</td>\n",
       "      <td>GSW</td>\n",
       "      <td>6</td>\n",
       "      <td>37.0000</td>\n",
       "      <td>16.3000</td>\n",
       "      <td>5.8000</td>\n",
       "      <td>4.0000</td>\n",
       "      <td>1.3000</td>\n",
       "      <td>0.3000</td>\n",
       "      <td>0.5210</td>\n",
       "      <td>0.4000</td>\n",
       "      <td>0.3570</td>\n",
       "      <td>iguodan01</td>\n",
       "    </tr>\n",
       "    <tr>\n",
       "      <th>9</th>\n",
       "      <td>2014</td>\n",
       "      <td>NBA</td>\n",
       "      <td>Kawhi Leonard</td>\n",
       "      <td>22</td>\n",
       "      <td>SAS</td>\n",
       "      <td>5</td>\n",
       "      <td>33.4000</td>\n",
       "      <td>17.8000</td>\n",
       "      <td>6.4000</td>\n",
       "      <td>2.0000</td>\n",
       "      <td>1.6000</td>\n",
       "      <td>1.2000</td>\n",
       "      <td>0.6120</td>\n",
       "      <td>0.5790</td>\n",
       "      <td>0.7830</td>\n",
       "      <td>leonaka01</td>\n",
       "    </tr>\n",
       "    <tr>\n",
       "      <th>10</th>\n",
       "      <td>2013</td>\n",
       "      <td>NBA</td>\n",
       "      <td>LeBron James</td>\n",
       "      <td>28</td>\n",
       "      <td>MIA</td>\n",
       "      <td>7</td>\n",
       "      <td>43.0000</td>\n",
       "      <td>25.3000</td>\n",
       "      <td>10.9000</td>\n",
       "      <td>7.0000</td>\n",
       "      <td>2.3000</td>\n",
       "      <td>0.9000</td>\n",
       "      <td>0.4470</td>\n",
       "      <td>0.3530</td>\n",
       "      <td>0.7950</td>\n",
       "      <td>jamesle01</td>\n",
       "    </tr>\n",
       "    <tr>\n",
       "      <th>11</th>\n",
       "      <td>2012</td>\n",
       "      <td>NBA</td>\n",
       "      <td>LeBron James</td>\n",
       "      <td>27</td>\n",
       "      <td>MIA</td>\n",
       "      <td>5</td>\n",
       "      <td>44.0000</td>\n",
       "      <td>28.6000</td>\n",
       "      <td>10.2000</td>\n",
       "      <td>7.4000</td>\n",
       "      <td>1.6000</td>\n",
       "      <td>0.4000</td>\n",
       "      <td>0.4720</td>\n",
       "      <td>0.1880</td>\n",
       "      <td>0.8260</td>\n",
       "      <td>jamesle01</td>\n",
       "    </tr>\n",
       "    <tr>\n",
       "      <th>12</th>\n",
       "      <td>2011</td>\n",
       "      <td>NBA</td>\n",
       "      <td>Dirk Nowitzki</td>\n",
       "      <td>32</td>\n",
       "      <td>DAL</td>\n",
       "      <td>6</td>\n",
       "      <td>40.3000</td>\n",
       "      <td>26.0000</td>\n",
       "      <td>9.7000</td>\n",
       "      <td>2.0000</td>\n",
       "      <td>0.7000</td>\n",
       "      <td>0.7000</td>\n",
       "      <td>0.4160</td>\n",
       "      <td>0.3680</td>\n",
       "      <td>0.9780</td>\n",
       "      <td>nowitdi01</td>\n",
       "    </tr>\n",
       "    <tr>\n",
       "      <th>13</th>\n",
       "      <td>2010</td>\n",
       "      <td>NBA</td>\n",
       "      <td>Kobe Bryant</td>\n",
       "      <td>31</td>\n",
       "      <td>LAL</td>\n",
       "      <td>7</td>\n",
       "      <td>41.1000</td>\n",
       "      <td>28.6000</td>\n",
       "      <td>8.0000</td>\n",
       "      <td>3.9000</td>\n",
       "      <td>2.1000</td>\n",
       "      <td>0.7000</td>\n",
       "      <td>0.4050</td>\n",
       "      <td>0.3190</td>\n",
       "      <td>0.8830</td>\n",
       "      <td>bryanko01</td>\n",
       "    </tr>\n",
       "    <tr>\n",
       "      <th>14</th>\n",
       "      <td>2009</td>\n",
       "      <td>NBA</td>\n",
       "      <td>Kobe Bryant</td>\n",
       "      <td>30</td>\n",
       "      <td>LAL</td>\n",
       "      <td>5</td>\n",
       "      <td>43.8000</td>\n",
       "      <td>32.4000</td>\n",
       "      <td>5.6000</td>\n",
       "      <td>7.4000</td>\n",
       "      <td>1.4000</td>\n",
       "      <td>1.4000</td>\n",
       "      <td>0.4300</td>\n",
       "      <td>0.3600</td>\n",
       "      <td>0.8410</td>\n",
       "      <td>bryanko01</td>\n",
       "    </tr>\n",
       "    <tr>\n",
       "      <th>15</th>\n",
       "      <td>2008</td>\n",
       "      <td>NBA</td>\n",
       "      <td>Paul Pierce</td>\n",
       "      <td>30</td>\n",
       "      <td>BOS</td>\n",
       "      <td>6</td>\n",
       "      <td>38.8000</td>\n",
       "      <td>21.8000</td>\n",
       "      <td>4.5000</td>\n",
       "      <td>6.3000</td>\n",
       "      <td>1.2000</td>\n",
       "      <td>0.3000</td>\n",
       "      <td>0.4320</td>\n",
       "      <td>0.3930</td>\n",
       "      <td>0.8300</td>\n",
       "      <td>piercpa01</td>\n",
       "    </tr>\n",
       "    <tr>\n",
       "      <th>16</th>\n",
       "      <td>2007</td>\n",
       "      <td>NBA</td>\n",
       "      <td>Tony Parker</td>\n",
       "      <td>24</td>\n",
       "      <td>SAS</td>\n",
       "      <td>4</td>\n",
       "      <td>37.8000</td>\n",
       "      <td>24.5000</td>\n",
       "      <td>5.0000</td>\n",
       "      <td>3.3000</td>\n",
       "      <td>0.8000</td>\n",
       "      <td>0.0000</td>\n",
       "      <td>0.5680</td>\n",
       "      <td>0.5710</td>\n",
       "      <td>0.5260</td>\n",
       "      <td>parketo01</td>\n",
       "    </tr>\n",
       "    <tr>\n",
       "      <th>17</th>\n",
       "      <td>2006</td>\n",
       "      <td>NBA</td>\n",
       "      <td>Dwyane Wade</td>\n",
       "      <td>24</td>\n",
       "      <td>MIA</td>\n",
       "      <td>6</td>\n",
       "      <td>43.5000</td>\n",
       "      <td>34.7000</td>\n",
       "      <td>7.8000</td>\n",
       "      <td>3.8000</td>\n",
       "      <td>2.7000</td>\n",
       "      <td>1.0000</td>\n",
       "      <td>0.4680</td>\n",
       "      <td>0.2730</td>\n",
       "      <td>0.7730</td>\n",
       "      <td>wadedw01</td>\n",
       "    </tr>\n",
       "    <tr>\n",
       "      <th>18</th>\n",
       "      <td>2005</td>\n",
       "      <td>NBA</td>\n",
       "      <td>Tim Duncan</td>\n",
       "      <td>28</td>\n",
       "      <td>SAS</td>\n",
       "      <td>7</td>\n",
       "      <td>40.7000</td>\n",
       "      <td>20.6000</td>\n",
       "      <td>14.1000</td>\n",
       "      <td>2.1000</td>\n",
       "      <td>0.4000</td>\n",
       "      <td>2.1000</td>\n",
       "      <td>0.4190</td>\n",
       "      <td>NaN</td>\n",
       "      <td>0.6670</td>\n",
       "      <td>duncati01</td>\n",
       "    </tr>\n",
       "    <tr>\n",
       "      <th>19</th>\n",
       "      <td>2004</td>\n",
       "      <td>NBA</td>\n",
       "      <td>Chauncey Billups</td>\n",
       "      <td>27</td>\n",
       "      <td>DET</td>\n",
       "      <td>5</td>\n",
       "      <td>38.8000</td>\n",
       "      <td>21.0000</td>\n",
       "      <td>3.2000</td>\n",
       "      <td>5.2000</td>\n",
       "      <td>1.2000</td>\n",
       "      <td>0.0000</td>\n",
       "      <td>0.5090</td>\n",
       "      <td>0.4710</td>\n",
       "      <td>0.9290</td>\n",
       "      <td>billuch01</td>\n",
       "    </tr>\n",
       "    <tr>\n",
       "      <th>20</th>\n",
       "      <td>2003</td>\n",
       "      <td>NBA</td>\n",
       "      <td>Tim Duncan</td>\n",
       "      <td>26</td>\n",
       "      <td>SAS</td>\n",
       "      <td>6</td>\n",
       "      <td>44.0000</td>\n",
       "      <td>24.2000</td>\n",
       "      <td>17.0000</td>\n",
       "      <td>5.3000</td>\n",
       "      <td>1.0000</td>\n",
       "      <td>5.3000</td>\n",
       "      <td>0.4950</td>\n",
       "      <td>0.0000</td>\n",
       "      <td>0.6850</td>\n",
       "      <td>duncati01</td>\n",
       "    </tr>\n",
       "  </tbody>\n",
       "</table>\n",
       "</div>"
      ],
      "text/plain": [
       "    Year   Lg                 Player  Age   Tm  G      MP     PTS     TRB  \\\n",
       "0   2023  NBA           Nikola Jokić   27  DEN  5 41.2000 30.2000 14.0000   \n",
       "1   2022  NBA          Stephen Curry   33  GSW  6 37.5000 31.2000  6.0000   \n",
       "2   2021  NBA  Giannis Antetokounmpo   26  MIL  6 39.8000 35.2000 13.2000   \n",
       "3   2020  NBA           LeBron James   35  LAL  6 39.3000 29.8000 11.8000   \n",
       "4   2019  NBA          Kawhi Leonard   27  TOR  6 40.5000 28.5000  9.8000   \n",
       "5   2018  NBA           Kevin Durant   29  GSW  4 41.3000 28.8000 10.8000   \n",
       "6   2017  NBA           Kevin Durant   28  GSW  5 39.8000 35.2000  8.2000   \n",
       "7   2016  NBA           LeBron James   31  CLE  7 41.7000 29.7000 11.3000   \n",
       "8   2015  NBA         Andre Iguodala   31  GSW  6 37.0000 16.3000  5.8000   \n",
       "9   2014  NBA          Kawhi Leonard   22  SAS  5 33.4000 17.8000  6.4000   \n",
       "10  2013  NBA           LeBron James   28  MIA  7 43.0000 25.3000 10.9000   \n",
       "11  2012  NBA           LeBron James   27  MIA  5 44.0000 28.6000 10.2000   \n",
       "12  2011  NBA          Dirk Nowitzki   32  DAL  6 40.3000 26.0000  9.7000   \n",
       "13  2010  NBA            Kobe Bryant   31  LAL  7 41.1000 28.6000  8.0000   \n",
       "14  2009  NBA            Kobe Bryant   30  LAL  5 43.8000 32.4000  5.6000   \n",
       "15  2008  NBA            Paul Pierce   30  BOS  6 38.8000 21.8000  4.5000   \n",
       "16  2007  NBA            Tony Parker   24  SAS  4 37.8000 24.5000  5.0000   \n",
       "17  2006  NBA            Dwyane Wade   24  MIA  6 43.5000 34.7000  7.8000   \n",
       "18  2005  NBA             Tim Duncan   28  SAS  7 40.7000 20.6000 14.1000   \n",
       "19  2004  NBA       Chauncey Billups   27  DET  5 38.8000 21.0000  3.2000   \n",
       "20  2003  NBA             Tim Duncan   26  SAS  6 44.0000 24.2000 17.0000   \n",
       "\n",
       "      AST    STL    BLK    FG%    3P%    FT%      -9999  \n",
       "0  7.2000 0.8000 1.4000 0.5830 0.4210 0.8380  jokicni01  \n",
       "1  5.0000 2.0000 0.2000 0.4820 0.4370 0.8570  curryst01  \n",
       "2  5.0000 1.2000 1.8000 0.6180 0.2000 0.6590  antetgi01  \n",
       "3  8.5000 1.2000 0.5000 0.5910 0.4170 0.6670  jamesle01  \n",
       "4  4.2000 2.0000 1.2000 0.4340 0.3570 0.9060  leonaka01  \n",
       "5  7.5000 0.8000 2.3000 0.5260 0.4090 0.9630  duranke01  \n",
       "6  5.4000 1.0000 1.6000 0.5560 0.4740 0.9270  duranke01  \n",
       "7  8.9000 2.6000 2.3000 0.4940 0.3710 0.7210  jamesle01  \n",
       "8  4.0000 1.3000 0.3000 0.5210 0.4000 0.3570  iguodan01  \n",
       "9  2.0000 1.6000 1.2000 0.6120 0.5790 0.7830  leonaka01  \n",
       "10 7.0000 2.3000 0.9000 0.4470 0.3530 0.7950  jamesle01  \n",
       "11 7.4000 1.6000 0.4000 0.4720 0.1880 0.8260  jamesle01  \n",
       "12 2.0000 0.7000 0.7000 0.4160 0.3680 0.9780  nowitdi01  \n",
       "13 3.9000 2.1000 0.7000 0.4050 0.3190 0.8830  bryanko01  \n",
       "14 7.4000 1.4000 1.4000 0.4300 0.3600 0.8410  bryanko01  \n",
       "15 6.3000 1.2000 0.3000 0.4320 0.3930 0.8300  piercpa01  \n",
       "16 3.3000 0.8000 0.0000 0.5680 0.5710 0.5260  parketo01  \n",
       "17 3.8000 2.7000 1.0000 0.4680 0.2730 0.7730   wadedw01  \n",
       "18 2.1000 0.4000 2.1000 0.4190    NaN 0.6670  duncati01  \n",
       "19 5.2000 1.2000 0.0000 0.5090 0.4710 0.9290  billuch01  \n",
       "20 5.3000 1.0000 5.3000 0.4950 0.0000 0.6850  duncati01  "
      ]
     },
     "execution_count": 115,
     "metadata": {},
     "output_type": "execute_result"
    }
   ],
   "source": [
    "# Load in data\n",
    "finals_mvp = pd.read_csv(f'{source_data_path}\\\\NBA Player Awards\\\\Finals MVP Results and Stats.txt',header=1)\n",
    "\n",
    "# Convert season to year\n",
    "finals_mvp.rename({'Season':'Year'},axis=1,inplace=True)\n",
    "finals_mvp['Year'] = [str(int(year.split('-')[1]) + 2000) if len(year.split('-')[1]) == 2 else year.split('-')[1] \n",
    "                     for year in finals_mvp['Year']]\n",
    "\n",
    "# Filter on just years of interest\n",
    "list_of_years = list(range(2003,2024))\n",
    "finals_mvp['Year'] = finals_mvp['Year'].astype(int)\n",
    "finals_mvp = finals_mvp.loc[finals_mvp['Year'].isin(list_of_years)]\n",
    "\n",
    "finals_mvp.head(30)"
   ]
  },
  {
   "cell_type": "markdown",
   "id": "f05a065a",
   "metadata": {},
   "source": [
    "# Stage 2.) Compile TEAM related dataframes from yearly source files   "
   ]
  },
  {
   "cell_type": "markdown",
   "id": "e983b3d5",
   "metadata": {},
   "source": [
    "## Regular Season Team Stats"
   ]
  },
  {
   "cell_type": "markdown",
   "id": "14379a63",
   "metadata": {},
   "source": [
    "### BASIC TEAM STATS IN REGULAR SEASON. Compile yearly data into one dataframe\n",
    " <a class=\"anchor\" id=\"Step11\"></a>"
   ]
  },
  {
   "cell_type": "markdown",
   "id": "bfe8dd58",
   "metadata": {},
   "source": [
    "#### Create dataframes of yearly data"
   ]
  },
  {
   "cell_type": "code",
   "execution_count": 116,
   "id": "9044841e",
   "metadata": {
    "scrolled": false
   },
   "outputs": [
    {
     "data": {
      "text/html": [
       "<div>\n",
       "<style scoped>\n",
       "    .dataframe tbody tr th:only-of-type {\n",
       "        vertical-align: middle;\n",
       "    }\n",
       "\n",
       "    .dataframe tbody tr th {\n",
       "        vertical-align: top;\n",
       "    }\n",
       "\n",
       "    .dataframe thead th {\n",
       "        text-align: right;\n",
       "    }\n",
       "</style>\n",
       "<table border=\"1\" class=\"dataframe\">\n",
       "  <thead>\n",
       "    <tr style=\"text-align: right;\">\n",
       "      <th></th>\n",
       "      <th>Rk</th>\n",
       "      <th>Team</th>\n",
       "      <th>G</th>\n",
       "      <th>MP</th>\n",
       "      <th>FG</th>\n",
       "      <th>FGA</th>\n",
       "      <th>FG%</th>\n",
       "      <th>3P</th>\n",
       "      <th>3PA</th>\n",
       "      <th>3P%</th>\n",
       "      <th>2P</th>\n",
       "      <th>2PA</th>\n",
       "      <th>2P%</th>\n",
       "      <th>FT</th>\n",
       "      <th>FTA</th>\n",
       "      <th>FT%</th>\n",
       "      <th>ORB</th>\n",
       "      <th>DRB</th>\n",
       "      <th>TRB</th>\n",
       "      <th>AST</th>\n",
       "      <th>STL</th>\n",
       "      <th>BLK</th>\n",
       "      <th>TOV</th>\n",
       "      <th>PF</th>\n",
       "      <th>PTS</th>\n",
       "      <th>Year</th>\n",
       "    </tr>\n",
       "  </thead>\n",
       "  <tbody>\n",
       "    <tr>\n",
       "      <th>0</th>\n",
       "      <td>1.0000</td>\n",
       "      <td>Dallas Mavericks*</td>\n",
       "      <td>82</td>\n",
       "      <td>241.5000</td>\n",
       "      <td>40.5000</td>\n",
       "      <td>88.2000</td>\n",
       "      <td>0.4590</td>\n",
       "      <td>6.2000</td>\n",
       "      <td>17.8000</td>\n",
       "      <td>0.3480</td>\n",
       "      <td>34.3000</td>\n",
       "      <td>70.4000</td>\n",
       "      <td>0.4880</td>\n",
       "      <td>18.0000</td>\n",
       "      <td>22.6000</td>\n",
       "      <td>0.7960</td>\n",
       "      <td>14.3000</td>\n",
       "      <td>31.0000</td>\n",
       "      <td>45.3000</td>\n",
       "      <td>23.9000</td>\n",
       "      <td>8.0000</td>\n",
       "      <td>5.3000</td>\n",
       "      <td>12.2000</td>\n",
       "      <td>19.6000</td>\n",
       "      <td>105.2000</td>\n",
       "      <td>2004</td>\n",
       "    </tr>\n",
       "  </tbody>\n",
       "</table>\n",
       "</div>"
      ],
      "text/plain": [
       "      Rk               Team   G       MP      FG     FGA    FG%     3P  \\\n",
       "0 1.0000  Dallas Mavericks*  82 241.5000 40.5000 88.2000 0.4590 6.2000   \n",
       "\n",
       "      3PA    3P%      2P     2PA    2P%      FT     FTA    FT%     ORB  \\\n",
       "0 17.8000 0.3480 34.3000 70.4000 0.4880 18.0000 22.6000 0.7960 14.3000   \n",
       "\n",
       "      DRB     TRB     AST    STL    BLK     TOV      PF      PTS  Year  \n",
       "0 31.0000 45.3000 23.9000 8.0000 5.3000 12.2000 19.6000 105.2000  2004  "
      ]
     },
     "execution_count": 116,
     "metadata": {},
     "output_type": "execute_result"
    }
   ],
   "source": [
    "create_list_of_dataframes_for_yearly_stats(f'{source_data_path}\\\\Team Stats\\\\Regular Season\\\\NBA Basic Team (TEAM) Stats',0)"
   ]
  },
  {
   "cell_type": "markdown",
   "id": "4b6a46bf",
   "metadata": {},
   "source": [
    "###### Validate that all of the yearly data files contain different data"
   ]
  },
  {
   "cell_type": "code",
   "execution_count": 117,
   "id": "3e985c90",
   "metadata": {
    "scrolled": false
   },
   "outputs": [],
   "source": [
    "check_all_unique_dataframes(master_df_list,'Year')"
   ]
  },
  {
   "cell_type": "markdown",
   "id": "3fb51c89",
   "metadata": {},
   "source": [
    "###### Validate that the column structure for every data frame is the same."
   ]
  },
  {
   "cell_type": "code",
   "execution_count": 118,
   "id": "111550a7",
   "metadata": {
    "scrolled": false
   },
   "outputs": [],
   "source": [
    "validate_column_structure_is_same(master_df_list)"
   ]
  },
  {
   "cell_type": "markdown",
   "id": "0ee47d71",
   "metadata": {},
   "source": [
    "###### Concat/combine yearly dataframes into one AND validate that the length of the combined dataframe is the same as the sum of the yearly dataframes"
   ]
  },
  {
   "cell_type": "code",
   "execution_count": 119,
   "id": "075d983f",
   "metadata": {
    "scrolled": false
   },
   "outputs": [],
   "source": [
    "concat_dataframes_and_validate_and_reset_index_and_sort('nba_team_basic_stat_in_regular_season_df',master_df_list,cumulative_row_counter)"
   ]
  },
  {
   "cell_type": "markdown",
   "id": "3f45b59c",
   "metadata": {},
   "source": [
    "###### Validate we have all of the data we need from 2004-2023"
   ]
  },
  {
   "cell_type": "code",
   "execution_count": 120,
   "id": "afa776f5",
   "metadata": {
    "scrolled": false
   },
   "outputs": [],
   "source": [
    "validate_completeness_of_data(nba_team_basic_stat_in_regular_season_df,2004,2024)"
   ]
  },
  {
   "cell_type": "markdown",
   "id": "ec822ef2",
   "metadata": {},
   "source": [
    "###### Clean team names"
   ]
  },
  {
   "cell_type": "code",
   "execution_count": 121,
   "id": "fe91b4d6",
   "metadata": {
    "scrolled": true
   },
   "outputs": [
    {
     "name": "stderr",
     "output_type": "stream",
     "text": [
      "C:\\Users\\Carey\\AppData\\Local\\Temp\\ipykernel_35268\\102270080.py:4: FutureWarning: The default value of regex will change from True to False in a future version. In addition, single character regular expressions will *not* be treated as literal strings when regex=True.\n",
      "  dataframe[column_to_clean] = dataframe[column_to_clean].str.replace(\"*\",'')\n",
      "C:\\Users\\Carey\\AppData\\Local\\Temp\\ipykernel_35268\\102270080.py:5: FutureWarning: The default value of regex will change from True to False in a future version. In addition, single character regular expressions will *not* be treated as literal strings when regex=True.\n",
      "  dataframe[column_to_clean] = dataframe[column_to_clean].str.replace(\".\",'')\n"
     ]
    }
   ],
   "source": [
    "clean_column_values(nba_team_basic_stat_in_regular_season_df,'Team')"
   ]
  },
  {
   "cell_type": "markdown",
   "id": "f8ac6388",
   "metadata": {},
   "source": [
    "### OPPONENT BASIC STATS AGAINST TEAM IN REGULAR SEASON. Compile yearly data into one dataframe\n",
    " <a class=\"anchor\" id=\"Step12\"></a>"
   ]
  },
  {
   "cell_type": "markdown",
   "id": "6bef7b95",
   "metadata": {},
   "source": [
    "#### Create dataframes of yearly data"
   ]
  },
  {
   "cell_type": "code",
   "execution_count": 122,
   "id": "db08caa2",
   "metadata": {
    "scrolled": false
   },
   "outputs": [
    {
     "data": {
      "text/html": [
       "<div>\n",
       "<style scoped>\n",
       "    .dataframe tbody tr th:only-of-type {\n",
       "        vertical-align: middle;\n",
       "    }\n",
       "\n",
       "    .dataframe tbody tr th {\n",
       "        vertical-align: top;\n",
       "    }\n",
       "\n",
       "    .dataframe thead th {\n",
       "        text-align: right;\n",
       "    }\n",
       "</style>\n",
       "<table border=\"1\" class=\"dataframe\">\n",
       "  <thead>\n",
       "    <tr style=\"text-align: right;\">\n",
       "      <th></th>\n",
       "      <th>Rk</th>\n",
       "      <th>Team</th>\n",
       "      <th>G</th>\n",
       "      <th>MP</th>\n",
       "      <th>FG</th>\n",
       "      <th>FGA</th>\n",
       "      <th>FG%</th>\n",
       "      <th>3P</th>\n",
       "      <th>3PA</th>\n",
       "      <th>3P%</th>\n",
       "      <th>2P</th>\n",
       "      <th>2PA</th>\n",
       "      <th>2P%</th>\n",
       "      <th>FT</th>\n",
       "      <th>FTA</th>\n",
       "      <th>FT%</th>\n",
       "      <th>ORB</th>\n",
       "      <th>DRB</th>\n",
       "      <th>TRB</th>\n",
       "      <th>AST</th>\n",
       "      <th>STL</th>\n",
       "      <th>BLK</th>\n",
       "      <th>TOV</th>\n",
       "      <th>PF</th>\n",
       "      <th>PTS</th>\n",
       "      <th>Year</th>\n",
       "    </tr>\n",
       "  </thead>\n",
       "  <tbody>\n",
       "    <tr>\n",
       "      <th>0</th>\n",
       "      <td>1.0000</td>\n",
       "      <td>San Antonio Spurs*</td>\n",
       "      <td>82</td>\n",
       "      <td>240.9000</td>\n",
       "      <td>31.9000</td>\n",
       "      <td>77.9000</td>\n",
       "      <td>0.4090</td>\n",
       "      <td>3.8000</td>\n",
       "      <td>11.6000</td>\n",
       "      <td>0.3270</td>\n",
       "      <td>28.1000</td>\n",
       "      <td>66.3000</td>\n",
       "      <td>0.4230</td>\n",
       "      <td>16.7000</td>\n",
       "      <td>22.5000</td>\n",
       "      <td>0.7440</td>\n",
       "      <td>11.1000</td>\n",
       "      <td>30.0000</td>\n",
       "      <td>41.1000</td>\n",
       "      <td>17.3000</td>\n",
       "      <td>7.7000</td>\n",
       "      <td>4.6000</td>\n",
       "      <td>15.3000</td>\n",
       "      <td>22.4000</td>\n",
       "      <td>84.3000</td>\n",
       "      <td>2004</td>\n",
       "    </tr>\n",
       "  </tbody>\n",
       "</table>\n",
       "</div>"
      ],
      "text/plain": [
       "      Rk                Team   G       MP      FG     FGA    FG%     3P  \\\n",
       "0 1.0000  San Antonio Spurs*  82 240.9000 31.9000 77.9000 0.4090 3.8000   \n",
       "\n",
       "      3PA    3P%      2P     2PA    2P%      FT     FTA    FT%     ORB  \\\n",
       "0 11.6000 0.3270 28.1000 66.3000 0.4230 16.7000 22.5000 0.7440 11.1000   \n",
       "\n",
       "      DRB     TRB     AST    STL    BLK     TOV      PF     PTS  Year  \n",
       "0 30.0000 41.1000 17.3000 7.7000 4.6000 15.3000 22.4000 84.3000  2004  "
      ]
     },
     "execution_count": 122,
     "metadata": {},
     "output_type": "execute_result"
    }
   ],
   "source": [
    "create_list_of_dataframes_for_yearly_stats(f'{source_data_path}\\\\Team Stats\\\\Regular Season\\\\NBA Basic Team (OPPONENT) Stats',0)"
   ]
  },
  {
   "cell_type": "markdown",
   "id": "91ed4710",
   "metadata": {},
   "source": [
    "###### Validate that all of the yearly data files contain different data"
   ]
  },
  {
   "cell_type": "code",
   "execution_count": 123,
   "id": "bb3688a4",
   "metadata": {
    "scrolled": false
   },
   "outputs": [],
   "source": [
    "check_all_unique_dataframes(master_df_list,'Year')"
   ]
  },
  {
   "cell_type": "markdown",
   "id": "d67cfb76",
   "metadata": {},
   "source": [
    "###### Validate that the column structure for every data frame is the same."
   ]
  },
  {
   "cell_type": "code",
   "execution_count": 124,
   "id": "42ab3a22",
   "metadata": {
    "scrolled": false
   },
   "outputs": [],
   "source": [
    "validate_column_structure_is_same(master_df_list)"
   ]
  },
  {
   "cell_type": "markdown",
   "id": "1bf2eb67",
   "metadata": {},
   "source": [
    "###### Concat/combine yearly dataframes into one AND validate that the length of the combined dataframe is the same as the sum of the yearly dataframes"
   ]
  },
  {
   "cell_type": "code",
   "execution_count": 125,
   "id": "a6ff331c",
   "metadata": {
    "scrolled": false
   },
   "outputs": [],
   "source": [
    "concat_dataframes_and_validate_and_reset_index_and_sort('nba_team_basic_opponent_stat_in_regular_season_df',master_df_list,cumulative_row_counter)"
   ]
  },
  {
   "cell_type": "markdown",
   "id": "79006fa0",
   "metadata": {},
   "source": [
    "###### Validate we have all of the data we need from 2004-2023"
   ]
  },
  {
   "cell_type": "code",
   "execution_count": 126,
   "id": "bbf8c8ab",
   "metadata": {
    "scrolled": false
   },
   "outputs": [],
   "source": [
    "validate_completeness_of_data(nba_team_basic_opponent_stat_in_regular_season_df,2004,2024)"
   ]
  },
  {
   "cell_type": "markdown",
   "id": "f82fc2ff",
   "metadata": {},
   "source": [
    "###### Clean team names"
   ]
  },
  {
   "cell_type": "code",
   "execution_count": 127,
   "id": "f7d4d07c",
   "metadata": {
    "scrolled": true
   },
   "outputs": [
    {
     "name": "stderr",
     "output_type": "stream",
     "text": [
      "C:\\Users\\Carey\\AppData\\Local\\Temp\\ipykernel_35268\\102270080.py:4: FutureWarning: The default value of regex will change from True to False in a future version. In addition, single character regular expressions will *not* be treated as literal strings when regex=True.\n",
      "  dataframe[column_to_clean] = dataframe[column_to_clean].str.replace(\"*\",'')\n",
      "C:\\Users\\Carey\\AppData\\Local\\Temp\\ipykernel_35268\\102270080.py:5: FutureWarning: The default value of regex will change from True to False in a future version. In addition, single character regular expressions will *not* be treated as literal strings when regex=True.\n",
      "  dataframe[column_to_clean] = dataframe[column_to_clean].str.replace(\".\",'')\n"
     ]
    }
   ],
   "source": [
    "clean_column_values(nba_team_basic_opponent_stat_in_regular_season_df,'Team')"
   ]
  },
  {
   "cell_type": "markdown",
   "id": "a3b3705d",
   "metadata": {},
   "source": [
    "### ADVANCED TEAM STATS IN REGULAR SEASON. Compile yearly data into one dataframe\n",
    " <a class=\"anchor\" id=\"Step13\"></a>"
   ]
  },
  {
   "cell_type": "markdown",
   "id": "ad2b08c3",
   "metadata": {},
   "source": [
    "#### Create dataframes of yearly data"
   ]
  },
  {
   "cell_type": "code",
   "execution_count": 128,
   "id": "e9996546",
   "metadata": {
    "scrolled": false
   },
   "outputs": [
    {
     "data": {
      "text/html": [
       "<div>\n",
       "<style scoped>\n",
       "    .dataframe tbody tr th:only-of-type {\n",
       "        vertical-align: middle;\n",
       "    }\n",
       "\n",
       "    .dataframe tbody tr th {\n",
       "        vertical-align: top;\n",
       "    }\n",
       "\n",
       "    .dataframe thead th {\n",
       "        text-align: right;\n",
       "    }\n",
       "</style>\n",
       "<table border=\"1\" class=\"dataframe\">\n",
       "  <thead>\n",
       "    <tr style=\"text-align: right;\">\n",
       "      <th></th>\n",
       "      <th>Rk</th>\n",
       "      <th>Team</th>\n",
       "      <th>Age</th>\n",
       "      <th>W</th>\n",
       "      <th>L</th>\n",
       "      <th>PW</th>\n",
       "      <th>PL</th>\n",
       "      <th>MOV</th>\n",
       "      <th>SOS</th>\n",
       "      <th>SRS</th>\n",
       "      <th>ORtg</th>\n",
       "      <th>DRtg</th>\n",
       "      <th>NRtg</th>\n",
       "      <th>Pace</th>\n",
       "      <th>FTr</th>\n",
       "      <th>3PAr</th>\n",
       "      <th>TS%</th>\n",
       "      <th>Unnamed: 17</th>\n",
       "      <th>eFG%</th>\n",
       "      <th>TOV%</th>\n",
       "      <th>ORB%</th>\n",
       "      <th>FT/FGA</th>\n",
       "      <th>Unnamed: 22</th>\n",
       "      <th>eFG%.1</th>\n",
       "      <th>TOV%.1</th>\n",
       "      <th>DRB%</th>\n",
       "      <th>FT/FGA.1</th>\n",
       "      <th>Unnamed: 27</th>\n",
       "      <th>Arena</th>\n",
       "      <th>Attend.</th>\n",
       "      <th>Attend./G</th>\n",
       "      <th>Year</th>\n",
       "    </tr>\n",
       "  </thead>\n",
       "  <tbody>\n",
       "    <tr>\n",
       "      <th>0</th>\n",
       "      <td>1.0000</td>\n",
       "      <td>San Antonio Spurs*</td>\n",
       "      <td>27.3000</td>\n",
       "      <td>57.0000</td>\n",
       "      <td>25.0000</td>\n",
       "      <td>62</td>\n",
       "      <td>20</td>\n",
       "      <td>7.2200</td>\n",
       "      <td>0.2900</td>\n",
       "      <td>7.5100</td>\n",
       "      <td>102.2000</td>\n",
       "      <td>94.1000</td>\n",
       "      <td>8.1000</td>\n",
       "      <td>89.2000</td>\n",
       "      <td>0.3220</td>\n",
       "      <td>0.1770</td>\n",
       "      <td>0.5110</td>\n",
       "      <td>NaN</td>\n",
       "      <td>0.4730</td>\n",
       "      <td>14.1000</td>\n",
       "      <td>29.5000</td>\n",
       "      <td>0.2190</td>\n",
       "      <td>NaN</td>\n",
       "      <td>0.4330</td>\n",
       "      <td>14.8000</td>\n",
       "      <td>74.6000</td>\n",
       "      <td>0.2150</td>\n",
       "      <td>NaN</td>\n",
       "      <td>SBC Center</td>\n",
       "      <td>739706</td>\n",
       "      <td>18042</td>\n",
       "      <td>2004</td>\n",
       "    </tr>\n",
       "  </tbody>\n",
       "</table>\n",
       "</div>"
      ],
      "text/plain": [
       "      Rk                Team     Age       W       L  PW  PL    MOV    SOS  \\\n",
       "0 1.0000  San Antonio Spurs* 27.3000 57.0000 25.0000  62  20 7.2200 0.2900   \n",
       "\n",
       "     SRS     ORtg    DRtg   NRtg    Pace    FTr   3PAr    TS%  Unnamed: 17  \\\n",
       "0 7.5100 102.2000 94.1000 8.1000 89.2000 0.3220 0.1770 0.5110          NaN   \n",
       "\n",
       "    eFG%    TOV%    ORB%  FT/FGA  Unnamed: 22  eFG%.1  TOV%.1    DRB%  \\\n",
       "0 0.4730 14.1000 29.5000  0.2190          NaN  0.4330 14.8000 74.6000   \n",
       "\n",
       "   FT/FGA.1  Unnamed: 27       Arena  Attend.  Attend./G  Year  \n",
       "0    0.2150          NaN  SBC Center   739706      18042  2004  "
      ]
     },
     "execution_count": 128,
     "metadata": {},
     "output_type": "execute_result"
    }
   ],
   "source": [
    "create_list_of_dataframes_for_yearly_stats(f'{source_data_path}\\\\Team Stats\\\\Regular Season\\\\NBA Advanced Team Stats',1)"
   ]
  },
  {
   "cell_type": "markdown",
   "id": "54a50e0d",
   "metadata": {},
   "source": [
    "###### Validate that all of the yearly data files contain different data"
   ]
  },
  {
   "cell_type": "code",
   "execution_count": 129,
   "id": "6dd0825d",
   "metadata": {
    "scrolled": false
   },
   "outputs": [],
   "source": [
    "check_all_unique_dataframes(master_df_list,'Year')"
   ]
  },
  {
   "cell_type": "markdown",
   "id": "93bb5b63",
   "metadata": {},
   "source": [
    "###### Validate that the column structure for every data frame is the same."
   ]
  },
  {
   "cell_type": "code",
   "execution_count": 130,
   "id": "e3aabcd5",
   "metadata": {
    "scrolled": false
   },
   "outputs": [],
   "source": [
    "validate_column_structure_is_same(master_df_list)"
   ]
  },
  {
   "cell_type": "markdown",
   "id": "07bfafa4",
   "metadata": {},
   "source": [
    "###### Concat/combine yearly dataframes into one AND validate that the length of the combined dataframe is the same as the sum of the yearly dataframes"
   ]
  },
  {
   "cell_type": "code",
   "execution_count": 131,
   "id": "4f90e623",
   "metadata": {
    "scrolled": false
   },
   "outputs": [],
   "source": [
    "concat_dataframes_and_validate_and_reset_index_and_sort('nba_advanced_team_stats',master_df_list,cumulative_row_counter)"
   ]
  },
  {
   "cell_type": "markdown",
   "id": "868c4fca",
   "metadata": {},
   "source": [
    "###### Validate we have all of the data we need from 2004-2023"
   ]
  },
  {
   "cell_type": "code",
   "execution_count": 132,
   "id": "b86ab921",
   "metadata": {
    "scrolled": false
   },
   "outputs": [],
   "source": [
    "validate_completeness_of_data(nba_advanced_team_stats,2004,2024)"
   ]
  },
  {
   "cell_type": "markdown",
   "id": "9223d8fd",
   "metadata": {},
   "source": [
    "###### Clean team names"
   ]
  },
  {
   "cell_type": "code",
   "execution_count": 133,
   "id": "d3978340",
   "metadata": {
    "scrolled": true
   },
   "outputs": [
    {
     "name": "stderr",
     "output_type": "stream",
     "text": [
      "C:\\Users\\Carey\\AppData\\Local\\Temp\\ipykernel_35268\\102270080.py:4: FutureWarning: The default value of regex will change from True to False in a future version. In addition, single character regular expressions will *not* be treated as literal strings when regex=True.\n",
      "  dataframe[column_to_clean] = dataframe[column_to_clean].str.replace(\"*\",'')\n",
      "C:\\Users\\Carey\\AppData\\Local\\Temp\\ipykernel_35268\\102270080.py:5: FutureWarning: The default value of regex will change from True to False in a future version. In addition, single character regular expressions will *not* be treated as literal strings when regex=True.\n",
      "  dataframe[column_to_clean] = dataframe[column_to_clean].str.replace(\".\",'')\n"
     ]
    }
   ],
   "source": [
    "clean_column_values(nba_advanced_team_stats,'Team')"
   ]
  },
  {
   "cell_type": "markdown",
   "id": "7194cf9f",
   "metadata": {},
   "source": [
    "### TEAM SHOOTING IN REGULAR SEASON. Compile yearly data into one dataframe\n",
    " <a class=\"anchor\" id=\"Step14\"></a>"
   ]
  },
  {
   "cell_type": "markdown",
   "id": "3aad0bab",
   "metadata": {},
   "source": [
    "#### Create dataframes of yearly data"
   ]
  },
  {
   "cell_type": "code",
   "execution_count": 134,
   "id": "b533d747",
   "metadata": {
    "scrolled": false
   },
   "outputs": [
    {
     "data": {
      "text/html": [
       "<div>\n",
       "<style scoped>\n",
       "    .dataframe tbody tr th:only-of-type {\n",
       "        vertical-align: middle;\n",
       "    }\n",
       "\n",
       "    .dataframe tbody tr th {\n",
       "        vertical-align: top;\n",
       "    }\n",
       "\n",
       "    .dataframe thead th {\n",
       "        text-align: right;\n",
       "    }\n",
       "</style>\n",
       "<table border=\"1\" class=\"dataframe\">\n",
       "  <thead>\n",
       "    <tr style=\"text-align: right;\">\n",
       "      <th></th>\n",
       "      <th>Rk</th>\n",
       "      <th>Team</th>\n",
       "      <th>G</th>\n",
       "      <th>MP</th>\n",
       "      <th>FG%</th>\n",
       "      <th>Dist.</th>\n",
       "      <th>Unnamed: 6</th>\n",
       "      <th>2P</th>\n",
       "      <th>0-3</th>\n",
       "      <th>3-10</th>\n",
       "      <th>10-16</th>\n",
       "      <th>16-3P</th>\n",
       "      <th>3P</th>\n",
       "      <th>Unnamed: 13</th>\n",
       "      <th>2P.1</th>\n",
       "      <th>0-3.1</th>\n",
       "      <th>3-10.1</th>\n",
       "      <th>10-16.1</th>\n",
       "      <th>16-3P.1</th>\n",
       "      <th>3P.1</th>\n",
       "      <th>Unnamed: 20</th>\n",
       "      <th>2P.2</th>\n",
       "      <th>3P.2</th>\n",
       "      <th>Unnamed: 23</th>\n",
       "      <th>%FGA</th>\n",
       "      <th>Md.</th>\n",
       "      <th>Unnamed: 26</th>\n",
       "      <th>%FGA.1</th>\n",
       "      <th>Md..1</th>\n",
       "      <th>Unnamed: 29</th>\n",
       "      <th>%3PA</th>\n",
       "      <th>3P%</th>\n",
       "      <th>Unnamed: 32</th>\n",
       "      <th>Att.</th>\n",
       "      <th>Md..2</th>\n",
       "      <th>Year</th>\n",
       "    </tr>\n",
       "  </thead>\n",
       "  <tbody>\n",
       "    <tr>\n",
       "      <th>0</th>\n",
       "      <td>1.0000</td>\n",
       "      <td>Atlanta Hawks</td>\n",
       "      <td>82</td>\n",
       "      <td>19905</td>\n",
       "      <td>0.4330</td>\n",
       "      <td>11.7000</td>\n",
       "      <td>NaN</td>\n",
       "      <td>0.8090</td>\n",
       "      <td>0.3030</td>\n",
       "      <td>0.1480</td>\n",
       "      <td>0.1530</td>\n",
       "      <td>0.2050</td>\n",
       "      <td>0.1910</td>\n",
       "      <td>NaN</td>\n",
       "      <td>0.4560</td>\n",
       "      <td>0.5770</td>\n",
       "      <td>0.3710</td>\n",
       "      <td>0.3630</td>\n",
       "      <td>0.4090</td>\n",
       "      <td>0.3350</td>\n",
       "      <td>NaN</td>\n",
       "      <td>0.5370</td>\n",
       "      <td>0.8450</td>\n",
       "      <td>NaN</td>\n",
       "      <td>0.0450</td>\n",
       "      <td>289</td>\n",
       "      <td>NaN</td>\n",
       "      <td>0.2320</td>\n",
       "      <td>767</td>\n",
       "      <td>NaN</td>\n",
       "      <td>0.2920</td>\n",
       "      <td>0.3700</td>\n",
       "      <td>NaN</td>\n",
       "      <td>2.0000</td>\n",
       "      <td>0.0000</td>\n",
       "      <td>2004</td>\n",
       "    </tr>\n",
       "  </tbody>\n",
       "</table>\n",
       "</div>"
      ],
      "text/plain": [
       "      Rk           Team   G     MP    FG%   Dist.  Unnamed: 6     2P    0-3  \\\n",
       "0 1.0000  Atlanta Hawks  82  19905 0.4330 11.7000         NaN 0.8090 0.3030   \n",
       "\n",
       "    3-10  10-16  16-3P     3P  Unnamed: 13   2P.1  0-3.1  3-10.1  10-16.1  \\\n",
       "0 0.1480 0.1530 0.2050 0.1910          NaN 0.4560 0.5770  0.3710   0.3630   \n",
       "\n",
       "   16-3P.1   3P.1  Unnamed: 20   2P.2   3P.2  Unnamed: 23   %FGA  Md.  \\\n",
       "0   0.4090 0.3350          NaN 0.5370 0.8450          NaN 0.0450  289   \n",
       "\n",
       "   Unnamed: 26  %FGA.1  Md..1  Unnamed: 29   %3PA    3P%  Unnamed: 32   Att.  \\\n",
       "0          NaN  0.2320    767          NaN 0.2920 0.3700          NaN 2.0000   \n",
       "\n",
       "   Md..2  Year  \n",
       "0 0.0000  2004  "
      ]
     },
     "execution_count": 134,
     "metadata": {},
     "output_type": "execute_result"
    }
   ],
   "source": [
    "create_list_of_dataframes_for_yearly_stats(f'{source_data_path}\\\\Team Stats\\\\Regular Season\\\\NBA Shooting Team (TEAM) Stats',1)"
   ]
  },
  {
   "cell_type": "markdown",
   "id": "6967151c",
   "metadata": {},
   "source": [
    "###### Validate that all of the yearly data files contain different data"
   ]
  },
  {
   "cell_type": "code",
   "execution_count": 135,
   "id": "117463b5",
   "metadata": {
    "scrolled": false
   },
   "outputs": [],
   "source": [
    "check_all_unique_dataframes(master_df_list,'Year')"
   ]
  },
  {
   "cell_type": "markdown",
   "id": "29fc6477",
   "metadata": {},
   "source": [
    "###### Validate that the column structure for every data frame is the same."
   ]
  },
  {
   "cell_type": "code",
   "execution_count": 136,
   "id": "3d738e47",
   "metadata": {
    "scrolled": false
   },
   "outputs": [],
   "source": [
    "validate_column_structure_is_same(master_df_list)"
   ]
  },
  {
   "cell_type": "markdown",
   "id": "08823793",
   "metadata": {},
   "source": [
    "###### Concat/combine yearly dataframes into one AND validate that the length of the combined dataframe is the same as the sum of the yearly dataframes"
   ]
  },
  {
   "cell_type": "code",
   "execution_count": 137,
   "id": "8d5f53a5",
   "metadata": {
    "scrolled": false
   },
   "outputs": [],
   "source": [
    "concat_dataframes_and_validate_and_reset_index_and_sort('nba_team_shooting_stat_in_regular_season_df',master_df_list,cumulative_row_counter)"
   ]
  },
  {
   "cell_type": "markdown",
   "id": "b0548f6e",
   "metadata": {},
   "source": [
    "###### Validate we have all of the data we need from 2004-2023"
   ]
  },
  {
   "cell_type": "code",
   "execution_count": 138,
   "id": "a8143205",
   "metadata": {
    "scrolled": false
   },
   "outputs": [],
   "source": [
    "validate_completeness_of_data(nba_team_shooting_stat_in_regular_season_df,2004,2024)"
   ]
  },
  {
   "cell_type": "markdown",
   "id": "6f9b112b",
   "metadata": {},
   "source": [
    "###### Clean team names"
   ]
  },
  {
   "cell_type": "code",
   "execution_count": 139,
   "id": "6d7091ce",
   "metadata": {
    "scrolled": false
   },
   "outputs": [
    {
     "name": "stderr",
     "output_type": "stream",
     "text": [
      "C:\\Users\\Carey\\AppData\\Local\\Temp\\ipykernel_35268\\102270080.py:4: FutureWarning: The default value of regex will change from True to False in a future version. In addition, single character regular expressions will *not* be treated as literal strings when regex=True.\n",
      "  dataframe[column_to_clean] = dataframe[column_to_clean].str.replace(\"*\",'')\n",
      "C:\\Users\\Carey\\AppData\\Local\\Temp\\ipykernel_35268\\102270080.py:5: FutureWarning: The default value of regex will change from True to False in a future version. In addition, single character regular expressions will *not* be treated as literal strings when regex=True.\n",
      "  dataframe[column_to_clean] = dataframe[column_to_clean].str.replace(\".\",'')\n"
     ]
    }
   ],
   "source": [
    "clean_column_values(nba_team_shooting_stat_in_regular_season_df,'Team')"
   ]
  },
  {
   "cell_type": "markdown",
   "id": "b359d3b9",
   "metadata": {},
   "source": [
    "### OPPONENT SHOOTING AGAINST TEAM IN REGULAR SEASON. Compile yearly data into one dataframe\n",
    " <a class=\"anchor\" id=\"Step15\"></a>"
   ]
  },
  {
   "cell_type": "markdown",
   "id": "4d4af40d",
   "metadata": {},
   "source": [
    "#### Create dataframes of yearly data"
   ]
  },
  {
   "cell_type": "code",
   "execution_count": 140,
   "id": "f8938f2e",
   "metadata": {
    "scrolled": false
   },
   "outputs": [
    {
     "data": {
      "text/html": [
       "<div>\n",
       "<style scoped>\n",
       "    .dataframe tbody tr th:only-of-type {\n",
       "        vertical-align: middle;\n",
       "    }\n",
       "\n",
       "    .dataframe tbody tr th {\n",
       "        vertical-align: top;\n",
       "    }\n",
       "\n",
       "    .dataframe thead th {\n",
       "        text-align: right;\n",
       "    }\n",
       "</style>\n",
       "<table border=\"1\" class=\"dataframe\">\n",
       "  <thead>\n",
       "    <tr style=\"text-align: right;\">\n",
       "      <th></th>\n",
       "      <th>Rk</th>\n",
       "      <th>Team</th>\n",
       "      <th>G</th>\n",
       "      <th>MP</th>\n",
       "      <th>FG%</th>\n",
       "      <th>Dist.</th>\n",
       "      <th>Unnamed: 6</th>\n",
       "      <th>2P</th>\n",
       "      <th>0-3</th>\n",
       "      <th>3-10</th>\n",
       "      <th>10-16</th>\n",
       "      <th>16-3P</th>\n",
       "      <th>3P</th>\n",
       "      <th>Unnamed: 13</th>\n",
       "      <th>2P.1</th>\n",
       "      <th>0-3.1</th>\n",
       "      <th>3-10.1</th>\n",
       "      <th>10-16.1</th>\n",
       "      <th>16-3P.1</th>\n",
       "      <th>3P.1</th>\n",
       "      <th>Unnamed: 20</th>\n",
       "      <th>2P.2</th>\n",
       "      <th>3P.2</th>\n",
       "      <th>Unnamed: 23</th>\n",
       "      <th>%FGA</th>\n",
       "      <th>Md.</th>\n",
       "      <th>Unnamed: 26</th>\n",
       "      <th>%FGA.1</th>\n",
       "      <th>Md..1</th>\n",
       "      <th>Unnamed: 29</th>\n",
       "      <th>%3PA</th>\n",
       "      <th>3P%</th>\n",
       "      <th>Year</th>\n",
       "    </tr>\n",
       "  </thead>\n",
       "  <tbody>\n",
       "    <tr>\n",
       "      <th>0</th>\n",
       "      <td>1.0000</td>\n",
       "      <td>Atlanta Hawks</td>\n",
       "      <td>82</td>\n",
       "      <td>19905</td>\n",
       "      <td>0.4400</td>\n",
       "      <td>11.5000</td>\n",
       "      <td>NaN</td>\n",
       "      <td>0.8000</td>\n",
       "      <td>0.3120</td>\n",
       "      <td>0.1610</td>\n",
       "      <td>0.1410</td>\n",
       "      <td>0.1870</td>\n",
       "      <td>0.2000</td>\n",
       "      <td>NaN</td>\n",
       "      <td>0.4610</td>\n",
       "      <td>0.5750</td>\n",
       "      <td>0.3860</td>\n",
       "      <td>0.3530</td>\n",
       "      <td>0.4160</td>\n",
       "      <td>0.3580</td>\n",
       "      <td>NaN</td>\n",
       "      <td>0.5530</td>\n",
       "      <td>0.8860</td>\n",
       "      <td>NaN</td>\n",
       "      <td>0.0480</td>\n",
       "      <td>294</td>\n",
       "      <td>NaN</td>\n",
       "      <td>0.2400</td>\n",
       "      <td>840</td>\n",
       "      <td>NaN</td>\n",
       "      <td>0.2610</td>\n",
       "      <td>0.3960</td>\n",
       "      <td>2004</td>\n",
       "    </tr>\n",
       "  </tbody>\n",
       "</table>\n",
       "</div>"
      ],
      "text/plain": [
       "      Rk           Team   G     MP    FG%   Dist.  Unnamed: 6     2P    0-3  \\\n",
       "0 1.0000  Atlanta Hawks  82  19905 0.4400 11.5000         NaN 0.8000 0.3120   \n",
       "\n",
       "    3-10  10-16  16-3P     3P  Unnamed: 13   2P.1  0-3.1  3-10.1  10-16.1  \\\n",
       "0 0.1610 0.1410 0.1870 0.2000          NaN 0.4610 0.5750  0.3860   0.3530   \n",
       "\n",
       "   16-3P.1   3P.1  Unnamed: 20   2P.2   3P.2  Unnamed: 23   %FGA  Md.  \\\n",
       "0   0.4160 0.3580          NaN 0.5530 0.8860          NaN 0.0480  294   \n",
       "\n",
       "   Unnamed: 26  %FGA.1  Md..1  Unnamed: 29   %3PA    3P%  Year  \n",
       "0          NaN  0.2400    840          NaN 0.2610 0.3960  2004  "
      ]
     },
     "execution_count": 140,
     "metadata": {},
     "output_type": "execute_result"
    }
   ],
   "source": [
    "create_list_of_dataframes_for_yearly_stats(f'{source_data_path}\\\\Team Stats\\\\Regular Season\\\\NBA Shooting Team (OPPONENT) Stats',1)"
   ]
  },
  {
   "cell_type": "markdown",
   "id": "a4aad105",
   "metadata": {},
   "source": [
    "###### Validate that all of the yearly data files contain different data"
   ]
  },
  {
   "cell_type": "code",
   "execution_count": 141,
   "id": "1e9b9038",
   "metadata": {
    "scrolled": false
   },
   "outputs": [],
   "source": [
    "check_all_unique_dataframes(master_df_list,'Year')"
   ]
  },
  {
   "cell_type": "markdown",
   "id": "66ffb89d",
   "metadata": {},
   "source": [
    "###### Validate that the column structure for every data frame is the same."
   ]
  },
  {
   "cell_type": "code",
   "execution_count": 142,
   "id": "cad5abe3",
   "metadata": {
    "scrolled": false
   },
   "outputs": [],
   "source": [
    "validate_column_structure_is_same(master_df_list)"
   ]
  },
  {
   "cell_type": "markdown",
   "id": "7f631397",
   "metadata": {},
   "source": [
    "###### Concat/combine yearly dataframes into one AND validate that the length of the combined dataframe is the same as the sum of the yearly dataframes"
   ]
  },
  {
   "cell_type": "code",
   "execution_count": 143,
   "id": "ea4a197c",
   "metadata": {
    "scrolled": false
   },
   "outputs": [],
   "source": [
    "concat_dataframes_and_validate_and_reset_index_and_sort('nba_team_opponent_shooting_stat_in_regular_season_df',master_df_list,cumulative_row_counter)"
   ]
  },
  {
   "cell_type": "markdown",
   "id": "54612ac9",
   "metadata": {},
   "source": [
    "###### Validate we have all of the data we need from 2004-2023"
   ]
  },
  {
   "cell_type": "code",
   "execution_count": 144,
   "id": "8488b4df",
   "metadata": {
    "scrolled": false
   },
   "outputs": [],
   "source": [
    "validate_completeness_of_data(nba_team_opponent_shooting_stat_in_regular_season_df,2004,2024)"
   ]
  },
  {
   "cell_type": "markdown",
   "id": "bdfed24d",
   "metadata": {},
   "source": [
    "###### Clean team names"
   ]
  },
  {
   "cell_type": "code",
   "execution_count": 145,
   "id": "16d36d4c",
   "metadata": {
    "scrolled": true
   },
   "outputs": [
    {
     "name": "stderr",
     "output_type": "stream",
     "text": [
      "C:\\Users\\Carey\\AppData\\Local\\Temp\\ipykernel_35268\\102270080.py:4: FutureWarning: The default value of regex will change from True to False in a future version. In addition, single character regular expressions will *not* be treated as literal strings when regex=True.\n",
      "  dataframe[column_to_clean] = dataframe[column_to_clean].str.replace(\"*\",'')\n",
      "C:\\Users\\Carey\\AppData\\Local\\Temp\\ipykernel_35268\\102270080.py:5: FutureWarning: The default value of regex will change from True to False in a future version. In addition, single character regular expressions will *not* be treated as literal strings when regex=True.\n",
      "  dataframe[column_to_clean] = dataframe[column_to_clean].str.replace(\".\",'')\n"
     ]
    }
   ],
   "source": [
    "clean_column_values(nba_team_opponent_shooting_stat_in_regular_season_df,'Team')"
   ]
  },
  {
   "cell_type": "markdown",
   "id": "dad171d9",
   "metadata": {},
   "source": [
    "### Regular Season Team Standings\n",
    " <a class=\"anchor\" id=\"Step22\"></a>"
   ]
  },
  {
   "cell_type": "markdown",
   "id": "59db60f6",
   "metadata": {},
   "source": [
    "#### Create dataframes of yearly data. Remove columns causing load issues (Division data and Month Data) that we're not interested in anyway"
   ]
  },
  {
   "cell_type": "code",
   "execution_count": 146,
   "id": "f93940bd",
   "metadata": {
    "scrolled": false
   },
   "outputs": [
    {
     "data": {
      "text/html": [
       "<div>\n",
       "<style scoped>\n",
       "    .dataframe tbody tr th:only-of-type {\n",
       "        vertical-align: middle;\n",
       "    }\n",
       "\n",
       "    .dataframe tbody tr th {\n",
       "        vertical-align: top;\n",
       "    }\n",
       "\n",
       "    .dataframe thead th {\n",
       "        text-align: right;\n",
       "    }\n",
       "</style>\n",
       "<table border=\"1\" class=\"dataframe\">\n",
       "  <thead>\n",
       "    <tr style=\"text-align: right;\">\n",
       "      <th></th>\n",
       "      <th>Rk</th>\n",
       "      <th>Team</th>\n",
       "      <th>Overall</th>\n",
       "      <th>Home</th>\n",
       "      <th>Road</th>\n",
       "      <th>Pre</th>\n",
       "      <th>Post</th>\n",
       "      <th>≤3</th>\n",
       "      <th>≥10</th>\n",
       "      <th>Year</th>\n",
       "    </tr>\n",
       "  </thead>\n",
       "  <tbody>\n",
       "    <tr>\n",
       "      <th>0</th>\n",
       "      <td>1</td>\n",
       "      <td>Indiana Pacers</td>\n",
       "      <td>61-21</td>\n",
       "      <td>34-7</td>\n",
       "      <td>27-14</td>\n",
       "      <td>39-14</td>\n",
       "      <td>22-7</td>\n",
       "      <td>7-6</td>\n",
       "      <td>30-8</td>\n",
       "      <td>2004</td>\n",
       "    </tr>\n",
       "  </tbody>\n",
       "</table>\n",
       "</div>"
      ],
      "text/plain": [
       "   Rk            Team Overall  Home   Road    Pre  Post   ≤3   ≥10  Year\n",
       "0   1  Indiana Pacers   61-21  34-7  27-14  39-14  22-7  7-6  30-8  2004"
      ]
     },
     "execution_count": 146,
     "metadata": {},
     "output_type": "execute_result"
    }
   ],
   "source": [
    "folder_path = f'{source_data_path}\\\\NBA Standings'\n",
    "\n",
    "master_df_list = []\n",
    "\n",
    "cumulative_row_counter = 0\n",
    "\n",
    "for file_name in os.listdir(folder_path):\n",
    "\n",
    "    if file_name == 'desktop.ini':\n",
    "\n",
    "        continue\n",
    "\n",
    "    # Assign season value\n",
    "    year = file_name.split(' ')[0]\n",
    "\n",
    "    # Create dataframe name\n",
    "    dataframe_name = f'_{file_name.split(\".\")[0].lower().replace(\" \",\"_\")}_df'\n",
    "\n",
    "    # Store dataframe globally with specified name\n",
    "    globals()[dataframe_name] = pd.read_csv(f'{folder_path}\\\\{file_name}',header=1)\n",
    "\n",
    "    # Add a Year Column and assign to year\n",
    "    globals()[dataframe_name]['Year'] = int(year)\n",
    "    \n",
    "    ## Remove columns causing load issues we don't need anyway ##\n",
    "    list_to_remove = ['M','E','W','A','C','SE','NW','P','SW','Oct','Nov','Dec','Jan','Feb','Mar','Apr','May','Jun','Jul','Aug','Sep']\n",
    "    \n",
    "    for column in list_to_remove:\n",
    "        if column in list(globals()[dataframe_name].columns):\n",
    "            globals()[dataframe_name].drop(column,axis=1,inplace=True)\n",
    "\n",
    "    # Append to master_df_list\n",
    "    master_df_list.append(globals()[dataframe_name]) \n",
    "\n",
    "    # Cumulative_row_counter\n",
    "    cumulative_row_counter = cumulative_row_counter + len(globals()[dataframe_name])\n",
    "\n",
    "master_df_list[0].head(1)"
   ]
  },
  {
   "cell_type": "markdown",
   "id": "ad6a960c",
   "metadata": {},
   "source": [
    "###### Validate that all of the yearly data files contain different data"
   ]
  },
  {
   "cell_type": "code",
   "execution_count": 147,
   "id": "6f375470",
   "metadata": {
    "scrolled": false
   },
   "outputs": [],
   "source": [
    "check_all_unique_dataframes(master_df_list,'Year')"
   ]
  },
  {
   "cell_type": "markdown",
   "id": "b8eeddaf",
   "metadata": {},
   "source": [
    "###### Validate that the column structure for every data frame is the same."
   ]
  },
  {
   "cell_type": "code",
   "execution_count": 148,
   "id": "3758e0ef",
   "metadata": {
    "scrolled": false
   },
   "outputs": [],
   "source": [
    "validate_column_structure_is_same(master_df_list)"
   ]
  },
  {
   "cell_type": "markdown",
   "id": "4b991e9d",
   "metadata": {},
   "source": [
    "###### Concat/combine yearly dataframes into one AND validate that the length of the combined dataframe is the same as the sum of the yearly dataframes"
   ]
  },
  {
   "cell_type": "code",
   "execution_count": 149,
   "id": "a1ca5304",
   "metadata": {
    "scrolled": false
   },
   "outputs": [],
   "source": [
    "concat_dataframes_and_validate_and_reset_index_and_sort('regular_season_standing_df',master_df_list,cumulative_row_counter)"
   ]
  },
  {
   "cell_type": "markdown",
   "id": "aae17773",
   "metadata": {},
   "source": [
    "###### Validate we have all of the data we need from 2004-2023"
   ]
  },
  {
   "cell_type": "code",
   "execution_count": 150,
   "id": "171a4106",
   "metadata": {
    "scrolled": false
   },
   "outputs": [],
   "source": [
    "validate_completeness_of_data(regular_season_standing_df,2004,2024)"
   ]
  },
  {
   "cell_type": "markdown",
   "id": "05c5e75f",
   "metadata": {},
   "source": [
    "###### Clean team names"
   ]
  },
  {
   "cell_type": "code",
   "execution_count": 151,
   "id": "5a8d36d0",
   "metadata": {
    "scrolled": true
   },
   "outputs": [
    {
     "name": "stderr",
     "output_type": "stream",
     "text": [
      "C:\\Users\\Carey\\AppData\\Local\\Temp\\ipykernel_35268\\102270080.py:4: FutureWarning: The default value of regex will change from True to False in a future version. In addition, single character regular expressions will *not* be treated as literal strings when regex=True.\n",
      "  dataframe[column_to_clean] = dataframe[column_to_clean].str.replace(\"*\",'')\n",
      "C:\\Users\\Carey\\AppData\\Local\\Temp\\ipykernel_35268\\102270080.py:5: FutureWarning: The default value of regex will change from True to False in a future version. In addition, single character regular expressions will *not* be treated as literal strings when regex=True.\n",
      "  dataframe[column_to_clean] = dataframe[column_to_clean].str.replace(\".\",'')\n"
     ]
    }
   ],
   "source": [
    "clean_column_values(regular_season_standing_df,'Team')"
   ]
  },
  {
   "cell_type": "markdown",
   "id": "afed6d56",
   "metadata": {},
   "source": [
    "## Team Playoff Stats"
   ]
  },
  {
   "cell_type": "markdown",
   "id": "d34ffb15",
   "metadata": {},
   "source": [
    "### BASIC TEAM STATS IN PLAYOFFS. Compile yearly data into one dataframe\n",
    " <a class=\"anchor\" id=\"Step16\"></a>"
   ]
  },
  {
   "cell_type": "markdown",
   "id": "e8e2edac",
   "metadata": {},
   "source": [
    "#### Create dataframes of yearly data"
   ]
  },
  {
   "cell_type": "code",
   "execution_count": 152,
   "id": "26096e4f",
   "metadata": {
    "scrolled": false
   },
   "outputs": [
    {
     "data": {
      "text/html": [
       "<div>\n",
       "<style scoped>\n",
       "    .dataframe tbody tr th:only-of-type {\n",
       "        vertical-align: middle;\n",
       "    }\n",
       "\n",
       "    .dataframe tbody tr th {\n",
       "        vertical-align: top;\n",
       "    }\n",
       "\n",
       "    .dataframe thead th {\n",
       "        text-align: right;\n",
       "    }\n",
       "</style>\n",
       "<table border=\"1\" class=\"dataframe\">\n",
       "  <thead>\n",
       "    <tr style=\"text-align: right;\">\n",
       "      <th></th>\n",
       "      <th>Rk</th>\n",
       "      <th>Tm</th>\n",
       "      <th>G</th>\n",
       "      <th>MP</th>\n",
       "      <th>FG</th>\n",
       "      <th>FGA</th>\n",
       "      <th>FG%</th>\n",
       "      <th>3P</th>\n",
       "      <th>3PA</th>\n",
       "      <th>3P%</th>\n",
       "      <th>2P</th>\n",
       "      <th>2PA</th>\n",
       "      <th>2P%</th>\n",
       "      <th>FT</th>\n",
       "      <th>FTA</th>\n",
       "      <th>FT%</th>\n",
       "      <th>ORB</th>\n",
       "      <th>DRB</th>\n",
       "      <th>TRB</th>\n",
       "      <th>AST</th>\n",
       "      <th>STL</th>\n",
       "      <th>BLK</th>\n",
       "      <th>TOV</th>\n",
       "      <th>PF</th>\n",
       "      <th>PTS</th>\n",
       "      <th>Year</th>\n",
       "    </tr>\n",
       "  </thead>\n",
       "  <tbody>\n",
       "    <tr>\n",
       "      <th>0</th>\n",
       "      <td>1.0000</td>\n",
       "      <td>Dallas Mavericks</td>\n",
       "      <td>5</td>\n",
       "      <td>240.0000</td>\n",
       "      <td>38.2000</td>\n",
       "      <td>96.4000</td>\n",
       "      <td>0.3960</td>\n",
       "      <td>5.0000</td>\n",
       "      <td>17.4000</td>\n",
       "      <td>0.2870</td>\n",
       "      <td>33.2000</td>\n",
       "      <td>79.0000</td>\n",
       "      <td>0.4200</td>\n",
       "      <td>18.2000</td>\n",
       "      <td>23.6000</td>\n",
       "      <td>0.7710</td>\n",
       "      <td>20.4000</td>\n",
       "      <td>31.8000</td>\n",
       "      <td>52.2000</td>\n",
       "      <td>20.6000</td>\n",
       "      <td>9.2000</td>\n",
       "      <td>6.6000</td>\n",
       "      <td>13.6000</td>\n",
       "      <td>21.6000</td>\n",
       "      <td>99.6000</td>\n",
       "      <td>2004</td>\n",
       "    </tr>\n",
       "  </tbody>\n",
       "</table>\n",
       "</div>"
      ],
      "text/plain": [
       "      Rk                Tm  G       MP      FG     FGA    FG%     3P     3PA  \\\n",
       "0 1.0000  Dallas Mavericks  5 240.0000 38.2000 96.4000 0.3960 5.0000 17.4000   \n",
       "\n",
       "     3P%      2P     2PA    2P%      FT     FTA    FT%     ORB     DRB  \\\n",
       "0 0.2870 33.2000 79.0000 0.4200 18.2000 23.6000 0.7710 20.4000 31.8000   \n",
       "\n",
       "      TRB     AST    STL    BLK     TOV      PF     PTS  Year  \n",
       "0 52.2000 20.6000 9.2000 6.6000 13.6000 21.6000 99.6000  2004  "
      ]
     },
     "execution_count": 152,
     "metadata": {},
     "output_type": "execute_result"
    }
   ],
   "source": [
    "create_list_of_dataframes_for_yearly_stats(f'{source_data_path}\\\\Team Stats\\\\Playoffs\\\\Team Basic Stats',0)"
   ]
  },
  {
   "cell_type": "markdown",
   "id": "12531e9a",
   "metadata": {},
   "source": [
    "###### Validate that all of the yearly data files contain different data"
   ]
  },
  {
   "cell_type": "code",
   "execution_count": 153,
   "id": "8c80700f",
   "metadata": {
    "scrolled": false
   },
   "outputs": [],
   "source": [
    "check_all_unique_dataframes(master_df_list,'Year')"
   ]
  },
  {
   "cell_type": "markdown",
   "id": "7ecbfb40",
   "metadata": {},
   "source": [
    "###### Validate that the column structure for every data frame is the same."
   ]
  },
  {
   "cell_type": "code",
   "execution_count": 154,
   "id": "79c2bb38",
   "metadata": {
    "scrolled": false
   },
   "outputs": [],
   "source": [
    "validate_column_structure_is_same(master_df_list)"
   ]
  },
  {
   "cell_type": "markdown",
   "id": "8e23b88b",
   "metadata": {},
   "source": [
    "###### Concat/combine yearly dataframes into one AND validate that the length of the combined dataframe is the same as the sum of the yearly dataframes"
   ]
  },
  {
   "cell_type": "code",
   "execution_count": 155,
   "id": "8550e23f",
   "metadata": {
    "scrolled": false
   },
   "outputs": [],
   "source": [
    "concat_dataframes_and_validate_and_reset_index_and_sort('nba_team_basic_stat_in_playoffs_df',master_df_list,cumulative_row_counter)"
   ]
  },
  {
   "cell_type": "markdown",
   "id": "1a8c9fd7",
   "metadata": {},
   "source": [
    "###### Validate we have all of the data we need from 2004-2023"
   ]
  },
  {
   "cell_type": "code",
   "execution_count": 156,
   "id": "3e62b517",
   "metadata": {
    "scrolled": false
   },
   "outputs": [],
   "source": [
    "validate_completeness_of_data(nba_team_basic_stat_in_playoffs_df,2004,2024)"
   ]
  },
  {
   "cell_type": "markdown",
   "id": "548774cd",
   "metadata": {},
   "source": [
    "###### Clean team names"
   ]
  },
  {
   "cell_type": "code",
   "execution_count": 157,
   "id": "588adaac",
   "metadata": {
    "scrolled": false
   },
   "outputs": [
    {
     "name": "stderr",
     "output_type": "stream",
     "text": [
      "C:\\Users\\Carey\\AppData\\Local\\Temp\\ipykernel_35268\\102270080.py:4: FutureWarning: The default value of regex will change from True to False in a future version. In addition, single character regular expressions will *not* be treated as literal strings when regex=True.\n",
      "  dataframe[column_to_clean] = dataframe[column_to_clean].str.replace(\"*\",'')\n",
      "C:\\Users\\Carey\\AppData\\Local\\Temp\\ipykernel_35268\\102270080.py:5: FutureWarning: The default value of regex will change from True to False in a future version. In addition, single character regular expressions will *not* be treated as literal strings when regex=True.\n",
      "  dataframe[column_to_clean] = dataframe[column_to_clean].str.replace(\".\",'')\n"
     ]
    }
   ],
   "source": [
    "clean_column_values(nba_team_basic_stat_in_playoffs_df,'Tm')"
   ]
  },
  {
   "cell_type": "markdown",
   "id": "e5dc1a35",
   "metadata": {},
   "source": [
    "### OPPONENT BASIC STATS AGAINST TEAM IN PLAYOFFS. Compile yearly data into one dataframe\n",
    " <a class=\"anchor\" id=\"Step17\"></a>"
   ]
  },
  {
   "cell_type": "markdown",
   "id": "299f1ecc",
   "metadata": {},
   "source": [
    "#### Create dataframes of yearly data"
   ]
  },
  {
   "cell_type": "code",
   "execution_count": 158,
   "id": "3c1fc8e4",
   "metadata": {
    "scrolled": false
   },
   "outputs": [
    {
     "data": {
      "text/html": [
       "<div>\n",
       "<style scoped>\n",
       "    .dataframe tbody tr th:only-of-type {\n",
       "        vertical-align: middle;\n",
       "    }\n",
       "\n",
       "    .dataframe tbody tr th {\n",
       "        vertical-align: top;\n",
       "    }\n",
       "\n",
       "    .dataframe thead th {\n",
       "        text-align: right;\n",
       "    }\n",
       "</style>\n",
       "<table border=\"1\" class=\"dataframe\">\n",
       "  <thead>\n",
       "    <tr style=\"text-align: right;\">\n",
       "      <th></th>\n",
       "      <th>Rk</th>\n",
       "      <th>Tm</th>\n",
       "      <th>G</th>\n",
       "      <th>MP</th>\n",
       "      <th>FG</th>\n",
       "      <th>FGA</th>\n",
       "      <th>FG%</th>\n",
       "      <th>3P</th>\n",
       "      <th>3PA</th>\n",
       "      <th>3P%</th>\n",
       "      <th>2P</th>\n",
       "      <th>2PA</th>\n",
       "      <th>2P%</th>\n",
       "      <th>FT</th>\n",
       "      <th>FTA</th>\n",
       "      <th>FT%</th>\n",
       "      <th>ORB</th>\n",
       "      <th>DRB</th>\n",
       "      <th>TRB</th>\n",
       "      <th>AST</th>\n",
       "      <th>STL</th>\n",
       "      <th>BLK</th>\n",
       "      <th>TOV</th>\n",
       "      <th>PF</th>\n",
       "      <th>PTS</th>\n",
       "      <th>Year</th>\n",
       "    </tr>\n",
       "  </thead>\n",
       "  <tbody>\n",
       "    <tr>\n",
       "      <th>0</th>\n",
       "      <td>1.0000</td>\n",
       "      <td>Detroit Pistons</td>\n",
       "      <td>23</td>\n",
       "      <td>244.3000</td>\n",
       "      <td>29.5000</td>\n",
       "      <td>75.2000</td>\n",
       "      <td>0.3920</td>\n",
       "      <td>4.7000</td>\n",
       "      <td>17.0000</td>\n",
       "      <td>0.2770</td>\n",
       "      <td>24.8000</td>\n",
       "      <td>58.2000</td>\n",
       "      <td>0.4260</td>\n",
       "      <td>17.0000</td>\n",
       "      <td>23.7000</td>\n",
       "      <td>0.7210</td>\n",
       "      <td>10.9000</td>\n",
       "      <td>29.7000</td>\n",
       "      <td>40.6000</td>\n",
       "      <td>18.6000</td>\n",
       "      <td>8.0000</td>\n",
       "      <td>5.1000</td>\n",
       "      <td>15.6000</td>\n",
       "      <td>26.0000</td>\n",
       "      <td>80.7000</td>\n",
       "      <td>2004</td>\n",
       "    </tr>\n",
       "  </tbody>\n",
       "</table>\n",
       "</div>"
      ],
      "text/plain": [
       "      Rk               Tm   G       MP      FG     FGA    FG%     3P     3PA  \\\n",
       "0 1.0000  Detroit Pistons  23 244.3000 29.5000 75.2000 0.3920 4.7000 17.0000   \n",
       "\n",
       "     3P%      2P     2PA    2P%      FT     FTA    FT%     ORB     DRB  \\\n",
       "0 0.2770 24.8000 58.2000 0.4260 17.0000 23.7000 0.7210 10.9000 29.7000   \n",
       "\n",
       "      TRB     AST    STL    BLK     TOV      PF     PTS  Year  \n",
       "0 40.6000 18.6000 8.0000 5.1000 15.6000 26.0000 80.7000  2004  "
      ]
     },
     "execution_count": 158,
     "metadata": {},
     "output_type": "execute_result"
    }
   ],
   "source": [
    "create_list_of_dataframes_for_yearly_stats(f'{source_data_path}\\\\Team Stats\\\\Playoffs\\\\Basic Opponent Stats Against Team',0)"
   ]
  },
  {
   "cell_type": "markdown",
   "id": "aa0725e1",
   "metadata": {},
   "source": [
    "###### Validate that all of the yearly data files contain different data"
   ]
  },
  {
   "cell_type": "code",
   "execution_count": 159,
   "id": "b88cdde7",
   "metadata": {
    "scrolled": false
   },
   "outputs": [],
   "source": [
    "check_all_unique_dataframes(master_df_list,'Year')"
   ]
  },
  {
   "cell_type": "markdown",
   "id": "b7fe327a",
   "metadata": {},
   "source": [
    "###### Validate that the column structure for every data frame is the same."
   ]
  },
  {
   "cell_type": "code",
   "execution_count": 160,
   "id": "971bac4b",
   "metadata": {
    "scrolled": false
   },
   "outputs": [],
   "source": [
    "validate_column_structure_is_same(master_df_list)"
   ]
  },
  {
   "cell_type": "markdown",
   "id": "b82287e4",
   "metadata": {},
   "source": [
    "###### Concat/combine yearly dataframes into one AND validate that the length of the combined dataframe is the same as the sum of the yearly dataframes"
   ]
  },
  {
   "cell_type": "code",
   "execution_count": 161,
   "id": "50cc42ce",
   "metadata": {
    "scrolled": false
   },
   "outputs": [],
   "source": [
    "concat_dataframes_and_validate_and_reset_index_and_sort('nba_team_basic_opponent_stat_in_playoffs_df',master_df_list,cumulative_row_counter)"
   ]
  },
  {
   "cell_type": "markdown",
   "id": "4ec295b5",
   "metadata": {},
   "source": [
    "###### Validate we have all of the data we need from 2004-2023"
   ]
  },
  {
   "cell_type": "code",
   "execution_count": 162,
   "id": "cb2376e8",
   "metadata": {
    "scrolled": false
   },
   "outputs": [],
   "source": [
    "validate_completeness_of_data(nba_team_basic_opponent_stat_in_playoffs_df,2004,2024)"
   ]
  },
  {
   "cell_type": "markdown",
   "id": "c6340c30",
   "metadata": {},
   "source": [
    "###### Clean team names"
   ]
  },
  {
   "cell_type": "code",
   "execution_count": 163,
   "id": "b684e36d",
   "metadata": {
    "scrolled": false
   },
   "outputs": [
    {
     "name": "stderr",
     "output_type": "stream",
     "text": [
      "C:\\Users\\Carey\\AppData\\Local\\Temp\\ipykernel_35268\\102270080.py:4: FutureWarning: The default value of regex will change from True to False in a future version. In addition, single character regular expressions will *not* be treated as literal strings when regex=True.\n",
      "  dataframe[column_to_clean] = dataframe[column_to_clean].str.replace(\"*\",'')\n",
      "C:\\Users\\Carey\\AppData\\Local\\Temp\\ipykernel_35268\\102270080.py:5: FutureWarning: The default value of regex will change from True to False in a future version. In addition, single character regular expressions will *not* be treated as literal strings when regex=True.\n",
      "  dataframe[column_to_clean] = dataframe[column_to_clean].str.replace(\".\",'')\n"
     ]
    }
   ],
   "source": [
    "clean_column_values(nba_team_basic_opponent_stat_in_playoffs_df,'Tm')"
   ]
  },
  {
   "cell_type": "markdown",
   "id": "2492f08e",
   "metadata": {},
   "source": [
    "###### Validate against dataframe"
   ]
  },
  {
   "cell_type": "code",
   "execution_count": 164,
   "id": "9cfb78ac",
   "metadata": {
    "scrolled": false
   },
   "outputs": [],
   "source": [
    "validate_dataframes_using_column_values(nba_team_basic_opponent_stat_in_playoffs_df,'Tm',nba_team_basic_stat_in_playoffs_df,'Tm')"
   ]
  },
  {
   "cell_type": "markdown",
   "id": "658c393c",
   "metadata": {},
   "source": [
    "### ADVANCED TEAM STATS IN PLAYOFFS. Compile yearly data into one dataframe\n",
    "\n",
    " <a class=\"anchor\" id=\"Step18\"></a>"
   ]
  },
  {
   "cell_type": "markdown",
   "id": "1d10001b",
   "metadata": {},
   "source": [
    "#### Create dataframes of yearly data"
   ]
  },
  {
   "cell_type": "code",
   "execution_count": 165,
   "id": "59bbf5f1",
   "metadata": {
    "scrolled": false
   },
   "outputs": [
    {
     "data": {
      "text/html": [
       "<div>\n",
       "<style scoped>\n",
       "    .dataframe tbody tr th:only-of-type {\n",
       "        vertical-align: middle;\n",
       "    }\n",
       "\n",
       "    .dataframe tbody tr th {\n",
       "        vertical-align: top;\n",
       "    }\n",
       "\n",
       "    .dataframe thead th {\n",
       "        text-align: right;\n",
       "    }\n",
       "</style>\n",
       "<table border=\"1\" class=\"dataframe\">\n",
       "  <thead>\n",
       "    <tr style=\"text-align: right;\">\n",
       "      <th></th>\n",
       "      <th>Rk</th>\n",
       "      <th>Tm</th>\n",
       "      <th>Age</th>\n",
       "      <th>W</th>\n",
       "      <th>L</th>\n",
       "      <th>W/L%</th>\n",
       "      <th>PW</th>\n",
       "      <th>PL</th>\n",
       "      <th>ORtg</th>\n",
       "      <th>DRtg</th>\n",
       "      <th>NRtg</th>\n",
       "      <th>Pace</th>\n",
       "      <th>FTr</th>\n",
       "      <th>3PAr</th>\n",
       "      <th>TS%</th>\n",
       "      <th>Unnamed: 15</th>\n",
       "      <th>eFG%</th>\n",
       "      <th>TOV%</th>\n",
       "      <th>ORB%</th>\n",
       "      <th>FT/FGA</th>\n",
       "      <th>Unnamed: 20</th>\n",
       "      <th>eFG%.1</th>\n",
       "      <th>TOV%.1</th>\n",
       "      <th>DRB%</th>\n",
       "      <th>FT/FGA.1</th>\n",
       "      <th>Year</th>\n",
       "    </tr>\n",
       "  </thead>\n",
       "  <tbody>\n",
       "    <tr>\n",
       "      <th>0</th>\n",
       "      <td>1.0000</td>\n",
       "      <td>Detroit Pistons</td>\n",
       "      <td>27.3000</td>\n",
       "      <td>16.0000</td>\n",
       "      <td>7.0000</td>\n",
       "      <td>0.6960</td>\n",
       "      <td>17</td>\n",
       "      <td>6</td>\n",
       "      <td>99.3000</td>\n",
       "      <td>92.0000</td>\n",
       "      <td>7.3000</td>\n",
       "      <td>86.1000</td>\n",
       "      <td>0.3590</td>\n",
       "      <td>0.1820</td>\n",
       "      <td>0.4930</td>\n",
       "      <td>NaN</td>\n",
       "      <td>0.4390</td>\n",
       "      <td>14.4000</td>\n",
       "      <td>30.2000</td>\n",
       "      <td>0.2630</td>\n",
       "      <td>NaN</td>\n",
       "      <td>0.4230</td>\n",
       "      <td>15.4000</td>\n",
       "      <td>74.6000</td>\n",
       "      <td>0.2270</td>\n",
       "      <td>2004</td>\n",
       "    </tr>\n",
       "  </tbody>\n",
       "</table>\n",
       "</div>"
      ],
      "text/plain": [
       "      Rk               Tm     Age       W      L   W/L%  PW  PL    ORtg  \\\n",
       "0 1.0000  Detroit Pistons 27.3000 16.0000 7.0000 0.6960  17   6 99.3000   \n",
       "\n",
       "     DRtg   NRtg    Pace    FTr   3PAr    TS%  Unnamed: 15   eFG%    TOV%  \\\n",
       "0 92.0000 7.3000 86.1000 0.3590 0.1820 0.4930          NaN 0.4390 14.4000   \n",
       "\n",
       "     ORB%  FT/FGA  Unnamed: 20  eFG%.1  TOV%.1    DRB%  FT/FGA.1  Year  \n",
       "0 30.2000  0.2630          NaN  0.4230 15.4000 74.6000    0.2270  2004  "
      ]
     },
     "execution_count": 165,
     "metadata": {},
     "output_type": "execute_result"
    }
   ],
   "source": [
    "create_list_of_dataframes_for_yearly_stats(f'{source_data_path}\\\\Team Stats\\\\Playoffs\\\\Advanced',1)"
   ]
  },
  {
   "cell_type": "markdown",
   "id": "571cf0ef",
   "metadata": {},
   "source": [
    "###### Validate that all of the yearly data files contain different data"
   ]
  },
  {
   "cell_type": "code",
   "execution_count": 166,
   "id": "63ce1244",
   "metadata": {
    "scrolled": false
   },
   "outputs": [],
   "source": [
    "check_all_unique_dataframes(master_df_list,'Year')"
   ]
  },
  {
   "cell_type": "markdown",
   "id": "544f586c",
   "metadata": {},
   "source": [
    "###### Validate that the column structure for every data frame is the same."
   ]
  },
  {
   "cell_type": "code",
   "execution_count": 167,
   "id": "005e751b",
   "metadata": {
    "scrolled": false
   },
   "outputs": [],
   "source": [
    "validate_column_structure_is_same(master_df_list)"
   ]
  },
  {
   "cell_type": "markdown",
   "id": "8ef1d2ff",
   "metadata": {},
   "source": [
    "###### Concat/combine yearly dataframes into one AND validate that the length of the combined dataframe is the same as the sum of the yearly dataframes"
   ]
  },
  {
   "cell_type": "code",
   "execution_count": 168,
   "id": "87d0efb6",
   "metadata": {
    "scrolled": false
   },
   "outputs": [],
   "source": [
    "concat_dataframes_and_validate_and_reset_index_and_sort('nba_team_advanced_stat_in_playoffs_df',master_df_list,cumulative_row_counter)"
   ]
  },
  {
   "cell_type": "markdown",
   "id": "f34c60e9",
   "metadata": {},
   "source": [
    "###### Validate we have all of the data we need from 2004-2023"
   ]
  },
  {
   "cell_type": "code",
   "execution_count": 169,
   "id": "12ca10ef",
   "metadata": {
    "scrolled": false
   },
   "outputs": [],
   "source": [
    "validate_completeness_of_data(nba_team_advanced_stat_in_playoffs_df,2004,2024)"
   ]
  },
  {
   "cell_type": "markdown",
   "id": "5792e5f7",
   "metadata": {},
   "source": [
    "###### Clean team names"
   ]
  },
  {
   "cell_type": "code",
   "execution_count": 170,
   "id": "dd7b2dbd",
   "metadata": {
    "scrolled": true
   },
   "outputs": [
    {
     "name": "stderr",
     "output_type": "stream",
     "text": [
      "C:\\Users\\Carey\\AppData\\Local\\Temp\\ipykernel_35268\\102270080.py:4: FutureWarning: The default value of regex will change from True to False in a future version. In addition, single character regular expressions will *not* be treated as literal strings when regex=True.\n",
      "  dataframe[column_to_clean] = dataframe[column_to_clean].str.replace(\"*\",'')\n",
      "C:\\Users\\Carey\\AppData\\Local\\Temp\\ipykernel_35268\\102270080.py:5: FutureWarning: The default value of regex will change from True to False in a future version. In addition, single character regular expressions will *not* be treated as literal strings when regex=True.\n",
      "  dataframe[column_to_clean] = dataframe[column_to_clean].str.replace(\".\",'')\n"
     ]
    }
   ],
   "source": [
    "clean_column_values(nba_team_advanced_stat_in_playoffs_df,'Tm')"
   ]
  },
  {
   "cell_type": "markdown",
   "id": "c5aa6be2",
   "metadata": {},
   "source": [
    "###### Validate against dataframe"
   ]
  },
  {
   "cell_type": "code",
   "execution_count": 171,
   "id": "75c59190",
   "metadata": {
    "scrolled": false
   },
   "outputs": [],
   "source": [
    "validate_dataframes_using_column_values(nba_team_advanced_stat_in_playoffs_df,'Tm',nba_team_basic_stat_in_playoffs_df,'Tm')"
   ]
  },
  {
   "cell_type": "markdown",
   "id": "d3dcc159",
   "metadata": {},
   "source": [
    "### TEAM SHOOTING IN PLAYOFFS. Compile yearly data into one dataframe\n",
    " <a class=\"anchor\" id=\"Step19\"></a>"
   ]
  },
  {
   "cell_type": "markdown",
   "id": "309f3dc0",
   "metadata": {},
   "source": [
    "#### Create dataframes of yearly data"
   ]
  },
  {
   "cell_type": "code",
   "execution_count": 172,
   "id": "215185c7",
   "metadata": {
    "scrolled": false
   },
   "outputs": [
    {
     "data": {
      "text/html": [
       "<div>\n",
       "<style scoped>\n",
       "    .dataframe tbody tr th:only-of-type {\n",
       "        vertical-align: middle;\n",
       "    }\n",
       "\n",
       "    .dataframe tbody tr th {\n",
       "        vertical-align: top;\n",
       "    }\n",
       "\n",
       "    .dataframe thead th {\n",
       "        text-align: right;\n",
       "    }\n",
       "</style>\n",
       "<table border=\"1\" class=\"dataframe\">\n",
       "  <thead>\n",
       "    <tr style=\"text-align: right;\">\n",
       "      <th></th>\n",
       "      <th>Rk</th>\n",
       "      <th>Tm</th>\n",
       "      <th>G</th>\n",
       "      <th>MP</th>\n",
       "      <th>FG%</th>\n",
       "      <th>Dist.</th>\n",
       "      <th>Unnamed: 6</th>\n",
       "      <th>2P</th>\n",
       "      <th>0-3</th>\n",
       "      <th>3-10</th>\n",
       "      <th>10-16</th>\n",
       "      <th>16-3P</th>\n",
       "      <th>3P</th>\n",
       "      <th>Unnamed: 13</th>\n",
       "      <th>2P.1</th>\n",
       "      <th>0-3.1</th>\n",
       "      <th>3-10.1</th>\n",
       "      <th>10-16.1</th>\n",
       "      <th>16-3P.1</th>\n",
       "      <th>3P.1</th>\n",
       "      <th>Unnamed: 20</th>\n",
       "      <th>2P.2</th>\n",
       "      <th>3P.2</th>\n",
       "      <th>Unnamed: 23</th>\n",
       "      <th>%FGA</th>\n",
       "      <th>Md.</th>\n",
       "      <th>Unnamed: 26</th>\n",
       "      <th>%3PA</th>\n",
       "      <th>3P%</th>\n",
       "      <th>Unnamed: 29</th>\n",
       "      <th>Att.</th>\n",
       "      <th>#</th>\n",
       "      <th>Year</th>\n",
       "    </tr>\n",
       "  </thead>\n",
       "  <tbody>\n",
       "    <tr>\n",
       "      <th>0</th>\n",
       "      <td>1.0000</td>\n",
       "      <td>Boston Celtics</td>\n",
       "      <td>4</td>\n",
       "      <td>960</td>\n",
       "      <td>0.4080</td>\n",
       "      <td>12.7000</td>\n",
       "      <td>NaN</td>\n",
       "      <td>0.7770</td>\n",
       "      <td>0.3230</td>\n",
       "      <td>0.1100</td>\n",
       "      <td>0.1310</td>\n",
       "      <td>0.2130</td>\n",
       "      <td>0.2230</td>\n",
       "      <td>NaN</td>\n",
       "      <td>0.4290</td>\n",
       "      <td>0.5270</td>\n",
       "      <td>0.3550</td>\n",
       "      <td>0.3780</td>\n",
       "      <td>0.3500</td>\n",
       "      <td>0.3330</td>\n",
       "      <td>NaN</td>\n",
       "      <td>0.5530</td>\n",
       "      <td>0.8570</td>\n",
       "      <td>NaN</td>\n",
       "      <td>0.0460</td>\n",
       "      <td>12</td>\n",
       "      <td>NaN</td>\n",
       "      <td>0.2060</td>\n",
       "      <td>0.5380</td>\n",
       "      <td>NaN</td>\n",
       "      <td>1.0000</td>\n",
       "      <td>0.0000</td>\n",
       "      <td>2004</td>\n",
       "    </tr>\n",
       "  </tbody>\n",
       "</table>\n",
       "</div>"
      ],
      "text/plain": [
       "      Rk              Tm  G   MP    FG%   Dist.  Unnamed: 6     2P    0-3  \\\n",
       "0 1.0000  Boston Celtics  4  960 0.4080 12.7000         NaN 0.7770 0.3230   \n",
       "\n",
       "    3-10  10-16  16-3P     3P  Unnamed: 13   2P.1  0-3.1  3-10.1  10-16.1  \\\n",
       "0 0.1100 0.1310 0.2130 0.2230          NaN 0.4290 0.5270  0.3550   0.3780   \n",
       "\n",
       "   16-3P.1   3P.1  Unnamed: 20   2P.2   3P.2  Unnamed: 23   %FGA  Md.  \\\n",
       "0   0.3500 0.3330          NaN 0.5530 0.8570          NaN 0.0460   12   \n",
       "\n",
       "   Unnamed: 26   %3PA    3P%  Unnamed: 29   Att.      #  Year  \n",
       "0          NaN 0.2060 0.5380          NaN 1.0000 0.0000  2004  "
      ]
     },
     "execution_count": 172,
     "metadata": {},
     "output_type": "execute_result"
    }
   ],
   "source": [
    "create_list_of_dataframes_for_yearly_stats(f'{source_data_path}\\\\Team Stats\\\\Playoffs\\\\Team Shooting',1)"
   ]
  },
  {
   "cell_type": "markdown",
   "id": "66db0d3e",
   "metadata": {},
   "source": [
    "###### Validate that all of the yearly data files contain different data"
   ]
  },
  {
   "cell_type": "code",
   "execution_count": 173,
   "id": "d6029a20",
   "metadata": {
    "scrolled": false
   },
   "outputs": [],
   "source": [
    "check_all_unique_dataframes(master_df_list,'Year')"
   ]
  },
  {
   "cell_type": "markdown",
   "id": "7375ecec",
   "metadata": {},
   "source": [
    "###### Validate that the column structure for every data frame is the same."
   ]
  },
  {
   "cell_type": "code",
   "execution_count": 174,
   "id": "f8bd9aea",
   "metadata": {
    "scrolled": false
   },
   "outputs": [],
   "source": [
    "validate_column_structure_is_same(master_df_list)"
   ]
  },
  {
   "cell_type": "markdown",
   "id": "d030349e",
   "metadata": {},
   "source": [
    "###### Concat/combine yearly dataframes into one AND validate that the length of the combined dataframe is the same as the sum of the yearly dataframes"
   ]
  },
  {
   "cell_type": "code",
   "execution_count": 175,
   "id": "0525771c",
   "metadata": {
    "scrolled": false
   },
   "outputs": [],
   "source": [
    "concat_dataframes_and_validate_and_reset_index_and_sort('nba_team_shooting_in_playoffs_df',master_df_list,cumulative_row_counter)"
   ]
  },
  {
   "cell_type": "markdown",
   "id": "ee6361a7",
   "metadata": {},
   "source": [
    "###### Validate we have all of the data we need from 2004-2023"
   ]
  },
  {
   "cell_type": "code",
   "execution_count": 176,
   "id": "fb9eec46",
   "metadata": {
    "scrolled": false
   },
   "outputs": [],
   "source": [
    "validate_completeness_of_data(nba_team_shooting_in_playoffs_df,2004,2024)"
   ]
  },
  {
   "cell_type": "markdown",
   "id": "1633613b",
   "metadata": {},
   "source": [
    "###### Clean team names"
   ]
  },
  {
   "cell_type": "code",
   "execution_count": 177,
   "id": "60874fe5",
   "metadata": {
    "scrolled": true
   },
   "outputs": [
    {
     "name": "stderr",
     "output_type": "stream",
     "text": [
      "C:\\Users\\Carey\\AppData\\Local\\Temp\\ipykernel_35268\\102270080.py:4: FutureWarning: The default value of regex will change from True to False in a future version. In addition, single character regular expressions will *not* be treated as literal strings when regex=True.\n",
      "  dataframe[column_to_clean] = dataframe[column_to_clean].str.replace(\"*\",'')\n",
      "C:\\Users\\Carey\\AppData\\Local\\Temp\\ipykernel_35268\\102270080.py:5: FutureWarning: The default value of regex will change from True to False in a future version. In addition, single character regular expressions will *not* be treated as literal strings when regex=True.\n",
      "  dataframe[column_to_clean] = dataframe[column_to_clean].str.replace(\".\",'')\n"
     ]
    }
   ],
   "source": [
    "clean_column_values(nba_team_shooting_in_playoffs_df,'Tm')"
   ]
  },
  {
   "cell_type": "markdown",
   "id": "3e03d4a7",
   "metadata": {},
   "source": [
    "###### Validate against dataframe"
   ]
  },
  {
   "cell_type": "code",
   "execution_count": 178,
   "id": "bb227511",
   "metadata": {
    "scrolled": false
   },
   "outputs": [],
   "source": [
    "validate_dataframes_using_column_values(nba_team_shooting_in_playoffs_df,'Tm',nba_team_basic_stat_in_playoffs_df,'Tm')"
   ]
  },
  {
   "cell_type": "markdown",
   "id": "476f3f95",
   "metadata": {},
   "source": [
    "### OPPONENT SHOOTING AGAINST TEAM IN PLAYOFFS. Compile yearly data into one dataframe\n",
    " <a class=\"anchor\" id=\"Step20\"></a>"
   ]
  },
  {
   "cell_type": "markdown",
   "id": "fd8c6b0c",
   "metadata": {},
   "source": [
    "#### Create dataframes of yearly data"
   ]
  },
  {
   "cell_type": "code",
   "execution_count": 179,
   "id": "3c1644bb",
   "metadata": {
    "scrolled": false
   },
   "outputs": [
    {
     "data": {
      "text/html": [
       "<div>\n",
       "<style scoped>\n",
       "    .dataframe tbody tr th:only-of-type {\n",
       "        vertical-align: middle;\n",
       "    }\n",
       "\n",
       "    .dataframe tbody tr th {\n",
       "        vertical-align: top;\n",
       "    }\n",
       "\n",
       "    .dataframe thead th {\n",
       "        text-align: right;\n",
       "    }\n",
       "</style>\n",
       "<table border=\"1\" class=\"dataframe\">\n",
       "  <thead>\n",
       "    <tr style=\"text-align: right;\">\n",
       "      <th></th>\n",
       "      <th>Rk</th>\n",
       "      <th>Tm</th>\n",
       "      <th>G</th>\n",
       "      <th>MP</th>\n",
       "      <th>FG%</th>\n",
       "      <th>Dist.</th>\n",
       "      <th>Unnamed: 6</th>\n",
       "      <th>2P</th>\n",
       "      <th>0-3</th>\n",
       "      <th>3-10</th>\n",
       "      <th>10-16</th>\n",
       "      <th>16-3P</th>\n",
       "      <th>3P</th>\n",
       "      <th>Unnamed: 13</th>\n",
       "      <th>2P.1</th>\n",
       "      <th>0-3.1</th>\n",
       "      <th>3-10.1</th>\n",
       "      <th>10-16.1</th>\n",
       "      <th>16-3P.1</th>\n",
       "      <th>3P.1</th>\n",
       "      <th>Unnamed: 20</th>\n",
       "      <th>2P.2</th>\n",
       "      <th>3P.2</th>\n",
       "      <th>Unnamed: 23</th>\n",
       "      <th>%FGA</th>\n",
       "      <th>Md.</th>\n",
       "      <th>Unnamed: 26</th>\n",
       "      <th>%3PA</th>\n",
       "      <th>3P%</th>\n",
       "      <th>Year</th>\n",
       "    </tr>\n",
       "  </thead>\n",
       "  <tbody>\n",
       "    <tr>\n",
       "      <th>0</th>\n",
       "      <td>1.0000</td>\n",
       "      <td>Boston Celtics</td>\n",
       "      <td>4</td>\n",
       "      <td>960</td>\n",
       "      <td>0.4590</td>\n",
       "      <td>12.5000</td>\n",
       "      <td>NaN</td>\n",
       "      <td>0.7810</td>\n",
       "      <td>0.3220</td>\n",
       "      <td>0.1070</td>\n",
       "      <td>0.1300</td>\n",
       "      <td>0.2220</td>\n",
       "      <td>0.2190</td>\n",
       "      <td>NaN</td>\n",
       "      <td>0.4770</td>\n",
       "      <td>0.6510</td>\n",
       "      <td>0.2500</td>\n",
       "      <td>0.4090</td>\n",
       "      <td>0.3730</td>\n",
       "      <td>0.3920</td>\n",
       "      <td>NaN</td>\n",
       "      <td>0.5320</td>\n",
       "      <td>0.8620</td>\n",
       "      <td>NaN</td>\n",
       "      <td>0.0590</td>\n",
       "      <td>20</td>\n",
       "      <td>NaN</td>\n",
       "      <td>0.2030</td>\n",
       "      <td>0.4670</td>\n",
       "      <td>2004</td>\n",
       "    </tr>\n",
       "  </tbody>\n",
       "</table>\n",
       "</div>"
      ],
      "text/plain": [
       "      Rk              Tm  G   MP    FG%   Dist.  Unnamed: 6     2P    0-3  \\\n",
       "0 1.0000  Boston Celtics  4  960 0.4590 12.5000         NaN 0.7810 0.3220   \n",
       "\n",
       "    3-10  10-16  16-3P     3P  Unnamed: 13   2P.1  0-3.1  3-10.1  10-16.1  \\\n",
       "0 0.1070 0.1300 0.2220 0.2190          NaN 0.4770 0.6510  0.2500   0.4090   \n",
       "\n",
       "   16-3P.1   3P.1  Unnamed: 20   2P.2   3P.2  Unnamed: 23   %FGA  Md.  \\\n",
       "0   0.3730 0.3920          NaN 0.5320 0.8620          NaN 0.0590   20   \n",
       "\n",
       "   Unnamed: 26   %3PA    3P%  Year  \n",
       "0          NaN 0.2030 0.4670  2004  "
      ]
     },
     "execution_count": 179,
     "metadata": {},
     "output_type": "execute_result"
    }
   ],
   "source": [
    "create_list_of_dataframes_for_yearly_stats(f'{source_data_path}\\\\Team Stats\\\\Playoffs\\\\Opponent Shooting Stats Against Team',1)"
   ]
  },
  {
   "cell_type": "markdown",
   "id": "c8045996",
   "metadata": {},
   "source": [
    "###### Validate that all of the yearly data files contain different data"
   ]
  },
  {
   "cell_type": "code",
   "execution_count": 180,
   "id": "297f3124",
   "metadata": {
    "scrolled": false
   },
   "outputs": [],
   "source": [
    "check_all_unique_dataframes(master_df_list,'Year')"
   ]
  },
  {
   "cell_type": "markdown",
   "id": "7fd7c9ef",
   "metadata": {},
   "source": [
    "###### Validate that the column structure for every data frame is the same."
   ]
  },
  {
   "cell_type": "code",
   "execution_count": 181,
   "id": "6c27ddcd",
   "metadata": {
    "scrolled": false
   },
   "outputs": [],
   "source": [
    "validate_column_structure_is_same(master_df_list)"
   ]
  },
  {
   "cell_type": "markdown",
   "id": "d94f8dde",
   "metadata": {},
   "source": [
    "###### Concat/combine yearly dataframes into one AND validate that the length of the combined dataframe is the same as the sum of the yearly dataframes"
   ]
  },
  {
   "cell_type": "code",
   "execution_count": 182,
   "id": "678b2c17",
   "metadata": {
    "scrolled": false
   },
   "outputs": [],
   "source": [
    "concat_dataframes_and_validate_and_reset_index_and_sort('nba_team_opponent_shooting_stat_in_playoffs_df',master_df_list,cumulative_row_counter)"
   ]
  },
  {
   "cell_type": "markdown",
   "id": "6001c208",
   "metadata": {},
   "source": [
    "###### Validate we have all of the data we need from 2004-2023"
   ]
  },
  {
   "cell_type": "code",
   "execution_count": 183,
   "id": "ed4d9e4b",
   "metadata": {
    "scrolled": false
   },
   "outputs": [],
   "source": [
    "validate_completeness_of_data(nba_team_opponent_shooting_stat_in_playoffs_df,2004,2024)"
   ]
  },
  {
   "cell_type": "markdown",
   "id": "2d602754",
   "metadata": {},
   "source": [
    "###### Clean team names"
   ]
  },
  {
   "cell_type": "code",
   "execution_count": 184,
   "id": "60c935e7",
   "metadata": {
    "scrolled": true
   },
   "outputs": [
    {
     "name": "stderr",
     "output_type": "stream",
     "text": [
      "C:\\Users\\Carey\\AppData\\Local\\Temp\\ipykernel_35268\\102270080.py:4: FutureWarning: The default value of regex will change from True to False in a future version. In addition, single character regular expressions will *not* be treated as literal strings when regex=True.\n",
      "  dataframe[column_to_clean] = dataframe[column_to_clean].str.replace(\"*\",'')\n",
      "C:\\Users\\Carey\\AppData\\Local\\Temp\\ipykernel_35268\\102270080.py:5: FutureWarning: The default value of regex will change from True to False in a future version. In addition, single character regular expressions will *not* be treated as literal strings when regex=True.\n",
      "  dataframe[column_to_clean] = dataframe[column_to_clean].str.replace(\".\",'')\n"
     ]
    }
   ],
   "source": [
    "clean_column_values(nba_team_opponent_shooting_stat_in_playoffs_df,'Tm')"
   ]
  },
  {
   "cell_type": "markdown",
   "id": "bfe327f2",
   "metadata": {},
   "source": [
    "###### Validate against dataframe"
   ]
  },
  {
   "cell_type": "code",
   "execution_count": 185,
   "id": "a7ba8f33",
   "metadata": {
    "scrolled": false
   },
   "outputs": [],
   "source": [
    "validate_dataframes_using_column_values(nba_team_opponent_shooting_stat_in_playoffs_df,'Tm',nba_team_basic_stat_in_playoffs_df,'Tm')"
   ]
  },
  {
   "cell_type": "markdown",
   "id": "67c524f2",
   "metadata": {},
   "source": [
    "### TEAM PLAYOFF STANDINGS. Compile yearly data into onedataframe \n",
    " <a class=\"anchor\" id=\"Step21\"></a>"
   ]
  },
  {
   "cell_type": "markdown",
   "id": "743ea239",
   "metadata": {},
   "source": [
    "#### Create dataframes of yearly data"
   ]
  },
  {
   "cell_type": "code",
   "execution_count": 186,
   "id": "33e1492d",
   "metadata": {
    "scrolled": false
   },
   "outputs": [
    {
     "data": {
      "text/html": [
       "<div>\n",
       "<style scoped>\n",
       "    .dataframe tbody tr th:only-of-type {\n",
       "        vertical-align: middle;\n",
       "    }\n",
       "\n",
       "    .dataframe tbody tr th {\n",
       "        vertical-align: top;\n",
       "    }\n",
       "\n",
       "    .dataframe thead th {\n",
       "        text-align: right;\n",
       "    }\n",
       "</style>\n",
       "<table border=\"1\" class=\"dataframe\">\n",
       "  <thead>\n",
       "    <tr style=\"text-align: right;\">\n",
       "      <th></th>\n",
       "      <th>Rk</th>\n",
       "      <th>Team</th>\n",
       "      <th>Overall</th>\n",
       "      <th>Home</th>\n",
       "      <th>Road</th>\n",
       "      <th>E</th>\n",
       "      <th>W</th>\n",
       "      <th>Year</th>\n",
       "    </tr>\n",
       "  </thead>\n",
       "  <tbody>\n",
       "    <tr>\n",
       "      <th>0</th>\n",
       "      <td>1</td>\n",
       "      <td>Detroit Pistons</td>\n",
       "      <td>16-7</td>\n",
       "      <td>10-3</td>\n",
       "      <td>6-4</td>\n",
       "      <td>12-6</td>\n",
       "      <td>4-1</td>\n",
       "      <td>2004</td>\n",
       "    </tr>\n",
       "  </tbody>\n",
       "</table>\n",
       "</div>"
      ],
      "text/plain": [
       "   Rk             Team Overall  Home Road     E    W  Year\n",
       "0   1  Detroit Pistons    16-7  10-3  6-4  12-6  4-1  2004"
      ]
     },
     "execution_count": 186,
     "metadata": {},
     "output_type": "execute_result"
    }
   ],
   "source": [
    "folder_path = f'{source_data_path}\\\\NBA Playoff Results\\\\Playoff Standings'\n",
    "    \n",
    "master_df_list = []\n",
    "\n",
    "cumulative_row_counter = 0\n",
    "\n",
    "for file_name in os.listdir(folder_path):\n",
    "\n",
    "    if file_name == 'desktop.ini':\n",
    "\n",
    "        continue\n",
    "\n",
    "    # Assign season value\n",
    "    year = file_name.split(' ')[0]\n",
    "\n",
    "    # Create dataframe name\n",
    "    dataframe_name = f'_{file_name.split(\".\")[0].lower().replace(\" \",\"_\")}_df'\n",
    "\n",
    "    # Store dataframe globally with specified name\n",
    "    globals()[dataframe_name] = pd.read_csv(f'{folder_path}\\\\{file_name}',header=1)\n",
    "\n",
    "    # Add a Year Column and assign to year\n",
    "    globals()[dataframe_name]['Year'] = int(year)\n",
    "\n",
    "    # Remove division columns from dataframe\n",
    "    list_of_columns_to_drop = ['A','C','M','P','SW','SE','NW','Apr','May','Jun','Jul','Aug','Sep','Oct','≤3','≥10']\n",
    "        \n",
    "    for column in list_of_columns_to_drop:\n",
    "        \n",
    "        if column in list(globals()[dataframe_name].columns):\n",
    "        \n",
    "            globals()[dataframe_name] = globals()[dataframe_name].drop(column,axis=1)\n",
    "    \n",
    "    # Append to master_df_list\n",
    "    master_df_list.append(globals()[dataframe_name]) \n",
    "\n",
    "    # Cumulative_row_counter\n",
    "    cumulative_row_counter = cumulative_row_counter + len(globals()[dataframe_name])\n",
    "\n",
    "\n",
    "master_df_list[0].head(1)"
   ]
  },
  {
   "cell_type": "markdown",
   "id": "19419da6",
   "metadata": {},
   "source": [
    "###### Validate that all of the yearly data files contain different data"
   ]
  },
  {
   "cell_type": "code",
   "execution_count": 187,
   "id": "ff082b4a",
   "metadata": {
    "scrolled": false
   },
   "outputs": [],
   "source": [
    "check_all_unique_dataframes(master_df_list,'Year')"
   ]
  },
  {
   "cell_type": "markdown",
   "id": "b4dee873",
   "metadata": {},
   "source": [
    "###### Validate that the column structure for every data frame is the same."
   ]
  },
  {
   "cell_type": "code",
   "execution_count": 188,
   "id": "5c151b02",
   "metadata": {
    "scrolled": false
   },
   "outputs": [],
   "source": [
    "validate_column_structure_is_same(master_df_list)"
   ]
  },
  {
   "cell_type": "markdown",
   "id": "809ebf7e",
   "metadata": {},
   "source": [
    "###### Concat/combine yearly dataframes into one AND validate that the length of the combined dataframe is the same as the sum of the yearly dataframes"
   ]
  },
  {
   "cell_type": "code",
   "execution_count": 189,
   "id": "29ee6518",
   "metadata": {
    "scrolled": false
   },
   "outputs": [],
   "source": [
    "concat_dataframes_and_validate_and_reset_index_and_sort('nba_team_playoff_standing',master_df_list,cumulative_row_counter)"
   ]
  },
  {
   "cell_type": "markdown",
   "id": "0e397bd8",
   "metadata": {},
   "source": [
    "###### Validate we have all of the data we need from 2004-2023"
   ]
  },
  {
   "cell_type": "code",
   "execution_count": 190,
   "id": "a942fa1d",
   "metadata": {
    "scrolled": false
   },
   "outputs": [],
   "source": [
    "validate_completeness_of_data(nba_team_playoff_standing,2004,2024)"
   ]
  },
  {
   "cell_type": "markdown",
   "id": "13fb2a18",
   "metadata": {},
   "source": [
    "###### Clean team names"
   ]
  },
  {
   "cell_type": "code",
   "execution_count": 191,
   "id": "747ce6b9",
   "metadata": {
    "scrolled": true
   },
   "outputs": [
    {
     "name": "stderr",
     "output_type": "stream",
     "text": [
      "C:\\Users\\Carey\\AppData\\Local\\Temp\\ipykernel_35268\\102270080.py:4: FutureWarning: The default value of regex will change from True to False in a future version. In addition, single character regular expressions will *not* be treated as literal strings when regex=True.\n",
      "  dataframe[column_to_clean] = dataframe[column_to_clean].str.replace(\"*\",'')\n",
      "C:\\Users\\Carey\\AppData\\Local\\Temp\\ipykernel_35268\\102270080.py:5: FutureWarning: The default value of regex will change from True to False in a future version. In addition, single character regular expressions will *not* be treated as literal strings when regex=True.\n",
      "  dataframe[column_to_clean] = dataframe[column_to_clean].str.replace(\".\",'')\n"
     ]
    }
   ],
   "source": [
    "clean_column_values(nba_team_playoff_standing,'Team')"
   ]
  },
  {
   "cell_type": "markdown",
   "id": "a8d88c66",
   "metadata": {},
   "source": [
    "###### Validate against dataframe"
   ]
  },
  {
   "cell_type": "code",
   "execution_count": 192,
   "id": "53fbdfe3",
   "metadata": {
    "scrolled": false
   },
   "outputs": [],
   "source": [
    "validate_dataframes_using_column_values(nba_team_playoff_standing,'Team',nba_team_basic_stat_in_playoffs_df,'Tm')"
   ]
  },
  {
   "cell_type": "markdown",
   "id": "fb8d93bf",
   "metadata": {},
   "source": [
    "# Stage 3.) Standardize primary keys across player tables and team tables"
   ]
  },
  {
   "cell_type": "markdown",
   "id": "139165df",
   "metadata": {},
   "source": [
    "## 3A. Create standardized \"Player Unique ID\" column for regular season stats, playoff season stats, and all awards. There are a few different names for this field\n",
    " <a class=\"anchor\" id=\"Step23\"></a>"
   ]
  },
  {
   "cell_type": "code",
   "execution_count": 193,
   "id": "3278c04c",
   "metadata": {
    "scrolled": false
   },
   "outputs": [],
   "source": [
    "list_of_dataframes_to_rename_column = [basic_player_stats_regular_season_df,\n",
    "                                       advanced_player_stats_in_regular_season_df,\n",
    "                                       player_shooting_in_regular_season_df,\n",
    "                                       player_play_by_play_in_regular_season_df,\n",
    "                                       player_basic_playoff_stats_df,\n",
    "                                       player_advanced_stats_in_playoffs_df,\n",
    "                                       player_shooting_stats_in_playoffs_df,\n",
    "                                       player_play_by_play_stats_in_playoffs_df,\n",
    "                                       mvp_vote_df,\n",
    "                                       roy_vote_df,\n",
    "                                       all_nba_df,\n",
    "                                       all_defense_df,\n",
    "                                       mip_df,\n",
    "                                       six_man_df,\n",
    "                                       dpoy_df,\n",
    "                                       finals_mvp]\n",
    "\n",
    "list_of_player_name_columns_observed = ['Player-additional',\n",
    "                                        '-additional',\n",
    "                                        '-9999']\n",
    "\n",
    "for i, dataframe_to_rename_column in enumerate(list_of_dataframes_to_rename_column):\n",
    "    \n",
    "    column_name_to_change = 'RAISE_ERROR_IF_I_DONT_CHANGE'\n",
    "    \n",
    "    # Check to see which it is \n",
    "    for observed_name in list_of_player_name_columns_observed:\n",
    "        \n",
    "        if observed_name in list(dataframe_to_rename_column.columns):\n",
    "            \n",
    "            column_name_to_change = observed_name\n",
    "    \n",
    "    # Rename it\n",
    "    dataframe_to_rename_column = dataframe_to_rename_column.rename({column_name_to_change:'player_id'},axis=1)\n",
    "    \n",
    "    # Assign to list\n",
    "    list_of_dataframes_to_rename_column[i] = dataframe_to_rename_column\n",
    "    \n",
    "# Assign changes from list to actual dataframes\n",
    "basic_player_stats_regular_season_df,advanced_player_stats_in_regular_season_df,player_shooting_in_regular_season_df,player_play_by_play_in_regular_season_df,player_basic_playoff_stats_df,player_advanced_stats_in_playoffs_df,player_shooting_stats_in_playoffs_df,player_play_by_play_stats_in_playoffs_df,mvp_vote_df,roy_vote_df,all_nba_df,all_defense_df,mip_df,six_man_df,dpoy_df,finals_mvp = list_of_dataframes_to_rename_column "
   ]
  },
  {
   "cell_type": "markdown",
   "id": "cff4516f",
   "metadata": {},
   "source": [
    "### Create standardized \"Team Name\" column for ALL dataframes. There are team column names of \"Tm\" and \"Team\". Convert \"Tm\" to \"Team\" for all dataframes with \"Tm\"\n",
    " <a class=\"anchor\" id=\"Step24\"></a>"
   ]
  },
  {
   "cell_type": "code",
   "execution_count": 194,
   "id": "dd67407d",
   "metadata": {
    "scrolled": false
   },
   "outputs": [],
   "source": [
    "list_of_all_dataframes = [basic_player_stats_regular_season_df,\n",
    "                           advanced_player_stats_in_regular_season_df,\n",
    "                           player_shooting_in_regular_season_df,\n",
    "                           player_play_by_play_in_regular_season_df,\n",
    "                           player_basic_playoff_stats_df,\n",
    "                           player_advanced_stats_in_playoffs_df,\n",
    "                           player_shooting_stats_in_playoffs_df,\n",
    "                           player_play_by_play_stats_in_playoffs_df,\n",
    "                           mvp_vote_df,\n",
    "                           roy_vote_df,\n",
    "                           all_nba_df,\n",
    "                           all_defense_df,\n",
    "                           mip_df,\n",
    "                           six_man_df,\n",
    "                           dpoy_df,\n",
    "                           finals_mvp,\n",
    "                          nba_team_basic_stat_in_regular_season_df,\n",
    "                          nba_team_basic_opponent_stat_in_regular_season_df,\n",
    "                          nba_advanced_team_stats,\n",
    "                          nba_team_shooting_stat_in_regular_season_df,\n",
    "                          nba_team_opponent_shooting_stat_in_regular_season_df,\n",
    "                          nba_team_basic_stat_in_playoffs_df,\n",
    "                          nba_team_basic_opponent_stat_in_playoffs_df,\n",
    "                          nba_team_advanced_stat_in_playoffs_df,\n",
    "                          nba_team_shooting_in_playoffs_df,\n",
    "                          nba_team_opponent_shooting_stat_in_playoffs_df,\n",
    "                          nba_team_playoff_standing,\n",
    "                          regular_season_standing_df\n",
    "                         ]\n",
    "\n",
    "list_of_player_name_columns_observed = ['Tm','Team']\n",
    "\n",
    "for i, dataframe_to_rename_column in enumerate(list_of_all_dataframes):\n",
    "        \n",
    "    break_flag = 0\n",
    "    \n",
    "    # Check to see which it is \n",
    "    for observed_name in list_of_player_name_columns_observed:\n",
    "        \n",
    "        if observed_name in list(dataframe_to_rename_column.columns):\n",
    "            \n",
    "            break_flag = break_flag + 1\n",
    "            \n",
    "            column_name_to_change = observed_name\n",
    "    \n",
    "    if break_flag!=1:\n",
    "        print(i)\n",
    "        break\n",
    "        \n",
    "    \n",
    "    # Rename it\n",
    "    dataframe_to_rename_column = dataframe_to_rename_column.rename({column_name_to_change:'Team'},axis=1)\n",
    "    \n",
    "    # Assign to list\n",
    "    list_of_all_dataframes[i] = dataframe_to_rename_column\n",
    "    \n",
    "# Assign changes from list to actual dataframes\n",
    "basic_player_stats_regular_season_df,advanced_player_stats_in_regular_season_df,player_shooting_in_regular_season_df,player_play_by_play_in_regular_season_df,player_basic_playoff_stats_df,player_advanced_stats_in_playoffs_df,player_shooting_stats_in_playoffs_df,player_play_by_play_stats_in_playoffs_df,mvp_vote_df,roy_vote_df,all_nba_df,all_defense_df,mip_df,six_man_df,dpoy_df,finals_mvp,nba_team_basic_stat_in_regular_season_df,nba_team_basic_opponent_stat_in_regular_season_df,nba_advanced_team_stats,nba_team_shooting_stat_in_regular_season_df,nba_team_opponent_shooting_stat_in_regular_season_df,nba_team_basic_stat_in_playoffs_df,nba_team_basic_opponent_stat_in_playoffs_df,nba_team_advanced_stat_in_playoffs_df,nba_team_shooting_in_playoffs_df,nba_team_opponent_shooting_stat_in_playoffs_df,nba_team_playoff_standing,regular_season_standing_df = list_of_all_dataframes "
   ]
  },
  {
   "cell_type": "markdown",
   "id": "f84d7e48",
   "metadata": {},
   "source": [
    "# 3B. Rename columns to be desired field name in database. Also use this step to remove redundant columns and decided what final columns will be"
   ]
  },
  {
   "cell_type": "markdown",
   "id": "27829e64",
   "metadata": {},
   "source": [
    "## REGULAR SEASON PLAYER STATS"
   ]
  },
  {
   "cell_type": "markdown",
   "id": "4a839f79",
   "metadata": {},
   "source": [
    "### Regular Season Basic Player Stats"
   ]
  },
  {
   "cell_type": "code",
   "execution_count": 195,
   "id": "ba4334b1",
   "metadata": {
    "scrolled": false
   },
   "outputs": [
    {
     "name": "stdout",
     "output_type": "stream",
     "text": [
      "\n",
      "    Rank\n",
      "\n",
      "    Player\n",
      "\n",
      "    Position\n",
      "\n",
      "    Age\n",
      "\n",
      "    Team\n",
      "\n",
      "    Games Played\n",
      "\n",
      "    Games Started\n",
      "\n",
      "    Minutes Played Per Game\n",
      "\n",
      "    Field Goals Made Per Game\n",
      "\n",
      "    Field Goals Attempted Per Game\n",
      "\n",
      "    Average Field Goal % For Season\n",
      "\n",
      "    3 Pointers Made Per Game\n",
      "\n",
      "    3 Point Attempts Per Game\n",
      "\n",
      "    Average 3 Point % For Season\n",
      "\n",
      "    2 Pointers Made Per Game\n",
      "\n",
      "    2 Point Attempts Per Game\n",
      "\n",
      "    Average 2 Point % For Season\n",
      "\n",
      "    Average Effective Field Goal % For Season\n",
      "\n",
      "    Free Throws Made Per Game\n",
      "\n",
      "    Free Throw Attempts Per Game\n",
      "\n",
      "    Average Free Throw % For Season\n",
      "\n",
      "    Offense Rebounds Per Game\n",
      "\n",
      "    Defense Rebounds Per Game\n",
      "\n",
      "    Total Rebounds Per Game\n",
      "\n",
      "    Assists Per Game\n",
      "\n",
      "    Steals Per Game\n",
      "\n",
      "    Blocks Per Game\n",
      "\n",
      "    Turnovers Per Game\n",
      "\n",
      "    Personal Fouls Per Game\n",
      "\n",
      "    Points Per Game\n",
      "\n",
      "    player_id\n",
      "\n",
      "    Season\n"
     ]
    },
    {
     "data": {
      "text/html": [
       "<div>\n",
       "<style scoped>\n",
       "    .dataframe tbody tr th:only-of-type {\n",
       "        vertical-align: middle;\n",
       "    }\n",
       "\n",
       "    .dataframe tbody tr th {\n",
       "        vertical-align: top;\n",
       "    }\n",
       "\n",
       "    .dataframe thead th {\n",
       "        text-align: right;\n",
       "    }\n",
       "</style>\n",
       "<table border=\"1\" class=\"dataframe\">\n",
       "  <thead>\n",
       "    <tr style=\"text-align: right;\">\n",
       "      <th></th>\n",
       "      <th>Rank</th>\n",
       "      <th>Player</th>\n",
       "      <th>Position</th>\n",
       "      <th>Age</th>\n",
       "      <th>Team</th>\n",
       "      <th>Games Played</th>\n",
       "      <th>Games Started</th>\n",
       "      <th>Minutes Played Per Game</th>\n",
       "      <th>Field Goals Made Per Game</th>\n",
       "      <th>Field Goals Attempted Per Game</th>\n",
       "      <th>Average Field Goal % For Season</th>\n",
       "      <th>3 Pointers Made Per Game</th>\n",
       "      <th>3 Point Attempts Per Game</th>\n",
       "      <th>Average 3 Point % For Season</th>\n",
       "      <th>2 Pointers Made Per Game</th>\n",
       "      <th>2 Point Attempts Per Game</th>\n",
       "      <th>Average 2 Point % For Season</th>\n",
       "      <th>Average Effective Field Goal % For Season</th>\n",
       "      <th>Free Throws Made Per Game</th>\n",
       "      <th>Free Throw Attempts Per Game</th>\n",
       "      <th>Average Free Throw % For Season</th>\n",
       "      <th>Offense Rebounds Per Game</th>\n",
       "      <th>Defense Rebounds Per Game</th>\n",
       "      <th>Total Rebounds Per Game</th>\n",
       "      <th>Assists Per Game</th>\n",
       "      <th>Steals Per Game</th>\n",
       "      <th>Blocks Per Game</th>\n",
       "      <th>Turnovers Per Game</th>\n",
       "      <th>Personal Fouls Per Game</th>\n",
       "      <th>Points Per Game</th>\n",
       "      <th>player_id</th>\n",
       "      <th>Season</th>\n",
       "    </tr>\n",
       "  </thead>\n",
       "  <tbody>\n",
       "    <tr>\n",
       "      <th>0</th>\n",
       "      <td>556</td>\n",
       "      <td>Ivica Zubac</td>\n",
       "      <td>C</td>\n",
       "      <td>26</td>\n",
       "      <td>LAC</td>\n",
       "      <td>54</td>\n",
       "      <td>54</td>\n",
       "      <td>26.4000</td>\n",
       "      <td>4.9000</td>\n",
       "      <td>7.5000</td>\n",
       "      <td>0.6530</td>\n",
       "      <td>0.0000</td>\n",
       "      <td>0.0000</td>\n",
       "      <td>NaN</td>\n",
       "      <td>4.9000</td>\n",
       "      <td>7.5000</td>\n",
       "      <td>0.6530</td>\n",
       "      <td>0.6530</td>\n",
       "      <td>1.7000</td>\n",
       "      <td>2.5000</td>\n",
       "      <td>0.6870</td>\n",
       "      <td>2.9000</td>\n",
       "      <td>6.2000</td>\n",
       "      <td>9.2000</td>\n",
       "      <td>1.4000</td>\n",
       "      <td>0.2000</td>\n",
       "      <td>1.2000</td>\n",
       "      <td>1.2000</td>\n",
       "      <td>2.7000</td>\n",
       "      <td>11.5000</td>\n",
       "      <td>zubaciv01</td>\n",
       "      <td>2024</td>\n",
       "    </tr>\n",
       "  </tbody>\n",
       "</table>\n",
       "</div>"
      ],
      "text/plain": [
       "   Rank       Player Position  Age Team  Games Played  Games Started  \\\n",
       "0   556  Ivica Zubac        C   26  LAC            54             54   \n",
       "\n",
       "   Minutes Played Per Game  Field Goals Made Per Game  \\\n",
       "0                  26.4000                     4.9000   \n",
       "\n",
       "   Field Goals Attempted Per Game  Average Field Goal % For Season  \\\n",
       "0                          7.5000                           0.6530   \n",
       "\n",
       "   3 Pointers Made Per Game  3 Point Attempts Per Game  \\\n",
       "0                    0.0000                     0.0000   \n",
       "\n",
       "   Average 3 Point % For Season  2 Pointers Made Per Game  \\\n",
       "0                           NaN                    4.9000   \n",
       "\n",
       "   2 Point Attempts Per Game  Average 2 Point % For Season  \\\n",
       "0                     7.5000                        0.6530   \n",
       "\n",
       "   Average Effective Field Goal % For Season  Free Throws Made Per Game  \\\n",
       "0                                     0.6530                     1.7000   \n",
       "\n",
       "   Free Throw Attempts Per Game  Average Free Throw % For Season  \\\n",
       "0                        2.5000                           0.6870   \n",
       "\n",
       "   Offense Rebounds Per Game  Defense Rebounds Per Game  \\\n",
       "0                     2.9000                     6.2000   \n",
       "\n",
       "   Total Rebounds Per Game  Assists Per Game  Steals Per Game  \\\n",
       "0                   9.2000            1.4000           0.2000   \n",
       "\n",
       "   Blocks Per Game  Turnovers Per Game  Personal Fouls Per Game  \\\n",
       "0           1.2000              1.2000                   2.7000   \n",
       "\n",
       "   Points Per Game  player_id  Season  \n",
       "0          11.5000  zubaciv01    2024  "
      ]
     },
     "execution_count": 195,
     "metadata": {},
     "output_type": "execute_result"
    }
   ],
   "source": [
    "# Define unique name for dataframe to insert into f-string\n",
    "unique_table_name = \"\"\n",
    "\n",
    "# Define name replacement dict\n",
    "name_replacement_dict = {\"Rk\":f\"{unique_table_name}Rank\",\n",
    "\"Player\":f\"{unique_table_name}Player\",\n",
    "\"Pos\":f\"{unique_table_name}Position\",\n",
    "\"Age\":f\"{unique_table_name}Age\",\n",
    "\"Team\":f\"{unique_table_name}Team\",\n",
    "\"G\":f\"{unique_table_name}Games Played\",\n",
    "\"GS\":f\"{unique_table_name}Games Started\",\n",
    "\"MP\":f\"{unique_table_name}Minutes Played Per Game\",\n",
    "\"FG\":f\"{unique_table_name}Field Goals Made Per Game\",\n",
    "\"FGA\":f\"{unique_table_name}Field Goals Attempted Per Game\",\n",
    "\"FG%\":f\"{unique_table_name}Average Field Goal % For Season\",\n",
    "\"3P\":f\"{unique_table_name}3 Pointers Made Per Game\",\n",
    "\"3PA\":f\"{unique_table_name}3 Point Attempts Per Game\",\n",
    "\"3P%\":f\"{unique_table_name}Average 3 Point % For Season\",\n",
    "\"2P\":f\"{unique_table_name}2 Pointers Made Per Game\",\n",
    "\"2PA\":f\"{unique_table_name}2 Point Attempts Per Game\",\n",
    "\"2P%\":f\"{unique_table_name}Average 2 Point % For Season\",\n",
    "\"eFG%\":f\"{unique_table_name}Average Effective Field Goal % For Season\",\n",
    "\"FT\":f\"{unique_table_name}Free Throws Made Per Game\",\n",
    "\"FTA\":f\"{unique_table_name}Free Throw Attempts Per Game\",\n",
    "\"FT%\":f\"{unique_table_name}Average Free Throw % For Season\",\n",
    "\"ORB\":f\"{unique_table_name}Offense Rebounds Per Game\",\n",
    "\"DRB\":f\"{unique_table_name}Defense Rebounds Per Game\",\n",
    "\"TRB\":f\"{unique_table_name}Total Rebounds Per Game\",\n",
    "\"AST\":f\"{unique_table_name}Assists Per Game\",\n",
    "\"STL\":f\"{unique_table_name}Steals Per Game\",\n",
    "\"BLK\":f\"{unique_table_name}Blocks Per Game\",\n",
    "\"TOV\":f\"{unique_table_name}Turnovers Per Game\",\n",
    "\"PF\":f\"{unique_table_name}Personal Fouls Per Game\",\n",
    "\"PTS\":f\"{unique_table_name}Points Per Game\",\n",
    "\"Year\":\"Season\",\n",
    "\"Team Name Refined - accounts for players being traded\":f\"{unique_table_name}Team Name Refined - accounts for players being traded\",\n",
    "\"Standardized/Modernized Team Name\":f\"{unique_table_name}Standardized/Modernized Team Name\"}\n",
    "# Replace names in dataframe\n",
    "basic_player_stats_regular_season_df.rename(name_replacement_dict,axis=1,inplace=True)\n",
    "\n",
    "# Check column names to make sure none desired to get rid of\n",
    "for column in basic_player_stats_regular_season_df.columns:\n",
    "    \n",
    "    print(f\"\"\"\n",
    "    {column}\"\"\")\n",
    "\n",
    "basic_player_stats_regular_season_df.head(1)\n"
   ]
  },
  {
   "cell_type": "markdown",
   "id": "b7d60baf",
   "metadata": {},
   "source": [
    "### Regular Season Advanced Player Stats"
   ]
  },
  {
   "cell_type": "code",
   "execution_count": 196,
   "id": "03bd7ac6",
   "metadata": {
    "scrolled": true
   },
   "outputs": [
    {
     "name": "stdout",
     "output_type": "stream",
     "text": [
      "\n",
      "    Player\n",
      "\n",
      "    Position\n",
      "\n",
      "    Age\n",
      "\n",
      "    Team\n",
      "\n",
      "    Games Played\n",
      "\n",
      "    Total Minutes Played During Season\n",
      "\n",
      "    Player Efficiency\n",
      "\n",
      "    True Shooting % For Season\n",
      "\n",
      "    3 Point Attempt Rate\n",
      "\n",
      "    Free Throw Rate for Season\n",
      "\n",
      "    Offensive Rebounding %\n",
      "\n",
      "    Defensive Rebound Percentage\n",
      "\n",
      "    Total Rebounding %\n",
      "\n",
      "    Assist % For Season\n",
      "\n",
      "    Steal Percentage for Season\n",
      "\n",
      "    Block %\n",
      "\n",
      "    Turnover % for Season\n",
      "\n",
      "    Usage % For Season\n",
      "\n",
      "    Total Offensive Win Shares For Season\n",
      "\n",
      "    Total Defensive Win Shares For Season\n",
      "\n",
      "    Win Shares\n",
      "\n",
      "    Win Shares Per 48 Minutes Played For the Season\n",
      "\n",
      "    Offensive Box Plus/Minus For Season\n",
      "\n",
      "    Defensive Box Plus/Minus\n",
      "\n",
      "    Box Plus/Minus For Season\n",
      "\n",
      "    Value Above Replacement Player\n",
      "\n",
      "    player_id\n",
      "\n",
      "    Year\n"
     ]
    },
    {
     "data": {
      "text/html": [
       "<div>\n",
       "<style scoped>\n",
       "    .dataframe tbody tr th:only-of-type {\n",
       "        vertical-align: middle;\n",
       "    }\n",
       "\n",
       "    .dataframe tbody tr th {\n",
       "        vertical-align: top;\n",
       "    }\n",
       "\n",
       "    .dataframe thead th {\n",
       "        text-align: right;\n",
       "    }\n",
       "</style>\n",
       "<table border=\"1\" class=\"dataframe\">\n",
       "  <thead>\n",
       "    <tr style=\"text-align: right;\">\n",
       "      <th></th>\n",
       "      <th>Player</th>\n",
       "      <th>Position</th>\n",
       "      <th>Age</th>\n",
       "      <th>Team</th>\n",
       "      <th>Games Played</th>\n",
       "      <th>Total Minutes Played During Season</th>\n",
       "      <th>Player Efficiency</th>\n",
       "      <th>True Shooting % For Season</th>\n",
       "      <th>3 Point Attempt Rate</th>\n",
       "      <th>Free Throw Rate for Season</th>\n",
       "      <th>Offensive Rebounding %</th>\n",
       "      <th>Defensive Rebound Percentage</th>\n",
       "      <th>Total Rebounding %</th>\n",
       "      <th>Assist % For Season</th>\n",
       "      <th>Steal Percentage for Season</th>\n",
       "      <th>Block %</th>\n",
       "      <th>Turnover % for Season</th>\n",
       "      <th>Usage % For Season</th>\n",
       "      <th>Total Offensive Win Shares For Season</th>\n",
       "      <th>Total Defensive Win Shares For Season</th>\n",
       "      <th>Win Shares</th>\n",
       "      <th>Win Shares Per 48 Minutes Played For the Season</th>\n",
       "      <th>Offensive Box Plus/Minus For Season</th>\n",
       "      <th>Defensive Box Plus/Minus</th>\n",
       "      <th>Box Plus/Minus For Season</th>\n",
       "      <th>Value Above Replacement Player</th>\n",
       "      <th>player_id</th>\n",
       "      <th>Year</th>\n",
       "    </tr>\n",
       "  </thead>\n",
       "  <tbody>\n",
       "    <tr>\n",
       "      <th>0</th>\n",
       "      <td>Ivica Zubac</td>\n",
       "      <td>C</td>\n",
       "      <td>26</td>\n",
       "      <td>LAC</td>\n",
       "      <td>54</td>\n",
       "      <td>1428</td>\n",
       "      <td>18.6000</td>\n",
       "      <td>0.6700</td>\n",
       "      <td>0.0000</td>\n",
       "      <td>0.3320</td>\n",
       "      <td>13.1000</td>\n",
       "      <td>25.9000</td>\n",
       "      <td>19.7000</td>\n",
       "      <td>7.4000</td>\n",
       "      <td>0.4000</td>\n",
       "      <td>4.0000</td>\n",
       "      <td>12.3000</td>\n",
       "      <td>16.2000</td>\n",
       "      <td>3.4000</td>\n",
       "      <td>1.8000</td>\n",
       "      <td>5.2000</td>\n",
       "      <td>0.1750</td>\n",
       "      <td>0.5000</td>\n",
       "      <td>-0.2000</td>\n",
       "      <td>0.3000</td>\n",
       "      <td>0.9000</td>\n",
       "      <td>zubaciv01</td>\n",
       "      <td>2024</td>\n",
       "    </tr>\n",
       "  </tbody>\n",
       "</table>\n",
       "</div>"
      ],
      "text/plain": [
       "        Player Position  Age Team  Games Played  \\\n",
       "0  Ivica Zubac        C   26  LAC            54   \n",
       "\n",
       "   Total Minutes Played During Season  Player Efficiency  \\\n",
       "0                                1428            18.6000   \n",
       "\n",
       "   True Shooting % For Season  3 Point Attempt Rate  \\\n",
       "0                      0.6700                0.0000   \n",
       "\n",
       "   Free Throw Rate for Season  Offensive Rebounding %  \\\n",
       "0                      0.3320                 13.1000   \n",
       "\n",
       "   Defensive Rebound Percentage  Total Rebounding %  Assist % For Season  \\\n",
       "0                       25.9000             19.7000               7.4000   \n",
       "\n",
       "   Steal Percentage for Season  Block %  Turnover % for Season  \\\n",
       "0                       0.4000   4.0000                12.3000   \n",
       "\n",
       "   Usage % For Season  Total Offensive Win Shares For Season  \\\n",
       "0             16.2000                                 3.4000   \n",
       "\n",
       "   Total Defensive Win Shares For Season  Win Shares  \\\n",
       "0                                 1.8000      5.2000   \n",
       "\n",
       "   Win Shares Per 48 Minutes Played For the Season  \\\n",
       "0                                           0.1750   \n",
       "\n",
       "   Offensive Box Plus/Minus For Season  Defensive Box Plus/Minus  \\\n",
       "0                               0.5000                   -0.2000   \n",
       "\n",
       "   Box Plus/Minus For Season  Value Above Replacement Player  player_id  Year  \n",
       "0                     0.3000                          0.9000  zubaciv01  2024  "
      ]
     },
     "execution_count": 196,
     "metadata": {},
     "output_type": "execute_result"
    }
   ],
   "source": [
    "# Define unique name for dataframe to insert into f-string\n",
    "unique_table_name = \"\"\n",
    "\n",
    "# Define name replacement dict\n",
    "name_replacement_dict = {\"Rk\":f\"{unique_table_name}Rank\",\n",
    "\"Player\":f\"{unique_table_name}Player\",\n",
    "\"Pos\":f\"{unique_table_name}Position\",\n",
    "\"Age\":f\"{unique_table_name}Age\",\n",
    "\"Team\":f\"{unique_table_name}Team\",\n",
    "\"G\":f\"{unique_table_name}Games Played\",\n",
    "\"GS\":f\"{unique_table_name}Games Started\",\n",
    "'PER':f'{unique_table_name}Player Efficiency',\n",
    "'DBPM':f'{unique_table_name}Defensive Box Plus/Minus',\n",
    "'VORP':f'{unique_table_name}Value Above Replacement Player',\n",
    "'TRB%':f'{unique_table_name}Total Rebounding %',\n",
    "'ORB%':f'{unique_table_name}Offensive Rebounding %',\n",
    "'WS':f'{unique_table_name}Win Shares',\n",
    "'BLK%':f'{unique_table_name}Block %',\n",
    "'DWS':f'{unique_table_name}Total Defensive Win Shares For Season',\n",
    "'TOV%':f'{unique_table_name}Turnover % for Season',\n",
    "'STL%':f'{unique_table_name}Steal Percentage for Season',\n",
    "'FTr':f'{unique_table_name}Free Throw Rate for Season',\n",
    "'DRB%':f'{unique_table_name}Defensive Rebound Percentage',\n",
    "'3PAr':f'{unique_table_name}3 Point Attempt Rate',\n",
    "'AST%':f'{unique_table_name}Assist % For Season',\n",
    "'OBPM':f'{unique_table_name}Offensive Box Plus/Minus For Season',\n",
    "'BPM':f'{unique_table_name}Box Plus/Minus For Season',\n",
    "'WS/48':f'{unique_table_name}Win Shares Per 48 Minutes Played For the Season',\n",
    "'USG%':f'{unique_table_name}Usage % For Season',\n",
    "'OWS':f'{unique_table_name}Total Offensive Win Shares For Season',\n",
    "'TS%':f'{unique_table_name}True Shooting % For Season',\n",
    "'MP':f'{unique_table_name}Total Minutes Played During Season',\n",
    "\"Year\":f\"{unique_table_name}Year\",\n",
    "\"Team Name Refined - accounts for players being traded\":f\"{unique_table_name}Team Name Refined - accounts for players being traded\",\n",
    "\"Standardized/Modernized Team Name\":f\"{unique_table_name}Standardized/Modernized Team Name\",}\n",
    "\n",
    "# Replace names in dataframe\n",
    "advanced_player_stats_in_regular_season_df.rename(name_replacement_dict,axis=1,inplace=True)\n",
    "\n",
    "# Get rid of dataframes as desired\n",
    "list_of_columns_to_remove = ['Unnamed: 19','Unnamed: 24','Rank']\n",
    "\n",
    "for item in list_of_columns_to_remove:\n",
    "    advanced_player_stats_in_regular_season_df = advanced_player_stats_in_regular_season_df.drop(item,axis=1)\n",
    "\n",
    "# Check column names to make sure none desired to get rid of\n",
    "for column in advanced_player_stats_in_regular_season_df.columns:\n",
    "    \n",
    "    print(f\"\"\"\n",
    "    {column}\"\"\")\n",
    "\n",
    "advanced_player_stats_in_regular_season_df.head(1)"
   ]
  },
  {
   "cell_type": "markdown",
   "id": "ff778383",
   "metadata": {},
   "source": [
    "### Regular Season Shooting Player Stats"
   ]
  },
  {
   "cell_type": "code",
   "execution_count": 197,
   "id": "192c8f52",
   "metadata": {
    "scrolled": true
   },
   "outputs": [
    {
     "name": "stdout",
     "output_type": "stream",
     "text": [
      "\n",
      "    Player\n",
      "\n",
      "    Position\n",
      "\n",
      "    Age\n",
      "\n",
      "    Team\n",
      "\n",
      "    Games Played\n",
      "\n",
      "    Total Minutes Played During Season\n",
      "\n",
      "    Field Goal %\n",
      "\n",
      "    Average distance of shot\n",
      "\n",
      "    2 Pointer Attempt Rate For Season as % of total field goals attempted\n",
      "\n",
      "    % of FGA between 0-3 ft.\n",
      "\n",
      "    % of FGA between 3-10 ft.\n",
      "\n",
      "    % of FGA between 10-16 ft.\n",
      "\n",
      "    % of FGA between 16-3P ft.\n",
      "\n",
      "    3 Pointer Attempt Rate For Season as % of total field goals attempted\n",
      "\n",
      "    FG % of 2 Point Attempts\n",
      "\n",
      "    FG % of Attempts between 0-3 ft.\n",
      "\n",
      "    FG % of Attempts between 3-10 ft.\n",
      "\n",
      "    FG % of Attempts between 10-16 ft.\n",
      "\n",
      "    FG % of Attempts between 16-3P ft.\n",
      "\n",
      "    FG % of 3 Point Attempts\n",
      "\n",
      "    % of Made 2 Point Fields Goals That Were Assisted\n",
      "\n",
      "    % of Made 3 Point Fields Goals That Were Assisted\n",
      "\n",
      "    % of Field Goal attempts that are dunk attempts\n",
      "\n",
      "    Number of made dunk attempts\n",
      "\n",
      "    % of 3 Point Attempts that come from the corner\n",
      "\n",
      "    % of 3 Point corner attempts that are made\n",
      "\n",
      "    Heave Attempts\n",
      "\n",
      "    Number of made heaves\n",
      "\n",
      "    player_id\n",
      "\n",
      "    Year\n"
     ]
    },
    {
     "data": {
      "text/html": [
       "<div>\n",
       "<style scoped>\n",
       "    .dataframe tbody tr th:only-of-type {\n",
       "        vertical-align: middle;\n",
       "    }\n",
       "\n",
       "    .dataframe tbody tr th {\n",
       "        vertical-align: top;\n",
       "    }\n",
       "\n",
       "    .dataframe thead th {\n",
       "        text-align: right;\n",
       "    }\n",
       "</style>\n",
       "<table border=\"1\" class=\"dataframe\">\n",
       "  <thead>\n",
       "    <tr style=\"text-align: right;\">\n",
       "      <th></th>\n",
       "      <th>Player</th>\n",
       "      <th>Position</th>\n",
       "      <th>Age</th>\n",
       "      <th>Team</th>\n",
       "      <th>Games Played</th>\n",
       "      <th>Total Minutes Played During Season</th>\n",
       "      <th>Field Goal %</th>\n",
       "      <th>Average distance of shot</th>\n",
       "      <th>2 Pointer Attempt Rate For Season as % of total field goals attempted</th>\n",
       "      <th>% of FGA between 0-3 ft.</th>\n",
       "      <th>% of FGA between 3-10 ft.</th>\n",
       "      <th>% of FGA between 10-16 ft.</th>\n",
       "      <th>% of FGA between 16-3P ft.</th>\n",
       "      <th>3 Pointer Attempt Rate For Season as % of total field goals attempted</th>\n",
       "      <th>FG % of 2 Point Attempts</th>\n",
       "      <th>FG % of Attempts between 0-3 ft.</th>\n",
       "      <th>FG % of Attempts between 3-10 ft.</th>\n",
       "      <th>FG % of Attempts between 10-16 ft.</th>\n",
       "      <th>FG % of Attempts between 16-3P ft.</th>\n",
       "      <th>FG % of 3 Point Attempts</th>\n",
       "      <th>% of Made 2 Point Fields Goals That Were Assisted</th>\n",
       "      <th>% of Made 3 Point Fields Goals That Were Assisted</th>\n",
       "      <th>% of Field Goal attempts that are dunk attempts</th>\n",
       "      <th>Number of made dunk attempts</th>\n",
       "      <th>% of 3 Point Attempts that come from the corner</th>\n",
       "      <th>% of 3 Point corner attempts that are made</th>\n",
       "      <th>Heave Attempts</th>\n",
       "      <th>Number of made heaves</th>\n",
       "      <th>player_id</th>\n",
       "      <th>Year</th>\n",
       "    </tr>\n",
       "  </thead>\n",
       "  <tbody>\n",
       "    <tr>\n",
       "      <th>0</th>\n",
       "      <td>Ivica Zubac</td>\n",
       "      <td>C</td>\n",
       "      <td>26</td>\n",
       "      <td>LAC</td>\n",
       "      <td>54</td>\n",
       "      <td>1428</td>\n",
       "      <td>0.6530</td>\n",
       "      <td>3.6000</td>\n",
       "      <td>1.0000</td>\n",
       "      <td>0.5220</td>\n",
       "      <td>0.4430</td>\n",
       "      <td>0.0350</td>\n",
       "      <td>0.0000</td>\n",
       "      <td>0.0000</td>\n",
       "      <td>0.6530</td>\n",
       "      <td>0.6870</td>\n",
       "      <td>0.6200</td>\n",
       "      <td>0.5710</td>\n",
       "      <td>NaN</td>\n",
       "      <td>NaN</td>\n",
       "      <td>0.7650</td>\n",
       "      <td>NaN</td>\n",
       "      <td>0.2650</td>\n",
       "      <td>92</td>\n",
       "      <td>NaN</td>\n",
       "      <td>NaN</td>\n",
       "      <td>0</td>\n",
       "      <td>0</td>\n",
       "      <td>zubaciv01</td>\n",
       "      <td>2024</td>\n",
       "    </tr>\n",
       "  </tbody>\n",
       "</table>\n",
       "</div>"
      ],
      "text/plain": [
       "        Player Position  Age Team  Games Played  \\\n",
       "0  Ivica Zubac        C   26  LAC            54   \n",
       "\n",
       "   Total Minutes Played During Season  Field Goal %  Average distance of shot  \\\n",
       "0                                1428        0.6530                    3.6000   \n",
       "\n",
       "   2 Pointer Attempt Rate For Season as % of total field goals attempted  \\\n",
       "0                                             1.0000                       \n",
       "\n",
       "   % of FGA between 0-3 ft.  % of FGA between 3-10 ft.  \\\n",
       "0                    0.5220                     0.4430   \n",
       "\n",
       "   % of FGA between 10-16 ft.  % of FGA between 16-3P ft.  \\\n",
       "0                      0.0350                      0.0000   \n",
       "\n",
       "   3 Pointer Attempt Rate For Season as % of total field goals attempted  \\\n",
       "0                                             0.0000                       \n",
       "\n",
       "   FG % of 2 Point Attempts  FG % of Attempts between 0-3 ft.  \\\n",
       "0                    0.6530                            0.6870   \n",
       "\n",
       "   FG % of Attempts between 3-10 ft.  FG % of Attempts between 10-16 ft.  \\\n",
       "0                             0.6200                              0.5710   \n",
       "\n",
       "   FG % of Attempts between 16-3P ft.  FG % of 3 Point Attempts  \\\n",
       "0                                 NaN                       NaN   \n",
       "\n",
       "   % of Made 2 Point Fields Goals That Were Assisted  \\\n",
       "0                                             0.7650   \n",
       "\n",
       "   % of Made 3 Point Fields Goals That Were Assisted  \\\n",
       "0                                                NaN   \n",
       "\n",
       "   % of Field Goal attempts that are dunk attempts  \\\n",
       "0                                           0.2650   \n",
       "\n",
       "   Number of made dunk attempts  \\\n",
       "0                            92   \n",
       "\n",
       "   % of 3 Point Attempts that come from the corner  \\\n",
       "0                                              NaN   \n",
       "\n",
       "   % of 3 Point corner attempts that are made  Heave Attempts  \\\n",
       "0                                         NaN               0   \n",
       "\n",
       "   Number of made heaves  player_id  Year  \n",
       "0                      0  zubaciv01  2024  "
      ]
     },
     "execution_count": 197,
     "metadata": {},
     "output_type": "execute_result"
    }
   ],
   "source": [
    "# Define unique name for dataframe to insert into f-string\n",
    "unique_table_name = \"\"\n",
    "\n",
    "# Define name replacement dict\n",
    "name_replacement_dict = {\"Rk\":f\"{unique_table_name}Rank\",\n",
    "\"Player\":f\"{unique_table_name}Player\",\n",
    "\"Pos\":f\"{unique_table_name}Position\",\n",
    "\"Age\":f\"{unique_table_name}Age\",\n",
    "\"Team\":f\"{unique_table_name}Team\",\n",
    "\"G\":f\"{unique_table_name}Games Played\",\n",
    "'MP':f'{unique_table_name}Total Minutes Played During Season',\n",
    "'FG%':f'{unique_table_name}Field Goal %',\n",
    "'Dist.':f'{unique_table_name}Average distance of shot',                         \n",
    "'2P':f'{unique_table_name}2 Pointer Attempt Rate For Season as % of total field goals attempted',\n",
    "'0-3':f'{unique_table_name}% of FGA between 0-3 ft.',\n",
    "'3-10':f'{unique_table_name}% of FGA between 3-10 ft.',                         \n",
    "'10-16':f'{unique_table_name}% of FGA between 10-16 ft.',\n",
    "'16-3P':f'{unique_table_name}% of FGA between 16-3P ft.',\n",
    "'3P':f'{unique_table_name}3 Pointer Attempt Rate For Season as % of total field goals attempted',\n",
    "'2P.1':f'{unique_table_name}FG % of 2 Point Attempts',\n",
    "'0-3.1':f'{unique_table_name}FG % of Attempts between 0-3 ft.',\n",
    "'3-10.1':f'{unique_table_name}FG % of Attempts between 3-10 ft.',                         \n",
    "'10-16.1':f'{unique_table_name}FG % of Attempts between 10-16 ft.',\n",
    "'16-3P.1':f'{unique_table_name}FG % of Attempts between 16-3P ft.',\n",
    "'3P.1':f'{unique_table_name}FG % of 3 Point Attempts',                       \n",
    "'2P.2':f'{unique_table_name}% of Made 2 Point Fields Goals That Were Assisted',                         \n",
    "'3P.2':f'{unique_table_name}% of Made 3 Point Fields Goals That Were Assisted',\n",
    "'%FGA':f'{unique_table_name}% of Field Goal attempts that are dunk attempts',\n",
    "'#':f'{unique_table_name}Number of made dunk attempts',\n",
    "'%3PA':f'{unique_table_name}% of 3 Point Attempts that come from the corner',\n",
    "'3P%':f'{unique_table_name}% of 3 Point corner attempts that are made',\n",
    "'Att.':f'{unique_table_name}Heave Attempts',\n",
    "'#.1':f'{unique_table_name}Number of made heaves',                     \n",
    "\"Year\":f\"{unique_table_name}Year\",\n",
    "\"Team Name Refined - accounts for players being traded\":f\"{unique_table_name}Team Name Refined - accounts for players being traded\",\n",
    "\"Standardized/Modernized Team Name\":f\"{unique_table_name}Standardized/Modernized Team Name\"}\n",
    "\n",
    "# Replace names in dataframe\n",
    "player_shooting_in_regular_season_df.rename(name_replacement_dict,axis=1,inplace=True)\n",
    "\n",
    "# Get rid of dataframes as desired\n",
    "list_of_columns_to_remove = ['Unnamed: 9','Unnamed: 16','Unnamed: 23','Unnamed: 26','Unnamed: 29','Unnamed: 32','Rank']\n",
    "\n",
    "for item in list_of_columns_to_remove:\n",
    "    player_shooting_in_regular_season_df = player_shooting_in_regular_season_df.drop(item,axis=1)\n",
    "\n",
    "# Check column names to make sure none desired to get rid of\n",
    "for column in player_shooting_in_regular_season_df.columns:\n",
    "    \n",
    "    print(f\"\"\"\n",
    "    {column}\"\"\")\n",
    "\n",
    "player_shooting_in_regular_season_df.head(1)"
   ]
  },
  {
   "cell_type": "markdown",
   "id": "c6f64434",
   "metadata": {},
   "source": [
    "### Regular Season Play by Play Stats"
   ]
  },
  {
   "cell_type": "code",
   "execution_count": 198,
   "id": "80a6b26f",
   "metadata": {
    "scrolled": true
   },
   "outputs": [
    {
     "name": "stdout",
     "output_type": "stream",
     "text": [
      "\n",
      "    Player\n",
      "\n",
      "    Position\n",
      "\n",
      "    Age\n",
      "\n",
      "    Team\n",
      "\n",
      "    Games Played\n",
      "\n",
      "    Total Minutes Played During Season\n",
      "\n",
      "    Percentage of Total Minutes Played at Point Guard\n",
      "\n",
      "    Percentage of Total Minutes Played at Shooting Guard\n",
      "\n",
      "    Percentage of Total Minutes Played at Small Forward\n",
      "\n",
      "    Percentage of Total Minutes Played at Power Forward\n",
      "\n",
      "    Percentage of Total Minutes Played at Center\n",
      "\n",
      "    Plus/Minus Per 100 Possessions (On Court)\n",
      "\n",
      "    Plus/Minus Net Per 100 Possessions (On/off)\n",
      "\n",
      "    Total Turnovers by Bad Pass\n",
      "\n",
      "    Total Lost Ball Turnovers\n",
      "\n",
      "    Shooting Fouls Committed\n",
      "\n",
      "    Offensive Fouls Committed\n",
      "\n",
      "    Shooting Fouls Drawn\n",
      "\n",
      "    Offensive Fouls Drawn\n",
      "\n",
      "    Points Generated by Assists\n",
      "\n",
      "    Number of And1 Attempts After Made Field Goal\n",
      "\n",
      "    Field Goal Attempts Blocked\n",
      "\n",
      "    player_id\n",
      "\n",
      "    Year\n"
     ]
    },
    {
     "data": {
      "text/html": [
       "<div>\n",
       "<style scoped>\n",
       "    .dataframe tbody tr th:only-of-type {\n",
       "        vertical-align: middle;\n",
       "    }\n",
       "\n",
       "    .dataframe tbody tr th {\n",
       "        vertical-align: top;\n",
       "    }\n",
       "\n",
       "    .dataframe thead th {\n",
       "        text-align: right;\n",
       "    }\n",
       "</style>\n",
       "<table border=\"1\" class=\"dataframe\">\n",
       "  <thead>\n",
       "    <tr style=\"text-align: right;\">\n",
       "      <th></th>\n",
       "      <th>Player</th>\n",
       "      <th>Position</th>\n",
       "      <th>Age</th>\n",
       "      <th>Team</th>\n",
       "      <th>Games Played</th>\n",
       "      <th>Total Minutes Played During Season</th>\n",
       "      <th>Percentage of Total Minutes Played at Point Guard</th>\n",
       "      <th>Percentage of Total Minutes Played at Shooting Guard</th>\n",
       "      <th>Percentage of Total Minutes Played at Small Forward</th>\n",
       "      <th>Percentage of Total Minutes Played at Power Forward</th>\n",
       "      <th>Percentage of Total Minutes Played at Center</th>\n",
       "      <th>Plus/Minus Per 100 Possessions (On Court)</th>\n",
       "      <th>Plus/Minus Net Per 100 Possessions (On/off)</th>\n",
       "      <th>Total Turnovers by Bad Pass</th>\n",
       "      <th>Total Lost Ball Turnovers</th>\n",
       "      <th>Shooting Fouls Committed</th>\n",
       "      <th>Offensive Fouls Committed</th>\n",
       "      <th>Shooting Fouls Drawn</th>\n",
       "      <th>Offensive Fouls Drawn</th>\n",
       "      <th>Points Generated by Assists</th>\n",
       "      <th>Number of And1 Attempts After Made Field Goal</th>\n",
       "      <th>Field Goal Attempts Blocked</th>\n",
       "      <th>player_id</th>\n",
       "      <th>Year</th>\n",
       "    </tr>\n",
       "  </thead>\n",
       "  <tbody>\n",
       "    <tr>\n",
       "      <th>0</th>\n",
       "      <td>Ivica Zubac</td>\n",
       "      <td>C</td>\n",
       "      <td>26</td>\n",
       "      <td>LAC</td>\n",
       "      <td>54</td>\n",
       "      <td>1428</td>\n",
       "      <td>NaN</td>\n",
       "      <td>NaN</td>\n",
       "      <td>NaN</td>\n",
       "      <td>NaN</td>\n",
       "      <td>100%</td>\n",
       "      <td>5.8000</td>\n",
       "      <td>2.2000</td>\n",
       "      <td>25</td>\n",
       "      <td>15</td>\n",
       "      <td>106</td>\n",
       "      <td>20</td>\n",
       "      <td>64</td>\n",
       "      <td>3.0000</td>\n",
       "      <td>183</td>\n",
       "      <td>8</td>\n",
       "      <td>33</td>\n",
       "      <td>zubaciv01</td>\n",
       "      <td>2024</td>\n",
       "    </tr>\n",
       "  </tbody>\n",
       "</table>\n",
       "</div>"
      ],
      "text/plain": [
       "        Player Position  Age Team  Games Played  \\\n",
       "0  Ivica Zubac        C   26  LAC            54   \n",
       "\n",
       "   Total Minutes Played During Season  \\\n",
       "0                                1428   \n",
       "\n",
       "  Percentage of Total Minutes Played at Point Guard  \\\n",
       "0                                               NaN   \n",
       "\n",
       "  Percentage of Total Minutes Played at Shooting Guard  \\\n",
       "0                                                NaN     \n",
       "\n",
       "  Percentage of Total Minutes Played at Small Forward  \\\n",
       "0                                                NaN    \n",
       "\n",
       "  Percentage of Total Minutes Played at Power Forward  \\\n",
       "0                                                NaN    \n",
       "\n",
       "  Percentage of Total Minutes Played at Center  \\\n",
       "0                                         100%   \n",
       "\n",
       "   Plus/Minus Per 100 Possessions (On Court)  \\\n",
       "0                                     5.8000   \n",
       "\n",
       "   Plus/Minus Net Per 100 Possessions (On/off)  Total Turnovers by Bad Pass  \\\n",
       "0                                       2.2000                           25   \n",
       "\n",
       "   Total Lost Ball Turnovers  Shooting Fouls Committed  \\\n",
       "0                         15                       106   \n",
       "\n",
       "   Offensive Fouls Committed  Shooting Fouls Drawn  Offensive Fouls Drawn  \\\n",
       "0                         20                    64                 3.0000   \n",
       "\n",
       "   Points Generated by Assists  Number of And1 Attempts After Made Field Goal  \\\n",
       "0                          183                                              8   \n",
       "\n",
       "   Field Goal Attempts Blocked  player_id  Year  \n",
       "0                           33  zubaciv01  2024  "
      ]
     },
     "execution_count": 198,
     "metadata": {},
     "output_type": "execute_result"
    }
   ],
   "source": [
    "# Define unique name for dataframe to insert into f-string\n",
    "unique_table_name = \"\"\n",
    "\n",
    "# Define name replacement dict\n",
    "name_replacement_dict = {\"Rk\":f\"{unique_table_name}Rank\",\n",
    "\"Player\":f\"{unique_table_name}Player\",\n",
    "\"Pos\":f\"{unique_table_name}Position\",\n",
    "\"Age\":f\"{unique_table_name}Age\",\n",
    "\"Team\":f\"{unique_table_name}Team\",\n",
    "\"G\":f\"{unique_table_name}Games Played\",\n",
    "'MP':f'{unique_table_name}Total Minutes Played During Season',\n",
    "                         \n",
    "'PG%':f'{unique_table_name}Percentage of Total Minutes Played at Point Guard',                         \n",
    "'SG%':f'{unique_table_name}Percentage of Total Minutes Played at Shooting Guard',    \n",
    "'SF%':f'{unique_table_name}Percentage of Total Minutes Played at Small Forward',    \n",
    "'PF%':f'{unique_table_name}Percentage of Total Minutes Played at Power Forward',    \n",
    "'C%':f'{unique_table_name}Percentage of Total Minutes Played at Center',    \n",
    "'OnCourt':f'{unique_table_name}Plus/Minus Per 100 Possessions (On Court)',    \n",
    "'On-Off':f'{unique_table_name}Plus/Minus Net Per 100 Possessions (On/off)',    \n",
    "'BadPass':f'{unique_table_name}Total Turnovers by Bad Pass',    \n",
    "'LostBall':f'{unique_table_name}Total Lost Ball Turnovers',    \n",
    "'Shoot':f'{unique_table_name}Shooting Fouls Committed',    \n",
    "'Off.':f'{unique_table_name}Offensive Fouls Committed', \n",
    "'Shoot.1':f'{unique_table_name}Shooting Fouls Drawn',    \n",
    "'Off..1':f'{unique_table_name}Offensive Fouls Drawn',                     \n",
    "'PGA':f'{unique_table_name}Points Generated by Assists',    \n",
    "'And1':f'{unique_table_name}Number of And1 Attempts After Made Field Goal',    \n",
    "'Blkd':f'{unique_table_name}Field Goal Attempts Blocked',                                                      \n",
    "\"Year\":f\"{unique_table_name}Year\",\n",
    "\"Team Name Refined - accounts for players being traded\":f\"{unique_table_name}Team Name Refined - accounts for players being traded\",\n",
    "\"Standardized/Modernized Team Name\":f\"{unique_table_name}Standardized/Modernized Team Name\"}\n",
    "\n",
    "# Replace names in dataframe\n",
    "player_play_by_play_in_regular_season_df.rename(name_replacement_dict,axis=1,inplace=True)\n",
    "\n",
    "# Get rid of dataframes as desired\n",
    "list_of_columns_to_remove = ['Rank']\n",
    "\n",
    "for item in list_of_columns_to_remove:\n",
    "    player_play_by_play_in_regular_season_df = player_play_by_play_in_regular_season_df.drop(item,axis=1)\n",
    "\n",
    "# Check column names to make sure none desired to get rid of\n",
    "for column in player_play_by_play_in_regular_season_df.columns:\n",
    "    \n",
    "    print(f\"\"\"\n",
    "    {column}\"\"\")\n",
    "\n",
    "player_play_by_play_in_regular_season_df.head(1)"
   ]
  },
  {
   "cell_type": "markdown",
   "id": "6ec24419",
   "metadata": {},
   "source": [
    "## PLAYOFFS PLAYER STATS"
   ]
  },
  {
   "cell_type": "markdown",
   "id": "97cae7d5",
   "metadata": {},
   "source": [
    "### Playoffs Basic Player Stats"
   ]
  },
  {
   "cell_type": "code",
   "execution_count": 199,
   "id": "8afc46ea",
   "metadata": {
    "scrolled": false
   },
   "outputs": [
    {
     "name": "stdout",
     "output_type": "stream",
     "text": [
      "\n",
      "    Player\n",
      "\n",
      "    Position\n",
      "\n",
      "    Age\n",
      "\n",
      "    Team\n",
      "\n",
      "    Games Played\n",
      "\n",
      "    Games Started\n",
      "\n",
      "    Minutes Played Per Game\n",
      "\n",
      "    Field Goals Made Per Game\n",
      "\n",
      "    Field Goals Attempted Per Game\n",
      "\n",
      "    Average Field Goal % For Season\n",
      "\n",
      "    3 Pointers Made Per Game\n",
      "\n",
      "    3 Point Attempts Per Game\n",
      "\n",
      "    Average 3 Point % For Season\n",
      "\n",
      "    2 Pointers Made Per Game\n",
      "\n",
      "    2 Point Attempts Per Game\n",
      "\n",
      "    Average 2 Point % For Season\n",
      "\n",
      "    Average Effective Field Goal % For Season\n",
      "\n",
      "    Free Throws Made Per Game\n",
      "\n",
      "    Free Throw Attempts Per Game\n",
      "\n",
      "    Average Free Throw % For Season\n",
      "\n",
      "    Offense Rebounds Per Game\n",
      "\n",
      "    Defense Rebounds Per Game\n",
      "\n",
      "    Total Rebounds Per Game\n",
      "\n",
      "    Assists Per Game\n",
      "\n",
      "    Steals Per Game\n",
      "\n",
      "    Blocks Per Game\n",
      "\n",
      "    Turnovers Per Game\n",
      "\n",
      "    Personal Fouls Per Game\n",
      "\n",
      "    Points Per Game\n",
      "\n",
      "    player_id\n",
      "\n",
      "    Year\n"
     ]
    },
    {
     "data": {
      "text/html": [
       "<div>\n",
       "<style scoped>\n",
       "    .dataframe tbody tr th:only-of-type {\n",
       "        vertical-align: middle;\n",
       "    }\n",
       "\n",
       "    .dataframe tbody tr th {\n",
       "        vertical-align: top;\n",
       "    }\n",
       "\n",
       "    .dataframe thead th {\n",
       "        text-align: right;\n",
       "    }\n",
       "</style>\n",
       "<table border=\"1\" class=\"dataframe\">\n",
       "  <thead>\n",
       "    <tr style=\"text-align: right;\">\n",
       "      <th></th>\n",
       "      <th>Player</th>\n",
       "      <th>Position</th>\n",
       "      <th>Age</th>\n",
       "      <th>Team</th>\n",
       "      <th>Games Played</th>\n",
       "      <th>Games Started</th>\n",
       "      <th>Minutes Played Per Game</th>\n",
       "      <th>Field Goals Made Per Game</th>\n",
       "      <th>Field Goals Attempted Per Game</th>\n",
       "      <th>Average Field Goal % For Season</th>\n",
       "      <th>3 Pointers Made Per Game</th>\n",
       "      <th>3 Point Attempts Per Game</th>\n",
       "      <th>Average 3 Point % For Season</th>\n",
       "      <th>2 Pointers Made Per Game</th>\n",
       "      <th>2 Point Attempts Per Game</th>\n",
       "      <th>Average 2 Point % For Season</th>\n",
       "      <th>Average Effective Field Goal % For Season</th>\n",
       "      <th>Free Throws Made Per Game</th>\n",
       "      <th>Free Throw Attempts Per Game</th>\n",
       "      <th>Average Free Throw % For Season</th>\n",
       "      <th>Offense Rebounds Per Game</th>\n",
       "      <th>Defense Rebounds Per Game</th>\n",
       "      <th>Total Rebounds Per Game</th>\n",
       "      <th>Assists Per Game</th>\n",
       "      <th>Steals Per Game</th>\n",
       "      <th>Blocks Per Game</th>\n",
       "      <th>Turnovers Per Game</th>\n",
       "      <th>Personal Fouls Per Game</th>\n",
       "      <th>Points Per Game</th>\n",
       "      <th>player_id</th>\n",
       "      <th>Year</th>\n",
       "    </tr>\n",
       "  </thead>\n",
       "  <tbody>\n",
       "    <tr>\n",
       "      <th>0</th>\n",
       "      <td>Ivica Zubac</td>\n",
       "      <td>C</td>\n",
       "      <td>25</td>\n",
       "      <td>LAC</td>\n",
       "      <td>5</td>\n",
       "      <td>5</td>\n",
       "      <td>26.0000</td>\n",
       "      <td>3.4000</td>\n",
       "      <td>6.0000</td>\n",
       "      <td>0.5670</td>\n",
       "      <td>0.0000</td>\n",
       "      <td>0.0000</td>\n",
       "      <td>NaN</td>\n",
       "      <td>3.4000</td>\n",
       "      <td>6.0000</td>\n",
       "      <td>0.5670</td>\n",
       "      <td>0.5670</td>\n",
       "      <td>2.4000</td>\n",
       "      <td>3.2000</td>\n",
       "      <td>0.7500</td>\n",
       "      <td>3.2000</td>\n",
       "      <td>6.4000</td>\n",
       "      <td>9.6000</td>\n",
       "      <td>0.6000</td>\n",
       "      <td>0.6000</td>\n",
       "      <td>0.2000</td>\n",
       "      <td>2.2000</td>\n",
       "      <td>1.6000</td>\n",
       "      <td>9.2000</td>\n",
       "      <td>zubaciv01</td>\n",
       "      <td>2023</td>\n",
       "    </tr>\n",
       "  </tbody>\n",
       "</table>\n",
       "</div>"
      ],
      "text/plain": [
       "        Player Position  Age Team  Games Played  Games Started  \\\n",
       "0  Ivica Zubac        C   25  LAC             5              5   \n",
       "\n",
       "   Minutes Played Per Game  Field Goals Made Per Game  \\\n",
       "0                  26.0000                     3.4000   \n",
       "\n",
       "   Field Goals Attempted Per Game  Average Field Goal % For Season  \\\n",
       "0                          6.0000                           0.5670   \n",
       "\n",
       "   3 Pointers Made Per Game  3 Point Attempts Per Game  \\\n",
       "0                    0.0000                     0.0000   \n",
       "\n",
       "   Average 3 Point % For Season  2 Pointers Made Per Game  \\\n",
       "0                           NaN                    3.4000   \n",
       "\n",
       "   2 Point Attempts Per Game  Average 2 Point % For Season  \\\n",
       "0                     6.0000                        0.5670   \n",
       "\n",
       "   Average Effective Field Goal % For Season  Free Throws Made Per Game  \\\n",
       "0                                     0.5670                     2.4000   \n",
       "\n",
       "   Free Throw Attempts Per Game  Average Free Throw % For Season  \\\n",
       "0                        3.2000                           0.7500   \n",
       "\n",
       "   Offense Rebounds Per Game  Defense Rebounds Per Game  \\\n",
       "0                     3.2000                     6.4000   \n",
       "\n",
       "   Total Rebounds Per Game  Assists Per Game  Steals Per Game  \\\n",
       "0                   9.6000            0.6000           0.6000   \n",
       "\n",
       "   Blocks Per Game  Turnovers Per Game  Personal Fouls Per Game  \\\n",
       "0           0.2000              2.2000                   1.6000   \n",
       "\n",
       "   Points Per Game  player_id  Year  \n",
       "0           9.2000  zubaciv01  2023  "
      ]
     },
     "execution_count": 199,
     "metadata": {},
     "output_type": "execute_result"
    }
   ],
   "source": [
    "# Define unique name for dataframe to insert into f-string\n",
    "unique_table_name = \"\"\n",
    "\n",
    "# Define name replacement dict\n",
    "name_replacement_dict = {\"Rk\":f\"{unique_table_name}Rank\",\n",
    "\"Player\":f\"{unique_table_name}Player\",\n",
    "\"Pos\":f\"{unique_table_name}Position\",\n",
    "\"Age\":f\"{unique_table_name}Age\",\n",
    "\"Team\":f\"{unique_table_name}Team\",\n",
    "\"G\":f\"{unique_table_name}Games Played\",\n",
    "\"GS\":f\"{unique_table_name}Games Started\",\n",
    "\"MP\":f\"{unique_table_name}Minutes Played Per Game\",\n",
    "\"FG\":f\"{unique_table_name}Field Goals Made Per Game\",\n",
    "\"FGA\":f\"{unique_table_name}Field Goals Attempted Per Game\",\n",
    "\"FG%\":f\"{unique_table_name}Average Field Goal % For Season\",\n",
    "\"3P\":f\"{unique_table_name}3 Pointers Made Per Game\",\n",
    "\"3PA\":f\"{unique_table_name}3 Point Attempts Per Game\",\n",
    "\"3P%\":f\"{unique_table_name}Average 3 Point % For Season\",\n",
    "\"2P\":f\"{unique_table_name}2 Pointers Made Per Game\",\n",
    "\"2PA\":f\"{unique_table_name}2 Point Attempts Per Game\",\n",
    "\"2P%\":f\"{unique_table_name}Average 2 Point % For Season\",\n",
    "\"eFG%\":f\"{unique_table_name}Average Effective Field Goal % For Season\",\n",
    "\"FT\":f\"{unique_table_name}Free Throws Made Per Game\",\n",
    "\"FTA\":f\"{unique_table_name}Free Throw Attempts Per Game\",\n",
    "\"FT%\":f\"{unique_table_name}Average Free Throw % For Season\",\n",
    "\"ORB\":f\"{unique_table_name}Offense Rebounds Per Game\",\n",
    "\"DRB\":f\"{unique_table_name}Defense Rebounds Per Game\",\n",
    "\"TRB\":f\"{unique_table_name}Total Rebounds Per Game\",\n",
    "\"AST\":f\"{unique_table_name}Assists Per Game\",\n",
    "\"STL\":f\"{unique_table_name}Steals Per Game\",\n",
    "\"BLK\":f\"{unique_table_name}Blocks Per Game\",\n",
    "\"TOV\":f\"{unique_table_name}Turnovers Per Game\",\n",
    "\"PF\":f\"{unique_table_name}Personal Fouls Per Game\",\n",
    "\"PTS\":f\"{unique_table_name}Points Per Game\",\n",
    "\"Year\":f\"{unique_table_name}Year\",\n",
    "\"Team Name Refined - accounts for players being traded\":f\"{unique_table_name}Team Name Refined - accounts for players being traded\",\n",
    "\"Standardized/Modernized Team Name\":f\"{unique_table_name}Standardized/Modernized Team Name\"}\n",
    "\n",
    "# Replace names in dataframe\n",
    "player_basic_playoff_stats_df.rename(name_replacement_dict,axis=1,inplace=True)\n",
    "\n",
    "# Get rid of dataframes as desired\n",
    "list_of_columns_to_remove = ['Rank']\n",
    "\n",
    "for item in list_of_columns_to_remove:\n",
    "    player_basic_playoff_stats_df = player_basic_playoff_stats_df.drop(item,axis=1)\n",
    "\n",
    "# Check column names to make sure none desired to get rid of\n",
    "for column in player_basic_playoff_stats_df.columns:\n",
    "    \n",
    "    print(f\"\"\"\n",
    "    {column}\"\"\")\n",
    "\n",
    "player_basic_playoff_stats_df.head(1)\n"
   ]
  },
  {
   "cell_type": "markdown",
   "id": "9974a6d9",
   "metadata": {},
   "source": [
    "### Playoffs Advanced Player Stats"
   ]
  },
  {
   "cell_type": "code",
   "execution_count": 200,
   "id": "b52addd1",
   "metadata": {
    "scrolled": true
   },
   "outputs": [
    {
     "name": "stdout",
     "output_type": "stream",
     "text": [
      "\n",
      "    Player\n",
      "\n",
      "    Position\n",
      "\n",
      "    Age\n",
      "\n",
      "    Team\n",
      "\n",
      "    Games Played\n",
      "\n",
      "    Total Minutes Played During Season\n",
      "\n",
      "    Player Efficiency\n",
      "\n",
      "    True Shooting % For Season\n",
      "\n",
      "    3 Point Attempt Rate\n",
      "\n",
      "    Free Throw Rate for Season\n",
      "\n",
      "    Offensive Rebounding %\n",
      "\n",
      "    Defensive Rebound Percentage\n",
      "\n",
      "    Total Rebounding %\n",
      "\n",
      "    Assist % For Season\n",
      "\n",
      "    Steal Percentage for Season\n",
      "\n",
      "    Block %\n",
      "\n",
      "    Turnover % for Season\n",
      "\n",
      "    Usage % For Season\n",
      "\n",
      "    Total Offensive Win Shares For Season\n",
      "\n",
      "    Total Defensive Win Shares For Season\n",
      "\n",
      "    Win Shares\n",
      "\n",
      "    Win Shares Per 48 Minutes Played For the Season\n",
      "\n",
      "    Offensive Box Plus/Minus For Season\n",
      "\n",
      "    Defensive Box Plus/Minus\n",
      "\n",
      "    Box Plus/Minus For Season\n",
      "\n",
      "    Value Above Replacement Player\n",
      "\n",
      "    player_id\n",
      "\n",
      "    Year\n"
     ]
    },
    {
     "data": {
      "text/html": [
       "<div>\n",
       "<style scoped>\n",
       "    .dataframe tbody tr th:only-of-type {\n",
       "        vertical-align: middle;\n",
       "    }\n",
       "\n",
       "    .dataframe tbody tr th {\n",
       "        vertical-align: top;\n",
       "    }\n",
       "\n",
       "    .dataframe thead th {\n",
       "        text-align: right;\n",
       "    }\n",
       "</style>\n",
       "<table border=\"1\" class=\"dataframe\">\n",
       "  <thead>\n",
       "    <tr style=\"text-align: right;\">\n",
       "      <th></th>\n",
       "      <th>Player</th>\n",
       "      <th>Position</th>\n",
       "      <th>Age</th>\n",
       "      <th>Team</th>\n",
       "      <th>Games Played</th>\n",
       "      <th>Total Minutes Played During Season</th>\n",
       "      <th>Player Efficiency</th>\n",
       "      <th>True Shooting % For Season</th>\n",
       "      <th>3 Point Attempt Rate</th>\n",
       "      <th>Free Throw Rate for Season</th>\n",
       "      <th>Offensive Rebounding %</th>\n",
       "      <th>Defensive Rebound Percentage</th>\n",
       "      <th>Total Rebounding %</th>\n",
       "      <th>Assist % For Season</th>\n",
       "      <th>Steal Percentage for Season</th>\n",
       "      <th>Block %</th>\n",
       "      <th>Turnover % for Season</th>\n",
       "      <th>Usage % For Season</th>\n",
       "      <th>Total Offensive Win Shares For Season</th>\n",
       "      <th>Total Defensive Win Shares For Season</th>\n",
       "      <th>Win Shares</th>\n",
       "      <th>Win Shares Per 48 Minutes Played For the Season</th>\n",
       "      <th>Offensive Box Plus/Minus For Season</th>\n",
       "      <th>Defensive Box Plus/Minus</th>\n",
       "      <th>Box Plus/Minus For Season</th>\n",
       "      <th>Value Above Replacement Player</th>\n",
       "      <th>player_id</th>\n",
       "      <th>Year</th>\n",
       "    </tr>\n",
       "  </thead>\n",
       "  <tbody>\n",
       "    <tr>\n",
       "      <th>0</th>\n",
       "      <td>Ivica Zubac</td>\n",
       "      <td>C</td>\n",
       "      <td>25</td>\n",
       "      <td>LAC</td>\n",
       "      <td>5</td>\n",
       "      <td>130</td>\n",
       "      <td>14.1000</td>\n",
       "      <td>0.6210</td>\n",
       "      <td>0.0000</td>\n",
       "      <td>0.5330</td>\n",
       "      <td>13.4000</td>\n",
       "      <td>30.5000</td>\n",
       "      <td>21.4000</td>\n",
       "      <td>3.2000</td>\n",
       "      <td>1.1000</td>\n",
       "      <td>0.6000</td>\n",
       "      <td>22.9000</td>\n",
       "      <td>15.5000</td>\n",
       "      <td>0.1000</td>\n",
       "      <td>0.0000</td>\n",
       "      <td>0.1000</td>\n",
       "      <td>0.0410</td>\n",
       "      <td>-1.2000</td>\n",
       "      <td>-1.0000</td>\n",
       "      <td>-2.3000</td>\n",
       "      <td>0.0000</td>\n",
       "      <td>zubaciv01</td>\n",
       "      <td>2023</td>\n",
       "    </tr>\n",
       "  </tbody>\n",
       "</table>\n",
       "</div>"
      ],
      "text/plain": [
       "        Player Position  Age Team  Games Played  \\\n",
       "0  Ivica Zubac        C   25  LAC             5   \n",
       "\n",
       "   Total Minutes Played During Season  Player Efficiency  \\\n",
       "0                                 130            14.1000   \n",
       "\n",
       "   True Shooting % For Season  3 Point Attempt Rate  \\\n",
       "0                      0.6210                0.0000   \n",
       "\n",
       "   Free Throw Rate for Season  Offensive Rebounding %  \\\n",
       "0                      0.5330                 13.4000   \n",
       "\n",
       "   Defensive Rebound Percentage  Total Rebounding %  Assist % For Season  \\\n",
       "0                       30.5000             21.4000               3.2000   \n",
       "\n",
       "   Steal Percentage for Season  Block %  Turnover % for Season  \\\n",
       "0                       1.1000   0.6000                22.9000   \n",
       "\n",
       "   Usage % For Season  Total Offensive Win Shares For Season  \\\n",
       "0             15.5000                                 0.1000   \n",
       "\n",
       "   Total Defensive Win Shares For Season  Win Shares  \\\n",
       "0                                 0.0000      0.1000   \n",
       "\n",
       "   Win Shares Per 48 Minutes Played For the Season  \\\n",
       "0                                           0.0410   \n",
       "\n",
       "   Offensive Box Plus/Minus For Season  Defensive Box Plus/Minus  \\\n",
       "0                              -1.2000                   -1.0000   \n",
       "\n",
       "   Box Plus/Minus For Season  Value Above Replacement Player  player_id  Year  \n",
       "0                    -2.3000                          0.0000  zubaciv01  2023  "
      ]
     },
     "execution_count": 200,
     "metadata": {},
     "output_type": "execute_result"
    }
   ],
   "source": [
    "# Define unique name for dataframe to insert into f-string\n",
    "unique_table_name = \"\"\n",
    "\n",
    "# Define name replacement dict\n",
    "name_replacement_dict = {\"Rk\":f\"{unique_table_name}Rank\",\n",
    "\"Player\":f\"{unique_table_name}Player\",\n",
    "\"Pos\":f\"{unique_table_name}Position\",\n",
    "\"Age\":f\"{unique_table_name}Age\",\n",
    "\"Team\":f\"{unique_table_name}Team\",\n",
    "\"G\":f\"{unique_table_name}Games Played\",\n",
    "\"GS\":f\"{unique_table_name}Games Started\",\n",
    "'PER':f'{unique_table_name}Player Efficiency',\n",
    "'DBPM':f'{unique_table_name}Defensive Box Plus/Minus',\n",
    "'VORP':f'{unique_table_name}Value Above Replacement Player',\n",
    "'TRB%':f'{unique_table_name}Total Rebounding %',\n",
    "'ORB%':f'{unique_table_name}Offensive Rebounding %',\n",
    "'WS':f'{unique_table_name}Win Shares',\n",
    "'BLK%':f'{unique_table_name}Block %',\n",
    "'DWS':f'{unique_table_name}Total Defensive Win Shares For Season',\n",
    "'TOV%':f'{unique_table_name}Turnover % for Season',\n",
    "'STL%':f'{unique_table_name}Steal Percentage for Season',\n",
    "'FTr':f'{unique_table_name}Free Throw Rate for Season',\n",
    "'DRB%':f'{unique_table_name}Defensive Rebound Percentage',\n",
    "'3PAr':f'{unique_table_name}3 Point Attempt Rate',\n",
    "'AST%':f'{unique_table_name}Assist % For Season',\n",
    "'OBPM':f'{unique_table_name}Offensive Box Plus/Minus For Season',\n",
    "'BPM':f'{unique_table_name}Box Plus/Minus For Season',\n",
    "'WS/48':f'{unique_table_name}Win Shares Per 48 Minutes Played For the Season',\n",
    "'USG%':f'{unique_table_name}Usage % For Season',\n",
    "'OWS':f'{unique_table_name}Total Offensive Win Shares For Season',\n",
    "'TS%':f'{unique_table_name}True Shooting % For Season',\n",
    "'MP':f'{unique_table_name}Total Minutes Played During Season',\n",
    "\"Year\":f\"{unique_table_name}Year\",\n",
    "\"Team Name Refined - accounts for players being traded\":f\"{unique_table_name}Team Name Refined - accounts for players being traded\",\n",
    "\"Standardized/Modernized Team Name\":f\"{unique_table_name}Standardized/Modernized Team Name\",}\n",
    "\n",
    "# Replace names in dataframe\n",
    "player_advanced_stats_in_playoffs_df.rename(name_replacement_dict,axis=1,inplace=True)\n",
    "\n",
    "# Get rid of dataframes as desired\n",
    "list_of_columns_to_remove = ['Unnamed: 19','Unnamed: 24','Rank']\n",
    "\n",
    "for item in list_of_columns_to_remove:\n",
    "    player_advanced_stats_in_playoffs_df = player_advanced_stats_in_playoffs_df.drop(item,axis=1)\n",
    "\n",
    "# Check column names to make sure none desired to get rid of\n",
    "for column in player_advanced_stats_in_playoffs_df.columns:\n",
    "    \n",
    "    print(f\"\"\"\n",
    "    {column}\"\"\")\n",
    "\n",
    "player_advanced_stats_in_playoffs_df.head(1)"
   ]
  },
  {
   "cell_type": "markdown",
   "id": "33375513",
   "metadata": {},
   "source": [
    "### Playoffs Shooting Player Stats"
   ]
  },
  {
   "cell_type": "code",
   "execution_count": 201,
   "id": "32a88a3e",
   "metadata": {
    "scrolled": true
   },
   "outputs": [
    {
     "name": "stdout",
     "output_type": "stream",
     "text": [
      "\n",
      "    Player\n",
      "\n",
      "    Position\n",
      "\n",
      "    Age\n",
      "\n",
      "    Team\n",
      "\n",
      "    Games Played\n",
      "\n",
      "    Total Minutes Played During Season\n",
      "\n",
      "    Field Goal %\n",
      "\n",
      "    Average distance of shot\n",
      "\n",
      "    2 Pointer Attempt Rate For Season as % of total field goals attempted\n",
      "\n",
      "    % of FGA between 0-3 ft.\n",
      "\n",
      "    % of FGA between 3-10 ft.\n",
      "\n",
      "    % of FGA between 10-16 ft.\n",
      "\n",
      "    % of FGA between 16-3P ft.\n",
      "\n",
      "    3 Pointer Attempt Rate For Season as % of total field goals attempted\n",
      "\n",
      "    FG % of 2 Point Attempts\n",
      "\n",
      "    FG % of Attempts between 0-3 ft.\n",
      "\n",
      "    FG % of Attempts between 3-10 ft.\n",
      "\n",
      "    FG % of Attempts between 10-16 ft.\n",
      "\n",
      "    FG % of Attempts between 16-3P ft.\n",
      "\n",
      "    FG % of 3 Point Attempts\n",
      "\n",
      "    % of Made 2 Point Fields Goals That Were Assisted\n",
      "\n",
      "    % of Made 3 Point Fields Goals That Were Assisted\n",
      "\n",
      "    % of Field Goal attempts that are dunk attempts\n",
      "\n",
      "    Number of made dunk attempts\n",
      "\n",
      "    % of 3 Point Attempts that come from the corner\n",
      "\n",
      "    % of 3 Point corner attempts that are made\n",
      "\n",
      "    Heave Attempts\n",
      "\n",
      "    Number of made heaves\n",
      "\n",
      "    player_id\n",
      "\n",
      "    Year\n"
     ]
    },
    {
     "data": {
      "text/html": [
       "<div>\n",
       "<style scoped>\n",
       "    .dataframe tbody tr th:only-of-type {\n",
       "        vertical-align: middle;\n",
       "    }\n",
       "\n",
       "    .dataframe tbody tr th {\n",
       "        vertical-align: top;\n",
       "    }\n",
       "\n",
       "    .dataframe thead th {\n",
       "        text-align: right;\n",
       "    }\n",
       "</style>\n",
       "<table border=\"1\" class=\"dataframe\">\n",
       "  <thead>\n",
       "    <tr style=\"text-align: right;\">\n",
       "      <th></th>\n",
       "      <th>Player</th>\n",
       "      <th>Position</th>\n",
       "      <th>Age</th>\n",
       "      <th>Team</th>\n",
       "      <th>Games Played</th>\n",
       "      <th>Total Minutes Played During Season</th>\n",
       "      <th>Field Goal %</th>\n",
       "      <th>Average distance of shot</th>\n",
       "      <th>2 Pointer Attempt Rate For Season as % of total field goals attempted</th>\n",
       "      <th>% of FGA between 0-3 ft.</th>\n",
       "      <th>% of FGA between 3-10 ft.</th>\n",
       "      <th>% of FGA between 10-16 ft.</th>\n",
       "      <th>% of FGA between 16-3P ft.</th>\n",
       "      <th>3 Pointer Attempt Rate For Season as % of total field goals attempted</th>\n",
       "      <th>FG % of 2 Point Attempts</th>\n",
       "      <th>FG % of Attempts between 0-3 ft.</th>\n",
       "      <th>FG % of Attempts between 3-10 ft.</th>\n",
       "      <th>FG % of Attempts between 10-16 ft.</th>\n",
       "      <th>FG % of Attempts between 16-3P ft.</th>\n",
       "      <th>FG % of 3 Point Attempts</th>\n",
       "      <th>% of Made 2 Point Fields Goals That Were Assisted</th>\n",
       "      <th>% of Made 3 Point Fields Goals That Were Assisted</th>\n",
       "      <th>% of Field Goal attempts that are dunk attempts</th>\n",
       "      <th>Number of made dunk attempts</th>\n",
       "      <th>% of 3 Point Attempts that come from the corner</th>\n",
       "      <th>% of 3 Point corner attempts that are made</th>\n",
       "      <th>Heave Attempts</th>\n",
       "      <th>Number of made heaves</th>\n",
       "      <th>player_id</th>\n",
       "      <th>Year</th>\n",
       "    </tr>\n",
       "  </thead>\n",
       "  <tbody>\n",
       "    <tr>\n",
       "      <th>0</th>\n",
       "      <td>Ivica Zubac</td>\n",
       "      <td>C</td>\n",
       "      <td>25</td>\n",
       "      <td>LAC</td>\n",
       "      <td>5</td>\n",
       "      <td>130</td>\n",
       "      <td>0.5670</td>\n",
       "      <td>3.7000</td>\n",
       "      <td>1.0000</td>\n",
       "      <td>0.4670</td>\n",
       "      <td>0.5000</td>\n",
       "      <td>0.0330</td>\n",
       "      <td>0.0000</td>\n",
       "      <td>0.0000</td>\n",
       "      <td>0.5670</td>\n",
       "      <td>0.5710</td>\n",
       "      <td>0.6000</td>\n",
       "      <td>0.0000</td>\n",
       "      <td>NaN</td>\n",
       "      <td>NaN</td>\n",
       "      <td>0.7060</td>\n",
       "      <td>NaN</td>\n",
       "      <td>0.2330</td>\n",
       "      <td>6</td>\n",
       "      <td>NaN</td>\n",
       "      <td>NaN</td>\n",
       "      <td>0</td>\n",
       "      <td>0</td>\n",
       "      <td>zubaciv01</td>\n",
       "      <td>2023</td>\n",
       "    </tr>\n",
       "  </tbody>\n",
       "</table>\n",
       "</div>"
      ],
      "text/plain": [
       "        Player Position  Age Team  Games Played  \\\n",
       "0  Ivica Zubac        C   25  LAC             5   \n",
       "\n",
       "   Total Minutes Played During Season  Field Goal %  Average distance of shot  \\\n",
       "0                                 130        0.5670                    3.7000   \n",
       "\n",
       "   2 Pointer Attempt Rate For Season as % of total field goals attempted  \\\n",
       "0                                             1.0000                       \n",
       "\n",
       "   % of FGA between 0-3 ft.  % of FGA between 3-10 ft.  \\\n",
       "0                    0.4670                     0.5000   \n",
       "\n",
       "   % of FGA between 10-16 ft.  % of FGA between 16-3P ft.  \\\n",
       "0                      0.0330                      0.0000   \n",
       "\n",
       "   3 Pointer Attempt Rate For Season as % of total field goals attempted  \\\n",
       "0                                             0.0000                       \n",
       "\n",
       "   FG % of 2 Point Attempts  FG % of Attempts between 0-3 ft.  \\\n",
       "0                    0.5670                            0.5710   \n",
       "\n",
       "   FG % of Attempts between 3-10 ft.  FG % of Attempts between 10-16 ft.  \\\n",
       "0                             0.6000                              0.0000   \n",
       "\n",
       "   FG % of Attempts between 16-3P ft.  FG % of 3 Point Attempts  \\\n",
       "0                                 NaN                       NaN   \n",
       "\n",
       "   % of Made 2 Point Fields Goals That Were Assisted  \\\n",
       "0                                             0.7060   \n",
       "\n",
       "   % of Made 3 Point Fields Goals That Were Assisted  \\\n",
       "0                                                NaN   \n",
       "\n",
       "   % of Field Goal attempts that are dunk attempts  \\\n",
       "0                                           0.2330   \n",
       "\n",
       "   Number of made dunk attempts  \\\n",
       "0                             6   \n",
       "\n",
       "   % of 3 Point Attempts that come from the corner  \\\n",
       "0                                              NaN   \n",
       "\n",
       "   % of 3 Point corner attempts that are made  Heave Attempts  \\\n",
       "0                                         NaN               0   \n",
       "\n",
       "   Number of made heaves  player_id  Year  \n",
       "0                      0  zubaciv01  2023  "
      ]
     },
     "execution_count": 201,
     "metadata": {},
     "output_type": "execute_result"
    }
   ],
   "source": [
    "# Define unique name for dataframe to insert into f-string\n",
    "unique_table_name = \"\"\n",
    "\n",
    "# Define name replacement dict\n",
    "name_replacement_dict = {\"Rk\":f\"{unique_table_name}Rank\",\n",
    "\"Player\":f\"{unique_table_name}Player\",\n",
    "\"Pos\":f\"{unique_table_name}Position\",\n",
    "\"Age\":f\"{unique_table_name}Age\",\n",
    "\"Team\":f\"{unique_table_name}Team\",\n",
    "\"G\":f\"{unique_table_name}Games Played\",\n",
    "'MP':f'{unique_table_name}Total Minutes Played During Season',\n",
    "'FG%':f'{unique_table_name}Field Goal %',\n",
    "'Dist.':f'{unique_table_name}Average distance of shot',                         \n",
    "'2P':f'{unique_table_name}2 Pointer Attempt Rate For Season as % of total field goals attempted',\n",
    "'0-3':f'{unique_table_name}% of FGA between 0-3 ft.',\n",
    "'3-10':f'{unique_table_name}% of FGA between 3-10 ft.',                         \n",
    "'10-16':f'{unique_table_name}% of FGA between 10-16 ft.',\n",
    "'16-3P':f'{unique_table_name}% of FGA between 16-3P ft.',\n",
    "'3P':f'{unique_table_name}3 Pointer Attempt Rate For Season as % of total field goals attempted',\n",
    "'2P.1':f'{unique_table_name}FG % of 2 Point Attempts',\n",
    "'0-3.1':f'{unique_table_name}FG % of Attempts between 0-3 ft.',\n",
    "'3-10.1':f'{unique_table_name}FG % of Attempts between 3-10 ft.',                         \n",
    "'10-16.1':f'{unique_table_name}FG % of Attempts between 10-16 ft.',\n",
    "'16-3P.1':f'{unique_table_name}FG % of Attempts between 16-3P ft.',\n",
    "'3P.1':f'{unique_table_name}FG % of 3 Point Attempts',                       \n",
    "'2P.2':f'{unique_table_name}% of Made 2 Point Fields Goals That Were Assisted',                         \n",
    "'3P.2':f'{unique_table_name}% of Made 3 Point Fields Goals That Were Assisted',\n",
    "'%FGA':f'{unique_table_name}% of Field Goal attempts that are dunk attempts',\n",
    "'#':f'{unique_table_name}Number of made dunk attempts',\n",
    "'%3PA':f'{unique_table_name}% of 3 Point Attempts that come from the corner',\n",
    "'3P%':f'{unique_table_name}% of 3 Point corner attempts that are made',\n",
    "'Att.':f'{unique_table_name}Heave Attempts',\n",
    "'#.1':f'{unique_table_name}Number of made heaves',                     \n",
    "\"Year\":f\"{unique_table_name}Year\",\n",
    "\"Team Name Refined - accounts for players being traded\":f\"{unique_table_name}Team Name Refined - accounts for players being traded\",\n",
    "\"Standardized/Modernized Team Name\":f\"{unique_table_name}Standardized/Modernized Team Name\"}\n",
    "\n",
    "# Replace names in dataframe\n",
    "player_shooting_stats_in_playoffs_df.rename(name_replacement_dict,axis=1,inplace=True)\n",
    "\n",
    "# Get rid of dataframes as desired\n",
    "list_of_columns_to_remove = ['Unnamed: 9','Unnamed: 16','Unnamed: 23','Unnamed: 26','Unnamed: 29','Unnamed: 32', 'Rank']\n",
    "\n",
    "for item in list_of_columns_to_remove:\n",
    "    player_shooting_stats_in_playoffs_df = player_shooting_stats_in_playoffs_df.drop(item,axis=1)\n",
    "\n",
    "# Check column names to make sure none desired to get rid of\n",
    "for column in player_shooting_stats_in_playoffs_df.columns:\n",
    "    \n",
    "    print(f\"\"\"\n",
    "    {column}\"\"\")\n",
    "\n",
    "player_shooting_stats_in_playoffs_df.head(1)"
   ]
  },
  {
   "cell_type": "markdown",
   "id": "3e6e3d65",
   "metadata": {},
   "source": [
    "### Playoffs Play by Play Player Stats"
   ]
  },
  {
   "cell_type": "code",
   "execution_count": 202,
   "id": "dcfbef63",
   "metadata": {
    "scrolled": true
   },
   "outputs": [
    {
     "name": "stdout",
     "output_type": "stream",
     "text": [
      "\n",
      "    Player\n",
      "\n",
      "    Position\n",
      "\n",
      "    Age\n",
      "\n",
      "    Team\n",
      "\n",
      "    Games Played\n",
      "\n",
      "    Total Minutes Played During Season\n",
      "\n",
      "    Percentage of Total Minutes Played at Point Guard\n",
      "\n",
      "    Percentage of Total Minutes Played at Shooting Guard\n",
      "\n",
      "    Percentage of Total Minutes Played at Small Forward\n",
      "\n",
      "    Percentage of Total Minutes Played at Power Forward\n",
      "\n",
      "    Percentage of Total Minutes Played at Center\n",
      "\n",
      "    Plus/Minus Per 100 Possessions (On Court)\n",
      "\n",
      "    Plus/Minus Net Per 100 Possessions (On/off)\n",
      "\n",
      "    Total Turnovers by Bad Pass\n",
      "\n",
      "    Total Lost Ball Turnovers\n",
      "\n",
      "    Shooting Fouls Committed\n",
      "\n",
      "    Offensive Fouls Committed\n",
      "\n",
      "    Shooting Fouls Drawn\n",
      "\n",
      "    Offensive Fouls Drawn\n",
      "\n",
      "    Points Generated by Assists\n",
      "\n",
      "    Number of And1 Attempts After Made Field Goal\n",
      "\n",
      "    Field Goal Attempts Blocked\n",
      "\n",
      "    player_id\n",
      "\n",
      "    Year\n"
     ]
    },
    {
     "data": {
      "text/html": [
       "<div>\n",
       "<style scoped>\n",
       "    .dataframe tbody tr th:only-of-type {\n",
       "        vertical-align: middle;\n",
       "    }\n",
       "\n",
       "    .dataframe tbody tr th {\n",
       "        vertical-align: top;\n",
       "    }\n",
       "\n",
       "    .dataframe thead th {\n",
       "        text-align: right;\n",
       "    }\n",
       "</style>\n",
       "<table border=\"1\" class=\"dataframe\">\n",
       "  <thead>\n",
       "    <tr style=\"text-align: right;\">\n",
       "      <th></th>\n",
       "      <th>Player</th>\n",
       "      <th>Position</th>\n",
       "      <th>Age</th>\n",
       "      <th>Team</th>\n",
       "      <th>Games Played</th>\n",
       "      <th>Total Minutes Played During Season</th>\n",
       "      <th>Percentage of Total Minutes Played at Point Guard</th>\n",
       "      <th>Percentage of Total Minutes Played at Shooting Guard</th>\n",
       "      <th>Percentage of Total Minutes Played at Small Forward</th>\n",
       "      <th>Percentage of Total Minutes Played at Power Forward</th>\n",
       "      <th>Percentage of Total Minutes Played at Center</th>\n",
       "      <th>Plus/Minus Per 100 Possessions (On Court)</th>\n",
       "      <th>Plus/Minus Net Per 100 Possessions (On/off)</th>\n",
       "      <th>Total Turnovers by Bad Pass</th>\n",
       "      <th>Total Lost Ball Turnovers</th>\n",
       "      <th>Shooting Fouls Committed</th>\n",
       "      <th>Offensive Fouls Committed</th>\n",
       "      <th>Shooting Fouls Drawn</th>\n",
       "      <th>Offensive Fouls Drawn</th>\n",
       "      <th>Points Generated by Assists</th>\n",
       "      <th>Number of And1 Attempts After Made Field Goal</th>\n",
       "      <th>Field Goal Attempts Blocked</th>\n",
       "      <th>player_id</th>\n",
       "      <th>Year</th>\n",
       "    </tr>\n",
       "  </thead>\n",
       "  <tbody>\n",
       "    <tr>\n",
       "      <th>0</th>\n",
       "      <td>Ivica Zubac</td>\n",
       "      <td>C</td>\n",
       "      <td>25</td>\n",
       "      <td>LAC</td>\n",
       "      <td>5</td>\n",
       "      <td>130</td>\n",
       "      <td>NaN</td>\n",
       "      <td>NaN</td>\n",
       "      <td>NaN</td>\n",
       "      <td>NaN</td>\n",
       "      <td>100%</td>\n",
       "      <td>-17.6000</td>\n",
       "      <td>-21.6000</td>\n",
       "      <td>2</td>\n",
       "      <td>6</td>\n",
       "      <td>6</td>\n",
       "      <td>1</td>\n",
       "      <td>7</td>\n",
       "      <td>0.0000</td>\n",
       "      <td>8</td>\n",
       "      <td>0</td>\n",
       "      <td>4</td>\n",
       "      <td>zubaciv01</td>\n",
       "      <td>2023</td>\n",
       "    </tr>\n",
       "  </tbody>\n",
       "</table>\n",
       "</div>"
      ],
      "text/plain": [
       "        Player Position  Age Team  Games Played  \\\n",
       "0  Ivica Zubac        C   25  LAC             5   \n",
       "\n",
       "   Total Minutes Played During Season  \\\n",
       "0                                 130   \n",
       "\n",
       "  Percentage of Total Minutes Played at Point Guard  \\\n",
       "0                                               NaN   \n",
       "\n",
       "  Percentage of Total Minutes Played at Shooting Guard  \\\n",
       "0                                                NaN     \n",
       "\n",
       "  Percentage of Total Minutes Played at Small Forward  \\\n",
       "0                                                NaN    \n",
       "\n",
       "  Percentage of Total Minutes Played at Power Forward  \\\n",
       "0                                                NaN    \n",
       "\n",
       "  Percentage of Total Minutes Played at Center  \\\n",
       "0                                         100%   \n",
       "\n",
       "   Plus/Minus Per 100 Possessions (On Court)  \\\n",
       "0                                   -17.6000   \n",
       "\n",
       "   Plus/Minus Net Per 100 Possessions (On/off)  Total Turnovers by Bad Pass  \\\n",
       "0                                     -21.6000                            2   \n",
       "\n",
       "   Total Lost Ball Turnovers  Shooting Fouls Committed  \\\n",
       "0                          6                         6   \n",
       "\n",
       "   Offensive Fouls Committed  Shooting Fouls Drawn  Offensive Fouls Drawn  \\\n",
       "0                          1                     7                 0.0000   \n",
       "\n",
       "   Points Generated by Assists  Number of And1 Attempts After Made Field Goal  \\\n",
       "0                            8                                              0   \n",
       "\n",
       "   Field Goal Attempts Blocked  player_id  Year  \n",
       "0                            4  zubaciv01  2023  "
      ]
     },
     "execution_count": 202,
     "metadata": {},
     "output_type": "execute_result"
    }
   ],
   "source": [
    "# Define unique name for dataframe to insert into f-string\n",
    "unique_table_name = \"\"\n",
    "\n",
    "# Define name replacement dict\n",
    "name_replacement_dict = {\"Rk\":f\"{unique_table_name}Rank\",\n",
    "\"Player\":f\"{unique_table_name}Player\",\n",
    "\"Pos\":f\"{unique_table_name}Position\",\n",
    "\"Age\":f\"{unique_table_name}Age\",\n",
    "\"Team\":f\"{unique_table_name}Team\",\n",
    "\"G\":f\"{unique_table_name}Games Played\",\n",
    "'MP':f'{unique_table_name}Total Minutes Played During Season',                        \n",
    "'PG%':f'{unique_table_name}Percentage of Total Minutes Played at Point Guard',                         \n",
    "'SG%':f'{unique_table_name}Percentage of Total Minutes Played at Shooting Guard',    \n",
    "'SF%':f'{unique_table_name}Percentage of Total Minutes Played at Small Forward',    \n",
    "'PF%':f'{unique_table_name}Percentage of Total Minutes Played at Power Forward',    \n",
    "'C%':f'{unique_table_name}Percentage of Total Minutes Played at Center',    \n",
    "'OnCourt':f'{unique_table_name}Plus/Minus Per 100 Possessions (On Court)',    \n",
    "'On-Off':f'{unique_table_name}Plus/Minus Net Per 100 Possessions (On/off)',    \n",
    "'BadPass':f'{unique_table_name}Total Turnovers by Bad Pass',    \n",
    "'LostBall':f'{unique_table_name}Total Lost Ball Turnovers',    \n",
    "'Shoot':f'{unique_table_name}Shooting Fouls Committed',    \n",
    "'Off.':f'{unique_table_name}Offensive Fouls Committed', \n",
    "'Shoot.1':f'{unique_table_name}Shooting Fouls Drawn',    \n",
    "'Off..1':f'{unique_table_name}Offensive Fouls Drawn',                     \n",
    "'PGA':f'{unique_table_name}Points Generated by Assists',    \n",
    "'And1':f'{unique_table_name}Number of And1 Attempts After Made Field Goal',    \n",
    "'Blkd':f'{unique_table_name}Field Goal Attempts Blocked',                                                      \n",
    "\"Year\":f\"{unique_table_name}Year\",\n",
    "\"Team Name Refined - accounts for players being traded\":f\"{unique_table_name}Team Name Refined - accounts for players being traded\",\n",
    "\"Standardized/Modernized Team Name\":f\"{unique_table_name}Standardized/Modernized Team Name\"}\n",
    "\n",
    "# Replace names in dataframe\n",
    "player_play_by_play_stats_in_playoffs_df.rename(name_replacement_dict,axis=1,inplace=True)\n",
    "\n",
    "# Get rid of dataframes as desired\n",
    "list_of_columns_to_remove = ['Rank']\n",
    "\n",
    "for item in list_of_columns_to_remove:\n",
    "    player_play_by_play_stats_in_playoffs_df = player_play_by_play_stats_in_playoffs_df.drop(item,axis=1)\n",
    "\n",
    "# Check column names to make sure none desired to get rid of\n",
    "for column in player_play_by_play_stats_in_playoffs_df.columns:\n",
    "    \n",
    "    print(f\"\"\"\n",
    "    {column}\"\"\")\n",
    "\n",
    "player_play_by_play_stats_in_playoffs_df.head(1)"
   ]
  },
  {
   "cell_type": "markdown",
   "id": "c764591a",
   "metadata": {},
   "source": [
    "## Player Awards"
   ]
  },
  {
   "cell_type": "markdown",
   "id": "59191d1e",
   "metadata": {},
   "source": [
    "### MVP Award"
   ]
  },
  {
   "cell_type": "code",
   "execution_count": 203,
   "id": "32cb3783",
   "metadata": {
    "scrolled": true
   },
   "outputs": [
    {
     "name": "stdout",
     "output_type": "stream",
     "text": [
      "\n",
      "    Player\n",
      "\n",
      "    Age\n",
      "\n",
      "    Team\n",
      "\n",
      "    First Place Votes\n",
      "\n",
      "    Total Voting Points Won\n",
      "\n",
      "    Total Voting Points Possible\n",
      "\n",
      "    % of Total Voting Points Possible That Were Won\n",
      "\n",
      "    player_id\n",
      "\n",
      "    Year\n"
     ]
    },
    {
     "data": {
      "text/html": [
       "<div>\n",
       "<style scoped>\n",
       "    .dataframe tbody tr th:only-of-type {\n",
       "        vertical-align: middle;\n",
       "    }\n",
       "\n",
       "    .dataframe tbody tr th {\n",
       "        vertical-align: top;\n",
       "    }\n",
       "\n",
       "    .dataframe thead th {\n",
       "        text-align: right;\n",
       "    }\n",
       "</style>\n",
       "<table border=\"1\" class=\"dataframe\">\n",
       "  <thead>\n",
       "    <tr style=\"text-align: right;\">\n",
       "      <th></th>\n",
       "      <th>Player</th>\n",
       "      <th>Age</th>\n",
       "      <th>Team</th>\n",
       "      <th>First Place Votes</th>\n",
       "      <th>Total Voting Points Won</th>\n",
       "      <th>Total Voting Points Possible</th>\n",
       "      <th>% of Total Voting Points Possible That Were Won</th>\n",
       "      <th>player_id</th>\n",
       "      <th>Year</th>\n",
       "    </tr>\n",
       "  </thead>\n",
       "  <tbody>\n",
       "    <tr>\n",
       "      <th>0</th>\n",
       "      <td>Ja Morant</td>\n",
       "      <td>23</td>\n",
       "      <td>MEM</td>\n",
       "      <td>0.0000</td>\n",
       "      <td>1.0000</td>\n",
       "      <td>1000</td>\n",
       "      <td>0.0010</td>\n",
       "      <td>moranja01</td>\n",
       "      <td>2023</td>\n",
       "    </tr>\n",
       "  </tbody>\n",
       "</table>\n",
       "</div>"
      ],
      "text/plain": [
       "      Player  Age Team  First Place Votes  Total Voting Points Won  \\\n",
       "0  Ja Morant   23  MEM             0.0000                   1.0000   \n",
       "\n",
       "   Total Voting Points Possible  \\\n",
       "0                          1000   \n",
       "\n",
       "   % of Total Voting Points Possible That Were Won  player_id  Year  \n",
       "0                                           0.0010  moranja01  2023  "
      ]
     },
     "execution_count": 203,
     "metadata": {},
     "output_type": "execute_result"
    }
   ],
   "source": [
    "# Define unique name for dataframe to insert into f-string\n",
    "unique_table_name = \"\"\n",
    "\n",
    "# Define name replacement dict\n",
    "name_replacement_dict = {\"Rank\":f\"{unique_table_name}Rank\",\n",
    "\"Player\":f\"{unique_table_name}Player\",\n",
    "\"Age\":f\"{unique_table_name}Age\",\n",
    "\"Team\":f\"{unique_table_name}Team\",\n",
    "\"First\":f\"{unique_table_name}First Place Votes\",\n",
    "\"Pts Won\":f\"{unique_table_name}Total Voting Points Won\",\n",
    "\"Pts Max\":f\"{unique_table_name}Total Voting Points Possible\",\n",
    "\"Share\":f\"{unique_table_name}% of Total Voting Points Possible That Were Won\",                                                                                                                  \n",
    "\"Year\":f\"{unique_table_name}Year\",\n",
    "\"Team Name Refined - accounts for players being traded\":f\"{unique_table_name}Team Name Refined - accounts for players being traded\",\n",
    "\"Standardized/Modernized Team Name\":f\"{unique_table_name}Standardized/Modernized Team Name\"}\n",
    "\n",
    "# Replace names in dataframe\n",
    "mvp_vote_df.rename(name_replacement_dict,axis=1,inplace=True)\n",
    "\n",
    "# # Get rid of dataframes as desired\n",
    "list_of_columns_to_remove = ['G','PTS','TRB','AST','STL','BLK','FG%','3P%','FT%','WS','WS/48','MP','Rank']\n",
    "\n",
    "for item in list_of_columns_to_remove:\n",
    "    mvp_vote_df = mvp_vote_df.drop(item,axis=1)\n",
    "\n",
    "# Check column names to make sure none desired to get rid of\n",
    "for column in mvp_vote_df.columns:\n",
    "    \n",
    "    print(f\"\"\"\n",
    "    {column}\"\"\")\n",
    "\n",
    "mvp_vote_df.head(1)"
   ]
  },
  {
   "cell_type": "markdown",
   "id": "1bb5b32f",
   "metadata": {},
   "source": [
    "### ROY Award"
   ]
  },
  {
   "cell_type": "code",
   "execution_count": 204,
   "id": "6006ea00",
   "metadata": {
    "scrolled": true
   },
   "outputs": [
    {
     "name": "stdout",
     "output_type": "stream",
     "text": [
      "\n",
      "    Player\n",
      "\n",
      "    Age\n",
      "\n",
      "    Team\n",
      "\n",
      "    First Place Votes\n",
      "\n",
      "    Total Voting Points Won\n",
      "\n",
      "    Total Voting Points Possible\n",
      "\n",
      "    % of Total Voting Points Possible That Were Won\n",
      "\n",
      "    player_id\n",
      "\n",
      "    Year\n"
     ]
    },
    {
     "data": {
      "text/html": [
       "<div>\n",
       "<style scoped>\n",
       "    .dataframe tbody tr th:only-of-type {\n",
       "        vertical-align: middle;\n",
       "    }\n",
       "\n",
       "    .dataframe tbody tr th {\n",
       "        vertical-align: top;\n",
       "    }\n",
       "\n",
       "    .dataframe thead th {\n",
       "        text-align: right;\n",
       "    }\n",
       "</style>\n",
       "<table border=\"1\" class=\"dataframe\">\n",
       "  <thead>\n",
       "    <tr style=\"text-align: right;\">\n",
       "      <th></th>\n",
       "      <th>Player</th>\n",
       "      <th>Age</th>\n",
       "      <th>Team</th>\n",
       "      <th>First Place Votes</th>\n",
       "      <th>Total Voting Points Won</th>\n",
       "      <th>Total Voting Points Possible</th>\n",
       "      <th>% of Total Voting Points Possible That Were Won</th>\n",
       "      <th>player_id</th>\n",
       "      <th>Year</th>\n",
       "    </tr>\n",
       "  </thead>\n",
       "  <tbody>\n",
       "    <tr>\n",
       "      <th>0</th>\n",
       "      <td>Jaden Ivey</td>\n",
       "      <td>20</td>\n",
       "      <td>DET</td>\n",
       "      <td>0.0000</td>\n",
       "      <td>3.0000</td>\n",
       "      <td>500</td>\n",
       "      <td>0.0060</td>\n",
       "      <td>iveyja01</td>\n",
       "      <td>2023</td>\n",
       "    </tr>\n",
       "  </tbody>\n",
       "</table>\n",
       "</div>"
      ],
      "text/plain": [
       "       Player  Age Team  First Place Votes  Total Voting Points Won  \\\n",
       "0  Jaden Ivey   20  DET             0.0000                   3.0000   \n",
       "\n",
       "   Total Voting Points Possible  \\\n",
       "0                           500   \n",
       "\n",
       "   % of Total Voting Points Possible That Were Won player_id  Year  \n",
       "0                                           0.0060  iveyja01  2023  "
      ]
     },
     "execution_count": 204,
     "metadata": {},
     "output_type": "execute_result"
    }
   ],
   "source": [
    "# Define unique name for dataframe to insert into f-string\n",
    "unique_table_name = \"\"\n",
    "\n",
    "# Define name replacement dict\n",
    "name_replacement_dict = {\"Rank\":f\"{unique_table_name}Rank\",\n",
    "\"Player\":f\"{unique_table_name}Player\",\n",
    "\"Age\":f\"{unique_table_name}Age\",\n",
    "\"Team\":f\"{unique_table_name}Team\",\n",
    "\"First\":f\"{unique_table_name}First Place Votes\",\n",
    "\"Pts Won\":f\"{unique_table_name}Total Voting Points Won\",\n",
    "\"Pts Max\":f\"{unique_table_name}Total Voting Points Possible\",\n",
    "\"Share\":f\"{unique_table_name}% of Total Voting Points Possible That Were Won\",                                                                                                                  \n",
    "\"Year\":f\"{unique_table_name}Year\",\n",
    "\"Team Name Refined - accounts for players being traded\":f\"{unique_table_name}Team Name Refined - accounts for players being traded\",\n",
    "\"Standardized/Modernized Team Name\":f\"{unique_table_name}Standardized/Modernized Team Name\"}\n",
    "\n",
    "# Replace names in dataframe\n",
    "roy_vote_df.rename(name_replacement_dict,axis=1,inplace=True)\n",
    "\n",
    "# # Get rid of dataframes as desired\n",
    "list_of_columns_to_remove = ['G','PTS','TRB','AST','STL','BLK','FG%','3P%','FT%','WS','WS/48','MP','Rank']\n",
    "\n",
    "for item in list_of_columns_to_remove:\n",
    "    roy_vote_df = roy_vote_df.drop(item,axis=1)\n",
    "\n",
    "# Check column names to make sure none desired to get rid of\n",
    "for column in roy_vote_df.columns:\n",
    "    \n",
    "    print(f\"\"\"\n",
    "    {column}\"\"\")\n",
    "\n",
    "roy_vote_df.head(1)"
   ]
  },
  {
   "cell_type": "markdown",
   "id": "f5e32610",
   "metadata": {},
   "source": [
    "### All NBA Award"
   ]
  },
  {
   "cell_type": "code",
   "execution_count": 205,
   "id": "517c8d94",
   "metadata": {
    "scrolled": true
   },
   "outputs": [
    {
     "name": "stdout",
     "output_type": "stream",
     "text": [
      "\n",
      "    All NBA Award (e.g. 1st Team)\n",
      "\n",
      "    Position\n",
      "\n",
      "    Player\n",
      "\n",
      "    Age\n",
      "\n",
      "    Team\n",
      "\n",
      "    Total Voting Points Won\n",
      "\n",
      "    Total Voting Points Possible\n",
      "\n",
      "    % of Total Voting Points Possible That Were Won\n",
      "\n",
      "    All NBA 1st Team Votes\n",
      "\n",
      "    All NBA 2nd Team Votes\n",
      "\n",
      "    All NBA 3rd Team Votes\n",
      "\n",
      "    player_id\n",
      "\n",
      "    Year\n"
     ]
    },
    {
     "data": {
      "text/html": [
       "<div>\n",
       "<style scoped>\n",
       "    .dataframe tbody tr th:only-of-type {\n",
       "        vertical-align: middle;\n",
       "    }\n",
       "\n",
       "    .dataframe tbody tr th {\n",
       "        vertical-align: top;\n",
       "    }\n",
       "\n",
       "    .dataframe thead th {\n",
       "        text-align: right;\n",
       "    }\n",
       "</style>\n",
       "<table border=\"1\" class=\"dataframe\">\n",
       "  <thead>\n",
       "    <tr style=\"text-align: right;\">\n",
       "      <th></th>\n",
       "      <th>All NBA Award (e.g. 1st Team)</th>\n",
       "      <th>Position</th>\n",
       "      <th>Player</th>\n",
       "      <th>Age</th>\n",
       "      <th>Team</th>\n",
       "      <th>Total Voting Points Won</th>\n",
       "      <th>Total Voting Points Possible</th>\n",
       "      <th>% of Total Voting Points Possible That Were Won</th>\n",
       "      <th>All NBA 1st Team Votes</th>\n",
       "      <th>All NBA 2nd Team Votes</th>\n",
       "      <th>All NBA 3rd Team Votes</th>\n",
       "      <th>player_id</th>\n",
       "      <th>Year</th>\n",
       "    </tr>\n",
       "  </thead>\n",
       "  <tbody>\n",
       "    <tr>\n",
       "      <th>0</th>\n",
       "      <td>ORV</td>\n",
       "      <td>G</td>\n",
       "      <td>Trae Young</td>\n",
       "      <td>24</td>\n",
       "      <td>ATL</td>\n",
       "      <td>1</td>\n",
       "      <td>500</td>\n",
       "      <td>0.0020</td>\n",
       "      <td>0.0000</td>\n",
       "      <td>0.0000</td>\n",
       "      <td>1.0000</td>\n",
       "      <td>youngtr01</td>\n",
       "      <td>2023</td>\n",
       "    </tr>\n",
       "  </tbody>\n",
       "</table>\n",
       "</div>"
      ],
      "text/plain": [
       "  All NBA Award (e.g. 1st Team) Position      Player  Age Team  \\\n",
       "0                           ORV        G  Trae Young   24  ATL   \n",
       "\n",
       "   Total Voting Points Won  Total Voting Points Possible  \\\n",
       "0                        1                           500   \n",
       "\n",
       "   % of Total Voting Points Possible That Were Won  All NBA 1st Team Votes  \\\n",
       "0                                           0.0020                  0.0000   \n",
       "\n",
       "   All NBA 2nd Team Votes  All NBA 3rd Team Votes  player_id  Year  \n",
       "0                  0.0000                  1.0000  youngtr01  2023  "
      ]
     },
     "execution_count": 205,
     "metadata": {},
     "output_type": "execute_result"
    }
   ],
   "source": [
    "# Define unique name for dataframe to insert into f-string\n",
    "unique_table_name = \"\"\n",
    "\n",
    "# Define name replacement dict\n",
    "name_replacement_dict = {\"Rank\":f\"{unique_table_name}Rank\",\n",
    "\"# Tm\":f\"{unique_table_name}All NBA Award (e.g. 1st Team)\",\n",
    "\"1st Tm\":f\"{unique_table_name}All NBA 1st Team Votes\",\n",
    "\"2nd Tm\":f\"{unique_table_name}All NBA 2nd Team Votes\",\n",
    "\"3rd Tm\":f\"{unique_table_name}All NBA 3rd Team Votes\",                                                  \n",
    "\"Pos\":f\"{unique_table_name}Position\",                         \n",
    "\"Player\":f\"{unique_table_name}Player\",\n",
    "\"Age\":f\"{unique_table_name}Age\",\n",
    "\"Team\":f\"{unique_table_name}Team\",\n",
    "\"First\":f\"{unique_table_name}First Place Votes\",\n",
    "\"Pts Won\":f\"{unique_table_name}Total Voting Points Won\",\n",
    "\"Pts Max\":f\"{unique_table_name}Total Voting Points Possible\",\n",
    "\"Share\":f\"{unique_table_name}% of Total Voting Points Possible That Were Won\",                                                                                                                  \n",
    "\"Year\":f\"{unique_table_name}Year\",\n",
    "\"Team Name Refined - accounts for players being traded\":f\"{unique_table_name}Team Name Refined - accounts for players being traded\",\n",
    "\"Standardized/Modernized Team Name\":f\"{unique_table_name}Standardized/Modernized Team Name\"}\n",
    "\n",
    "# Replace names in dataframe\n",
    "all_nba_df.rename(name_replacement_dict,axis=1,inplace=True)\n",
    "\n",
    "# # # Get rid of dataframes as desired\n",
    "list_of_columns_to_remove = ['G', 'MP', 'PTS', 'TRB', 'AST', 'STL','BLK', 'FG%', '3P%', 'FT%', 'WS', 'WS/48']\n",
    "\n",
    "for item in list_of_columns_to_remove:\n",
    "    all_nba_df = all_nba_df.drop(item,axis=1)\n",
    "\n",
    "# Check column names to make sure none desired to get rid of\n",
    "for column in all_nba_df.columns:\n",
    "    \n",
    "    print(f\"\"\"\n",
    "    {column}\"\"\")\n",
    "\n",
    "all_nba_df.head(1)"
   ]
  },
  {
   "cell_type": "markdown",
   "id": "b2aac765",
   "metadata": {},
   "source": [
    "### All Defensive Award"
   ]
  },
  {
   "cell_type": "code",
   "execution_count": 206,
   "id": "cc6c2591",
   "metadata": {
    "scrolled": true
   },
   "outputs": [
    {
     "name": "stdout",
     "output_type": "stream",
     "text": [
      "\n",
      "    All NBA Award (e.g. 1st Team)\n",
      "\n",
      "    Position\n",
      "\n",
      "    Player\n",
      "\n",
      "    Age\n",
      "\n",
      "    Team\n",
      "\n",
      "    Total Voting Points Won\n",
      "\n",
      "    Total Voting Points Possible\n",
      "\n",
      "    % of Total Voting Points Possible That Were Won\n",
      "\n",
      "    player_id\n",
      "\n",
      "    Year\n"
     ]
    },
    {
     "data": {
      "text/html": [
       "<div>\n",
       "<style scoped>\n",
       "    .dataframe tbody tr th:only-of-type {\n",
       "        vertical-align: middle;\n",
       "    }\n",
       "\n",
       "    .dataframe tbody tr th {\n",
       "        vertical-align: top;\n",
       "    }\n",
       "\n",
       "    .dataframe thead th {\n",
       "        text-align: right;\n",
       "    }\n",
       "</style>\n",
       "<table border=\"1\" class=\"dataframe\">\n",
       "  <thead>\n",
       "    <tr style=\"text-align: right;\">\n",
       "      <th></th>\n",
       "      <th>All NBA Award (e.g. 1st Team)</th>\n",
       "      <th>Position</th>\n",
       "      <th>Player</th>\n",
       "      <th>Age</th>\n",
       "      <th>Team</th>\n",
       "      <th>Total Voting Points Won</th>\n",
       "      <th>Total Voting Points Possible</th>\n",
       "      <th>% of Total Voting Points Possible That Were Won</th>\n",
       "      <th>player_id</th>\n",
       "      <th>Year</th>\n",
       "    </tr>\n",
       "  </thead>\n",
       "  <tbody>\n",
       "    <tr>\n",
       "      <th>0</th>\n",
       "      <td>ORV</td>\n",
       "      <td>G</td>\n",
       "      <td>Delon Wright</td>\n",
       "      <td>30</td>\n",
       "      <td>WAS</td>\n",
       "      <td>1</td>\n",
       "      <td>200</td>\n",
       "      <td>0.0050</td>\n",
       "      <td>wrighde01</td>\n",
       "      <td>2023</td>\n",
       "    </tr>\n",
       "  </tbody>\n",
       "</table>\n",
       "</div>"
      ],
      "text/plain": [
       "  All NBA Award (e.g. 1st Team) Position        Player  Age Team  \\\n",
       "0                           ORV        G  Delon Wright   30  WAS   \n",
       "\n",
       "   Total Voting Points Won  Total Voting Points Possible  \\\n",
       "0                        1                           200   \n",
       "\n",
       "   % of Total Voting Points Possible That Were Won  player_id  Year  \n",
       "0                                           0.0050  wrighde01  2023  "
      ]
     },
     "execution_count": 206,
     "metadata": {},
     "output_type": "execute_result"
    }
   ],
   "source": [
    "# Define unique name for dataframe to insert into f-string\n",
    "unique_table_name = \"\"\n",
    "\n",
    "# Define name replacement dict\n",
    "name_replacement_dict = {\"Rank\":f\"{unique_table_name}Rank\",\n",
    "\"# Tm\":f\"{unique_table_name}All NBA Award (e.g. 1st Team)\",\n",
    "\"1st Tm\":f\"{unique_table_name}All NBA 1st Team Votes\",\n",
    "\"2nd Tm\":f\"{unique_table_name}All NBA 2nd Team Votes\",\n",
    "\"3rd Tm\":f\"{unique_table_name}All NBA 3rd Team Votes\",                                                  \n",
    "\"Pos\":f\"{unique_table_name}Position\",                         \n",
    "\"Player\":f\"{unique_table_name}Player\",\n",
    "\"Age\":f\"{unique_table_name}Age\",\n",
    "\"Team\":f\"{unique_table_name}Team\",\n",
    "\"First\":f\"{unique_table_name}First Place Votes\",\n",
    "\"Pts Won\":f\"{unique_table_name}Total Voting Points Won\",\n",
    "\"Pts Max\":f\"{unique_table_name}Total Voting Points Possible\",\n",
    "\"Share\":f\"{unique_table_name}% of Total Voting Points Possible That Were Won\",                                                                                                                  \n",
    "\"Year\":f\"{unique_table_name}Year\",\n",
    "\"Team Name Refined - accounts for players being traded\":f\"{unique_table_name}Team Name Refined - accounts for players being traded\",\n",
    "\"Standardized/Modernized Team Name\":f\"{unique_table_name}Standardized/Modernized Team Name\"}\n",
    "\n",
    "# Replace names in dataframe\n",
    "all_defense_df.rename(name_replacement_dict,axis=1,inplace=True)\n",
    "\n",
    "# # # Get rid of dataframes as desired\n",
    "list_of_columns_to_remove = ['G', 'MP', 'PTS', 'TRB', 'AST', 'STL','BLK', 'FG%', '3P%', 'FT%', 'WS', 'WS/48','DWS','DBPM','DRtg']\n",
    "\n",
    "for item in list_of_columns_to_remove:\n",
    "    all_defense_df = all_defense_df.drop(item,axis=1)\n",
    "\n",
    "# Check column names to make sure none desired to get rid of\n",
    "for column in all_defense_df.columns:\n",
    "    \n",
    "    print(f\"\"\"\n",
    "    {column}\"\"\")\n",
    "\n",
    "all_defense_df.head(1)"
   ]
  },
  {
   "cell_type": "markdown",
   "id": "f8616e3e",
   "metadata": {},
   "source": [
    "### Most Improved Player Award"
   ]
  },
  {
   "cell_type": "code",
   "execution_count": 207,
   "id": "6ee7ee4b",
   "metadata": {},
   "outputs": [
    {
     "name": "stdout",
     "output_type": "stream",
     "text": [
      "\n",
      "    Player\n",
      "\n",
      "    Age\n",
      "\n",
      "    Team\n",
      "\n",
      "    First Place Votes\n",
      "\n",
      "    Total Voting Points Won\n",
      "\n",
      "    Total Voting Points Possible\n",
      "\n",
      "    % of Total Voting Points Possible That Were Won\n",
      "\n",
      "    player_id\n",
      "\n",
      "    Year\n"
     ]
    },
    {
     "data": {
      "text/html": [
       "<div>\n",
       "<style scoped>\n",
       "    .dataframe tbody tr th:only-of-type {\n",
       "        vertical-align: middle;\n",
       "    }\n",
       "\n",
       "    .dataframe tbody tr th {\n",
       "        vertical-align: top;\n",
       "    }\n",
       "\n",
       "    .dataframe thead th {\n",
       "        text-align: right;\n",
       "    }\n",
       "</style>\n",
       "<table border=\"1\" class=\"dataframe\">\n",
       "  <thead>\n",
       "    <tr style=\"text-align: right;\">\n",
       "      <th></th>\n",
       "      <th>Player</th>\n",
       "      <th>Age</th>\n",
       "      <th>Team</th>\n",
       "      <th>First Place Votes</th>\n",
       "      <th>Total Voting Points Won</th>\n",
       "      <th>Total Voting Points Possible</th>\n",
       "      <th>% of Total Voting Points Possible That Were Won</th>\n",
       "      <th>player_id</th>\n",
       "      <th>Year</th>\n",
       "    </tr>\n",
       "  </thead>\n",
       "  <tbody>\n",
       "    <tr>\n",
       "      <th>0</th>\n",
       "      <td>Malik Monk</td>\n",
       "      <td>24</td>\n",
       "      <td>SAC</td>\n",
       "      <td>0.0000</td>\n",
       "      <td>1.0000</td>\n",
       "      <td>500</td>\n",
       "      <td>0.0020</td>\n",
       "      <td>monkma01</td>\n",
       "      <td>2023</td>\n",
       "    </tr>\n",
       "  </tbody>\n",
       "</table>\n",
       "</div>"
      ],
      "text/plain": [
       "       Player  Age Team  First Place Votes  Total Voting Points Won  \\\n",
       "0  Malik Monk   24  SAC             0.0000                   1.0000   \n",
       "\n",
       "   Total Voting Points Possible  \\\n",
       "0                           500   \n",
       "\n",
       "   % of Total Voting Points Possible That Were Won player_id  Year  \n",
       "0                                           0.0020  monkma01  2023  "
      ]
     },
     "execution_count": 207,
     "metadata": {},
     "output_type": "execute_result"
    }
   ],
   "source": [
    "# Define unique name for dataframe to insert into f-string\n",
    "unique_table_name = \"\"\n",
    "\n",
    "# Define name replacement dict\n",
    "name_replacement_dict = {\"Rank\":f\"{unique_table_name}Rank\",\n",
    "\"# Tm\":f\"{unique_table_name}All NBA Award (e.g. 1st Team)\",\n",
    "\"1st Tm\":f\"{unique_table_name}All NBA 1st Team Votes\",\n",
    "\"2nd Tm\":f\"{unique_table_name}All NBA 2nd Team Votes\",\n",
    "\"3rd Tm\":f\"{unique_table_name}All NBA 3rd Team Votes\",                                                  \n",
    "\"Pos\":f\"{unique_table_name}Position\",                         \n",
    "\"Player\":f\"{unique_table_name}Player\",\n",
    "\"Age\":f\"{unique_table_name}Age\",\n",
    "\"Team\":f\"{unique_table_name}Team\",\n",
    "\"First\":f\"{unique_table_name}First Place Votes\",\n",
    "\"Pts Won\":f\"{unique_table_name}Total Voting Points Won\",\n",
    "\"Pts Max\":f\"{unique_table_name}Total Voting Points Possible\",\n",
    "\"Share\":f\"{unique_table_name}% of Total Voting Points Possible That Were Won\",                                                                                                                  \n",
    "\"Year\":f\"{unique_table_name}Year\",\n",
    "\"Team Name Refined - accounts for players being traded\":f\"{unique_table_name}Team Name Refined - accounts for players being traded\",\n",
    "\"Standardized/Modernized Team Name\":f\"{unique_table_name}Standardized/Modernized Team Name\"}\n",
    "\n",
    "# Replace names in dataframe\n",
    "mip_df.rename(name_replacement_dict,axis=1,inplace=True)\n",
    "\n",
    "# # Get rid of dataframes as desired\n",
    "list_of_columns_to_remove = ['G', 'MP', 'PTS', 'TRB', 'AST', 'STL','BLK', 'FG%', '3P%', 'FT%', 'WS', 'WS/48', 'Rank']\n",
    "\n",
    "for item in list_of_columns_to_remove:\n",
    "    mip_df = mip_df.drop(item,axis=1)\n",
    "\n",
    "# Check column names to make sure none desired to get rid of\n",
    "for column in mip_df.columns:\n",
    "    \n",
    "    print(f\"\"\"\n",
    "    {column}\"\"\")\n",
    "\n",
    "mip_df.head(1)"
   ]
  },
  {
   "cell_type": "markdown",
   "id": "d7b7a724",
   "metadata": {},
   "source": [
    "### 6 Man of the Year Award"
   ]
  },
  {
   "cell_type": "code",
   "execution_count": 208,
   "id": "5a1c0d09",
   "metadata": {},
   "outputs": [
    {
     "name": "stdout",
     "output_type": "stream",
     "text": [
      "\n",
      "    Player\n",
      "\n",
      "    Age\n",
      "\n",
      "    Team\n",
      "\n",
      "    First Place Votes\n",
      "\n",
      "    Total Voting Points Won\n",
      "\n",
      "    Total Voting Points Possible\n",
      "\n",
      "    % of Total Voting Points Possible That Were Won\n",
      "\n",
      "    player_id\n",
      "\n",
      "    Year\n"
     ]
    },
    {
     "data": {
      "text/html": [
       "<div>\n",
       "<style scoped>\n",
       "    .dataframe tbody tr th:only-of-type {\n",
       "        vertical-align: middle;\n",
       "    }\n",
       "\n",
       "    .dataframe tbody tr th {\n",
       "        vertical-align: top;\n",
       "    }\n",
       "\n",
       "    .dataframe thead th {\n",
       "        text-align: right;\n",
       "    }\n",
       "</style>\n",
       "<table border=\"1\" class=\"dataframe\">\n",
       "  <thead>\n",
       "    <tr style=\"text-align: right;\">\n",
       "      <th></th>\n",
       "      <th>Player</th>\n",
       "      <th>Age</th>\n",
       "      <th>Team</th>\n",
       "      <th>First Place Votes</th>\n",
       "      <th>Total Voting Points Won</th>\n",
       "      <th>Total Voting Points Possible</th>\n",
       "      <th>% of Total Voting Points Possible That Were Won</th>\n",
       "      <th>player_id</th>\n",
       "      <th>Year</th>\n",
       "    </tr>\n",
       "  </thead>\n",
       "  <tbody>\n",
       "    <tr>\n",
       "      <th>0</th>\n",
       "      <td>Christian Wood</td>\n",
       "      <td>27</td>\n",
       "      <td>DAL</td>\n",
       "      <td>0.0000</td>\n",
       "      <td>1.0000</td>\n",
       "      <td>500</td>\n",
       "      <td>0.0020</td>\n",
       "      <td>woodch01</td>\n",
       "      <td>2023</td>\n",
       "    </tr>\n",
       "  </tbody>\n",
       "</table>\n",
       "</div>"
      ],
      "text/plain": [
       "           Player  Age Team  First Place Votes  Total Voting Points Won  \\\n",
       "0  Christian Wood   27  DAL             0.0000                   1.0000   \n",
       "\n",
       "   Total Voting Points Possible  \\\n",
       "0                           500   \n",
       "\n",
       "   % of Total Voting Points Possible That Were Won player_id  Year  \n",
       "0                                           0.0020  woodch01  2023  "
      ]
     },
     "execution_count": 208,
     "metadata": {},
     "output_type": "execute_result"
    }
   ],
   "source": [
    "# Define unique name for dataframe to insert into f-string\n",
    "unique_table_name = \"\"\n",
    "\n",
    "# Define name replacement dict\n",
    "name_replacement_dict = {\"Rank\":f\"{unique_table_name}Rank\",\n",
    "\"# Tm\":f\"{unique_table_name}All NBA Award (e.g. 1st Team)\",\n",
    "\"1st Tm\":f\"{unique_table_name}All NBA 1st Team Votes\",\n",
    "\"2nd Tm\":f\"{unique_table_name}All NBA 2nd Team Votes\",\n",
    "\"3rd Tm\":f\"{unique_table_name}All NBA 3rd Team Votes\",                                                  \n",
    "\"Pos\":f\"{unique_table_name}Position\",                         \n",
    "\"Player\":f\"{unique_table_name}Player\",\n",
    "\"Age\":f\"{unique_table_name}Age\",\n",
    "\"Team\":f\"{unique_table_name}Team\",\n",
    "\"First\":f\"{unique_table_name}First Place Votes\",\n",
    "\"Pts Won\":f\"{unique_table_name}Total Voting Points Won\",\n",
    "\"Pts Max\":f\"{unique_table_name}Total Voting Points Possible\",\n",
    "\"Share\":f\"{unique_table_name}% of Total Voting Points Possible That Were Won\",                                                                                                                  \n",
    "\"Year\":f\"{unique_table_name}Year\",\n",
    "\"Team Name Refined - accounts for players being traded\":f\"{unique_table_name}Team Name Refined - accounts for players being traded\",\n",
    "\"Standardized/Modernized Team Name\":f\"{unique_table_name}Standardized/Modernized Team Name\"}\n",
    "\n",
    "# Replace names in dataframe\n",
    "six_man_df.rename(name_replacement_dict,axis=1,inplace=True)\n",
    "\n",
    "# Get rid of dataframes as desired\n",
    "list_of_columns_to_remove = ['G', 'MP', 'PTS', 'TRB', 'AST', 'STL','BLK', 'FG%', '3P%', 'FT%', 'WS', 'WS/48', 'Rank']\n",
    "\n",
    "for item in list_of_columns_to_remove:\n",
    "    six_man_df = six_man_df.drop(item,axis=1)\n",
    "\n",
    "# Check column names to make sure none desired to get rid of\n",
    "for column in six_man_df.columns:\n",
    "    \n",
    "    print(f\"\"\"\n",
    "    {column}\"\"\")\n",
    "\n",
    "six_man_df.head(1)"
   ]
  },
  {
   "cell_type": "markdown",
   "id": "293d32e1",
   "metadata": {},
   "source": [
    "### DPOY Award"
   ]
  },
  {
   "cell_type": "code",
   "execution_count": 209,
   "id": "2abe794e",
   "metadata": {},
   "outputs": [
    {
     "name": "stdout",
     "output_type": "stream",
     "text": [
      "\n",
      "    Player\n",
      "\n",
      "    Age\n",
      "\n",
      "    Team\n",
      "\n",
      "    First Place Votes\n",
      "\n",
      "    Total Voting Points Won\n",
      "\n",
      "    Total Voting Points Possible\n",
      "\n",
      "    % of Total Voting Points Possible That Were Won\n",
      "\n",
      "    player_id\n",
      "\n",
      "    Year\n"
     ]
    },
    {
     "data": {
      "text/html": [
       "<div>\n",
       "<style scoped>\n",
       "    .dataframe tbody tr th:only-of-type {\n",
       "        vertical-align: middle;\n",
       "    }\n",
       "\n",
       "    .dataframe tbody tr th {\n",
       "        vertical-align: top;\n",
       "    }\n",
       "\n",
       "    .dataframe thead th {\n",
       "        text-align: right;\n",
       "    }\n",
       "</style>\n",
       "<table border=\"1\" class=\"dataframe\">\n",
       "  <thead>\n",
       "    <tr style=\"text-align: right;\">\n",
       "      <th></th>\n",
       "      <th>Player</th>\n",
       "      <th>Age</th>\n",
       "      <th>Team</th>\n",
       "      <th>First Place Votes</th>\n",
       "      <th>Total Voting Points Won</th>\n",
       "      <th>Total Voting Points Possible</th>\n",
       "      <th>% of Total Voting Points Possible That Were Won</th>\n",
       "      <th>player_id</th>\n",
       "      <th>Year</th>\n",
       "    </tr>\n",
       "  </thead>\n",
       "  <tbody>\n",
       "    <tr>\n",
       "      <th>0</th>\n",
       "      <td>Jimmy Butler</td>\n",
       "      <td>33</td>\n",
       "      <td>MIA</td>\n",
       "      <td>0.0000</td>\n",
       "      <td>1.0000</td>\n",
       "      <td>500</td>\n",
       "      <td>0.0020</td>\n",
       "      <td>butleji01</td>\n",
       "      <td>2023</td>\n",
       "    </tr>\n",
       "  </tbody>\n",
       "</table>\n",
       "</div>"
      ],
      "text/plain": [
       "         Player  Age Team  First Place Votes  Total Voting Points Won  \\\n",
       "0  Jimmy Butler   33  MIA             0.0000                   1.0000   \n",
       "\n",
       "   Total Voting Points Possible  \\\n",
       "0                           500   \n",
       "\n",
       "   % of Total Voting Points Possible That Were Won  player_id  Year  \n",
       "0                                           0.0020  butleji01  2023  "
      ]
     },
     "execution_count": 209,
     "metadata": {},
     "output_type": "execute_result"
    }
   ],
   "source": [
    "# Define unique name for dataframe to insert into f-string\n",
    "unique_table_name = \"\"\n",
    "\n",
    "# Define name replacement dict\n",
    "name_replacement_dict = {\"Rank\":f\"{unique_table_name}Rank\",\n",
    "\"# Tm\":f\"{unique_table_name}All NBA Award (e.g. 1st Team)\",\n",
    "\"1st Tm\":f\"{unique_table_name}All NBA 1st Team Votes\",\n",
    "\"2nd Tm\":f\"{unique_table_name}All NBA 2nd Team Votes\",\n",
    "\"3rd Tm\":f\"{unique_table_name}All NBA 3rd Team Votes\",                                                  \n",
    "\"Pos\":f\"{unique_table_name}Position\",                         \n",
    "\"Player\":f\"{unique_table_name}Player\",\n",
    "\"Age\":f\"{unique_table_name}Age\",\n",
    "\"Team\":f\"{unique_table_name}Team\",\n",
    "\"First\":f\"{unique_table_name}First Place Votes\",\n",
    "\"Pts Won\":f\"{unique_table_name}Total Voting Points Won\",\n",
    "\"Pts Max\":f\"{unique_table_name}Total Voting Points Possible\",\n",
    "\"Share\":f\"{unique_table_name}% of Total Voting Points Possible That Were Won\",                                                                                                                  \n",
    "\"Year\":f\"{unique_table_name}Year\",\n",
    "\"Team Name Refined - accounts for players being traded\":f\"{unique_table_name}Team Name Refined - accounts for players being traded\",\n",
    "\"Standardized/Modernized Team Name\":f\"{unique_table_name}Standardized/Modernized Team Name\"}\n",
    "\n",
    "# Replace names in dataframe\n",
    "dpoy_df.rename(name_replacement_dict,axis=1,inplace=True)\n",
    "\n",
    "# Get rid of dataframes as desired\n",
    "list_of_columns_to_remove = ['G', 'MP', 'PTS', 'TRB', 'AST', 'STL','BLK', 'FG%', '3P%', 'FT%', 'WS', 'WS/48','DWS','DBPM','DRtg', 'Rank']\n",
    "\n",
    "for item in list_of_columns_to_remove:\n",
    "    dpoy_df = dpoy_df.drop(item,axis=1)\n",
    "\n",
    "# Check column names to make sure none desired to get rid of\n",
    "for column in dpoy_df.columns:\n",
    "    \n",
    "    print(f\"\"\"\n",
    "    {column}\"\"\")\n",
    "\n",
    "dpoy_df.head(1)"
   ]
  },
  {
   "cell_type": "markdown",
   "id": "fb3202ab",
   "metadata": {},
   "source": [
    "### Finals MVP Award"
   ]
  },
  {
   "cell_type": "code",
   "execution_count": 210,
   "id": "0bd9f38f",
   "metadata": {},
   "outputs": [
    {
     "name": "stdout",
     "output_type": "stream",
     "text": [
      "\n",
      "    Year\n",
      "\n",
      "    Player\n",
      "\n",
      "    Age\n",
      "\n",
      "    Team\n",
      "\n",
      "    player_id\n"
     ]
    },
    {
     "data": {
      "text/html": [
       "<div>\n",
       "<style scoped>\n",
       "    .dataframe tbody tr th:only-of-type {\n",
       "        vertical-align: middle;\n",
       "    }\n",
       "\n",
       "    .dataframe tbody tr th {\n",
       "        vertical-align: top;\n",
       "    }\n",
       "\n",
       "    .dataframe thead th {\n",
       "        text-align: right;\n",
       "    }\n",
       "</style>\n",
       "<table border=\"1\" class=\"dataframe\">\n",
       "  <thead>\n",
       "    <tr style=\"text-align: right;\">\n",
       "      <th></th>\n",
       "      <th>Year</th>\n",
       "      <th>Player</th>\n",
       "      <th>Age</th>\n",
       "      <th>Team</th>\n",
       "      <th>player_id</th>\n",
       "    </tr>\n",
       "  </thead>\n",
       "  <tbody>\n",
       "    <tr>\n",
       "      <th>0</th>\n",
       "      <td>2023</td>\n",
       "      <td>Nikola Jokić</td>\n",
       "      <td>27</td>\n",
       "      <td>DEN</td>\n",
       "      <td>jokicni01</td>\n",
       "    </tr>\n",
       "  </tbody>\n",
       "</table>\n",
       "</div>"
      ],
      "text/plain": [
       "   Year        Player  Age Team  player_id\n",
       "0  2023  Nikola Jokić   27  DEN  jokicni01"
      ]
     },
     "execution_count": 210,
     "metadata": {},
     "output_type": "execute_result"
    }
   ],
   "source": [
    "# Define unique name for dataframe to insert into f-string\n",
    "unique_table_name = \"\"\n",
    "\n",
    "# Define name replacement dict\n",
    "name_replacement_dict = {\"Rank\":f\"{unique_table_name}Rank\",\n",
    "\"# Tm\":f\"{unique_table_name}All NBA Award (e.g. 1st Team)\",\n",
    "\"1st Tm\":f\"{unique_table_name}All NBA 1st Team Votes\",\n",
    "\"2nd Tm\":f\"{unique_table_name}All NBA 2nd Team Votes\",\n",
    "\"3rd Tm\":f\"{unique_table_name}All NBA 3rd Team Votes\",                                                  \n",
    "\"Pos\":f\"{unique_table_name}Position\",                         \n",
    "\"Player\":f\"{unique_table_name}Player\",\n",
    "\"Age\":f\"{unique_table_name}Age\",\n",
    "\"Team\":f\"{unique_table_name}Team\",\n",
    "\"First\":f\"{unique_table_name}First Place Votes\",\n",
    "\"Pts Won\":f\"{unique_table_name}Total Voting Points Won\",\n",
    "\"Pts Max\":f\"{unique_table_name}Total Voting Points Possible\",\n",
    "\"Share\":f\"{unique_table_name}% of Total Voting Points Possible That Were Won\",                                                                                                                  \n",
    "\"Year\":f\"{unique_table_name}Year\",\n",
    "\"Team Name Refined - accounts for players being traded\":f\"{unique_table_name}Team Name Refined - accounts for players being traded\",\n",
    "\"Standardized/Modernized Team Name\":f\"{unique_table_name}Standardized/Modernized Team Name\"}\n",
    "\n",
    "# Replace names in dataframe\n",
    "finals_mvp.rename(name_replacement_dict,axis=1,inplace=True)\n",
    "\n",
    "# # Get rid of dataframes as desired\n",
    "list_of_columns_to_remove = ['Lg', 'G', 'MP', 'PTS', 'TRB', 'AST', 'STL','BLK', 'FG%', '3P%', 'FT%']\n",
    "\n",
    "for item in list_of_columns_to_remove:\n",
    "    finals_mvp = finals_mvp.drop(item,axis=1)\n",
    "\n",
    "# Check column names to make sure none desired to get rid of\n",
    "for column in finals_mvp.columns:\n",
    "    \n",
    "    print(f\"\"\"\n",
    "    {column}\"\"\")\n",
    "\n",
    "finals_mvp.head(1)"
   ]
  },
  {
   "cell_type": "markdown",
   "id": "fb952730",
   "metadata": {},
   "source": [
    "## TEAM REGULAR SEASON STATS\n",
    "\n",
    " <a class=\"anchor\" id=\"Step31\"></a>"
   ]
  },
  {
   "cell_type": "markdown",
   "id": "cc3ecd0e",
   "metadata": {},
   "source": [
    "### TEAM Regular Season Basic Stats"
   ]
  },
  {
   "cell_type": "code",
   "execution_count": 211,
   "id": "da554897",
   "metadata": {},
   "outputs": [
    {
     "name": "stdout",
     "output_type": "stream",
     "text": [
      "\n",
      "    Rank\n",
      "\n",
      "    Team\n",
      "\n",
      "    Games Played\n",
      "\n",
      "    Minutes Played Per Game\n",
      "\n",
      "    Field Goals Made Per Game\n",
      "\n",
      "    Field Goals Attempted Per Game\n",
      "\n",
      "    Average Field Goal % For Season\n",
      "\n",
      "    3 Pointers Made Per Game\n",
      "\n",
      "    3 Point Attempts Per Game\n",
      "\n",
      "    Average 3 Point % For Season\n",
      "\n",
      "    2 Pointers Made Per Game\n",
      "\n",
      "    2 Point Attempts Per Game\n",
      "\n",
      "    Average 2 Point % For Season\n",
      "\n",
      "    Free Throws Made Per Game\n",
      "\n",
      "    Free Throw Attempts Per Game\n",
      "\n",
      "    Average Free Throw % For Season\n",
      "\n",
      "    Offense Rebounds Per Game\n",
      "\n",
      "    Defense Rebounds Per Game\n",
      "\n",
      "    Total Rebounds Per Game\n",
      "\n",
      "    Assists Per Game\n",
      "\n",
      "    Steals Per Game\n",
      "\n",
      "    Blocks Per Game\n",
      "\n",
      "    Turnovers Per Game\n",
      "\n",
      "    Personal Fouls Per Game\n",
      "\n",
      "    Points Per Game\n",
      "\n",
      "    Year\n"
     ]
    },
    {
     "data": {
      "text/html": [
       "<div>\n",
       "<style scoped>\n",
       "    .dataframe tbody tr th:only-of-type {\n",
       "        vertical-align: middle;\n",
       "    }\n",
       "\n",
       "    .dataframe tbody tr th {\n",
       "        vertical-align: top;\n",
       "    }\n",
       "\n",
       "    .dataframe thead th {\n",
       "        text-align: right;\n",
       "    }\n",
       "</style>\n",
       "<table border=\"1\" class=\"dataframe\">\n",
       "  <thead>\n",
       "    <tr style=\"text-align: right;\">\n",
       "      <th></th>\n",
       "      <th>Rank</th>\n",
       "      <th>Team</th>\n",
       "      <th>Games Played</th>\n",
       "      <th>Minutes Played Per Game</th>\n",
       "      <th>Field Goals Made Per Game</th>\n",
       "      <th>Field Goals Attempted Per Game</th>\n",
       "      <th>Average Field Goal % For Season</th>\n",
       "      <th>3 Pointers Made Per Game</th>\n",
       "      <th>3 Point Attempts Per Game</th>\n",
       "      <th>Average 3 Point % For Season</th>\n",
       "      <th>2 Pointers Made Per Game</th>\n",
       "      <th>2 Point Attempts Per Game</th>\n",
       "      <th>Average 2 Point % For Season</th>\n",
       "      <th>Free Throws Made Per Game</th>\n",
       "      <th>Free Throw Attempts Per Game</th>\n",
       "      <th>Average Free Throw % For Season</th>\n",
       "      <th>Offense Rebounds Per Game</th>\n",
       "      <th>Defense Rebounds Per Game</th>\n",
       "      <th>Total Rebounds Per Game</th>\n",
       "      <th>Assists Per Game</th>\n",
       "      <th>Steals Per Game</th>\n",
       "      <th>Blocks Per Game</th>\n",
       "      <th>Turnovers Per Game</th>\n",
       "      <th>Personal Fouls Per Game</th>\n",
       "      <th>Points Per Game</th>\n",
       "      <th>Year</th>\n",
       "    </tr>\n",
       "  </thead>\n",
       "  <tbody>\n",
       "    <tr>\n",
       "      <th>0</th>\n",
       "      <td>NaN</td>\n",
       "      <td>League Average</td>\n",
       "      <td>66</td>\n",
       "      <td>241.3000</td>\n",
       "      <td>42.3000</td>\n",
       "      <td>89.1000</td>\n",
       "      <td>0.4750</td>\n",
       "      <td>12.8000</td>\n",
       "      <td>35.0000</td>\n",
       "      <td>0.3670</td>\n",
       "      <td>29.5000</td>\n",
       "      <td>54.1000</td>\n",
       "      <td>0.5450</td>\n",
       "      <td>17.4000</td>\n",
       "      <td>22.2000</td>\n",
       "      <td>0.7830</td>\n",
       "      <td>10.6000</td>\n",
       "      <td>33.0000</td>\n",
       "      <td>43.6000</td>\n",
       "      <td>26.7000</td>\n",
       "      <td>7.4000</td>\n",
       "      <td>5.2000</td>\n",
       "      <td>13.6000</td>\n",
       "      <td>19.1000</td>\n",
       "      <td>114.8000</td>\n",
       "      <td>2024</td>\n",
       "    </tr>\n",
       "  </tbody>\n",
       "</table>\n",
       "</div>"
      ],
      "text/plain": [
       "   Rank            Team  Games Played  Minutes Played Per Game  \\\n",
       "0   NaN  League Average            66                 241.3000   \n",
       "\n",
       "   Field Goals Made Per Game  Field Goals Attempted Per Game  \\\n",
       "0                    42.3000                         89.1000   \n",
       "\n",
       "   Average Field Goal % For Season  3 Pointers Made Per Game  \\\n",
       "0                           0.4750                   12.8000   \n",
       "\n",
       "   3 Point Attempts Per Game  Average 3 Point % For Season  \\\n",
       "0                    35.0000                        0.3670   \n",
       "\n",
       "   2 Pointers Made Per Game  2 Point Attempts Per Game  \\\n",
       "0                   29.5000                    54.1000   \n",
       "\n",
       "   Average 2 Point % For Season  Free Throws Made Per Game  \\\n",
       "0                        0.5450                    17.4000   \n",
       "\n",
       "   Free Throw Attempts Per Game  Average Free Throw % For Season  \\\n",
       "0                       22.2000                           0.7830   \n",
       "\n",
       "   Offense Rebounds Per Game  Defense Rebounds Per Game  \\\n",
       "0                    10.6000                    33.0000   \n",
       "\n",
       "   Total Rebounds Per Game  Assists Per Game  Steals Per Game  \\\n",
       "0                  43.6000           26.7000           7.4000   \n",
       "\n",
       "   Blocks Per Game  Turnovers Per Game  Personal Fouls Per Game  \\\n",
       "0           5.2000             13.6000                  19.1000   \n",
       "\n",
       "   Points Per Game  Year  \n",
       "0         114.8000  2024  "
      ]
     },
     "execution_count": 211,
     "metadata": {},
     "output_type": "execute_result"
    }
   ],
   "source": [
    "# Define unique name for dataframe to insert into f-string\n",
    "unique_table_name = \"\"\n",
    "\n",
    "# Define name replacement dict\n",
    "name_replacement_dict = {\"Rk\":f\"{unique_table_name}Rank\",\n",
    "\"Player\":f\"{unique_table_name}Player\",\n",
    "\"Pos\":f\"{unique_table_name}Position\",\n",
    "\"Age\":f\"{unique_table_name}Age\",\n",
    "\"Team\":f\"{unique_table_name}Team\",\n",
    "\"G\":f\"{unique_table_name}Games Played\",\n",
    "\"GS\":f\"{unique_table_name}Games Started\",\n",
    "\"MP\":f\"{unique_table_name}Minutes Played Per Game\",\n",
    "\"FG\":f\"{unique_table_name}Field Goals Made Per Game\",\n",
    "\"FGA\":f\"{unique_table_name}Field Goals Attempted Per Game\",\n",
    "\"FG%\":f\"{unique_table_name}Average Field Goal % For Season\",\n",
    "\"3P\":f\"{unique_table_name}3 Pointers Made Per Game\",\n",
    "\"3PA\":f\"{unique_table_name}3 Point Attempts Per Game\",\n",
    "\"3P%\":f\"{unique_table_name}Average 3 Point % For Season\",\n",
    "\"2P\":f\"{unique_table_name}2 Pointers Made Per Game\",\n",
    "\"2PA\":f\"{unique_table_name}2 Point Attempts Per Game\",\n",
    "\"2P%\":f\"{unique_table_name}Average 2 Point % For Season\",\n",
    "\"eFG%\":f\"{unique_table_name}Average Effective Field Goal % For Season\",\n",
    "\"FT\":f\"{unique_table_name}Free Throws Made Per Game\",\n",
    "\"FTA\":f\"{unique_table_name}Free Throw Attempts Per Game\",\n",
    "\"FT%\":f\"{unique_table_name}Average Free Throw % For Season\",\n",
    "\"ORB\":f\"{unique_table_name}Offense Rebounds Per Game\",\n",
    "\"DRB\":f\"{unique_table_name}Defense Rebounds Per Game\",\n",
    "\"TRB\":f\"{unique_table_name}Total Rebounds Per Game\",\n",
    "\"AST\":f\"{unique_table_name}Assists Per Game\",\n",
    "\"STL\":f\"{unique_table_name}Steals Per Game\",\n",
    "\"BLK\":f\"{unique_table_name}Blocks Per Game\",\n",
    "\"TOV\":f\"{unique_table_name}Turnovers Per Game\",\n",
    "\"PF\":f\"{unique_table_name}Personal Fouls Per Game\",\n",
    "\"PTS\":f\"{unique_table_name}Points Per Game\",\n",
    "\"Year\":f\"{unique_table_name}Year\",\n",
    "\"Team Name Refined - accounts for players being traded\":f\"{unique_table_name}Team Name Refined - accounts for players being traded\",\n",
    "\"Standardized/Modernized Team Name\":f\"{unique_table_name}Standardized/Modernized Team Name\"}\n",
    "# Replace names in dataframe\n",
    "nba_team_basic_stat_in_regular_season_df.rename(name_replacement_dict,axis=1,inplace=True)\n",
    "\n",
    "# Check column names to make sure none desired to get rid of\n",
    "for column in nba_team_basic_stat_in_regular_season_df.columns:\n",
    "    \n",
    "    print(f\"\"\"\n",
    "    {column}\"\"\")\n",
    "\n",
    "nba_team_basic_stat_in_regular_season_df.head(1)\n"
   ]
  },
  {
   "cell_type": "markdown",
   "id": "50778384",
   "metadata": {},
   "source": [
    "### TEAM Regular Season Basic Opponent Stats"
   ]
  },
  {
   "cell_type": "code",
   "execution_count": 212,
   "id": "dff44434",
   "metadata": {},
   "outputs": [
    {
     "name": "stdout",
     "output_type": "stream",
     "text": [
      "\n",
      "    Team\n",
      "\n",
      "    Games Played\n",
      "\n",
      "    Minutes Played Per Game\n",
      "\n",
      "    Field Goals Made Per Game\n",
      "\n",
      "    Field Goals Attempted Per Game\n",
      "\n",
      "    Average Field Goal % For Season\n",
      "\n",
      "    3 Pointers Made Per Game\n",
      "\n",
      "    3 Point Attempts Per Game\n",
      "\n",
      "    Average 3 Point % For Season\n",
      "\n",
      "    2 Pointers Made Per Game\n",
      "\n",
      "    2 Point Attempts Per Game\n",
      "\n",
      "    Average 2 Point % For Season\n",
      "\n",
      "    Free Throws Made Per Game\n",
      "\n",
      "    Free Throw Attempts Per Game\n",
      "\n",
      "    Average Free Throw % For Season\n",
      "\n",
      "    Offense Rebounds Per Game\n",
      "\n",
      "    Defense Rebounds Per Game\n",
      "\n",
      "    Total Rebounds Per Game\n",
      "\n",
      "    Assists Per Game\n",
      "\n",
      "    Steals Per Game\n",
      "\n",
      "    Blocks Per Game\n",
      "\n",
      "    Turnovers Per Game\n",
      "\n",
      "    Personal Fouls Per Game\n",
      "\n",
      "    Points Per Game\n",
      "\n",
      "    Year\n"
     ]
    },
    {
     "data": {
      "text/html": [
       "<div>\n",
       "<style scoped>\n",
       "    .dataframe tbody tr th:only-of-type {\n",
       "        vertical-align: middle;\n",
       "    }\n",
       "\n",
       "    .dataframe tbody tr th {\n",
       "        vertical-align: top;\n",
       "    }\n",
       "\n",
       "    .dataframe thead th {\n",
       "        text-align: right;\n",
       "    }\n",
       "</style>\n",
       "<table border=\"1\" class=\"dataframe\">\n",
       "  <thead>\n",
       "    <tr style=\"text-align: right;\">\n",
       "      <th></th>\n",
       "      <th>Team</th>\n",
       "      <th>Games Played</th>\n",
       "      <th>Minutes Played Per Game</th>\n",
       "      <th>Field Goals Made Per Game</th>\n",
       "      <th>Field Goals Attempted Per Game</th>\n",
       "      <th>Average Field Goal % For Season</th>\n",
       "      <th>3 Pointers Made Per Game</th>\n",
       "      <th>3 Point Attempts Per Game</th>\n",
       "      <th>Average 3 Point % For Season</th>\n",
       "      <th>2 Pointers Made Per Game</th>\n",
       "      <th>2 Point Attempts Per Game</th>\n",
       "      <th>Average 2 Point % For Season</th>\n",
       "      <th>Free Throws Made Per Game</th>\n",
       "      <th>Free Throw Attempts Per Game</th>\n",
       "      <th>Average Free Throw % For Season</th>\n",
       "      <th>Offense Rebounds Per Game</th>\n",
       "      <th>Defense Rebounds Per Game</th>\n",
       "      <th>Total Rebounds Per Game</th>\n",
       "      <th>Assists Per Game</th>\n",
       "      <th>Steals Per Game</th>\n",
       "      <th>Blocks Per Game</th>\n",
       "      <th>Turnovers Per Game</th>\n",
       "      <th>Personal Fouls Per Game</th>\n",
       "      <th>Points Per Game</th>\n",
       "      <th>Year</th>\n",
       "    </tr>\n",
       "  </thead>\n",
       "  <tbody>\n",
       "    <tr>\n",
       "      <th>0</th>\n",
       "      <td>League Average</td>\n",
       "      <td>66</td>\n",
       "      <td>241.3000</td>\n",
       "      <td>42.3000</td>\n",
       "      <td>89.1000</td>\n",
       "      <td>0.4750</td>\n",
       "      <td>12.8000</td>\n",
       "      <td>35.0000</td>\n",
       "      <td>0.3670</td>\n",
       "      <td>29.5000</td>\n",
       "      <td>54.1000</td>\n",
       "      <td>0.5450</td>\n",
       "      <td>17.4000</td>\n",
       "      <td>22.2000</td>\n",
       "      <td>0.7830</td>\n",
       "      <td>10.6000</td>\n",
       "      <td>33.0000</td>\n",
       "      <td>43.6000</td>\n",
       "      <td>26.7000</td>\n",
       "      <td>7.4000</td>\n",
       "      <td>5.2000</td>\n",
       "      <td>13.6000</td>\n",
       "      <td>19.1000</td>\n",
       "      <td>114.8000</td>\n",
       "      <td>2024</td>\n",
       "    </tr>\n",
       "  </tbody>\n",
       "</table>\n",
       "</div>"
      ],
      "text/plain": [
       "             Team  Games Played  Minutes Played Per Game  \\\n",
       "0  League Average            66                 241.3000   \n",
       "\n",
       "   Field Goals Made Per Game  Field Goals Attempted Per Game  \\\n",
       "0                    42.3000                         89.1000   \n",
       "\n",
       "   Average Field Goal % For Season  3 Pointers Made Per Game  \\\n",
       "0                           0.4750                   12.8000   \n",
       "\n",
       "   3 Point Attempts Per Game  Average 3 Point % For Season  \\\n",
       "0                    35.0000                        0.3670   \n",
       "\n",
       "   2 Pointers Made Per Game  2 Point Attempts Per Game  \\\n",
       "0                   29.5000                    54.1000   \n",
       "\n",
       "   Average 2 Point % For Season  Free Throws Made Per Game  \\\n",
       "0                        0.5450                    17.4000   \n",
       "\n",
       "   Free Throw Attempts Per Game  Average Free Throw % For Season  \\\n",
       "0                       22.2000                           0.7830   \n",
       "\n",
       "   Offense Rebounds Per Game  Defense Rebounds Per Game  \\\n",
       "0                    10.6000                    33.0000   \n",
       "\n",
       "   Total Rebounds Per Game  Assists Per Game  Steals Per Game  \\\n",
       "0                  43.6000           26.7000           7.4000   \n",
       "\n",
       "   Blocks Per Game  Turnovers Per Game  Personal Fouls Per Game  \\\n",
       "0           5.2000             13.6000                  19.1000   \n",
       "\n",
       "   Points Per Game  Year  \n",
       "0         114.8000  2024  "
      ]
     },
     "execution_count": 212,
     "metadata": {},
     "output_type": "execute_result"
    }
   ],
   "source": [
    "# Define unique name for dataframe to insert into f-string\n",
    "unique_table_name = \"\"\n",
    "\n",
    "# Define name replacement dict\n",
    "name_replacement_dict = {\"Rk\":f\"{unique_table_name}Rank\",\n",
    "\"Player\":f\"{unique_table_name}Player\",\n",
    "\"Pos\":f\"{unique_table_name}Position\",\n",
    "\"Age\":f\"{unique_table_name}Age\",\n",
    "\"Team\":f\"{unique_table_name}Team\",\n",
    "\"G\":f\"{unique_table_name}Games Played\",\n",
    "\"GS\":f\"{unique_table_name}Games Started\",\n",
    "\"MP\":f\"{unique_table_name}Minutes Played Per Game\",\n",
    "\"FG\":f\"{unique_table_name}Field Goals Made Per Game\",\n",
    "\"FGA\":f\"{unique_table_name}Field Goals Attempted Per Game\",\n",
    "\"FG%\":f\"{unique_table_name}Average Field Goal % For Season\",\n",
    "\"3P\":f\"{unique_table_name}3 Pointers Made Per Game\",\n",
    "\"3PA\":f\"{unique_table_name}3 Point Attempts Per Game\",\n",
    "\"3P%\":f\"{unique_table_name}Average 3 Point % For Season\",\n",
    "\"2P\":f\"{unique_table_name}2 Pointers Made Per Game\",\n",
    "\"2PA\":f\"{unique_table_name}2 Point Attempts Per Game\",\n",
    "\"2P%\":f\"{unique_table_name}Average 2 Point % For Season\",\n",
    "\"eFG%\":f\"{unique_table_name}Average Effective Field Goal % For Season\",\n",
    "\"FT\":f\"{unique_table_name}Free Throws Made Per Game\",\n",
    "\"FTA\":f\"{unique_table_name}Free Throw Attempts Per Game\",\n",
    "\"FT%\":f\"{unique_table_name}Average Free Throw % For Season\",\n",
    "\"ORB\":f\"{unique_table_name}Offense Rebounds Per Game\",\n",
    "\"DRB\":f\"{unique_table_name}Defense Rebounds Per Game\",\n",
    "\"TRB\":f\"{unique_table_name}Total Rebounds Per Game\",\n",
    "\"AST\":f\"{unique_table_name}Assists Per Game\",\n",
    "\"STL\":f\"{unique_table_name}Steals Per Game\",\n",
    "\"BLK\":f\"{unique_table_name}Blocks Per Game\",\n",
    "\"TOV\":f\"{unique_table_name}Turnovers Per Game\",\n",
    "\"PF\":f\"{unique_table_name}Personal Fouls Per Game\",\n",
    "\"PTS\":f\"{unique_table_name}Points Per Game\",\n",
    "\"Year\":f\"{unique_table_name}Year\",\n",
    "\"Team Name Refined - accounts for players being traded\":f\"{unique_table_name}Team Name Refined - accounts for players being traded\",\n",
    "\"Standardized/Modernized Team Name\":f\"{unique_table_name}Standardized/Modernized Team Name\"}\n",
    "\n",
    "# Replace names in dataframe\n",
    "nba_team_basic_opponent_stat_in_regular_season_df.rename(name_replacement_dict,axis=1,inplace=True)\n",
    "\n",
    "# # Get rid of dataframes as desired\n",
    "list_of_columns_to_remove = [\"Rank\"]\n",
    "\n",
    "for item in list_of_columns_to_remove:\n",
    "    nba_team_basic_opponent_stat_in_regular_season_df = nba_team_basic_opponent_stat_in_regular_season_df.drop(item,axis=1)\n",
    "\n",
    "# Check column names to make sure none desired to get rid of\n",
    "for column in nba_team_basic_opponent_stat_in_regular_season_df.columns:\n",
    "    \n",
    "    print(f\"\"\"\n",
    "    {column}\"\"\")\n",
    "\n",
    "nba_team_basic_opponent_stat_in_regular_season_df.head(1)"
   ]
  },
  {
   "cell_type": "markdown",
   "id": "8d87e91d",
   "metadata": {},
   "source": [
    "### TEAM Regular Season Advanced Stats"
   ]
  },
  {
   "cell_type": "code",
   "execution_count": 213,
   "id": "82d2cda3",
   "metadata": {},
   "outputs": [
    {
     "name": "stdout",
     "output_type": "stream",
     "text": [
      "\n",
      "    Team\n",
      "\n",
      "    Average Player Age\n",
      "\n",
      "    Wins\n",
      "\n",
      "    Losses\n",
      "\n",
      "    Pythagorean Wins (expected wins based on points scored and allowed)\n",
      "\n",
      "    Pythagorean Losses (expected wins based on points scored and allowed)\n",
      "\n",
      "    Margin of Victory\n",
      "\n",
      "    Strength of schedule rating (positive is above average)\n",
      "\n",
      "    Simple rating system: derived using average point differential and strength of scheduled\n",
      "\n",
      "    Offensive Rating\n",
      "\n",
      "    Defensive Rating\n",
      "\n",
      "    Net Rating\n",
      "\n",
      "    Pace (Possessions per 48 Minutes)\n",
      "\n",
      "    Free Throw Attempts Per FG Attempt\n",
      "\n",
      "    3 Point Attempts Per FG Attempt\n",
      "\n",
      "    True Shooting %\n",
      "\n",
      "    Average Effective Field Goal % For Season\n",
      "\n",
      "    Turnover %\n",
      "\n",
      "    Offensive Rebounding %\n",
      "\n",
      "    Free Throws Made Per FG Attempt\n",
      "\n",
      "    Opponent Effective Field Goal %\n",
      "\n",
      "    Opponent Turnover %\n",
      "\n",
      "    Defensive Rebounding %\n",
      "\n",
      "    Opponent Field Goal Throws Per FG Attempt\n",
      "\n",
      "    Arena\n",
      "\n",
      "    Total Arena Attendance\n",
      "\n",
      "    Attendance Per Game\n",
      "\n",
      "    Year\n"
     ]
    },
    {
     "data": {
      "text/html": [
       "<div>\n",
       "<style scoped>\n",
       "    .dataframe tbody tr th:only-of-type {\n",
       "        vertical-align: middle;\n",
       "    }\n",
       "\n",
       "    .dataframe tbody tr th {\n",
       "        vertical-align: top;\n",
       "    }\n",
       "\n",
       "    .dataframe thead th {\n",
       "        text-align: right;\n",
       "    }\n",
       "</style>\n",
       "<table border=\"1\" class=\"dataframe\">\n",
       "  <thead>\n",
       "    <tr style=\"text-align: right;\">\n",
       "      <th></th>\n",
       "      <th>Team</th>\n",
       "      <th>Average Player Age</th>\n",
       "      <th>Wins</th>\n",
       "      <th>Losses</th>\n",
       "      <th>Pythagorean Wins (expected wins based on points scored and allowed)</th>\n",
       "      <th>Pythagorean Losses (expected wins based on points scored and allowed)</th>\n",
       "      <th>Margin of Victory</th>\n",
       "      <th>Strength of schedule rating (positive is above average)</th>\n",
       "      <th>Simple rating system: derived using average point differential and strength of scheduled</th>\n",
       "      <th>Offensive Rating</th>\n",
       "      <th>Defensive Rating</th>\n",
       "      <th>Net Rating</th>\n",
       "      <th>Pace (Possessions per 48 Minutes)</th>\n",
       "      <th>Free Throw Attempts Per FG Attempt</th>\n",
       "      <th>3 Point Attempts Per FG Attempt</th>\n",
       "      <th>True Shooting %</th>\n",
       "      <th>Average Effective Field Goal % For Season</th>\n",
       "      <th>Turnover %</th>\n",
       "      <th>Offensive Rebounding %</th>\n",
       "      <th>Free Throws Made Per FG Attempt</th>\n",
       "      <th>Opponent Effective Field Goal %</th>\n",
       "      <th>Opponent Turnover %</th>\n",
       "      <th>Defensive Rebounding %</th>\n",
       "      <th>Opponent Field Goal Throws Per FG Attempt</th>\n",
       "      <th>Arena</th>\n",
       "      <th>Total Arena Attendance</th>\n",
       "      <th>Attendance Per Game</th>\n",
       "      <th>Year</th>\n",
       "    </tr>\n",
       "  </thead>\n",
       "  <tbody>\n",
       "    <tr>\n",
       "      <th>0</th>\n",
       "      <td>League Average</td>\n",
       "      <td>26.6000</td>\n",
       "      <td>NaN</td>\n",
       "      <td>NaN</td>\n",
       "      <td>33</td>\n",
       "      <td>33</td>\n",
       "      <td>0.0000</td>\n",
       "      <td>0.0000</td>\n",
       "      <td>0.0000</td>\n",
       "      <td>115.6000</td>\n",
       "      <td>115.6000</td>\n",
       "      <td>NaN</td>\n",
       "      <td>98.8000</td>\n",
       "      <td>0.2490</td>\n",
       "      <td>0.3930</td>\n",
       "      <td>0.5810</td>\n",
       "      <td>0.5470</td>\n",
       "      <td>12.1000</td>\n",
       "      <td>24.3000</td>\n",
       "      <td>0.1950</td>\n",
       "      <td>0.5470</td>\n",
       "      <td>12.1000</td>\n",
       "      <td>75.7000</td>\n",
       "      <td>0.1950</td>\n",
       "      <td>NaN</td>\n",
       "      <td>605302.0000</td>\n",
       "      <td>18253.0000</td>\n",
       "      <td>2024</td>\n",
       "    </tr>\n",
       "  </tbody>\n",
       "</table>\n",
       "</div>"
      ],
      "text/plain": [
       "             Team  Average Player Age  Wins  Losses  \\\n",
       "0  League Average             26.6000   NaN     NaN   \n",
       "\n",
       "   Pythagorean Wins (expected wins based on points scored and allowed)  \\\n",
       "0                                                 33                     \n",
       "\n",
       "   Pythagorean Losses (expected wins based on points scored and allowed)  \\\n",
       "0                                                 33                       \n",
       "\n",
       "   Margin of Victory  Strength of schedule rating (positive is above average)  \\\n",
       "0             0.0000                                             0.0000         \n",
       "\n",
       "   Simple rating system: derived using average point differential and strength of scheduled  \\\n",
       "0                                             0.0000                                          \n",
       "\n",
       "   Offensive Rating  Defensive Rating  Net Rating  \\\n",
       "0          115.6000          115.6000         NaN   \n",
       "\n",
       "   Pace (Possessions per 48 Minutes)  Free Throw Attempts Per FG Attempt  \\\n",
       "0                            98.8000                              0.2490   \n",
       "\n",
       "   3 Point Attempts Per FG Attempt  True Shooting %  \\\n",
       "0                           0.3930           0.5810   \n",
       "\n",
       "   Average Effective Field Goal % For Season  Turnover %  \\\n",
       "0                                     0.5470     12.1000   \n",
       "\n",
       "   Offensive Rebounding %  Free Throws Made Per FG Attempt  \\\n",
       "0                 24.3000                           0.1950   \n",
       "\n",
       "   Opponent Effective Field Goal %  Opponent Turnover %  \\\n",
       "0                           0.5470              12.1000   \n",
       "\n",
       "   Defensive Rebounding %  Opponent Field Goal Throws Per FG Attempt Arena  \\\n",
       "0                 75.7000                                     0.1950   NaN   \n",
       "\n",
       "   Total Arena Attendance  Attendance Per Game  Year  \n",
       "0             605302.0000           18253.0000  2024  "
      ]
     },
     "execution_count": 213,
     "metadata": {},
     "output_type": "execute_result"
    }
   ],
   "source": [
    "# Define unique name for dataframe to insert into f-string\n",
    "unique_table_name = \"\"\n",
    "\n",
    "# Define name replacement dict\n",
    "name_replacement_dict = {\"Rk\":f\"{unique_table_name}Rank\",\n",
    "\"Age\":f\"{unique_table_name}Average Player Age\",\n",
    "\"Team\":f\"{unique_table_name}Team\",\n",
    "\n",
    "\"W\":f\"{unique_table_name}Wins\",\n",
    "\"L\":f\"{unique_table_name}Losses\",\n",
    "\"PW\":f\"{unique_table_name}Pythagorean Wins (expected wins based on points scored and allowed)\",\n",
    "\"PL\":f\"{unique_table_name}Pythagorean Losses (expected wins based on points scored and allowed)\",\n",
    "\"MOV\":f\"{unique_table_name}Margin of Victory\",\n",
    "\"SOS\":f\"{unique_table_name}Strength of schedule rating (positive is above average)\",\n",
    "\"SRS\":f\"{unique_table_name}Simple rating system: derived using average point differential and strength of scheduled\",\n",
    "\"ORtg\":f\"{unique_table_name}Offensive Rating\",\n",
    "\"DRtg\":f\"{unique_table_name}Defensive Rating\",\n",
    "\"NRtg\":f\"{unique_table_name}Net Rating\",\n",
    "\"Pace\":f\"{unique_table_name}Pace (Possessions per 48 Minutes)\",\n",
    "\"FTr\":f\"{unique_table_name}Free Throw Attempts Per FG Attempt\",\n",
    "\"3PAr\":f\"{unique_table_name}3 Point Attempts Per FG Attempt\",\n",
    "\"TS%\":f\"{unique_table_name}True Shooting %\",\n",
    "\"eFG%\":f\"{unique_table_name}Average Effective Field Goal % For Season\",\n",
    "\"TOV%\":f\"{unique_table_name}Turnover %\",\n",
    "\"ORB%\":f\"{unique_table_name}Offensive Rebounding %\",  \n",
    "                         \n",
    "\"FT/FGA\":f\"{unique_table_name}Free Throws Made Per FG Attempt\",\n",
    "\"eFG%.1\":f\"{unique_table_name}Opponent Effective Field Goal %\",\n",
    "\"TOV%.1\":f\"{unique_table_name}Opponent Turnover %\",\n",
    "\"DRB%\":f\"{unique_table_name}Defensive Rebounding %\",\n",
    "\"FT/FGA.1\":f\"{unique_table_name}Opponent Field Goal Throws Per FG Attempt\",\n",
    "\"Arena\":f\"{unique_table_name}Arena\",\n",
    "\"Attend.\":f\"{unique_table_name}Total Arena Attendance\",\n",
    "\"Attend./G\":f\"{unique_table_name}Attendance Per Game\",\n",
    "\n",
    "\"Year\":f\"{unique_table_name}Year\",\n",
    "\"Team Name Refined - accounts for players being traded\":f\"{unique_table_name}Team Name Refined - accounts for players being traded\",\n",
    "\"Standardized/Modernized Team Name\":f\"{unique_table_name}Standardized/Modernized Team Name\"}\n",
    "\n",
    "# Replace names in dataframe\n",
    "nba_advanced_team_stats.rename(name_replacement_dict,axis=1,inplace=True)\n",
    "\n",
    "# # Get rid of dataframes as desired\n",
    "list_of_columns_to_remove = ['Unnamed: 17','Unnamed: 22','Unnamed: 27', \"Rank\"]\n",
    "\n",
    "for item in list_of_columns_to_remove:\n",
    "    nba_advanced_team_stats = nba_advanced_team_stats.drop(item,axis=1)\n",
    "\n",
    "\n",
    "# Check column names to make sure none desired to get rid of\n",
    "for column in nba_advanced_team_stats.columns:\n",
    "    \n",
    "    print(f\"\"\"\n",
    "    {column}\"\"\")\n",
    "\n",
    "nba_advanced_team_stats.head(1)"
   ]
  },
  {
   "cell_type": "markdown",
   "id": "f4568011",
   "metadata": {},
   "source": [
    "### TEAM Regular Season Shooting Stats"
   ]
  },
  {
   "cell_type": "code",
   "execution_count": 214,
   "id": "ffbf4806",
   "metadata": {},
   "outputs": [
    {
     "name": "stdout",
     "output_type": "stream",
     "text": [
      "\n",
      "    Team\n",
      "\n",
      "    Games Played\n",
      "\n",
      "    Total Minutes Played During Season\n",
      "\n",
      "    Field Goal %\n",
      "\n",
      "    Average distance of shot\n",
      "\n",
      "    2 Pointer Attempt Rate For Season as % of total field goals attempted\n",
      "\n",
      "    % of FGA between 0-3 ft.\n",
      "\n",
      "    % of FGA between 3-10 ft.\n",
      "\n",
      "    % of FGA between 10-16 ft.\n",
      "\n",
      "    % of FGA between 16-3P ft.\n",
      "\n",
      "    3 Pointer Attempt Rate For Season as % of total field goals attempted\n",
      "\n",
      "    FG % of 2 Point Attempts\n",
      "\n",
      "    FG % of Attempts between 0-3 ft.\n",
      "\n",
      "    FG % of Attempts between 3-10 ft.\n",
      "\n",
      "    FG % of Attempts between 10-16 ft.\n",
      "\n",
      "    FG % of Attempts between 16-3P ft.\n",
      "\n",
      "    FG % of 3 Point Attempts\n",
      "\n",
      "    % of Made 2 Point Fields Goals That Were Assisted\n",
      "\n",
      "    % of Made 3 Point Fields Goals That Were Assisted\n",
      "\n",
      "    % of Field Goal attempts that are dunk attempts\n",
      "\n",
      "    Number of made dunk attempts\n",
      "\n",
      "    % of Field Goal attempts that are layups\n",
      "\n",
      "    # of made layups\n",
      "\n",
      "    % of 3 Point Attempts that come from the corner\n",
      "\n",
      "    % of 3 Point corner attempts that are made\n",
      "\n",
      "    Heave Attempts\n",
      "\n",
      "    Number of made heaves\n",
      "\n",
      "    Year\n"
     ]
    },
    {
     "data": {
      "text/html": [
       "<div>\n",
       "<style scoped>\n",
       "    .dataframe tbody tr th:only-of-type {\n",
       "        vertical-align: middle;\n",
       "    }\n",
       "\n",
       "    .dataframe tbody tr th {\n",
       "        vertical-align: top;\n",
       "    }\n",
       "\n",
       "    .dataframe thead th {\n",
       "        text-align: right;\n",
       "    }\n",
       "</style>\n",
       "<table border=\"1\" class=\"dataframe\">\n",
       "  <thead>\n",
       "    <tr style=\"text-align: right;\">\n",
       "      <th></th>\n",
       "      <th>Team</th>\n",
       "      <th>Games Played</th>\n",
       "      <th>Total Minutes Played During Season</th>\n",
       "      <th>Field Goal %</th>\n",
       "      <th>Average distance of shot</th>\n",
       "      <th>2 Pointer Attempt Rate For Season as % of total field goals attempted</th>\n",
       "      <th>% of FGA between 0-3 ft.</th>\n",
       "      <th>% of FGA between 3-10 ft.</th>\n",
       "      <th>% of FGA between 10-16 ft.</th>\n",
       "      <th>% of FGA between 16-3P ft.</th>\n",
       "      <th>3 Pointer Attempt Rate For Season as % of total field goals attempted</th>\n",
       "      <th>FG % of 2 Point Attempts</th>\n",
       "      <th>FG % of Attempts between 0-3 ft.</th>\n",
       "      <th>FG % of Attempts between 3-10 ft.</th>\n",
       "      <th>FG % of Attempts between 10-16 ft.</th>\n",
       "      <th>FG % of Attempts between 16-3P ft.</th>\n",
       "      <th>FG % of 3 Point Attempts</th>\n",
       "      <th>% of Made 2 Point Fields Goals That Were Assisted</th>\n",
       "      <th>% of Made 3 Point Fields Goals That Were Assisted</th>\n",
       "      <th>% of Field Goal attempts that are dunk attempts</th>\n",
       "      <th>Number of made dunk attempts</th>\n",
       "      <th>% of Field Goal attempts that are layups</th>\n",
       "      <th># of made layups</th>\n",
       "      <th>% of 3 Point Attempts that come from the corner</th>\n",
       "      <th>% of 3 Point corner attempts that are made</th>\n",
       "      <th>Heave Attempts</th>\n",
       "      <th>Number of made heaves</th>\n",
       "      <th>Year</th>\n",
       "    </tr>\n",
       "  </thead>\n",
       "  <tbody>\n",
       "    <tr>\n",
       "      <th>0</th>\n",
       "      <td>League Average</td>\n",
       "      <td>66</td>\n",
       "      <td>16008</td>\n",
       "      <td>0.4750</td>\n",
       "      <td>14.0000</td>\n",
       "      <td>0.6070</td>\n",
       "      <td>0.2430</td>\n",
       "      <td>0.2110</td>\n",
       "      <td>0.0950</td>\n",
       "      <td>0.0580</td>\n",
       "      <td>0.3930</td>\n",
       "      <td>0.5450</td>\n",
       "      <td>0.6960</td>\n",
       "      <td>0.4540</td>\n",
       "      <td>0.4430</td>\n",
       "      <td>0.4080</td>\n",
       "      <td>0.3670</td>\n",
       "      <td>0.5370</td>\n",
       "      <td>0.8440</td>\n",
       "      <td>0.0600</td>\n",
       "      <td>315</td>\n",
       "      <td>0.2760</td>\n",
       "      <td>924</td>\n",
       "      <td>0.2420</td>\n",
       "      <td>0.3950</td>\n",
       "      <td>11.4000</td>\n",
       "      <td>0.2000</td>\n",
       "      <td>2024</td>\n",
       "    </tr>\n",
       "  </tbody>\n",
       "</table>\n",
       "</div>"
      ],
      "text/plain": [
       "             Team  Games Played  Total Minutes Played During Season  \\\n",
       "0  League Average            66                               16008   \n",
       "\n",
       "   Field Goal %  Average distance of shot  \\\n",
       "0        0.4750                   14.0000   \n",
       "\n",
       "   2 Pointer Attempt Rate For Season as % of total field goals attempted  \\\n",
       "0                                             0.6070                       \n",
       "\n",
       "   % of FGA between 0-3 ft.  % of FGA between 3-10 ft.  \\\n",
       "0                    0.2430                     0.2110   \n",
       "\n",
       "   % of FGA between 10-16 ft.  % of FGA between 16-3P ft.  \\\n",
       "0                      0.0950                      0.0580   \n",
       "\n",
       "   3 Pointer Attempt Rate For Season as % of total field goals attempted  \\\n",
       "0                                             0.3930                       \n",
       "\n",
       "   FG % of 2 Point Attempts  FG % of Attempts between 0-3 ft.  \\\n",
       "0                    0.5450                            0.6960   \n",
       "\n",
       "   FG % of Attempts between 3-10 ft.  FG % of Attempts between 10-16 ft.  \\\n",
       "0                             0.4540                              0.4430   \n",
       "\n",
       "   FG % of Attempts between 16-3P ft.  FG % of 3 Point Attempts  \\\n",
       "0                              0.4080                    0.3670   \n",
       "\n",
       "   % of Made 2 Point Fields Goals That Were Assisted  \\\n",
       "0                                             0.5370   \n",
       "\n",
       "   % of Made 3 Point Fields Goals That Were Assisted  \\\n",
       "0                                             0.8440   \n",
       "\n",
       "   % of Field Goal attempts that are dunk attempts  \\\n",
       "0                                           0.0600   \n",
       "\n",
       "   Number of made dunk attempts  % of Field Goal attempts that are layups  \\\n",
       "0                           315                                    0.2760   \n",
       "\n",
       "   # of made layups  % of 3 Point Attempts that come from the corner  \\\n",
       "0               924                                           0.2420   \n",
       "\n",
       "   % of 3 Point corner attempts that are made  Heave Attempts  \\\n",
       "0                                      0.3950         11.4000   \n",
       "\n",
       "   Number of made heaves  Year  \n",
       "0                 0.2000  2024  "
      ]
     },
     "execution_count": 214,
     "metadata": {},
     "output_type": "execute_result"
    }
   ],
   "source": [
    "# Define unique name for dataframe to insert into f-string\n",
    "unique_table_name = \"\"\n",
    "\n",
    "# Define name replacement dict\n",
    "name_replacement_dict = {\"Rk\":f\"{unique_table_name}Rank\",\n",
    "\"Player\":f\"{unique_table_name}Player\",\n",
    "\"Pos\":f\"{unique_table_name}Position\",\n",
    "\"Age\":f\"{unique_table_name}Age\",\n",
    "\"Team\":f\"{unique_table_name}Team\",\n",
    "\"G\":f\"{unique_table_name}Games Played\",\n",
    "'MP':f'{unique_table_name}Total Minutes Played During Season',\n",
    "'FG%':f'{unique_table_name}Field Goal %',\n",
    "'Dist.':f'{unique_table_name}Average distance of shot',                         \n",
    "'2P':f'{unique_table_name}2 Pointer Attempt Rate For Season as % of total field goals attempted',\n",
    "'0-3':f'{unique_table_name}% of FGA between 0-3 ft.',\n",
    "'3-10':f'{unique_table_name}% of FGA between 3-10 ft.',                         \n",
    "'10-16':f'{unique_table_name}% of FGA between 10-16 ft.',\n",
    "'16-3P':f'{unique_table_name}% of FGA between 16-3P ft.',\n",
    "'3P':f'{unique_table_name}3 Pointer Attempt Rate For Season as % of total field goals attempted',\n",
    "'2P.1':f'{unique_table_name}FG % of 2 Point Attempts',\n",
    "'0-3.1':f'{unique_table_name}FG % of Attempts between 0-3 ft.',\n",
    "'3-10.1':f'{unique_table_name}FG % of Attempts between 3-10 ft.',                         \n",
    "'10-16.1':f'{unique_table_name}FG % of Attempts between 10-16 ft.',\n",
    "'16-3P.1':f'{unique_table_name}FG % of Attempts between 16-3P ft.',\n",
    "'3P.1':f'{unique_table_name}FG % of 3 Point Attempts',                       \n",
    "'2P.2':f'{unique_table_name}% of Made 2 Point Fields Goals That Were Assisted',                         \n",
    "'3P.2':f'{unique_table_name}% of Made 3 Point Fields Goals That Were Assisted',\n",
    "'%FGA':f'{unique_table_name}% of Field Goal attempts that are dunk attempts',\n",
    "'Md.':f'{unique_table_name}Number of made dunk attempts',\n",
    " \n",
    "'%FGA.1':f'{unique_table_name}% of Field Goal attempts that are layups',   \n",
    "'Md..1':f'{unique_table_name}# of made layups',                         \n",
    "                         \n",
    "'%3PA':f'{unique_table_name}% of 3 Point Attempts that come from the corner',\n",
    "'3P%':f'{unique_table_name}% of 3 Point corner attempts that are made',\n",
    "'Att.':f'{unique_table_name}Heave Attempts',\n",
    "'Md..2':f'{unique_table_name}Number of made heaves',                     \n",
    "\"Year\":f\"{unique_table_name}Year\",\n",
    "\"Team Name Refined - accounts for players being traded\":f\"{unique_table_name}Team Name Refined - accounts for players being traded\",\n",
    "\"Standardized/Modernized Team Name\":f\"{unique_table_name}Standardized/Modernized Team Name\"}\n",
    "\n",
    "# Replace names in dataframe\n",
    "nba_team_shooting_stat_in_regular_season_df.rename(name_replacement_dict,axis=1,inplace=True)\n",
    "\n",
    "# Get rid of dataframes as desired\n",
    "list_of_columns_to_remove = ['Unnamed: 6','Unnamed: 13','Unnamed: 20','Unnamed: 23','Unnamed: 26','Unnamed: 29','Unnamed: 32', \"Rank\"]\n",
    "\n",
    "for item in list_of_columns_to_remove:\n",
    "    nba_team_shooting_stat_in_regular_season_df = nba_team_shooting_stat_in_regular_season_df.drop(item,axis=1)\n",
    "\n",
    "# Check column names to make sure none desired to get rid of\n",
    "for column in nba_team_shooting_stat_in_regular_season_df.columns:\n",
    "    \n",
    "    print(f\"\"\"\n",
    "    {column}\"\"\")\n",
    "\n",
    "nba_team_shooting_stat_in_regular_season_df.head(1)"
   ]
  },
  {
   "cell_type": "markdown",
   "id": "bad6bf42",
   "metadata": {},
   "source": [
    "### TEAM Opponent Regular Season Shooting Stats"
   ]
  },
  {
   "cell_type": "code",
   "execution_count": 215,
   "id": "f85e87db",
   "metadata": {
    "scrolled": true
   },
   "outputs": [
    {
     "name": "stdout",
     "output_type": "stream",
     "text": [
      "\n",
      "    Team\n",
      "\n",
      "    Games Played\n",
      "\n",
      "    Total Minutes Played During Season\n",
      "\n",
      "    Field Goal %\n",
      "\n",
      "    Average distance of shot\n",
      "\n",
      "    2 Pointer Attempt Rate For Season as % of total field goals attempted\n",
      "\n",
      "    % of FGA between 0-3 ft.\n",
      "\n",
      "    % of FGA between 3-10 ft.\n",
      "\n",
      "    % of FGA between 10-16 ft.\n",
      "\n",
      "    % of FGA between 16-3P ft.\n",
      "\n",
      "    3 Pointer Attempt Rate For Season as % of total field goals attempted\n",
      "\n",
      "    FG % of 2 Point Attempts\n",
      "\n",
      "    FG % of Attempts between 0-3 ft.\n",
      "\n",
      "    FG % of Attempts between 3-10 ft.\n",
      "\n",
      "    FG % of Attempts between 10-16 ft.\n",
      "\n",
      "    FG % of Attempts between 16-3P ft.\n",
      "\n",
      "    FG % of 3 Point Attempts\n",
      "\n",
      "    % of Made 2 Point Fields Goals That Were Assisted\n",
      "\n",
      "    % of Made 3 Point Fields Goals That Were Assisted\n",
      "\n",
      "    % of Field Goal attempts that are dunk attempts\n",
      "\n",
      "    Number of made dunk attempts\n",
      "\n",
      "    % of Field Goal attempts that are layups\n",
      "\n",
      "    # of made layups\n",
      "\n",
      "    % of 3 Point Attempts that come from the corner\n",
      "\n",
      "    % of 3 Point corner attempts that are made\n",
      "\n",
      "    Year\n"
     ]
    },
    {
     "data": {
      "text/html": [
       "<div>\n",
       "<style scoped>\n",
       "    .dataframe tbody tr th:only-of-type {\n",
       "        vertical-align: middle;\n",
       "    }\n",
       "\n",
       "    .dataframe tbody tr th {\n",
       "        vertical-align: top;\n",
       "    }\n",
       "\n",
       "    .dataframe thead th {\n",
       "        text-align: right;\n",
       "    }\n",
       "</style>\n",
       "<table border=\"1\" class=\"dataframe\">\n",
       "  <thead>\n",
       "    <tr style=\"text-align: right;\">\n",
       "      <th></th>\n",
       "      <th>Team</th>\n",
       "      <th>Games Played</th>\n",
       "      <th>Total Minutes Played During Season</th>\n",
       "      <th>Field Goal %</th>\n",
       "      <th>Average distance of shot</th>\n",
       "      <th>2 Pointer Attempt Rate For Season as % of total field goals attempted</th>\n",
       "      <th>% of FGA between 0-3 ft.</th>\n",
       "      <th>% of FGA between 3-10 ft.</th>\n",
       "      <th>% of FGA between 10-16 ft.</th>\n",
       "      <th>% of FGA between 16-3P ft.</th>\n",
       "      <th>3 Pointer Attempt Rate For Season as % of total field goals attempted</th>\n",
       "      <th>FG % of 2 Point Attempts</th>\n",
       "      <th>FG % of Attempts between 0-3 ft.</th>\n",
       "      <th>FG % of Attempts between 3-10 ft.</th>\n",
       "      <th>FG % of Attempts between 10-16 ft.</th>\n",
       "      <th>FG % of Attempts between 16-3P ft.</th>\n",
       "      <th>FG % of 3 Point Attempts</th>\n",
       "      <th>% of Made 2 Point Fields Goals That Were Assisted</th>\n",
       "      <th>% of Made 3 Point Fields Goals That Were Assisted</th>\n",
       "      <th>% of Field Goal attempts that are dunk attempts</th>\n",
       "      <th>Number of made dunk attempts</th>\n",
       "      <th>% of Field Goal attempts that are layups</th>\n",
       "      <th># of made layups</th>\n",
       "      <th>% of 3 Point Attempts that come from the corner</th>\n",
       "      <th>% of 3 Point corner attempts that are made</th>\n",
       "      <th>Year</th>\n",
       "    </tr>\n",
       "  </thead>\n",
       "  <tbody>\n",
       "    <tr>\n",
       "      <th>0</th>\n",
       "      <td>League Average</td>\n",
       "      <td>66</td>\n",
       "      <td>16008</td>\n",
       "      <td>0.4750</td>\n",
       "      <td>14.0000</td>\n",
       "      <td>0.6070</td>\n",
       "      <td>0.2430</td>\n",
       "      <td>0.2110</td>\n",
       "      <td>0.0950</td>\n",
       "      <td>0.0580</td>\n",
       "      <td>0.3930</td>\n",
       "      <td>0.5450</td>\n",
       "      <td>0.6960</td>\n",
       "      <td>0.4540</td>\n",
       "      <td>0.4430</td>\n",
       "      <td>0.4080</td>\n",
       "      <td>0.3670</td>\n",
       "      <td>0.5370</td>\n",
       "      <td>0.8440</td>\n",
       "      <td>0.0600</td>\n",
       "      <td>315</td>\n",
       "      <td>0.2760</td>\n",
       "      <td>924</td>\n",
       "      <td>0.2420</td>\n",
       "      <td>0.3950</td>\n",
       "      <td>2024</td>\n",
       "    </tr>\n",
       "  </tbody>\n",
       "</table>\n",
       "</div>"
      ],
      "text/plain": [
       "             Team  Games Played  Total Minutes Played During Season  \\\n",
       "0  League Average            66                               16008   \n",
       "\n",
       "   Field Goal %  Average distance of shot  \\\n",
       "0        0.4750                   14.0000   \n",
       "\n",
       "   2 Pointer Attempt Rate For Season as % of total field goals attempted  \\\n",
       "0                                             0.6070                       \n",
       "\n",
       "   % of FGA between 0-3 ft.  % of FGA between 3-10 ft.  \\\n",
       "0                    0.2430                     0.2110   \n",
       "\n",
       "   % of FGA between 10-16 ft.  % of FGA between 16-3P ft.  \\\n",
       "0                      0.0950                      0.0580   \n",
       "\n",
       "   3 Pointer Attempt Rate For Season as % of total field goals attempted  \\\n",
       "0                                             0.3930                       \n",
       "\n",
       "   FG % of 2 Point Attempts  FG % of Attempts between 0-3 ft.  \\\n",
       "0                    0.5450                            0.6960   \n",
       "\n",
       "   FG % of Attempts between 3-10 ft.  FG % of Attempts between 10-16 ft.  \\\n",
       "0                             0.4540                              0.4430   \n",
       "\n",
       "   FG % of Attempts between 16-3P ft.  FG % of 3 Point Attempts  \\\n",
       "0                              0.4080                    0.3670   \n",
       "\n",
       "   % of Made 2 Point Fields Goals That Were Assisted  \\\n",
       "0                                             0.5370   \n",
       "\n",
       "   % of Made 3 Point Fields Goals That Were Assisted  \\\n",
       "0                                             0.8440   \n",
       "\n",
       "   % of Field Goal attempts that are dunk attempts  \\\n",
       "0                                           0.0600   \n",
       "\n",
       "   Number of made dunk attempts  % of Field Goal attempts that are layups  \\\n",
       "0                           315                                    0.2760   \n",
       "\n",
       "   # of made layups  % of 3 Point Attempts that come from the corner  \\\n",
       "0               924                                           0.2420   \n",
       "\n",
       "   % of 3 Point corner attempts that are made  Year  \n",
       "0                                      0.3950  2024  "
      ]
     },
     "execution_count": 215,
     "metadata": {},
     "output_type": "execute_result"
    }
   ],
   "source": [
    "# Define unique name for dataframe to insert into f-string\n",
    "unique_table_name = \"\"\n",
    "\n",
    "# Define name replacement dict\n",
    "name_replacement_dict = {\"Rk\":f\"{unique_table_name}Rank\",\n",
    "\"Player\":f\"{unique_table_name}Player\",\n",
    "\"Pos\":f\"{unique_table_name}Position\",\n",
    "\"Age\":f\"{unique_table_name}Age\",\n",
    "\"Team\":f\"{unique_table_name}Team\",\n",
    "\"G\":f\"{unique_table_name}Games Played\",\n",
    "'MP':f'{unique_table_name}Total Minutes Played During Season',\n",
    "'FG%':f'{unique_table_name}Field Goal %',\n",
    "'Dist.':f'{unique_table_name}Average distance of shot',                         \n",
    "'2P':f'{unique_table_name}2 Pointer Attempt Rate For Season as % of total field goals attempted',\n",
    "'0-3':f'{unique_table_name}% of FGA between 0-3 ft.',\n",
    "'3-10':f'{unique_table_name}% of FGA between 3-10 ft.',                         \n",
    "'10-16':f'{unique_table_name}% of FGA between 10-16 ft.',\n",
    "'16-3P':f'{unique_table_name}% of FGA between 16-3P ft.',\n",
    "'3P':f'{unique_table_name}3 Pointer Attempt Rate For Season as % of total field goals attempted',\n",
    "'2P.1':f'{unique_table_name}FG % of 2 Point Attempts',\n",
    "'0-3.1':f'{unique_table_name}FG % of Attempts between 0-3 ft.',\n",
    "'3-10.1':f'{unique_table_name}FG % of Attempts between 3-10 ft.',                         \n",
    "'10-16.1':f'{unique_table_name}FG % of Attempts between 10-16 ft.',\n",
    "'16-3P.1':f'{unique_table_name}FG % of Attempts between 16-3P ft.',\n",
    "'3P.1':f'{unique_table_name}FG % of 3 Point Attempts',                       \n",
    "'2P.2':f'{unique_table_name}% of Made 2 Point Fields Goals That Were Assisted',                         \n",
    "'3P.2':f'{unique_table_name}% of Made 3 Point Fields Goals That Were Assisted',\n",
    "'%FGA':f'{unique_table_name}% of Field Goal attempts that are dunk attempts',\n",
    "'Md.':f'{unique_table_name}Number of made dunk attempts',\n",
    " \n",
    "'%FGA.1':f'{unique_table_name}% of Field Goal attempts that are layups',   \n",
    "'Md..1':f'{unique_table_name}# of made layups',                         \n",
    "                         \n",
    "'%3PA':f'{unique_table_name}% of 3 Point Attempts that come from the corner',\n",
    "'3P%':f'{unique_table_name}% of 3 Point corner attempts that are made',\n",
    "'Att.':f'{unique_table_name}Heave Attempts',\n",
    "'Md..2':f'{unique_table_name}Number of made heaves',                     \n",
    "\"Year\":f\"{unique_table_name}Year\",\n",
    "\"Team Name Refined - accounts for players being traded\":f\"{unique_table_name}Team Name Refined - accounts for players being traded\",\n",
    "\"Standardized/Modernized Team Name\":f\"{unique_table_name}Standardized/Modernized Team Name\"}\n",
    "\n",
    "# Replace names in dataframe\n",
    "nba_team_opponent_shooting_stat_in_regular_season_df.rename(name_replacement_dict,axis=1,inplace=True)\n",
    "\n",
    "# Get rid of dataframes as desired\n",
    "list_of_columns_to_remove = ['Unnamed: 6','Unnamed: 13','Unnamed: 20','Unnamed: 23','Unnamed: 26','Unnamed: 29', \"Rank\"]\n",
    "\n",
    "for item in list_of_columns_to_remove:\n",
    "    nba_team_opponent_shooting_stat_in_regular_season_df = nba_team_opponent_shooting_stat_in_regular_season_df.drop(item,axis=1)\n",
    "\n",
    "# Check column names to make sure none desired to get rid of\n",
    "for column in nba_team_opponent_shooting_stat_in_regular_season_df.columns:\n",
    "    \n",
    "    print(f\"\"\"\n",
    "    {column}\"\"\")\n",
    "\n",
    "nba_team_opponent_shooting_stat_in_regular_season_df.head(1)"
   ]
  },
  {
   "cell_type": "markdown",
   "id": "edb9522b",
   "metadata": {},
   "source": [
    "### TEAM Regular Season Standings"
   ]
  },
  {
   "cell_type": "code",
   "execution_count": 216,
   "id": "7581e8c4",
   "metadata": {},
   "outputs": [
    {
     "name": "stdout",
     "output_type": "stream",
     "text": [
      "\n",
      "    Team\n",
      "\n",
      "    Overall Team Record\n",
      "\n",
      "    Team Record at Home\n",
      "\n",
      "    Team Record on Road\n",
      "\n",
      "    Team Record Pre All Star Break\n",
      "\n",
      "    Team Record Post All Star Break\n",
      "\n",
      "    Team Record in Games Decided by 3 points or under\n",
      "\n",
      "    Team Record in Games Decided by 10 points or over\n",
      "\n",
      "    Year\n"
     ]
    },
    {
     "data": {
      "text/html": [
       "<div>\n",
       "<style scoped>\n",
       "    .dataframe tbody tr th:only-of-type {\n",
       "        vertical-align: middle;\n",
       "    }\n",
       "\n",
       "    .dataframe tbody tr th {\n",
       "        vertical-align: top;\n",
       "    }\n",
       "\n",
       "    .dataframe thead th {\n",
       "        text-align: right;\n",
       "    }\n",
       "</style>\n",
       "<table border=\"1\" class=\"dataframe\">\n",
       "  <thead>\n",
       "    <tr style=\"text-align: right;\">\n",
       "      <th></th>\n",
       "      <th>Team</th>\n",
       "      <th>Overall Team Record</th>\n",
       "      <th>Team Record at Home</th>\n",
       "      <th>Team Record on Road</th>\n",
       "      <th>Team Record Pre All Star Break</th>\n",
       "      <th>Team Record Post All Star Break</th>\n",
       "      <th>Team Record in Games Decided by 3 points or under</th>\n",
       "      <th>Team Record in Games Decided by 10 points or over</th>\n",
       "      <th>Year</th>\n",
       "    </tr>\n",
       "  </thead>\n",
       "  <tbody>\n",
       "    <tr>\n",
       "      <th>0</th>\n",
       "      <td>Washington Wizards</td>\n",
       "      <td>11-55</td>\n",
       "      <td>4-26</td>\n",
       "      <td>7-29</td>\n",
       "      <td>9-45</td>\n",
       "      <td>2-10</td>\n",
       "      <td>2-3</td>\n",
       "      <td>6-30</td>\n",
       "      <td>2024</td>\n",
       "    </tr>\n",
       "  </tbody>\n",
       "</table>\n",
       "</div>"
      ],
      "text/plain": [
       "                 Team Overall Team Record Team Record at Home  \\\n",
       "0  Washington Wizards               11-55                4-26   \n",
       "\n",
       "  Team Record on Road Team Record Pre All Star Break  \\\n",
       "0                7-29                           9-45   \n",
       "\n",
       "  Team Record Post All Star Break  \\\n",
       "0                            2-10   \n",
       "\n",
       "  Team Record in Games Decided by 3 points or under  \\\n",
       "0                                               2-3   \n",
       "\n",
       "  Team Record in Games Decided by 10 points or over  Year  \n",
       "0                                              6-30  2024  "
      ]
     },
     "execution_count": 216,
     "metadata": {},
     "output_type": "execute_result"
    }
   ],
   "source": [
    "# Define unique name for dataframe to insert into f-string\n",
    "unique_table_name = \"\"\n",
    "\n",
    "# Define name replacement dict\n",
    "name_replacement_dict = {\"Rk\":f\"{unique_table_name}Rank\",\n",
    "\"Team\":f\"{unique_table_name}Team\",\n",
    "\"Overall\":f\"{unique_table_name}Overall Team Record\",\n",
    "\"Home\":f\"{unique_table_name}Team Record at Home\",\n",
    "\"Road\":f\"{unique_table_name}Team Record on Road\",  \n",
    "\"Pre\":f\"{unique_table_name}Team Record Pre All Star Break\",\n",
    "\"Post\":f\"{unique_table_name}Team Record Post All Star Break\",\n",
    "\"≤3\":f\"{unique_table_name}Team Record in Games Decided by 3 points or under\",\n",
    "\"≥10\":f\"{unique_table_name}Team Record in Games Decided by 10 points or over\",                                                \n",
    "\"Year\":f\"{unique_table_name}Year\",\n",
    "\"Team Name Refined - accounts for players being traded\":f\"{unique_table_name}Team Name Refined - accounts for players being traded\",\n",
    "\"Standardized/Modernized Team Name\":f\"{unique_table_name}Standardized/Modernized Team Name\"}\n",
    "\n",
    "# Replace names in dataframe\n",
    "regular_season_standing_df.rename(name_replacement_dict,axis=1,inplace=True)\n",
    "\n",
    "# Get rid of dataframes as desired\n",
    "list_of_columns_to_remove = [\"Rank\"]\n",
    "\n",
    "for item in list_of_columns_to_remove:\n",
    "    regular_season_standing_df = regular_season_standing_df.drop(item,axis=1)\n",
    "\n",
    "# Check column names to make sure none desired to get rid of\n",
    "for column in regular_season_standing_df.columns:\n",
    "    \n",
    "    print(f\"\"\"\n",
    "    {column}\"\"\")\n",
    "\n",
    "regular_season_standing_df.head(1)"
   ]
  },
  {
   "cell_type": "markdown",
   "id": "eb0dadfe",
   "metadata": {},
   "source": [
    "## TEAM PLAYOFFS STATS"
   ]
  },
  {
   "cell_type": "markdown",
   "id": "df1dbfdc",
   "metadata": {},
   "source": [
    "### TEAM Playoffs Basic Stats"
   ]
  },
  {
   "cell_type": "code",
   "execution_count": 217,
   "id": "dc9e2f90",
   "metadata": {},
   "outputs": [
    {
     "name": "stdout",
     "output_type": "stream",
     "text": [
      "\n",
      "    Team\n",
      "\n",
      "    Games Played\n",
      "\n",
      "    Minutes Played Per Game\n",
      "\n",
      "    Field Goals Made Per Game\n",
      "\n",
      "    Field Goals Attempted Per Game\n",
      "\n",
      "    Average Field Goal % For Season\n",
      "\n",
      "    3 Pointers Made Per Game\n",
      "\n",
      "    3 Point Attempts Per Game\n",
      "\n",
      "    Average 3 Point % For Season\n",
      "\n",
      "    2 Pointers Made Per Game\n",
      "\n",
      "    2 Point Attempts Per Game\n",
      "\n",
      "    Average 2 Point % For Season\n",
      "\n",
      "    Free Throws Made Per Game\n",
      "\n",
      "    Free Throw Attempts Per Game\n",
      "\n",
      "    Average Free Throw % For Season\n",
      "\n",
      "    Offense Rebounds Per Game\n",
      "\n",
      "    Defense Rebounds Per Game\n",
      "\n",
      "    Total Rebounds Per Game\n",
      "\n",
      "    Assists Per Game\n",
      "\n",
      "    Steals Per Game\n",
      "\n",
      "    Blocks Per Game\n",
      "\n",
      "    Turnovers Per Game\n",
      "\n",
      "    Personal Fouls Per Game\n",
      "\n",
      "    Points Per Game\n",
      "\n",
      "    Year\n"
     ]
    },
    {
     "data": {
      "text/html": [
       "<div>\n",
       "<style scoped>\n",
       "    .dataframe tbody tr th:only-of-type {\n",
       "        vertical-align: middle;\n",
       "    }\n",
       "\n",
       "    .dataframe tbody tr th {\n",
       "        vertical-align: top;\n",
       "    }\n",
       "\n",
       "    .dataframe thead th {\n",
       "        text-align: right;\n",
       "    }\n",
       "</style>\n",
       "<table border=\"1\" class=\"dataframe\">\n",
       "  <thead>\n",
       "    <tr style=\"text-align: right;\">\n",
       "      <th></th>\n",
       "      <th>Team</th>\n",
       "      <th>Games Played</th>\n",
       "      <th>Minutes Played Per Game</th>\n",
       "      <th>Field Goals Made Per Game</th>\n",
       "      <th>Field Goals Attempted Per Game</th>\n",
       "      <th>Average Field Goal % For Season</th>\n",
       "      <th>3 Pointers Made Per Game</th>\n",
       "      <th>3 Point Attempts Per Game</th>\n",
       "      <th>Average 3 Point % For Season</th>\n",
       "      <th>2 Pointers Made Per Game</th>\n",
       "      <th>2 Point Attempts Per Game</th>\n",
       "      <th>Average 2 Point % For Season</th>\n",
       "      <th>Free Throws Made Per Game</th>\n",
       "      <th>Free Throw Attempts Per Game</th>\n",
       "      <th>Average Free Throw % For Season</th>\n",
       "      <th>Offense Rebounds Per Game</th>\n",
       "      <th>Defense Rebounds Per Game</th>\n",
       "      <th>Total Rebounds Per Game</th>\n",
       "      <th>Assists Per Game</th>\n",
       "      <th>Steals Per Game</th>\n",
       "      <th>Blocks Per Game</th>\n",
       "      <th>Turnovers Per Game</th>\n",
       "      <th>Personal Fouls Per Game</th>\n",
       "      <th>Points Per Game</th>\n",
       "      <th>Year</th>\n",
       "    </tr>\n",
       "  </thead>\n",
       "  <tbody>\n",
       "    <tr>\n",
       "      <th>0</th>\n",
       "      <td>League Average</td>\n",
       "      <td>8</td>\n",
       "      <td>241.2000</td>\n",
       "      <td>40.2000</td>\n",
       "      <td>87.2000</td>\n",
       "      <td>NaN</td>\n",
       "      <td>12.0000</td>\n",
       "      <td>34.3000</td>\n",
       "      <td>NaN</td>\n",
       "      <td>28.1000</td>\n",
       "      <td>52.9000</td>\n",
       "      <td>0.5320</td>\n",
       "      <td>17.2000</td>\n",
       "      <td>21.6000</td>\n",
       "      <td>NaN</td>\n",
       "      <td>10.3000</td>\n",
       "      <td>32.8000</td>\n",
       "      <td>43.1000</td>\n",
       "      <td>23.7000</td>\n",
       "      <td>6.8000</td>\n",
       "      <td>4.8000</td>\n",
       "      <td>12.8000</td>\n",
       "      <td>19.6000</td>\n",
       "      <td>109.6000</td>\n",
       "      <td>2023</td>\n",
       "    </tr>\n",
       "  </tbody>\n",
       "</table>\n",
       "</div>"
      ],
      "text/plain": [
       "             Team  Games Played  Minutes Played Per Game  \\\n",
       "0  League Average             8                 241.2000   \n",
       "\n",
       "   Field Goals Made Per Game  Field Goals Attempted Per Game  \\\n",
       "0                    40.2000                         87.2000   \n",
       "\n",
       "   Average Field Goal % For Season  3 Pointers Made Per Game  \\\n",
       "0                              NaN                   12.0000   \n",
       "\n",
       "   3 Point Attempts Per Game  Average 3 Point % For Season  \\\n",
       "0                    34.3000                           NaN   \n",
       "\n",
       "   2 Pointers Made Per Game  2 Point Attempts Per Game  \\\n",
       "0                   28.1000                    52.9000   \n",
       "\n",
       "   Average 2 Point % For Season  Free Throws Made Per Game  \\\n",
       "0                        0.5320                    17.2000   \n",
       "\n",
       "   Free Throw Attempts Per Game  Average Free Throw % For Season  \\\n",
       "0                       21.6000                              NaN   \n",
       "\n",
       "   Offense Rebounds Per Game  Defense Rebounds Per Game  \\\n",
       "0                    10.3000                    32.8000   \n",
       "\n",
       "   Total Rebounds Per Game  Assists Per Game  Steals Per Game  \\\n",
       "0                  43.1000           23.7000           6.8000   \n",
       "\n",
       "   Blocks Per Game  Turnovers Per Game  Personal Fouls Per Game  \\\n",
       "0           4.8000             12.8000                  19.6000   \n",
       "\n",
       "   Points Per Game  Year  \n",
       "0         109.6000  2023  "
      ]
     },
     "execution_count": 217,
     "metadata": {},
     "output_type": "execute_result"
    }
   ],
   "source": [
    "# Define unique name for dataframe to insert into f-string\n",
    "unique_table_name = \"\"\n",
    "\n",
    "# Define name replacement dict\n",
    "name_replacement_dict = {\"Rk\":f\"{unique_table_name}Rank\",\n",
    "\"Player\":f\"{unique_table_name}Player\",\n",
    "\"Pos\":f\"{unique_table_name}Position\",\n",
    "\"Age\":f\"{unique_table_name}Age\",\n",
    "\"Team\":f\"{unique_table_name}Team\",\n",
    "\"G\":f\"{unique_table_name}Games Played\",\n",
    "\"GS\":f\"{unique_table_name}Games Started\",\n",
    "\"MP\":f\"{unique_table_name}Minutes Played Per Game\",\n",
    "\"FG\":f\"{unique_table_name}Field Goals Made Per Game\",\n",
    "\"FGA\":f\"{unique_table_name}Field Goals Attempted Per Game\",\n",
    "\"FG%\":f\"{unique_table_name}Average Field Goal % For Season\",\n",
    "\"3P\":f\"{unique_table_name}3 Pointers Made Per Game\",\n",
    "\"3PA\":f\"{unique_table_name}3 Point Attempts Per Game\",\n",
    "\"3P%\":f\"{unique_table_name}Average 3 Point % For Season\",\n",
    "\"2P\":f\"{unique_table_name}2 Pointers Made Per Game\",\n",
    "\"2PA\":f\"{unique_table_name}2 Point Attempts Per Game\",\n",
    "\"2P%\":f\"{unique_table_name}Average 2 Point % For Season\",\n",
    "\"eFG%\":f\"{unique_table_name}Average Effective Field Goal % For Season\",\n",
    "\"FT\":f\"{unique_table_name}Free Throws Made Per Game\",\n",
    "\"FTA\":f\"{unique_table_name}Free Throw Attempts Per Game\",\n",
    "\"FT%\":f\"{unique_table_name}Average Free Throw % For Season\",\n",
    "\"ORB\":f\"{unique_table_name}Offense Rebounds Per Game\",\n",
    "\"DRB\":f\"{unique_table_name}Defense Rebounds Per Game\",\n",
    "\"TRB\":f\"{unique_table_name}Total Rebounds Per Game\",\n",
    "\"AST\":f\"{unique_table_name}Assists Per Game\",\n",
    "\"STL\":f\"{unique_table_name}Steals Per Game\",\n",
    "\"BLK\":f\"{unique_table_name}Blocks Per Game\",\n",
    "\"TOV\":f\"{unique_table_name}Turnovers Per Game\",\n",
    "\"PF\":f\"{unique_table_name}Personal Fouls Per Game\",\n",
    "\"PTS\":f\"{unique_table_name}Points Per Game\",\n",
    "\"Year\":f\"{unique_table_name}Year\",\n",
    "\"Team Name Refined - accounts for players being traded\":f\"{unique_table_name}Team Name Refined - accounts for players being traded\",\n",
    "\"Standardized/Modernized Team Name\":f\"{unique_table_name}Standardized/Modernized Team Name\"}\n",
    "\n",
    "# Replace names in dataframe\n",
    "nba_team_basic_stat_in_playoffs_df.rename(name_replacement_dict,axis=1,inplace=True)\n",
    "\n",
    "# Get rid of dataframes as desired\n",
    "list_of_columns_to_remove = [\"Rank\"]\n",
    "\n",
    "for item in list_of_columns_to_remove:\n",
    "    nba_team_basic_stat_in_playoffs_df = nba_team_basic_stat_in_playoffs_df.drop(item,axis=1)\n",
    "\n",
    "# Check column names to make sure none desired to get rid of\n",
    "for column in nba_team_basic_stat_in_playoffs_df.columns:\n",
    "    \n",
    "    print(f\"\"\"\n",
    "    {column}\"\"\")\n",
    "\n",
    "nba_team_basic_stat_in_playoffs_df.head(1)\n"
   ]
  },
  {
   "cell_type": "markdown",
   "id": "632a687a",
   "metadata": {},
   "source": [
    "### TEAM Playoffs Basic Opponent Stats"
   ]
  },
  {
   "cell_type": "code",
   "execution_count": 218,
   "id": "be80f66e",
   "metadata": {},
   "outputs": [
    {
     "name": "stdout",
     "output_type": "stream",
     "text": [
      "\n",
      "    Team\n",
      "\n",
      "    Games Played\n",
      "\n",
      "    Minutes Played Per Game\n",
      "\n",
      "    Field Goals Made Per Game\n",
      "\n",
      "    Field Goals Attempted Per Game\n",
      "\n",
      "    Average Field Goal % For Season\n",
      "\n",
      "    3 Pointers Made Per Game\n",
      "\n",
      "    3 Point Attempts Per Game\n",
      "\n",
      "    Average 3 Point % For Season\n",
      "\n",
      "    2 Pointers Made Per Game\n",
      "\n",
      "    2 Point Attempts Per Game\n",
      "\n",
      "    Average 2 Point % For Season\n",
      "\n",
      "    Free Throws Made Per Game\n",
      "\n",
      "    Free Throw Attempts Per Game\n",
      "\n",
      "    Average Free Throw % For Season\n",
      "\n",
      "    Offense Rebounds Per Game\n",
      "\n",
      "    Defense Rebounds Per Game\n",
      "\n",
      "    Total Rebounds Per Game\n",
      "\n",
      "    Assists Per Game\n",
      "\n",
      "    Steals Per Game\n",
      "\n",
      "    Blocks Per Game\n",
      "\n",
      "    Turnovers Per Game\n",
      "\n",
      "    Personal Fouls Per Game\n",
      "\n",
      "    Points Per Game\n",
      "\n",
      "    Year\n"
     ]
    },
    {
     "data": {
      "text/html": [
       "<div>\n",
       "<style scoped>\n",
       "    .dataframe tbody tr th:only-of-type {\n",
       "        vertical-align: middle;\n",
       "    }\n",
       "\n",
       "    .dataframe tbody tr th {\n",
       "        vertical-align: top;\n",
       "    }\n",
       "\n",
       "    .dataframe thead th {\n",
       "        text-align: right;\n",
       "    }\n",
       "</style>\n",
       "<table border=\"1\" class=\"dataframe\">\n",
       "  <thead>\n",
       "    <tr style=\"text-align: right;\">\n",
       "      <th></th>\n",
       "      <th>Team</th>\n",
       "      <th>Games Played</th>\n",
       "      <th>Minutes Played Per Game</th>\n",
       "      <th>Field Goals Made Per Game</th>\n",
       "      <th>Field Goals Attempted Per Game</th>\n",
       "      <th>Average Field Goal % For Season</th>\n",
       "      <th>3 Pointers Made Per Game</th>\n",
       "      <th>3 Point Attempts Per Game</th>\n",
       "      <th>Average 3 Point % For Season</th>\n",
       "      <th>2 Pointers Made Per Game</th>\n",
       "      <th>2 Point Attempts Per Game</th>\n",
       "      <th>Average 2 Point % For Season</th>\n",
       "      <th>Free Throws Made Per Game</th>\n",
       "      <th>Free Throw Attempts Per Game</th>\n",
       "      <th>Average Free Throw % For Season</th>\n",
       "      <th>Offense Rebounds Per Game</th>\n",
       "      <th>Defense Rebounds Per Game</th>\n",
       "      <th>Total Rebounds Per Game</th>\n",
       "      <th>Assists Per Game</th>\n",
       "      <th>Steals Per Game</th>\n",
       "      <th>Blocks Per Game</th>\n",
       "      <th>Turnovers Per Game</th>\n",
       "      <th>Personal Fouls Per Game</th>\n",
       "      <th>Points Per Game</th>\n",
       "      <th>Year</th>\n",
       "    </tr>\n",
       "  </thead>\n",
       "  <tbody>\n",
       "    <tr>\n",
       "      <th>0</th>\n",
       "      <td>League Average</td>\n",
       "      <td>8</td>\n",
       "      <td>241.2000</td>\n",
       "      <td>40.2000</td>\n",
       "      <td>87.2000</td>\n",
       "      <td>NaN</td>\n",
       "      <td>12.0000</td>\n",
       "      <td>34.3000</td>\n",
       "      <td>NaN</td>\n",
       "      <td>28.1000</td>\n",
       "      <td>52.9000</td>\n",
       "      <td>0.5320</td>\n",
       "      <td>17.2000</td>\n",
       "      <td>21.6000</td>\n",
       "      <td>NaN</td>\n",
       "      <td>10.3000</td>\n",
       "      <td>32.8000</td>\n",
       "      <td>43.1000</td>\n",
       "      <td>23.7000</td>\n",
       "      <td>6.8000</td>\n",
       "      <td>4.8000</td>\n",
       "      <td>12.8000</td>\n",
       "      <td>19.6000</td>\n",
       "      <td>109.6000</td>\n",
       "      <td>2023</td>\n",
       "    </tr>\n",
       "  </tbody>\n",
       "</table>\n",
       "</div>"
      ],
      "text/plain": [
       "             Team  Games Played  Minutes Played Per Game  \\\n",
       "0  League Average             8                 241.2000   \n",
       "\n",
       "   Field Goals Made Per Game  Field Goals Attempted Per Game  \\\n",
       "0                    40.2000                         87.2000   \n",
       "\n",
       "   Average Field Goal % For Season  3 Pointers Made Per Game  \\\n",
       "0                              NaN                   12.0000   \n",
       "\n",
       "   3 Point Attempts Per Game  Average 3 Point % For Season  \\\n",
       "0                    34.3000                           NaN   \n",
       "\n",
       "   2 Pointers Made Per Game  2 Point Attempts Per Game  \\\n",
       "0                   28.1000                    52.9000   \n",
       "\n",
       "   Average 2 Point % For Season  Free Throws Made Per Game  \\\n",
       "0                        0.5320                    17.2000   \n",
       "\n",
       "   Free Throw Attempts Per Game  Average Free Throw % For Season  \\\n",
       "0                       21.6000                              NaN   \n",
       "\n",
       "   Offense Rebounds Per Game  Defense Rebounds Per Game  \\\n",
       "0                    10.3000                    32.8000   \n",
       "\n",
       "   Total Rebounds Per Game  Assists Per Game  Steals Per Game  \\\n",
       "0                  43.1000           23.7000           6.8000   \n",
       "\n",
       "   Blocks Per Game  Turnovers Per Game  Personal Fouls Per Game  \\\n",
       "0           4.8000             12.8000                  19.6000   \n",
       "\n",
       "   Points Per Game  Year  \n",
       "0         109.6000  2023  "
      ]
     },
     "execution_count": 218,
     "metadata": {},
     "output_type": "execute_result"
    }
   ],
   "source": [
    "# Define unique name for dataframe to insert into f-string\n",
    "unique_table_name = \"\"\n",
    "\n",
    "# Define name replacement dict\n",
    "name_replacement_dict = {\"Rk\":f\"{unique_table_name}Rank\",\n",
    "\"Player\":f\"{unique_table_name}Player\",\n",
    "\"Pos\":f\"{unique_table_name}Position\",\n",
    "\"Age\":f\"{unique_table_name}Age\",\n",
    "\"Team\":f\"{unique_table_name}Team\",\n",
    "\"G\":f\"{unique_table_name}Games Played\",\n",
    "\"GS\":f\"{unique_table_name}Games Started\",\n",
    "\"MP\":f\"{unique_table_name}Minutes Played Per Game\",\n",
    "\"FG\":f\"{unique_table_name}Field Goals Made Per Game\",\n",
    "\"FGA\":f\"{unique_table_name}Field Goals Attempted Per Game\",\n",
    "\"FG%\":f\"{unique_table_name}Average Field Goal % For Season\",\n",
    "\"3P\":f\"{unique_table_name}3 Pointers Made Per Game\",\n",
    "\"3PA\":f\"{unique_table_name}3 Point Attempts Per Game\",\n",
    "\"3P%\":f\"{unique_table_name}Average 3 Point % For Season\",\n",
    "\"2P\":f\"{unique_table_name}2 Pointers Made Per Game\",\n",
    "\"2PA\":f\"{unique_table_name}2 Point Attempts Per Game\",\n",
    "\"2P%\":f\"{unique_table_name}Average 2 Point % For Season\",\n",
    "\"eFG%\":f\"{unique_table_name}Average Effective Field Goal % For Season\",\n",
    "\"FT\":f\"{unique_table_name}Free Throws Made Per Game\",\n",
    "\"FTA\":f\"{unique_table_name}Free Throw Attempts Per Game\",\n",
    "\"FT%\":f\"{unique_table_name}Average Free Throw % For Season\",\n",
    "\"ORB\":f\"{unique_table_name}Offense Rebounds Per Game\",\n",
    "\"DRB\":f\"{unique_table_name}Defense Rebounds Per Game\",\n",
    "\"TRB\":f\"{unique_table_name}Total Rebounds Per Game\",\n",
    "\"AST\":f\"{unique_table_name}Assists Per Game\",\n",
    "\"STL\":f\"{unique_table_name}Steals Per Game\",\n",
    "\"BLK\":f\"{unique_table_name}Blocks Per Game\",\n",
    "\"TOV\":f\"{unique_table_name}Turnovers Per Game\",\n",
    "\"PF\":f\"{unique_table_name}Personal Fouls Per Game\",\n",
    "\"PTS\":f\"{unique_table_name}Points Per Game\",\n",
    "\"Year\":f\"{unique_table_name}Year\",\n",
    "\"Team Name Refined - accounts for players being traded\":f\"{unique_table_name}Team Name Refined - accounts for players being traded\",\n",
    "\"Standardized/Modernized Team Name\":f\"{unique_table_name}Standardized/Modernized Team Name\"}\n",
    "\n",
    "# Replace names in dataframe\n",
    "nba_team_basic_opponent_stat_in_playoffs_df.rename(name_replacement_dict,axis=1,inplace=True)\n",
    "\n",
    "# Get rid of dataframes as desired\n",
    "list_of_columns_to_remove = [\"Rank\"]\n",
    "\n",
    "for item in list_of_columns_to_remove:\n",
    "    nba_team_basic_opponent_stat_in_playoffs_df = nba_team_basic_opponent_stat_in_playoffs_df.drop(item,axis=1)\n",
    "\n",
    "# Check column names to make sure none desired to get rid of\n",
    "for column in nba_team_basic_opponent_stat_in_playoffs_df.columns:\n",
    "    \n",
    "    print(f\"\"\"\n",
    "    {column}\"\"\")\n",
    "\n",
    "nba_team_basic_opponent_stat_in_playoffs_df.head(1)"
   ]
  },
  {
   "cell_type": "markdown",
   "id": "2bcb333c",
   "metadata": {},
   "source": [
    "### TEAM Playoffs Advanced Stats"
   ]
  },
  {
   "cell_type": "code",
   "execution_count": 219,
   "id": "967bdfc2",
   "metadata": {},
   "outputs": [
    {
     "name": "stdout",
     "output_type": "stream",
     "text": [
      "\n",
      "    Team\n",
      "\n",
      "    Average Player Age\n",
      "\n",
      "    Wins\n",
      "\n",
      "    Losses\n",
      "\n",
      "    Win Loss Percentage\n",
      "\n",
      "    Pythagorean Wins (expected wins based on points scored and allowed)\n",
      "\n",
      "    Pythagorean Losses (expected wins based on points scored and allowed)\n",
      "\n",
      "    Offensive Rating\n",
      "\n",
      "    Defensive Rating\n",
      "\n",
      "    Net Rating\n",
      "\n",
      "    Pace (Possessions per 48 Minutes)\n",
      "\n",
      "    Free Throw Attempts Per FG Attempt\n",
      "\n",
      "    3 Point Attempts Per FG Attempt\n",
      "\n",
      "    True Shooting %\n",
      "\n",
      "    Average Effective Field Goal % For Season\n",
      "\n",
      "    Turnover %\n",
      "\n",
      "    Offensive Rebounding %\n",
      "\n",
      "    Free Throws Made Per FG Attempt\n",
      "\n",
      "    Opponent Effective Field Goal %\n",
      "\n",
      "    Opponent Turnover %\n",
      "\n",
      "    Defensive Rebounding %\n",
      "\n",
      "    Opponent Field Goal Throws Per FG Attempt\n",
      "\n",
      "    Year\n"
     ]
    },
    {
     "data": {
      "text/html": [
       "<div>\n",
       "<style scoped>\n",
       "    .dataframe tbody tr th:only-of-type {\n",
       "        vertical-align: middle;\n",
       "    }\n",
       "\n",
       "    .dataframe tbody tr th {\n",
       "        vertical-align: top;\n",
       "    }\n",
       "\n",
       "    .dataframe thead th {\n",
       "        text-align: right;\n",
       "    }\n",
       "</style>\n",
       "<table border=\"1\" class=\"dataframe\">\n",
       "  <thead>\n",
       "    <tr style=\"text-align: right;\">\n",
       "      <th></th>\n",
       "      <th>Team</th>\n",
       "      <th>Average Player Age</th>\n",
       "      <th>Wins</th>\n",
       "      <th>Losses</th>\n",
       "      <th>Win Loss Percentage</th>\n",
       "      <th>Pythagorean Wins (expected wins based on points scored and allowed)</th>\n",
       "      <th>Pythagorean Losses (expected wins based on points scored and allowed)</th>\n",
       "      <th>Offensive Rating</th>\n",
       "      <th>Defensive Rating</th>\n",
       "      <th>Net Rating</th>\n",
       "      <th>Pace (Possessions per 48 Minutes)</th>\n",
       "      <th>Free Throw Attempts Per FG Attempt</th>\n",
       "      <th>3 Point Attempts Per FG Attempt</th>\n",
       "      <th>True Shooting %</th>\n",
       "      <th>Average Effective Field Goal % For Season</th>\n",
       "      <th>Turnover %</th>\n",
       "      <th>Offensive Rebounding %</th>\n",
       "      <th>Free Throws Made Per FG Attempt</th>\n",
       "      <th>Opponent Effective Field Goal %</th>\n",
       "      <th>Opponent Turnover %</th>\n",
       "      <th>Defensive Rebounding %</th>\n",
       "      <th>Opponent Field Goal Throws Per FG Attempt</th>\n",
       "      <th>Year</th>\n",
       "    </tr>\n",
       "  </thead>\n",
       "  <tbody>\n",
       "    <tr>\n",
       "      <th>0</th>\n",
       "      <td>League Average</td>\n",
       "      <td>27.5000</td>\n",
       "      <td>NaN</td>\n",
       "      <td>NaN</td>\n",
       "      <td>NaN</td>\n",
       "      <td>5.0000</td>\n",
       "      <td>5.0000</td>\n",
       "      <td>113.5000</td>\n",
       "      <td>113.5000</td>\n",
       "      <td>NaN</td>\n",
       "      <td>96.1000</td>\n",
       "      <td>0.2480</td>\n",
       "      <td>0.3930</td>\n",
       "      <td>0.5660</td>\n",
       "      <td>NaN</td>\n",
       "      <td>11.7000</td>\n",
       "      <td>24.0000</td>\n",
       "      <td>0.1970</td>\n",
       "      <td>NaN</td>\n",
       "      <td>11.7000</td>\n",
       "      <td>76.0000</td>\n",
       "      <td>0.1970</td>\n",
       "      <td>2023</td>\n",
       "    </tr>\n",
       "  </tbody>\n",
       "</table>\n",
       "</div>"
      ],
      "text/plain": [
       "             Team  Average Player Age  Wins  Losses  Win Loss Percentage  \\\n",
       "0  League Average             27.5000   NaN     NaN                  NaN   \n",
       "\n",
       "   Pythagorean Wins (expected wins based on points scored and allowed)  \\\n",
       "0                                             5.0000                     \n",
       "\n",
       "   Pythagorean Losses (expected wins based on points scored and allowed)  \\\n",
       "0                                             5.0000                       \n",
       "\n",
       "   Offensive Rating  Defensive Rating  Net Rating  \\\n",
       "0          113.5000          113.5000         NaN   \n",
       "\n",
       "   Pace (Possessions per 48 Minutes)  Free Throw Attempts Per FG Attempt  \\\n",
       "0                            96.1000                              0.2480   \n",
       "\n",
       "   3 Point Attempts Per FG Attempt  True Shooting %  \\\n",
       "0                           0.3930           0.5660   \n",
       "\n",
       "   Average Effective Field Goal % For Season  Turnover %  \\\n",
       "0                                        NaN     11.7000   \n",
       "\n",
       "   Offensive Rebounding %  Free Throws Made Per FG Attempt  \\\n",
       "0                 24.0000                           0.1970   \n",
       "\n",
       "   Opponent Effective Field Goal %  Opponent Turnover %  \\\n",
       "0                              NaN              11.7000   \n",
       "\n",
       "   Defensive Rebounding %  Opponent Field Goal Throws Per FG Attempt  Year  \n",
       "0                 76.0000                                     0.1970  2023  "
      ]
     },
     "execution_count": 219,
     "metadata": {},
     "output_type": "execute_result"
    }
   ],
   "source": [
    "# Define unique name for dataframe to insert into f-string\n",
    "unique_table_name = \"\"\n",
    "\n",
    "# Define name replacement dict\n",
    "name_replacement_dict = {\"Rk\":f\"{unique_table_name}Rank\",\n",
    "\"Age\":f\"{unique_table_name}Average Player Age\",\n",
    "\"Team\":f\"{unique_table_name}Team\",\n",
    "\n",
    "\"W\":f\"{unique_table_name}Wins\",\n",
    "\"L\":f\"{unique_table_name}Losses\",\n",
    "\"W/L%\":f\"{unique_table_name}Win Loss Percentage\",                         \n",
    "\"PW\":f\"{unique_table_name}Pythagorean Wins (expected wins based on points scored and allowed)\",\n",
    "\"PL\":f\"{unique_table_name}Pythagorean Losses (expected wins based on points scored and allowed)\",\n",
    "\"MOV\":f\"{unique_table_name}Margin of Victory\",\n",
    "\"SOS\":f\"{unique_table_name}Strength of schedule rating (positive is above average)\",\n",
    "\"SRS\":f\"{unique_table_name}Simple rating system: derived using average point differential and strength of scheduled\",\n",
    "\"ORtg\":f\"{unique_table_name}Offensive Rating\",\n",
    "\"DRtg\":f\"{unique_table_name}Defensive Rating\",\n",
    "\"NRtg\":f\"{unique_table_name}Net Rating\",\n",
    "\"Pace\":f\"{unique_table_name}Pace (Possessions per 48 Minutes)\",\n",
    "\"FTr\":f\"{unique_table_name}Free Throw Attempts Per FG Attempt\",\n",
    "\"3PAr\":f\"{unique_table_name}3 Point Attempts Per FG Attempt\",\n",
    "\"TS%\":f\"{unique_table_name}True Shooting %\",\n",
    "\"eFG%\":f\"{unique_table_name}Average Effective Field Goal % For Season\",\n",
    "\"TOV%\":f\"{unique_table_name}Turnover %\",\n",
    "\"ORB%\":f\"{unique_table_name}Offensive Rebounding %\",  \n",
    "                         \n",
    "\"FT/FGA\":f\"{unique_table_name}Free Throws Made Per FG Attempt\",\n",
    "\"eFG%.1\":f\"{unique_table_name}Opponent Effective Field Goal %\",\n",
    "\"TOV%.1\":f\"{unique_table_name}Opponent Turnover %\",\n",
    "\"DRB%\":f\"{unique_table_name}Defensive Rebounding %\",\n",
    "\"FT/FGA.1\":f\"{unique_table_name}Opponent Field Goal Throws Per FG Attempt\",\n",
    "\"Arena\":f\"{unique_table_name}Arena\",\n",
    "\"Attend.\":f\"{unique_table_name}Total Arena Attendance\",\n",
    "\"Attend./G\":f\"{unique_table_name}Attendance Per Game\",\n",
    "\n",
    "\"Year\":f\"{unique_table_name}Year\",\n",
    "\"Team Name Refined - accounts for players being traded\":f\"{unique_table_name}Team Name Refined - accounts for players being traded\",\n",
    "\"Standardized/Modernized Team Name\":f\"{unique_table_name}Standardized/Modernized Team Name\"}\n",
    "\n",
    "# Replace names in dataframe\n",
    "nba_team_advanced_stat_in_playoffs_df.rename(name_replacement_dict,axis=1,inplace=True)\n",
    "\n",
    "# # Get rid of dataframes as desired\n",
    "list_of_columns_to_remove = ['Unnamed: 15','Unnamed: 20','Rank']\n",
    "\n",
    "for item in list_of_columns_to_remove:\n",
    "    nba_team_advanced_stat_in_playoffs_df = nba_team_advanced_stat_in_playoffs_df.drop(item,axis=1)\n",
    "\n",
    "\n",
    "# Check column names to make sure none desired to get rid of\n",
    "for column in nba_team_advanced_stat_in_playoffs_df.columns:\n",
    "    \n",
    "    print(f\"\"\"\n",
    "    {column}\"\"\")\n",
    "\n",
    "nba_team_advanced_stat_in_playoffs_df.head(1)"
   ]
  },
  {
   "cell_type": "markdown",
   "id": "68c75e84",
   "metadata": {},
   "source": [
    "### TEAM Playoffs Shooting Stats"
   ]
  },
  {
   "cell_type": "code",
   "execution_count": 220,
   "id": "c40c8a46",
   "metadata": {},
   "outputs": [
    {
     "name": "stdout",
     "output_type": "stream",
     "text": [
      "\n",
      "    Team\n",
      "\n",
      "    Games Played\n",
      "\n",
      "    Total Minutes Played During Season\n",
      "\n",
      "    Field Goal %\n",
      "\n",
      "    Average distance of shot\n",
      "\n",
      "    2 Pointer Attempt Rate For Season as % of total field goals attempted\n",
      "\n",
      "    % of FGA between 0-3 ft.\n",
      "\n",
      "    % of FGA between 3-10 ft.\n",
      "\n",
      "    % of FGA between 10-16 ft.\n",
      "\n",
      "    % of FGA between 16-3P ft.\n",
      "\n",
      "    3 Pointer Attempt Rate For Season as % of total field goals attempted\n",
      "\n",
      "    FG % of 2 Point Attempts\n",
      "\n",
      "    FG % of Attempts between 0-3 ft.\n",
      "\n",
      "    FG % of Attempts between 3-10 ft.\n",
      "\n",
      "    FG % of Attempts between 10-16 ft.\n",
      "\n",
      "    FG % of Attempts between 16-3P ft.\n",
      "\n",
      "    FG % of 3 Point Attempts\n",
      "\n",
      "    % of Made 2 Point Fields Goals That Were Assisted\n",
      "\n",
      "    % of Made 3 Point Fields Goals That Were Assisted\n",
      "\n",
      "    % of Field Goal attempts that are dunk attempts\n",
      "\n",
      "    Number of made dunk attempts\n",
      "\n",
      "    % of 3 Point Attempts that come from the corner\n",
      "\n",
      "    % of 3 Point corner attempts that are made\n",
      "\n",
      "    Heave Attempts\n",
      "\n",
      "    Number of made heaves\n",
      "\n",
      "    Year\n"
     ]
    },
    {
     "data": {
      "text/html": [
       "<div>\n",
       "<style scoped>\n",
       "    .dataframe tbody tr th:only-of-type {\n",
       "        vertical-align: middle;\n",
       "    }\n",
       "\n",
       "    .dataframe tbody tr th {\n",
       "        vertical-align: top;\n",
       "    }\n",
       "\n",
       "    .dataframe thead th {\n",
       "        text-align: right;\n",
       "    }\n",
       "</style>\n",
       "<table border=\"1\" class=\"dataframe\">\n",
       "  <thead>\n",
       "    <tr style=\"text-align: right;\">\n",
       "      <th></th>\n",
       "      <th>Team</th>\n",
       "      <th>Games Played</th>\n",
       "      <th>Total Minutes Played During Season</th>\n",
       "      <th>Field Goal %</th>\n",
       "      <th>Average distance of shot</th>\n",
       "      <th>2 Pointer Attempt Rate For Season as % of total field goals attempted</th>\n",
       "      <th>% of FGA between 0-3 ft.</th>\n",
       "      <th>% of FGA between 3-10 ft.</th>\n",
       "      <th>% of FGA between 10-16 ft.</th>\n",
       "      <th>% of FGA between 16-3P ft.</th>\n",
       "      <th>3 Pointer Attempt Rate For Season as % of total field goals attempted</th>\n",
       "      <th>FG % of 2 Point Attempts</th>\n",
       "      <th>FG % of Attempts between 0-3 ft.</th>\n",
       "      <th>FG % of Attempts between 3-10 ft.</th>\n",
       "      <th>FG % of Attempts between 10-16 ft.</th>\n",
       "      <th>FG % of Attempts between 16-3P ft.</th>\n",
       "      <th>FG % of 3 Point Attempts</th>\n",
       "      <th>% of Made 2 Point Fields Goals That Were Assisted</th>\n",
       "      <th>% of Made 3 Point Fields Goals That Were Assisted</th>\n",
       "      <th>% of Field Goal attempts that are dunk attempts</th>\n",
       "      <th>Number of made dunk attempts</th>\n",
       "      <th>% of 3 Point Attempts that come from the corner</th>\n",
       "      <th>% of 3 Point corner attempts that are made</th>\n",
       "      <th>Heave Attempts</th>\n",
       "      <th>Number of made heaves</th>\n",
       "      <th>Year</th>\n",
       "    </tr>\n",
       "  </thead>\n",
       "  <tbody>\n",
       "    <tr>\n",
       "      <th>0</th>\n",
       "      <td>League Average</td>\n",
       "      <td>11</td>\n",
       "      <td>2600</td>\n",
       "      <td>0.4610</td>\n",
       "      <td>14.5000</td>\n",
       "      <td>0.6070</td>\n",
       "      <td>0.1930</td>\n",
       "      <td>0.2330</td>\n",
       "      <td>0.1110</td>\n",
       "      <td>0.0700</td>\n",
       "      <td>0.3930</td>\n",
       "      <td>0.5320</td>\n",
       "      <td>0.6860</td>\n",
       "      <td>0.4760</td>\n",
       "      <td>0.4480</td>\n",
       "      <td>0.4230</td>\n",
       "      <td>0.3510</td>\n",
       "      <td>0.5010</td>\n",
       "      <td>0.8000</td>\n",
       "      <td>0.0490</td>\n",
       "      <td>41</td>\n",
       "      <td>0.2420</td>\n",
       "      <td>0.3760</td>\n",
       "      <td>2.1000</td>\n",
       "      <td>0.1000</td>\n",
       "      <td>2023</td>\n",
       "    </tr>\n",
       "  </tbody>\n",
       "</table>\n",
       "</div>"
      ],
      "text/plain": [
       "             Team  Games Played  Total Minutes Played During Season  \\\n",
       "0  League Average            11                                2600   \n",
       "\n",
       "   Field Goal %  Average distance of shot  \\\n",
       "0        0.4610                   14.5000   \n",
       "\n",
       "   2 Pointer Attempt Rate For Season as % of total field goals attempted  \\\n",
       "0                                             0.6070                       \n",
       "\n",
       "   % of FGA between 0-3 ft.  % of FGA between 3-10 ft.  \\\n",
       "0                    0.1930                     0.2330   \n",
       "\n",
       "   % of FGA between 10-16 ft.  % of FGA between 16-3P ft.  \\\n",
       "0                      0.1110                      0.0700   \n",
       "\n",
       "   3 Pointer Attempt Rate For Season as % of total field goals attempted  \\\n",
       "0                                             0.3930                       \n",
       "\n",
       "   FG % of 2 Point Attempts  FG % of Attempts between 0-3 ft.  \\\n",
       "0                    0.5320                            0.6860   \n",
       "\n",
       "   FG % of Attempts between 3-10 ft.  FG % of Attempts between 10-16 ft.  \\\n",
       "0                             0.4760                              0.4480   \n",
       "\n",
       "   FG % of Attempts between 16-3P ft.  FG % of 3 Point Attempts  \\\n",
       "0                              0.4230                    0.3510   \n",
       "\n",
       "   % of Made 2 Point Fields Goals That Were Assisted  \\\n",
       "0                                             0.5010   \n",
       "\n",
       "   % of Made 3 Point Fields Goals That Were Assisted  \\\n",
       "0                                             0.8000   \n",
       "\n",
       "   % of Field Goal attempts that are dunk attempts  \\\n",
       "0                                           0.0490   \n",
       "\n",
       "   Number of made dunk attempts  \\\n",
       "0                            41   \n",
       "\n",
       "   % of 3 Point Attempts that come from the corner  \\\n",
       "0                                           0.2420   \n",
       "\n",
       "   % of 3 Point corner attempts that are made  Heave Attempts  \\\n",
       "0                                      0.3760          2.1000   \n",
       "\n",
       "   Number of made heaves  Year  \n",
       "0                 0.1000  2023  "
      ]
     },
     "execution_count": 220,
     "metadata": {},
     "output_type": "execute_result"
    }
   ],
   "source": [
    "# Define unique name for dataframe to insert into f-string\n",
    "unique_table_name = \"\"\n",
    "\n",
    "# Define name replacement dict\n",
    "name_replacement_dict = {\"Rk\":f\"{unique_table_name}Rank\",\n",
    "\"Player\":f\"{unique_table_name}Player\",\n",
    "\"Pos\":f\"{unique_table_name}Position\",\n",
    "\"Age\":f\"{unique_table_name}Age\",\n",
    "\"Team\":f\"{unique_table_name}Team\",\n",
    "\"G\":f\"{unique_table_name}Games Played\",\n",
    "'MP':f'{unique_table_name}Total Minutes Played During Season',\n",
    "'FG%':f'{unique_table_name}Field Goal %',\n",
    "'Dist.':f'{unique_table_name}Average distance of shot',                         \n",
    "'2P':f'{unique_table_name}2 Pointer Attempt Rate For Season as % of total field goals attempted',\n",
    "'0-3':f'{unique_table_name}% of FGA between 0-3 ft.',\n",
    "'3-10':f'{unique_table_name}% of FGA between 3-10 ft.',                         \n",
    "'10-16':f'{unique_table_name}% of FGA between 10-16 ft.',\n",
    "'16-3P':f'{unique_table_name}% of FGA between 16-3P ft.',\n",
    "'3P':f'{unique_table_name}3 Pointer Attempt Rate For Season as % of total field goals attempted',\n",
    "'2P.1':f'{unique_table_name}FG % of 2 Point Attempts',\n",
    "'0-3.1':f'{unique_table_name}FG % of Attempts between 0-3 ft.',\n",
    "'3-10.1':f'{unique_table_name}FG % of Attempts between 3-10 ft.',                         \n",
    "'10-16.1':f'{unique_table_name}FG % of Attempts between 10-16 ft.',\n",
    "'16-3P.1':f'{unique_table_name}FG % of Attempts between 16-3P ft.',\n",
    "'3P.1':f'{unique_table_name}FG % of 3 Point Attempts',                       \n",
    "'2P.2':f'{unique_table_name}% of Made 2 Point Fields Goals That Were Assisted',                         \n",
    "'3P.2':f'{unique_table_name}% of Made 3 Point Fields Goals That Were Assisted',\n",
    "'%FGA':f'{unique_table_name}% of Field Goal attempts that are dunk attempts',\n",
    "'Md.':f'{unique_table_name}Number of made dunk attempts',\n",
    " \n",
    "'%FGA.1':f'{unique_table_name}% of Field Goal attempts that are layups',   \n",
    "'Md..1':f'{unique_table_name}# of made layups',                         \n",
    "                         \n",
    "'%3PA':f'{unique_table_name}% of 3 Point Attempts that come from the corner',\n",
    "'3P%':f'{unique_table_name}% of 3 Point corner attempts that are made',\n",
    "'Att.':f'{unique_table_name}Heave Attempts',\n",
    "'#':f'{unique_table_name}Number of made heaves',                     \n",
    "\"Year\":f\"{unique_table_name}Year\",\n",
    "\"Team Name Refined - accounts for players being traded\":f\"{unique_table_name}Team Name Refined - accounts for players being traded\",\n",
    "\"Standardized/Modernized Team Name\":f\"{unique_table_name}Standardized/Modernized Team Name\"}\n",
    "\n",
    "# Replace names in dataframe\n",
    "nba_team_shooting_in_playoffs_df.rename(name_replacement_dict,axis=1,inplace=True)\n",
    "\n",
    "# # Get rid of dataframes as desired\n",
    "list_of_columns_to_remove = ['Unnamed: 6','Unnamed: 13','Unnamed: 20','Unnamed: 23','Unnamed: 26','Unnamed: 29','Rank']\n",
    "\n",
    "for item in list_of_columns_to_remove:\n",
    "    nba_team_shooting_in_playoffs_df = nba_team_shooting_in_playoffs_df.drop(item,axis=1)\n",
    "\n",
    "# Check column names to make sure none desired to get rid of\n",
    "for column in nba_team_shooting_in_playoffs_df.columns:\n",
    "    \n",
    "    print(f\"\"\"\n",
    "    {column}\"\"\")\n",
    "\n",
    "nba_team_shooting_in_playoffs_df.head(1)"
   ]
  },
  {
   "cell_type": "markdown",
   "id": "520e9f5a",
   "metadata": {},
   "source": [
    "### TEAM Playoff Opponent Shooting Stats"
   ]
  },
  {
   "cell_type": "code",
   "execution_count": 221,
   "id": "9214c840",
   "metadata": {
    "scrolled": true
   },
   "outputs": [
    {
     "name": "stdout",
     "output_type": "stream",
     "text": [
      "\n",
      "    Team\n",
      "\n",
      "    Games Played\n",
      "\n",
      "    Total Minutes Played During Season\n",
      "\n",
      "    Field Goal %\n",
      "\n",
      "    Average distance of shot\n",
      "\n",
      "    2 Pointer Attempt Rate For Season as % of total field goals attempted\n",
      "\n",
      "    % of FGA between 0-3 ft.\n",
      "\n",
      "    % of FGA between 3-10 ft.\n",
      "\n",
      "    % of FGA between 10-16 ft.\n",
      "\n",
      "    % of FGA between 16-3P ft.\n",
      "\n",
      "    3 Pointer Attempt Rate For Season as % of total field goals attempted\n",
      "\n",
      "    FG % of 2 Point Attempts\n",
      "\n",
      "    FG % of Attempts between 0-3 ft.\n",
      "\n",
      "    FG % of Attempts between 3-10 ft.\n",
      "\n",
      "    FG % of Attempts between 10-16 ft.\n",
      "\n",
      "    FG % of Attempts between 16-3P ft.\n",
      "\n",
      "    FG % of 3 Point Attempts\n",
      "\n",
      "    % of Made 2 Point Fields Goals That Were Assisted\n",
      "\n",
      "    % of Made 3 Point Fields Goals That Were Assisted\n",
      "\n",
      "    % of Field Goal attempts that are dunk attempts\n",
      "\n",
      "    Number of made dunk attempts\n",
      "\n",
      "    % of 3 Point Attempts that come from the corner\n",
      "\n",
      "    % of 3 Point corner attempts that are made\n",
      "\n",
      "    Year\n"
     ]
    },
    {
     "data": {
      "text/html": [
       "<div>\n",
       "<style scoped>\n",
       "    .dataframe tbody tr th:only-of-type {\n",
       "        vertical-align: middle;\n",
       "    }\n",
       "\n",
       "    .dataframe tbody tr th {\n",
       "        vertical-align: top;\n",
       "    }\n",
       "\n",
       "    .dataframe thead th {\n",
       "        text-align: right;\n",
       "    }\n",
       "</style>\n",
       "<table border=\"1\" class=\"dataframe\">\n",
       "  <thead>\n",
       "    <tr style=\"text-align: right;\">\n",
       "      <th></th>\n",
       "      <th>Team</th>\n",
       "      <th>Games Played</th>\n",
       "      <th>Total Minutes Played During Season</th>\n",
       "      <th>Field Goal %</th>\n",
       "      <th>Average distance of shot</th>\n",
       "      <th>2 Pointer Attempt Rate For Season as % of total field goals attempted</th>\n",
       "      <th>% of FGA between 0-3 ft.</th>\n",
       "      <th>% of FGA between 3-10 ft.</th>\n",
       "      <th>% of FGA between 10-16 ft.</th>\n",
       "      <th>% of FGA between 16-3P ft.</th>\n",
       "      <th>3 Pointer Attempt Rate For Season as % of total field goals attempted</th>\n",
       "      <th>FG % of 2 Point Attempts</th>\n",
       "      <th>FG % of Attempts between 0-3 ft.</th>\n",
       "      <th>FG % of Attempts between 3-10 ft.</th>\n",
       "      <th>FG % of Attempts between 10-16 ft.</th>\n",
       "      <th>FG % of Attempts between 16-3P ft.</th>\n",
       "      <th>FG % of 3 Point Attempts</th>\n",
       "      <th>% of Made 2 Point Fields Goals That Were Assisted</th>\n",
       "      <th>% of Made 3 Point Fields Goals That Were Assisted</th>\n",
       "      <th>% of Field Goal attempts that are dunk attempts</th>\n",
       "      <th>Number of made dunk attempts</th>\n",
       "      <th>% of 3 Point Attempts that come from the corner</th>\n",
       "      <th>% of 3 Point corner attempts that are made</th>\n",
       "      <th>Year</th>\n",
       "    </tr>\n",
       "  </thead>\n",
       "  <tbody>\n",
       "    <tr>\n",
       "      <th>0</th>\n",
       "      <td>League Average</td>\n",
       "      <td>8</td>\n",
       "      <td>2533.0000</td>\n",
       "      <td>0.4610</td>\n",
       "      <td>14.4000</td>\n",
       "      <td>0.6070</td>\n",
       "      <td>0.1930</td>\n",
       "      <td>0.2330</td>\n",
       "      <td>0.1110</td>\n",
       "      <td>0.0700</td>\n",
       "      <td>0.3930</td>\n",
       "      <td>0.5320</td>\n",
       "      <td>0.6860</td>\n",
       "      <td>0.4760</td>\n",
       "      <td>0.4480</td>\n",
       "      <td>0.4230</td>\n",
       "      <td>0.3510</td>\n",
       "      <td>0.5010</td>\n",
       "      <td>0.8000</td>\n",
       "      <td>0.0490</td>\n",
       "      <td>41.0000</td>\n",
       "      <td>0.2420</td>\n",
       "      <td>0.3760</td>\n",
       "      <td>2023</td>\n",
       "    </tr>\n",
       "  </tbody>\n",
       "</table>\n",
       "</div>"
      ],
      "text/plain": [
       "             Team  Games Played  Total Minutes Played During Season  \\\n",
       "0  League Average             8                           2533.0000   \n",
       "\n",
       "   Field Goal %  Average distance of shot  \\\n",
       "0        0.4610                   14.4000   \n",
       "\n",
       "   2 Pointer Attempt Rate For Season as % of total field goals attempted  \\\n",
       "0                                             0.6070                       \n",
       "\n",
       "   % of FGA between 0-3 ft.  % of FGA between 3-10 ft.  \\\n",
       "0                    0.1930                     0.2330   \n",
       "\n",
       "   % of FGA between 10-16 ft.  % of FGA between 16-3P ft.  \\\n",
       "0                      0.1110                      0.0700   \n",
       "\n",
       "   3 Pointer Attempt Rate For Season as % of total field goals attempted  \\\n",
       "0                                             0.3930                       \n",
       "\n",
       "   FG % of 2 Point Attempts  FG % of Attempts between 0-3 ft.  \\\n",
       "0                    0.5320                            0.6860   \n",
       "\n",
       "   FG % of Attempts between 3-10 ft.  FG % of Attempts between 10-16 ft.  \\\n",
       "0                             0.4760                              0.4480   \n",
       "\n",
       "   FG % of Attempts between 16-3P ft.  FG % of 3 Point Attempts  \\\n",
       "0                              0.4230                    0.3510   \n",
       "\n",
       "   % of Made 2 Point Fields Goals That Were Assisted  \\\n",
       "0                                             0.5010   \n",
       "\n",
       "   % of Made 3 Point Fields Goals That Were Assisted  \\\n",
       "0                                             0.8000   \n",
       "\n",
       "   % of Field Goal attempts that are dunk attempts  \\\n",
       "0                                           0.0490   \n",
       "\n",
       "   Number of made dunk attempts  \\\n",
       "0                       41.0000   \n",
       "\n",
       "   % of 3 Point Attempts that come from the corner  \\\n",
       "0                                           0.2420   \n",
       "\n",
       "   % of 3 Point corner attempts that are made  Year  \n",
       "0                                      0.3760  2023  "
      ]
     },
     "execution_count": 221,
     "metadata": {},
     "output_type": "execute_result"
    }
   ],
   "source": [
    "# Define unique name for dataframe to insert into f-string\n",
    "unique_table_name = \"\"\n",
    "\n",
    "# Define name replacement dict\n",
    "name_replacement_dict = {\"Rk\":f\"{unique_table_name}Rank\",\n",
    "\"Player\":f\"{unique_table_name}Player\",\n",
    "\"Pos\":f\"{unique_table_name}Position\",\n",
    "\"Age\":f\"{unique_table_name}Age\",\n",
    "\"Team\":f\"{unique_table_name}Team\",\n",
    "\"G\":f\"{unique_table_name}Games Played\",\n",
    "'MP':f'{unique_table_name}Total Minutes Played During Season',\n",
    "'FG%':f'{unique_table_name}Field Goal %',\n",
    "'Dist.':f'{unique_table_name}Average distance of shot',                         \n",
    "'2P':f'{unique_table_name}2 Pointer Attempt Rate For Season as % of total field goals attempted',\n",
    "'0-3':f'{unique_table_name}% of FGA between 0-3 ft.',\n",
    "'3-10':f'{unique_table_name}% of FGA between 3-10 ft.',                         \n",
    "'10-16':f'{unique_table_name}% of FGA between 10-16 ft.',\n",
    "'16-3P':f'{unique_table_name}% of FGA between 16-3P ft.',\n",
    "'3P':f'{unique_table_name}3 Pointer Attempt Rate For Season as % of total field goals attempted',\n",
    "'2P.1':f'{unique_table_name}FG % of 2 Point Attempts',\n",
    "'0-3.1':f'{unique_table_name}FG % of Attempts between 0-3 ft.',\n",
    "'3-10.1':f'{unique_table_name}FG % of Attempts between 3-10 ft.',                         \n",
    "'10-16.1':f'{unique_table_name}FG % of Attempts between 10-16 ft.',\n",
    "'16-3P.1':f'{unique_table_name}FG % of Attempts between 16-3P ft.',\n",
    "'3P.1':f'{unique_table_name}FG % of 3 Point Attempts',                       \n",
    "'2P.2':f'{unique_table_name}% of Made 2 Point Fields Goals That Were Assisted',                         \n",
    "'3P.2':f'{unique_table_name}% of Made 3 Point Fields Goals That Were Assisted',\n",
    "'%FGA':f'{unique_table_name}% of Field Goal attempts that are dunk attempts',\n",
    "'Md.':f'{unique_table_name}Number of made dunk attempts',\n",
    " \n",
    "'%FGA.1':f'{unique_table_name}% of Field Goal attempts that are layups',   \n",
    "'Md..1':f'{unique_table_name}# of made layups',                         \n",
    "                         \n",
    "'%3PA':f'{unique_table_name}% of 3 Point Attempts that come from the corner',\n",
    "'3P%':f'{unique_table_name}% of 3 Point corner attempts that are made',\n",
    "'Att.':f'{unique_table_name}Heave Attempts',\n",
    "'Md..2':f'{unique_table_name}Number of made heaves',                     \n",
    "\"Year\":f\"{unique_table_name}Year\",\n",
    "\"Team Name Refined - accounts for players being traded\":f\"{unique_table_name}Team Name Refined - accounts for players being traded\",\n",
    "\"Standardized/Modernized Team Name\":f\"{unique_table_name}Standardized/Modernized Team Name\"}\n",
    "\n",
    "# Replace names in dataframe\n",
    "nba_team_opponent_shooting_stat_in_playoffs_df.rename(name_replacement_dict,axis=1,inplace=True)\n",
    "\n",
    "# Get rid of dataframes as desired\n",
    "list_of_columns_to_remove = ['Unnamed: 6','Unnamed: 13','Unnamed: 20','Unnamed: 23','Unnamed: 26','Rank']\n",
    "\n",
    "for item in list_of_columns_to_remove:\n",
    "    nba_team_opponent_shooting_stat_in_playoffs_df = nba_team_opponent_shooting_stat_in_playoffs_df.drop(item,axis=1)\n",
    "\n",
    "# Check column names to make sure none desired to get rid of\n",
    "for column in nba_team_opponent_shooting_stat_in_playoffs_df.columns:\n",
    "    \n",
    "    print(f\"\"\"\n",
    "    {column}\"\"\")\n",
    "\n",
    "nba_team_opponent_shooting_stat_in_playoffs_df.head(1)"
   ]
  },
  {
   "cell_type": "markdown",
   "id": "4e852072",
   "metadata": {},
   "source": [
    "### Team Playoff Standings"
   ]
  },
  {
   "cell_type": "code",
   "execution_count": 222,
   "id": "9e1d90af",
   "metadata": {},
   "outputs": [
    {
     "name": "stdout",
     "output_type": "stream",
     "text": [
      "\n",
      "    Rank\n",
      "\n",
      "    Team\n",
      "\n",
      "    Overall Record\n",
      "\n",
      "    Record at home\n",
      "\n",
      "    Record on the road\n",
      "\n",
      "    Record against Eastern Conference\n",
      "\n",
      "    Record against Western Conference\n",
      "\n",
      "    Year\n"
     ]
    },
    {
     "data": {
      "text/html": [
       "<div>\n",
       "<style scoped>\n",
       "    .dataframe tbody tr th:only-of-type {\n",
       "        vertical-align: middle;\n",
       "    }\n",
       "\n",
       "    .dataframe tbody tr th {\n",
       "        vertical-align: top;\n",
       "    }\n",
       "\n",
       "    .dataframe thead th {\n",
       "        text-align: right;\n",
       "    }\n",
       "</style>\n",
       "<table border=\"1\" class=\"dataframe\">\n",
       "  <thead>\n",
       "    <tr style=\"text-align: right;\">\n",
       "      <th></th>\n",
       "      <th>Rank</th>\n",
       "      <th>Team</th>\n",
       "      <th>Overall Record</th>\n",
       "      <th>Record at home</th>\n",
       "      <th>Record on the road</th>\n",
       "      <th>Record against Eastern Conference</th>\n",
       "      <th>Record against Western Conference</th>\n",
       "      <th>Year</th>\n",
       "    </tr>\n",
       "  </thead>\n",
       "  <tbody>\n",
       "    <tr>\n",
       "      <th>0</th>\n",
       "      <td>20</td>\n",
       "      <td>Toronto Raptors</td>\n",
       "      <td>0-0</td>\n",
       "      <td>NaN</td>\n",
       "      <td>NaN</td>\n",
       "      <td>NaN</td>\n",
       "      <td>NaN</td>\n",
       "      <td>2023</td>\n",
       "    </tr>\n",
       "  </tbody>\n",
       "</table>\n",
       "</div>"
      ],
      "text/plain": [
       "   Rank             Team Overall Record Record at home Record on the road  \\\n",
       "0    20  Toronto Raptors            0-0            NaN                NaN   \n",
       "\n",
       "  Record against Eastern Conference Record against Western Conference  Year  \n",
       "0                               NaN                               NaN  2023  "
      ]
     },
     "execution_count": 222,
     "metadata": {},
     "output_type": "execute_result"
    }
   ],
   "source": [
    "# Define unique name for dataframe to insert into f-string\n",
    "unique_table_name = \"\"\n",
    "\n",
    "# Define name replacement dict\n",
    "name_replacement_dict = {\"Rk\":f'{unique_table_name}Rank',\n",
    "                         \"Team\":f'{unique_table_name}Team',\n",
    "                         \"Overall\":f'{unique_table_name}Overall Record',\n",
    "                         \"Home\":f'{unique_table_name}Record at home',\n",
    "                         \"Road\":f'{unique_table_name}Record on the road',\n",
    "                         \"E\":f'{unique_table_name}Record against Eastern Conference',\n",
    "                         'Year':f'{unique_table_name}Year',\n",
    "                         \"W\":f'{unique_table_name}Record against Western Conference',\n",
    "                         \"Team Name Refined - accounts for players being traded\":f'{unique_table_name}Team Name Refined - accounts for players being traded',\n",
    "                         \"Standardized/Modernized Team Name\":f'{unique_table_name}Standardized/Modernized Team Name'}\n",
    "                         \n",
    "                         \n",
    "# Replace names in dataframe\n",
    "nba_team_playoff_standing.rename(name_replacement_dict,axis=1,inplace=True)\n",
    "\n",
    "# # Get rid of dataframes as desired\n",
    "# list_of_columns_to_remove = ['Unnamed: 6','Unnamed: 13','Unnamed: 20','Unnamed: 23','Unnamed: 26']\n",
    "\n",
    "# for item in list_of_columns_to_remove:\n",
    "#     nba_team_playoff_standing = nba_team_playoff_standing.drop(item,axis=1)\n",
    "\n",
    "# Check column names to make sure none desired to get rid of\n",
    "for column in nba_team_playoff_standing.columns:\n",
    "    \n",
    "    print(f\"\"\"\n",
    "    {column}\"\"\")\n",
    "\n",
    "nba_team_playoff_standing.head(1)                         "
   ]
  },
  {
   "cell_type": "code",
   "execution_count": 223,
   "id": "c4d6af41",
   "metadata": {},
   "outputs": [
    {
     "data": {
      "text/html": [
       "<div>\n",
       "<style scoped>\n",
       "    .dataframe tbody tr th:only-of-type {\n",
       "        vertical-align: middle;\n",
       "    }\n",
       "\n",
       "    .dataframe tbody tr th {\n",
       "        vertical-align: top;\n",
       "    }\n",
       "\n",
       "    .dataframe thead th {\n",
       "        text-align: right;\n",
       "    }\n",
       "</style>\n",
       "<table border=\"1\" class=\"dataframe\">\n",
       "  <thead>\n",
       "    <tr style=\"text-align: right;\">\n",
       "      <th></th>\n",
       "      <th>Rank</th>\n",
       "      <th>Team</th>\n",
       "      <th>Overall Record</th>\n",
       "      <th>Record at home</th>\n",
       "      <th>Record on the road</th>\n",
       "      <th>Record against Eastern Conference</th>\n",
       "      <th>Record against Western Conference</th>\n",
       "      <th>Year</th>\n",
       "      <th>Playoff Result</th>\n",
       "    </tr>\n",
       "  </thead>\n",
       "  <tbody>\n",
       "    <tr>\n",
       "      <th>0</th>\n",
       "      <td>20</td>\n",
       "      <td>Toronto Raptors</td>\n",
       "      <td>0-0</td>\n",
       "      <td>NaN</td>\n",
       "      <td>NaN</td>\n",
       "      <td>NaN</td>\n",
       "      <td>NaN</td>\n",
       "      <td>2023</td>\n",
       "      <td>Lost in play-in</td>\n",
       "    </tr>\n",
       "    <tr>\n",
       "      <th>1</th>\n",
       "      <td>10</td>\n",
       "      <td>Atlanta Hawks</td>\n",
       "      <td>2-4</td>\n",
       "      <td>1-2</td>\n",
       "      <td>1-2</td>\n",
       "      <td>2-4</td>\n",
       "      <td>NaN</td>\n",
       "      <td>2023</td>\n",
       "      <td>Lost in 1st round</td>\n",
       "    </tr>\n",
       "    <tr>\n",
       "      <th>2</th>\n",
       "      <td>1</td>\n",
       "      <td>Denver Nuggets</td>\n",
       "      <td>16-4</td>\n",
       "      <td>10-1</td>\n",
       "      <td>6-3</td>\n",
       "      <td>4-1</td>\n",
       "      <td>12-3</td>\n",
       "      <td>2023</td>\n",
       "      <td>Won NBA Finals</td>\n",
       "    </tr>\n",
       "    <tr>\n",
       "      <th>3</th>\n",
       "      <td>2</td>\n",
       "      <td>Miami Heat</td>\n",
       "      <td>13-10</td>\n",
       "      <td>6-4</td>\n",
       "      <td>7-6</td>\n",
       "      <td>12-6</td>\n",
       "      <td>1-4</td>\n",
       "      <td>2023</td>\n",
       "      <td>Lost NBA Finals</td>\n",
       "    </tr>\n",
       "    <tr>\n",
       "      <th>4</th>\n",
       "      <td>3</td>\n",
       "      <td>Boston Celtics</td>\n",
       "      <td>11-9</td>\n",
       "      <td>5-6</td>\n",
       "      <td>6-3</td>\n",
       "      <td>11-9</td>\n",
       "      <td>NaN</td>\n",
       "      <td>2023</td>\n",
       "      <td>Lost in Conference Finals</td>\n",
       "    </tr>\n",
       "  </tbody>\n",
       "</table>\n",
       "</div>"
      ],
      "text/plain": [
       "   Rank             Team Overall Record Record at home Record on the road  \\\n",
       "0    20  Toronto Raptors            0-0            NaN                NaN   \n",
       "1    10    Atlanta Hawks            2-4            1-2                1-2   \n",
       "2     1   Denver Nuggets           16-4           10-1                6-3   \n",
       "3     2       Miami Heat          13-10            6-4                7-6   \n",
       "4     3   Boston Celtics           11-9            5-6                6-3   \n",
       "\n",
       "  Record against Eastern Conference Record against Western Conference  Year  \\\n",
       "0                               NaN                               NaN  2023   \n",
       "1                               2-4                               NaN  2023   \n",
       "2                               4-1                              12-3  2023   \n",
       "3                              12-6                               1-4  2023   \n",
       "4                              11-9                               NaN  2023   \n",
       "\n",
       "              Playoff Result  \n",
       "0            Lost in play-in  \n",
       "1          Lost in 1st round  \n",
       "2             Won NBA Finals  \n",
       "3            Lost NBA Finals  \n",
       "4  Lost in Conference Finals  "
      ]
     },
     "execution_count": 223,
     "metadata": {},
     "output_type": "execute_result"
    }
   ],
   "source": [
    "# Create playoff result column\n",
    "nba_team_playoff_standing['Playoff Result'] = nba_team_playoff_standing['Overall Record']\n",
    "\n",
    "def populate_playoff_result(x):\n",
    "    \n",
    "    x_value = int(x.split('-')[0])\n",
    "    \n",
    "    y_value = int(x.split('-')[1])\n",
    "    \n",
    "    value_to_populate = 'FLAG'\n",
    "    \n",
    "    if x_value == 16:\n",
    "        \n",
    "        value_to_populate='Won NBA Finals'\n",
    "        \n",
    "    if x_value < 16 and x_value > 11:\n",
    "        \n",
    "        value_to_populate='Lost NBA Finals'\n",
    "    \n",
    "    if x_value < 12 and x_value > 7:\n",
    "        \n",
    "        value_to_populate='Lost in Conference Finals'\n",
    "        \n",
    "    if x_value < 8 and x_value > 3:\n",
    "        \n",
    "        value_to_populate='Lost in 2nd round'\n",
    "    \n",
    "    if x_value < 4:\n",
    "        \n",
    "        value_to_populate='Lost in 1st round'\n",
    "        \n",
    "    if x_value == 0:\n",
    "        \n",
    "        if y_value == 0:\n",
    "            \n",
    "            value_to_populate='Lost in play-in'\n",
    "    \n",
    "    return value_to_populate\n",
    "    \n",
    "nba_team_playoff_standing['Playoff Result'] = nba_team_playoff_standing['Playoff Result'].apply(populate_playoff_result)\n",
    "\n",
    "nba_team_playoff_standing.head(5)"
   ]
  },
  {
   "cell_type": "markdown",
   "id": "143e7eb2",
   "metadata": {},
   "source": [
    "# 3C. Create player and team tables - player_id and team_id primary keys with basic name and info in the tables. Will have one to many because teams change names and locations"
   ]
  },
  {
   "cell_type": "markdown",
   "id": "739181b6",
   "metadata": {},
   "source": [
    "# Normalize Team Names (player data had city abbreviation instead of team name). Account dynamically for team name changes"
   ]
  },
  {
   "cell_type": "code",
   "execution_count": 224,
   "id": "c4883278",
   "metadata": {},
   "outputs": [],
   "source": [
    "city_name_to_team_name_dict = {'ATL':'Atlanta Hawks',\n",
    "                              'BOS':'Boston Celtics',\n",
    "                              'BRK':'Brooklyn Nets',\n",
    "                              'CHA':'Charlotte Hornets',\n",
    "                              'CHI':'Chicago Bulls',\n",
    "                              'CHO':'Charlotte Hornets',\n",
    "                              'CLE':'Cleveland Cavaliers',\n",
    "                              'DAL':'Dallas Mavericks',\n",
    "                              'DEN':'Denver Nuggets',\n",
    "                              'DET':'Detroit Pistons',\n",
    "                              'GSW':'Golden State Warriors',\n",
    "                              'HOU':'Houston Rockets',\n",
    "                              'IND':'Indiana Pacers',\n",
    "                              'LAC':'Los Angeles Clippers',\n",
    "                              'LAL':'Los Angeles Lakers',\n",
    "                              'MEM':'Memphis Grizzlies',\n",
    "                              'MIA':'Miami Heat',\n",
    "                              'MIL':'Milwaukee Bucks',\n",
    "                              'MIN':'Minnesota Timberwolves',\n",
    "                              'NJN':'New Jersey Nets',\n",
    "                              'NOH':'New Orleans Hornets',\n",
    "                              'NOK':'New Orleans/Oklahoma City Hornets',\n",
    "                              'NOP':'New Orleans Pelicans',\n",
    "                              'NYK':'New York Knicks',\n",
    "                              'OKC':'Oklahoma City Thunder',\n",
    "                              'ORL':'Orlando Magic',\n",
    "                              'PHI':'Philadelphia 76ers',\n",
    "                              'PHO':'Phoenix Suns',\n",
    "                              'POR':'Portland Trail Blazers',\n",
    "                              'SAC':'Sacramento Kings',\n",
    "                              'SAS':'San Antonio Spurs',\n",
    "                              'SEA':'Oklahoma City Thunder',\n",
    "                              'TOR':'Toronto Raptors',\n",
    "                              'TOT':'Multiple Teams (player traded mid season)',\n",
    "                              'UTA':'Utah Jazz',\n",
    "                              'WAS':'Washington Wizards'}"
   ]
  },
  {
   "cell_type": "code",
   "execution_count": 225,
   "id": "64732423",
   "metadata": {},
   "outputs": [],
   "source": [
    "list_of_all_dataframes = [basic_player_stats_regular_season_df,\n",
    "                           advanced_player_stats_in_regular_season_df,\n",
    "                           player_shooting_in_regular_season_df,\n",
    "                           player_play_by_play_in_regular_season_df,\n",
    "                           player_basic_playoff_stats_df,\n",
    "                           player_advanced_stats_in_playoffs_df,\n",
    "                           player_shooting_stats_in_playoffs_df,\n",
    "                           player_play_by_play_stats_in_playoffs_df,\n",
    "                           mvp_vote_df,\n",
    "                           roy_vote_df,\n",
    "                           all_nba_df,\n",
    "                           all_defense_df,\n",
    "                           mip_df,\n",
    "                           six_man_df,\n",
    "                           dpoy_df,\n",
    "                           finals_mvp,\n",
    "                          nba_team_basic_stat_in_regular_season_df,\n",
    "                          nba_team_basic_opponent_stat_in_regular_season_df,\n",
    "                          nba_advanced_team_stats,\n",
    "                          nba_team_shooting_stat_in_regular_season_df,\n",
    "                          nba_team_opponent_shooting_stat_in_regular_season_df,\n",
    "                          nba_team_basic_stat_in_playoffs_df,\n",
    "                          nba_team_basic_opponent_stat_in_playoffs_df,\n",
    "                          nba_team_advanced_stat_in_playoffs_df,\n",
    "                          nba_team_shooting_in_playoffs_df,\n",
    "                          nba_team_opponent_shooting_stat_in_playoffs_df,\n",
    "                          nba_team_playoff_standing,\n",
    "                          regular_season_standing_df\n",
    "                         ]\n",
    "\n",
    "for i, dataframe_to_apply_dicts_to in enumerate(list_of_all_dataframes):\n",
    "        \n",
    "    dataframe_to_apply_dicts_to['Team'] = dataframe_to_apply_dicts_to['Team'].replace(city_name_to_team_name_dict)\n",
    "    \n",
    " \n",
    "    \n",
    "# Assign changes from list to actual dataframes\n",
    "basic_player_stats_regular_season_df,advanced_player_stats_in_regular_season_df,player_shooting_in_regular_season_df,player_play_by_play_in_regular_season_df,player_basic_playoff_stats_df,player_advanced_stats_in_playoffs_df,player_shooting_stats_in_playoffs_df,player_play_by_play_stats_in_playoffs_df,mvp_vote_df,roy_vote_df,all_nba_df,all_defense_df,mip_df,six_man_df,dpoy_df,finals_mvp,nba_team_basic_stat_in_regular_season_df,nba_team_basic_opponent_stat_in_regular_season_df,nba_advanced_team_stats,nba_team_shooting_stat_in_regular_season_df,nba_team_opponent_shooting_stat_in_regular_season_df,nba_team_basic_stat_in_playoffs_df,nba_team_basic_opponent_stat_in_playoffs_df,nba_team_advanced_stat_in_playoffs_df,nba_team_shooting_in_playoffs_df,nba_team_opponent_shooting_stat_in_playoffs_df,nba_team_playoff_standing,regular_season_standing_df = list_of_all_dataframes "
   ]
  },
  {
   "cell_type": "code",
   "execution_count": 226,
   "id": "473aead9",
   "metadata": {},
   "outputs": [
    {
     "name": "stdout",
     "output_type": "stream",
     "text": [
      "New Jersey Nets\n",
      "Boston Celtics\n",
      "Golden State Warriors\n",
      "Toronto Raptors\n",
      "Portland Trail Blazers\n",
      "League Average\n",
      "Phoenix Suns\n",
      "Charlotte Hornets\n",
      "Los Angeles Clippers\n",
      "New Orleans Hornets\n",
      "Cleveland Cavaliers\n",
      "New Orleans/Oklahoma City Hornets\n",
      "Philadelphia 76ers\n",
      "Brooklyn Nets\n",
      "Denver Nuggets\n",
      "Washington Wizards\n",
      "Detroit Pistons\n",
      "Seattle Supersonics\n",
      "Memphis Grizzlies\n",
      "Multiple Teams (player traded mid season)\n",
      "Los Angeles Lakers\n",
      "Milwaukee Bucks\n",
      "Oklahoma City Thunder\n",
      "Sacramento Kings\n",
      "Seattle SuperSonics\n",
      "Orlando Magic\n",
      "New Orleans Pelicans\n",
      "Minnesota Timberwolves\n",
      "Miami Heat\n",
      "Dallas Mavericks\n",
      "Indiana Pacers\n",
      "Utah Jazz\n",
      "Chicago Bulls\n",
      "San Antonio Spurs\n",
      "Houston Rockets\n",
      "Charlotte Bobcats\n",
      "New York Knicks\n",
      "Atlanta Hawks\n",
      "\n",
      "\n",
      "Unique Team Names: 38\n"
     ]
    }
   ],
   "source": [
    "# Uncover all unique team names in the source data\n",
    "list_of_unique_team_name_values = []\n",
    "\n",
    "\n",
    "list_of_all_dataframes = [basic_player_stats_regular_season_df,\n",
    "                           advanced_player_stats_in_regular_season_df,\n",
    "                           player_shooting_in_regular_season_df,\n",
    "                           player_play_by_play_in_regular_season_df,\n",
    "                           player_basic_playoff_stats_df,\n",
    "                           player_advanced_stats_in_playoffs_df,\n",
    "                           player_shooting_stats_in_playoffs_df,\n",
    "                           player_play_by_play_stats_in_playoffs_df,\n",
    "                           mvp_vote_df,\n",
    "                           roy_vote_df,\n",
    "                           all_nba_df,\n",
    "                           all_defense_df,\n",
    "                           mip_df,\n",
    "                           six_man_df,\n",
    "                           dpoy_df,\n",
    "                           finals_mvp,\n",
    "                          nba_team_basic_stat_in_regular_season_df,\n",
    "                          nba_team_basic_opponent_stat_in_regular_season_df,\n",
    "                          nba_advanced_team_stats,\n",
    "                          nba_team_shooting_stat_in_regular_season_df,\n",
    "                          nba_team_opponent_shooting_stat_in_regular_season_df,\n",
    "                          nba_team_basic_stat_in_playoffs_df,\n",
    "                          nba_team_basic_opponent_stat_in_playoffs_df,\n",
    "                          nba_team_advanced_stat_in_playoffs_df,\n",
    "                          nba_team_shooting_in_playoffs_df,\n",
    "                          nba_team_opponent_shooting_stat_in_playoffs_df,\n",
    "                          nba_team_playoff_standing,\n",
    "                          regular_season_standing_df\n",
    "                         ]\n",
    "\n",
    "for df in list_of_all_dataframes:\n",
    "    \n",
    "    unique_teams = df['Team'].unique()\n",
    "    \n",
    "    for ut in unique_teams:\n",
    "        \n",
    "        list_of_unique_team_name_values.append(ut)\n",
    "        \n",
    "for item in set(list_of_unique_team_name_values):\n",
    "    print(item)\n",
    "    \n",
    "print(f\"\"\"\n",
    "\n",
    "Unique Team Names: {len(set(list_of_unique_team_name_values))}\"\"\")"
   ]
  },
  {
   "cell_type": "code",
   "execution_count": 227,
   "id": "72cb18a9",
   "metadata": {},
   "outputs": [],
   "source": [
    "# After creating file of team_id and team name, load in and create dictionary to populate columns for all team dataframes\n",
    "df = pd.read_excel(f'{source_data_path}\\\\Team Stats\\\\team_id_and_name_dictionary.xlsx')"
   ]
  },
  {
   "cell_type": "code",
   "execution_count": 228,
   "id": "c3557846",
   "metadata": {},
   "outputs": [],
   "source": [
    "team_name_to_id_dict = dict(zip(df['Name'], df['team_id']))\n",
    "\n",
    "list_of_all_dataframes = [basic_player_stats_regular_season_df,\n",
    "                           advanced_player_stats_in_regular_season_df,\n",
    "                           player_shooting_in_regular_season_df,\n",
    "                           player_play_by_play_in_regular_season_df,\n",
    "                           player_basic_playoff_stats_df,\n",
    "                           player_advanced_stats_in_playoffs_df,\n",
    "                           player_shooting_stats_in_playoffs_df,\n",
    "                           player_play_by_play_stats_in_playoffs_df,\n",
    "                           mvp_vote_df,\n",
    "                           roy_vote_df,\n",
    "                           all_nba_df,\n",
    "                           all_defense_df,\n",
    "                           mip_df,\n",
    "                           six_man_df,\n",
    "                           dpoy_df,\n",
    "                           finals_mvp,\n",
    "                          nba_team_basic_stat_in_regular_season_df,\n",
    "                          nba_team_basic_opponent_stat_in_regular_season_df,\n",
    "                          nba_advanced_team_stats,\n",
    "                          nba_team_shooting_stat_in_regular_season_df,\n",
    "                          nba_team_opponent_shooting_stat_in_regular_season_df,\n",
    "                          nba_team_basic_stat_in_playoffs_df,\n",
    "                          nba_team_basic_opponent_stat_in_playoffs_df,\n",
    "                          nba_team_advanced_stat_in_playoffs_df,\n",
    "                          nba_team_shooting_in_playoffs_df,\n",
    "                          nba_team_opponent_shooting_stat_in_playoffs_df,\n",
    "                          nba_team_playoff_standing,\n",
    "                          regular_season_standing_df\n",
    "                         ]\n",
    "\n",
    "for i, dataframe_to_apply_dicts_to in enumerate(list_of_all_dataframes):\n",
    "        \n",
    "    dataframe_to_apply_dicts_to['team_id'] = dataframe_to_apply_dicts_to['Team'].replace(team_name_to_id_dict)\n",
    "    \n",
    " \n",
    "    \n",
    "# Assign changes from list to actual dataframes\n",
    "basic_player_stats_regular_season_df,advanced_player_stats_in_regular_season_df,player_shooting_in_regular_season_df,player_play_by_play_in_regular_season_df,player_basic_playoff_stats_df,player_advanced_stats_in_playoffs_df,player_shooting_stats_in_playoffs_df,player_play_by_play_stats_in_playoffs_df,mvp_vote_df,roy_vote_df,all_nba_df,all_defense_df,mip_df,six_man_df,dpoy_df,finals_mvp,nba_team_basic_stat_in_regular_season_df,nba_team_basic_opponent_stat_in_regular_season_df,nba_advanced_team_stats,nba_team_shooting_stat_in_regular_season_df,nba_team_opponent_shooting_stat_in_regular_season_df,nba_team_basic_stat_in_playoffs_df,nba_team_basic_opponent_stat_in_playoffs_df,nba_team_advanced_stat_in_playoffs_df,nba_team_shooting_in_playoffs_df,nba_team_opponent_shooting_stat_in_playoffs_df,nba_team_playoff_standing,regular_season_standing_df = list_of_all_dataframes "
   ]
  },
  {
   "cell_type": "code",
   "execution_count": 229,
   "id": "78b9561e",
   "metadata": {},
   "outputs": [
    {
     "data": {
      "text/html": [
       "<div>\n",
       "<style scoped>\n",
       "    .dataframe tbody tr th:only-of-type {\n",
       "        vertical-align: middle;\n",
       "    }\n",
       "\n",
       "    .dataframe tbody tr th {\n",
       "        vertical-align: top;\n",
       "    }\n",
       "\n",
       "    .dataframe thead th {\n",
       "        text-align: right;\n",
       "    }\n",
       "</style>\n",
       "<table border=\"1\" class=\"dataframe\">\n",
       "  <thead>\n",
       "    <tr style=\"text-align: right;\">\n",
       "      <th></th>\n",
       "      <th>Rank</th>\n",
       "      <th>Player</th>\n",
       "      <th>Position</th>\n",
       "      <th>Age</th>\n",
       "      <th>Team</th>\n",
       "      <th>Games Played</th>\n",
       "      <th>Games Started</th>\n",
       "      <th>Minutes Played Per Game</th>\n",
       "      <th>Field Goals Made Per Game</th>\n",
       "      <th>Field Goals Attempted Per Game</th>\n",
       "      <th>Average Field Goal % For Season</th>\n",
       "      <th>3 Pointers Made Per Game</th>\n",
       "      <th>3 Point Attempts Per Game</th>\n",
       "      <th>Average 3 Point % For Season</th>\n",
       "      <th>2 Pointers Made Per Game</th>\n",
       "      <th>2 Point Attempts Per Game</th>\n",
       "      <th>Average 2 Point % For Season</th>\n",
       "      <th>Average Effective Field Goal % For Season</th>\n",
       "      <th>Free Throws Made Per Game</th>\n",
       "      <th>Free Throw Attempts Per Game</th>\n",
       "      <th>Average Free Throw % For Season</th>\n",
       "      <th>Offense Rebounds Per Game</th>\n",
       "      <th>Defense Rebounds Per Game</th>\n",
       "      <th>Total Rebounds Per Game</th>\n",
       "      <th>Assists Per Game</th>\n",
       "      <th>Steals Per Game</th>\n",
       "      <th>Blocks Per Game</th>\n",
       "      <th>Turnovers Per Game</th>\n",
       "      <th>Personal Fouls Per Game</th>\n",
       "      <th>Points Per Game</th>\n",
       "      <th>player_id</th>\n",
       "      <th>Season</th>\n",
       "      <th>team_id</th>\n",
       "    </tr>\n",
       "  </thead>\n",
       "  <tbody>\n",
       "    <tr>\n",
       "      <th>0</th>\n",
       "      <td>556</td>\n",
       "      <td>Ivica Zubac</td>\n",
       "      <td>C</td>\n",
       "      <td>26</td>\n",
       "      <td>Los Angeles Clippers</td>\n",
       "      <td>54</td>\n",
       "      <td>54</td>\n",
       "      <td>26.4000</td>\n",
       "      <td>4.9000</td>\n",
       "      <td>7.5000</td>\n",
       "      <td>0.6530</td>\n",
       "      <td>0.0000</td>\n",
       "      <td>0.0000</td>\n",
       "      <td>NaN</td>\n",
       "      <td>4.9000</td>\n",
       "      <td>7.5000</td>\n",
       "      <td>0.6530</td>\n",
       "      <td>0.6530</td>\n",
       "      <td>1.7000</td>\n",
       "      <td>2.5000</td>\n",
       "      <td>0.6870</td>\n",
       "      <td>2.9000</td>\n",
       "      <td>6.2000</td>\n",
       "      <td>9.2000</td>\n",
       "      <td>1.4000</td>\n",
       "      <td>0.2000</td>\n",
       "      <td>1.2000</td>\n",
       "      <td>1.2000</td>\n",
       "      <td>2.7000</td>\n",
       "      <td>11.5000</td>\n",
       "      <td>zubaciv01</td>\n",
       "      <td>2024</td>\n",
       "      <td>13</td>\n",
       "    </tr>\n",
       "    <tr>\n",
       "      <th>1</th>\n",
       "      <td>174</td>\n",
       "      <td>Aaron Gordon</td>\n",
       "      <td>PF</td>\n",
       "      <td>28</td>\n",
       "      <td>Denver Nuggets</td>\n",
       "      <td>61</td>\n",
       "      <td>61</td>\n",
       "      <td>31.3000</td>\n",
       "      <td>5.5000</td>\n",
       "      <td>9.8000</td>\n",
       "      <td>0.5600</td>\n",
       "      <td>0.5000</td>\n",
       "      <td>1.9000</td>\n",
       "      <td>0.2890</td>\n",
       "      <td>5.0000</td>\n",
       "      <td>7.9000</td>\n",
       "      <td>0.6240</td>\n",
       "      <td>0.5880</td>\n",
       "      <td>2.3000</td>\n",
       "      <td>3.5000</td>\n",
       "      <td>0.6470</td>\n",
       "      <td>2.3000</td>\n",
       "      <td>4.1000</td>\n",
       "      <td>6.4000</td>\n",
       "      <td>3.3000</td>\n",
       "      <td>0.8000</td>\n",
       "      <td>0.6000</td>\n",
       "      <td>1.4000</td>\n",
       "      <td>1.9000</td>\n",
       "      <td>13.8000</td>\n",
       "      <td>gordoaa01</td>\n",
       "      <td>2024</td>\n",
       "      <td>8</td>\n",
       "    </tr>\n",
       "    <tr>\n",
       "      <th>2</th>\n",
       "      <td>182</td>\n",
       "      <td>Jeff Green</td>\n",
       "      <td>PF</td>\n",
       "      <td>37</td>\n",
       "      <td>Houston Rockets</td>\n",
       "      <td>62</td>\n",
       "      <td>5</td>\n",
       "      <td>16.2000</td>\n",
       "      <td>1.9000</td>\n",
       "      <td>4.2000</td>\n",
       "      <td>0.4570</td>\n",
       "      <td>0.5000</td>\n",
       "      <td>1.5000</td>\n",
       "      <td>0.3120</td>\n",
       "      <td>1.4000</td>\n",
       "      <td>2.7000</td>\n",
       "      <td>0.5390</td>\n",
       "      <td>0.5140</td>\n",
       "      <td>1.6000</td>\n",
       "      <td>2.0000</td>\n",
       "      <td>0.8080</td>\n",
       "      <td>0.6000</td>\n",
       "      <td>1.5000</td>\n",
       "      <td>2.1000</td>\n",
       "      <td>0.9000</td>\n",
       "      <td>0.2000</td>\n",
       "      <td>0.4000</td>\n",
       "      <td>0.7000</td>\n",
       "      <td>1.3000</td>\n",
       "      <td>5.9000</td>\n",
       "      <td>greenje02</td>\n",
       "      <td>2024</td>\n",
       "      <td>11</td>\n",
       "    </tr>\n",
       "    <tr>\n",
       "      <th>3</th>\n",
       "      <td>181</td>\n",
       "      <td>Jalen Green</td>\n",
       "      <td>SG</td>\n",
       "      <td>21</td>\n",
       "      <td>Houston Rockets</td>\n",
       "      <td>66</td>\n",
       "      <td>66</td>\n",
       "      <td>31.0000</td>\n",
       "      <td>6.5000</td>\n",
       "      <td>15.7000</td>\n",
       "      <td>0.4160</td>\n",
       "      <td>2.2000</td>\n",
       "      <td>6.8000</td>\n",
       "      <td>0.3190</td>\n",
       "      <td>4.3000</td>\n",
       "      <td>8.8000</td>\n",
       "      <td>0.4920</td>\n",
       "      <td>0.4860</td>\n",
       "      <td>3.4000</td>\n",
       "      <td>4.2000</td>\n",
       "      <td>0.8090</td>\n",
       "      <td>0.4000</td>\n",
       "      <td>4.4000</td>\n",
       "      <td>4.8000</td>\n",
       "      <td>3.3000</td>\n",
       "      <td>0.7000</td>\n",
       "      <td>0.3000</td>\n",
       "      <td>2.2000</td>\n",
       "      <td>1.3000</td>\n",
       "      <td>18.6000</td>\n",
       "      <td>greenja05</td>\n",
       "      <td>2024</td>\n",
       "      <td>11</td>\n",
       "    </tr>\n",
       "    <tr>\n",
       "      <th>4</th>\n",
       "      <td>180</td>\n",
       "      <td>Draymond Green</td>\n",
       "      <td>PF</td>\n",
       "      <td>33</td>\n",
       "      <td>Golden State Warriors</td>\n",
       "      <td>40</td>\n",
       "      <td>37</td>\n",
       "      <td>26.5000</td>\n",
       "      <td>3.4000</td>\n",
       "      <td>6.9000</td>\n",
       "      <td>0.4950</td>\n",
       "      <td>1.0000</td>\n",
       "      <td>2.4000</td>\n",
       "      <td>0.4230</td>\n",
       "      <td>2.4000</td>\n",
       "      <td>4.5000</td>\n",
       "      <td>0.5330</td>\n",
       "      <td>0.5690</td>\n",
       "      <td>1.2000</td>\n",
       "      <td>1.5000</td>\n",
       "      <td>0.7540</td>\n",
       "      <td>1.3000</td>\n",
       "      <td>5.7000</td>\n",
       "      <td>7.0000</td>\n",
       "      <td>5.9000</td>\n",
       "      <td>0.8000</td>\n",
       "      <td>0.9000</td>\n",
       "      <td>2.5000</td>\n",
       "      <td>3.1000</td>\n",
       "      <td>9.0000</td>\n",
       "      <td>greendr01</td>\n",
       "      <td>2024</td>\n",
       "      <td>10</td>\n",
       "    </tr>\n",
       "    <tr>\n",
       "      <th>...</th>\n",
       "      <td>...</td>\n",
       "      <td>...</td>\n",
       "      <td>...</td>\n",
       "      <td>...</td>\n",
       "      <td>...</td>\n",
       "      <td>...</td>\n",
       "      <td>...</td>\n",
       "      <td>...</td>\n",
       "      <td>...</td>\n",
       "      <td>...</td>\n",
       "      <td>...</td>\n",
       "      <td>...</td>\n",
       "      <td>...</td>\n",
       "      <td>...</td>\n",
       "      <td>...</td>\n",
       "      <td>...</td>\n",
       "      <td>...</td>\n",
       "      <td>...</td>\n",
       "      <td>...</td>\n",
       "      <td>...</td>\n",
       "      <td>...</td>\n",
       "      <td>...</td>\n",
       "      <td>...</td>\n",
       "      <td>...</td>\n",
       "      <td>...</td>\n",
       "      <td>...</td>\n",
       "      <td>...</td>\n",
       "      <td>...</td>\n",
       "      <td>...</td>\n",
       "      <td>...</td>\n",
       "      <td>...</td>\n",
       "      <td>...</td>\n",
       "      <td>...</td>\n",
       "    </tr>\n",
       "    <tr>\n",
       "      <th>13100</th>\n",
       "      <td>303</td>\n",
       "      <td>Greg Ostertag</td>\n",
       "      <td>C</td>\n",
       "      <td>30</td>\n",
       "      <td>Utah Jazz</td>\n",
       "      <td>78</td>\n",
       "      <td>51</td>\n",
       "      <td>27.6000</td>\n",
       "      <td>2.7000</td>\n",
       "      <td>5.6000</td>\n",
       "      <td>0.4760</td>\n",
       "      <td>0.0000</td>\n",
       "      <td>0.0000</td>\n",
       "      <td>0.0000</td>\n",
       "      <td>2.7000</td>\n",
       "      <td>5.6000</td>\n",
       "      <td>0.4770</td>\n",
       "      <td>0.4760</td>\n",
       "      <td>1.4000</td>\n",
       "      <td>2.5000</td>\n",
       "      <td>0.5790</td>\n",
       "      <td>2.8000</td>\n",
       "      <td>4.6000</td>\n",
       "      <td>7.4000</td>\n",
       "      <td>1.6000</td>\n",
       "      <td>0.4000</td>\n",
       "      <td>1.8000</td>\n",
       "      <td>1.3000</td>\n",
       "      <td>2.9000</td>\n",
       "      <td>6.8000</td>\n",
       "      <td>ostergr01</td>\n",
       "      <td>2004</td>\n",
       "      <td>24</td>\n",
       "    </tr>\n",
       "    <tr>\n",
       "      <th>13101</th>\n",
       "      <td>302</td>\n",
       "      <td>Michael Olowokandi</td>\n",
       "      <td>C</td>\n",
       "      <td>28</td>\n",
       "      <td>Minnesota Timberwolves</td>\n",
       "      <td>43</td>\n",
       "      <td>25</td>\n",
       "      <td>21.5000</td>\n",
       "      <td>2.8000</td>\n",
       "      <td>6.6000</td>\n",
       "      <td>0.4250</td>\n",
       "      <td>0.0000</td>\n",
       "      <td>0.0000</td>\n",
       "      <td>NaN</td>\n",
       "      <td>2.8000</td>\n",
       "      <td>6.6000</td>\n",
       "      <td>0.4250</td>\n",
       "      <td>0.4250</td>\n",
       "      <td>0.8000</td>\n",
       "      <td>1.4000</td>\n",
       "      <td>0.5900</td>\n",
       "      <td>1.8000</td>\n",
       "      <td>3.9000</td>\n",
       "      <td>5.7000</td>\n",
       "      <td>0.6000</td>\n",
       "      <td>0.4000</td>\n",
       "      <td>1.6000</td>\n",
       "      <td>1.3000</td>\n",
       "      <td>3.2000</td>\n",
       "      <td>6.5000</td>\n",
       "      <td>olowomi01</td>\n",
       "      <td>2004</td>\n",
       "      <td>18</td>\n",
       "    </tr>\n",
       "    <tr>\n",
       "      <th>13102</th>\n",
       "      <td>301</td>\n",
       "      <td>Kevin Ollie</td>\n",
       "      <td>PG</td>\n",
       "      <td>31</td>\n",
       "      <td>Cleveland Cavaliers</td>\n",
       "      <td>82</td>\n",
       "      <td>7</td>\n",
       "      <td>17.1000</td>\n",
       "      <td>1.2000</td>\n",
       "      <td>3.1000</td>\n",
       "      <td>0.3700</td>\n",
       "      <td>0.0000</td>\n",
       "      <td>0.1000</td>\n",
       "      <td>0.4440</td>\n",
       "      <td>1.1000</td>\n",
       "      <td>3.0000</td>\n",
       "      <td>0.3670</td>\n",
       "      <td>0.3770</td>\n",
       "      <td>1.8000</td>\n",
       "      <td>2.1000</td>\n",
       "      <td>0.8350</td>\n",
       "      <td>0.3000</td>\n",
       "      <td>1.8000</td>\n",
       "      <td>2.1000</td>\n",
       "      <td>2.9000</td>\n",
       "      <td>0.6000</td>\n",
       "      <td>0.1000</td>\n",
       "      <td>1.0000</td>\n",
       "      <td>1.5000</td>\n",
       "      <td>4.2000</td>\n",
       "      <td>ollieke01</td>\n",
       "      <td>2004</td>\n",
       "      <td>6</td>\n",
       "    </tr>\n",
       "    <tr>\n",
       "      <th>13103</th>\n",
       "      <td>300</td>\n",
       "      <td>Mehmet Okur</td>\n",
       "      <td>PF</td>\n",
       "      <td>24</td>\n",
       "      <td>Detroit Pistons</td>\n",
       "      <td>71</td>\n",
       "      <td>33</td>\n",
       "      <td>22.3000</td>\n",
       "      <td>3.5000</td>\n",
       "      <td>7.6000</td>\n",
       "      <td>0.4630</td>\n",
       "      <td>0.3000</td>\n",
       "      <td>0.7000</td>\n",
       "      <td>0.3750</td>\n",
       "      <td>3.3000</td>\n",
       "      <td>7.0000</td>\n",
       "      <td>0.4720</td>\n",
       "      <td>0.4800</td>\n",
       "      <td>2.3000</td>\n",
       "      <td>2.9000</td>\n",
       "      <td>0.7750</td>\n",
       "      <td>2.3000</td>\n",
       "      <td>3.7000</td>\n",
       "      <td>5.9000</td>\n",
       "      <td>1.0000</td>\n",
       "      <td>0.5000</td>\n",
       "      <td>0.9000</td>\n",
       "      <td>1.4000</td>\n",
       "      <td>1.9000</td>\n",
       "      <td>9.6000</td>\n",
       "      <td>okurme01</td>\n",
       "      <td>2004</td>\n",
       "      <td>9</td>\n",
       "    </tr>\n",
       "    <tr>\n",
       "      <th>13104</th>\n",
       "      <td>1</td>\n",
       "      <td>Shareef Abdur-Rahim</td>\n",
       "      <td>PF</td>\n",
       "      <td>27</td>\n",
       "      <td>Multiple Teams (player traded mid season)</td>\n",
       "      <td>85</td>\n",
       "      <td>56</td>\n",
       "      <td>31.6000</td>\n",
       "      <td>5.9000</td>\n",
       "      <td>12.4000</td>\n",
       "      <td>0.4750</td>\n",
       "      <td>0.1000</td>\n",
       "      <td>0.4000</td>\n",
       "      <td>0.2650</td>\n",
       "      <td>5.8000</td>\n",
       "      <td>12.0000</td>\n",
       "      <td>0.4820</td>\n",
       "      <td>0.4800</td>\n",
       "      <td>4.4000</td>\n",
       "      <td>5.0000</td>\n",
       "      <td>0.8690</td>\n",
       "      <td>2.2000</td>\n",
       "      <td>5.3000</td>\n",
       "      <td>7.5000</td>\n",
       "      <td>2.0000</td>\n",
       "      <td>0.8000</td>\n",
       "      <td>0.4000</td>\n",
       "      <td>2.2000</td>\n",
       "      <td>2.6000</td>\n",
       "      <td>16.3000</td>\n",
       "      <td>abdursh01</td>\n",
       "      <td>2004</td>\n",
       "      <td>32</td>\n",
       "    </tr>\n",
       "  </tbody>\n",
       "</table>\n",
       "<p>13105 rows × 33 columns</p>\n",
       "</div>"
      ],
      "text/plain": [
       "       Rank               Player Position  Age  \\\n",
       "0       556          Ivica Zubac        C   26   \n",
       "1       174         Aaron Gordon       PF   28   \n",
       "2       182           Jeff Green       PF   37   \n",
       "3       181          Jalen Green       SG   21   \n",
       "4       180       Draymond Green       PF   33   \n",
       "...     ...                  ...      ...  ...   \n",
       "13100   303        Greg Ostertag        C   30   \n",
       "13101   302   Michael Olowokandi        C   28   \n",
       "13102   301          Kevin Ollie       PG   31   \n",
       "13103   300          Mehmet Okur       PF   24   \n",
       "13104     1  Shareef Abdur-Rahim       PF   27   \n",
       "\n",
       "                                            Team  Games Played  Games Started  \\\n",
       "0                           Los Angeles Clippers            54             54   \n",
       "1                                 Denver Nuggets            61             61   \n",
       "2                                Houston Rockets            62              5   \n",
       "3                                Houston Rockets            66             66   \n",
       "4                          Golden State Warriors            40             37   \n",
       "...                                          ...           ...            ...   \n",
       "13100                                  Utah Jazz            78             51   \n",
       "13101                     Minnesota Timberwolves            43             25   \n",
       "13102                        Cleveland Cavaliers            82              7   \n",
       "13103                            Detroit Pistons            71             33   \n",
       "13104  Multiple Teams (player traded mid season)            85             56   \n",
       "\n",
       "       Minutes Played Per Game  Field Goals Made Per Game  \\\n",
       "0                      26.4000                     4.9000   \n",
       "1                      31.3000                     5.5000   \n",
       "2                      16.2000                     1.9000   \n",
       "3                      31.0000                     6.5000   \n",
       "4                      26.5000                     3.4000   \n",
       "...                        ...                        ...   \n",
       "13100                  27.6000                     2.7000   \n",
       "13101                  21.5000                     2.8000   \n",
       "13102                  17.1000                     1.2000   \n",
       "13103                  22.3000                     3.5000   \n",
       "13104                  31.6000                     5.9000   \n",
       "\n",
       "       Field Goals Attempted Per Game  Average Field Goal % For Season  \\\n",
       "0                              7.5000                           0.6530   \n",
       "1                              9.8000                           0.5600   \n",
       "2                              4.2000                           0.4570   \n",
       "3                             15.7000                           0.4160   \n",
       "4                              6.9000                           0.4950   \n",
       "...                               ...                              ...   \n",
       "13100                          5.6000                           0.4760   \n",
       "13101                          6.6000                           0.4250   \n",
       "13102                          3.1000                           0.3700   \n",
       "13103                          7.6000                           0.4630   \n",
       "13104                         12.4000                           0.4750   \n",
       "\n",
       "       3 Pointers Made Per Game  3 Point Attempts Per Game  \\\n",
       "0                        0.0000                     0.0000   \n",
       "1                        0.5000                     1.9000   \n",
       "2                        0.5000                     1.5000   \n",
       "3                        2.2000                     6.8000   \n",
       "4                        1.0000                     2.4000   \n",
       "...                         ...                        ...   \n",
       "13100                    0.0000                     0.0000   \n",
       "13101                    0.0000                     0.0000   \n",
       "13102                    0.0000                     0.1000   \n",
       "13103                    0.3000                     0.7000   \n",
       "13104                    0.1000                     0.4000   \n",
       "\n",
       "       Average 3 Point % For Season  2 Pointers Made Per Game  \\\n",
       "0                               NaN                    4.9000   \n",
       "1                            0.2890                    5.0000   \n",
       "2                            0.3120                    1.4000   \n",
       "3                            0.3190                    4.3000   \n",
       "4                            0.4230                    2.4000   \n",
       "...                             ...                       ...   \n",
       "13100                        0.0000                    2.7000   \n",
       "13101                           NaN                    2.8000   \n",
       "13102                        0.4440                    1.1000   \n",
       "13103                        0.3750                    3.3000   \n",
       "13104                        0.2650                    5.8000   \n",
       "\n",
       "       2 Point Attempts Per Game  Average 2 Point % For Season  \\\n",
       "0                         7.5000                        0.6530   \n",
       "1                         7.9000                        0.6240   \n",
       "2                         2.7000                        0.5390   \n",
       "3                         8.8000                        0.4920   \n",
       "4                         4.5000                        0.5330   \n",
       "...                          ...                           ...   \n",
       "13100                     5.6000                        0.4770   \n",
       "13101                     6.6000                        0.4250   \n",
       "13102                     3.0000                        0.3670   \n",
       "13103                     7.0000                        0.4720   \n",
       "13104                    12.0000                        0.4820   \n",
       "\n",
       "       Average Effective Field Goal % For Season  Free Throws Made Per Game  \\\n",
       "0                                         0.6530                     1.7000   \n",
       "1                                         0.5880                     2.3000   \n",
       "2                                         0.5140                     1.6000   \n",
       "3                                         0.4860                     3.4000   \n",
       "4                                         0.5690                     1.2000   \n",
       "...                                          ...                        ...   \n",
       "13100                                     0.4760                     1.4000   \n",
       "13101                                     0.4250                     0.8000   \n",
       "13102                                     0.3770                     1.8000   \n",
       "13103                                     0.4800                     2.3000   \n",
       "13104                                     0.4800                     4.4000   \n",
       "\n",
       "       Free Throw Attempts Per Game  Average Free Throw % For Season  \\\n",
       "0                            2.5000                           0.6870   \n",
       "1                            3.5000                           0.6470   \n",
       "2                            2.0000                           0.8080   \n",
       "3                            4.2000                           0.8090   \n",
       "4                            1.5000                           0.7540   \n",
       "...                             ...                              ...   \n",
       "13100                        2.5000                           0.5790   \n",
       "13101                        1.4000                           0.5900   \n",
       "13102                        2.1000                           0.8350   \n",
       "13103                        2.9000                           0.7750   \n",
       "13104                        5.0000                           0.8690   \n",
       "\n",
       "       Offense Rebounds Per Game  Defense Rebounds Per Game  \\\n",
       "0                         2.9000                     6.2000   \n",
       "1                         2.3000                     4.1000   \n",
       "2                         0.6000                     1.5000   \n",
       "3                         0.4000                     4.4000   \n",
       "4                         1.3000                     5.7000   \n",
       "...                          ...                        ...   \n",
       "13100                     2.8000                     4.6000   \n",
       "13101                     1.8000                     3.9000   \n",
       "13102                     0.3000                     1.8000   \n",
       "13103                     2.3000                     3.7000   \n",
       "13104                     2.2000                     5.3000   \n",
       "\n",
       "       Total Rebounds Per Game  Assists Per Game  Steals Per Game  \\\n",
       "0                       9.2000            1.4000           0.2000   \n",
       "1                       6.4000            3.3000           0.8000   \n",
       "2                       2.1000            0.9000           0.2000   \n",
       "3                       4.8000            3.3000           0.7000   \n",
       "4                       7.0000            5.9000           0.8000   \n",
       "...                        ...               ...              ...   \n",
       "13100                   7.4000            1.6000           0.4000   \n",
       "13101                   5.7000            0.6000           0.4000   \n",
       "13102                   2.1000            2.9000           0.6000   \n",
       "13103                   5.9000            1.0000           0.5000   \n",
       "13104                   7.5000            2.0000           0.8000   \n",
       "\n",
       "       Blocks Per Game  Turnovers Per Game  Personal Fouls Per Game  \\\n",
       "0               1.2000              1.2000                   2.7000   \n",
       "1               0.6000              1.4000                   1.9000   \n",
       "2               0.4000              0.7000                   1.3000   \n",
       "3               0.3000              2.2000                   1.3000   \n",
       "4               0.9000              2.5000                   3.1000   \n",
       "...                ...                 ...                      ...   \n",
       "13100           1.8000              1.3000                   2.9000   \n",
       "13101           1.6000              1.3000                   3.2000   \n",
       "13102           0.1000              1.0000                   1.5000   \n",
       "13103           0.9000              1.4000                   1.9000   \n",
       "13104           0.4000              2.2000                   2.6000   \n",
       "\n",
       "       Points Per Game  player_id  Season  team_id  \n",
       "0              11.5000  zubaciv01    2024       13  \n",
       "1              13.8000  gordoaa01    2024        8  \n",
       "2               5.9000  greenje02    2024       11  \n",
       "3              18.6000  greenja05    2024       11  \n",
       "4               9.0000  greendr01    2024       10  \n",
       "...                ...        ...     ...      ...  \n",
       "13100           6.8000  ostergr01    2004       24  \n",
       "13101           6.5000  olowomi01    2004       18  \n",
       "13102           4.2000  ollieke01    2004        6  \n",
       "13103           9.6000   okurme01    2004        9  \n",
       "13104          16.3000  abdursh01    2004       32  \n",
       "\n",
       "[13105 rows x 33 columns]"
      ]
     },
     "execution_count": 229,
     "metadata": {},
     "output_type": "execute_result"
    }
   ],
   "source": [
    "basic_player_stats_regular_season_df"
   ]
  },
  {
   "cell_type": "code",
   "execution_count": null,
   "id": "3d96a8d2",
   "metadata": {},
   "outputs": [],
   "source": []
  }
 ],
 "metadata": {
  "kernelspec": {
   "display_name": "Python 3 (ipykernel)",
   "language": "python",
   "name": "python3"
  },
  "language_info": {
   "codemirror_mode": {
    "name": "ipython",
    "version": 3
   },
   "file_extension": ".py",
   "mimetype": "text/x-python",
   "name": "python",
   "nbconvert_exporter": "python",
   "pygments_lexer": "ipython3",
   "version": "3.9.13"
  }
 },
 "nbformat": 4,
 "nbformat_minor": 5
}
