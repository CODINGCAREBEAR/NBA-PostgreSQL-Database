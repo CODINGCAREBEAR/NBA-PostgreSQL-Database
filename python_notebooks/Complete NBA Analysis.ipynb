{
 "cells": [
  {
   "cell_type": "code",
   "execution_count": 1,
   "id": "b2b9454d",
   "metadata": {
    "scrolled": false
   },
   "outputs": [],
   "source": [
    "import os as os\n",
    "import pandas as pd\n",
    "import numpy as np\n",
    "from sklearn.linear_model import LinearRegression\n",
    "import itertools\n",
    "from openpyxl import load_workbook\n",
    "pd.set_option('display.max_rows', 500)\n",
    "pd.options.display.float_format = '{:.4f}'.format\n",
    "from sklearn.model_selection import train_test_split\n",
    "from sklearn.ensemble import RandomForestClassifier\n",
    "from sklearn.metrics import accuracy_score, roc_auc_score\n",
    "import matplotlib.pyplot as plt\n",
    "from sklearn.metrics import roc_curve, plot_roc_curve, plot_confusion_matrix\n",
    "import random\n",
    "from sklearn.metrics import r2_score\n",
    "pd.set_option('display.max_columns', None)\n",
    "from sklearn.ensemble import GradientBoostingRegressor\n",
    "from sklearn.metrics import mean_squared_error, r2_score\n",
    "from sklearn.model_selection import GridSearchCV\n",
    "from sklearn.ensemble import GradientBoostingRegressor\n",
    "from sklearn.feature_selection import RFECV\n",
    "from sklearn.model_selection import KFold"
   ]
  },
  {
   "cell_type": "markdown",
   "id": "2f15b4ec",
   "metadata": {},
   "source": [
    "# TABLE OF CONTENTS\n",
    "\n",
    "\n",
    "# Stage 1.) Create standardized validation and cleaning functions\n",
    "        \n",
    "        1.) Validate that no yearly files are the EXACT same\n",
    "        2.) Validate that all yearly files being combined have the same column structure\n",
    "        3.) Validate compilation. Ensure the sum of record counts of yearly results = record count of combined dataframe\n",
    "        4.) Validate data completeness. Make sure we have data for every year in the range 2004-2023\n",
    "        5.) Clean player/team names of symbols that denote something in the original source data\n",
    "        \n",
    "\n",
    "# Stage 2.) Compile dataframes from yearly source files. Validate and do preliminary cleaning\n",
    "\n",
    "## 2.1) PLAYER STATS:\n",
    "\n",
    "#### Player Regular Season Stats Dataframes\n",
    "* [Data Source 1. BASIC PLAYER STATS IN REGULAR SEASON](#Step1)\n",
    "        \n",
    "* [Data Source 2. ADVANCED PLAYER STATS IN REGULAR SEASON](#Step2)\n",
    "        - Validate player list of advanced stats = player list of basic stats for each year\n",
    "\n",
    "* [Data Source 3. PLAYER SHOOTING STATS IN REGULAR SEASON](#Step3)\n",
    "        - Validate player list of shooting stats = player list of basic stats for each year\n",
    "        \n",
    "* [Data Source 4. PLAYER PLAY-BY-PLAY STATS IN REGULAR SEASON](#Step4)\n",
    "        - Validate player list of shooting stats = player list of basic stats for each year\n",
    "\n",
    "#### Player Playoff Stats Dataframes\n",
    "\n",
    "* [Data Source 5. BASIC PLAYER STATS IN PLAYOFFS](#Step5)\n",
    "\n",
    "* [Data Source 6. ADVANCED PLAYER STATS IN PLAYOFFS](#Step6)\n",
    "        - Validate player list of basic stats in playoffs = player list of advanced stats in playoffs for each year\n",
    "        \n",
    "* [Data Source 7. PLAYER SHOOTING STATS IN PLAYOFFS](#Step7)\n",
    "        - Validate player list of shooting stats = player list of basic stats for each year\n",
    "        \n",
    "* [Data Source 8. PLAYER PLAY-BY-PLAY STATS IN PLAYOFFS](#Step8)\n",
    "        - Validate player list of shooting stats = player list of basic stats for each year        \n",
    "        \n",
    "#### Player Awards (e.g. MVP) Dataframes\n",
    "* [Data Source 9. AWARD VOTING HISTORY](#Step9)\n",
    "        - Validate manual extraction accuracy by ensuring award winners actually had stats in the year they won the award\n",
    "* [Data Source 10. FINALS MVP](#Step10)\n",
    "        - Validate manual extraction accuracy by ensuring award winners actually had stats in the year they won the award\n",
    "        \n",
    "## 2.2) TEAM STATS: \n",
    "\n",
    "#### Team Regular Season Stats Dataframes\n",
    "* [Data Source 11. BASIC TEAM STATS](#Step11)\n",
    "* [Data Source 12. OPPONENT STATS AGAINST TEAM](#Step12)\n",
    "* [Data Source 13. ADVANCED TEAM STATS](#Step13)\n",
    "* [Data Source 14. TEAM SHOOTING STATS](#Step14)\n",
    "* [Data Source 15, OPPONENT SHOOTING AGAINST TEAM STATS](#Step15)\n",
    "\n",
    "#### Team Regular Season Standings Dataframe\n",
    "* [Data Source 16. REGULAR SEASON TEAM STANDINGS](#Step22)\n",
    "\n",
    "#### Team Playoff Stats Dataframes\n",
    "* [Data Source 17. BASIC TEAM STATS](#Step16)\n",
    "* [Data Source 18. OPPONENT STATS AGAINST TEAM](#Step17)\n",
    "* [Data Source 19. ADVANCED TEAM STATS](#Step18)\n",
    "* [Data Source 20. TEAM SHOOTING STATS](#Step19)\n",
    "* [Data Source 21. OPPONENT SHOOTING AGAINST TEAM STATS](#Step20)\n",
    "\n",
    "#### Team Playoff Standings Dataframe\n",
    "* [Data Source 22. PLAYOFFS TEAM STANDINGS](#Step21)\n",
    "  \n",
    "# Stage 3.) Extensively clean and validate all dataframes as prep for joins\n",
    "* [Step 1. Standardardize name of \"Player Unique ID\" column for all player-related dataframes](#Step23)\n",
    "        - This is necessary because the name of the columns were one of \"-9999\",\"Player-additional\", or \"-additional\"\n",
    "* [Step 2. Standardardize name of \"Team Name\" column for all player-related dataframes](#Step24)\n",
    "        - This is necessary because the name of the columns were one of \"Tm\" or \"Team\"\n",
    "* [Step 3. Address duplicate records for regular season stats where players got traded mid season](#Step25)\n",
    "        - For players that got traded mid-season, keep team value as the team they were traded to last before drop\n",
    "        - Drop duplicate records for players that got traded\n",
    "        - After drop, validate only one player record exists in each regular season player-related dataframe\n",
    "        - After drop, validate all regular season player stat dataframes are the same length\n",
    "* [Step 4. Validate we don't have the same issue for playoff stats for players](#Step26) \n",
    "        - Validate that there aren't multiple player records in playoffs (players can't be traded, so shouldn't)\n",
    "        - Validate all playoff player stat dataframes are the same length as expected\n",
    "* [Step 5. Normalize team names across years where teams change location or name](#Step27) \n",
    "        - Examples include Charlotte Bobcats -> Charlotte Hornets. Or Seattle SuperSonics to OKC Thunder\n",
    "        \n",
    "# Stage 4.) Create keys for table joins across all dataframes\n",
    "\n",
    "* [Key creation 1. Create Player-unique-id-year-concat to enable joins between player tables](#Step28)\n",
    "        - Example of a key for a Giannis record in 2019 would be \"antetgi01-2019\"\n",
    "* [Key creation 2. Create Team-name-year-concat to enable joins between all tables](#Step29) \n",
    "        - Example of a key for a Toronto Raptors record in 2019 would be \"Toronto Raptors-2019\"\n",
    "        \n",
    "# Stage 5.) Change each dataframe's column names to be both more understandable and unique between tables once merged \n",
    "* [Player Related Stats. Change column names](#Step30)\n",
    "        - Include table name in column name so that when we join tables we can differentiate same named columns \n",
    "            - For example, there may be 3P% across multiple tables. Change 3P% to \"Regular season player 3 Point %\"\n",
    "* [Team Related Stats. Change column names](#Step31)\n",
    "        - Include table name in column name so that when we join tables we can differentiate same named columns \n",
    "            - For example, there may be team 3P% across multiple tables. Change 3P% to \"Team Playoff 3 Point %\"\n",
    "            \n",
    "# Stage 6.) Do some feature engineering to aid machine learning in Stage 8+ and refine dataframes further before merge\n",
    "* [Create indicators for each type of qualified* player stat](#Step99)\n",
    "        - Example: create column to indicate a player has played more than 50 games*\n",
    "* [Create ranked stats columns for key stats so you have performance relative to peers](#Step99)\n",
    "        - Example: create column that is the rank of each player's Points Per Game (e.g. top scorer = 1)\n",
    "* [Encode variables like \"Position\"](#Step99)\n",
    "* [Perform final cleaning by excluding redundant columns prior to merging tables](#Step99)\n",
    "        - Examples of redundant columns: Player Name, Team Name, Year\n",
    "       \n",
    "# Stage 7.) Join all REGULAR SEASON player stats, player awards, and team stats tables together into a single, combined dataframe. The machine learning models will train on this combined dataframe. \n",
    "\n",
    "\n",
    "## PLAYER STATS MERGED DATAFRAMES\n",
    "\n",
    "* [Merged Table 1. MERGE ALL REGULAR SEASON PLAYER STATS. Join the following tables together:](#Step32)\n",
    "        - Basic Player Stats (Regular Season)\n",
    "        - Advanced Player Stats (Regular Season)\n",
    "        - Player Shooting Stats (Regular Season)\n",
    "        - Player Play by Play Stats (Regular Season)\n",
    "        \n",
    "* [Merged Table 2. MERGE ALL REGULAR  TEAM STATS. Join the following tables together:](#Step33)\n",
    "        - Basic Team Stats (Regular Season)\n",
    "        - Basic Opponent Team Stats (Regular Season)\n",
    "        - Advanced Team Stats (Regular Season)\n",
    "        - Team Shooting Stats (Regular Season)\n",
    "        - Team Opponent Shooting Stats (Regular Season)\n",
    "        - Team Regular Season Record\n",
    "        \n",
    "## Remove 2024 data and store. This data will be used separately for predicting, not training\n",
    "\n",
    "# Stage 8.) Create machine learning models to predict vote share % for each end of season player award\n",
    "        \n",
    "        Standard Procedures:\n",
    "        - 1.) Merge player stats, team stats, and award stat table to have final data set\n",
    "        - 2.) Split data into training and testing data sets\n",
    "        - 3.) Evaluate model predictive power\n",
    "        - 4.) Identify which features were most important to model\n",
    "        - 5.) Try to simplify/refine model by filtering down to subset of features \n",
    "        - 6.) Use final model to populate and store the model-predicted vote % for every player-season\n",
    "        - 7.) Use final model to predict 2024 award winner\n",
    "\n",
    "\n",
    "\n",
    "* [MVP Award Prediction](#Step34)\n",
    "* [DPOY Award Prediction](#Step35)\n",
    "* [6MAN Award Prediction](#Step36)\n",
    "        - Filtered down training/testing data to just 6MAN eligible candidates (>60 games played, <35 games started)\n",
    "* [ROY Award Prediction](#Step37)\n",
    "        - Load in rookie data spanning 2003-2024 so that we can flag which player-seasons qualified as rookie seasons\n",
    "        - Filtered down training/testing data to just rookies        \n",
    "* [MIP Award Prediction](#Step38)\n",
    "        - Create delta columns to store changes in stats between seasons to help model understand \"improvement\"\n",
    "* [2024 Playoff Prediction](#Step39)\n",
    "        - The results of this exercise were unfortunately very boring. Complex models just barely edged out purely using regular season team record. Turns out regular seasoning winning is really the only important predictor of post season winning \n",
    "          \n",
    "# Stage 9.) Compile all dataframes into one\n",
    "* [Merged Table 3. MERGE ALL PLAYER AWARDS. Join the following tables together:](#Step40)\n",
    "        - MVP Vote History\n",
    "        - ROY Vote History\n",
    "        - All NBA Vote History\n",
    "        - All Defense History\n",
    "        - MIP Vote History\n",
    "        - Six Man Vote History        \n",
    "        - DPOY Vote History\n",
    "        - Finals MVP Vote History\n",
    "* [Merged Table 4. MERGE ALL PLAYOFF PLAYER STATS. Join the following tables together:](#Step41)\n",
    "        - Basic Player Stats (Playoffs)\n",
    "        - Advanced Player Stats (Playoffs)\n",
    "        - Player Shooting Stats (Playoffs)\n",
    "        - Player Play by Play Stats (Playoffs)\n",
    "        \n",
    "* [Merged Table 5. MERGE ALL PLAYOFF TEAM STATS. Join the following tables together:](#Step42)\n",
    "        - Basic Team Stats (Playoffs)\n",
    "        - Basic Opponent Team Stats (Playoffs)\n",
    "        - Advanced Team Stats (Playoffs)\n",
    "        - Team Shooting Stats (Playoffs)\n",
    "        - Team Opponent Shooting Stats (Playoffs)    \n",
    "        \n",
    "* [Merged Table 6. MERGE ALL TEAM RELATED DATA. Join the following tables together:](#Step43)  \n",
    "        - ALL REGULAR SEASON TEAM STATS (created above by merging)\n",
    "        - ALL PLAYOFF TEAM STATS (created above by merging)\n",
    "        - Team Playoff Record         \n",
    "        \n",
    "* [Merged Table 7. MERGE ALL PLAYER RELATED DATA. Join the following tables together:](#Step44)  \n",
    "        - ALL REGULAR SEASON PLAYER STATS (created above by merging)\n",
    "        - ALL PLAYOFF PLAYER STATS (created above by merging)\n",
    "        - All PLAYER AWARDS (created above by merging)\n",
    "        \n",
    "* [Merged Table 8. MERGE ALL PLAYER AND TEAM RELATED DATA INTO ONE ULTIMATE DATAFRAME](#Step45)  \n",
    "        - ALL TEAM RELATED DATA (created above)\n",
    "        - ALL PLAYER RELATED DATA (created above)\n",
    "        \n",
    "# Stage 10.) Export final dataframes of interest\n",
    "\n",
    "* [Special combined team stats containing league average data](#Step46)  \n",
    "* [ULTIMATE FINAL COMBINED DATAFRAME](#Step47)  \n",
    "               "
   ]
  },
  {
   "cell_type": "markdown",
   "id": "2e2a0d06",
   "metadata": {},
   "source": [
    "# Create list of validation functions"
   ]
  },
  {
   "cell_type": "code",
   "execution_count": 2,
   "id": "3e1bbc2e",
   "metadata": {
    "scrolled": false
   },
   "outputs": [],
   "source": [
    "def create_list_of_dataframes_for_yearly_stats(folder_path,header_row_value):\n",
    "\n",
    "    master_df_list = []\n",
    "\n",
    "    cumulative_row_counter = 0\n",
    "\n",
    "    for file_name in os.listdir(folder_path):\n",
    "        \n",
    "        if file_name == 'desktop.ini':\n",
    "            \n",
    "            continue\n",
    "        \n",
    "        # Assign season value\n",
    "        year = file_name.split(' ')[0]\n",
    "\n",
    "        # Create dataframe name\n",
    "        dataframe_name = f'_{file_name.split(\".\")[0].lower().replace(\" \",\"_\")}_df'\n",
    "\n",
    "        # Store dataframe globally with specified name\n",
    "        globals()[dataframe_name] = pd.read_csv(f'{folder_path}\\\\{file_name}',header=header_row_value)\n",
    "\n",
    "        # Add a Year Column and assign to year\n",
    "        globals()[dataframe_name]['Year'] = int(year)\n",
    "\n",
    "        # Append to master_df_list\n",
    "        master_df_list.append(globals()[dataframe_name]) \n",
    "\n",
    "        # Cumulative_row_counter\n",
    "        cumulative_row_counter = cumulative_row_counter + len(globals()[dataframe_name])\n",
    "    \n",
    "    globals()['master_df_list'] = master_df_list\n",
    "    globals()['cumulative_row_counter'] = cumulative_row_counter\n",
    "    \n",
    "    return master_df_list[0].head(1)\n",
    "    "
   ]
  },
  {
   "cell_type": "code",
   "execution_count": 3,
   "id": "15d3a45a",
   "metadata": {
    "scrolled": false
   },
   "outputs": [],
   "source": [
    "def check_all_unique_dataframes(dfs,column_to_ignore):\n",
    "    num_dfs = len(dfs)\n",
    "    identical_pairs = []\n",
    "    \n",
    "    # Dataframes with column removed\n",
    "    list_of_dataframes_edited = []\n",
    "    \n",
    "    # Remove column to ignore\n",
    "    for i in range(num_dfs):\n",
    "        edited_df = dfs[i].drop(column_to_ignore,axis=1)\n",
    "        list_of_dataframes_edited.append(edited_df)\n",
    "\n",
    "    # Compare and append\n",
    "    for i in range(num_dfs):\n",
    "        for j in range(i+1, num_dfs):\n",
    "            if list_of_dataframes_edited[i].equals(list_of_dataframes_edited[j]):\n",
    "                identical_pairs.append((i, j))\n",
    "                \n",
    "    if len(identical_pairs)>0:\n",
    "        raise Exception(f'MATCHING DATAFRAMES FOUND - {identical_pairs}. This is likely the result of accidentally copying the wrong years data while creating yearly data files')  "
   ]
  },
  {
   "cell_type": "code",
   "execution_count": 4,
   "id": "cfaf9b5d",
   "metadata": {
    "scrolled": false
   },
   "outputs": [],
   "source": [
    "def validate_column_structure_is_same(list_of_dataframes):\n",
    "    \n",
    "    first_dataframe_column_structure = list(list_of_dataframes[0].columns)\n",
    "    first_dataframe_column_structure\n",
    "\n",
    "    for dataframe in list_of_dataframes:\n",
    "        if list(dataframe.columns)!=first_dataframe_column_structure:\n",
    "            raise Exception(f\"{dataframe} columns don't match. Review files to ensure they're all the same structure and that a file is not misplaced\")"
   ]
  },
  {
   "cell_type": "code",
   "execution_count": 5,
   "id": "de76b307",
   "metadata": {
    "scrolled": false
   },
   "outputs": [],
   "source": [
    "def concat_dataframes_and_validate_and_reset_index_and_sort(desired_name_of_output_dataframe,list_of_dataframes_to_concat,length_value_to_use_to_validate):\n",
    "    \n",
    "    globals()[desired_name_of_output_dataframe] = pd.concat(list_of_dataframes_to_concat)\n",
    "\n",
    "    # Verify that total record count of master dataframe matches the cumulative record count of the original dataframes\n",
    "    if len(globals()[desired_name_of_output_dataframe])!=length_value_to_use_to_validate:\n",
    "        raise Exception('Record count of master dataframe does not match cumulative count of component dataframes')\n",
    "\n",
    "    # Reset indices and sort\n",
    "    globals()[desired_name_of_output_dataframe] = globals()[desired_name_of_output_dataframe].sort_values('Year',ascending=False)\n",
    "    globals()[desired_name_of_output_dataframe].reset_index(drop=True,inplace=True)\n",
    "    globals()[desired_name_of_output_dataframe].head(1)"
   ]
  },
  {
   "cell_type": "code",
   "execution_count": 6,
   "id": "869e711c",
   "metadata": {
    "scrolled": false
   },
   "outputs": [],
   "source": [
    "def validate_completeness_of_data(dataframe,beginning_year,ending_year_plus_one): \n",
    "\n",
    "    # Validate that every year contains data\n",
    "    set_of_years_in_dataframe = set(dataframe['Year'])\n",
    "    set_of_years_in_range = set(range(2004,2024))\n",
    "\n",
    "    years_not_in_dataframe = list(set_of_years_in_range-set_of_years_in_dataframe)\n",
    "\n",
    "    if len(years_not_in_dataframe)>0:\n",
    "        raise Exception(f'Missing data for the following years: {years_not_in_dataframe}')"
   ]
  },
  {
   "cell_type": "code",
   "execution_count": 7,
   "id": "15757ba6",
   "metadata": {
    "scrolled": false
   },
   "outputs": [],
   "source": [
    "def clean_column_values(dataframe,column_to_clean):\n",
    "    \n",
    "    # Clean player names of symbols like asterisks and names with '.'\n",
    "    dataframe[column_to_clean] = dataframe[column_to_clean].str.replace(\"*\",'')\n",
    "    dataframe[column_to_clean] = dataframe[column_to_clean].str.replace(\".\",'')"
   ]
  },
  {
   "cell_type": "code",
   "execution_count": 8,
   "id": "8a35634f",
   "metadata": {
    "scrolled": false
   },
   "outputs": [],
   "source": [
    "def validate_dataframes_using_column_values(dataframe_to_compare,column_to_compare,dataframe_to_compare_against,column_to_compare_against):\n",
    "    \n",
    "    for year in dataframe_to_compare['Year'].unique():\n",
    "        \n",
    "        # Filter df of interest on year\n",
    "        dataframe_to_compare = dataframe_to_compare.loc[dataframe_to_compare['Year']==year]\n",
    "\n",
    "        # Grab list of players for year\n",
    "        unique_values_of_column_to_compare = set(dataframe_to_compare[column_to_compare])\n",
    "\n",
    "        # Filter basic yearly player stats df on year\n",
    "        dataframe_to_compare_against = dataframe_to_compare_against.loc[dataframe_to_compare_against['Year']==year]\n",
    "\n",
    "        # Grab list of players that played in year\n",
    "        unique_values_of_column_to_compare_against = set(dataframe_to_compare_against[column_to_compare_against])\n",
    "\n",
    "        # Determine difference\n",
    "        unique_values_not_found = list(unique_values_of_column_to_compare - unique_values_of_column_to_compare_against)\n",
    "\n",
    "        # Raise error if players are found to not have played in year\n",
    "        if len(unique_values_not_found)>0:\n",
    "             raise Exception(f'For {year}, {unique_values_not_found} not found in dataframe used to compare against. Likely issue of loading the wrong years data.')"
   ]
  },
  {
   "cell_type": "markdown",
   "id": "9d6eb642",
   "metadata": {},
   "source": [
    "\n",
    "# Stage 2.) Compile PLAYER related dataframes from yearly source files"
   ]
  },
  {
   "cell_type": "markdown",
   "id": "5241464d",
   "metadata": {},
   "source": [
    "## Regular Season Player Stats"
   ]
  },
  {
   "cell_type": "markdown",
   "id": "a1fae500",
   "metadata": {},
   "source": [
    "### BASIC PLAYER STATS IN REGULAR SEASON. Compile yearly data into one dataframe\n",
    " <a class=\"anchor\" id=\"Step1\"></a>"
   ]
  },
  {
   "cell_type": "markdown",
   "id": "3f862492",
   "metadata": {},
   "source": [
    "#### Create dataframes of yearly data"
   ]
  },
  {
   "cell_type": "code",
   "execution_count": 9,
   "id": "be164ae8",
   "metadata": {
    "scrolled": false
   },
   "outputs": [
    {
     "data": {
      "text/html": [
       "<div>\n",
       "<style scoped>\n",
       "    .dataframe tbody tr th:only-of-type {\n",
       "        vertical-align: middle;\n",
       "    }\n",
       "\n",
       "    .dataframe tbody tr th {\n",
       "        vertical-align: top;\n",
       "    }\n",
       "\n",
       "    .dataframe thead th {\n",
       "        text-align: right;\n",
       "    }\n",
       "</style>\n",
       "<table border=\"1\" class=\"dataframe\">\n",
       "  <thead>\n",
       "    <tr style=\"text-align: right;\">\n",
       "      <th></th>\n",
       "      <th>Rk</th>\n",
       "      <th>Player</th>\n",
       "      <th>Pos</th>\n",
       "      <th>Age</th>\n",
       "      <th>Tm</th>\n",
       "      <th>G</th>\n",
       "      <th>GS</th>\n",
       "      <th>MP</th>\n",
       "      <th>FG</th>\n",
       "      <th>FGA</th>\n",
       "      <th>FG%</th>\n",
       "      <th>3P</th>\n",
       "      <th>3PA</th>\n",
       "      <th>3P%</th>\n",
       "      <th>2P</th>\n",
       "      <th>2PA</th>\n",
       "      <th>2P%</th>\n",
       "      <th>eFG%</th>\n",
       "      <th>FT</th>\n",
       "      <th>FTA</th>\n",
       "      <th>FT%</th>\n",
       "      <th>ORB</th>\n",
       "      <th>DRB</th>\n",
       "      <th>TRB</th>\n",
       "      <th>AST</th>\n",
       "      <th>STL</th>\n",
       "      <th>BLK</th>\n",
       "      <th>TOV</th>\n",
       "      <th>PF</th>\n",
       "      <th>PTS</th>\n",
       "      <th>Player-additional</th>\n",
       "      <th>Year</th>\n",
       "    </tr>\n",
       "  </thead>\n",
       "  <tbody>\n",
       "    <tr>\n",
       "      <th>0</th>\n",
       "      <td>1</td>\n",
       "      <td>Shareef Abdur-Rahim</td>\n",
       "      <td>PF</td>\n",
       "      <td>27</td>\n",
       "      <td>TOT</td>\n",
       "      <td>85</td>\n",
       "      <td>56</td>\n",
       "      <td>31.6000</td>\n",
       "      <td>5.9000</td>\n",
       "      <td>12.4000</td>\n",
       "      <td>0.4750</td>\n",
       "      <td>0.1000</td>\n",
       "      <td>0.4000</td>\n",
       "      <td>0.2650</td>\n",
       "      <td>5.8000</td>\n",
       "      <td>12.0000</td>\n",
       "      <td>0.4820</td>\n",
       "      <td>0.4800</td>\n",
       "      <td>4.4000</td>\n",
       "      <td>5.0000</td>\n",
       "      <td>0.8690</td>\n",
       "      <td>2.2000</td>\n",
       "      <td>5.3000</td>\n",
       "      <td>7.5000</td>\n",
       "      <td>2.0000</td>\n",
       "      <td>0.8000</td>\n",
       "      <td>0.4000</td>\n",
       "      <td>2.2000</td>\n",
       "      <td>2.6000</td>\n",
       "      <td>16.3000</td>\n",
       "      <td>abdursh01</td>\n",
       "      <td>2004</td>\n",
       "    </tr>\n",
       "  </tbody>\n",
       "</table>\n",
       "</div>"
      ],
      "text/plain": [
       "   Rk               Player Pos  Age   Tm   G  GS      MP     FG     FGA  \\\n",
       "0   1  Shareef Abdur-Rahim  PF   27  TOT  85  56 31.6000 5.9000 12.4000   \n",
       "\n",
       "     FG%     3P    3PA    3P%     2P     2PA    2P%   eFG%     FT    FTA  \\\n",
       "0 0.4750 0.1000 0.4000 0.2650 5.8000 12.0000 0.4820 0.4800 4.4000 5.0000   \n",
       "\n",
       "     FT%    ORB    DRB    TRB    AST    STL    BLK    TOV     PF     PTS  \\\n",
       "0 0.8690 2.2000 5.3000 7.5000 2.0000 0.8000 0.4000 2.2000 2.6000 16.3000   \n",
       "\n",
       "  Player-additional  Year  \n",
       "0         abdursh01  2004  "
      ]
     },
     "execution_count": 9,
     "metadata": {},
     "output_type": "execute_result"
    }
   ],
   "source": [
    "create_list_of_dataframes_for_yearly_stats(f'{os.getcwd()}\\\\Player Stats\\\\Regular season\\\\NBA Basic Player Stats',0)"
   ]
  },
  {
   "cell_type": "markdown",
   "id": "2ad29f00",
   "metadata": {},
   "source": [
    "###### Validate that all of the yearly data files contain different data"
   ]
  },
  {
   "cell_type": "code",
   "execution_count": 10,
   "id": "a5e135db",
   "metadata": {
    "scrolled": false
   },
   "outputs": [],
   "source": [
    "check_all_unique_dataframes(master_df_list,'Year')"
   ]
  },
  {
   "cell_type": "markdown",
   "id": "fbcf6504",
   "metadata": {},
   "source": [
    "###### Validate that the column structure for every data frame is the same."
   ]
  },
  {
   "cell_type": "code",
   "execution_count": 11,
   "id": "76b2b4cf",
   "metadata": {
    "scrolled": false
   },
   "outputs": [],
   "source": [
    "validate_column_structure_is_same(master_df_list)"
   ]
  },
  {
   "cell_type": "markdown",
   "id": "ba611313",
   "metadata": {},
   "source": [
    "###### Concat/combine yearly dataframes into one AND validate that the length of the combined dataframe is the same as the sum of the yearly dataframes"
   ]
  },
  {
   "cell_type": "code",
   "execution_count": 12,
   "id": "6f7a6876",
   "metadata": {
    "scrolled": false
   },
   "outputs": [],
   "source": [
    "concat_dataframes_and_validate_and_reset_index_and_sort('basic_player_stats_regular_season_df',master_df_list,cumulative_row_counter)"
   ]
  },
  {
   "cell_type": "markdown",
   "id": "5eaba329",
   "metadata": {},
   "source": [
    "###### Validate we have all of the data we need from 2004-2023"
   ]
  },
  {
   "cell_type": "code",
   "execution_count": 13,
   "id": "f61009d2",
   "metadata": {
    "scrolled": false
   },
   "outputs": [],
   "source": [
    "validate_completeness_of_data(basic_player_stats_regular_season_df,2004,2024)"
   ]
  },
  {
   "cell_type": "markdown",
   "id": "ba695672",
   "metadata": {},
   "source": [
    "###### Clean player names"
   ]
  },
  {
   "cell_type": "code",
   "execution_count": 14,
   "id": "a24b3176",
   "metadata": {
    "scrolled": false
   },
   "outputs": [
    {
     "name": "stderr",
     "output_type": "stream",
     "text": [
      "C:\\Users\\Carey\\AppData\\Local\\Temp\\ipykernel_5344\\102270080.py:4: FutureWarning: The default value of regex will change from True to False in a future version. In addition, single character regular expressions will *not* be treated as literal strings when regex=True.\n",
      "  dataframe[column_to_clean] = dataframe[column_to_clean].str.replace(\"*\",'')\n",
      "C:\\Users\\Carey\\AppData\\Local\\Temp\\ipykernel_5344\\102270080.py:5: FutureWarning: The default value of regex will change from True to False in a future version. In addition, single character regular expressions will *not* be treated as literal strings when regex=True.\n",
      "  dataframe[column_to_clean] = dataframe[column_to_clean].str.replace(\".\",'')\n"
     ]
    }
   ],
   "source": [
    "clean_column_values(basic_player_stats_regular_season_df,'Player')"
   ]
  },
  {
   "cell_type": "markdown",
   "id": "c8709b87",
   "metadata": {},
   "source": [
    "###### Validate against dataframe"
   ]
  },
  {
   "cell_type": "code",
   "execution_count": 15,
   "id": "40812357",
   "metadata": {
    "scrolled": false
   },
   "outputs": [],
   "source": [
    "# N/A"
   ]
  },
  {
   "cell_type": "code",
   "execution_count": 16,
   "id": "540f69b7",
   "metadata": {},
   "outputs": [],
   "source": [
    "# Export basic player stats\n",
    "# basic_player_stats_regular_season_df.to_excel('Basic Player Stats.xlsx')"
   ]
  },
  {
   "cell_type": "markdown",
   "id": "25014907",
   "metadata": {},
   "source": [
    "### ADVANCED PLAYER STATS IN REGULAR SEASON. Compile yearly data into one dataframe\n",
    " <a class=\"anchor\" id=\"Step2\"></a>"
   ]
  },
  {
   "cell_type": "markdown",
   "id": "06c8a6e8",
   "metadata": {},
   "source": [
    "#### Create dataframes of yearly data"
   ]
  },
  {
   "cell_type": "code",
   "execution_count": 17,
   "id": "7fc926b4",
   "metadata": {
    "scrolled": false
   },
   "outputs": [
    {
     "data": {
      "text/html": [
       "<div>\n",
       "<style scoped>\n",
       "    .dataframe tbody tr th:only-of-type {\n",
       "        vertical-align: middle;\n",
       "    }\n",
       "\n",
       "    .dataframe tbody tr th {\n",
       "        vertical-align: top;\n",
       "    }\n",
       "\n",
       "    .dataframe thead th {\n",
       "        text-align: right;\n",
       "    }\n",
       "</style>\n",
       "<table border=\"1\" class=\"dataframe\">\n",
       "  <thead>\n",
       "    <tr style=\"text-align: right;\">\n",
       "      <th></th>\n",
       "      <th>Rk</th>\n",
       "      <th>Player</th>\n",
       "      <th>Pos</th>\n",
       "      <th>Age</th>\n",
       "      <th>Tm</th>\n",
       "      <th>G</th>\n",
       "      <th>MP</th>\n",
       "      <th>PER</th>\n",
       "      <th>TS%</th>\n",
       "      <th>3PAr</th>\n",
       "      <th>FTr</th>\n",
       "      <th>ORB%</th>\n",
       "      <th>DRB%</th>\n",
       "      <th>TRB%</th>\n",
       "      <th>AST%</th>\n",
       "      <th>STL%</th>\n",
       "      <th>BLK%</th>\n",
       "      <th>TOV%</th>\n",
       "      <th>USG%</th>\n",
       "      <th>Unnamed: 19</th>\n",
       "      <th>OWS</th>\n",
       "      <th>DWS</th>\n",
       "      <th>WS</th>\n",
       "      <th>WS/48</th>\n",
       "      <th>Unnamed: 24</th>\n",
       "      <th>OBPM</th>\n",
       "      <th>DBPM</th>\n",
       "      <th>BPM</th>\n",
       "      <th>VORP</th>\n",
       "      <th>Player-additional</th>\n",
       "      <th>Year</th>\n",
       "    </tr>\n",
       "  </thead>\n",
       "  <tbody>\n",
       "    <tr>\n",
       "      <th>0</th>\n",
       "      <td>1</td>\n",
       "      <td>Shareef Abdur-Rahim</td>\n",
       "      <td>PF</td>\n",
       "      <td>27</td>\n",
       "      <td>TOT</td>\n",
       "      <td>85</td>\n",
       "      <td>2684</td>\n",
       "      <td>19.9000</td>\n",
       "      <td>0.5570</td>\n",
       "      <td>0.0320</td>\n",
       "      <td>0.4070</td>\n",
       "      <td>8.2000</td>\n",
       "      <td>19.0000</td>\n",
       "      <td>13.6000</td>\n",
       "      <td>12.3000</td>\n",
       "      <td>1.4000</td>\n",
       "      <td>1.0000</td>\n",
       "      <td>12.9000</td>\n",
       "      <td>24.4000</td>\n",
       "      <td>NaN</td>\n",
       "      <td>6.1000</td>\n",
       "      <td>2.0000</td>\n",
       "      <td>8.1000</td>\n",
       "      <td>0.1450</td>\n",
       "      <td>NaN</td>\n",
       "      <td>2.3000</td>\n",
       "      <td>-0.7000</td>\n",
       "      <td>1.6000</td>\n",
       "      <td>2.4000</td>\n",
       "      <td>abdursh01</td>\n",
       "      <td>2004</td>\n",
       "    </tr>\n",
       "  </tbody>\n",
       "</table>\n",
       "</div>"
      ],
      "text/plain": [
       "   Rk               Player Pos  Age   Tm   G    MP     PER    TS%   3PAr  \\\n",
       "0   1  Shareef Abdur-Rahim  PF   27  TOT  85  2684 19.9000 0.5570 0.0320   \n",
       "\n",
       "     FTr   ORB%    DRB%    TRB%    AST%   STL%   BLK%    TOV%    USG%  \\\n",
       "0 0.4070 8.2000 19.0000 13.6000 12.3000 1.4000 1.0000 12.9000 24.4000   \n",
       "\n",
       "   Unnamed: 19    OWS    DWS     WS  WS/48  Unnamed: 24   OBPM    DBPM    BPM  \\\n",
       "0          NaN 6.1000 2.0000 8.1000 0.1450          NaN 2.3000 -0.7000 1.6000   \n",
       "\n",
       "    VORP Player-additional  Year  \n",
       "0 2.4000         abdursh01  2004  "
      ]
     },
     "execution_count": 17,
     "metadata": {},
     "output_type": "execute_result"
    }
   ],
   "source": [
    "create_list_of_dataframes_for_yearly_stats(f'{os.getcwd()}\\\\Player Stats\\\\Regular season\\\\NBA Advanced Player Stats',0)"
   ]
  },
  {
   "cell_type": "markdown",
   "id": "02a8a30f",
   "metadata": {},
   "source": [
    "###### Validate that all of the yearly data files contain different data"
   ]
  },
  {
   "cell_type": "code",
   "execution_count": 18,
   "id": "9cf5df97",
   "metadata": {
    "scrolled": false
   },
   "outputs": [],
   "source": [
    "check_all_unique_dataframes(master_df_list,'Year')"
   ]
  },
  {
   "cell_type": "markdown",
   "id": "1fa8ddb3",
   "metadata": {},
   "source": [
    "###### Validate that the column structure for every data frame is the same."
   ]
  },
  {
   "cell_type": "code",
   "execution_count": 19,
   "id": "dbd0f6b7",
   "metadata": {
    "scrolled": false
   },
   "outputs": [],
   "source": [
    "validate_column_structure_is_same(master_df_list)"
   ]
  },
  {
   "cell_type": "markdown",
   "id": "b0c899c0",
   "metadata": {},
   "source": [
    "###### Concat/combine yearly dataframes into one AND validate that the length of the combined dataframe is the same as the sum of the yearly dataframes"
   ]
  },
  {
   "cell_type": "code",
   "execution_count": 20,
   "id": "d3f7b9d4",
   "metadata": {
    "scrolled": false
   },
   "outputs": [],
   "source": [
    "concat_dataframes_and_validate_and_reset_index_and_sort('advanced_player_stats_in_regular_season_df',master_df_list,cumulative_row_counter)"
   ]
  },
  {
   "cell_type": "markdown",
   "id": "b8b8f099",
   "metadata": {},
   "source": [
    "###### Validate we have all of the data we need from 2004-2023"
   ]
  },
  {
   "cell_type": "code",
   "execution_count": 21,
   "id": "2276f547",
   "metadata": {
    "scrolled": false
   },
   "outputs": [],
   "source": [
    "validate_completeness_of_data(advanced_player_stats_in_regular_season_df,2004,2024)"
   ]
  },
  {
   "cell_type": "markdown",
   "id": "ddd4dcd2",
   "metadata": {},
   "source": [
    "###### Clean player names"
   ]
  },
  {
   "cell_type": "code",
   "execution_count": 22,
   "id": "5337c0e8",
   "metadata": {
    "scrolled": true
   },
   "outputs": [
    {
     "name": "stderr",
     "output_type": "stream",
     "text": [
      "C:\\Users\\Carey\\AppData\\Local\\Temp\\ipykernel_5344\\102270080.py:4: FutureWarning: The default value of regex will change from True to False in a future version. In addition, single character regular expressions will *not* be treated as literal strings when regex=True.\n",
      "  dataframe[column_to_clean] = dataframe[column_to_clean].str.replace(\"*\",'')\n",
      "C:\\Users\\Carey\\AppData\\Local\\Temp\\ipykernel_5344\\102270080.py:5: FutureWarning: The default value of regex will change from True to False in a future version. In addition, single character regular expressions will *not* be treated as literal strings when regex=True.\n",
      "  dataframe[column_to_clean] = dataframe[column_to_clean].str.replace(\".\",'')\n"
     ]
    }
   ],
   "source": [
    "clean_column_values(advanced_player_stats_in_regular_season_df,'Player')"
   ]
  },
  {
   "cell_type": "markdown",
   "id": "d25f06a5",
   "metadata": {},
   "source": [
    "###### Validate against dataframe"
   ]
  },
  {
   "cell_type": "code",
   "execution_count": 23,
   "id": "0f639d0a",
   "metadata": {
    "scrolled": false
   },
   "outputs": [],
   "source": [
    "validate_dataframes_using_column_values(advanced_player_stats_in_regular_season_df,'Player-additional',basic_player_stats_regular_season_df,'Player-additional')"
   ]
  },
  {
   "cell_type": "markdown",
   "id": "9b3b884f",
   "metadata": {},
   "source": [
    "### PLAYER SHOOTING IN REGULAR SEASON. Compile yearly data into one dataframe\n",
    " <a class=\"anchor\" id=\"Step3\"></a>"
   ]
  },
  {
   "cell_type": "markdown",
   "id": "f03be493",
   "metadata": {},
   "source": [
    "#### Create dataframes of yearly data"
   ]
  },
  {
   "cell_type": "code",
   "execution_count": 24,
   "id": "282801d2",
   "metadata": {
    "scrolled": false
   },
   "outputs": [
    {
     "data": {
      "text/html": [
       "<div>\n",
       "<style scoped>\n",
       "    .dataframe tbody tr th:only-of-type {\n",
       "        vertical-align: middle;\n",
       "    }\n",
       "\n",
       "    .dataframe tbody tr th {\n",
       "        vertical-align: top;\n",
       "    }\n",
       "\n",
       "    .dataframe thead th {\n",
       "        text-align: right;\n",
       "    }\n",
       "</style>\n",
       "<table border=\"1\" class=\"dataframe\">\n",
       "  <thead>\n",
       "    <tr style=\"text-align: right;\">\n",
       "      <th></th>\n",
       "      <th>Rk</th>\n",
       "      <th>Player</th>\n",
       "      <th>Pos</th>\n",
       "      <th>Age</th>\n",
       "      <th>Tm</th>\n",
       "      <th>G</th>\n",
       "      <th>MP</th>\n",
       "      <th>FG%</th>\n",
       "      <th>Dist.</th>\n",
       "      <th>Unnamed: 9</th>\n",
       "      <th>2P</th>\n",
       "      <th>0-3</th>\n",
       "      <th>3-10</th>\n",
       "      <th>10-16</th>\n",
       "      <th>16-3P</th>\n",
       "      <th>3P</th>\n",
       "      <th>Unnamed: 16</th>\n",
       "      <th>2P.1</th>\n",
       "      <th>0-3.1</th>\n",
       "      <th>3-10.1</th>\n",
       "      <th>10-16.1</th>\n",
       "      <th>16-3P.1</th>\n",
       "      <th>3P.1</th>\n",
       "      <th>Unnamed: 23</th>\n",
       "      <th>2P.2</th>\n",
       "      <th>3P.2</th>\n",
       "      <th>Unnamed: 26</th>\n",
       "      <th>%FGA</th>\n",
       "      <th>#</th>\n",
       "      <th>Unnamed: 29</th>\n",
       "      <th>%3PA</th>\n",
       "      <th>3P%</th>\n",
       "      <th>Unnamed: 32</th>\n",
       "      <th>Att.</th>\n",
       "      <th>#.1</th>\n",
       "      <th>-9999</th>\n",
       "      <th>Year</th>\n",
       "    </tr>\n",
       "  </thead>\n",
       "  <tbody>\n",
       "    <tr>\n",
       "      <th>0</th>\n",
       "      <td>1</td>\n",
       "      <td>Shareef Abdur-Rahim</td>\n",
       "      <td>PF</td>\n",
       "      <td>27</td>\n",
       "      <td>TOT</td>\n",
       "      <td>85</td>\n",
       "      <td>2684</td>\n",
       "      <td>0.4750</td>\n",
       "      <td>7.8000</td>\n",
       "      <td>NaN</td>\n",
       "      <td>0.9680</td>\n",
       "      <td>0.3570</td>\n",
       "      <td>0.3190</td>\n",
       "      <td>0.1160</td>\n",
       "      <td>0.1760</td>\n",
       "      <td>0.0320</td>\n",
       "      <td>NaN</td>\n",
       "      <td>0.4820</td>\n",
       "      <td>0.5850</td>\n",
       "      <td>0.4260</td>\n",
       "      <td>0.4260</td>\n",
       "      <td>0.4140</td>\n",
       "      <td>0.2650</td>\n",
       "      <td>NaN</td>\n",
       "      <td>0.5390</td>\n",
       "      <td>0.8890</td>\n",
       "      <td>NaN</td>\n",
       "      <td>0.0690</td>\n",
       "      <td>71</td>\n",
       "      <td>NaN</td>\n",
       "      <td>0.2060</td>\n",
       "      <td>0.4290</td>\n",
       "      <td>NaN</td>\n",
       "      <td>0</td>\n",
       "      <td>0</td>\n",
       "      <td>abdursh01</td>\n",
       "      <td>2004</td>\n",
       "    </tr>\n",
       "  </tbody>\n",
       "</table>\n",
       "</div>"
      ],
      "text/plain": [
       "   Rk               Player Pos  Age   Tm   G    MP    FG%  Dist.  Unnamed: 9  \\\n",
       "0   1  Shareef Abdur-Rahim  PF   27  TOT  85  2684 0.4750 7.8000         NaN   \n",
       "\n",
       "      2P    0-3   3-10  10-16  16-3P     3P  Unnamed: 16   2P.1  0-3.1  \\\n",
       "0 0.9680 0.3570 0.3190 0.1160 0.1760 0.0320          NaN 0.4820 0.5850   \n",
       "\n",
       "   3-10.1  10-16.1  16-3P.1   3P.1  Unnamed: 23   2P.2   3P.2  Unnamed: 26  \\\n",
       "0  0.4260   0.4260   0.4140 0.2650          NaN 0.5390 0.8890          NaN   \n",
       "\n",
       "    %FGA   #  Unnamed: 29   %3PA    3P%  Unnamed: 32  Att.  #.1      -9999  \\\n",
       "0 0.0690  71          NaN 0.2060 0.4290          NaN     0    0  abdursh01   \n",
       "\n",
       "   Year  \n",
       "0  2004  "
      ]
     },
     "execution_count": 24,
     "metadata": {},
     "output_type": "execute_result"
    }
   ],
   "source": [
    "create_list_of_dataframes_for_yearly_stats(f'{os.getcwd()}\\\\Player Stats\\\\Regular season\\\\NBA Player Shooting Stats',1)"
   ]
  },
  {
   "cell_type": "markdown",
   "id": "1f1195a6",
   "metadata": {},
   "source": [
    "###### Validate that all of the yearly data files contain different data"
   ]
  },
  {
   "cell_type": "code",
   "execution_count": null,
   "id": "55aef1c4",
   "metadata": {
    "scrolled": false
   },
   "outputs": [],
   "source": [
    "check_all_unique_dataframes(master_df_list,'Year')"
   ]
  },
  {
   "cell_type": "markdown",
   "id": "6717649c",
   "metadata": {},
   "source": [
    "###### Validate that the column structure for every data frame is the same."
   ]
  },
  {
   "cell_type": "code",
   "execution_count": null,
   "id": "3bab30a3",
   "metadata": {
    "scrolled": false
   },
   "outputs": [],
   "source": [
    "validate_column_structure_is_same(master_df_list)"
   ]
  },
  {
   "cell_type": "markdown",
   "id": "8eaa18fe",
   "metadata": {},
   "source": [
    "###### Concat/combine yearly dataframes into one AND validate that the length of the combined dataframe is the same as the sum of the yearly dataframes"
   ]
  },
  {
   "cell_type": "code",
   "execution_count": null,
   "id": "08e1d0e3",
   "metadata": {
    "scrolled": false
   },
   "outputs": [],
   "source": [
    "concat_dataframes_and_validate_and_reset_index_and_sort('player_shooting_in_regular_season_df',master_df_list,cumulative_row_counter)"
   ]
  },
  {
   "cell_type": "markdown",
   "id": "606aa458",
   "metadata": {},
   "source": [
    "###### Validate we have all of the data we need from 2004-2023"
   ]
  },
  {
   "cell_type": "code",
   "execution_count": null,
   "id": "24c8b887",
   "metadata": {
    "scrolled": false
   },
   "outputs": [],
   "source": [
    "validate_completeness_of_data(player_shooting_in_regular_season_df,2004,2024)"
   ]
  },
  {
   "cell_type": "markdown",
   "id": "4a96f894",
   "metadata": {},
   "source": [
    "###### Clean player names"
   ]
  },
  {
   "cell_type": "code",
   "execution_count": null,
   "id": "4c280809",
   "metadata": {
    "scrolled": false
   },
   "outputs": [],
   "source": [
    "clean_column_values(advanced_player_stats_in_regular_season_df,'Player')"
   ]
  },
  {
   "cell_type": "markdown",
   "id": "d5d535f9",
   "metadata": {},
   "source": [
    "###### Validate against dataframe"
   ]
  },
  {
   "cell_type": "code",
   "execution_count": null,
   "id": "bc00e056",
   "metadata": {
    "scrolled": false
   },
   "outputs": [],
   "source": [
    "validate_dataframes_using_column_values(player_shooting_in_regular_season_df,'-9999',basic_player_stats_regular_season_df,'Player-additional')"
   ]
  },
  {
   "cell_type": "markdown",
   "id": "49502249",
   "metadata": {},
   "source": [
    "### PLAYER PLAY-BY-PLAY STATS IN REGULAR SEASON. Compile yearly data into one dataframe\n",
    " <a class=\"anchor\" id=\"Step4\"></a>"
   ]
  },
  {
   "cell_type": "markdown",
   "id": "9032fe95",
   "metadata": {},
   "source": [
    "#### Create dataframes of yearly data"
   ]
  },
  {
   "cell_type": "code",
   "execution_count": null,
   "id": "68057098",
   "metadata": {
    "scrolled": false
   },
   "outputs": [],
   "source": [
    "create_list_of_dataframes_for_yearly_stats(f'{os.getcwd()}\\\\Player Stats\\\\Regular season\\\\NBA Player Play by Play Stats',1)"
   ]
  },
  {
   "cell_type": "markdown",
   "id": "cac8d8ea",
   "metadata": {},
   "source": [
    "###### Validate that all of the yearly data files contain different data"
   ]
  },
  {
   "cell_type": "code",
   "execution_count": null,
   "id": "dc058557",
   "metadata": {
    "scrolled": false
   },
   "outputs": [],
   "source": [
    "check_all_unique_dataframes(master_df_list,'Year')"
   ]
  },
  {
   "cell_type": "markdown",
   "id": "f091cc50",
   "metadata": {},
   "source": [
    "###### Validate that the column structure for every data frame is the same."
   ]
  },
  {
   "cell_type": "code",
   "execution_count": null,
   "id": "284ebddb",
   "metadata": {
    "scrolled": false
   },
   "outputs": [],
   "source": [
    "validate_column_structure_is_same(master_df_list)"
   ]
  },
  {
   "cell_type": "markdown",
   "id": "018a7a91",
   "metadata": {},
   "source": [
    "###### Concat/combine yearly dataframes into one AND validate that the length of the combined dataframe is the same as the sum of the yearly dataframes"
   ]
  },
  {
   "cell_type": "code",
   "execution_count": null,
   "id": "ebbe93b0",
   "metadata": {
    "scrolled": false
   },
   "outputs": [],
   "source": [
    "concat_dataframes_and_validate_and_reset_index_and_sort('player_play_by_play_in_regular_season_df',master_df_list,cumulative_row_counter)"
   ]
  },
  {
   "cell_type": "markdown",
   "id": "b092f252",
   "metadata": {},
   "source": [
    "###### Validate we have all of the data we need from 2004-2023"
   ]
  },
  {
   "cell_type": "code",
   "execution_count": null,
   "id": "1d2b6471",
   "metadata": {
    "scrolled": false
   },
   "outputs": [],
   "source": [
    "validate_completeness_of_data(player_play_by_play_in_regular_season_df,2004,2024)"
   ]
  },
  {
   "cell_type": "markdown",
   "id": "8a476945",
   "metadata": {},
   "source": [
    "###### Clean player names"
   ]
  },
  {
   "cell_type": "code",
   "execution_count": null,
   "id": "1df73acd",
   "metadata": {
    "scrolled": false
   },
   "outputs": [],
   "source": [
    "clean_column_values(player_play_by_play_in_regular_season_df,'Player')"
   ]
  },
  {
   "cell_type": "markdown",
   "id": "747e0610",
   "metadata": {},
   "source": [
    "###### Validate against dataframe"
   ]
  },
  {
   "cell_type": "code",
   "execution_count": null,
   "id": "53e1c87e",
   "metadata": {
    "scrolled": false
   },
   "outputs": [],
   "source": [
    "validate_dataframes_using_column_values(player_play_by_play_in_regular_season_df,'-9999',basic_player_stats_regular_season_df,'Player-additional')"
   ]
  },
  {
   "cell_type": "markdown",
   "id": "9d80fd78",
   "metadata": {},
   "source": [
    "## Player Playoff Stats"
   ]
  },
  {
   "cell_type": "markdown",
   "id": "7e98266a",
   "metadata": {},
   "source": [
    "### BASIC PLAYER STATS IN PLAYOFFS. Compile yearly data into one dataframe\n",
    " <a class=\"anchor\" id=\"Step5\"></a>"
   ]
  },
  {
   "cell_type": "markdown",
   "id": "949f372c",
   "metadata": {},
   "source": [
    "#### Create dataframes of yearly data"
   ]
  },
  {
   "cell_type": "code",
   "execution_count": null,
   "id": "2673f45f",
   "metadata": {
    "scrolled": false
   },
   "outputs": [],
   "source": [
    "create_list_of_dataframes_for_yearly_stats(f'{os.getcwd()}\\\\Player Stats\\\\Playoffs\\\\NBA Basic Player Stats in Playoffs',0)"
   ]
  },
  {
   "cell_type": "markdown",
   "id": "1122e817",
   "metadata": {},
   "source": [
    "###### Validate that all of the yearly data files contain different data"
   ]
  },
  {
   "cell_type": "code",
   "execution_count": null,
   "id": "d80ef9d4",
   "metadata": {
    "scrolled": false
   },
   "outputs": [],
   "source": [
    "check_all_unique_dataframes(master_df_list,'Year')"
   ]
  },
  {
   "cell_type": "markdown",
   "id": "cc570070",
   "metadata": {},
   "source": [
    "###### Validate that the column structure for every data frame is the same."
   ]
  },
  {
   "cell_type": "code",
   "execution_count": null,
   "id": "c2be7c50",
   "metadata": {
    "scrolled": false
   },
   "outputs": [],
   "source": [
    "validate_column_structure_is_same(master_df_list)"
   ]
  },
  {
   "cell_type": "markdown",
   "id": "b566f3a0",
   "metadata": {},
   "source": [
    "###### Concat/combine yearly dataframes into one AND validate that the length of the combined dataframe is the same as the sum of the yearly dataframes"
   ]
  },
  {
   "cell_type": "code",
   "execution_count": null,
   "id": "9fd1a102",
   "metadata": {
    "scrolled": false
   },
   "outputs": [],
   "source": [
    "concat_dataframes_and_validate_and_reset_index_and_sort('player_basic_playoff_stats_df',master_df_list,cumulative_row_counter)"
   ]
  },
  {
   "cell_type": "markdown",
   "id": "a750a8c7",
   "metadata": {},
   "source": [
    "###### Validate we have all of the data we need from 2004-2023"
   ]
  },
  {
   "cell_type": "code",
   "execution_count": null,
   "id": "f54d5548",
   "metadata": {
    "scrolled": false
   },
   "outputs": [],
   "source": [
    "validate_completeness_of_data(player_basic_playoff_stats_df,2004,2024)"
   ]
  },
  {
   "cell_type": "markdown",
   "id": "e2212f59",
   "metadata": {},
   "source": [
    "###### Clean player names"
   ]
  },
  {
   "cell_type": "code",
   "execution_count": null,
   "id": "49367782",
   "metadata": {
    "scrolled": false
   },
   "outputs": [],
   "source": [
    "clean_column_values(player_basic_playoff_stats_df,'Player')"
   ]
  },
  {
   "cell_type": "markdown",
   "id": "79cc4fe0",
   "metadata": {},
   "source": [
    "###### Validate against dataframe"
   ]
  },
  {
   "cell_type": "code",
   "execution_count": null,
   "id": "9bd10b74",
   "metadata": {
    "scrolled": false
   },
   "outputs": [],
   "source": [
    "# N/A"
   ]
  },
  {
   "cell_type": "markdown",
   "id": "cbc32943",
   "metadata": {},
   "source": [
    "### ADVANCED PLAYER STATS IN PLAYOFFS. Compile yearly data into one dataframe\n",
    " <a class=\"anchor\" id=\"Step6\"></a>"
   ]
  },
  {
   "cell_type": "markdown",
   "id": "01f6c569",
   "metadata": {},
   "source": [
    "#### Create dataframes of yearly data"
   ]
  },
  {
   "cell_type": "code",
   "execution_count": null,
   "id": "81423355",
   "metadata": {
    "scrolled": false
   },
   "outputs": [],
   "source": [
    "create_list_of_dataframes_for_yearly_stats(f'{os.getcwd()}\\\\Player Stats\\\\Playoffs\\\\NBA Advanced Player Stats in Playoffs',0)"
   ]
  },
  {
   "cell_type": "markdown",
   "id": "c788c053",
   "metadata": {},
   "source": [
    "###### Validate that all of the yearly data files contain different data"
   ]
  },
  {
   "cell_type": "code",
   "execution_count": null,
   "id": "de3b8310",
   "metadata": {
    "scrolled": false
   },
   "outputs": [],
   "source": [
    "check_all_unique_dataframes(master_df_list,'Year')"
   ]
  },
  {
   "cell_type": "markdown",
   "id": "5c282dad",
   "metadata": {},
   "source": [
    "###### Validate that the column structure for every data frame is the same."
   ]
  },
  {
   "cell_type": "code",
   "execution_count": null,
   "id": "8ff68259",
   "metadata": {
    "scrolled": false
   },
   "outputs": [],
   "source": [
    "validate_column_structure_is_same(master_df_list)"
   ]
  },
  {
   "cell_type": "markdown",
   "id": "d21b3994",
   "metadata": {},
   "source": [
    "###### Concat/combine yearly dataframes into one AND validate that the length of the combined dataframe is the same as the sum of the yearly dataframes"
   ]
  },
  {
   "cell_type": "code",
   "execution_count": null,
   "id": "a1d16590",
   "metadata": {
    "scrolled": false
   },
   "outputs": [],
   "source": [
    "concat_dataframes_and_validate_and_reset_index_and_sort('player_advanced_stats_in_playoffs_df',master_df_list,cumulative_row_counter)"
   ]
  },
  {
   "cell_type": "markdown",
   "id": "b501e536",
   "metadata": {},
   "source": [
    "###### Validate we have all of the data we need from 2004-2023"
   ]
  },
  {
   "cell_type": "code",
   "execution_count": null,
   "id": "ce3c1dc1",
   "metadata": {
    "scrolled": false
   },
   "outputs": [],
   "source": [
    "validate_completeness_of_data(player_advanced_stats_in_playoffs_df,2004,2024)"
   ]
  },
  {
   "cell_type": "markdown",
   "id": "f392982c",
   "metadata": {},
   "source": [
    "###### Clean player names"
   ]
  },
  {
   "cell_type": "code",
   "execution_count": null,
   "id": "740a3608",
   "metadata": {
    "scrolled": false
   },
   "outputs": [],
   "source": [
    "clean_column_values(player_advanced_stats_in_playoffs_df,'Player')"
   ]
  },
  {
   "cell_type": "markdown",
   "id": "4b7c9dcf",
   "metadata": {},
   "source": [
    "###### Validate against dataframe"
   ]
  },
  {
   "cell_type": "code",
   "execution_count": null,
   "id": "0d451db9",
   "metadata": {
    "scrolled": false
   },
   "outputs": [],
   "source": [
    "validate_dataframes_using_column_values(player_advanced_stats_in_playoffs_df,'Player-additional',player_basic_playoff_stats_df,'Player-additional')"
   ]
  },
  {
   "cell_type": "markdown",
   "id": "f1c8c767",
   "metadata": {},
   "source": [
    "### PLAYER SHOOTING STATS IN PLAYOFFS. Compile yearly data into one dataframe\n",
    " <a class=\"anchor\" id=\"Step7\"></a>"
   ]
  },
  {
   "cell_type": "markdown",
   "id": "33e78baa",
   "metadata": {},
   "source": [
    "#### Create dataframes of yearly data"
   ]
  },
  {
   "cell_type": "code",
   "execution_count": null,
   "id": "234aa0c2",
   "metadata": {
    "scrolled": false
   },
   "outputs": [],
   "source": [
    "create_list_of_dataframes_for_yearly_stats(f'{os.getcwd()}\\\\Player Stats\\\\Playoffs\\\\NBA Player Shooting',1)"
   ]
  },
  {
   "cell_type": "markdown",
   "id": "895bb187",
   "metadata": {},
   "source": [
    "###### Validate that all of the yearly data files contain different data"
   ]
  },
  {
   "cell_type": "code",
   "execution_count": null,
   "id": "08693fe0",
   "metadata": {
    "scrolled": false
   },
   "outputs": [],
   "source": [
    "check_all_unique_dataframes(master_df_list,'Year')"
   ]
  },
  {
   "cell_type": "markdown",
   "id": "cb0cda1a",
   "metadata": {},
   "source": [
    "###### Validate that the column structure for every data frame is the same."
   ]
  },
  {
   "cell_type": "code",
   "execution_count": null,
   "id": "7138ddf1",
   "metadata": {
    "scrolled": false
   },
   "outputs": [],
   "source": [
    "validate_column_structure_is_same(master_df_list)"
   ]
  },
  {
   "cell_type": "markdown",
   "id": "c04071cb",
   "metadata": {},
   "source": [
    "###### Concat/combine yearly dataframes into one AND validate that the length of the combined dataframe is the same as the sum of the yearly dataframes"
   ]
  },
  {
   "cell_type": "code",
   "execution_count": null,
   "id": "6e3487a1",
   "metadata": {
    "scrolled": false
   },
   "outputs": [],
   "source": [
    "concat_dataframes_and_validate_and_reset_index_and_sort('player_shooting_stats_in_playoffs_df',master_df_list,cumulative_row_counter)"
   ]
  },
  {
   "cell_type": "markdown",
   "id": "9ea77dba",
   "metadata": {},
   "source": [
    "###### Validate we have all of the data we need from 2004-2023"
   ]
  },
  {
   "cell_type": "code",
   "execution_count": null,
   "id": "81c83124",
   "metadata": {
    "scrolled": false
   },
   "outputs": [],
   "source": [
    "validate_completeness_of_data(player_shooting_stats_in_playoffs_df,2004,2024)"
   ]
  },
  {
   "cell_type": "markdown",
   "id": "eea72604",
   "metadata": {},
   "source": [
    "###### Clean player names"
   ]
  },
  {
   "cell_type": "code",
   "execution_count": null,
   "id": "00612adb",
   "metadata": {
    "scrolled": false
   },
   "outputs": [],
   "source": [
    "clean_column_values(player_shooting_stats_in_playoffs_df,'Player')"
   ]
  },
  {
   "cell_type": "markdown",
   "id": "9cde9808",
   "metadata": {},
   "source": [
    "###### Validate against dataframe"
   ]
  },
  {
   "cell_type": "code",
   "execution_count": null,
   "id": "0068428b",
   "metadata": {
    "scrolled": false
   },
   "outputs": [],
   "source": [
    "validate_dataframes_using_column_values(player_shooting_stats_in_playoffs_df,'-9999',player_basic_playoff_stats_df,'Player-additional')"
   ]
  },
  {
   "cell_type": "markdown",
   "id": "3de55744",
   "metadata": {},
   "source": [
    "### PLAYER PLAY-BY-PLAY STATS IN PLAYOFFS. Compile yearly data into one dataframe\n",
    " <a class=\"anchor\" id=\"Step8\"></a>"
   ]
  },
  {
   "cell_type": "markdown",
   "id": "654da38e",
   "metadata": {},
   "source": [
    "#### Create dataframes of yearly data"
   ]
  },
  {
   "cell_type": "code",
   "execution_count": null,
   "id": "3b7e259b",
   "metadata": {
    "scrolled": false
   },
   "outputs": [],
   "source": [
    "create_list_of_dataframes_for_yearly_stats(f'{os.getcwd()}\\\\Player Stats\\\\Playoffs\\\\NBA Player Play by Play',1)"
   ]
  },
  {
   "cell_type": "markdown",
   "id": "a2fdf78c",
   "metadata": {},
   "source": [
    "###### Validate that all of the yearly data files contain different data"
   ]
  },
  {
   "cell_type": "code",
   "execution_count": null,
   "id": "6938f129",
   "metadata": {
    "scrolled": false
   },
   "outputs": [],
   "source": [
    "check_all_unique_dataframes(master_df_list,'Year')"
   ]
  },
  {
   "cell_type": "markdown",
   "id": "d20255fb",
   "metadata": {},
   "source": [
    "###### Validate that the column structure for every data frame is the same."
   ]
  },
  {
   "cell_type": "code",
   "execution_count": null,
   "id": "3c319ea8",
   "metadata": {
    "scrolled": false
   },
   "outputs": [],
   "source": [
    "validate_column_structure_is_same(master_df_list)"
   ]
  },
  {
   "cell_type": "markdown",
   "id": "9fb1ced2",
   "metadata": {},
   "source": [
    "###### Concat/combine yearly dataframes into one AND validate that the length of the combined dataframe is the same as the sum of the yearly dataframes"
   ]
  },
  {
   "cell_type": "code",
   "execution_count": null,
   "id": "3e9696c7",
   "metadata": {
    "scrolled": false
   },
   "outputs": [],
   "source": [
    "concat_dataframes_and_validate_and_reset_index_and_sort('player_play_by_play_stats_in_playoffs_df',master_df_list,cumulative_row_counter)"
   ]
  },
  {
   "cell_type": "markdown",
   "id": "36185480",
   "metadata": {},
   "source": [
    "###### Validate we have all of the data we need from 2004-2023"
   ]
  },
  {
   "cell_type": "code",
   "execution_count": null,
   "id": "9375eb85",
   "metadata": {
    "scrolled": false
   },
   "outputs": [],
   "source": [
    "validate_completeness_of_data(player_play_by_play_stats_in_playoffs_df,2004,2024)"
   ]
  },
  {
   "cell_type": "markdown",
   "id": "c80877ce",
   "metadata": {},
   "source": [
    "###### Clean player names"
   ]
  },
  {
   "cell_type": "code",
   "execution_count": null,
   "id": "2189336f",
   "metadata": {
    "scrolled": false
   },
   "outputs": [],
   "source": [
    "clean_column_values(player_play_by_play_stats_in_playoffs_df,'Player')"
   ]
  },
  {
   "cell_type": "markdown",
   "id": "46e4dfe9",
   "metadata": {},
   "source": [
    "###### Validate against dataframe"
   ]
  },
  {
   "cell_type": "code",
   "execution_count": null,
   "id": "60c6d3e7",
   "metadata": {
    "scrolled": false
   },
   "outputs": [],
   "source": [
    "validate_dataframes_using_column_values(player_play_by_play_stats_in_playoffs_df,'-9999',player_basic_playoff_stats_df,'Player-additional')"
   ]
  },
  {
   "cell_type": "markdown",
   "id": "d24ce228",
   "metadata": {},
   "source": [
    "## AWARD VOTING HISTORY. For each award, compile yearly data into one dataframe\n",
    " <a class=\"anchor\" id=\"Step9\"></a>"
   ]
  },
  {
   "cell_type": "markdown",
   "id": "b97bf762",
   "metadata": {},
   "source": [
    "### MVP. Compile yearly data into one dataframe"
   ]
  },
  {
   "cell_type": "markdown",
   "id": "efe298b1",
   "metadata": {},
   "source": [
    "#### Create dataframes of yearly data"
   ]
  },
  {
   "cell_type": "code",
   "execution_count": null,
   "id": "ecf33326",
   "metadata": {
    "scrolled": false
   },
   "outputs": [],
   "source": [
    "create_list_of_dataframes_for_yearly_stats(f'{os.getcwd()}\\\\NBA Player Awards\\\\MVP',1)"
   ]
  },
  {
   "cell_type": "markdown",
   "id": "643cb668",
   "metadata": {},
   "source": [
    "###### Validate that all of the yearly data files contain different data"
   ]
  },
  {
   "cell_type": "code",
   "execution_count": null,
   "id": "92ce4fb7",
   "metadata": {
    "scrolled": false
   },
   "outputs": [],
   "source": [
    "check_all_unique_dataframes(master_df_list,'Year')"
   ]
  },
  {
   "cell_type": "markdown",
   "id": "2fff6208",
   "metadata": {},
   "source": [
    "###### Validate that the column structure for every data frame is the same."
   ]
  },
  {
   "cell_type": "code",
   "execution_count": null,
   "id": "ab4c43f1",
   "metadata": {
    "scrolled": false
   },
   "outputs": [],
   "source": [
    "validate_column_structure_is_same(master_df_list)"
   ]
  },
  {
   "cell_type": "markdown",
   "id": "1c0b566d",
   "metadata": {},
   "source": [
    "###### Concat/combine yearly dataframes into one AND validate that the length of the combined dataframe is the same as the sum of the yearly dataframes"
   ]
  },
  {
   "cell_type": "code",
   "execution_count": null,
   "id": "6e53948b",
   "metadata": {
    "scrolled": false
   },
   "outputs": [],
   "source": [
    "concat_dataframes_and_validate_and_reset_index_and_sort('mvp_vote_df',master_df_list,cumulative_row_counter)"
   ]
  },
  {
   "cell_type": "markdown",
   "id": "91ed03f0",
   "metadata": {},
   "source": [
    "###### Validate we have all of the data we need from 2004-2023"
   ]
  },
  {
   "cell_type": "code",
   "execution_count": null,
   "id": "da3d6c11",
   "metadata": {
    "scrolled": false
   },
   "outputs": [],
   "source": [
    "validate_completeness_of_data(mvp_vote_df,2004,2024)"
   ]
  },
  {
   "cell_type": "markdown",
   "id": "e7f0e1b8",
   "metadata": {},
   "source": [
    "###### Clean player names"
   ]
  },
  {
   "cell_type": "code",
   "execution_count": null,
   "id": "b7056bb7",
   "metadata": {
    "scrolled": false
   },
   "outputs": [],
   "source": [
    "clean_column_values(mvp_vote_df,'Player')"
   ]
  },
  {
   "cell_type": "markdown",
   "id": "0564a9ac",
   "metadata": {},
   "source": [
    "###### Validate against dataframe"
   ]
  },
  {
   "cell_type": "code",
   "execution_count": null,
   "id": "e0039674",
   "metadata": {
    "scrolled": false
   },
   "outputs": [],
   "source": [
    "validate_dataframes_using_column_values(mvp_vote_df,'-9999',basic_player_stats_regular_season_df,'Player-additional')"
   ]
  },
  {
   "cell_type": "markdown",
   "id": "af32483f",
   "metadata": {},
   "source": [
    "### ROY. Compile yearly data into one dataframe"
   ]
  },
  {
   "cell_type": "markdown",
   "id": "383a8496",
   "metadata": {},
   "source": [
    "#### Create dataframes of yearly data"
   ]
  },
  {
   "cell_type": "code",
   "execution_count": null,
   "id": "91f58f58",
   "metadata": {
    "scrolled": false
   },
   "outputs": [],
   "source": [
    "create_list_of_dataframes_for_yearly_stats(f'{os.getcwd()}\\\\NBA Player Awards\\\\ROY',1)"
   ]
  },
  {
   "cell_type": "markdown",
   "id": "a7a76d89",
   "metadata": {},
   "source": [
    "###### Validate that all of the yearly data files contain different data"
   ]
  },
  {
   "cell_type": "code",
   "execution_count": null,
   "id": "b02d5898",
   "metadata": {
    "scrolled": false
   },
   "outputs": [],
   "source": [
    "check_all_unique_dataframes(master_df_list,'Year')"
   ]
  },
  {
   "cell_type": "markdown",
   "id": "981c333c",
   "metadata": {},
   "source": [
    "###### Validate that the column structure for every data frame is the same."
   ]
  },
  {
   "cell_type": "code",
   "execution_count": null,
   "id": "2be8fbc4",
   "metadata": {
    "scrolled": false
   },
   "outputs": [],
   "source": [
    "validate_column_structure_is_same(master_df_list)"
   ]
  },
  {
   "cell_type": "markdown",
   "id": "4f965ab9",
   "metadata": {},
   "source": [
    "###### Concat/combine yearly dataframes into one AND validate that the length of the combined dataframe is the same as the sum of the yearly dataframes"
   ]
  },
  {
   "cell_type": "code",
   "execution_count": null,
   "id": "41c8525a",
   "metadata": {
    "scrolled": false
   },
   "outputs": [],
   "source": [
    "concat_dataframes_and_validate_and_reset_index_and_sort('roy_vote_df',master_df_list,cumulative_row_counter)"
   ]
  },
  {
   "cell_type": "markdown",
   "id": "81021e70",
   "metadata": {},
   "source": [
    "###### Validate we have all of the data we need from 2004-2023"
   ]
  },
  {
   "cell_type": "code",
   "execution_count": null,
   "id": "dddc9a7f",
   "metadata": {
    "scrolled": false
   },
   "outputs": [],
   "source": [
    "validate_completeness_of_data(roy_vote_df,2004,2024)"
   ]
  },
  {
   "cell_type": "markdown",
   "id": "1544672f",
   "metadata": {},
   "source": [
    "###### Clean player names"
   ]
  },
  {
   "cell_type": "code",
   "execution_count": null,
   "id": "5a0f537f",
   "metadata": {
    "scrolled": false
   },
   "outputs": [],
   "source": [
    "clean_column_values(roy_vote_df,'Player')"
   ]
  },
  {
   "cell_type": "markdown",
   "id": "d8b64244",
   "metadata": {},
   "source": [
    "###### Validate against dataframe"
   ]
  },
  {
   "cell_type": "code",
   "execution_count": null,
   "id": "d447d4f0",
   "metadata": {
    "scrolled": false
   },
   "outputs": [],
   "source": [
    "validate_dataframes_using_column_values(roy_vote_df,'-9999',basic_player_stats_regular_season_df,'Player-additional')"
   ]
  },
  {
   "cell_type": "markdown",
   "id": "35172377",
   "metadata": {},
   "source": [
    "### ALL NBA. Compile yearly data into one dataframe"
   ]
  },
  {
   "cell_type": "markdown",
   "id": "2705f367",
   "metadata": {},
   "source": [
    "#### Create dataframes of yearly data"
   ]
  },
  {
   "cell_type": "code",
   "execution_count": null,
   "id": "e21a16a5",
   "metadata": {
    "scrolled": false
   },
   "outputs": [],
   "source": [
    "create_list_of_dataframes_for_yearly_stats(f'{os.getcwd()}\\\\NBA Player Awards\\\\ALL NBA',1)"
   ]
  },
  {
   "cell_type": "markdown",
   "id": "7b26e6be",
   "metadata": {},
   "source": [
    "###### Validate that all of the yearly data files contain different data"
   ]
  },
  {
   "cell_type": "code",
   "execution_count": null,
   "id": "371f55d2",
   "metadata": {
    "scrolled": false
   },
   "outputs": [],
   "source": [
    "check_all_unique_dataframes(master_df_list,'Year')"
   ]
  },
  {
   "cell_type": "markdown",
   "id": "45dae33a",
   "metadata": {},
   "source": [
    "###### Validate that the column structure for every data frame is the same."
   ]
  },
  {
   "cell_type": "code",
   "execution_count": null,
   "id": "1b00793d",
   "metadata": {
    "scrolled": false
   },
   "outputs": [],
   "source": [
    "validate_column_structure_is_same(master_df_list)"
   ]
  },
  {
   "cell_type": "markdown",
   "id": "a1665dd7",
   "metadata": {},
   "source": [
    "###### Concat/combine yearly dataframes into one AND validate that the length of the combined dataframe is the same as the sum of the yearly dataframes"
   ]
  },
  {
   "cell_type": "code",
   "execution_count": null,
   "id": "7c364f28",
   "metadata": {
    "scrolled": false
   },
   "outputs": [],
   "source": [
    "concat_dataframes_and_validate_and_reset_index_and_sort('all_nba_df',master_df_list,cumulative_row_counter)"
   ]
  },
  {
   "cell_type": "markdown",
   "id": "b3633a6d",
   "metadata": {},
   "source": [
    "###### Validate we have all of the data we need from 2004-2023"
   ]
  },
  {
   "cell_type": "code",
   "execution_count": null,
   "id": "e4160324",
   "metadata": {
    "scrolled": false
   },
   "outputs": [],
   "source": [
    "validate_completeness_of_data(all_nba_df,2004,2024)"
   ]
  },
  {
   "cell_type": "markdown",
   "id": "a59a2db5",
   "metadata": {},
   "source": [
    "###### Clean player names"
   ]
  },
  {
   "cell_type": "code",
   "execution_count": null,
   "id": "a7a7d94f",
   "metadata": {
    "scrolled": false
   },
   "outputs": [],
   "source": [
    "clean_column_values(all_nba_df,'Player')"
   ]
  },
  {
   "cell_type": "markdown",
   "id": "393f4816",
   "metadata": {},
   "source": [
    "###### Validate against dataframe"
   ]
  },
  {
   "cell_type": "code",
   "execution_count": null,
   "id": "21efbe3d",
   "metadata": {
    "scrolled": false
   },
   "outputs": [],
   "source": [
    "validate_dataframes_using_column_values(all_nba_df,'-9999',basic_player_stats_regular_season_df,'Player-additional')"
   ]
  },
  {
   "cell_type": "markdown",
   "id": "c3fb44ea",
   "metadata": {},
   "source": [
    "### ALL DEFENSE. Compile yearly data into one dataframe"
   ]
  },
  {
   "cell_type": "markdown",
   "id": "deef3571",
   "metadata": {},
   "source": [
    "#### Create dataframes of yearly data"
   ]
  },
  {
   "cell_type": "code",
   "execution_count": null,
   "id": "ace5adf9",
   "metadata": {
    "scrolled": false
   },
   "outputs": [],
   "source": [
    "create_list_of_dataframes_for_yearly_stats(f'{os.getcwd()}\\\\NBA Player Awards\\\\ALL Defense',1)"
   ]
  },
  {
   "cell_type": "markdown",
   "id": "333e694c",
   "metadata": {},
   "source": [
    "###### Validate that all of the yearly data files contain different data"
   ]
  },
  {
   "cell_type": "code",
   "execution_count": null,
   "id": "15069d72",
   "metadata": {
    "scrolled": false
   },
   "outputs": [],
   "source": [
    "check_all_unique_dataframes(master_df_list,'Year')"
   ]
  },
  {
   "cell_type": "markdown",
   "id": "d4be8176",
   "metadata": {},
   "source": [
    "###### Validate that the column structure for every data frame is the same."
   ]
  },
  {
   "cell_type": "code",
   "execution_count": null,
   "id": "ff7fba9f",
   "metadata": {
    "scrolled": false
   },
   "outputs": [],
   "source": [
    "validate_column_structure_is_same(master_df_list)"
   ]
  },
  {
   "cell_type": "markdown",
   "id": "59f63b21",
   "metadata": {},
   "source": [
    "###### Concat/combine yearly dataframes into one AND validate that the length of the combined dataframe is the same as the sum of the yearly dataframes"
   ]
  },
  {
   "cell_type": "code",
   "execution_count": null,
   "id": "7d58f48a",
   "metadata": {
    "scrolled": false
   },
   "outputs": [],
   "source": [
    "concat_dataframes_and_validate_and_reset_index_and_sort('all_defense_df',master_df_list,cumulative_row_counter)"
   ]
  },
  {
   "cell_type": "markdown",
   "id": "67de3a5f",
   "metadata": {},
   "source": [
    "###### Validate we have all of the data we need from 2004-2023"
   ]
  },
  {
   "cell_type": "code",
   "execution_count": null,
   "id": "380d1401",
   "metadata": {
    "scrolled": false
   },
   "outputs": [],
   "source": [
    "validate_completeness_of_data(all_defense_df,2004,2024)"
   ]
  },
  {
   "cell_type": "markdown",
   "id": "cc8494fb",
   "metadata": {},
   "source": [
    "###### Clean player names"
   ]
  },
  {
   "cell_type": "code",
   "execution_count": null,
   "id": "d516d8b7",
   "metadata": {
    "scrolled": false
   },
   "outputs": [],
   "source": [
    "clean_column_values(all_defense_df,'Player')"
   ]
  },
  {
   "cell_type": "markdown",
   "id": "b76df14d",
   "metadata": {},
   "source": [
    "###### Validate against dataframe"
   ]
  },
  {
   "cell_type": "code",
   "execution_count": null,
   "id": "ab04fa74",
   "metadata": {
    "scrolled": false
   },
   "outputs": [],
   "source": [
    "validate_dataframes_using_column_values(all_defense_df,'-9999',basic_player_stats_regular_season_df,'Player-additional')"
   ]
  },
  {
   "cell_type": "markdown",
   "id": "921ce364",
   "metadata": {},
   "source": [
    "### MIP. Compile yearly data into one dataframe"
   ]
  },
  {
   "cell_type": "markdown",
   "id": "5609c095",
   "metadata": {},
   "source": [
    "#### Create dataframes of yearly data"
   ]
  },
  {
   "cell_type": "code",
   "execution_count": null,
   "id": "9cc27446",
   "metadata": {
    "scrolled": false
   },
   "outputs": [],
   "source": [
    "create_list_of_dataframes_for_yearly_stats(f'{os.getcwd()}\\\\NBA Player Awards\\\\MIP',1)"
   ]
  },
  {
   "cell_type": "markdown",
   "id": "32599d39",
   "metadata": {},
   "source": [
    "###### Validate that all of the yearly data files contain different data"
   ]
  },
  {
   "cell_type": "code",
   "execution_count": null,
   "id": "8ed6d87c",
   "metadata": {
    "scrolled": false
   },
   "outputs": [],
   "source": [
    "check_all_unique_dataframes(master_df_list,'Year')"
   ]
  },
  {
   "cell_type": "markdown",
   "id": "a378509f",
   "metadata": {},
   "source": [
    "###### Validate that the column structure for every data frame is the same."
   ]
  },
  {
   "cell_type": "code",
   "execution_count": null,
   "id": "a996f9a5",
   "metadata": {
    "scrolled": false
   },
   "outputs": [],
   "source": [
    "validate_column_structure_is_same(master_df_list)"
   ]
  },
  {
   "cell_type": "markdown",
   "id": "41b95417",
   "metadata": {},
   "source": [
    "###### Concat/combine yearly dataframes into one AND validate that the length of the combined dataframe is the same as the sum of the yearly dataframes"
   ]
  },
  {
   "cell_type": "code",
   "execution_count": null,
   "id": "ac14b285",
   "metadata": {
    "scrolled": false
   },
   "outputs": [],
   "source": [
    "concat_dataframes_and_validate_and_reset_index_and_sort('mip_df',master_df_list,cumulative_row_counter)"
   ]
  },
  {
   "cell_type": "markdown",
   "id": "6013950a",
   "metadata": {},
   "source": [
    "###### Validate we have all of the data we need from 2004-2023"
   ]
  },
  {
   "cell_type": "code",
   "execution_count": null,
   "id": "618d678a",
   "metadata": {
    "scrolled": false
   },
   "outputs": [],
   "source": [
    "validate_completeness_of_data(mip_df,2004,2024)"
   ]
  },
  {
   "cell_type": "markdown",
   "id": "7f167643",
   "metadata": {},
   "source": [
    "###### Clean player names"
   ]
  },
  {
   "cell_type": "code",
   "execution_count": null,
   "id": "98c9e3ce",
   "metadata": {
    "scrolled": false
   },
   "outputs": [],
   "source": [
    "clean_column_values(mip_df,'Player')"
   ]
  },
  {
   "cell_type": "markdown",
   "id": "3af4cb0a",
   "metadata": {},
   "source": [
    "###### Validate against dataframe"
   ]
  },
  {
   "cell_type": "code",
   "execution_count": null,
   "id": "b012dae4",
   "metadata": {
    "scrolled": false
   },
   "outputs": [],
   "source": [
    "validate_dataframes_using_column_values(mip_df,'-9999',basic_player_stats_regular_season_df,'Player-additional')"
   ]
  },
  {
   "cell_type": "markdown",
   "id": "39c7df50",
   "metadata": {},
   "source": [
    "### 6th Man. Compile yearly data into one dataframe"
   ]
  },
  {
   "cell_type": "markdown",
   "id": "81b286c8",
   "metadata": {},
   "source": [
    "#### Create dataframes of yearly data"
   ]
  },
  {
   "cell_type": "code",
   "execution_count": null,
   "id": "0b101a20",
   "metadata": {
    "scrolled": false
   },
   "outputs": [],
   "source": [
    "create_list_of_dataframes_for_yearly_stats(f'{os.getcwd()}\\\\NBA Player Awards\\\\6MAN',1)"
   ]
  },
  {
   "cell_type": "markdown",
   "id": "6cf688d9",
   "metadata": {},
   "source": [
    "###### Validate that all of the yearly data files contain different data"
   ]
  },
  {
   "cell_type": "code",
   "execution_count": null,
   "id": "1f27394f",
   "metadata": {
    "scrolled": false
   },
   "outputs": [],
   "source": [
    "check_all_unique_dataframes(master_df_list,'Year')"
   ]
  },
  {
   "cell_type": "markdown",
   "id": "66d9f912",
   "metadata": {},
   "source": [
    "###### Validate that the column structure for every data frame is the same."
   ]
  },
  {
   "cell_type": "code",
   "execution_count": null,
   "id": "1cfb91fc",
   "metadata": {
    "scrolled": false
   },
   "outputs": [],
   "source": [
    "validate_column_structure_is_same(master_df_list)"
   ]
  },
  {
   "cell_type": "markdown",
   "id": "b50f413a",
   "metadata": {},
   "source": [
    "###### Concat/combine yearly dataframes into one AND validate that the length of the combined dataframe is the same as the sum of the yearly dataframes"
   ]
  },
  {
   "cell_type": "code",
   "execution_count": null,
   "id": "e78c0bc4",
   "metadata": {
    "scrolled": false
   },
   "outputs": [],
   "source": [
    "concat_dataframes_and_validate_and_reset_index_and_sort('six_man_df',master_df_list,cumulative_row_counter)"
   ]
  },
  {
   "cell_type": "markdown",
   "id": "a1fc3ab2",
   "metadata": {},
   "source": [
    "###### Validate we have all of the data we need from 2004-2023"
   ]
  },
  {
   "cell_type": "code",
   "execution_count": null,
   "id": "139d5510",
   "metadata": {
    "scrolled": false
   },
   "outputs": [],
   "source": [
    "validate_completeness_of_data(six_man_df,2004,2024)"
   ]
  },
  {
   "cell_type": "markdown",
   "id": "0a845c71",
   "metadata": {},
   "source": [
    "###### Clean player names"
   ]
  },
  {
   "cell_type": "code",
   "execution_count": null,
   "id": "98fe603f",
   "metadata": {
    "scrolled": false
   },
   "outputs": [],
   "source": [
    "clean_column_values(six_man_df,'Player')"
   ]
  },
  {
   "cell_type": "markdown",
   "id": "527a59a4",
   "metadata": {},
   "source": [
    "###### Validate against dataframe"
   ]
  },
  {
   "cell_type": "code",
   "execution_count": null,
   "id": "5d06e9a9",
   "metadata": {
    "scrolled": false
   },
   "outputs": [],
   "source": [
    "validate_dataframes_using_column_values(six_man_df,'-9999',basic_player_stats_regular_season_df,'Player-additional')"
   ]
  },
  {
   "cell_type": "markdown",
   "id": "a0309bb0",
   "metadata": {},
   "source": [
    "### DPOY. Compile yearly data into one dataframe"
   ]
  },
  {
   "cell_type": "markdown",
   "id": "5fe408f4",
   "metadata": {},
   "source": [
    "#### Create dataframes of yearly data"
   ]
  },
  {
   "cell_type": "code",
   "execution_count": null,
   "id": "4ebff481",
   "metadata": {
    "scrolled": false
   },
   "outputs": [],
   "source": [
    "create_list_of_dataframes_for_yearly_stats(f'{os.getcwd()}\\\\NBA Player Awards\\\\DPOY',1)"
   ]
  },
  {
   "cell_type": "markdown",
   "id": "081f2fa0",
   "metadata": {},
   "source": [
    "###### Validate that all of the yearly data files contain different data"
   ]
  },
  {
   "cell_type": "code",
   "execution_count": null,
   "id": "0298fdb7",
   "metadata": {
    "scrolled": false
   },
   "outputs": [],
   "source": [
    "check_all_unique_dataframes(master_df_list,'Year')"
   ]
  },
  {
   "cell_type": "markdown",
   "id": "8197f904",
   "metadata": {},
   "source": [
    "###### Validate that the column structure for every data frame is the same."
   ]
  },
  {
   "cell_type": "code",
   "execution_count": null,
   "id": "68ba1001",
   "metadata": {
    "scrolled": false
   },
   "outputs": [],
   "source": [
    "validate_column_structure_is_same(master_df_list)"
   ]
  },
  {
   "cell_type": "markdown",
   "id": "2ec3cfdd",
   "metadata": {},
   "source": [
    "###### Concat/combine yearly dataframes into one AND validate that the length of the combined dataframe is the same as the sum of the yearly dataframes"
   ]
  },
  {
   "cell_type": "code",
   "execution_count": null,
   "id": "23c2242e",
   "metadata": {
    "scrolled": false
   },
   "outputs": [],
   "source": [
    "concat_dataframes_and_validate_and_reset_index_and_sort('dpoy_df',master_df_list,cumulative_row_counter)"
   ]
  },
  {
   "cell_type": "markdown",
   "id": "78c8fa36",
   "metadata": {},
   "source": [
    "###### Validate we have all of the data we need from 2004-2023"
   ]
  },
  {
   "cell_type": "code",
   "execution_count": null,
   "id": "a8c1666a",
   "metadata": {
    "scrolled": false
   },
   "outputs": [],
   "source": [
    "validate_completeness_of_data(dpoy_df,2004,2024)"
   ]
  },
  {
   "cell_type": "markdown",
   "id": "f458fee0",
   "metadata": {},
   "source": [
    "###### Clean player names"
   ]
  },
  {
   "cell_type": "code",
   "execution_count": null,
   "id": "1f154429",
   "metadata": {
    "scrolled": false
   },
   "outputs": [],
   "source": [
    "clean_column_values(dpoy_df,'Player')"
   ]
  },
  {
   "cell_type": "markdown",
   "id": "e9b53291",
   "metadata": {},
   "source": [
    "###### Validate against dataframe"
   ]
  },
  {
   "cell_type": "code",
   "execution_count": null,
   "id": "5ab980e2",
   "metadata": {
    "scrolled": false
   },
   "outputs": [],
   "source": [
    "validate_dataframes_using_column_values(dpoy_df,'-9999',basic_player_stats_regular_season_df,'Player-additional')"
   ]
  },
  {
   "cell_type": "markdown",
   "id": "6e0da5bb",
   "metadata": {},
   "source": [
    "## LOAD IN FINALS MVP AND STATS"
   ]
  },
  {
   "cell_type": "code",
   "execution_count": null,
   "id": "e9f0c65d",
   "metadata": {
    "scrolled": false
   },
   "outputs": [],
   "source": [
    "# Load in data\n",
    "finals_mvp = pd.read_csv(f'{os.getcwd()}\\\\NBA Player Awards\\\\Finals MVP Results and Stats.txt',header=1)\n",
    "\n",
    "# Convert season to year\n",
    "finals_mvp.rename({'Season':'Year'},axis=1,inplace=True)\n",
    "finals_mvp['Year'] = [str(int(year.split('-')[1]) + 2000) if len(year.split('-')[1]) == 2 else year.split('-')[1] \n",
    "                     for year in finals_mvp['Year']]\n",
    "\n",
    "# Filter on just years of interest\n",
    "list_of_years = list(range(2003,2024))\n",
    "finals_mvp['Year'] = finals_mvp['Year'].astype(int)\n",
    "finals_mvp = finals_mvp.loc[finals_mvp['Year'].isin(list_of_years)]\n",
    "\n",
    "finals_mvp.head(30)"
   ]
  },
  {
   "cell_type": "markdown",
   "id": "f05a065a",
   "metadata": {},
   "source": [
    "# Stage 2.) Compile TEAM related dataframes from yearly source files   "
   ]
  },
  {
   "cell_type": "markdown",
   "id": "e983b3d5",
   "metadata": {},
   "source": [
    "## Regular Season Team Stats"
   ]
  },
  {
   "cell_type": "markdown",
   "id": "14379a63",
   "metadata": {},
   "source": [
    "### BASIC TEAM STATS IN REGULAR SEASON. Compile yearly data into one dataframe\n",
    " <a class=\"anchor\" id=\"Step11\"></a>"
   ]
  },
  {
   "cell_type": "markdown",
   "id": "bfe8dd58",
   "metadata": {},
   "source": [
    "#### Create dataframes of yearly data"
   ]
  },
  {
   "cell_type": "code",
   "execution_count": null,
   "id": "9044841e",
   "metadata": {
    "scrolled": false
   },
   "outputs": [],
   "source": [
    "create_list_of_dataframes_for_yearly_stats(f'{os.getcwd()}\\\\Team Stats\\\\Regular Season\\\\NBA Basic Team (TEAM) Stats',0)"
   ]
  },
  {
   "cell_type": "markdown",
   "id": "4b6a46bf",
   "metadata": {},
   "source": [
    "###### Validate that all of the yearly data files contain different data"
   ]
  },
  {
   "cell_type": "code",
   "execution_count": null,
   "id": "3e985c90",
   "metadata": {
    "scrolled": false
   },
   "outputs": [],
   "source": [
    "check_all_unique_dataframes(master_df_list,'Year')"
   ]
  },
  {
   "cell_type": "markdown",
   "id": "3fb51c89",
   "metadata": {},
   "source": [
    "###### Validate that the column structure for every data frame is the same."
   ]
  },
  {
   "cell_type": "code",
   "execution_count": null,
   "id": "111550a7",
   "metadata": {
    "scrolled": false
   },
   "outputs": [],
   "source": [
    "validate_column_structure_is_same(master_df_list)"
   ]
  },
  {
   "cell_type": "markdown",
   "id": "0ee47d71",
   "metadata": {},
   "source": [
    "###### Concat/combine yearly dataframes into one AND validate that the length of the combined dataframe is the same as the sum of the yearly dataframes"
   ]
  },
  {
   "cell_type": "code",
   "execution_count": null,
   "id": "075d983f",
   "metadata": {
    "scrolled": false
   },
   "outputs": [],
   "source": [
    "concat_dataframes_and_validate_and_reset_index_and_sort('nba_team_basic_stat_in_regular_season_df',master_df_list,cumulative_row_counter)"
   ]
  },
  {
   "cell_type": "markdown",
   "id": "3f45b59c",
   "metadata": {},
   "source": [
    "###### Validate we have all of the data we need from 2004-2023"
   ]
  },
  {
   "cell_type": "code",
   "execution_count": null,
   "id": "afa776f5",
   "metadata": {
    "scrolled": false
   },
   "outputs": [],
   "source": [
    "validate_completeness_of_data(nba_team_basic_stat_in_regular_season_df,2004,2024)"
   ]
  },
  {
   "cell_type": "markdown",
   "id": "ec822ef2",
   "metadata": {},
   "source": [
    "###### Clean team names"
   ]
  },
  {
   "cell_type": "code",
   "execution_count": null,
   "id": "fe91b4d6",
   "metadata": {
    "scrolled": true
   },
   "outputs": [],
   "source": [
    "clean_column_values(nba_team_basic_stat_in_regular_season_df,'Team')"
   ]
  },
  {
   "cell_type": "markdown",
   "id": "f8ac6388",
   "metadata": {},
   "source": [
    "### OPPONENT BASIC STATS AGAINST TEAM IN REGULAR SEASON. Compile yearly data into one dataframe\n",
    " <a class=\"anchor\" id=\"Step12\"></a>"
   ]
  },
  {
   "cell_type": "markdown",
   "id": "6bef7b95",
   "metadata": {},
   "source": [
    "#### Create dataframes of yearly data"
   ]
  },
  {
   "cell_type": "code",
   "execution_count": null,
   "id": "db08caa2",
   "metadata": {
    "scrolled": false
   },
   "outputs": [],
   "source": [
    "create_list_of_dataframes_for_yearly_stats(f'{os.getcwd()}\\\\Team Stats\\\\Regular Season\\\\NBA Basic Team (OPPONENT) Stats',0)"
   ]
  },
  {
   "cell_type": "markdown",
   "id": "91ed4710",
   "metadata": {},
   "source": [
    "###### Validate that all of the yearly data files contain different data"
   ]
  },
  {
   "cell_type": "code",
   "execution_count": null,
   "id": "bb3688a4",
   "metadata": {
    "scrolled": false
   },
   "outputs": [],
   "source": [
    "check_all_unique_dataframes(master_df_list,'Year')"
   ]
  },
  {
   "cell_type": "markdown",
   "id": "d67cfb76",
   "metadata": {},
   "source": [
    "###### Validate that the column structure for every data frame is the same."
   ]
  },
  {
   "cell_type": "code",
   "execution_count": null,
   "id": "42ab3a22",
   "metadata": {
    "scrolled": false
   },
   "outputs": [],
   "source": [
    "validate_column_structure_is_same(master_df_list)"
   ]
  },
  {
   "cell_type": "markdown",
   "id": "1bf2eb67",
   "metadata": {},
   "source": [
    "###### Concat/combine yearly dataframes into one AND validate that the length of the combined dataframe is the same as the sum of the yearly dataframes"
   ]
  },
  {
   "cell_type": "code",
   "execution_count": null,
   "id": "a6ff331c",
   "metadata": {
    "scrolled": false
   },
   "outputs": [],
   "source": [
    "concat_dataframes_and_validate_and_reset_index_and_sort('nba_team_basic_opponent_stat_in_regular_season_df',master_df_list,cumulative_row_counter)"
   ]
  },
  {
   "cell_type": "markdown",
   "id": "79006fa0",
   "metadata": {},
   "source": [
    "###### Validate we have all of the data we need from 2004-2023"
   ]
  },
  {
   "cell_type": "code",
   "execution_count": null,
   "id": "bbf8c8ab",
   "metadata": {
    "scrolled": false
   },
   "outputs": [],
   "source": [
    "validate_completeness_of_data(nba_team_basic_opponent_stat_in_regular_season_df,2004,2024)"
   ]
  },
  {
   "cell_type": "markdown",
   "id": "f82fc2ff",
   "metadata": {},
   "source": [
    "###### Clean team names"
   ]
  },
  {
   "cell_type": "code",
   "execution_count": null,
   "id": "f7d4d07c",
   "metadata": {
    "scrolled": true
   },
   "outputs": [],
   "source": [
    "clean_column_values(nba_team_basic_opponent_stat_in_regular_season_df,'Team')"
   ]
  },
  {
   "cell_type": "markdown",
   "id": "a3b3705d",
   "metadata": {},
   "source": [
    "### ADVANCED TEAM STATS IN REGULAR SEASON. Compile yearly data into one dataframe\n",
    " <a class=\"anchor\" id=\"Step13\"></a>"
   ]
  },
  {
   "cell_type": "markdown",
   "id": "ad2b08c3",
   "metadata": {},
   "source": [
    "#### Create dataframes of yearly data"
   ]
  },
  {
   "cell_type": "code",
   "execution_count": null,
   "id": "e9996546",
   "metadata": {
    "scrolled": false
   },
   "outputs": [],
   "source": [
    "create_list_of_dataframes_for_yearly_stats(f'{os.getcwd()}\\\\Team Stats\\\\Regular Season\\\\NBA Advanced Team Stats',1)"
   ]
  },
  {
   "cell_type": "markdown",
   "id": "54a50e0d",
   "metadata": {},
   "source": [
    "###### Validate that all of the yearly data files contain different data"
   ]
  },
  {
   "cell_type": "code",
   "execution_count": null,
   "id": "6dd0825d",
   "metadata": {
    "scrolled": false
   },
   "outputs": [],
   "source": [
    "check_all_unique_dataframes(master_df_list,'Year')"
   ]
  },
  {
   "cell_type": "markdown",
   "id": "93bb5b63",
   "metadata": {},
   "source": [
    "###### Validate that the column structure for every data frame is the same."
   ]
  },
  {
   "cell_type": "code",
   "execution_count": null,
   "id": "e3aabcd5",
   "metadata": {
    "scrolled": false
   },
   "outputs": [],
   "source": [
    "validate_column_structure_is_same(master_df_list)"
   ]
  },
  {
   "cell_type": "markdown",
   "id": "07bfafa4",
   "metadata": {},
   "source": [
    "###### Concat/combine yearly dataframes into one AND validate that the length of the combined dataframe is the same as the sum of the yearly dataframes"
   ]
  },
  {
   "cell_type": "code",
   "execution_count": null,
   "id": "4f90e623",
   "metadata": {
    "scrolled": false
   },
   "outputs": [],
   "source": [
    "concat_dataframes_and_validate_and_reset_index_and_sort('nba_advanced_team_stats',master_df_list,cumulative_row_counter)"
   ]
  },
  {
   "cell_type": "markdown",
   "id": "868c4fca",
   "metadata": {},
   "source": [
    "###### Validate we have all of the data we need from 2004-2023"
   ]
  },
  {
   "cell_type": "code",
   "execution_count": null,
   "id": "b86ab921",
   "metadata": {
    "scrolled": false
   },
   "outputs": [],
   "source": [
    "validate_completeness_of_data(nba_advanced_team_stats,2004,2024)"
   ]
  },
  {
   "cell_type": "markdown",
   "id": "9223d8fd",
   "metadata": {},
   "source": [
    "###### Clean team names"
   ]
  },
  {
   "cell_type": "code",
   "execution_count": null,
   "id": "d3978340",
   "metadata": {
    "scrolled": true
   },
   "outputs": [],
   "source": [
    "clean_column_values(nba_advanced_team_stats,'Team')"
   ]
  },
  {
   "cell_type": "markdown",
   "id": "7194cf9f",
   "metadata": {},
   "source": [
    "### TEAM SHOOTING IN REGULAR SEASON. Compile yearly data into one dataframe\n",
    " <a class=\"anchor\" id=\"Step14\"></a>"
   ]
  },
  {
   "cell_type": "markdown",
   "id": "3aad0bab",
   "metadata": {},
   "source": [
    "#### Create dataframes of yearly data"
   ]
  },
  {
   "cell_type": "code",
   "execution_count": null,
   "id": "b533d747",
   "metadata": {
    "scrolled": false
   },
   "outputs": [],
   "source": [
    "create_list_of_dataframes_for_yearly_stats(f'{os.getcwd()}\\\\Team Stats\\\\Regular Season\\\\NBA Shooting Team (TEAM) Stats',1)"
   ]
  },
  {
   "cell_type": "markdown",
   "id": "6967151c",
   "metadata": {},
   "source": [
    "###### Validate that all of the yearly data files contain different data"
   ]
  },
  {
   "cell_type": "code",
   "execution_count": null,
   "id": "117463b5",
   "metadata": {
    "scrolled": false
   },
   "outputs": [],
   "source": [
    "check_all_unique_dataframes(master_df_list,'Year')"
   ]
  },
  {
   "cell_type": "markdown",
   "id": "29fc6477",
   "metadata": {},
   "source": [
    "###### Validate that the column structure for every data frame is the same."
   ]
  },
  {
   "cell_type": "code",
   "execution_count": null,
   "id": "3d738e47",
   "metadata": {
    "scrolled": false
   },
   "outputs": [],
   "source": [
    "validate_column_structure_is_same(master_df_list)"
   ]
  },
  {
   "cell_type": "markdown",
   "id": "08823793",
   "metadata": {},
   "source": [
    "###### Concat/combine yearly dataframes into one AND validate that the length of the combined dataframe is the same as the sum of the yearly dataframes"
   ]
  },
  {
   "cell_type": "code",
   "execution_count": null,
   "id": "8d5f53a5",
   "metadata": {
    "scrolled": false
   },
   "outputs": [],
   "source": [
    "concat_dataframes_and_validate_and_reset_index_and_sort('nba_team_shooting_stat_in_regular_season_df',master_df_list,cumulative_row_counter)"
   ]
  },
  {
   "cell_type": "markdown",
   "id": "b0548f6e",
   "metadata": {},
   "source": [
    "###### Validate we have all of the data we need from 2004-2023"
   ]
  },
  {
   "cell_type": "code",
   "execution_count": null,
   "id": "a8143205",
   "metadata": {
    "scrolled": false
   },
   "outputs": [],
   "source": [
    "validate_completeness_of_data(nba_team_shooting_stat_in_regular_season_df,2004,2024)"
   ]
  },
  {
   "cell_type": "markdown",
   "id": "6f9b112b",
   "metadata": {},
   "source": [
    "###### Clean team names"
   ]
  },
  {
   "cell_type": "code",
   "execution_count": null,
   "id": "6d7091ce",
   "metadata": {
    "scrolled": false
   },
   "outputs": [],
   "source": [
    "clean_column_values(nba_team_shooting_stat_in_regular_season_df,'Team')"
   ]
  },
  {
   "cell_type": "markdown",
   "id": "b359d3b9",
   "metadata": {},
   "source": [
    "### OPPONENT SHOOTING AGAINST TEAM IN REGULAR SEASON. Compile yearly data into one dataframe\n",
    " <a class=\"anchor\" id=\"Step15\"></a>"
   ]
  },
  {
   "cell_type": "markdown",
   "id": "4d4af40d",
   "metadata": {},
   "source": [
    "#### Create dataframes of yearly data"
   ]
  },
  {
   "cell_type": "code",
   "execution_count": null,
   "id": "f8938f2e",
   "metadata": {
    "scrolled": false
   },
   "outputs": [],
   "source": [
    "create_list_of_dataframes_for_yearly_stats(f'{os.getcwd()}\\\\Team Stats\\\\Regular Season\\\\NBA Shooting Team (OPPONENT) Stats',1)"
   ]
  },
  {
   "cell_type": "markdown",
   "id": "a4aad105",
   "metadata": {},
   "source": [
    "###### Validate that all of the yearly data files contain different data"
   ]
  },
  {
   "cell_type": "code",
   "execution_count": null,
   "id": "1e9b9038",
   "metadata": {
    "scrolled": false
   },
   "outputs": [],
   "source": [
    "check_all_unique_dataframes(master_df_list,'Year')"
   ]
  },
  {
   "cell_type": "markdown",
   "id": "66ffb89d",
   "metadata": {},
   "source": [
    "###### Validate that the column structure for every data frame is the same."
   ]
  },
  {
   "cell_type": "code",
   "execution_count": null,
   "id": "cad5abe3",
   "metadata": {
    "scrolled": false
   },
   "outputs": [],
   "source": [
    "validate_column_structure_is_same(master_df_list)"
   ]
  },
  {
   "cell_type": "markdown",
   "id": "7f631397",
   "metadata": {},
   "source": [
    "###### Concat/combine yearly dataframes into one AND validate that the length of the combined dataframe is the same as the sum of the yearly dataframes"
   ]
  },
  {
   "cell_type": "code",
   "execution_count": null,
   "id": "ea4a197c",
   "metadata": {
    "scrolled": false
   },
   "outputs": [],
   "source": [
    "concat_dataframes_and_validate_and_reset_index_and_sort('nba_team_opponent_shooting_stat_in_regular_season_df',master_df_list,cumulative_row_counter)"
   ]
  },
  {
   "cell_type": "markdown",
   "id": "54612ac9",
   "metadata": {},
   "source": [
    "###### Validate we have all of the data we need from 2004-2023"
   ]
  },
  {
   "cell_type": "code",
   "execution_count": null,
   "id": "8488b4df",
   "metadata": {
    "scrolled": false
   },
   "outputs": [],
   "source": [
    "validate_completeness_of_data(nba_team_opponent_shooting_stat_in_regular_season_df,2004,2024)"
   ]
  },
  {
   "cell_type": "markdown",
   "id": "bdfed24d",
   "metadata": {},
   "source": [
    "###### Clean team names"
   ]
  },
  {
   "cell_type": "code",
   "execution_count": null,
   "id": "16d36d4c",
   "metadata": {
    "scrolled": true
   },
   "outputs": [],
   "source": [
    "clean_column_values(nba_team_opponent_shooting_stat_in_regular_season_df,'Team')"
   ]
  },
  {
   "cell_type": "markdown",
   "id": "dad171d9",
   "metadata": {},
   "source": [
    "### Regular Season Team Standings\n",
    " <a class=\"anchor\" id=\"Step22\"></a>"
   ]
  },
  {
   "cell_type": "markdown",
   "id": "59db60f6",
   "metadata": {},
   "source": [
    "#### Create dataframes of yearly data. Remove columns causing load issues (Division data and Month Data) that we're not interested in anyway"
   ]
  },
  {
   "cell_type": "code",
   "execution_count": null,
   "id": "f93940bd",
   "metadata": {
    "scrolled": false
   },
   "outputs": [],
   "source": [
    "folder_path = f'{os.getcwd()}\\\\NBA Standings'\n",
    "\n",
    "master_df_list = []\n",
    "\n",
    "cumulative_row_counter = 0\n",
    "\n",
    "for file_name in os.listdir(folder_path):\n",
    "\n",
    "    if file_name == 'desktop.ini':\n",
    "\n",
    "        continue\n",
    "\n",
    "    # Assign season value\n",
    "    year = file_name.split(' ')[0]\n",
    "\n",
    "    # Create dataframe name\n",
    "    dataframe_name = f'_{file_name.split(\".\")[0].lower().replace(\" \",\"_\")}_df'\n",
    "\n",
    "    # Store dataframe globally with specified name\n",
    "    globals()[dataframe_name] = pd.read_csv(f'{folder_path}\\\\{file_name}',header=1)\n",
    "\n",
    "    # Add a Year Column and assign to year\n",
    "    globals()[dataframe_name]['Year'] = int(year)\n",
    "    \n",
    "    ## Remove columns causing load issues we don't need anyway ##\n",
    "    list_to_remove = ['M','E','W','A','C','SE','NW','P','SW','Oct','Nov','Dec','Jan','Feb','Mar','Apr','May','Jun','Jul','Aug','Sep']\n",
    "    \n",
    "    for column in list_to_remove:\n",
    "        if column in list(globals()[dataframe_name].columns):\n",
    "            globals()[dataframe_name].drop(column,axis=1,inplace=True)\n",
    "\n",
    "    # Append to master_df_list\n",
    "    master_df_list.append(globals()[dataframe_name]) \n",
    "\n",
    "    # Cumulative_row_counter\n",
    "    cumulative_row_counter = cumulative_row_counter + len(globals()[dataframe_name])\n",
    "\n",
    "master_df_list[0].head(1)"
   ]
  },
  {
   "cell_type": "markdown",
   "id": "ad6a960c",
   "metadata": {},
   "source": [
    "###### Validate that all of the yearly data files contain different data"
   ]
  },
  {
   "cell_type": "code",
   "execution_count": null,
   "id": "6f375470",
   "metadata": {
    "scrolled": false
   },
   "outputs": [],
   "source": [
    "check_all_unique_dataframes(master_df_list,'Year')"
   ]
  },
  {
   "cell_type": "markdown",
   "id": "b8eeddaf",
   "metadata": {},
   "source": [
    "###### Validate that the column structure for every data frame is the same."
   ]
  },
  {
   "cell_type": "code",
   "execution_count": null,
   "id": "3758e0ef",
   "metadata": {
    "scrolled": false
   },
   "outputs": [],
   "source": [
    "validate_column_structure_is_same(master_df_list)"
   ]
  },
  {
   "cell_type": "markdown",
   "id": "4b991e9d",
   "metadata": {},
   "source": [
    "###### Concat/combine yearly dataframes into one AND validate that the length of the combined dataframe is the same as the sum of the yearly dataframes"
   ]
  },
  {
   "cell_type": "code",
   "execution_count": null,
   "id": "a1ca5304",
   "metadata": {
    "scrolled": false
   },
   "outputs": [],
   "source": [
    "concat_dataframes_and_validate_and_reset_index_and_sort('regular_season_standing_df',master_df_list,cumulative_row_counter)"
   ]
  },
  {
   "cell_type": "markdown",
   "id": "aae17773",
   "metadata": {},
   "source": [
    "###### Validate we have all of the data we need from 2004-2023"
   ]
  },
  {
   "cell_type": "code",
   "execution_count": null,
   "id": "171a4106",
   "metadata": {
    "scrolled": false
   },
   "outputs": [],
   "source": [
    "validate_completeness_of_data(regular_season_standing_df,2004,2024)"
   ]
  },
  {
   "cell_type": "markdown",
   "id": "05c5e75f",
   "metadata": {},
   "source": [
    "###### Clean team names"
   ]
  },
  {
   "cell_type": "code",
   "execution_count": null,
   "id": "5a8d36d0",
   "metadata": {
    "scrolled": true
   },
   "outputs": [],
   "source": [
    "clean_column_values(regular_season_standing_df,'Team')"
   ]
  },
  {
   "cell_type": "markdown",
   "id": "afed6d56",
   "metadata": {},
   "source": [
    "## Team Playoff Stats"
   ]
  },
  {
   "cell_type": "markdown",
   "id": "d34ffb15",
   "metadata": {},
   "source": [
    "### BASIC TEAM STATS IN PLAYOFFS. Compile yearly data into one dataframe\n",
    " <a class=\"anchor\" id=\"Step16\"></a>"
   ]
  },
  {
   "cell_type": "markdown",
   "id": "e8e2edac",
   "metadata": {},
   "source": [
    "#### Create dataframes of yearly data"
   ]
  },
  {
   "cell_type": "code",
   "execution_count": null,
   "id": "26096e4f",
   "metadata": {
    "scrolled": false
   },
   "outputs": [],
   "source": [
    "create_list_of_dataframes_for_yearly_stats(f'{os.getcwd()}\\\\Team Stats\\\\Playoffs\\\\Team Basic Stats',0)"
   ]
  },
  {
   "cell_type": "markdown",
   "id": "12531e9a",
   "metadata": {},
   "source": [
    "###### Validate that all of the yearly data files contain different data"
   ]
  },
  {
   "cell_type": "code",
   "execution_count": null,
   "id": "8c80700f",
   "metadata": {
    "scrolled": false
   },
   "outputs": [],
   "source": [
    "check_all_unique_dataframes(master_df_list,'Year')"
   ]
  },
  {
   "cell_type": "markdown",
   "id": "7ecbfb40",
   "metadata": {},
   "source": [
    "###### Validate that the column structure for every data frame is the same."
   ]
  },
  {
   "cell_type": "code",
   "execution_count": null,
   "id": "79c2bb38",
   "metadata": {
    "scrolled": false
   },
   "outputs": [],
   "source": [
    "validate_column_structure_is_same(master_df_list)"
   ]
  },
  {
   "cell_type": "markdown",
   "id": "8e23b88b",
   "metadata": {},
   "source": [
    "###### Concat/combine yearly dataframes into one AND validate that the length of the combined dataframe is the same as the sum of the yearly dataframes"
   ]
  },
  {
   "cell_type": "code",
   "execution_count": null,
   "id": "8550e23f",
   "metadata": {
    "scrolled": false
   },
   "outputs": [],
   "source": [
    "concat_dataframes_and_validate_and_reset_index_and_sort('nba_team_basic_stat_in_playoffs_df',master_df_list,cumulative_row_counter)"
   ]
  },
  {
   "cell_type": "markdown",
   "id": "1a8c9fd7",
   "metadata": {},
   "source": [
    "###### Validate we have all of the data we need from 2004-2023"
   ]
  },
  {
   "cell_type": "code",
   "execution_count": null,
   "id": "3e62b517",
   "metadata": {
    "scrolled": false
   },
   "outputs": [],
   "source": [
    "validate_completeness_of_data(nba_team_basic_stat_in_playoffs_df,2004,2024)"
   ]
  },
  {
   "cell_type": "markdown",
   "id": "548774cd",
   "metadata": {},
   "source": [
    "###### Clean team names"
   ]
  },
  {
   "cell_type": "code",
   "execution_count": null,
   "id": "588adaac",
   "metadata": {
    "scrolled": false
   },
   "outputs": [],
   "source": [
    "clean_column_values(nba_team_basic_stat_in_playoffs_df,'Tm')"
   ]
  },
  {
   "cell_type": "markdown",
   "id": "e5dc1a35",
   "metadata": {},
   "source": [
    "### OPPONENT BASIC STATS AGAINST TEAM IN PLAYOFFS. Compile yearly data into one dataframe\n",
    " <a class=\"anchor\" id=\"Step17\"></a>"
   ]
  },
  {
   "cell_type": "markdown",
   "id": "299f1ecc",
   "metadata": {},
   "source": [
    "#### Create dataframes of yearly data"
   ]
  },
  {
   "cell_type": "code",
   "execution_count": null,
   "id": "3c1fc8e4",
   "metadata": {
    "scrolled": false
   },
   "outputs": [],
   "source": [
    "create_list_of_dataframes_for_yearly_stats(f'{os.getcwd()}\\\\Team Stats\\\\Playoffs\\\\Basic Opponent Stats Against Team',0)"
   ]
  },
  {
   "cell_type": "markdown",
   "id": "aa0725e1",
   "metadata": {},
   "source": [
    "###### Validate that all of the yearly data files contain different data"
   ]
  },
  {
   "cell_type": "code",
   "execution_count": null,
   "id": "b88cdde7",
   "metadata": {
    "scrolled": false
   },
   "outputs": [],
   "source": [
    "check_all_unique_dataframes(master_df_list,'Year')"
   ]
  },
  {
   "cell_type": "markdown",
   "id": "b7fe327a",
   "metadata": {},
   "source": [
    "###### Validate that the column structure for every data frame is the same."
   ]
  },
  {
   "cell_type": "code",
   "execution_count": null,
   "id": "971bac4b",
   "metadata": {
    "scrolled": false
   },
   "outputs": [],
   "source": [
    "validate_column_structure_is_same(master_df_list)"
   ]
  },
  {
   "cell_type": "markdown",
   "id": "b82287e4",
   "metadata": {},
   "source": [
    "###### Concat/combine yearly dataframes into one AND validate that the length of the combined dataframe is the same as the sum of the yearly dataframes"
   ]
  },
  {
   "cell_type": "code",
   "execution_count": null,
   "id": "50cc42ce",
   "metadata": {
    "scrolled": false
   },
   "outputs": [],
   "source": [
    "concat_dataframes_and_validate_and_reset_index_and_sort('nba_team_basic_opponent_stat_in_playoffs_df',master_df_list,cumulative_row_counter)"
   ]
  },
  {
   "cell_type": "markdown",
   "id": "4ec295b5",
   "metadata": {},
   "source": [
    "###### Validate we have all of the data we need from 2004-2023"
   ]
  },
  {
   "cell_type": "code",
   "execution_count": null,
   "id": "cb2376e8",
   "metadata": {
    "scrolled": false
   },
   "outputs": [],
   "source": [
    "validate_completeness_of_data(nba_team_basic_opponent_stat_in_playoffs_df,2004,2024)"
   ]
  },
  {
   "cell_type": "markdown",
   "id": "c6340c30",
   "metadata": {},
   "source": [
    "###### Clean team names"
   ]
  },
  {
   "cell_type": "code",
   "execution_count": null,
   "id": "b684e36d",
   "metadata": {
    "scrolled": false
   },
   "outputs": [],
   "source": [
    "clean_column_values(nba_team_basic_opponent_stat_in_playoffs_df,'Tm')"
   ]
  },
  {
   "cell_type": "markdown",
   "id": "2492f08e",
   "metadata": {},
   "source": [
    "###### Validate against dataframe"
   ]
  },
  {
   "cell_type": "code",
   "execution_count": null,
   "id": "9cfb78ac",
   "metadata": {
    "scrolled": false
   },
   "outputs": [],
   "source": [
    "validate_dataframes_using_column_values(nba_team_basic_opponent_stat_in_playoffs_df,'Tm',nba_team_basic_stat_in_playoffs_df,'Tm')"
   ]
  },
  {
   "cell_type": "markdown",
   "id": "658c393c",
   "metadata": {},
   "source": [
    "### ADVANCED TEAM STATS IN PLAYOFFS. Compile yearly data into one dataframe\n",
    "\n",
    " <a class=\"anchor\" id=\"Step18\"></a>"
   ]
  },
  {
   "cell_type": "markdown",
   "id": "1d10001b",
   "metadata": {},
   "source": [
    "#### Create dataframes of yearly data"
   ]
  },
  {
   "cell_type": "code",
   "execution_count": null,
   "id": "59bbf5f1",
   "metadata": {
    "scrolled": false
   },
   "outputs": [],
   "source": [
    "create_list_of_dataframes_for_yearly_stats(f'{os.getcwd()}\\\\Team Stats\\\\Playoffs\\\\Advanced',1)"
   ]
  },
  {
   "cell_type": "markdown",
   "id": "571cf0ef",
   "metadata": {},
   "source": [
    "###### Validate that all of the yearly data files contain different data"
   ]
  },
  {
   "cell_type": "code",
   "execution_count": null,
   "id": "63ce1244",
   "metadata": {
    "scrolled": false
   },
   "outputs": [],
   "source": [
    "check_all_unique_dataframes(master_df_list,'Year')"
   ]
  },
  {
   "cell_type": "markdown",
   "id": "544f586c",
   "metadata": {},
   "source": [
    "###### Validate that the column structure for every data frame is the same."
   ]
  },
  {
   "cell_type": "code",
   "execution_count": null,
   "id": "005e751b",
   "metadata": {
    "scrolled": false
   },
   "outputs": [],
   "source": [
    "validate_column_structure_is_same(master_df_list)"
   ]
  },
  {
   "cell_type": "markdown",
   "id": "8ef1d2ff",
   "metadata": {},
   "source": [
    "###### Concat/combine yearly dataframes into one AND validate that the length of the combined dataframe is the same as the sum of the yearly dataframes"
   ]
  },
  {
   "cell_type": "code",
   "execution_count": null,
   "id": "87d0efb6",
   "metadata": {
    "scrolled": false
   },
   "outputs": [],
   "source": [
    "concat_dataframes_and_validate_and_reset_index_and_sort('nba_team_advanced_stat_in_playoffs_df',master_df_list,cumulative_row_counter)"
   ]
  },
  {
   "cell_type": "markdown",
   "id": "f34c60e9",
   "metadata": {},
   "source": [
    "###### Validate we have all of the data we need from 2004-2023"
   ]
  },
  {
   "cell_type": "code",
   "execution_count": null,
   "id": "12ca10ef",
   "metadata": {
    "scrolled": false
   },
   "outputs": [],
   "source": [
    "validate_completeness_of_data(nba_team_advanced_stat_in_playoffs_df,2004,2024)"
   ]
  },
  {
   "cell_type": "markdown",
   "id": "5792e5f7",
   "metadata": {},
   "source": [
    "###### Clean team names"
   ]
  },
  {
   "cell_type": "code",
   "execution_count": null,
   "id": "dd7b2dbd",
   "metadata": {
    "scrolled": true
   },
   "outputs": [],
   "source": [
    "clean_column_values(nba_team_advanced_stat_in_playoffs_df,'Tm')"
   ]
  },
  {
   "cell_type": "markdown",
   "id": "c5aa6be2",
   "metadata": {},
   "source": [
    "###### Validate against dataframe"
   ]
  },
  {
   "cell_type": "code",
   "execution_count": null,
   "id": "75c59190",
   "metadata": {
    "scrolled": false
   },
   "outputs": [],
   "source": [
    "validate_dataframes_using_column_values(nba_team_advanced_stat_in_playoffs_df,'Tm',nba_team_basic_stat_in_playoffs_df,'Tm')"
   ]
  },
  {
   "cell_type": "markdown",
   "id": "d3dcc159",
   "metadata": {},
   "source": [
    "### TEAM SHOOTING IN PLAYOFFS. Compile yearly data into one dataframe\n",
    " <a class=\"anchor\" id=\"Step19\"></a>"
   ]
  },
  {
   "cell_type": "markdown",
   "id": "309f3dc0",
   "metadata": {},
   "source": [
    "#### Create dataframes of yearly data"
   ]
  },
  {
   "cell_type": "code",
   "execution_count": null,
   "id": "215185c7",
   "metadata": {
    "scrolled": false
   },
   "outputs": [],
   "source": [
    "create_list_of_dataframes_for_yearly_stats(f'{os.getcwd()}\\\\Team Stats\\\\Playoffs\\\\Team Shooting',1)"
   ]
  },
  {
   "cell_type": "markdown",
   "id": "66db0d3e",
   "metadata": {},
   "source": [
    "###### Validate that all of the yearly data files contain different data"
   ]
  },
  {
   "cell_type": "code",
   "execution_count": null,
   "id": "d6029a20",
   "metadata": {
    "scrolled": false
   },
   "outputs": [],
   "source": [
    "check_all_unique_dataframes(master_df_list,'Year')"
   ]
  },
  {
   "cell_type": "markdown",
   "id": "7375ecec",
   "metadata": {},
   "source": [
    "###### Validate that the column structure for every data frame is the same."
   ]
  },
  {
   "cell_type": "code",
   "execution_count": null,
   "id": "f8bd9aea",
   "metadata": {
    "scrolled": false
   },
   "outputs": [],
   "source": [
    "validate_column_structure_is_same(master_df_list)"
   ]
  },
  {
   "cell_type": "markdown",
   "id": "d030349e",
   "metadata": {},
   "source": [
    "###### Concat/combine yearly dataframes into one AND validate that the length of the combined dataframe is the same as the sum of the yearly dataframes"
   ]
  },
  {
   "cell_type": "code",
   "execution_count": null,
   "id": "0525771c",
   "metadata": {
    "scrolled": false
   },
   "outputs": [],
   "source": [
    "concat_dataframes_and_validate_and_reset_index_and_sort('nba_team_shooting_in_playoffs_df',master_df_list,cumulative_row_counter)"
   ]
  },
  {
   "cell_type": "markdown",
   "id": "ee6361a7",
   "metadata": {},
   "source": [
    "###### Validate we have all of the data we need from 2004-2023"
   ]
  },
  {
   "cell_type": "code",
   "execution_count": null,
   "id": "fb9eec46",
   "metadata": {
    "scrolled": false
   },
   "outputs": [],
   "source": [
    "validate_completeness_of_data(nba_team_shooting_in_playoffs_df,2004,2024)"
   ]
  },
  {
   "cell_type": "markdown",
   "id": "1633613b",
   "metadata": {},
   "source": [
    "###### Clean team names"
   ]
  },
  {
   "cell_type": "code",
   "execution_count": null,
   "id": "60874fe5",
   "metadata": {
    "scrolled": true
   },
   "outputs": [],
   "source": [
    "clean_column_values(nba_team_shooting_in_playoffs_df,'Tm')"
   ]
  },
  {
   "cell_type": "markdown",
   "id": "3e03d4a7",
   "metadata": {},
   "source": [
    "###### Validate against dataframe"
   ]
  },
  {
   "cell_type": "code",
   "execution_count": null,
   "id": "bb227511",
   "metadata": {
    "scrolled": false
   },
   "outputs": [],
   "source": [
    "validate_dataframes_using_column_values(nba_team_shooting_in_playoffs_df,'Tm',nba_team_basic_stat_in_playoffs_df,'Tm')"
   ]
  },
  {
   "cell_type": "markdown",
   "id": "476f3f95",
   "metadata": {},
   "source": [
    "### OPPONENT SHOOTING AGAINST TEAM IN PLAYOFFS. Compile yearly data into one dataframe\n",
    " <a class=\"anchor\" id=\"Step20\"></a>"
   ]
  },
  {
   "cell_type": "markdown",
   "id": "fd8c6b0c",
   "metadata": {},
   "source": [
    "#### Create dataframes of yearly data"
   ]
  },
  {
   "cell_type": "code",
   "execution_count": null,
   "id": "3c1644bb",
   "metadata": {
    "scrolled": false
   },
   "outputs": [],
   "source": [
    "create_list_of_dataframes_for_yearly_stats(f'{os.getcwd()}\\\\Team Stats\\\\Playoffs\\\\Opponent Shooting Stats Against Team',1)"
   ]
  },
  {
   "cell_type": "markdown",
   "id": "c8045996",
   "metadata": {},
   "source": [
    "###### Validate that all of the yearly data files contain different data"
   ]
  },
  {
   "cell_type": "code",
   "execution_count": null,
   "id": "297f3124",
   "metadata": {
    "scrolled": false
   },
   "outputs": [],
   "source": [
    "check_all_unique_dataframes(master_df_list,'Year')"
   ]
  },
  {
   "cell_type": "markdown",
   "id": "7fd7c9ef",
   "metadata": {},
   "source": [
    "###### Validate that the column structure for every data frame is the same."
   ]
  },
  {
   "cell_type": "code",
   "execution_count": null,
   "id": "6c27ddcd",
   "metadata": {
    "scrolled": false
   },
   "outputs": [],
   "source": [
    "validate_column_structure_is_same(master_df_list)"
   ]
  },
  {
   "cell_type": "markdown",
   "id": "d94f8dde",
   "metadata": {},
   "source": [
    "###### Concat/combine yearly dataframes into one AND validate that the length of the combined dataframe is the same as the sum of the yearly dataframes"
   ]
  },
  {
   "cell_type": "code",
   "execution_count": null,
   "id": "678b2c17",
   "metadata": {
    "scrolled": false
   },
   "outputs": [],
   "source": [
    "concat_dataframes_and_validate_and_reset_index_and_sort('nba_team_opponent_shooting_stat_in_playoffs_df',master_df_list,cumulative_row_counter)"
   ]
  },
  {
   "cell_type": "markdown",
   "id": "6001c208",
   "metadata": {},
   "source": [
    "###### Validate we have all of the data we need from 2004-2023"
   ]
  },
  {
   "cell_type": "code",
   "execution_count": null,
   "id": "ed4d9e4b",
   "metadata": {
    "scrolled": false
   },
   "outputs": [],
   "source": [
    "validate_completeness_of_data(nba_team_opponent_shooting_stat_in_playoffs_df,2004,2024)"
   ]
  },
  {
   "cell_type": "markdown",
   "id": "2d602754",
   "metadata": {},
   "source": [
    "###### Clean team names"
   ]
  },
  {
   "cell_type": "code",
   "execution_count": null,
   "id": "60c935e7",
   "metadata": {
    "scrolled": true
   },
   "outputs": [],
   "source": [
    "clean_column_values(nba_team_opponent_shooting_stat_in_playoffs_df,'Tm')"
   ]
  },
  {
   "cell_type": "markdown",
   "id": "bfe327f2",
   "metadata": {},
   "source": [
    "###### Validate against dataframe"
   ]
  },
  {
   "cell_type": "code",
   "execution_count": null,
   "id": "a7ba8f33",
   "metadata": {
    "scrolled": false
   },
   "outputs": [],
   "source": [
    "validate_dataframes_using_column_values(nba_team_opponent_shooting_stat_in_playoffs_df,'Tm',nba_team_basic_stat_in_playoffs_df,'Tm')"
   ]
  },
  {
   "cell_type": "markdown",
   "id": "67c524f2",
   "metadata": {},
   "source": [
    "### TEAM PLAYOFF STANDINGS. Compile yearly data into onedataframe \n",
    " <a class=\"anchor\" id=\"Step21\"></a>"
   ]
  },
  {
   "cell_type": "markdown",
   "id": "743ea239",
   "metadata": {},
   "source": [
    "#### Create dataframes of yearly data"
   ]
  },
  {
   "cell_type": "code",
   "execution_count": null,
   "id": "33e1492d",
   "metadata": {
    "scrolled": false
   },
   "outputs": [],
   "source": [
    "folder_path = f'{os.getcwd()}\\\\NBA Playoff Results\\\\Playoff Standings'\n",
    "    \n",
    "master_df_list = []\n",
    "\n",
    "cumulative_row_counter = 0\n",
    "\n",
    "for file_name in os.listdir(folder_path):\n",
    "\n",
    "    if file_name == 'desktop.ini':\n",
    "\n",
    "        continue\n",
    "\n",
    "    # Assign season value\n",
    "    year = file_name.split(' ')[0]\n",
    "\n",
    "    # Create dataframe name\n",
    "    dataframe_name = f'_{file_name.split(\".\")[0].lower().replace(\" \",\"_\")}_df'\n",
    "\n",
    "    # Store dataframe globally with specified name\n",
    "    globals()[dataframe_name] = pd.read_csv(f'{folder_path}\\\\{file_name}',header=1)\n",
    "\n",
    "    # Add a Year Column and assign to year\n",
    "    globals()[dataframe_name]['Year'] = int(year)\n",
    "\n",
    "    # Remove division columns from dataframe\n",
    "    list_of_columns_to_drop = ['A','C','M','P','SW','SE','NW','Apr','May','Jun','Jul','Aug','Sep','Oct','≤3','≥10']\n",
    "        \n",
    "    for column in list_of_columns_to_drop:\n",
    "        \n",
    "        if column in list(globals()[dataframe_name].columns):\n",
    "        \n",
    "            globals()[dataframe_name] = globals()[dataframe_name].drop(column,axis=1)\n",
    "    \n",
    "    # Append to master_df_list\n",
    "    master_df_list.append(globals()[dataframe_name]) \n",
    "\n",
    "    # Cumulative_row_counter\n",
    "    cumulative_row_counter = cumulative_row_counter + len(globals()[dataframe_name])\n",
    "\n",
    "\n",
    "master_df_list[0].head(1)"
   ]
  },
  {
   "cell_type": "markdown",
   "id": "19419da6",
   "metadata": {},
   "source": [
    "###### Validate that all of the yearly data files contain different data"
   ]
  },
  {
   "cell_type": "code",
   "execution_count": null,
   "id": "ff082b4a",
   "metadata": {
    "scrolled": false
   },
   "outputs": [],
   "source": [
    "check_all_unique_dataframes(master_df_list,'Year')"
   ]
  },
  {
   "cell_type": "markdown",
   "id": "b4dee873",
   "metadata": {},
   "source": [
    "###### Validate that the column structure for every data frame is the same."
   ]
  },
  {
   "cell_type": "code",
   "execution_count": null,
   "id": "5c151b02",
   "metadata": {
    "scrolled": false
   },
   "outputs": [],
   "source": [
    "validate_column_structure_is_same(master_df_list)"
   ]
  },
  {
   "cell_type": "markdown",
   "id": "809ebf7e",
   "metadata": {},
   "source": [
    "###### Concat/combine yearly dataframes into one AND validate that the length of the combined dataframe is the same as the sum of the yearly dataframes"
   ]
  },
  {
   "cell_type": "code",
   "execution_count": null,
   "id": "29ee6518",
   "metadata": {
    "scrolled": false
   },
   "outputs": [],
   "source": [
    "concat_dataframes_and_validate_and_reset_index_and_sort('nba_team_playoff_standing',master_df_list,cumulative_row_counter)"
   ]
  },
  {
   "cell_type": "markdown",
   "id": "0e397bd8",
   "metadata": {},
   "source": [
    "###### Validate we have all of the data we need from 2004-2023"
   ]
  },
  {
   "cell_type": "code",
   "execution_count": null,
   "id": "a942fa1d",
   "metadata": {
    "scrolled": false
   },
   "outputs": [],
   "source": [
    "validate_completeness_of_data(nba_team_playoff_standing,2004,2024)"
   ]
  },
  {
   "cell_type": "markdown",
   "id": "13fb2a18",
   "metadata": {},
   "source": [
    "###### Clean team names"
   ]
  },
  {
   "cell_type": "code",
   "execution_count": null,
   "id": "747ce6b9",
   "metadata": {
    "scrolled": true
   },
   "outputs": [],
   "source": [
    "clean_column_values(nba_team_playoff_standing,'Team')"
   ]
  },
  {
   "cell_type": "markdown",
   "id": "a8d88c66",
   "metadata": {},
   "source": [
    "###### Validate against dataframe"
   ]
  },
  {
   "cell_type": "code",
   "execution_count": null,
   "id": "53fbdfe3",
   "metadata": {
    "scrolled": false
   },
   "outputs": [],
   "source": [
    "validate_dataframes_using_column_values(nba_team_playoff_standing,'Team',nba_team_basic_stat_in_playoffs_df,'Tm')"
   ]
  },
  {
   "cell_type": "markdown",
   "id": "fb8d93bf",
   "metadata": {},
   "source": [
    "# Extensively Cleaning and Validating Dataframes as Preparation for Merge"
   ]
  },
  {
   "cell_type": "markdown",
   "id": "139165df",
   "metadata": {},
   "source": [
    "## Create standardized \"Player Unique ID\" column for regular season stats, playoff season stats, and all awards. There are a few different names for this field\n",
    " <a class=\"anchor\" id=\"Step23\"></a>"
   ]
  },
  {
   "cell_type": "code",
   "execution_count": null,
   "id": "3278c04c",
   "metadata": {
    "scrolled": false
   },
   "outputs": [],
   "source": [
    "list_of_dataframes_to_rename_column = [basic_player_stats_regular_season_df,\n",
    "                                       advanced_player_stats_in_regular_season_df,\n",
    "                                       player_shooting_in_regular_season_df,\n",
    "                                       player_play_by_play_in_regular_season_df,\n",
    "                                       player_basic_playoff_stats_df,\n",
    "                                       player_advanced_stats_in_playoffs_df,\n",
    "                                       player_shooting_stats_in_playoffs_df,\n",
    "                                       player_play_by_play_stats_in_playoffs_df,\n",
    "                                       mvp_vote_df,\n",
    "                                       roy_vote_df,\n",
    "                                       all_nba_df,\n",
    "                                       all_defense_df,\n",
    "                                       mip_df,\n",
    "                                       six_man_df,\n",
    "                                       dpoy_df,\n",
    "                                       finals_mvp]\n",
    "\n",
    "list_of_player_name_columns_observed = ['Player-additional',\n",
    "                                        '-additional',\n",
    "                                        '-9999']\n",
    "\n",
    "for i, dataframe_to_rename_column in enumerate(list_of_dataframes_to_rename_column):\n",
    "    \n",
    "    column_name_to_change = 'RAISE_ERROR_IF_I_DONT_CHANGE'\n",
    "    \n",
    "    # Check to see which it is \n",
    "    for observed_name in list_of_player_name_columns_observed:\n",
    "        \n",
    "        if observed_name in list(dataframe_to_rename_column.columns):\n",
    "            \n",
    "            column_name_to_change = observed_name\n",
    "    \n",
    "    # Rename it\n",
    "    dataframe_to_rename_column = dataframe_to_rename_column.rename({column_name_to_change:'Player Unique ID'},axis=1)\n",
    "    \n",
    "    # Assign to list\n",
    "    list_of_dataframes_to_rename_column[i] = dataframe_to_rename_column\n",
    "    \n",
    "# Assign changes from list to actual dataframes\n",
    "basic_player_stats_regular_season_df,advanced_player_stats_in_regular_season_df,player_shooting_in_regular_season_df,player_play_by_play_in_regular_season_df,player_basic_playoff_stats_df,player_advanced_stats_in_playoffs_df,player_shooting_stats_in_playoffs_df,player_play_by_play_stats_in_playoffs_df,mvp_vote_df,roy_vote_df,all_nba_df,all_defense_df,mip_df,six_man_df,dpoy_df,finals_mvp = list_of_dataframes_to_rename_column "
   ]
  },
  {
   "cell_type": "markdown",
   "id": "cff4516f",
   "metadata": {},
   "source": [
    "### Create standardized \"Team Name\" column for ALL dataframes. There are team column names of \"Tm\" and \"Team\". Convert \"Tm\" to \"Team\" for all dataframes with \"Tm\"\n",
    " <a class=\"anchor\" id=\"Step24\"></a>"
   ]
  },
  {
   "cell_type": "code",
   "execution_count": null,
   "id": "dd67407d",
   "metadata": {
    "scrolled": false
   },
   "outputs": [],
   "source": [
    "list_of_all_dataframes = [basic_player_stats_regular_season_df,\n",
    "                           advanced_player_stats_in_regular_season_df,\n",
    "                           player_shooting_in_regular_season_df,\n",
    "                           player_play_by_play_in_regular_season_df,\n",
    "                           player_basic_playoff_stats_df,\n",
    "                           player_advanced_stats_in_playoffs_df,\n",
    "                           player_shooting_stats_in_playoffs_df,\n",
    "                           player_play_by_play_stats_in_playoffs_df,\n",
    "                           mvp_vote_df,\n",
    "                           roy_vote_df,\n",
    "                           all_nba_df,\n",
    "                           all_defense_df,\n",
    "                           mip_df,\n",
    "                           six_man_df,\n",
    "                           dpoy_df,\n",
    "                           finals_mvp,\n",
    "                          nba_team_basic_stat_in_regular_season_df,\n",
    "                          nba_team_basic_opponent_stat_in_regular_season_df,\n",
    "                          nba_advanced_team_stats,\n",
    "                          nba_team_shooting_stat_in_regular_season_df,\n",
    "                          nba_team_opponent_shooting_stat_in_regular_season_df,\n",
    "                          nba_team_basic_stat_in_playoffs_df,\n",
    "                          nba_team_basic_opponent_stat_in_playoffs_df,\n",
    "                          nba_team_advanced_stat_in_playoffs_df,\n",
    "                          nba_team_shooting_in_playoffs_df,\n",
    "                          nba_team_opponent_shooting_stat_in_playoffs_df,\n",
    "                          nba_team_playoff_standing,\n",
    "                          regular_season_standing_df\n",
    "                         ]\n",
    "\n",
    "list_of_player_name_columns_observed = ['Tm','Team']\n",
    "\n",
    "for i, dataframe_to_rename_column in enumerate(list_of_all_dataframes):\n",
    "        \n",
    "    break_flag = 0\n",
    "    \n",
    "    # Check to see which it is \n",
    "    for observed_name in list_of_player_name_columns_observed:\n",
    "        \n",
    "        if observed_name in list(dataframe_to_rename_column.columns):\n",
    "            \n",
    "            break_flag = break_flag + 1\n",
    "            \n",
    "            column_name_to_change = observed_name\n",
    "    \n",
    "    if break_flag!=1:\n",
    "        print(i)\n",
    "        break\n",
    "        \n",
    "    \n",
    "    # Rename it\n",
    "    dataframe_to_rename_column = dataframe_to_rename_column.rename({column_name_to_change:'Team'},axis=1)\n",
    "    \n",
    "    # Assign to list\n",
    "    list_of_all_dataframes[i] = dataframe_to_rename_column\n",
    "    \n",
    "# Assign changes from list to actual dataframes\n",
    "basic_player_stats_regular_season_df,advanced_player_stats_in_regular_season_df,player_shooting_in_regular_season_df,player_play_by_play_in_regular_season_df,player_basic_playoff_stats_df,player_advanced_stats_in_playoffs_df,player_shooting_stats_in_playoffs_df,player_play_by_play_stats_in_playoffs_df,mvp_vote_df,roy_vote_df,all_nba_df,all_defense_df,mip_df,six_man_df,dpoy_df,finals_mvp,nba_team_basic_stat_in_regular_season_df,nba_team_basic_opponent_stat_in_regular_season_df,nba_advanced_team_stats,nba_team_shooting_stat_in_regular_season_df,nba_team_opponent_shooting_stat_in_regular_season_df,nba_team_basic_stat_in_playoffs_df,nba_team_basic_opponent_stat_in_playoffs_df,nba_team_advanced_stat_in_playoffs_df,nba_team_shooting_in_playoffs_df,nba_team_opponent_shooting_stat_in_playoffs_df,nba_team_playoff_standing,regular_season_standing_df = list_of_all_dataframes "
   ]
  },
  {
   "cell_type": "markdown",
   "id": "e7881755",
   "metadata": {},
   "source": [
    "### Before dropping duplicate player names, use multiple records for players that are traded to determine and populate the team name column with the team they got most recently traded to\n",
    "\n",
    " <a class=\"anchor\" id=\"Step25\"></a>"
   ]
  },
  {
   "cell_type": "code",
   "execution_count": null,
   "id": "943cf069",
   "metadata": {
    "scrolled": false
   },
   "outputs": [],
   "source": [
    "list_of_all_dataframes = [basic_player_stats_regular_season_df,\n",
    "                           advanced_player_stats_in_regular_season_df,\n",
    "                           player_shooting_in_regular_season_df,\n",
    "                           player_play_by_play_in_regular_season_df,\n",
    "                           player_basic_playoff_stats_df,\n",
    "                           player_advanced_stats_in_playoffs_df,\n",
    "                           player_shooting_stats_in_playoffs_df,\n",
    "                           player_play_by_play_stats_in_playoffs_df,\n",
    "                           mvp_vote_df,\n",
    "                           roy_vote_df,\n",
    "                           all_nba_df,\n",
    "                           all_defense_df,\n",
    "                           mip_df,\n",
    "                           six_man_df,\n",
    "                           dpoy_df,\n",
    "                           finals_mvp,\n",
    "                          nba_team_basic_stat_in_regular_season_df,\n",
    "                          nba_team_basic_opponent_stat_in_regular_season_df,\n",
    "                          nba_advanced_team_stats,\n",
    "                          nba_team_shooting_stat_in_regular_season_df,\n",
    "                          nba_team_opponent_shooting_stat_in_regular_season_df,\n",
    "                          nba_team_basic_stat_in_playoffs_df,\n",
    "                          nba_team_basic_opponent_stat_in_playoffs_df,\n",
    "                          nba_team_advanced_stat_in_playoffs_df,\n",
    "                          nba_team_shooting_in_playoffs_df,\n",
    "                          nba_team_opponent_shooting_stat_in_playoffs_df,\n",
    "                          nba_team_playoff_standing,\n",
    "                          regular_season_standing_df\n",
    "                         ]\n",
    "\n",
    "for i, dataframe in enumerate(list_of_all_dataframes):\n",
    "    \n",
    "    print(i)\n",
    "    \n",
    "    # Create column\n",
    "    dataframe['Team Name Refined - accounts for players being traded'] = dataframe['Team']\n",
    "    \n",
    "    # Assign to list\n",
    "    list_of_all_dataframes[i] = dataframe\n",
    "    \n",
    "# Assign changes from list to actual dataframes\n",
    "basic_player_stats_regular_season_df,advanced_player_stats_in_regular_season_df,player_shooting_in_regular_season_df,player_play_by_play_in_regular_season_df,player_basic_playoff_stats_df,player_advanced_stats_in_playoffs_df,player_shooting_stats_in_playoffs_df,player_play_by_play_stats_in_playoffs_df,mvp_vote_df,roy_vote_df,all_nba_df,all_defense_df,mip_df,six_man_df,dpoy_df,finals_mvp,nba_team_basic_stat_in_regular_season_df,nba_team_basic_opponent_stat_in_regular_season_df,nba_advanced_team_stats,nba_team_shooting_stat_in_regular_season_df,nba_team_opponent_shooting_stat_in_regular_season_df,nba_team_basic_stat_in_playoffs_df,nba_team_basic_opponent_stat_in_playoffs_df,nba_team_advanced_stat_in_playoffs_df,nba_team_shooting_in_playoffs_df,nba_team_opponent_shooting_stat_in_playoffs_df,nba_team_playoff_standing,regular_season_standing_df = list_of_all_dataframes "
   ]
  },
  {
   "cell_type": "code",
   "execution_count": null,
   "id": "6e582bb8",
   "metadata": {
    "scrolled": false
   },
   "outputs": [],
   "source": [
    "list_of_dataframes_to_address = [basic_player_stats_regular_season_df,\n",
    "                               advanced_player_stats_in_regular_season_df,\n",
    "                               player_shooting_in_regular_season_df,\n",
    "                               player_play_by_play_in_regular_season_df]\n",
    "\n",
    "for i, dataframe_to_address in enumerate(list_of_dataframes_to_address):\n",
    "    \n",
    "    # For each year, default in dynamic Team value for players that changed teams\n",
    "    for year in list(dataframe_to_address['Year'].unique()):\n",
    "        \n",
    "        # Grab list of players that changed teams\n",
    "        temporary_df = dataframe_to_address.loc[(dataframe_to_address['Year']==year)&(dataframe_to_address['Team']=='TOT')]\n",
    "        temporary_list_of_players = list(temporary_df['Player Unique ID'].unique())\n",
    "        \n",
    "        # For each player that switched team, default all records for player with the team of the first record that is not Team = TOT\n",
    "        for player in temporary_list_of_players:\n",
    "            \n",
    "            temp_df = dataframe_to_address.loc[(dataframe_to_address['Player Unique ID']==player)&(dataframe_to_address['Year']==year)]\n",
    "\n",
    "            temp_df = temp_df.loc[temp_df['Team']!='TOT'].reset_index(drop=True)\n",
    "            \n",
    "            if len(temp_df)==0:\n",
    "                print(f'{year}-{player}-{i}')\n",
    "            \n",
    "            team_value_to_populate = temp_df['Team'][0]\n",
    "\n",
    "            dataframe_to_address.loc[(dataframe_to_address['Player Unique ID']==player)&(dataframe_to_address['Year']==year),'Team Name Refined - accounts for players being traded'] = team_value_to_populate \n",
    "    \n",
    "    # Validate that all 'TOT' values have been overwritten\n",
    "    if len(dataframe_to_address.loc[dataframe_to_address['Team']=='Team Name Refined - accounts for players being traded'])>0:\n",
    "        raise Exception(f'For dataframe in {i} position in list, TOT value exist')\n",
    "            \n",
    "    # Assign to list\n",
    "    list_of_dataframes_to_address[i] = dataframe_to_address\n",
    "    \n",
    "# Assign changes from list to actual dataframes\n",
    "basic_player_stats_regular_season_df,advanced_player_stats_in_regular_season_df,player_shooting_in_regular_season_df,player_play_by_play_in_regular_season_df = list_of_dataframes_to_address\n",
    "            "
   ]
  },
  {
   "cell_type": "markdown",
   "id": "e20f6327",
   "metadata": {},
   "source": [
    "### Drop \"duplicate\" records where there are multiple records resulting from players changing team mid season.\n",
    "\n",
    "### Keep the record with combined stats (most games played). \n",
    "\n",
    "### Validate only one player record for each year after changes"
   ]
  },
  {
   "cell_type": "code",
   "execution_count": null,
   "id": "0b375565",
   "metadata": {
    "scrolled": false
   },
   "outputs": [],
   "source": [
    "list_of_dataframes_to_clean = [basic_player_stats_regular_season_df,\n",
    "                               advanced_player_stats_in_regular_season_df,\n",
    "                               player_shooting_in_regular_season_df,\n",
    "                               player_play_by_play_in_regular_season_df]\n",
    "\n",
    "for i, dataframe_to_clean in enumerate(list_of_dataframes_to_clean):\n",
    "    \n",
    "\n",
    "    \n",
    "    player_unique_key = 'Player Unique ID'\n",
    "    \n",
    "    # Create temporary year-player concat for dropping duplicates\n",
    "    dataframe_to_clean['concat'] = dataframe_to_clean[player_unique_key] + dataframe_to_clean['Year'].astype(str)\n",
    "    \n",
    "    # For each year, drop duplicates\n",
    "    for year in dataframe_to_clean['Year'].unique():\n",
    "\n",
    "        # Sort by year -> player -> G\n",
    "        dataframe_to_clean = dataframe_to_clean.sort_values(by=['Year',player_unique_key, 'G'], ascending=[True, True, False])\n",
    "\n",
    "        # Drop duplicates, so only retaining the record with combined player stats\n",
    "        dataframe_to_clean = dataframe_to_clean.drop_duplicates(subset='concat', keep='first')\n",
    "\n",
    "        # Validate only one player record for each year in dataframe\n",
    "        for year in dataframe_to_clean['Year'].unique():\n",
    "\n",
    "            length_of_dataframe = len(dataframe_to_clean.loc[dataframe_to_clean['Year']==year])\n",
    "            number_of_players = len(dataframe_to_clean.loc[dataframe_to_clean['Year']==year][player_unique_key].unique())\n",
    "\n",
    "            if length_of_dataframe != number_of_players:\n",
    "                raise Exception(f'Multiple player records detected for {year} in {dataframe_to_clean}.')\n",
    "\n",
    "    # Remove temporary year-player concat\n",
    "    dataframe_to_clean = dataframe_to_clean.drop('concat',axis=1)\n",
    "\n",
    "    # Assign dataframe to overwrite dataframe in list\n",
    "    list_of_dataframes_to_clean[i] = dataframe_to_clean\n",
    "    \n",
    "# Assign dataframes to rewrite with changes held in list of dataframes\n",
    "basic_player_stats_regular_season_df,advanced_player_stats_in_regular_season_df,player_shooting_in_regular_season_df,player_play_by_play_in_regular_season_df = list_of_dataframes_to_clean"
   ]
  },
  {
   "cell_type": "markdown",
   "id": "c2a1d698",
   "metadata": {},
   "source": [
    "### Validate all regular season player stat dataframes are same length after changes"
   ]
  },
  {
   "cell_type": "code",
   "execution_count": null,
   "id": "f8c780c5",
   "metadata": {
    "scrolled": false
   },
   "outputs": [],
   "source": [
    "list_of_dataframes_to_clean = [basic_player_stats_regular_season_df,\n",
    "                               advanced_player_stats_in_regular_season_df,\n",
    "                               player_shooting_in_regular_season_df,\n",
    "                               player_play_by_play_in_regular_season_df]\n",
    "\n",
    "# Validate that all dataframes are the same length as expected after changes\n",
    "\n",
    "dataframe_length = 0\n",
    "\n",
    "for i,dataframe in enumerate(list_of_dataframes_to_clean):\n",
    "    \n",
    "    # For first, assign dataframe_length\n",
    "    if i == 0:\n",
    "        \n",
    "        dataframe_length = len(dataframe)\n",
    "    \n",
    "    # If next, compare to dataframe length\n",
    "    if i != 0:\n",
    "        \n",
    "        if len(dataframe) != dataframe_length:\n",
    "            \n",
    "            raise Exception('Dataframes should have matching length. Review why they do not.')"
   ]
  },
  {
   "cell_type": "markdown",
   "id": "6f15dbdf",
   "metadata": {},
   "source": [
    "### Ensure we do not have same issue for playoff (logically we shouldn't as players aren't traded during playoffs)\n",
    "\n",
    " <a class=\"anchor\" id=\"Step26\"></a>"
   ]
  },
  {
   "cell_type": "code",
   "execution_count": null,
   "id": "655de54a",
   "metadata": {
    "scrolled": false
   },
   "outputs": [],
   "source": [
    "list_of_playoff_dataframes_to_check = [player_basic_playoff_stats_df,\n",
    "                                       player_advanced_stats_in_playoffs_df,\n",
    "                                       player_shooting_stats_in_playoffs_df,\n",
    "                                       player_play_by_play_stats_in_playoffs_df]\n",
    "\n",
    "# Address different key column name for player key. Reassign key for particular dataframe\n",
    "\n",
    "for dataframe in list_of_playoff_dataframes_to_check:\n",
    "    \n",
    "    player_unique_key = 'Player Unique ID'\n",
    "    \n",
    "    for year in dataframe['Year'].unique():\n",
    "    \n",
    "        length_of_dataframe = len(dataframe.loc[dataframe['Year']==year])\n",
    "        number_of_players = len(dataframe.loc[dataframe['Year']==year][player_unique_key].unique())\n",
    "\n",
    "        if length_of_dataframe != number_of_players:\n",
    "            raise Exception(f'Multiple player records detected for {year} in {dataframe}.')"
   ]
  },
  {
   "cell_type": "markdown",
   "id": "fca1ebfe",
   "metadata": {},
   "source": [
    "### Validate all playoff player stat dataframes are same length as expected"
   ]
  },
  {
   "cell_type": "code",
   "execution_count": null,
   "id": "071c58a2",
   "metadata": {
    "scrolled": false
   },
   "outputs": [],
   "source": [
    "list_of_playoff_dataframes_to_check = [player_basic_playoff_stats_df,\n",
    "                                       player_advanced_stats_in_playoffs_df,\n",
    "                                       player_shooting_stats_in_playoffs_df,\n",
    "                                       player_play_by_play_stats_in_playoffs_df]\n",
    "# Validate that all dataframes are the same length as expected after changes\n",
    "\n",
    "dataframe_length = 0\n",
    "\n",
    "for i,dataframe in enumerate(list_of_playoff_dataframes_to_check):\n",
    "    \n",
    "    # For first, assign dataframe_length\n",
    "    if i == 0:\n",
    "        \n",
    "        dataframe_length = len(dataframe)\n",
    "    \n",
    "    # If next, compare to dataframe length\n",
    "    if i != 0:\n",
    "        \n",
    "        if len(dataframe) != dataframe_length:\n",
    "            \n",
    "            raise Exception('Dataframes should have matching length. Review why they do not.')"
   ]
  },
  {
   "cell_type": "markdown",
   "id": "b7dcfc7b",
   "metadata": {},
   "source": [
    "## Normalizing and standardizing team names data for team changes\n",
    "\n",
    " <a class=\"anchor\" id=\"Step27\"></a>"
   ]
  },
  {
   "cell_type": "markdown",
   "id": "a624fddc",
   "metadata": {},
   "source": [
    "### Create dictionary to later convert older team names (e.g. Charlotte Bobcats) to modern team names (e.g. Charlotte Hornets)\n",
    "\n",
    "### Also add aliases found in validation testing"
   ]
  },
  {
   "cell_type": "code",
   "execution_count": null,
   "id": "822252a9",
   "metadata": {
    "scrolled": false
   },
   "outputs": [],
   "source": [
    "## NOTES ON TEAM CHANGES ##\n",
    "\n",
    "## Seattle SuperSonics from 2004 all the way to 2007-2008 season -> OKC Thunder from 2008-2009 season onward\n",
    "\n",
    "## Charlotte Bobcats first season was 2004-2005. Then -> Charlotte Hornets from 2014-2015 season and onward\n",
    "\n",
    "## New Orleans Hornets til till 2004-2005 season. Then New Orleans/OKC Hornets for two seasons,\n",
    "## and then back to New Orleans Hornets through 2012-2013 season -> New Orleans Pelicans from 2013-2014 season onward\n",
    "\n",
    "## New Orleans / OKC Hornets from 2005-2006 AND 2006-2007\n",
    "\n",
    "## New Jersey Nets til 2011-2012 season-> Brooklyn Nets from 2012-2013 season and onward\n",
    "\n",
    "## New Orleans / OKC Hornets\n",
    "\n",
    "\n",
    "## CREATE TEAM NAME REPLACEMENT DICTIONARY BASED ON CHANGES ##\n",
    "\n",
    "team_name_replacement_dict = {'Seattle Supersonics':'Oklahoma City Thunder',\n",
    "                              'Seattle SuperSonics':'Oklahoma City Thunder',\n",
    "                             'Charlotte Bobcats':'Charlotte Hornets',\n",
    "                             'New Orleans Hornets':'New Orleans Pelicans',\n",
    "                             'New Orleans/Oklahoma City Hornets':'New Orleans Pelicans',\n",
    "                             'New Jersey Nets':'Brooklyn Nets',\n",
    "                             'Warriors':'Golden State Warriors',\n",
    "                             'Portland Trailblazers':'Portland Trail Blazers',\n",
    "                             'New Jersey  Nets':'Brooklyn Nets'}"
   ]
  },
  {
   "cell_type": "markdown",
   "id": "eae3fa64",
   "metadata": {},
   "source": [
    "### Create dictionary to convert city in team name field (e.g. CHA) to modern day Team Name (e.g. Charlotte Hornets)"
   ]
  },
  {
   "cell_type": "code",
   "execution_count": null,
   "id": "0fff1d45",
   "metadata": {
    "scrolled": false
   },
   "outputs": [],
   "source": [
    "## CREATE LIST OF CITY TO TEAM DICTIONARY\n",
    "\n",
    "city_name_to_team_name_dict = {'ATL':'Atlanta Hawks',\n",
    "                              'BOS':'Boston Celtics',\n",
    "                              'BRK':'Brooklyn Nets',\n",
    "                              'CHA':'Charlotte Hornets',\n",
    "                              'CHI':'Chicago Bulls',\n",
    "                              'CHO':'Charlotte Hornets',\n",
    "                              'CLE':'Cleveland Cavaliers',\n",
    "                              'DAL':'Dallas Mavericks',\n",
    "                              'DEN':'Denver Nuggets',\n",
    "                              'DET':'Detroit Pistons',\n",
    "                              'GSW':'Golden State Warriors',\n",
    "                              'HOU':'Houston Rockets',\n",
    "                              'IND':'Indiana Pacers',\n",
    "                              'LAC':'Los Angeles Clippers',\n",
    "                              'LAL':'Los Angeles Lakers',\n",
    "                              'MEM':'Memphis Grizzlies',\n",
    "                              'MIA':'Miami Heat',\n",
    "                              'MIL':'Milwaukee Bucks',\n",
    "                              'MIN':'Minnesota Timberwolves',\n",
    "                              'NJN':'Brooklyn Nets',\n",
    "                              'NOH':'New Orleans Pelicans',\n",
    "                              'NOK':'New Orleans Pelicans',\n",
    "                              'NOP':'New Orleans Pelicans',\n",
    "                              'NYK':'New York Knicks',\n",
    "                              'OKC':'Oklahoma City Thunder',\n",
    "                              'ORL':'Orlando Magic',\n",
    "                              'PHI':'Philadelphia 76ers',\n",
    "                              'PHO':'Phoenix Suns',\n",
    "                              'POR':'Portland Trail Blazers',\n",
    "                              'SAC':'Sacramento Kings',\n",
    "                              'SAS':'San Antonio Spurs',\n",
    "                              'SEA':'Oklahoma City Thunder',\n",
    "                              'TOR':'Toronto Raptors',\n",
    "                              'TOT':'Multiple Teams',\n",
    "                              'UTA':'Utah Jazz',\n",
    "                              'WAS':'Washington Wizards'}"
   ]
  },
  {
   "cell_type": "markdown",
   "id": "cea58008",
   "metadata": {},
   "source": [
    "### Define final list of the 30 acceptable team names for each team in the NBA"
   ]
  },
  {
   "cell_type": "code",
   "execution_count": null,
   "id": "8b282e9d",
   "metadata": {
    "scrolled": false
   },
   "outputs": [],
   "source": [
    "# Define list of acceptable team names\n",
    "acceptable_team_name_list = ['Dallas Mavericks', 'Sacramento Kings',\n",
    "                               'Golden State Warriors', 'Atlanta Hawks', 'Boston Celtics',\n",
    "                               'Oklahoma City Thunder', 'Los Angeles Lakers', 'Utah Jazz',\n",
    "                               'Memphis Grizzlies', 'Indiana Pacers', 'New York Knicks',\n",
    "                               'Denver Nuggets', 'Minnesota Timberwolves', 'Philadelphia 76ers',\n",
    "                               'New Orleans Pelicans', 'Milwaukee Bucks', 'Phoenix Suns',\n",
    "                               'Toronto Raptors', 'Los Angeles Clippers', 'Miami Heat',\n",
    "                               'Detroit Pistons', 'Houston Rockets', 'Charlotte Hornets',\n",
    "                               'Cleveland Cavaliers', 'Orlando Magic', 'San Antonio Spurs',\n",
    "                               'Chicago Bulls', 'Washington Wizards', 'Brooklyn Nets',\n",
    "                               'Portland Trail Blazers','League Average','Multiple Teams']"
   ]
  },
  {
   "cell_type": "code",
   "execution_count": null,
   "id": "b0c6bf70",
   "metadata": {
    "scrolled": false
   },
   "outputs": [],
   "source": [
    "basic_player_stats_regular_season_df"
   ]
  },
  {
   "cell_type": "markdown",
   "id": "6e8954aa",
   "metadata": {},
   "source": [
    "### Using replacement dictionaries created above, create standardized team name column for every dataframe"
   ]
  },
  {
   "cell_type": "code",
   "execution_count": null,
   "id": "209c31f3",
   "metadata": {
    "scrolled": false
   },
   "outputs": [],
   "source": [
    "list_of_all_dataframes = [basic_player_stats_regular_season_df,\n",
    "                           advanced_player_stats_in_regular_season_df,\n",
    "                           player_shooting_in_regular_season_df,\n",
    "                           player_play_by_play_in_regular_season_df,\n",
    "                           player_basic_playoff_stats_df,\n",
    "                           player_advanced_stats_in_playoffs_df,\n",
    "                           player_shooting_stats_in_playoffs_df,\n",
    "                           player_play_by_play_stats_in_playoffs_df,\n",
    "                           mvp_vote_df,\n",
    "                           roy_vote_df,\n",
    "                           all_nba_df,\n",
    "                           all_defense_df,\n",
    "                           mip_df,\n",
    "                           six_man_df,\n",
    "                           dpoy_df,\n",
    "                           finals_mvp,\n",
    "                          nba_team_basic_stat_in_regular_season_df,\n",
    "                          nba_team_basic_opponent_stat_in_regular_season_df,\n",
    "                          nba_advanced_team_stats,\n",
    "                          nba_team_shooting_stat_in_regular_season_df,\n",
    "                          nba_team_opponent_shooting_stat_in_regular_season_df,\n",
    "                          nba_team_basic_stat_in_playoffs_df,\n",
    "                          nba_team_basic_opponent_stat_in_playoffs_df,\n",
    "                          nba_team_advanced_stat_in_playoffs_df,\n",
    "                          nba_team_shooting_in_playoffs_df,\n",
    "                          nba_team_opponent_shooting_stat_in_playoffs_df,\n",
    "                          nba_team_playoff_standing,\n",
    "                          regular_season_standing_df\n",
    "                         ]\n",
    "\n",
    "for i, dataframe_to_apply_dicts_to in enumerate(list_of_all_dataframes):\n",
    "    \n",
    "    print(i)\n",
    "    \n",
    "    break_flag = 0\n",
    "    secondary_break_flag = 0\n",
    "    unacceptable_team_name = []\n",
    "        \n",
    "    # For each dataframe, create a column that is team name column with each dict applied to it\n",
    "    dataframe_to_apply_dicts_to['Standardized/Modernized Team Name'] = dataframe_to_apply_dicts_to['Team Name Refined - accounts for players being traded']\n",
    "    dataframe_to_apply_dicts_to['Standardized/Modernized Team Name'] = dataframe_to_apply_dicts_to['Standardized/Modernized Team Name'].replace(team_name_replacement_dict)\n",
    "    dataframe_to_apply_dicts_to['Standardized/Modernized Team Name'] = dataframe_to_apply_dicts_to['Standardized/Modernized Team Name'].replace(city_name_to_team_name_dict)\n",
    "    \n",
    "    # Ensure all records have an acceptable standardized team name\n",
    "    \n",
    "    for team_name in list(dataframe_to_apply_dicts_to['Standardized/Modernized Team Name'].unique()):\n",
    "        \n",
    "        if team_name not in acceptable_team_name_list:\n",
    "            \n",
    "            break_flag = break_flag + 1\n",
    "            \n",
    "            unacceptable_team_name.append(team_name)\n",
    "            \n",
    "    if len(dataframe_to_apply_dicts_to.loc[dataframe_to_apply_dicts_to['Standardized/Modernized Team Name'].isnull()])>0:\n",
    "        secondary_break_flag = secondary_break_flag + 1\n",
    "            \n",
    "    if break_flag>0:\n",
    "        raise Exception(f'non acceptable team names: {unacceptable_team_name}')\n",
    "\n",
    "\n",
    "    if secondary_break_flag>0:\n",
    "        raise Exception(f'missing team name in dataframe: {i}')\n",
    "\n",
    "    # Assign to list\n",
    "    list_of_all_dataframes[i] = dataframe_to_apply_dicts_to\n",
    "    \n",
    "    print(i)\n",
    "    \n",
    "# Assign changes from list to actual dataframes\n",
    "basic_player_stats_regular_season_df,advanced_player_stats_in_regular_season_df,player_shooting_in_regular_season_df,player_play_by_play_in_regular_season_df,player_basic_playoff_stats_df,player_advanced_stats_in_playoffs_df,player_shooting_stats_in_playoffs_df,player_play_by_play_stats_in_playoffs_df,mvp_vote_df,roy_vote_df,all_nba_df,all_defense_df,mip_df,six_man_df,dpoy_df,finals_mvp,nba_team_basic_stat_in_regular_season_df,nba_team_basic_opponent_stat_in_regular_season_df,nba_advanced_team_stats,nba_team_shooting_stat_in_regular_season_df,nba_team_opponent_shooting_stat_in_regular_season_df,nba_team_basic_stat_in_playoffs_df,nba_team_basic_opponent_stat_in_playoffs_df,nba_team_advanced_stat_in_playoffs_df,nba_team_shooting_in_playoffs_df,nba_team_opponent_shooting_stat_in_playoffs_df,nba_team_playoff_standing,regular_season_standing_df = list_of_all_dataframes "
   ]
  },
  {
   "cell_type": "markdown",
   "id": "56e3ab87",
   "metadata": {},
   "source": [
    "### Create Player Unique Idea-Year concat for all player dataframes. This will serve as the primary key to connect all player dataframes\n",
    "\n",
    " <a class=\"anchor\" id=\"Step28\"></a>"
   ]
  },
  {
   "cell_type": "code",
   "execution_count": null,
   "id": "558449d4",
   "metadata": {
    "scrolled": false
   },
   "outputs": [],
   "source": [
    "list_of_player_dataframes = [basic_player_stats_regular_season_df,\n",
    "                           advanced_player_stats_in_regular_season_df,\n",
    "                           player_shooting_in_regular_season_df,\n",
    "                           player_play_by_play_in_regular_season_df,\n",
    "                           player_basic_playoff_stats_df,\n",
    "                           player_advanced_stats_in_playoffs_df,\n",
    "                           player_shooting_stats_in_playoffs_df,\n",
    "                           player_play_by_play_stats_in_playoffs_df,\n",
    "                           mvp_vote_df,\n",
    "                           roy_vote_df,\n",
    "                           all_nba_df,\n",
    "                           all_defense_df,\n",
    "                           mip_df,\n",
    "                           six_man_df,\n",
    "                           dpoy_df,\n",
    "                           finals_mvp]\n",
    "\n",
    "\n",
    "for i, player_dataframe in enumerate(list_of_player_dataframes):\n",
    "    \n",
    "    print(i)\n",
    "    \n",
    "    # Create concat\n",
    "    player_dataframe['Player_unique_id_and_year_concat'] = player_dataframe['Player Unique ID'] + '-' + player_dataframe['Year'].astype(str)\n",
    "    \n",
    "    # Assign to list\n",
    "    list_of_player_dataframes[i] = player_dataframe\n",
    "    \n",
    "# Assign changes from list to actual dataframes\n",
    "basic_player_stats_regular_season_df,advanced_player_stats_in_regular_season_df,player_shooting_in_regular_season_df,player_play_by_play_in_regular_season_df,player_basic_playoff_stats_df,player_advanced_stats_in_playoffs_df,player_shooting_stats_in_playoffs_df,player_play_by_play_stats_in_playoffs_df,mvp_vote_df,roy_vote_df,all_nba_df,all_defense_df,mip_df,six_man_df,dpoy_df,finals_mvp = list_of_player_dataframes "
   ]
  },
  {
   "cell_type": "code",
   "execution_count": null,
   "id": "16b0d436",
   "metadata": {
    "scrolled": false
   },
   "outputs": [],
   "source": [
    "basic_player_stats_regular_season_df"
   ]
  },
  {
   "cell_type": "markdown",
   "id": "979dab52",
   "metadata": {},
   "source": [
    "### Create Standardized Team Name-Year concat for all dataframes. This will be primary key to connect player data to all team-related data. \n",
    "\n",
    " <a class=\"anchor\" id=\"Step29\"></a>"
   ]
  },
  {
   "cell_type": "code",
   "execution_count": null,
   "id": "ffa3a4be",
   "metadata": {
    "scrolled": false
   },
   "outputs": [],
   "source": [
    "list_of_all_dataframes = [basic_player_stats_regular_season_df,\n",
    "                           advanced_player_stats_in_regular_season_df,\n",
    "                           player_shooting_in_regular_season_df,\n",
    "                           player_play_by_play_in_regular_season_df,\n",
    "                           player_basic_playoff_stats_df,\n",
    "                           player_advanced_stats_in_playoffs_df,\n",
    "                           player_shooting_stats_in_playoffs_df,\n",
    "                           player_play_by_play_stats_in_playoffs_df,\n",
    "                           mvp_vote_df,\n",
    "                           roy_vote_df,\n",
    "                           all_nba_df,\n",
    "                           all_defense_df,\n",
    "                           mip_df,\n",
    "                           six_man_df,\n",
    "                           dpoy_df,\n",
    "                           finals_mvp,\n",
    "                          nba_team_basic_stat_in_regular_season_df,\n",
    "                          nba_team_basic_opponent_stat_in_regular_season_df,\n",
    "                          nba_advanced_team_stats,\n",
    "                          nba_team_shooting_stat_in_regular_season_df,\n",
    "                          nba_team_opponent_shooting_stat_in_regular_season_df,\n",
    "                          nba_team_basic_stat_in_playoffs_df,\n",
    "                          nba_team_basic_opponent_stat_in_playoffs_df,\n",
    "                          nba_team_advanced_stat_in_playoffs_df,\n",
    "                          nba_team_shooting_in_playoffs_df,\n",
    "                          nba_team_opponent_shooting_stat_in_playoffs_df,\n",
    "                          nba_team_playoff_standing,\n",
    "                          regular_season_standing_df\n",
    "                         ]\n",
    "\n",
    "for i, dataframe in enumerate(list_of_all_dataframes):\n",
    "    \n",
    "    print(i)\n",
    "    \n",
    "    # Create concat\n",
    "    dataframe['Team_name_and_year_concat'] = dataframe['Standardized/Modernized Team Name'] + '-' + dataframe['Year'].astype(str)\n",
    "    \n",
    "    # Assign to list\n",
    "    list_of_all_dataframes[i] = dataframe\n",
    "    \n",
    "# Assign changes from list to actual dataframes\n",
    "basic_player_stats_regular_season_df,advanced_player_stats_in_regular_season_df,player_shooting_in_regular_season_df,player_play_by_play_in_regular_season_df,player_basic_playoff_stats_df,player_advanced_stats_in_playoffs_df,player_shooting_stats_in_playoffs_df,player_play_by_play_stats_in_playoffs_df,mvp_vote_df,roy_vote_df,all_nba_df,all_defense_df,mip_df,six_man_df,dpoy_df,finals_mvp,nba_team_basic_stat_in_regular_season_df,nba_team_basic_opponent_stat_in_regular_season_df,nba_advanced_team_stats,nba_team_shooting_stat_in_regular_season_df,nba_team_opponent_shooting_stat_in_regular_season_df,nba_team_basic_stat_in_playoffs_df,nba_team_basic_opponent_stat_in_playoffs_df,nba_team_advanced_stat_in_playoffs_df,nba_team_shooting_in_playoffs_df,nba_team_opponent_shooting_stat_in_playoffs_df,nba_team_playoff_standing,regular_season_standing_df = list_of_all_dataframes "
   ]
  },
  {
   "cell_type": "markdown",
   "id": "7795092c",
   "metadata": {},
   "source": [
    "# For every dataframe, replace column names as desired. \n",
    "\n",
    "### (Rename columns with unique names so that no columns between dataframes are shared. This will help avoid issues with understanding data after joining tables)\n",
    "\n",
    " <a class=\"anchor\" id=\"Step30\"></a>"
   ]
  },
  {
   "cell_type": "markdown",
   "id": "27829e64",
   "metadata": {},
   "source": [
    "## REGULAR SEASON PLAYER STATS"
   ]
  },
  {
   "cell_type": "markdown",
   "id": "4a839f79",
   "metadata": {},
   "source": [
    "### Regular Season Basic Player Stats"
   ]
  },
  {
   "cell_type": "code",
   "execution_count": null,
   "id": "ba4334b1",
   "metadata": {
    "scrolled": false
   },
   "outputs": [],
   "source": [
    "# Define unique name for dataframe to insert into f-string\n",
    "unique_table_name = \"Regular Season Basic Player Stats - \"\n",
    "\n",
    "# Define name replacement dict\n",
    "name_replacement_dict = {\"Rk\":f\"{unique_table_name}Rank\",\n",
    "\"Player\":f\"{unique_table_name}Player\",\n",
    "\"Pos\":f\"{unique_table_name}Position\",\n",
    "\"Age\":f\"{unique_table_name}Age\",\n",
    "\"Team\":f\"{unique_table_name}Team\",\n",
    "\"G\":f\"{unique_table_name}Games Played\",\n",
    "\"GS\":f\"{unique_table_name}Games Started\",\n",
    "\"MP\":f\"{unique_table_name}Minutes Played Per Game\",\n",
    "\"FG\":f\"{unique_table_name}Field Goals Made Per Game\",\n",
    "\"FGA\":f\"{unique_table_name}Field Goals Attempted Per Game\",\n",
    "\"FG%\":f\"{unique_table_name}Average Field Goal % For Season\",\n",
    "\"3P\":f\"{unique_table_name}3 Pointers Made Per Game\",\n",
    "\"3PA\":f\"{unique_table_name}3 Point Attempts Per Game\",\n",
    "\"3P%\":f\"{unique_table_name}Average 3 Point % For Season\",\n",
    "\"2P\":f\"{unique_table_name}2 Pointers Made Per Game\",\n",
    "\"2PA\":f\"{unique_table_name}2 Point Attempts Per Game\",\n",
    "\"2P%\":f\"{unique_table_name}Average 2 Point % For Season\",\n",
    "\"eFG%\":f\"{unique_table_name}Average Effective Field Goal % For Season\",\n",
    "\"FT\":f\"{unique_table_name}Free Throws Made Per Game\",\n",
    "\"FTA\":f\"{unique_table_name}Free Throw Attempts Per Game\",\n",
    "\"FT%\":f\"{unique_table_name}Average Free Throw % For Season\",\n",
    "\"ORB\":f\"{unique_table_name}Offense Rebounds Per Game\",\n",
    "\"DRB\":f\"{unique_table_name}Defense Rebounds Per Game\",\n",
    "\"TRB\":f\"{unique_table_name}Total Rebounds Per Game\",\n",
    "\"AST\":f\"{unique_table_name}Assists Per Game\",\n",
    "\"STL\":f\"{unique_table_name}Steals Per Game\",\n",
    "\"BLK\":f\"{unique_table_name}Blocks Per Game\",\n",
    "\"TOV\":f\"{unique_table_name}Turnovers Per Game\",\n",
    "\"PF\":f\"{unique_table_name}Personal Fouls Per Game\",\n",
    "\"PTS\":f\"{unique_table_name}Points Per Game\",\n",
    "\"Player Unique ID\":f\"{unique_table_name}Player Unique ID\",\n",
    "\"Year\":f\"{unique_table_name}Year\",\n",
    "\"Team Name Refined - accounts for players being traded\":f\"{unique_table_name}Team Name Refined - accounts for players being traded\",\n",
    "\"Standardized/Modernized Team Name\":f\"{unique_table_name}Standardized/Modernized Team Name\"}\n",
    "# Replace names in dataframe\n",
    "basic_player_stats_regular_season_df.rename(name_replacement_dict,axis=1,inplace=True)\n",
    "\n",
    "# Check column names to make sure none desired to get rid of\n",
    "for column in basic_player_stats_regular_season_df.columns:\n",
    "    \n",
    "    print(f\"\"\"\n",
    "    {column}\"\"\")\n",
    "\n",
    "basic_player_stats_regular_season_df.head(1)\n"
   ]
  },
  {
   "cell_type": "markdown",
   "id": "b7d60baf",
   "metadata": {},
   "source": [
    "### Regular Season Advanced Player Stats"
   ]
  },
  {
   "cell_type": "code",
   "execution_count": null,
   "id": "03bd7ac6",
   "metadata": {
    "scrolled": true
   },
   "outputs": [],
   "source": [
    "# Define unique name for dataframe to insert into f-string\n",
    "unique_table_name = \"Regular Season Advanced Player Stats - \"\n",
    "\n",
    "# Define name replacement dict\n",
    "name_replacement_dict = {\"Rk\":f\"{unique_table_name}Rank\",\n",
    "\"Player\":f\"{unique_table_name}Player\",\n",
    "\"Pos\":f\"{unique_table_name}Position\",\n",
    "\"Age\":f\"{unique_table_name}Age\",\n",
    "\"Team\":f\"{unique_table_name}Team\",\n",
    "\"G\":f\"{unique_table_name}Games Played\",\n",
    "\"GS\":f\"{unique_table_name}Games Started\",\n",
    "'PER':f'{unique_table_name}Player Efficiency',\n",
    "'DBPM':f'{unique_table_name}Defensive Box Plus/Minus',\n",
    "'VORP':f'{unique_table_name}Value Above Replacement Player',\n",
    "'TRB%':f'{unique_table_name}Total Rebounding %',\n",
    "'ORB%':f'{unique_table_name}Offensive Rebounding %',\n",
    "'WS':f'{unique_table_name}Win Shares',\n",
    "'BLK%':f'{unique_table_name}Block %',\n",
    "'DWS':f'{unique_table_name}Total Defensive Win Shares For Season',\n",
    "'TOV%':f'{unique_table_name}Turnover % for Season',\n",
    "'STL%':f'{unique_table_name}Steal Percentage for Season',\n",
    "'FTr':f'{unique_table_name}Free Throw Rate for Season',\n",
    "'DRB%':f'{unique_table_name}Defensive Rebound Percentage',\n",
    "'3PAr':f'{unique_table_name}3 Point Attempt Rate',\n",
    "'AST%':f'{unique_table_name}Assist % For Season',\n",
    "'OBPM':f'{unique_table_name}Offensive Box Plus/Minus For Season',\n",
    "'BPM':f'{unique_table_name}Box Plus/Minus For Season',\n",
    "'WS/48':f'{unique_table_name}Win Shares Per 48 Minutes Played For the Season',\n",
    "'USG%':f'{unique_table_name}Usage % For Season',\n",
    "'OWS':f'{unique_table_name}Total Offensive Win Shares For Season',\n",
    "'TS%':f'{unique_table_name}True Shooting % For Season',\n",
    "'MP':f'{unique_table_name}Total Minutes Played During Season',\n",
    "\"Player Unique ID\":f\"{unique_table_name}Player Unique ID\",\n",
    "\"Year\":f\"{unique_table_name}Year\",\n",
    "\"Team Name Refined - accounts for players being traded\":f\"{unique_table_name}Team Name Refined - accounts for players being traded\",\n",
    "\"Standardized/Modernized Team Name\":f\"{unique_table_name}Standardized/Modernized Team Name\",}\n",
    "\n",
    "# Replace names in dataframe\n",
    "advanced_player_stats_in_regular_season_df.rename(name_replacement_dict,axis=1,inplace=True)\n",
    "\n",
    "# Get rid of dataframes as desired\n",
    "list_of_columns_to_remove = ['Unnamed: 19','Unnamed: 24']\n",
    "\n",
    "for item in list_of_columns_to_remove:\n",
    "    advanced_player_stats_in_regular_season_df = advanced_player_stats_in_regular_season_df.drop(item,axis=1)\n",
    "\n",
    "# Check column names to make sure none desired to get rid of\n",
    "for column in advanced_player_stats_in_regular_season_df.columns:\n",
    "    \n",
    "    print(f\"\"\"\n",
    "    {column}\"\"\")\n",
    "\n",
    "advanced_player_stats_in_regular_season_df.head(1)"
   ]
  },
  {
   "cell_type": "markdown",
   "id": "ff778383",
   "metadata": {},
   "source": [
    "### Regular Season Shooting Player Stats"
   ]
  },
  {
   "cell_type": "code",
   "execution_count": null,
   "id": "192c8f52",
   "metadata": {
    "scrolled": true
   },
   "outputs": [],
   "source": [
    "# Define unique name for dataframe to insert into f-string\n",
    "unique_table_name = \"Regular Season Player Shooting Stats - \"\n",
    "\n",
    "# Define name replacement dict\n",
    "name_replacement_dict = {\"Rk\":f\"{unique_table_name}Rank\",\n",
    "\"Player\":f\"{unique_table_name}Player\",\n",
    "\"Pos\":f\"{unique_table_name}Position\",\n",
    "\"Age\":f\"{unique_table_name}Age\",\n",
    "\"Team\":f\"{unique_table_name}Team\",\n",
    "\"G\":f\"{unique_table_name}Games Played\",\n",
    "'MP':f'{unique_table_name}Total Minutes Played During Season',\n",
    "'FG%':f'{unique_table_name}Field Goal %',\n",
    "'Dist.':f'{unique_table_name}Average distance of shot',                         \n",
    "'2P':f'{unique_table_name}2 Pointer Attempt Rate For Season as % of total field goals attempted',\n",
    "'0-3':f'{unique_table_name}% of FGA between 0-3 ft.',\n",
    "'3-10':f'{unique_table_name}% of FGA between 3-10 ft.',                         \n",
    "'10-16':f'{unique_table_name}% of FGA between 10-16 ft.',\n",
    "'16-3P':f'{unique_table_name}% of FGA between 16-3P ft.',\n",
    "'3P':f'{unique_table_name}3 Pointer Attempt Rate For Season as % of total field goals attempted',\n",
    "'2P.1':f'{unique_table_name}FG % of 2 Point Attempts',\n",
    "'0-3.1':f'{unique_table_name}FG % of Attempts between 0-3 ft.',\n",
    "'3-10.1':f'{unique_table_name}FG % of Attempts between 3-10 ft.',                         \n",
    "'10-16.1':f'{unique_table_name}FG % of Attempts between 10-16 ft.',\n",
    "'16-3P.1':f'{unique_table_name}FG % of Attempts between 16-3P ft.',\n",
    "'3P.1':f'{unique_table_name}FG % of 3 Point Attempts',                       \n",
    "'2P.2':f'{unique_table_name}% of Made 2 Point Fields Goals That Were Assisted',                         \n",
    "'3P.2':f'{unique_table_name}% of Made 3 Point Fields Goals That Were Assisted',\n",
    "'%FGA':f'{unique_table_name}% of Field Goal attempts that are dunk attempts',\n",
    "'#':f'{unique_table_name}Number of made dunk attempts',\n",
    "'%3PA':f'{unique_table_name}% of 3 Point Attempts that come from the corner',\n",
    "'3P%':f'{unique_table_name}% of 3 Point corner attempts that are made',\n",
    "'Att.':f'{unique_table_name}Heave Attempts',\n",
    "'#.1':f'{unique_table_name}Number of made heaves',                     \n",
    "\"Player Unique ID\":f\"{unique_table_name}Player Unique ID\",\n",
    "\"Year\":f\"{unique_table_name}Year\",\n",
    "\"Team Name Refined - accounts for players being traded\":f\"{unique_table_name}Team Name Refined - accounts for players being traded\",\n",
    "\"Standardized/Modernized Team Name\":f\"{unique_table_name}Standardized/Modernized Team Name\"}\n",
    "\n",
    "# Replace names in dataframe\n",
    "player_shooting_in_regular_season_df.rename(name_replacement_dict,axis=1,inplace=True)\n",
    "\n",
    "# Get rid of dataframes as desired\n",
    "list_of_columns_to_remove = ['Unnamed: 9','Unnamed: 16','Unnamed: 23','Unnamed: 26','Unnamed: 29','Unnamed: 32']\n",
    "\n",
    "for item in list_of_columns_to_remove:\n",
    "    player_shooting_in_regular_season_df = player_shooting_in_regular_season_df.drop(item,axis=1)\n",
    "\n",
    "# Check column names to make sure none desired to get rid of\n",
    "for column in player_shooting_in_regular_season_df.columns:\n",
    "    \n",
    "    print(f\"\"\"\n",
    "    {column}\"\"\")\n",
    "\n",
    "player_shooting_in_regular_season_df.head(1)"
   ]
  },
  {
   "cell_type": "markdown",
   "id": "c6f64434",
   "metadata": {},
   "source": [
    "### Regular Season Play by Play Stats"
   ]
  },
  {
   "cell_type": "code",
   "execution_count": null,
   "id": "80a6b26f",
   "metadata": {
    "scrolled": true
   },
   "outputs": [],
   "source": [
    "# Define unique name for dataframe to insert into f-string\n",
    "unique_table_name = \"Regular Season Play by Play Player Stats - \"\n",
    "\n",
    "# Define name replacement dict\n",
    "name_replacement_dict = {\"Rk\":f\"{unique_table_name}Rank\",\n",
    "\"Player\":f\"{unique_table_name}Player\",\n",
    "\"Pos\":f\"{unique_table_name}Position\",\n",
    "\"Age\":f\"{unique_table_name}Age\",\n",
    "\"Team\":f\"{unique_table_name}Team\",\n",
    "\"G\":f\"{unique_table_name}Games Played\",\n",
    "'MP':f'{unique_table_name}Total Minutes Played During Season',\n",
    "                         \n",
    "'PG%':f'{unique_table_name}Percentage of Total Minutes Played at Point Guard',                         \n",
    "'SG%':f'{unique_table_name}Percentage of Total Minutes Played at Shooting Guard',    \n",
    "'SF%':f'{unique_table_name}Percentage of Total Minutes Played at Small Forward',    \n",
    "'PF%':f'{unique_table_name}Percentage of Total Minutes Played at Power Forward',    \n",
    "'C%':f'{unique_table_name}Percentage of Total Minutes Played at Center',    \n",
    "'OnCourt':f'{unique_table_name}Plus/Minus Per 100 Possessions (On Court)',    \n",
    "'On-Off':f'{unique_table_name}Plus/Minus Net Per 100 Possessions (On/off)',    \n",
    "'BadPass':f'{unique_table_name}Total Turnovers by Bad Pass',    \n",
    "'LostBall':f'{unique_table_name}Total Lost Ball Turnovers',    \n",
    "'Shoot':f'{unique_table_name}Shooting Fouls Committed',    \n",
    "'Off.':f'{unique_table_name}Offensive Fouls Committed', \n",
    "'Shoot.1':f'{unique_table_name}Shooting Fouls Drawn',    \n",
    "'Off..1':f'{unique_table_name}Offensive Fouls Drawn',                     \n",
    "'PGA':f'{unique_table_name}Points Generated by Assists',    \n",
    "'And1':f'{unique_table_name}Number of And1 Attempts After Made Field Goal',    \n",
    "'Blkd':f'{unique_table_name}Field Goal Attempts Blocked',                                                      \n",
    "\"Player Unique ID\":f\"{unique_table_name}Player Unique ID\",\n",
    "\"Year\":f\"{unique_table_name}Year\",\n",
    "\"Team Name Refined - accounts for players being traded\":f\"{unique_table_name}Team Name Refined - accounts for players being traded\",\n",
    "\"Standardized/Modernized Team Name\":f\"{unique_table_name}Standardized/Modernized Team Name\"}\n",
    "\n",
    "# Replace names in dataframe\n",
    "player_play_by_play_in_regular_season_df.rename(name_replacement_dict,axis=1,inplace=True)\n",
    "\n",
    "# # Get rid of dataframes as desired\n",
    "# list_of_columns_to_remove = ['Unnamed: 9','Unnamed: 16','Unnamed: 23','Unnamed: 26','Unnamed: 29','Unnamed: 32']\n",
    "\n",
    "# for item in list_of_columns_to_remove:\n",
    "#     player_play_by_play_in_regular_season_df = player_play_by_play_in_regular_season_df.drop(item,axis=1)\n",
    "\n",
    "# Check column names to make sure none desired to get rid of\n",
    "for column in player_play_by_play_in_regular_season_df.columns:\n",
    "    \n",
    "    print(f\"\"\"\n",
    "    {column}\"\"\")\n",
    "\n",
    "player_play_by_play_in_regular_season_df.head(1)"
   ]
  },
  {
   "cell_type": "markdown",
   "id": "6ec24419",
   "metadata": {},
   "source": [
    "## PLAYOFFS PLAYER STATS"
   ]
  },
  {
   "cell_type": "markdown",
   "id": "97cae7d5",
   "metadata": {},
   "source": [
    "### Playoffs Basic Player Stats"
   ]
  },
  {
   "cell_type": "code",
   "execution_count": null,
   "id": "8afc46ea",
   "metadata": {
    "scrolled": false
   },
   "outputs": [],
   "source": [
    "# Define unique name for dataframe to insert into f-string\n",
    "unique_table_name = \"Playoffs Basic Player Stats - \"\n",
    "\n",
    "# Define name replacement dict\n",
    "name_replacement_dict = {\"Rk\":f\"{unique_table_name}Rank\",\n",
    "\"Player\":f\"{unique_table_name}Player\",\n",
    "\"Pos\":f\"{unique_table_name}Position\",\n",
    "\"Age\":f\"{unique_table_name}Age\",\n",
    "\"Team\":f\"{unique_table_name}Team\",\n",
    "\"G\":f\"{unique_table_name}Games Played\",\n",
    "\"GS\":f\"{unique_table_name}Games Started\",\n",
    "\"MP\":f\"{unique_table_name}Minutes Played Per Game\",\n",
    "\"FG\":f\"{unique_table_name}Field Goals Made Per Game\",\n",
    "\"FGA\":f\"{unique_table_name}Field Goals Attempted Per Game\",\n",
    "\"FG%\":f\"{unique_table_name}Average Field Goal % For Season\",\n",
    "\"3P\":f\"{unique_table_name}3 Pointers Made Per Game\",\n",
    "\"3PA\":f\"{unique_table_name}3 Point Attempts Per Game\",\n",
    "\"3P%\":f\"{unique_table_name}Average 3 Point % For Season\",\n",
    "\"2P\":f\"{unique_table_name}2 Pointers Made Per Game\",\n",
    "\"2PA\":f\"{unique_table_name}2 Point Attempts Per Game\",\n",
    "\"2P%\":f\"{unique_table_name}Average 2 Point % For Season\",\n",
    "\"eFG%\":f\"{unique_table_name}Average Effective Field Goal % For Season\",\n",
    "\"FT\":f\"{unique_table_name}Free Throws Made Per Game\",\n",
    "\"FTA\":f\"{unique_table_name}Free Throw Attempts Per Game\",\n",
    "\"FT%\":f\"{unique_table_name}Average Free Throw % For Season\",\n",
    "\"ORB\":f\"{unique_table_name}Offense Rebounds Per Game\",\n",
    "\"DRB\":f\"{unique_table_name}Defense Rebounds Per Game\",\n",
    "\"TRB\":f\"{unique_table_name}Total Rebounds Per Game\",\n",
    "\"AST\":f\"{unique_table_name}Assists Per Game\",\n",
    "\"STL\":f\"{unique_table_name}Steals Per Game\",\n",
    "\"BLK\":f\"{unique_table_name}Blocks Per Game\",\n",
    "\"TOV\":f\"{unique_table_name}Turnovers Per Game\",\n",
    "\"PF\":f\"{unique_table_name}Personal Fouls Per Game\",\n",
    "\"PTS\":f\"{unique_table_name}Points Per Game\",\n",
    "\"Player Unique ID\":f\"{unique_table_name}Player Unique ID\",\n",
    "\"Year\":f\"{unique_table_name}Year\",\n",
    "\"Team Name Refined - accounts for players being traded\":f\"{unique_table_name}Team Name Refined - accounts for players being traded\",\n",
    "\"Standardized/Modernized Team Name\":f\"{unique_table_name}Standardized/Modernized Team Name\"}\n",
    "# Replace names in dataframe\n",
    "player_basic_playoff_stats_df.rename(name_replacement_dict,axis=1,inplace=True)\n",
    "\n",
    "# Check column names to make sure none desired to get rid of\n",
    "for column in player_basic_playoff_stats_df.columns:\n",
    "    \n",
    "    print(f\"\"\"\n",
    "    {column}\"\"\")\n",
    "\n",
    "player_basic_playoff_stats_df.head(1)\n"
   ]
  },
  {
   "cell_type": "markdown",
   "id": "9974a6d9",
   "metadata": {},
   "source": [
    "### Playoffs Advanced Player Stats"
   ]
  },
  {
   "cell_type": "code",
   "execution_count": null,
   "id": "b52addd1",
   "metadata": {
    "scrolled": true
   },
   "outputs": [],
   "source": [
    "# Define unique name for dataframe to insert into f-string\n",
    "unique_table_name = \"Playoffs Advanced Player Stats - \"\n",
    "\n",
    "# Define name replacement dict\n",
    "name_replacement_dict = {\"Rk\":f\"{unique_table_name}Rank\",\n",
    "\"Player\":f\"{unique_table_name}Player\",\n",
    "\"Pos\":f\"{unique_table_name}Position\",\n",
    "\"Age\":f\"{unique_table_name}Age\",\n",
    "\"Team\":f\"{unique_table_name}Team\",\n",
    "\"G\":f\"{unique_table_name}Games Played\",\n",
    "\"GS\":f\"{unique_table_name}Games Started\",\n",
    "'PER':f'{unique_table_name}Player Efficiency',\n",
    "'DBPM':f'{unique_table_name}Defensive Box Plus/Minus',\n",
    "'VORP':f'{unique_table_name}Value Above Replacement Player',\n",
    "'TRB%':f'{unique_table_name}Total Rebounding %',\n",
    "'ORB%':f'{unique_table_name}Offensive Rebounding %',\n",
    "'WS':f'{unique_table_name}Win Shares',\n",
    "'BLK%':f'{unique_table_name}Block %',\n",
    "'DWS':f'{unique_table_name}Total Defensive Win Shares For Season',\n",
    "'TOV%':f'{unique_table_name}Turnover % for Season',\n",
    "'STL%':f'{unique_table_name}Steal Percentage for Season',\n",
    "'FTr':f'{unique_table_name}Free Throw Rate for Season',\n",
    "'DRB%':f'{unique_table_name}Defensive Rebound Percentage',\n",
    "'3PAr':f'{unique_table_name}3 Point Attempt Rate',\n",
    "'AST%':f'{unique_table_name}Assist % For Season',\n",
    "'OBPM':f'{unique_table_name}Offensive Box Plus/Minus For Season',\n",
    "'BPM':f'{unique_table_name}Box Plus/Minus For Season',\n",
    "'WS/48':f'{unique_table_name}Win Shares Per 48 Minutes Played For the Season',\n",
    "'USG%':f'{unique_table_name}Usage % For Season',\n",
    "'OWS':f'{unique_table_name}Total Offensive Win Shares For Season',\n",
    "'TS%':f'{unique_table_name}True Shooting % For Season',\n",
    "'MP':f'{unique_table_name}Total Minutes Played During Season',\n",
    "\"Player Unique ID\":f\"{unique_table_name}Player Unique ID\",\n",
    "\"Year\":f\"{unique_table_name}Year\",\n",
    "\"Team Name Refined - accounts for players being traded\":f\"{unique_table_name}Team Name Refined - accounts for players being traded\",\n",
    "\"Standardized/Modernized Team Name\":f\"{unique_table_name}Standardized/Modernized Team Name\",}\n",
    "\n",
    "# Replace names in dataframe\n",
    "player_advanced_stats_in_playoffs_df.rename(name_replacement_dict,axis=1,inplace=True)\n",
    "\n",
    "# Get rid of dataframes as desired\n",
    "list_of_columns_to_remove = ['Unnamed: 19','Unnamed: 24']\n",
    "\n",
    "for item in list_of_columns_to_remove:\n",
    "    player_advanced_stats_in_playoffs_df = player_advanced_stats_in_playoffs_df.drop(item,axis=1)\n",
    "\n",
    "# Check column names to make sure none desired to get rid of\n",
    "for column in player_advanced_stats_in_playoffs_df.columns:\n",
    "    \n",
    "    print(f\"\"\"\n",
    "    {column}\"\"\")\n",
    "\n",
    "player_advanced_stats_in_playoffs_df.head(1)"
   ]
  },
  {
   "cell_type": "markdown",
   "id": "33375513",
   "metadata": {},
   "source": [
    "### Playoffs Shooting Player Stats"
   ]
  },
  {
   "cell_type": "code",
   "execution_count": null,
   "id": "32a88a3e",
   "metadata": {
    "scrolled": true
   },
   "outputs": [],
   "source": [
    "# Define unique name for dataframe to insert into f-string\n",
    "unique_table_name = \"Playoffs Player Shooting Stats - \"\n",
    "\n",
    "# Define name replacement dict\n",
    "name_replacement_dict = {\"Rk\":f\"{unique_table_name}Rank\",\n",
    "\"Player\":f\"{unique_table_name}Player\",\n",
    "\"Pos\":f\"{unique_table_name}Position\",\n",
    "\"Age\":f\"{unique_table_name}Age\",\n",
    "\"Team\":f\"{unique_table_name}Team\",\n",
    "\"G\":f\"{unique_table_name}Games Played\",\n",
    "'MP':f'{unique_table_name}Total Minutes Played During Season',\n",
    "'FG%':f'{unique_table_name}Field Goal %',\n",
    "'Dist.':f'{unique_table_name}Average distance of shot',                         \n",
    "'2P':f'{unique_table_name}2 Pointer Attempt Rate For Season as % of total field goals attempted',\n",
    "'0-3':f'{unique_table_name}% of FGA between 0-3 ft.',\n",
    "'3-10':f'{unique_table_name}% of FGA between 3-10 ft.',                         \n",
    "'10-16':f'{unique_table_name}% of FGA between 10-16 ft.',\n",
    "'16-3P':f'{unique_table_name}% of FGA between 16-3P ft.',\n",
    "'3P':f'{unique_table_name}3 Pointer Attempt Rate For Season as % of total field goals attempted',\n",
    "'2P.1':f'{unique_table_name}FG % of 2 Point Attempts',\n",
    "'0-3.1':f'{unique_table_name}FG % of Attempts between 0-3 ft.',\n",
    "'3-10.1':f'{unique_table_name}FG % of Attempts between 3-10 ft.',                         \n",
    "'10-16.1':f'{unique_table_name}FG % of Attempts between 10-16 ft.',\n",
    "'16-3P.1':f'{unique_table_name}FG % of Attempts between 16-3P ft.',\n",
    "'3P.1':f'{unique_table_name}FG % of 3 Point Attempts',                       \n",
    "'2P.2':f'{unique_table_name}% of Made 2 Point Fields Goals That Were Assisted',                         \n",
    "'3P.2':f'{unique_table_name}% of Made 3 Point Fields Goals That Were Assisted',\n",
    "'%FGA':f'{unique_table_name}% of Field Goal attempts that are dunk attempts',\n",
    "'#':f'{unique_table_name}Number of made dunk attempts',\n",
    "'%3PA':f'{unique_table_name}% of 3 Point Attempts that come from the corner',\n",
    "'3P%':f'{unique_table_name}% of 3 Point corner attempts that are made',\n",
    "'Att.':f'{unique_table_name}Heave Attempts',\n",
    "'#.1':f'{unique_table_name}Number of made heaves',                     \n",
    "\"Player Unique ID\":f\"{unique_table_name}Player Unique ID\",\n",
    "\"Year\":f\"{unique_table_name}Year\",\n",
    "\"Team Name Refined - accounts for players being traded\":f\"{unique_table_name}Team Name Refined - accounts for players being traded\",\n",
    "\"Standardized/Modernized Team Name\":f\"{unique_table_name}Standardized/Modernized Team Name\"}\n",
    "\n",
    "# Replace names in dataframe\n",
    "player_shooting_stats_in_playoffs_df.rename(name_replacement_dict,axis=1,inplace=True)\n",
    "\n",
    "# Get rid of dataframes as desired\n",
    "list_of_columns_to_remove = ['Unnamed: 9','Unnamed: 16','Unnamed: 23','Unnamed: 26','Unnamed: 29','Unnamed: 32']\n",
    "\n",
    "for item in list_of_columns_to_remove:\n",
    "    player_shooting_stats_in_playoffs_df = player_shooting_stats_in_playoffs_df.drop(item,axis=1)\n",
    "\n",
    "# Check column names to make sure none desired to get rid of\n",
    "for column in player_shooting_stats_in_playoffs_df.columns:\n",
    "    \n",
    "    print(f\"\"\"\n",
    "    {column}\"\"\")\n",
    "\n",
    "player_shooting_stats_in_playoffs_df.head(1)"
   ]
  },
  {
   "cell_type": "markdown",
   "id": "3e6e3d65",
   "metadata": {},
   "source": [
    "### Playoffs Play by Play Player Stats"
   ]
  },
  {
   "cell_type": "code",
   "execution_count": null,
   "id": "dcfbef63",
   "metadata": {
    "scrolled": true
   },
   "outputs": [],
   "source": [
    "# Define unique name for dataframe to insert into f-string\n",
    "unique_table_name = \"Playoffs Play by Play Player Stats - \"\n",
    "\n",
    "# Define name replacement dict\n",
    "name_replacement_dict = {\"Rk\":f\"{unique_table_name}Rank\",\n",
    "\"Player\":f\"{unique_table_name}Player\",\n",
    "\"Pos\":f\"{unique_table_name}Position\",\n",
    "\"Age\":f\"{unique_table_name}Age\",\n",
    "\"Team\":f\"{unique_table_name}Team\",\n",
    "\"G\":f\"{unique_table_name}Games Played\",\n",
    "'MP':f'{unique_table_name}Total Minutes Played During Season',                        \n",
    "'PG%':f'{unique_table_name}Percentage of Total Minutes Played at Point Guard',                         \n",
    "'SG%':f'{unique_table_name}Percentage of Total Minutes Played at Shooting Guard',    \n",
    "'SF%':f'{unique_table_name}Percentage of Total Minutes Played at Small Forward',    \n",
    "'PF%':f'{unique_table_name}Percentage of Total Minutes Played at Power Forward',    \n",
    "'C%':f'{unique_table_name}Percentage of Total Minutes Played at Center',    \n",
    "'OnCourt':f'{unique_table_name}Plus/Minus Per 100 Possessions (On Court)',    \n",
    "'On-Off':f'{unique_table_name}Plus/Minus Net Per 100 Possessions (On/off)',    \n",
    "'BadPass':f'{unique_table_name}Total Turnovers by Bad Pass',    \n",
    "'LostBall':f'{unique_table_name}Total Lost Ball Turnovers',    \n",
    "'Shoot':f'{unique_table_name}Shooting Fouls Committed',    \n",
    "'Off.':f'{unique_table_name}Offensive Fouls Committed', \n",
    "'Shoot.1':f'{unique_table_name}Shooting Fouls Drawn',    \n",
    "'Off..1':f'{unique_table_name}Offensive Fouls Drawn',                     \n",
    "'PGA':f'{unique_table_name}Points Generated by Assists',    \n",
    "'And1':f'{unique_table_name}Number of And1 Attempts After Made Field Goal',    \n",
    "'Blkd':f'{unique_table_name}Field Goal Attempts Blocked',                                                      \n",
    "\"Player Unique ID\":f\"{unique_table_name}Player Unique ID\",\n",
    "\"Year\":f\"{unique_table_name}Year\",\n",
    "\"Team Name Refined - accounts for players being traded\":f\"{unique_table_name}Team Name Refined - accounts for players being traded\",\n",
    "\"Standardized/Modernized Team Name\":f\"{unique_table_name}Standardized/Modernized Team Name\"}\n",
    "\n",
    "# Replace names in dataframe\n",
    "player_play_by_play_stats_in_playoffs_df.rename(name_replacement_dict,axis=1,inplace=True)\n",
    "\n",
    "# # Get rid of dataframes as desired\n",
    "# list_of_columns_to_remove = ['Unnamed: 9','Unnamed: 16','Unnamed: 23','Unnamed: 26','Unnamed: 29','Unnamed: 32']\n",
    "\n",
    "# for item in list_of_columns_to_remove:\n",
    "#     player_play_by_play_in_regular_season_df = player_play_by_play_in_regular_season_df.drop(item,axis=1)\n",
    "\n",
    "# Check column names to make sure none desired to get rid of\n",
    "for column in player_play_by_play_stats_in_playoffs_df.columns:\n",
    "    \n",
    "    print(f\"\"\"\n",
    "    {column}\"\"\")\n",
    "\n",
    "player_play_by_play_stats_in_playoffs_df.head(1)"
   ]
  },
  {
   "cell_type": "markdown",
   "id": "c764591a",
   "metadata": {},
   "source": [
    "## Player Awards"
   ]
  },
  {
   "cell_type": "markdown",
   "id": "59191d1e",
   "metadata": {},
   "source": [
    "### MVP Award"
   ]
  },
  {
   "cell_type": "code",
   "execution_count": null,
   "id": "32cb3783",
   "metadata": {
    "scrolled": true
   },
   "outputs": [],
   "source": [
    "# Define unique name for dataframe to insert into f-string\n",
    "unique_table_name = \"MVP Vote Results - \"\n",
    "\n",
    "# Define name replacement dict\n",
    "name_replacement_dict = {\"Rank\":f\"{unique_table_name}Rank\",\n",
    "\"Player\":f\"{unique_table_name}Player\",\n",
    "\"Age\":f\"{unique_table_name}Age\",\n",
    "\"Team\":f\"{unique_table_name}Team\",\n",
    "\"First\":f\"{unique_table_name}First Place Votes\",\n",
    "\"Pts Won\":f\"{unique_table_name}Total Voting Points Won\",\n",
    "\"Pts Max\":f\"{unique_table_name}Total Voting Points Possible\",\n",
    "\"Share\":f\"{unique_table_name}% of Total Voting Points Possible That Were Won\",                                                                                                                  \n",
    "\"Player Unique ID\":f\"{unique_table_name}Player Unique ID\",\n",
    "\"Year\":f\"{unique_table_name}Year\",\n",
    "\"Team Name Refined - accounts for players being traded\":f\"{unique_table_name}Team Name Refined - accounts for players being traded\",\n",
    "\"Standardized/Modernized Team Name\":f\"{unique_table_name}Standardized/Modernized Team Name\"}\n",
    "\n",
    "# Replace names in dataframe\n",
    "mvp_vote_df.rename(name_replacement_dict,axis=1,inplace=True)\n",
    "\n",
    "# # Get rid of dataframes as desired\n",
    "list_of_columns_to_remove = ['G','PTS','TRB','AST','STL','BLK','FG%','3P%','FT%','WS','WS/48','MP']\n",
    "\n",
    "for item in list_of_columns_to_remove:\n",
    "    mvp_vote_df = mvp_vote_df.drop(item,axis=1)\n",
    "\n",
    "# Check column names to make sure none desired to get rid of\n",
    "for column in mvp_vote_df.columns:\n",
    "    \n",
    "    print(f\"\"\"\n",
    "    {column}\"\"\")\n",
    "\n",
    "mvp_vote_df.head(1)"
   ]
  },
  {
   "cell_type": "markdown",
   "id": "1bb5b32f",
   "metadata": {},
   "source": [
    "### ROY Award"
   ]
  },
  {
   "cell_type": "code",
   "execution_count": null,
   "id": "6006ea00",
   "metadata": {
    "scrolled": true
   },
   "outputs": [],
   "source": [
    "# Define unique name for dataframe to insert into f-string\n",
    "unique_table_name = \"ROY Vote Results - \"\n",
    "\n",
    "# Define name replacement dict\n",
    "name_replacement_dict = {\"Rank\":f\"{unique_table_name}Rank\",\n",
    "\"Player\":f\"{unique_table_name}Player\",\n",
    "\"Age\":f\"{unique_table_name}Age\",\n",
    "\"Team\":f\"{unique_table_name}Team\",\n",
    "\"First\":f\"{unique_table_name}First Place Votes\",\n",
    "\"Pts Won\":f\"{unique_table_name}Total Voting Points Won\",\n",
    "\"Pts Max\":f\"{unique_table_name}Total Voting Points Possible\",\n",
    "\"Share\":f\"{unique_table_name}% of Total Voting Points Possible That Were Won\",                                                                                                                  \n",
    "\"Player Unique ID\":f\"{unique_table_name}Player Unique ID\",\n",
    "\"Year\":f\"{unique_table_name}Year\",\n",
    "\"Team Name Refined - accounts for players being traded\":f\"{unique_table_name}Team Name Refined - accounts for players being traded\",\n",
    "\"Standardized/Modernized Team Name\":f\"{unique_table_name}Standardized/Modernized Team Name\"}\n",
    "\n",
    "# Replace names in dataframe\n",
    "roy_vote_df.rename(name_replacement_dict,axis=1,inplace=True)\n",
    "\n",
    "# # Get rid of dataframes as desired\n",
    "list_of_columns_to_remove = ['G','PTS','TRB','AST','STL','BLK','FG%','3P%','FT%','WS','WS/48','MP']\n",
    "\n",
    "for item in list_of_columns_to_remove:\n",
    "    roy_vote_df = roy_vote_df.drop(item,axis=1)\n",
    "\n",
    "# Check column names to make sure none desired to get rid of\n",
    "for column in roy_vote_df.columns:\n",
    "    \n",
    "    print(f\"\"\"\n",
    "    {column}\"\"\")\n",
    "\n",
    "roy_vote_df.head(1)"
   ]
  },
  {
   "cell_type": "markdown",
   "id": "f5e32610",
   "metadata": {},
   "source": [
    "### All NBA Award"
   ]
  },
  {
   "cell_type": "code",
   "execution_count": null,
   "id": "517c8d94",
   "metadata": {
    "scrolled": true
   },
   "outputs": [],
   "source": [
    "# Define unique name for dataframe to insert into f-string\n",
    "unique_table_name = \"All NBA Vote Results - \"\n",
    "\n",
    "# Define name replacement dict\n",
    "name_replacement_dict = {\"Rank\":f\"{unique_table_name}Rank\",\n",
    "\"# Tm\":f\"{unique_table_name}All NBA Award (e.g. 1st Team)\",\n",
    "\"1st Tm\":f\"{unique_table_name}All NBA 1st Team Votes\",\n",
    "\"2nd Tm\":f\"{unique_table_name}All NBA 2nd Team Votes\",\n",
    "\"3rd Tm\":f\"{unique_table_name}All NBA 3rd Team Votes\",                                                  \n",
    "\"Pos\":f\"{unique_table_name}Position\",                         \n",
    "\"Player\":f\"{unique_table_name}Player\",\n",
    "\"Age\":f\"{unique_table_name}Age\",\n",
    "\"Team\":f\"{unique_table_name}Team\",\n",
    "\"First\":f\"{unique_table_name}First Place Votes\",\n",
    "\"Pts Won\":f\"{unique_table_name}Total Voting Points Won\",\n",
    "\"Pts Max\":f\"{unique_table_name}Total Voting Points Possible\",\n",
    "\"Share\":f\"{unique_table_name}% of Total Voting Points Possible That Were Won\",                                                                                                                  \n",
    "\"Player Unique ID\":f\"{unique_table_name}Player Unique ID\",\n",
    "\"Year\":f\"{unique_table_name}Year\",\n",
    "\"Team Name Refined - accounts for players being traded\":f\"{unique_table_name}Team Name Refined - accounts for players being traded\",\n",
    "\"Standardized/Modernized Team Name\":f\"{unique_table_name}Standardized/Modernized Team Name\"}\n",
    "\n",
    "# Replace names in dataframe\n",
    "all_nba_df.rename(name_replacement_dict,axis=1,inplace=True)\n",
    "\n",
    "# # # Get rid of dataframes as desired\n",
    "list_of_columns_to_remove = ['G', 'MP', 'PTS', 'TRB', 'AST', 'STL','BLK', 'FG%', '3P%', 'FT%', 'WS', 'WS/48']\n",
    "\n",
    "for item in list_of_columns_to_remove:\n",
    "    all_nba_df = all_nba_df.drop(item,axis=1)\n",
    "\n",
    "# Check column names to make sure none desired to get rid of\n",
    "for column in all_nba_df.columns:\n",
    "    \n",
    "    print(f\"\"\"\n",
    "    {column}\"\"\")\n",
    "\n",
    "all_nba_df.head(1)"
   ]
  },
  {
   "cell_type": "markdown",
   "id": "b2aac765",
   "metadata": {},
   "source": [
    "### All Defensive Award"
   ]
  },
  {
   "cell_type": "code",
   "execution_count": null,
   "id": "cc6c2591",
   "metadata": {
    "scrolled": true
   },
   "outputs": [],
   "source": [
    "# Define unique name for dataframe to insert into f-string\n",
    "unique_table_name = \"All Defensive Vote Results - \"\n",
    "\n",
    "# Define name replacement dict\n",
    "name_replacement_dict = {\"Rank\":f\"{unique_table_name}Rank\",\n",
    "\"# Tm\":f\"{unique_table_name}All NBA Award (e.g. 1st Team)\",\n",
    "\"1st Tm\":f\"{unique_table_name}All NBA 1st Team Votes\",\n",
    "\"2nd Tm\":f\"{unique_table_name}All NBA 2nd Team Votes\",\n",
    "\"3rd Tm\":f\"{unique_table_name}All NBA 3rd Team Votes\",                                                  \n",
    "\"Pos\":f\"{unique_table_name}Position\",                         \n",
    "\"Player\":f\"{unique_table_name}Player\",\n",
    "\"Age\":f\"{unique_table_name}Age\",\n",
    "\"Team\":f\"{unique_table_name}Team\",\n",
    "\"First\":f\"{unique_table_name}First Place Votes\",\n",
    "\"Pts Won\":f\"{unique_table_name}Total Voting Points Won\",\n",
    "\"Pts Max\":f\"{unique_table_name}Total Voting Points Possible\",\n",
    "\"Share\":f\"{unique_table_name}% of Total Voting Points Possible That Were Won\",                                                                                                                  \n",
    "\"Player Unique ID\":f\"{unique_table_name}Player Unique ID\",\n",
    "\"Year\":f\"{unique_table_name}Year\",\n",
    "\"Team Name Refined - accounts for players being traded\":f\"{unique_table_name}Team Name Refined - accounts for players being traded\",\n",
    "\"Standardized/Modernized Team Name\":f\"{unique_table_name}Standardized/Modernized Team Name\"}\n",
    "\n",
    "# Replace names in dataframe\n",
    "all_defense_df.rename(name_replacement_dict,axis=1,inplace=True)\n",
    "\n",
    "# # # Get rid of dataframes as desired\n",
    "list_of_columns_to_remove = ['G', 'MP', 'PTS', 'TRB', 'AST', 'STL','BLK', 'FG%', '3P%', 'FT%', 'WS', 'WS/48','DWS','DBPM','DRtg']\n",
    "\n",
    "for item in list_of_columns_to_remove:\n",
    "    all_defense_df = all_defense_df.drop(item,axis=1)\n",
    "\n",
    "# Check column names to make sure none desired to get rid of\n",
    "for column in all_defense_df.columns:\n",
    "    \n",
    "    print(f\"\"\"\n",
    "    {column}\"\"\")\n",
    "\n",
    "all_defense_df.head(1)"
   ]
  },
  {
   "cell_type": "markdown",
   "id": "f8616e3e",
   "metadata": {},
   "source": [
    "### Most Improved Player Award"
   ]
  },
  {
   "cell_type": "code",
   "execution_count": null,
   "id": "6ee7ee4b",
   "metadata": {},
   "outputs": [],
   "source": [
    "# Define unique name for dataframe to insert into f-string\n",
    "unique_table_name = \"MIP Vote Results - \"\n",
    "\n",
    "# Define name replacement dict\n",
    "name_replacement_dict = {\"Rank\":f\"{unique_table_name}Rank\",\n",
    "\"# Tm\":f\"{unique_table_name}All NBA Award (e.g. 1st Team)\",\n",
    "\"1st Tm\":f\"{unique_table_name}All NBA 1st Team Votes\",\n",
    "\"2nd Tm\":f\"{unique_table_name}All NBA 2nd Team Votes\",\n",
    "\"3rd Tm\":f\"{unique_table_name}All NBA 3rd Team Votes\",                                                  \n",
    "\"Pos\":f\"{unique_table_name}Position\",                         \n",
    "\"Player\":f\"{unique_table_name}Player\",\n",
    "\"Age\":f\"{unique_table_name}Age\",\n",
    "\"Team\":f\"{unique_table_name}Team\",\n",
    "\"First\":f\"{unique_table_name}First Place Votes\",\n",
    "\"Pts Won\":f\"{unique_table_name}Total Voting Points Won\",\n",
    "\"Pts Max\":f\"{unique_table_name}Total Voting Points Possible\",\n",
    "\"Share\":f\"{unique_table_name}% of Total Voting Points Possible That Were Won\",                                                                                                                  \n",
    "\"Player Unique ID\":f\"{unique_table_name}Player Unique ID\",\n",
    "\"Year\":f\"{unique_table_name}Year\",\n",
    "\"Team Name Refined - accounts for players being traded\":f\"{unique_table_name}Team Name Refined - accounts for players being traded\",\n",
    "\"Standardized/Modernized Team Name\":f\"{unique_table_name}Standardized/Modernized Team Name\"}\n",
    "\n",
    "# Replace names in dataframe\n",
    "mip_df.rename(name_replacement_dict,axis=1,inplace=True)\n",
    "\n",
    "# # Get rid of dataframes as desired\n",
    "list_of_columns_to_remove = ['G', 'MP', 'PTS', 'TRB', 'AST', 'STL','BLK', 'FG%', '3P%', 'FT%', 'WS', 'WS/48']\n",
    "\n",
    "for item in list_of_columns_to_remove:\n",
    "    mip_df = mip_df.drop(item,axis=1)\n",
    "\n",
    "# Check column names to make sure none desired to get rid of\n",
    "for column in mip_df.columns:\n",
    "    \n",
    "    print(f\"\"\"\n",
    "    {column}\"\"\")\n",
    "\n",
    "mip_df.head(1)"
   ]
  },
  {
   "cell_type": "markdown",
   "id": "d7b7a724",
   "metadata": {},
   "source": [
    "### 6 Man of the Year Award"
   ]
  },
  {
   "cell_type": "code",
   "execution_count": null,
   "id": "5a1c0d09",
   "metadata": {},
   "outputs": [],
   "source": [
    "# Define unique name for dataframe to insert into f-string\n",
    "unique_table_name = \"6 Man Vote Results - \"\n",
    "\n",
    "# Define name replacement dict\n",
    "name_replacement_dict = {\"Rank\":f\"{unique_table_name}Rank\",\n",
    "\"# Tm\":f\"{unique_table_name}All NBA Award (e.g. 1st Team)\",\n",
    "\"1st Tm\":f\"{unique_table_name}All NBA 1st Team Votes\",\n",
    "\"2nd Tm\":f\"{unique_table_name}All NBA 2nd Team Votes\",\n",
    "\"3rd Tm\":f\"{unique_table_name}All NBA 3rd Team Votes\",                                                  \n",
    "\"Pos\":f\"{unique_table_name}Position\",                         \n",
    "\"Player\":f\"{unique_table_name}Player\",\n",
    "\"Age\":f\"{unique_table_name}Age\",\n",
    "\"Team\":f\"{unique_table_name}Team\",\n",
    "\"First\":f\"{unique_table_name}First Place Votes\",\n",
    "\"Pts Won\":f\"{unique_table_name}Total Voting Points Won\",\n",
    "\"Pts Max\":f\"{unique_table_name}Total Voting Points Possible\",\n",
    "\"Share\":f\"{unique_table_name}% of Total Voting Points Possible That Were Won\",                                                                                                                  \n",
    "\"Player Unique ID\":f\"{unique_table_name}Player Unique ID\",\n",
    "\"Year\":f\"{unique_table_name}Year\",\n",
    "\"Team Name Refined - accounts for players being traded\":f\"{unique_table_name}Team Name Refined - accounts for players being traded\",\n",
    "\"Standardized/Modernized Team Name\":f\"{unique_table_name}Standardized/Modernized Team Name\"}\n",
    "\n",
    "# Replace names in dataframe\n",
    "six_man_df.rename(name_replacement_dict,axis=1,inplace=True)\n",
    "\n",
    "# Get rid of dataframes as desired\n",
    "list_of_columns_to_remove = ['G', 'MP', 'PTS', 'TRB', 'AST', 'STL','BLK', 'FG%', '3P%', 'FT%', 'WS', 'WS/48']\n",
    "\n",
    "for item in list_of_columns_to_remove:\n",
    "    six_man_df = six_man_df.drop(item,axis=1)\n",
    "\n",
    "# Check column names to make sure none desired to get rid of\n",
    "for column in six_man_df.columns:\n",
    "    \n",
    "    print(f\"\"\"\n",
    "    {column}\"\"\")\n",
    "\n",
    "six_man_df.head(1)"
   ]
  },
  {
   "cell_type": "markdown",
   "id": "293d32e1",
   "metadata": {},
   "source": [
    "### DPOY Award"
   ]
  },
  {
   "cell_type": "code",
   "execution_count": null,
   "id": "2abe794e",
   "metadata": {},
   "outputs": [],
   "source": [
    "# Define unique name for dataframe to insert into f-string\n",
    "unique_table_name = \"DPOY Results - \"\n",
    "\n",
    "# Define name replacement dict\n",
    "name_replacement_dict = {\"Rank\":f\"{unique_table_name}Rank\",\n",
    "\"# Tm\":f\"{unique_table_name}All NBA Award (e.g. 1st Team)\",\n",
    "\"1st Tm\":f\"{unique_table_name}All NBA 1st Team Votes\",\n",
    "\"2nd Tm\":f\"{unique_table_name}All NBA 2nd Team Votes\",\n",
    "\"3rd Tm\":f\"{unique_table_name}All NBA 3rd Team Votes\",                                                  \n",
    "\"Pos\":f\"{unique_table_name}Position\",                         \n",
    "\"Player\":f\"{unique_table_name}Player\",\n",
    "\"Age\":f\"{unique_table_name}Age\",\n",
    "\"Team\":f\"{unique_table_name}Team\",\n",
    "\"First\":f\"{unique_table_name}First Place Votes\",\n",
    "\"Pts Won\":f\"{unique_table_name}Total Voting Points Won\",\n",
    "\"Pts Max\":f\"{unique_table_name}Total Voting Points Possible\",\n",
    "\"Share\":f\"{unique_table_name}% of Total Voting Points Possible That Were Won\",                                                                                                                  \n",
    "\"Player Unique ID\":f\"{unique_table_name}Player Unique ID\",\n",
    "\"Year\":f\"{unique_table_name}Year\",\n",
    "\"Team Name Refined - accounts for players being traded\":f\"{unique_table_name}Team Name Refined - accounts for players being traded\",\n",
    "\"Standardized/Modernized Team Name\":f\"{unique_table_name}Standardized/Modernized Team Name\"}\n",
    "\n",
    "# Replace names in dataframe\n",
    "dpoy_df.rename(name_replacement_dict,axis=1,inplace=True)\n",
    "\n",
    "# Get rid of dataframes as desired\n",
    "list_of_columns_to_remove = ['G', 'MP', 'PTS', 'TRB', 'AST', 'STL','BLK', 'FG%', '3P%', 'FT%', 'WS', 'WS/48','DWS','DBPM','DRtg']\n",
    "\n",
    "for item in list_of_columns_to_remove:\n",
    "    dpoy_df = dpoy_df.drop(item,axis=1)\n",
    "\n",
    "# Check column names to make sure none desired to get rid of\n",
    "for column in dpoy_df.columns:\n",
    "    \n",
    "    print(f\"\"\"\n",
    "    {column}\"\"\")\n",
    "\n",
    "dpoy_df.head(1)"
   ]
  },
  {
   "cell_type": "markdown",
   "id": "fb3202ab",
   "metadata": {},
   "source": [
    "### Finals MVP Award"
   ]
  },
  {
   "cell_type": "code",
   "execution_count": null,
   "id": "0bd9f38f",
   "metadata": {},
   "outputs": [],
   "source": [
    "# Define unique name for dataframe to insert into f-string\n",
    "unique_table_name = \"Finals MVP Results - \"\n",
    "\n",
    "# Define name replacement dict\n",
    "name_replacement_dict = {\"Rank\":f\"{unique_table_name}Rank\",\n",
    "\"# Tm\":f\"{unique_table_name}All NBA Award (e.g. 1st Team)\",\n",
    "\"1st Tm\":f\"{unique_table_name}All NBA 1st Team Votes\",\n",
    "\"2nd Tm\":f\"{unique_table_name}All NBA 2nd Team Votes\",\n",
    "\"3rd Tm\":f\"{unique_table_name}All NBA 3rd Team Votes\",                                                  \n",
    "\"Pos\":f\"{unique_table_name}Position\",                         \n",
    "\"Player\":f\"{unique_table_name}Player\",\n",
    "\"Age\":f\"{unique_table_name}Age\",\n",
    "\"Team\":f\"{unique_table_name}Team\",\n",
    "\"First\":f\"{unique_table_name}First Place Votes\",\n",
    "\"Pts Won\":f\"{unique_table_name}Total Voting Points Won\",\n",
    "\"Pts Max\":f\"{unique_table_name}Total Voting Points Possible\",\n",
    "\"Share\":f\"{unique_table_name}% of Total Voting Points Possible That Were Won\",                                                                                                                  \n",
    "\"Player Unique ID\":f\"{unique_table_name}Player Unique ID\",\n",
    "\"Year\":f\"{unique_table_name}Year\",\n",
    "\"Team Name Refined - accounts for players being traded\":f\"{unique_table_name}Team Name Refined - accounts for players being traded\",\n",
    "\"Standardized/Modernized Team Name\":f\"{unique_table_name}Standardized/Modernized Team Name\"}\n",
    "\n",
    "# Replace names in dataframe\n",
    "finals_mvp.rename(name_replacement_dict,axis=1,inplace=True)\n",
    "\n",
    "# # Get rid of dataframes as desired\n",
    "list_of_columns_to_remove = ['Lg', 'G', 'MP', 'PTS', 'TRB', 'AST', 'STL','BLK', 'FG%', '3P%', 'FT%']\n",
    "\n",
    "for item in list_of_columns_to_remove:\n",
    "    finals_mvp = finals_mvp.drop(item,axis=1)\n",
    "\n",
    "# Check column names to make sure none desired to get rid of\n",
    "for column in finals_mvp.columns:\n",
    "    \n",
    "    print(f\"\"\"\n",
    "    {column}\"\"\")\n",
    "\n",
    "finals_mvp.head(1)"
   ]
  },
  {
   "cell_type": "markdown",
   "id": "fb952730",
   "metadata": {},
   "source": [
    "## TEAM REGULAR SEASON STATS\n",
    "\n",
    " <a class=\"anchor\" id=\"Step31\"></a>"
   ]
  },
  {
   "cell_type": "markdown",
   "id": "cc3ecd0e",
   "metadata": {},
   "source": [
    "### TEAM Regular Season Basic Stats"
   ]
  },
  {
   "cell_type": "code",
   "execution_count": null,
   "id": "da554897",
   "metadata": {},
   "outputs": [],
   "source": [
    "# Define unique name for dataframe to insert into f-string\n",
    "unique_table_name = \"Regular Season Basic Team Stats - \"\n",
    "\n",
    "# Define name replacement dict\n",
    "name_replacement_dict = {\"Rk\":f\"{unique_table_name}Rank\",\n",
    "\"Player\":f\"{unique_table_name}Player\",\n",
    "\"Pos\":f\"{unique_table_name}Position\",\n",
    "\"Age\":f\"{unique_table_name}Age\",\n",
    "\"Team\":f\"{unique_table_name}Team\",\n",
    "\"G\":f\"{unique_table_name}Games Played\",\n",
    "\"GS\":f\"{unique_table_name}Games Started\",\n",
    "\"MP\":f\"{unique_table_name}Minutes Played Per Game\",\n",
    "\"FG\":f\"{unique_table_name}Field Goals Made Per Game\",\n",
    "\"FGA\":f\"{unique_table_name}Field Goals Attempted Per Game\",\n",
    "\"FG%\":f\"{unique_table_name}Average Field Goal % For Season\",\n",
    "\"3P\":f\"{unique_table_name}3 Pointers Made Per Game\",\n",
    "\"3PA\":f\"{unique_table_name}3 Point Attempts Per Game\",\n",
    "\"3P%\":f\"{unique_table_name}Average 3 Point % For Season\",\n",
    "\"2P\":f\"{unique_table_name}2 Pointers Made Per Game\",\n",
    "\"2PA\":f\"{unique_table_name}2 Point Attempts Per Game\",\n",
    "\"2P%\":f\"{unique_table_name}Average 2 Point % For Season\",\n",
    "\"eFG%\":f\"{unique_table_name}Average Effective Field Goal % For Season\",\n",
    "\"FT\":f\"{unique_table_name}Free Throws Made Per Game\",\n",
    "\"FTA\":f\"{unique_table_name}Free Throw Attempts Per Game\",\n",
    "\"FT%\":f\"{unique_table_name}Average Free Throw % For Season\",\n",
    "\"ORB\":f\"{unique_table_name}Offense Rebounds Per Game\",\n",
    "\"DRB\":f\"{unique_table_name}Defense Rebounds Per Game\",\n",
    "\"TRB\":f\"{unique_table_name}Total Rebounds Per Game\",\n",
    "\"AST\":f\"{unique_table_name}Assists Per Game\",\n",
    "\"STL\":f\"{unique_table_name}Steals Per Game\",\n",
    "\"BLK\":f\"{unique_table_name}Blocks Per Game\",\n",
    "\"TOV\":f\"{unique_table_name}Turnovers Per Game\",\n",
    "\"PF\":f\"{unique_table_name}Personal Fouls Per Game\",\n",
    "\"PTS\":f\"{unique_table_name}Points Per Game\",\n",
    "\"Player Unique ID\":f\"{unique_table_name}Player Unique ID\",\n",
    "\"Year\":f\"{unique_table_name}Year\",\n",
    "\"Team Name Refined - accounts for players being traded\":f\"{unique_table_name}Team Name Refined - accounts for players being traded\",\n",
    "\"Standardized/Modernized Team Name\":f\"{unique_table_name}Standardized/Modernized Team Name\"}\n",
    "# Replace names in dataframe\n",
    "nba_team_basic_stat_in_regular_season_df.rename(name_replacement_dict,axis=1,inplace=True)\n",
    "\n",
    "# Check column names to make sure none desired to get rid of\n",
    "for column in nba_team_basic_stat_in_regular_season_df.columns:\n",
    "    \n",
    "    print(f\"\"\"\n",
    "    {column}\"\"\")\n",
    "\n",
    "nba_team_basic_stat_in_regular_season_df.head(1)\n"
   ]
  },
  {
   "cell_type": "markdown",
   "id": "50778384",
   "metadata": {},
   "source": [
    "### TEAM Regular Season Basic Opponent Stats"
   ]
  },
  {
   "cell_type": "code",
   "execution_count": null,
   "id": "dff44434",
   "metadata": {},
   "outputs": [],
   "source": [
    "# Define unique name for dataframe to insert into f-string\n",
    "unique_table_name = \"Regular Season Basic Team Opponent Stats - \"\n",
    "\n",
    "# Define name replacement dict\n",
    "name_replacement_dict = {\"Rk\":f\"{unique_table_name}Rank\",\n",
    "\"Player\":f\"{unique_table_name}Player\",\n",
    "\"Pos\":f\"{unique_table_name}Position\",\n",
    "\"Age\":f\"{unique_table_name}Age\",\n",
    "\"Team\":f\"{unique_table_name}Team\",\n",
    "\"G\":f\"{unique_table_name}Games Played\",\n",
    "\"GS\":f\"{unique_table_name}Games Started\",\n",
    "\"MP\":f\"{unique_table_name}Minutes Played Per Game\",\n",
    "\"FG\":f\"{unique_table_name}Field Goals Made Per Game\",\n",
    "\"FGA\":f\"{unique_table_name}Field Goals Attempted Per Game\",\n",
    "\"FG%\":f\"{unique_table_name}Average Field Goal % For Season\",\n",
    "\"3P\":f\"{unique_table_name}3 Pointers Made Per Game\",\n",
    "\"3PA\":f\"{unique_table_name}3 Point Attempts Per Game\",\n",
    "\"3P%\":f\"{unique_table_name}Average 3 Point % For Season\",\n",
    "\"2P\":f\"{unique_table_name}2 Pointers Made Per Game\",\n",
    "\"2PA\":f\"{unique_table_name}2 Point Attempts Per Game\",\n",
    "\"2P%\":f\"{unique_table_name}Average 2 Point % For Season\",\n",
    "\"eFG%\":f\"{unique_table_name}Average Effective Field Goal % For Season\",\n",
    "\"FT\":f\"{unique_table_name}Free Throws Made Per Game\",\n",
    "\"FTA\":f\"{unique_table_name}Free Throw Attempts Per Game\",\n",
    "\"FT%\":f\"{unique_table_name}Average Free Throw % For Season\",\n",
    "\"ORB\":f\"{unique_table_name}Offense Rebounds Per Game\",\n",
    "\"DRB\":f\"{unique_table_name}Defense Rebounds Per Game\",\n",
    "\"TRB\":f\"{unique_table_name}Total Rebounds Per Game\",\n",
    "\"AST\":f\"{unique_table_name}Assists Per Game\",\n",
    "\"STL\":f\"{unique_table_name}Steals Per Game\",\n",
    "\"BLK\":f\"{unique_table_name}Blocks Per Game\",\n",
    "\"TOV\":f\"{unique_table_name}Turnovers Per Game\",\n",
    "\"PF\":f\"{unique_table_name}Personal Fouls Per Game\",\n",
    "\"PTS\":f\"{unique_table_name}Points Per Game\",\n",
    "\"Player Unique ID\":f\"{unique_table_name}Player Unique ID\",\n",
    "\"Year\":f\"{unique_table_name}Year\",\n",
    "\"Team Name Refined - accounts for players being traded\":f\"{unique_table_name}Team Name Refined - accounts for players being traded\",\n",
    "\"Standardized/Modernized Team Name\":f\"{unique_table_name}Standardized/Modernized Team Name\"}\n",
    "# Replace names in dataframe\n",
    "nba_team_basic_opponent_stat_in_regular_season_df.rename(name_replacement_dict,axis=1,inplace=True)\n",
    "\n",
    "# Check column names to make sure none desired to get rid of\n",
    "for column in nba_team_basic_opponent_stat_in_regular_season_df.columns:\n",
    "    \n",
    "    print(f\"\"\"\n",
    "    {column}\"\"\")\n",
    "\n",
    "nba_team_basic_opponent_stat_in_regular_season_df.head(1)"
   ]
  },
  {
   "cell_type": "markdown",
   "id": "8d87e91d",
   "metadata": {},
   "source": [
    "### TEAM Regular Season Advanced Stats"
   ]
  },
  {
   "cell_type": "code",
   "execution_count": null,
   "id": "82d2cda3",
   "metadata": {},
   "outputs": [],
   "source": [
    "# Define unique name for dataframe to insert into f-string\n",
    "unique_table_name = \"Regular Season Team Advanced Stats - \"\n",
    "\n",
    "# Define name replacement dict\n",
    "name_replacement_dict = {\"Rk\":f\"{unique_table_name}Rank\",\n",
    "\"Age\":f\"{unique_table_name}Average Player Age\",\n",
    "\"Team\":f\"{unique_table_name}Team\",\n",
    "\n",
    "\"W\":f\"{unique_table_name}Wins\",\n",
    "\"L\":f\"{unique_table_name}Losses\",\n",
    "\"PW\":f\"{unique_table_name}Pythagorean Wins (expected wins based on points scored and allowed)\",\n",
    "\"PL\":f\"{unique_table_name}Pythagorean Losses (expected wins based on points scored and allowed)\",\n",
    "\"MOV\":f\"{unique_table_name}Margin of Victory\",\n",
    "\"SOS\":f\"{unique_table_name}Strength of schedule rating (positive is above average)\",\n",
    "\"SRS\":f\"{unique_table_name}Simple rating system: derived using average point differential and strength of scheduled\",\n",
    "\"ORtg\":f\"{unique_table_name}Offensive Rating\",\n",
    "\"DRtg\":f\"{unique_table_name}Defensive Rating\",\n",
    "\"NRtg\":f\"{unique_table_name}Net Rating\",\n",
    "\"Pace\":f\"{unique_table_name}Pace (Possessions per 48 Minutes)\",\n",
    "\"FTr\":f\"{unique_table_name}Free Throw Attempts Per FG Attempt\",\n",
    "\"3PAr\":f\"{unique_table_name}3 Point Attempts Per FG Attempt\",\n",
    "\"TS%\":f\"{unique_table_name}True Shooting %\",\n",
    "\"eFG%\":f\"{unique_table_name}Average Effective Field Goal % For Season\",\n",
    "\"TOV%\":f\"{unique_table_name}Turnover %\",\n",
    "\"ORB%\":f\"{unique_table_name}Offensive Rebounding %\",  \n",
    "                         \n",
    "\"FT/FGA\":f\"{unique_table_name}Free Throws Made Per FG Attempt\",\n",
    "\"eFG%.1\":f\"{unique_table_name}Opponent Effective Field Goal %\",\n",
    "\"TOV%.1\":f\"{unique_table_name}Opponent Turnover %\",\n",
    "\"DRB%\":f\"{unique_table_name}Defensive Rebounding %\",\n",
    "\"FT/FGA.1\":f\"{unique_table_name}Opponent Field Goal Throws Per FG Attempt\",\n",
    "\"Arena\":f\"{unique_table_name}Arena\",\n",
    "\"Attend.\":f\"{unique_table_name}Total Arena Attendance\",\n",
    "\"Attend./G\":f\"{unique_table_name}Attendance Per Game\",\n",
    "\n",
    "\"Player Unique ID\":f\"{unique_table_name}Player Unique ID\",\n",
    "\"Year\":f\"{unique_table_name}Year\",\n",
    "\"Team Name Refined - accounts for players being traded\":f\"{unique_table_name}Team Name Refined - accounts for players being traded\",\n",
    "\"Standardized/Modernized Team Name\":f\"{unique_table_name}Standardized/Modernized Team Name\"}\n",
    "\n",
    "# Replace names in dataframe\n",
    "nba_advanced_team_stats.rename(name_replacement_dict,axis=1,inplace=True)\n",
    "\n",
    "# # Get rid of dataframes as desired\n",
    "list_of_columns_to_remove = ['Unnamed: 17','Unnamed: 22','Unnamed: 27']\n",
    "\n",
    "for item in list_of_columns_to_remove:\n",
    "    nba_advanced_team_stats = nba_advanced_team_stats.drop(item,axis=1)\n",
    "\n",
    "\n",
    "# Check column names to make sure none desired to get rid of\n",
    "for column in nba_advanced_team_stats.columns:\n",
    "    \n",
    "    print(f\"\"\"\n",
    "    {column}\"\"\")\n",
    "\n",
    "nba_advanced_team_stats.head(1)"
   ]
  },
  {
   "cell_type": "markdown",
   "id": "f4568011",
   "metadata": {},
   "source": [
    "### TEAM Regular Season Shooting Stats"
   ]
  },
  {
   "cell_type": "code",
   "execution_count": null,
   "id": "ffbf4806",
   "metadata": {},
   "outputs": [],
   "source": [
    "# Define unique name for dataframe to insert into f-string\n",
    "unique_table_name = \"Regular Season Team Shooting Stats - \"\n",
    "\n",
    "# Define name replacement dict\n",
    "name_replacement_dict = {\"Rk\":f\"{unique_table_name}Rank\",\n",
    "\"Player\":f\"{unique_table_name}Player\",\n",
    "\"Pos\":f\"{unique_table_name}Position\",\n",
    "\"Age\":f\"{unique_table_name}Age\",\n",
    "\"Team\":f\"{unique_table_name}Team\",\n",
    "\"G\":f\"{unique_table_name}Games Played\",\n",
    "'MP':f'{unique_table_name}Total Minutes Played During Season',\n",
    "'FG%':f'{unique_table_name}Field Goal %',\n",
    "'Dist.':f'{unique_table_name}Average distance of shot',                         \n",
    "'2P':f'{unique_table_name}2 Pointer Attempt Rate For Season as % of total field goals attempted',\n",
    "'0-3':f'{unique_table_name}% of FGA between 0-3 ft.',\n",
    "'3-10':f'{unique_table_name}% of FGA between 3-10 ft.',                         \n",
    "'10-16':f'{unique_table_name}% of FGA between 10-16 ft.',\n",
    "'16-3P':f'{unique_table_name}% of FGA between 16-3P ft.',\n",
    "'3P':f'{unique_table_name}3 Pointer Attempt Rate For Season as % of total field goals attempted',\n",
    "'2P.1':f'{unique_table_name}FG % of 2 Point Attempts',\n",
    "'0-3.1':f'{unique_table_name}FG % of Attempts between 0-3 ft.',\n",
    "'3-10.1':f'{unique_table_name}FG % of Attempts between 3-10 ft.',                         \n",
    "'10-16.1':f'{unique_table_name}FG % of Attempts between 10-16 ft.',\n",
    "'16-3P.1':f'{unique_table_name}FG % of Attempts between 16-3P ft.',\n",
    "'3P.1':f'{unique_table_name}FG % of 3 Point Attempts',                       \n",
    "'2P.2':f'{unique_table_name}% of Made 2 Point Fields Goals That Were Assisted',                         \n",
    "'3P.2':f'{unique_table_name}% of Made 3 Point Fields Goals That Were Assisted',\n",
    "'%FGA':f'{unique_table_name}% of Field Goal attempts that are dunk attempts',\n",
    "'Md.':f'{unique_table_name}Number of made dunk attempts',\n",
    " \n",
    "'%FGA.1':f'{unique_table_name}% of Field Goal attempts that are layups',   \n",
    "'Md..1':f'{unique_table_name}# of made layups',                         \n",
    "                         \n",
    "'%3PA':f'{unique_table_name}% of 3 Point Attempts that come from the corner',\n",
    "'3P%':f'{unique_table_name}% of 3 Point corner attempts that are made',\n",
    "'Att.':f'{unique_table_name}Heave Attempts',\n",
    "'Md..2':f'{unique_table_name}Number of made heaves',                     \n",
    "\"Player Unique ID\":f\"{unique_table_name}Player Unique ID\",\n",
    "\"Year\":f\"{unique_table_name}Year\",\n",
    "\"Team Name Refined - accounts for players being traded\":f\"{unique_table_name}Team Name Refined - accounts for players being traded\",\n",
    "\"Standardized/Modernized Team Name\":f\"{unique_table_name}Standardized/Modernized Team Name\"}\n",
    "\n",
    "# Replace names in dataframe\n",
    "nba_team_shooting_stat_in_regular_season_df.rename(name_replacement_dict,axis=1,inplace=True)\n",
    "\n",
    "# Get rid of dataframes as desired\n",
    "list_of_columns_to_remove = ['Unnamed: 6','Unnamed: 13','Unnamed: 20','Unnamed: 23','Unnamed: 26','Unnamed: 29','Unnamed: 32']\n",
    "\n",
    "for item in list_of_columns_to_remove:\n",
    "    nba_team_shooting_stat_in_regular_season_df = nba_team_shooting_stat_in_regular_season_df.drop(item,axis=1)\n",
    "\n",
    "# Check column names to make sure none desired to get rid of\n",
    "for column in nba_team_shooting_stat_in_regular_season_df.columns:\n",
    "    \n",
    "    print(f\"\"\"\n",
    "    {column}\"\"\")\n",
    "\n",
    "nba_team_shooting_stat_in_regular_season_df.head(1)"
   ]
  },
  {
   "cell_type": "markdown",
   "id": "bad6bf42",
   "metadata": {},
   "source": [
    "### TEAM Opponent Regular Season Shooting Stats"
   ]
  },
  {
   "cell_type": "code",
   "execution_count": null,
   "id": "f85e87db",
   "metadata": {
    "scrolled": true
   },
   "outputs": [],
   "source": [
    "# Define unique name for dataframe to insert into f-string\n",
    "unique_table_name = \"Regular Season Team Opponent Shooting Stats - \"\n",
    "\n",
    "# Define name replacement dict\n",
    "name_replacement_dict = {\"Rk\":f\"{unique_table_name}Rank\",\n",
    "\"Player\":f\"{unique_table_name}Player\",\n",
    "\"Pos\":f\"{unique_table_name}Position\",\n",
    "\"Age\":f\"{unique_table_name}Age\",\n",
    "\"Team\":f\"{unique_table_name}Team\",\n",
    "\"G\":f\"{unique_table_name}Games Played\",\n",
    "'MP':f'{unique_table_name}Total Minutes Played During Season',\n",
    "'FG%':f'{unique_table_name}Field Goal %',\n",
    "'Dist.':f'{unique_table_name}Average distance of shot',                         \n",
    "'2P':f'{unique_table_name}2 Pointer Attempt Rate For Season as % of total field goals attempted',\n",
    "'0-3':f'{unique_table_name}% of FGA between 0-3 ft.',\n",
    "'3-10':f'{unique_table_name}% of FGA between 3-10 ft.',                         \n",
    "'10-16':f'{unique_table_name}% of FGA between 10-16 ft.',\n",
    "'16-3P':f'{unique_table_name}% of FGA between 16-3P ft.',\n",
    "'3P':f'{unique_table_name}3 Pointer Attempt Rate For Season as % of total field goals attempted',\n",
    "'2P.1':f'{unique_table_name}FG % of 2 Point Attempts',\n",
    "'0-3.1':f'{unique_table_name}FG % of Attempts between 0-3 ft.',\n",
    "'3-10.1':f'{unique_table_name}FG % of Attempts between 3-10 ft.',                         \n",
    "'10-16.1':f'{unique_table_name}FG % of Attempts between 10-16 ft.',\n",
    "'16-3P.1':f'{unique_table_name}FG % of Attempts between 16-3P ft.',\n",
    "'3P.1':f'{unique_table_name}FG % of 3 Point Attempts',                       \n",
    "'2P.2':f'{unique_table_name}% of Made 2 Point Fields Goals That Were Assisted',                         \n",
    "'3P.2':f'{unique_table_name}% of Made 3 Point Fields Goals That Were Assisted',\n",
    "'%FGA':f'{unique_table_name}% of Field Goal attempts that are dunk attempts',\n",
    "'Md.':f'{unique_table_name}Number of made dunk attempts',\n",
    " \n",
    "'%FGA.1':f'{unique_table_name}% of Field Goal attempts that are layups',   \n",
    "'Md..1':f'{unique_table_name}# of made layups',                         \n",
    "                         \n",
    "'%3PA':f'{unique_table_name}% of 3 Point Attempts that come from the corner',\n",
    "'3P%':f'{unique_table_name}% of 3 Point corner attempts that are made',\n",
    "'Att.':f'{unique_table_name}Heave Attempts',\n",
    "'Md..2':f'{unique_table_name}Number of made heaves',                     \n",
    "\"Player Unique ID\":f\"{unique_table_name}Player Unique ID\",\n",
    "\"Year\":f\"{unique_table_name}Year\",\n",
    "\"Team Name Refined - accounts for players being traded\":f\"{unique_table_name}Team Name Refined - accounts for players being traded\",\n",
    "\"Standardized/Modernized Team Name\":f\"{unique_table_name}Standardized/Modernized Team Name\"}\n",
    "\n",
    "# Replace names in dataframe\n",
    "nba_team_opponent_shooting_stat_in_regular_season_df.rename(name_replacement_dict,axis=1,inplace=True)\n",
    "\n",
    "# Get rid of dataframes as desired\n",
    "list_of_columns_to_remove = ['Unnamed: 6','Unnamed: 13','Unnamed: 20','Unnamed: 23','Unnamed: 26','Unnamed: 29']\n",
    "\n",
    "for item in list_of_columns_to_remove:\n",
    "    nba_team_opponent_shooting_stat_in_regular_season_df = nba_team_opponent_shooting_stat_in_regular_season_df.drop(item,axis=1)\n",
    "\n",
    "# Check column names to make sure none desired to get rid of\n",
    "for column in nba_team_opponent_shooting_stat_in_regular_season_df.columns:\n",
    "    \n",
    "    print(f\"\"\"\n",
    "    {column}\"\"\")\n",
    "\n",
    "nba_team_opponent_shooting_stat_in_regular_season_df.head(1)"
   ]
  },
  {
   "cell_type": "markdown",
   "id": "edb9522b",
   "metadata": {},
   "source": [
    "### TEAM Regular Season Standings"
   ]
  },
  {
   "cell_type": "code",
   "execution_count": null,
   "id": "7581e8c4",
   "metadata": {},
   "outputs": [],
   "source": [
    "# Define unique name for dataframe to insert into f-string\n",
    "unique_table_name = \"Regular Season Team Standings - \"\n",
    "\n",
    "# Define name replacement dict\n",
    "name_replacement_dict = {\"Rk\":f\"{unique_table_name}Rank\",\n",
    "\"Team\":f\"{unique_table_name}Team\",\n",
    "\"Overall\":f\"{unique_table_name}Overall Team Record\",\n",
    "\"Home\":f\"{unique_table_name}Team Record at Home\",\n",
    "\"Road\":f\"{unique_table_name}Team Record on Road\",  \n",
    "\"Pre\":f\"{unique_table_name}Team Record Pre All Star Break\",\n",
    "\"Post\":f\"{unique_table_name}Team Record Post All Star Break\",\n",
    "\"≤3\":f\"{unique_table_name}Team Record in Games Decided by 3 points or under\",\n",
    "\"≥10\":f\"{unique_table_name}Team Record in Games Decided by 10 points or over\",                                                \n",
    "\"Year\":f\"{unique_table_name}Year\",\n",
    "\"Team Name Refined - accounts for players being traded\":f\"{unique_table_name}Team Name Refined - accounts for players being traded\",\n",
    "\"Standardized/Modernized Team Name\":f\"{unique_table_name}Standardized/Modernized Team Name\"}\n",
    "\n",
    "# Replace names in dataframe\n",
    "regular_season_standing_df.rename(name_replacement_dict,axis=1,inplace=True)\n",
    "\n",
    "# # Get rid of dataframes as desired\n",
    "# list_of_columns_to_remove = ['Unnamed: 6','Unnamed: 13','Unnamed: 20','Unnamed: 23','Unnamed: 26','Unnamed: 29']\n",
    "\n",
    "# for item in list_of_columns_to_remove:\n",
    "#     nba_team_opponent_shooting_stat_in_regular_season_df = nba_team_opponent_shooting_stat_in_regular_season_df.drop(item,axis=1)\n",
    "\n",
    "# Check column names to make sure none desired to get rid of\n",
    "for column in regular_season_standing_df.columns:\n",
    "    \n",
    "    print(f\"\"\"\n",
    "    {column}\"\"\")\n",
    "\n",
    "regular_season_standing_df.head(1)"
   ]
  },
  {
   "cell_type": "markdown",
   "id": "eb0dadfe",
   "metadata": {},
   "source": [
    "## TEAM PLAYOFFS STATS"
   ]
  },
  {
   "cell_type": "markdown",
   "id": "df1dbfdc",
   "metadata": {},
   "source": [
    "### TEAM Playoffs Basic Stats"
   ]
  },
  {
   "cell_type": "code",
   "execution_count": null,
   "id": "dc9e2f90",
   "metadata": {},
   "outputs": [],
   "source": [
    "# Define unique name for dataframe to insert into f-string\n",
    "unique_table_name = \"Playoffs Basic Team Stats - \"\n",
    "\n",
    "# Define name replacement dict\n",
    "name_replacement_dict = {\"Rk\":f\"{unique_table_name}Rank\",\n",
    "\"Player\":f\"{unique_table_name}Player\",\n",
    "\"Pos\":f\"{unique_table_name}Position\",\n",
    "\"Age\":f\"{unique_table_name}Age\",\n",
    "\"Team\":f\"{unique_table_name}Team\",\n",
    "\"G\":f\"{unique_table_name}Games Played\",\n",
    "\"GS\":f\"{unique_table_name}Games Started\",\n",
    "\"MP\":f\"{unique_table_name}Minutes Played Per Game\",\n",
    "\"FG\":f\"{unique_table_name}Field Goals Made Per Game\",\n",
    "\"FGA\":f\"{unique_table_name}Field Goals Attempted Per Game\",\n",
    "\"FG%\":f\"{unique_table_name}Average Field Goal % For Season\",\n",
    "\"3P\":f\"{unique_table_name}3 Pointers Made Per Game\",\n",
    "\"3PA\":f\"{unique_table_name}3 Point Attempts Per Game\",\n",
    "\"3P%\":f\"{unique_table_name}Average 3 Point % For Season\",\n",
    "\"2P\":f\"{unique_table_name}2 Pointers Made Per Game\",\n",
    "\"2PA\":f\"{unique_table_name}2 Point Attempts Per Game\",\n",
    "\"2P%\":f\"{unique_table_name}Average 2 Point % For Season\",\n",
    "\"eFG%\":f\"{unique_table_name}Average Effective Field Goal % For Season\",\n",
    "\"FT\":f\"{unique_table_name}Free Throws Made Per Game\",\n",
    "\"FTA\":f\"{unique_table_name}Free Throw Attempts Per Game\",\n",
    "\"FT%\":f\"{unique_table_name}Average Free Throw % For Season\",\n",
    "\"ORB\":f\"{unique_table_name}Offense Rebounds Per Game\",\n",
    "\"DRB\":f\"{unique_table_name}Defense Rebounds Per Game\",\n",
    "\"TRB\":f\"{unique_table_name}Total Rebounds Per Game\",\n",
    "\"AST\":f\"{unique_table_name}Assists Per Game\",\n",
    "\"STL\":f\"{unique_table_name}Steals Per Game\",\n",
    "\"BLK\":f\"{unique_table_name}Blocks Per Game\",\n",
    "\"TOV\":f\"{unique_table_name}Turnovers Per Game\",\n",
    "\"PF\":f\"{unique_table_name}Personal Fouls Per Game\",\n",
    "\"PTS\":f\"{unique_table_name}Points Per Game\",\n",
    "\"Player Unique ID\":f\"{unique_table_name}Player Unique ID\",\n",
    "\"Year\":f\"{unique_table_name}Year\",\n",
    "\"Team Name Refined - accounts for players being traded\":f\"{unique_table_name}Team Name Refined - accounts for players being traded\",\n",
    "\"Standardized/Modernized Team Name\":f\"{unique_table_name}Standardized/Modernized Team Name\"}\n",
    "# Replace names in dataframe\n",
    "nba_team_basic_stat_in_playoffs_df.rename(name_replacement_dict,axis=1,inplace=True)\n",
    "\n",
    "# Check column names to make sure none desired to get rid of\n",
    "for column in nba_team_basic_stat_in_playoffs_df.columns:\n",
    "    \n",
    "    print(f\"\"\"\n",
    "    {column}\"\"\")\n",
    "\n",
    "nba_team_basic_stat_in_playoffs_df.head(1)\n"
   ]
  },
  {
   "cell_type": "markdown",
   "id": "632a687a",
   "metadata": {},
   "source": [
    "### TEAM Playoffs Basic Opponent Stats"
   ]
  },
  {
   "cell_type": "code",
   "execution_count": null,
   "id": "be80f66e",
   "metadata": {},
   "outputs": [],
   "source": [
    "# Define unique name for dataframe to insert into f-string\n",
    "unique_table_name = \"Playoffs Basic Team Opponent Stats - \"\n",
    "\n",
    "# Define name replacement dict\n",
    "name_replacement_dict = {\"Rk\":f\"{unique_table_name}Rank\",\n",
    "\"Player\":f\"{unique_table_name}Player\",\n",
    "\"Pos\":f\"{unique_table_name}Position\",\n",
    "\"Age\":f\"{unique_table_name}Age\",\n",
    "\"Team\":f\"{unique_table_name}Team\",\n",
    "\"G\":f\"{unique_table_name}Games Played\",\n",
    "\"GS\":f\"{unique_table_name}Games Started\",\n",
    "\"MP\":f\"{unique_table_name}Minutes Played Per Game\",\n",
    "\"FG\":f\"{unique_table_name}Field Goals Made Per Game\",\n",
    "\"FGA\":f\"{unique_table_name}Field Goals Attempted Per Game\",\n",
    "\"FG%\":f\"{unique_table_name}Average Field Goal % For Season\",\n",
    "\"3P\":f\"{unique_table_name}3 Pointers Made Per Game\",\n",
    "\"3PA\":f\"{unique_table_name}3 Point Attempts Per Game\",\n",
    "\"3P%\":f\"{unique_table_name}Average 3 Point % For Season\",\n",
    "\"2P\":f\"{unique_table_name}2 Pointers Made Per Game\",\n",
    "\"2PA\":f\"{unique_table_name}2 Point Attempts Per Game\",\n",
    "\"2P%\":f\"{unique_table_name}Average 2 Point % For Season\",\n",
    "\"eFG%\":f\"{unique_table_name}Average Effective Field Goal % For Season\",\n",
    "\"FT\":f\"{unique_table_name}Free Throws Made Per Game\",\n",
    "\"FTA\":f\"{unique_table_name}Free Throw Attempts Per Game\",\n",
    "\"FT%\":f\"{unique_table_name}Average Free Throw % For Season\",\n",
    "\"ORB\":f\"{unique_table_name}Offense Rebounds Per Game\",\n",
    "\"DRB\":f\"{unique_table_name}Defense Rebounds Per Game\",\n",
    "\"TRB\":f\"{unique_table_name}Total Rebounds Per Game\",\n",
    "\"AST\":f\"{unique_table_name}Assists Per Game\",\n",
    "\"STL\":f\"{unique_table_name}Steals Per Game\",\n",
    "\"BLK\":f\"{unique_table_name}Blocks Per Game\",\n",
    "\"TOV\":f\"{unique_table_name}Turnovers Per Game\",\n",
    "\"PF\":f\"{unique_table_name}Personal Fouls Per Game\",\n",
    "\"PTS\":f\"{unique_table_name}Points Per Game\",\n",
    "\"Player Unique ID\":f\"{unique_table_name}Player Unique ID\",\n",
    "\"Year\":f\"{unique_table_name}Year\",\n",
    "\"Team Name Refined - accounts for players being traded\":f\"{unique_table_name}Team Name Refined - accounts for players being traded\",\n",
    "\"Standardized/Modernized Team Name\":f\"{unique_table_name}Standardized/Modernized Team Name\"}\n",
    "# Replace names in dataframe\n",
    "nba_team_basic_opponent_stat_in_playoffs_df.rename(name_replacement_dict,axis=1,inplace=True)\n",
    "\n",
    "# Check column names to make sure none desired to get rid of\n",
    "for column in nba_team_basic_opponent_stat_in_playoffs_df.columns:\n",
    "    \n",
    "    print(f\"\"\"\n",
    "    {column}\"\"\")\n",
    "\n",
    "nba_team_basic_opponent_stat_in_playoffs_df.head(1)"
   ]
  },
  {
   "cell_type": "markdown",
   "id": "2bcb333c",
   "metadata": {},
   "source": [
    "### TEAM Playoffs Advanced Stats"
   ]
  },
  {
   "cell_type": "code",
   "execution_count": null,
   "id": "967bdfc2",
   "metadata": {},
   "outputs": [],
   "source": [
    "# Define unique name for dataframe to insert into f-string\n",
    "unique_table_name = \"Playoffs Team Advanced Stats - \"\n",
    "\n",
    "# Define name replacement dict\n",
    "name_replacement_dict = {\"Rk\":f\"{unique_table_name}Rank\",\n",
    "\"Age\":f\"{unique_table_name}Average Player Age\",\n",
    "\"Team\":f\"{unique_table_name}Team\",\n",
    "\n",
    "\"W\":f\"{unique_table_name}Wins\",\n",
    "\"L\":f\"{unique_table_name}Losses\",\n",
    "\"W/L%\":f\"{unique_table_name}Win Loss Percentage\",                         \n",
    "\"PW\":f\"{unique_table_name}Pythagorean Wins (expected wins based on points scored and allowed)\",\n",
    "\"PL\":f\"{unique_table_name}Pythagorean Losses (expected wins based on points scored and allowed)\",\n",
    "\"MOV\":f\"{unique_table_name}Margin of Victory\",\n",
    "\"SOS\":f\"{unique_table_name}Strength of schedule rating (positive is above average)\",\n",
    "\"SRS\":f\"{unique_table_name}Simple rating system: derived using average point differential and strength of scheduled\",\n",
    "\"ORtg\":f\"{unique_table_name}Offensive Rating\",\n",
    "\"DRtg\":f\"{unique_table_name}Defensive Rating\",\n",
    "\"NRtg\":f\"{unique_table_name}Net Rating\",\n",
    "\"Pace\":f\"{unique_table_name}Pace (Possessions per 48 Minutes)\",\n",
    "\"FTr\":f\"{unique_table_name}Free Throw Attempts Per FG Attempt\",\n",
    "\"3PAr\":f\"{unique_table_name}3 Point Attempts Per FG Attempt\",\n",
    "\"TS%\":f\"{unique_table_name}True Shooting %\",\n",
    "\"eFG%\":f\"{unique_table_name}Average Effective Field Goal % For Season\",\n",
    "\"TOV%\":f\"{unique_table_name}Turnover %\",\n",
    "\"ORB%\":f\"{unique_table_name}Offensive Rebounding %\",  \n",
    "                         \n",
    "\"FT/FGA\":f\"{unique_table_name}Free Throws Made Per FG Attempt\",\n",
    "\"eFG%.1\":f\"{unique_table_name}Opponent Effective Field Goal %\",\n",
    "\"TOV%.1\":f\"{unique_table_name}Opponent Turnover %\",\n",
    "\"DRB%\":f\"{unique_table_name}Defensive Rebounding %\",\n",
    "\"FT/FGA.1\":f\"{unique_table_name}Opponent Field Goal Throws Per FG Attempt\",\n",
    "\"Arena\":f\"{unique_table_name}Arena\",\n",
    "\"Attend.\":f\"{unique_table_name}Total Arena Attendance\",\n",
    "\"Attend./G\":f\"{unique_table_name}Attendance Per Game\",\n",
    "\n",
    "\"Player Unique ID\":f\"{unique_table_name}Player Unique ID\",\n",
    "\"Year\":f\"{unique_table_name}Year\",\n",
    "\"Team Name Refined - accounts for players being traded\":f\"{unique_table_name}Team Name Refined - accounts for players being traded\",\n",
    "\"Standardized/Modernized Team Name\":f\"{unique_table_name}Standardized/Modernized Team Name\"}\n",
    "\n",
    "# Replace names in dataframe\n",
    "nba_team_advanced_stat_in_playoffs_df.rename(name_replacement_dict,axis=1,inplace=True)\n",
    "\n",
    "# # Get rid of dataframes as desired\n",
    "list_of_columns_to_remove = ['Unnamed: 15','Unnamed: 20']\n",
    "\n",
    "for item in list_of_columns_to_remove:\n",
    "    nba_team_advanced_stat_in_playoffs_df = nba_team_advanced_stat_in_playoffs_df.drop(item,axis=1)\n",
    "\n",
    "\n",
    "# Check column names to make sure none desired to get rid of\n",
    "for column in nba_team_advanced_stat_in_playoffs_df.columns:\n",
    "    \n",
    "    print(f\"\"\"\n",
    "    {column}\"\"\")\n",
    "\n",
    "nba_team_advanced_stat_in_playoffs_df.head(1)"
   ]
  },
  {
   "cell_type": "markdown",
   "id": "68c75e84",
   "metadata": {},
   "source": [
    "### TEAM Playoffs Shooting Stats"
   ]
  },
  {
   "cell_type": "code",
   "execution_count": null,
   "id": "c40c8a46",
   "metadata": {},
   "outputs": [],
   "source": [
    "# Define unique name for dataframe to insert into f-string\n",
    "unique_table_name = \"Playoffs Team Shooting Stats - \"\n",
    "\n",
    "# Define name replacement dict\n",
    "name_replacement_dict = {\"Rk\":f\"{unique_table_name}Rank\",\n",
    "\"Player\":f\"{unique_table_name}Player\",\n",
    "\"Pos\":f\"{unique_table_name}Position\",\n",
    "\"Age\":f\"{unique_table_name}Age\",\n",
    "\"Team\":f\"{unique_table_name}Team\",\n",
    "\"G\":f\"{unique_table_name}Games Played\",\n",
    "'MP':f'{unique_table_name}Total Minutes Played During Season',\n",
    "'FG%':f'{unique_table_name}Field Goal %',\n",
    "'Dist.':f'{unique_table_name}Average distance of shot',                         \n",
    "'2P':f'{unique_table_name}2 Pointer Attempt Rate For Season as % of total field goals attempted',\n",
    "'0-3':f'{unique_table_name}% of FGA between 0-3 ft.',\n",
    "'3-10':f'{unique_table_name}% of FGA between 3-10 ft.',                         \n",
    "'10-16':f'{unique_table_name}% of FGA between 10-16 ft.',\n",
    "'16-3P':f'{unique_table_name}% of FGA between 16-3P ft.',\n",
    "'3P':f'{unique_table_name}3 Pointer Attempt Rate For Season as % of total field goals attempted',\n",
    "'2P.1':f'{unique_table_name}FG % of 2 Point Attempts',\n",
    "'0-3.1':f'{unique_table_name}FG % of Attempts between 0-3 ft.',\n",
    "'3-10.1':f'{unique_table_name}FG % of Attempts between 3-10 ft.',                         \n",
    "'10-16.1':f'{unique_table_name}FG % of Attempts between 10-16 ft.',\n",
    "'16-3P.1':f'{unique_table_name}FG % of Attempts between 16-3P ft.',\n",
    "'3P.1':f'{unique_table_name}FG % of 3 Point Attempts',                       \n",
    "'2P.2':f'{unique_table_name}% of Made 2 Point Fields Goals That Were Assisted',                         \n",
    "'3P.2':f'{unique_table_name}% of Made 3 Point Fields Goals That Were Assisted',\n",
    "'%FGA':f'{unique_table_name}% of Field Goal attempts that are dunk attempts',\n",
    "'Md.':f'{unique_table_name}Number of made dunk attempts',\n",
    " \n",
    "'%FGA.1':f'{unique_table_name}% of Field Goal attempts that are layups',   \n",
    "'Md..1':f'{unique_table_name}# of made layups',                         \n",
    "                         \n",
    "'%3PA':f'{unique_table_name}% of 3 Point Attempts that come from the corner',\n",
    "'3P%':f'{unique_table_name}% of 3 Point corner attempts that are made',\n",
    "'Att.':f'{unique_table_name}Heave Attempts',\n",
    "'#':f'{unique_table_name}Number of made heaves',                     \n",
    "\"Player Unique ID\":f\"{unique_table_name}Player Unique ID\",\n",
    "\"Year\":f\"{unique_table_name}Year\",\n",
    "\"Team Name Refined - accounts for players being traded\":f\"{unique_table_name}Team Name Refined - accounts for players being traded\",\n",
    "\"Standardized/Modernized Team Name\":f\"{unique_table_name}Standardized/Modernized Team Name\"}\n",
    "\n",
    "# Replace names in dataframe\n",
    "nba_team_shooting_in_playoffs_df.rename(name_replacement_dict,axis=1,inplace=True)\n",
    "\n",
    "# # Get rid of dataframes as desired\n",
    "list_of_columns_to_remove = ['Unnamed: 6','Unnamed: 13','Unnamed: 20','Unnamed: 23','Unnamed: 26','Unnamed: 29']\n",
    "\n",
    "for item in list_of_columns_to_remove:\n",
    "    nba_team_shooting_in_playoffs_df = nba_team_shooting_in_playoffs_df.drop(item,axis=1)\n",
    "\n",
    "# Check column names to make sure none desired to get rid of\n",
    "for column in nba_team_shooting_in_playoffs_df.columns:\n",
    "    \n",
    "    print(f\"\"\"\n",
    "    {column}\"\"\")\n",
    "\n",
    "nba_team_shooting_in_playoffs_df.head(1)"
   ]
  },
  {
   "cell_type": "markdown",
   "id": "520e9f5a",
   "metadata": {},
   "source": [
    "### TEAM Playoff Opponent Shooting Stats"
   ]
  },
  {
   "cell_type": "code",
   "execution_count": null,
   "id": "9214c840",
   "metadata": {
    "scrolled": true
   },
   "outputs": [],
   "source": [
    "# Define unique name for dataframe to insert into f-string\n",
    "unique_table_name = \"Playoffs Team Opponent Shooting Stats - \"\n",
    "\n",
    "# Define name replacement dict\n",
    "name_replacement_dict = {\"Rk\":f\"{unique_table_name}Rank\",\n",
    "\"Player\":f\"{unique_table_name}Player\",\n",
    "\"Pos\":f\"{unique_table_name}Position\",\n",
    "\"Age\":f\"{unique_table_name}Age\",\n",
    "\"Team\":f\"{unique_table_name}Team\",\n",
    "\"G\":f\"{unique_table_name}Games Played\",\n",
    "'MP':f'{unique_table_name}Total Minutes Played During Season',\n",
    "'FG%':f'{unique_table_name}Field Goal %',\n",
    "'Dist.':f'{unique_table_name}Average distance of shot',                         \n",
    "'2P':f'{unique_table_name}2 Pointer Attempt Rate For Season as % of total field goals attempted',\n",
    "'0-3':f'{unique_table_name}% of FGA between 0-3 ft.',\n",
    "'3-10':f'{unique_table_name}% of FGA between 3-10 ft.',                         \n",
    "'10-16':f'{unique_table_name}% of FGA between 10-16 ft.',\n",
    "'16-3P':f'{unique_table_name}% of FGA between 16-3P ft.',\n",
    "'3P':f'{unique_table_name}3 Pointer Attempt Rate For Season as % of total field goals attempted',\n",
    "'2P.1':f'{unique_table_name}FG % of 2 Point Attempts',\n",
    "'0-3.1':f'{unique_table_name}FG % of Attempts between 0-3 ft.',\n",
    "'3-10.1':f'{unique_table_name}FG % of Attempts between 3-10 ft.',                         \n",
    "'10-16.1':f'{unique_table_name}FG % of Attempts between 10-16 ft.',\n",
    "'16-3P.1':f'{unique_table_name}FG % of Attempts between 16-3P ft.',\n",
    "'3P.1':f'{unique_table_name}FG % of 3 Point Attempts',                       \n",
    "'2P.2':f'{unique_table_name}% of Made 2 Point Fields Goals That Were Assisted',                         \n",
    "'3P.2':f'{unique_table_name}% of Made 3 Point Fields Goals That Were Assisted',\n",
    "'%FGA':f'{unique_table_name}% of Field Goal attempts that are dunk attempts',\n",
    "'Md.':f'{unique_table_name}Number of made dunk attempts',\n",
    " \n",
    "'%FGA.1':f'{unique_table_name}% of Field Goal attempts that are layups',   \n",
    "'Md..1':f'{unique_table_name}# of made layups',                         \n",
    "                         \n",
    "'%3PA':f'{unique_table_name}% of 3 Point Attempts that come from the corner',\n",
    "'3P%':f'{unique_table_name}% of 3 Point corner attempts that are made',\n",
    "'Att.':f'{unique_table_name}Heave Attempts',\n",
    "'Md..2':f'{unique_table_name}Number of made heaves',                     \n",
    "\"Player Unique ID\":f\"{unique_table_name}Player Unique ID\",\n",
    "\"Year\":f\"{unique_table_name}Year\",\n",
    "\"Team Name Refined - accounts for players being traded\":f\"{unique_table_name}Team Name Refined - accounts for players being traded\",\n",
    "\"Standardized/Modernized Team Name\":f\"{unique_table_name}Standardized/Modernized Team Name\"}\n",
    "\n",
    "# Replace names in dataframe\n",
    "nba_team_opponent_shooting_stat_in_playoffs_df.rename(name_replacement_dict,axis=1,inplace=True)\n",
    "\n",
    "# Get rid of dataframes as desired\n",
    "list_of_columns_to_remove = ['Unnamed: 6','Unnamed: 13','Unnamed: 20','Unnamed: 23','Unnamed: 26']\n",
    "\n",
    "for item in list_of_columns_to_remove:\n",
    "    nba_team_opponent_shooting_stat_in_playoffs_df = nba_team_opponent_shooting_stat_in_playoffs_df.drop(item,axis=1)\n",
    "\n",
    "# Check column names to make sure none desired to get rid of\n",
    "for column in nba_team_opponent_shooting_stat_in_playoffs_df.columns:\n",
    "    \n",
    "    print(f\"\"\"\n",
    "    {column}\"\"\")\n",
    "\n",
    "nba_team_opponent_shooting_stat_in_playoffs_df.head(1)"
   ]
  },
  {
   "cell_type": "markdown",
   "id": "4e852072",
   "metadata": {},
   "source": [
    "### Team Playoff Standings"
   ]
  },
  {
   "cell_type": "code",
   "execution_count": null,
   "id": "9e1d90af",
   "metadata": {},
   "outputs": [],
   "source": [
    "# Define unique name for dataframe to insert into f-string\n",
    "unique_table_name = \"Team Playoff Standings - \"\n",
    "\n",
    "# Define name replacement dict\n",
    "name_replacement_dict = {\"Rk\":f'{unique_table_name}Rank',\n",
    "                         \"Team\":f'{unique_table_name}Team',\n",
    "                         \"Overall\":f'{unique_table_name}Overall Record',\n",
    "                         \"Home\":f'{unique_table_name}Record at home',\n",
    "                         \"Road\":f'{unique_table_name}Record on the road',\n",
    "                         \"E\":f'{unique_table_name}Record against Eastern Conference',\n",
    "                         'Year':f'{unique_table_name}Year',\n",
    "                         \"W\":f'{unique_table_name}Record against Western Conference',\n",
    "                         \"Team Name Refined - accounts for players being traded\":f'{unique_table_name}Team Name Refined - accounts for players being traded',\n",
    "                         \"Standardized/Modernized Team Name\":f'{unique_table_name}Standardized/Modernized Team Name'}\n",
    "                         \n",
    "                         \n",
    "# Replace names in dataframe\n",
    "nba_team_playoff_standing.rename(name_replacement_dict,axis=1,inplace=True)\n",
    "\n",
    "# # Get rid of dataframes as desired\n",
    "# list_of_columns_to_remove = ['Unnamed: 6','Unnamed: 13','Unnamed: 20','Unnamed: 23','Unnamed: 26']\n",
    "\n",
    "# for item in list_of_columns_to_remove:\n",
    "#     nba_team_playoff_standing = nba_team_playoff_standing.drop(item,axis=1)\n",
    "\n",
    "# Check column names to make sure none desired to get rid of\n",
    "for column in nba_team_playoff_standing.columns:\n",
    "    \n",
    "    print(f\"\"\"\n",
    "    {column}\"\"\")\n",
    "\n",
    "nba_team_playoff_standing.head(1)                         "
   ]
  },
  {
   "cell_type": "code",
   "execution_count": null,
   "id": "c4d6af41",
   "metadata": {},
   "outputs": [],
   "source": [
    "# Create playoff result column\n",
    "nba_team_playoff_standing['Playoff Result'] = nba_team_playoff_standing['Team Playoff Standings - Overall Record']\n",
    "\n",
    "def populate_playoff_result(x):\n",
    "    \n",
    "    x_value = int(x.split('-')[0])\n",
    "    \n",
    "    y_value = int(x.split('-')[1])\n",
    "    \n",
    "    value_to_populate = 'FLAG'\n",
    "    \n",
    "    if x_value == 16:\n",
    "        \n",
    "        value_to_populate='Won NBA Finals'\n",
    "        \n",
    "    if x_value < 16 and x_value > 11:\n",
    "        \n",
    "        value_to_populate='Lost NBA Finals'\n",
    "    \n",
    "    if x_value < 12 and x_value > 7:\n",
    "        \n",
    "        value_to_populate='Lost in Conference Finals'\n",
    "        \n",
    "    if x_value < 8 and x_value > 3:\n",
    "        \n",
    "        value_to_populate='Lost in 2nd round'\n",
    "    \n",
    "    if x_value < 4:\n",
    "        \n",
    "        value_to_populate='Lost in 1st round'\n",
    "        \n",
    "    if x_value == 0:\n",
    "        \n",
    "        if y_value == 0:\n",
    "            \n",
    "            value_to_populate='Lost in play-in'\n",
    "    \n",
    "    return value_to_populate\n",
    "    \n",
    "nba_team_playoff_standing['Playoff Result'] = nba_team_playoff_standing['Playoff Result'].apply(populate_playoff_result)\n",
    "\n",
    "nba_team_playoff_standing.head(5)"
   ]
  },
  {
   "cell_type": "markdown",
   "id": "d4a2de88",
   "metadata": {},
   "source": [
    "# Stage 6.) Feature Engineering before training different Machine Learning Models\n",
    "\n",
    " <a class=\"anchor\" id=\"Step99\"></a>"
   ]
  },
  {
   "cell_type": "code",
   "execution_count": null,
   "id": "3e713d54",
   "metadata": {},
   "outputs": [],
   "source": [
    "def rank_column_values(dataframe, name_of_year_value_column, list_of_columns_to_rank, rank_method='average', ascending=False):\n",
    "    \n",
    "    # Within year, rank columns\n",
    "    for column in list_of_columns_to_rank: \n",
    "\n",
    "        ranked_column_name = column + ' Ranked'\n",
    "        \n",
    "        dataframe[ranked_column_name] = np.nan\n",
    "    \n",
    "        for year in list(dataframe[name_of_year_value_column].unique()):\n",
    "\n",
    "            # Filter down to year_subset\n",
    "            subset_df = dataframe.copy()\n",
    "            subset_df = subset_df.loc[subset_df[name_of_year_value_column]==year]\n",
    "\n",
    "            # Create and populate ranked column for subset\n",
    "            subset_df.loc[:,ranked_column_name] = subset_df[column].rank(method=rank_method, ascending=ascending)\n",
    "            \n",
    "            # Using subset indices and values, populate indices of main dataframe with rank values for year created    \n",
    "            dataframe.loc[subset_df.index.tolist(),ranked_column_name] = subset_df[ranked_column_name]\n",
    "\n",
    "    return dataframe"
   ]
  },
  {
   "cell_type": "markdown",
   "id": "6233e479",
   "metadata": {},
   "source": [
    "## Prep player regular season basic stats for machine learning"
   ]
  },
  {
   "cell_type": "markdown",
   "id": "df98ab1b",
   "metadata": {},
   "source": [
    "###### Define treatment of columns"
   ]
  },
  {
   "cell_type": "code",
   "execution_count": null,
   "id": "e389fd97",
   "metadata": {},
   "outputs": [],
   "source": [
    "\n",
    "list_of_basic_player_stats_regular_season_df_categorical_to_encode = ['Regular Season Basic Player Stats - Position',\n",
    "                                                                     ]\n",
    "\n",
    "\n",
    "list_of_basic_player_stats_regular_season_df_columns_to_exclude = [\n",
    "                                                                   'Regular Season Basic Player Stats - Rank',\n",
    "                                                                   'Regular Season Basic Player Stats - Player Unique ID',\n",
    "                                                                   'Regular Season Basic Player Stats - Team Name Refined - accounts for players being traded',\n",
    "                                                                    'Regular Season Basic Player Stats - 6MAN Game Started Maximum',\n",
    "                                                                    'Regular Season Basic Player Stats - 6MAN Game Minimum'\n",
    "                                                                  ]\n",
    "\n",
    "list_of_basic_player_stats_regular_season_df_columns_to_rank = ['Regular Season Basic Player Stats - Total Rebounds Per Game',\n",
    "                                                                'Regular Season Basic Player Stats - Assists Per Game',\n",
    "                                                                'Regular Season Basic Player Stats - Steals Per Game',\n",
    "                                                                'Regular Season Basic Player Stats - Blocks Per Game',\n",
    "                                                                'Regular Season Basic Player Stats - Points Per Game',\n",
    "                                                                'Regular Season Basic Player Stats - Average Effective Field Goal % For Season'\n",
    "                                                               ]\n",
    "\n",
    "list_of_basic_player_stats_regular_season_df_columns_to_derive_indicator_for = ['Regular Season Basic Player Stats - Games Played',\n",
    "                                                                               'Regular Season Basic Player Stats - Minutes Played Per Game']"
   ]
  },
  {
   "cell_type": "markdown",
   "id": "aaee7b52",
   "metadata": {},
   "source": [
    "###### Create 6MAN games started and games played indicator ( > 60 games played, < 35 games started)"
   ]
  },
  {
   "cell_type": "code",
   "execution_count": null,
   "id": "228c8281",
   "metadata": {},
   "outputs": [],
   "source": [
    "# Create temporary indicator columns\n",
    "basic_player_stats_regular_season_df['Regular Season Basic Player Stats - 6MAN Game Minimum'] = (basic_player_stats_regular_season_df['Regular Season Basic Player Stats - Games Played'] > 60).astype(int)\n",
    "basic_player_stats_regular_season_df['Regular Season Basic Player Stats - 6MAN Game Started Maximum'] = (basic_player_stats_regular_season_df['Regular Season Basic Player Stats - Games Started'] < 35).astype(int)\n",
    "\n",
    "# Using temporary indicator columns, create a 6MAN indicator\n",
    "basic_player_stats_regular_season_df['Regular Season Basic Player Stats - 6MAN Game Played and Started Qualification '] = ((basic_player_stats_regular_season_df['Regular Season Basic Player Stats - 6MAN Game Minimum'] == 1) & (basic_player_stats_regular_season_df['Regular Season Basic Player Stats - 6MAN Game Started Maximum'] == 1)).astype(int)"
   ]
  },
  {
   "cell_type": "markdown",
   "id": "68180d80",
   "metadata": {},
   "source": [
    "###### Perform transformations of data using lists above"
   ]
  },
  {
   "cell_type": "code",
   "execution_count": null,
   "id": "0e1b4305",
   "metadata": {},
   "outputs": [],
   "source": [
    "# Store old dataframe in case needed\n",
    "basic_player_stats_regular_season_df_before_changes = basic_player_stats_regular_season_df.copy()\n",
    "\n",
    "# Create ranked columns for columns desired to rank\n",
    "basic_player_stats_regular_season_df = rank_column_values(basic_player_stats_regular_season_df,'Regular Season Basic Player Stats - Year',list_of_basic_player_stats_regular_season_df_columns_to_rank)\n",
    "\n",
    "# Remove columns to exclude:\n",
    "for column in list_of_basic_player_stats_regular_season_df_columns_to_exclude:\n",
    "    \n",
    "    basic_player_stats_regular_season_df.drop(column,axis=1,inplace=True)\n",
    "    \n",
    "# Encode nominal categorical variables using one-hot encoding###### Create indicator columns for games played and minutes per game\n",
    "basic_player_stats_regular_season_df = pd.get_dummies(basic_player_stats_regular_season_df, columns=list_of_basic_player_stats_regular_season_df_categorical_to_encode)"
   ]
  },
  {
   "cell_type": "markdown",
   "id": "8aeaa744",
   "metadata": {},
   "source": [
    "###### Create indicator columns for games played and minutes per game"
   ]
  },
  {
   "cell_type": "code",
   "execution_count": null,
   "id": "6175d5c0",
   "metadata": {},
   "outputs": [],
   "source": [
    "basic_player_stats_regular_season_df['Regular Season Basic Player Stats - Game Minimum'] = (basic_player_stats_regular_season_df['Regular Season Basic Player Stats - Games Played'] > 50).astype(int)\n",
    "basic_player_stats_regular_season_df['Regular Season Basic Player Stats - Minutes Per Game Minimum'] = (basic_player_stats_regular_season_df['Regular Season Basic Player Stats - Minutes Played Per Game'] >= 20).astype(int)\n"
   ]
  },
  {
   "cell_type": "markdown",
   "id": "f1eae06b",
   "metadata": {},
   "source": [
    "###### Create Delta columns for Most Improved Player Analysis"
   ]
  },
  {
   "cell_type": "code",
   "execution_count": null,
   "id": "24a5d2a4",
   "metadata": {},
   "outputs": [],
   "source": [
    "# columns_to_delta = ['Regular Season Basic Player Stats - Minutes Played Per Game',\n",
    "#                     'Regular Season Basic Player Stats - Average Effective Field Goal % For Season',\n",
    "#                    'Regular Season Basic Player Stats - Points Per Game',\n",
    "#                    'Regular Season Basic Player Stats - Total Rebounds Per Game',\n",
    "#                    'Regular Season Basic Player Stats - Assists Per Game',\n",
    "#                    'Regular Season Basic Player Stats - Steals Per Game',\n",
    "#                    'Regular Season Basic Player Stats - Blocks Per Game']\n",
    "\n",
    "# for column_to_delta in columns_to_delta:\n",
    "    \n",
    "#     delta_column_name = f'{column_to_delta} Change from Previous Year' = np.nan\n",
    "    \n",
    "    \n",
    "# for year in list(basic_player_stats_regular_season_df['Year'].unique()):\n",
    "    \n",
    "#     if year == 2003:\n",
    "        \n",
    "#         continue\n",
    "        \n",
    "#     year_before = year - 1\n",
    "    \n",
    "#     for column_to_delta in columns_to_delta:\n",
    "    \n",
    "#         delta_column_name = f'{column_to_delta} Change from Previous Year' = np.nan\n",
    "\n",
    "# # Minutes played per game"
   ]
  },
  {
   "cell_type": "code",
   "execution_count": null,
   "id": "c2345d33",
   "metadata": {},
   "outputs": [],
   "source": [
    "basic_player_stats_regular_season_df.head(10)"
   ]
  },
  {
   "cell_type": "markdown",
   "id": "c0c56aa5",
   "metadata": {},
   "source": [
    "## Prep player regular season advanced stats for machine learning"
   ]
  },
  {
   "cell_type": "code",
   "execution_count": null,
   "id": "3f9ff8c5",
   "metadata": {},
   "outputs": [],
   "source": [
    "list_of_categorical_to_encode = []\n",
    "                                                            \n",
    "\n",
    "\n",
    "\n",
    "list_of_columns_to_exclude = ['Regular Season Advanced Player Stats - Rank',\n",
    "                               'Regular Season Advanced Player Stats - Player',\n",
    "                               'Regular Season Advanced Player Stats - Position',\n",
    "                               'Regular Season Advanced Player Stats - Team',\n",
    "                               'Regular Season Advanced Player Stats - Age',\n",
    "                               'Regular Season Advanced Player Stats - Games Played',\n",
    "                              'Regular Season Advanced Player Stats - Team Name Refined - accounts for players being traded',\n",
    "                              'Regular Season Advanced Player Stats - Year',\n",
    "                              'Regular Season Advanced Player Stats - Player Unique ID',\n",
    "                              'Regular Season Advanced Player Stats - Standardized/Modernized Team Name',\n",
    "                             'Team_name_and_year_concat']\n",
    "\n",
    "\n",
    "list_of_columns_to_rank = ['Regular Season Advanced Player Stats - Player Efficiency',\n",
    "                           'Regular Season Advanced Player Stats - True Shooting % For Season',\n",
    "                            'Regular Season Advanced Player Stats - Offensive Rebounding %',\n",
    "                            'Regular Season Advanced Player Stats - Defensive Rebound Percentage',\n",
    "                            'Regular Season Advanced Player Stats - Total Rebounding %',\n",
    "                            'Regular Season Advanced Player Stats - Assist % For Season',\n",
    "                            'Regular Season Advanced Player Stats - Steal Percentage for Season',\n",
    "                            'Regular Season Advanced Player Stats - Block %',\n",
    "                            'Regular Season Advanced Player Stats - Turnover % for Season',\n",
    "                            'Regular Season Advanced Player Stats - Usage % For Season',\n",
    "                            'Regular Season Advanced Player Stats - Total Offensive Win Shares For Season',\n",
    "                            'Regular Season Advanced Player Stats - Total Defensive Win Shares For Season',\n",
    "                            'Regular Season Advanced Player Stats - Win Shares',\n",
    "                            'Regular Season Advanced Player Stats - Win Shares Per 48 Minutes Played For the Season',\n",
    "                            'Regular Season Advanced Player Stats - Offensive Box Plus/Minus For Season',\n",
    "                            'Regular Season Advanced Player Stats - Defensive Box Plus/Minus',\n",
    "                            'Regular Season Advanced Player Stats - Box Plus/Minus For Season',\n",
    "                            'Regular Season Advanced Player Stats - Value Above Replacement Player']\n",
    "\n",
    "\n",
    "list_of_columns_to_derive_indicator_for = []"
   ]
  },
  {
   "cell_type": "code",
   "execution_count": null,
   "id": "d742ad1e",
   "metadata": {},
   "outputs": [],
   "source": [
    "# Store old dataframe in case needed\n",
    "advanced_player_stats_in_regular_season_df_before_changes = advanced_player_stats_in_regular_season_df.copy()\n",
    "\n",
    "# Create ranked columns for columns desired to rank\n",
    "advanced_player_stats_in_regular_season_df = rank_column_values(advanced_player_stats_in_regular_season_df,'Regular Season Advanced Player Stats - Year',list_of_columns_to_rank)\n",
    "\n",
    "# Remove columns to exclude:\n",
    "for column in list_of_columns_to_exclude:\n",
    "    \n",
    "    advanced_player_stats_in_regular_season_df.drop(column,axis=1,inplace=True)\n",
    "    \n",
    "# # Encode nominal categorical variables using one-hot encoding\n",
    "# basic_player_stats_regular_season_df = pd.get_dummies(basic_player_stats_regular_season_df, columns=list_of_basic_player_stats_regular_season_df_categorical_to_encode)"
   ]
  },
  {
   "cell_type": "code",
   "execution_count": null,
   "id": "9392e8d9",
   "metadata": {},
   "outputs": [],
   "source": [
    "advanced_player_stats_in_regular_season_df.head(10)"
   ]
  },
  {
   "cell_type": "code",
   "execution_count": null,
   "id": "9196eb9b",
   "metadata": {},
   "outputs": [],
   "source": [
    "advanced_player_stats_in_regular_season_df.loc[advanced_player_stats_in_regular_season_df['Player_unique_id_and_year_concat']=='jokicni01-2023']"
   ]
  },
  {
   "cell_type": "markdown",
   "id": "1a801f2e",
   "metadata": {},
   "source": [
    "## Prep player regular season shooting stats for machine learning"
   ]
  },
  {
   "cell_type": "code",
   "execution_count": null,
   "id": "06b40256",
   "metadata": {},
   "outputs": [],
   "source": [
    "list_of_categorical_to_encode = []\n",
    "                                                            \n",
    "\n",
    "\n",
    "\n",
    "list_of_columns_to_exclude = ['Regular Season Player Shooting Stats - Rank',\n",
    "                               'Regular Season Player Shooting Stats - Player',\n",
    "                               'Regular Season Player Shooting Stats - Position',\n",
    "                               'Regular Season Player Shooting Stats - Team',\n",
    "                               'Regular Season Player Shooting Stats - Age',\n",
    "                               'Regular Season Player Shooting Stats - Games Played',\n",
    "                              'Regular Season Player Shooting Stats - Total Minutes Played During Season',\n",
    "                              'Regular Season Player Shooting Stats - Year',\n",
    "                              'Regular Season Player Shooting Stats - Player Unique ID',\n",
    "                              'Regular Season Player Shooting Stats - Standardized/Modernized Team Name',\n",
    "                             'Team_name_and_year_concat',\n",
    "                             'Regular Season Player Shooting Stats - Team Name Refined - accounts for players being traded',\n",
    "                             'Regular Season Player Shooting Stats - Field Goal %']\n",
    "\n",
    "\n",
    "list_of_columns_to_rank = []\n",
    "\n",
    "\n",
    "list_of_columns_to_derive_indicator_for = []"
   ]
  },
  {
   "cell_type": "code",
   "execution_count": null,
   "id": "05a1f604",
   "metadata": {},
   "outputs": [],
   "source": [
    "player_shooting_in_regular_season_df.head(10)"
   ]
  },
  {
   "cell_type": "code",
   "execution_count": null,
   "id": "fe3b9c91",
   "metadata": {},
   "outputs": [],
   "source": [
    "# Store old dataframe in case needed\n",
    "player_shooting_in_regular_season_df_before_changes = player_shooting_in_regular_season_df.copy()\n",
    "\n",
    "# # Create ranked columns for columns desired to rank\n",
    "# advanced_player_stats_in_regular_season_df = rank_column_values(advanced_player_stats_in_regular_season_df,'Regular Season Advanced Player Stats - Year',list_of_columns_to_rank)\n",
    "\n",
    "# Remove columns to exclude:\n",
    "for column in list_of_columns_to_exclude:\n",
    "    \n",
    "    player_shooting_in_regular_season_df.drop(column,axis=1,inplace=True)\n",
    "    \n",
    "# # Encode nominal categorical variables using one-hot encoding\n",
    "# basic_player_stats_regular_season_df = pd.get_dummies(basic_player_stats_regular_season_df, columns=list_of_basic_player_stats_regular_season_df_categorical_to_encode)"
   ]
  },
  {
   "cell_type": "code",
   "execution_count": null,
   "id": "8162dc4e",
   "metadata": {},
   "outputs": [],
   "source": [
    "player_shooting_in_regular_season_df.head(10)"
   ]
  },
  {
   "cell_type": "code",
   "execution_count": null,
   "id": "d83982a6",
   "metadata": {},
   "outputs": [],
   "source": [
    "player_shooting_in_regular_season_df.loc[player_shooting_in_regular_season_df['Player_unique_id_and_year_concat']=='jokicni01-2023']"
   ]
  },
  {
   "cell_type": "markdown",
   "id": "83a7b45c",
   "metadata": {},
   "source": [
    "## Prep player regular season play by play stats for machine learning"
   ]
  },
  {
   "cell_type": "code",
   "execution_count": null,
   "id": "990c7bbf",
   "metadata": {},
   "outputs": [],
   "source": [
    "list_of_categorical_to_encode = []\n",
    "                                                            \n",
    "\n",
    "\n",
    "\n",
    "list_of_columns_to_exclude = ['Regular Season Play by Play Player Stats - Rank',\n",
    "                               'Regular Season Play by Play Player Stats - Player',\n",
    "                               'Regular Season Play by Play Player Stats - Position',\n",
    "                               'Regular Season Play by Play Player Stats - Team',\n",
    "                               'Regular Season Play by Play Player Stats - Age',\n",
    "                               'Regular Season Play by Play Player Stats - Games Played',\n",
    "                              'Regular Season Play by Play Player Stats - Total Minutes Played During Season',\n",
    "                              'Regular Season Play by Play Player Stats - Year',\n",
    "                              'Regular Season Play by Play Player Stats - Player Unique ID',\n",
    "                              'Regular Season Play by Play Player Stats - Standardized/Modernized Team Name',\n",
    "                             'Team_name_and_year_concat',\n",
    "                             'Regular Season Play by Play Player Stats - Team Name Refined - accounts for players being traded']\n",
    "\n",
    "\n",
    "list_of_columns_to_rank = ['Regular Season Play by Play Player Stats - Plus/Minus Per 100 Possessions (On Court)',\n",
    "                          'Regular Season Play by Play Player Stats - Plus/Minus Net Per 100 Possessions (On/off)',\n",
    "                          'Regular Season Play by Play Player Stats - Points Generated by Assists',\n",
    "                          'Regular Season Play by Play Player Stats - Shooting Fouls Drawn']\n",
    "\n",
    "\n",
    "list_of_columns_to_derive_indicator_for = []"
   ]
  },
  {
   "cell_type": "code",
   "execution_count": null,
   "id": "f9bab05c",
   "metadata": {},
   "outputs": [],
   "source": [
    "list_of_columns_to_modify = ['Regular Season Play by Play Player Stats - Percentage of Total Minutes Played at Point Guard',\n",
    "                            'Regular Season Play by Play Player Stats - Percentage of Total Minutes Played at Shooting Guard',\n",
    "                            'Regular Season Play by Play Player Stats - Percentage of Total Minutes Played at Power Forward',\n",
    "                            'Regular Season Play by Play Player Stats - Percentage of Total Minutes Played at Small Forward',\n",
    "                            'Regular Season Play by Play Player Stats - Percentage of Total Minutes Played at Center']\n",
    "\n",
    "for column in list_of_columns_to_modify:\n",
    "    \n",
    "    player_play_by_play_in_regular_season_df[column] = pd.to_numeric(player_play_by_play_in_regular_season_df[column].str.rstrip('%'), errors='coerce') / 100"
   ]
  },
  {
   "cell_type": "code",
   "execution_count": null,
   "id": "6a86ac0c",
   "metadata": {},
   "outputs": [],
   "source": [
    "player_play_by_play_in_regular_season_df['Regular Season Play by Play Player Stats - Percentage of Total Minutes Played at Point Guard'][12018]"
   ]
  },
  {
   "cell_type": "code",
   "execution_count": null,
   "id": "fa41e8d0",
   "metadata": {},
   "outputs": [],
   "source": [
    "player_play_by_play_in_regular_season_df.head(10)"
   ]
  },
  {
   "cell_type": "code",
   "execution_count": null,
   "id": "3005f48a",
   "metadata": {},
   "outputs": [],
   "source": [
    "# Store old dataframe in case needed\n",
    "player_play_by_play_in_regular_season_df_before_changes = player_play_by_play_in_regular_season_df.copy()\n",
    "\n",
    "# Create ranked columns for columns desired to rank\n",
    "player_play_by_play_in_regular_season_df = rank_column_values(player_play_by_play_in_regular_season_df,'Regular Season Play by Play Player Stats - Year',list_of_columns_to_rank)\n",
    "\n",
    "# Remove columns to exclude:\n",
    "for column in list_of_columns_to_exclude:\n",
    "    \n",
    "    player_play_by_play_in_regular_season_df.drop(column,axis=1,inplace=True)\n",
    "    \n",
    "# # Encode nominal categorical variables using one-hot encoding\n",
    "# basic_player_stats_regular_season_df = pd.get_dummies(basic_player_stats_regular_season_df, columns=list_of_basic_player_stats_regular_season_df_categorical_to_encode)"
   ]
  },
  {
   "cell_type": "code",
   "execution_count": null,
   "id": "33e210a2",
   "metadata": {},
   "outputs": [],
   "source": [
    "player_play_by_play_in_regular_season_df.head(10)"
   ]
  },
  {
   "cell_type": "code",
   "execution_count": null,
   "id": "c64eb1e7",
   "metadata": {},
   "outputs": [],
   "source": [
    "player_play_by_play_in_regular_season_df.loc[player_play_by_play_in_regular_season_df['Player_unique_id_and_year_concat']=='jokicni01-2023']"
   ]
  },
  {
   "cell_type": "markdown",
   "id": "38defab0",
   "metadata": {},
   "source": [
    "## Prep MVP voting history for machine learning"
   ]
  },
  {
   "cell_type": "code",
   "execution_count": null,
   "id": "55d013ef",
   "metadata": {},
   "outputs": [],
   "source": [
    "list_of_categorical_to_encode = []\n",
    "                                                            \n",
    "\n",
    "\n",
    "\n",
    "list_of_columns_to_exclude = ['MVP Vote Results - Rank',\n",
    "                               'MVP Vote Results - Player',\n",
    "                              'MVP Vote Results - Player Unique ID',\n",
    "                              'MVP Vote Results - Year',\n",
    "                              'MVP Vote Results - Standardized/Modernized Team Name',\n",
    "                             'Team_name_and_year_concat',\n",
    "                              'MVP Vote Results - Age',\n",
    "                              'MVP Vote Results - Team',\n",
    "                             'MVP Vote Results - Team Name Refined - accounts for players being traded']\n",
    "\n",
    "\n",
    "list_of_columns_to_rank = []\n",
    "\n",
    "\n",
    "list_of_columns_to_derive_indicator_for = []"
   ]
  },
  {
   "cell_type": "code",
   "execution_count": null,
   "id": "22b2c994",
   "metadata": {},
   "outputs": [],
   "source": [
    "dataframe_column_prefix = 'MVP Vote Results - '\n",
    "\n",
    "# Create column to contain indicator\n",
    "mvp_vote_df[f'{dataframe_column_prefix}MVP Result Indicator'] = np.nan\n",
    "\n",
    "# Loop through year and populate indicator\n",
    "for year in list(mvp_vote_df[f'{dataframe_column_prefix}Year'].unique()):\n",
    "    \n",
    "    # Filter dataframe by year\n",
    "    subset_df = mvp_vote_df.loc[mvp_vote_df[f'{dataframe_column_prefix}Year']==year]\n",
    "    \n",
    "    # Sort year subset by Total Voting Points Won\n",
    "    index_to_mark = subset_df[f'{dataframe_column_prefix}Total Voting Points Won'].idxmax()\n",
    "    \n",
    "    # Set value = 2 for winner\n",
    "    mvp_vote_df.loc[index_to_mark,f'{dataframe_column_prefix}MVP Result Indicator'] = 2\n",
    "\n",
    "    # Remove winner from consideration\n",
    "    subset_df = subset_df.drop(index_to_mark)\n",
    "    \n",
    "    # Sort year subset by Total Voting Points Won\n",
    "    index_to_mark = subset_df[f'{dataframe_column_prefix}Total Voting Points Won'].idxmax()\n",
    "          \n",
    "    # Set value = 3 for 2nd place\n",
    "    mvp_vote_df.loc[index_to_mark,f'{dataframe_column_prefix}MVP Result Indicator'] = 3   \n",
    "\n",
    "# Default in value of 1 to indicate they received a vote but did not win \n",
    "mvp_vote_df.loc[~mvp_vote_df[f'{dataframe_column_prefix}MVP Result Indicator'].isin([3,2]),f'{dataframe_column_prefix}MVP Result Indicator'] = 1     \n",
    "            "
   ]
  },
  {
   "cell_type": "code",
   "execution_count": null,
   "id": "e6860ef3",
   "metadata": {},
   "outputs": [],
   "source": [
    "mvp_vote_df.head(10)"
   ]
  },
  {
   "cell_type": "code",
   "execution_count": null,
   "id": "bdf37eec",
   "metadata": {},
   "outputs": [],
   "source": [
    "# Store old dataframe in case needed\n",
    "mvp_vote_df_before_changes = player_play_by_play_in_regular_season_df.copy()\n",
    "\n",
    "# # Create ranked columns for columns desired to rank\n",
    "# mvp_vote_df = rank_column_values(player_play_by_play_in_regular_season_df,'Regular Season Play by Play Player Stats - Year',list_of_columns_to_rank)\n",
    "\n",
    "# Remove columns to exclude:\n",
    "for column in list_of_columns_to_exclude:\n",
    "    \n",
    "    mvp_vote_df.drop(column,axis=1,inplace=True)\n",
    "    \n",
    "# # Encode nominal categorical variables using one-hot encoding\n",
    "# basic_player_stats_regular_season_df = pd.get_dummies(basic_player_stats_regular_season_df, columns=list_of_basic_player_stats_regular_season_df_categorical_to_encode)"
   ]
  },
  {
   "cell_type": "code",
   "execution_count": null,
   "id": "efcc7d7a",
   "metadata": {},
   "outputs": [],
   "source": [
    "mvp_vote_df.head(10)"
   ]
  },
  {
   "cell_type": "code",
   "execution_count": null,
   "id": "9a6875f3",
   "metadata": {},
   "outputs": [],
   "source": [
    "mvp_vote_df.loc[mvp_vote_df['Player_unique_id_and_year_concat']=='jokicni01-2023']"
   ]
  },
  {
   "cell_type": "markdown",
   "id": "13f312a6",
   "metadata": {},
   "source": [
    "## Prep DPOY voting history for machine learning"
   ]
  },
  {
   "cell_type": "code",
   "execution_count": null,
   "id": "28911d21",
   "metadata": {},
   "outputs": [],
   "source": [
    "list_of_categorical_to_encode = []\n",
    "                                                            \n",
    "\n",
    "\n",
    "\n",
    "list_of_columns_to_exclude = ['DPOY Results - Rank',\n",
    "                               'DPOY Results - Player',\n",
    "                              'DPOY Results - Player Unique ID',\n",
    "                              'DPOY Results - Year',\n",
    "                              'DPOY Results - Standardized/Modernized Team Name',\n",
    "                             'Team_name_and_year_concat',\n",
    "                              'DPOY Results - Age',\n",
    "                              'DPOY Results - Team',\n",
    "                             'DPOY Results - Team Name Refined - accounts for players being traded']\n",
    "\n",
    "\n",
    "list_of_columns_to_rank = []\n",
    "\n",
    "\n",
    "list_of_columns_to_derive_indicator_for = []"
   ]
  },
  {
   "cell_type": "code",
   "execution_count": null,
   "id": "e33b9d8c",
   "metadata": {},
   "outputs": [],
   "source": [
    "dataframe_column_prefix = 'DPOY Results - '\n",
    "\n",
    "# Create column to contain indicator\n",
    "dpoy_df[f'{dataframe_column_prefix}DPOY Result Indicator'] = np.nan\n",
    "\n",
    "# Loop through year and populate indicator\n",
    "for year in list(dpoy_df[f'{dataframe_column_prefix}Year'].unique()):\n",
    "    \n",
    "    # Filter dataframe by year\n",
    "    subset_df = dpoy_df.loc[dpoy_df[f'{dataframe_column_prefix}Year']==year]\n",
    "    \n",
    "    # Sort year subset by Total Voting Points Won\n",
    "    index_to_mark = subset_df[f'{dataframe_column_prefix}Total Voting Points Won'].idxmax()\n",
    "    \n",
    "    # Set value = 2 for winner\n",
    "    dpoy_df.loc[index_to_mark,f'{dataframe_column_prefix}DPOY Result Indicator'] = 2\n",
    "\n",
    "    # Remove winner from consideration\n",
    "    subset_df = subset_df.drop(index_to_mark)\n",
    "    \n",
    "    # Sort year subset by Total Voting Points Won\n",
    "    index_to_mark = subset_df[f'{dataframe_column_prefix}Total Voting Points Won'].idxmax()\n",
    "          \n",
    "    # Set value = 3 for 2nd place\n",
    "    dpoy_df.loc[index_to_mark,f'{dataframe_column_prefix}DPOY Result Indicator'] = 3   \n",
    "\n",
    "# Default in value of 1 to indicate they received a vote but did not win \n",
    "dpoy_df.loc[~dpoy_df[f'{dataframe_column_prefix}DPOY Result Indicator'].isin([3,2]),f'{dataframe_column_prefix}DPOY Result Indicator'] = 1     \n",
    "            "
   ]
  },
  {
   "cell_type": "code",
   "execution_count": null,
   "id": "e15a254d",
   "metadata": {},
   "outputs": [],
   "source": [
    "dpoy_df.head(10)"
   ]
  },
  {
   "cell_type": "code",
   "execution_count": null,
   "id": "8f99e02e",
   "metadata": {},
   "outputs": [],
   "source": [
    "# Store old dataframe in case needed\n",
    "dpoy_df_before_changes = dpoy_df.copy()\n",
    "\n",
    "# # Create ranked columns for columns desired to rank\n",
    "# mvp_vote_df = rank_column_values(player_play_by_play_in_regular_season_df,'Regular Season Play by Play Player Stats - Year',list_of_columns_to_rank)\n",
    "\n",
    "# Remove columns to exclude:\n",
    "for column in list_of_columns_to_exclude:\n",
    "    \n",
    "    dpoy_df.drop(column,axis=1,inplace=True)\n",
    "    \n",
    "# # Encode nominal categorical variables using one-hot encoding\n",
    "# basic_player_stats_regular_season_df = pd.get_dummies(basic_player_stats_regular_season_df, columns=list_of_basic_player_stats_regular_season_df_categorical_to_encode)"
   ]
  },
  {
   "cell_type": "code",
   "execution_count": null,
   "id": "7b0a5fbd",
   "metadata": {
    "scrolled": true
   },
   "outputs": [],
   "source": [
    "dpoy_df.head(10)"
   ]
  },
  {
   "cell_type": "code",
   "execution_count": null,
   "id": "dc0784e6",
   "metadata": {
    "scrolled": true
   },
   "outputs": [],
   "source": [
    "dpoy_df.loc[dpoy_df['Player_unique_id_and_year_concat']=='antetgi01-2023']"
   ]
  },
  {
   "cell_type": "markdown",
   "id": "c3926a6a",
   "metadata": {},
   "source": [
    "## Prep ROY voting history for machine learning"
   ]
  },
  {
   "cell_type": "code",
   "execution_count": null,
   "id": "fe4119eb",
   "metadata": {},
   "outputs": [],
   "source": [
    "list_of_categorical_to_encode = []\n",
    "                                                            \n",
    "\n",
    "\n",
    "\n",
    "list_of_columns_to_exclude = ['ROY Vote Results - Rank',\n",
    "                               'ROY Vote Results - Player',\n",
    "                              'ROY Vote Results - Player Unique ID',\n",
    "                              'ROY Vote Results - Year',\n",
    "                              'ROY Vote Results - Standardized/Modernized Team Name',\n",
    "                             'Team_name_and_year_concat',\n",
    "                              'ROY Vote Results - Age',\n",
    "                              'ROY Vote Results - Team',\n",
    "                             'ROY Vote Results - Team Name Refined - accounts for players being traded']\n",
    "\n",
    "\n",
    "list_of_columns_to_rank = []\n",
    "\n",
    "\n",
    "list_of_columns_to_derive_indicator_for = []"
   ]
  },
  {
   "cell_type": "code",
   "execution_count": null,
   "id": "3a1b42ea",
   "metadata": {},
   "outputs": [],
   "source": [
    "dataframe_column_prefix = 'ROY Vote Results - '\n",
    "\n",
    "# Create column to contain indicator\n",
    "roy_vote_df[f'{dataframe_column_prefix}ROY Result Indicator'] = np.nan\n",
    "\n",
    "# Loop through year and populate indicator\n",
    "for year in list(roy_vote_df[f'{dataframe_column_prefix}Year'].unique()):\n",
    "    \n",
    "    # Filter dataframe by year\n",
    "    subset_df = roy_vote_df.loc[roy_vote_df[f'{dataframe_column_prefix}Year']==year]\n",
    "    \n",
    "    # Sort year subset by Total Voting Points Won\n",
    "    index_to_mark = subset_df[f'{dataframe_column_prefix}Total Voting Points Won'].idxmax()\n",
    "    \n",
    "    # Set value = 2 for winner\n",
    "    roy_vote_df.loc[index_to_mark,f'{dataframe_column_prefix}ROY Result Indicator'] = 2\n",
    "\n",
    "    # Remove winner from consideration\n",
    "    subset_df = subset_df.drop(index_to_mark)\n",
    "    \n",
    "    # Sort year subset by Total Voting Points Won\n",
    "    index_to_mark = subset_df[f'{dataframe_column_prefix}Total Voting Points Won'].idxmax()\n",
    "          \n",
    "    # Set value = 3 for 2nd place\n",
    "    roy_vote_df.loc[index_to_mark,f'{dataframe_column_prefix}ROY Result Indicator'] = 3   \n",
    "\n",
    "# Default in value of 1 to indicate they received a vote but did not win \n",
    "roy_vote_df.loc[~roy_vote_df[f'{dataframe_column_prefix}ROY Result Indicator'].isin([3,2]),f'{dataframe_column_prefix}ROY Result Indicator'] = 1     \n",
    "        "
   ]
  },
  {
   "cell_type": "code",
   "execution_count": null,
   "id": "7428643f",
   "metadata": {},
   "outputs": [],
   "source": [
    "roy_vote_df.head(10)"
   ]
  },
  {
   "cell_type": "code",
   "execution_count": null,
   "id": "afb04fe3",
   "metadata": {},
   "outputs": [],
   "source": [
    "# Store old dataframe in case needed\n",
    "roy_vote_df_before_changes = roy_vote_df.copy()\n",
    "\n",
    "# # Create ranked columns for columns desired to rank\n",
    "# mvp_vote_df = rank_column_values(player_play_by_play_in_regular_season_df,'Regular Season Play by Play Player Stats - Year',list_of_columns_to_rank)\n",
    "\n",
    "# Remove columns to exclude:\n",
    "for column in list_of_columns_to_exclude:\n",
    "    \n",
    "    roy_vote_df.drop(column,axis=1,inplace=True)\n",
    "    \n",
    "# # Encode nominal categorical variables using one-hot encoding\n",
    "# basic_player_stats_regular_season_df = pd.get_dummies(basic_player_stats_regular_season_df, columns=list_of_basic_player_stats_regular_season_df_categorical_to_encode)"
   ]
  },
  {
   "cell_type": "code",
   "execution_count": null,
   "id": "bd896afa",
   "metadata": {
    "scrolled": false
   },
   "outputs": [],
   "source": [
    "roy_vote_df.head(10)"
   ]
  },
  {
   "cell_type": "markdown",
   "id": "0a1fe19b",
   "metadata": {},
   "source": [
    "## Prep MIP voting history for machine learning"
   ]
  },
  {
   "cell_type": "code",
   "execution_count": null,
   "id": "806c8790",
   "metadata": {},
   "outputs": [],
   "source": [
    "list_of_categorical_to_encode = []\n",
    "                                                            \n",
    "\n",
    "\n",
    "\n",
    "list_of_columns_to_exclude = ['MIP Vote Results - Rank',\n",
    "                               'MIP Vote Results - Player',\n",
    "                              'MIP Vote Results - Player Unique ID',\n",
    "                              'MIP Vote Results - Year',\n",
    "                              'MIP Vote Results - Standardized/Modernized Team Name',\n",
    "                             'Team_name_and_year_concat',\n",
    "                              'MIP Vote Results - Age',\n",
    "                              'MIP Vote Results - Team',\n",
    "                             'MIP Vote Results - Team Name Refined - accounts for players being traded']\n",
    "\n",
    "\n",
    "list_of_columns_to_rank = []\n",
    "\n",
    "\n",
    "list_of_columns_to_derive_indicator_for = []"
   ]
  },
  {
   "cell_type": "code",
   "execution_count": null,
   "id": "0ab8eeea",
   "metadata": {},
   "outputs": [],
   "source": [
    "dataframe_column_prefix = 'MIP Vote Results - '\n",
    "\n",
    "# Create column to contain indicator\n",
    "mip_df[f'{dataframe_column_prefix}MIP Result Indicator'] = np.nan\n",
    "\n",
    "# Loop through year and populate indicator\n",
    "for year in list(mip_df[f'{dataframe_column_prefix}Year'].unique()):\n",
    "    \n",
    "    # Filter dataframe by year\n",
    "    subset_df = mip_df.loc[mip_df[f'{dataframe_column_prefix}Year']==year]\n",
    "    \n",
    "    # Sort year subset by Total Voting Points Won\n",
    "    index_to_mark = subset_df[f'{dataframe_column_prefix}Total Voting Points Won'].idxmax()\n",
    "              \n",
    "    # Set value = 2 for winner\n",
    "    mip_df.loc[index_to_mark,f'{dataframe_column_prefix}MIP Result Indicator'] = 2\n",
    "        \n",
    "    # Remove winner from consideration\n",
    "    subset_df = subset_df.drop(index_to_mark)\n",
    "    \n",
    "    # Sort year subset by Total Voting Points Won\n",
    "    index_to_mark = subset_df[f'{dataframe_column_prefix}Total Voting Points Won'].idxmax()\n",
    "          \n",
    "    # Set value = 3 for 2nd place\n",
    "    mip_df.loc[index_to_mark,f'{dataframe_column_prefix}MIP Result Indicator'] = 3   \n",
    "\n",
    "# Default in value of 1 to indicate they received a vote but did not win \n",
    "mip_df.loc[~mip_df[f'{dataframe_column_prefix}MIP Result Indicator'].isin([3,2]),f'{dataframe_column_prefix}MIP Result Indicator'] = 1     \n",
    "    "
   ]
  },
  {
   "cell_type": "code",
   "execution_count": null,
   "id": "3091dbf8",
   "metadata": {},
   "outputs": [],
   "source": [
    "mip_df.head(20)"
   ]
  },
  {
   "cell_type": "code",
   "execution_count": null,
   "id": "5866ce7b",
   "metadata": {},
   "outputs": [],
   "source": [
    "# Store old dataframe in case needed\n",
    "mip_df_before_changes = mip_df.copy()\n",
    "\n",
    "# # Create ranked columns for columns desired to rank\n",
    "# mvp_vote_df = rank_column_values(player_play_by_play_in_regular_season_df,'Regular Season Play by Play Player Stats - Year',list_of_columns_to_rank)\n",
    "\n",
    "# Remove columns to exclude:\n",
    "for column in list_of_columns_to_exclude:\n",
    "    \n",
    "    mip_df.drop(column,axis=1,inplace=True)\n",
    "    \n",
    "# # Encode nominal categorical variables using one-hot encoding\n",
    "# basic_player_stats_regular_season_df = pd.get_dummies(basic_player_stats_regular_season_df, columns=list_of_basic_player_stats_regular_season_df_categorical_to_encode)"
   ]
  },
  {
   "cell_type": "code",
   "execution_count": null,
   "id": "adeed76e",
   "metadata": {
    "scrolled": true
   },
   "outputs": [],
   "source": [
    "mip_df.head(10)"
   ]
  },
  {
   "cell_type": "markdown",
   "id": "4d911e59",
   "metadata": {},
   "source": [
    "## Prep 6 Man voting history for machine learning"
   ]
  },
  {
   "cell_type": "code",
   "execution_count": null,
   "id": "a09c2c96",
   "metadata": {},
   "outputs": [],
   "source": [
    "list_of_categorical_to_encode = []\n",
    "                                                            \n",
    "\n",
    "\n",
    "\n",
    "list_of_columns_to_exclude = ['6 Man Vote Results - Rank',\n",
    "                               '6 Man Vote Results - Player',\n",
    "                              '6 Man Vote Results - Player Unique ID',\n",
    "                              '6 Man Vote Results - Year',\n",
    "                              '6 Man Vote Results - Standardized/Modernized Team Name',\n",
    "                             'Team_name_and_year_concat',\n",
    "                              '6 Man Vote Results - Age',\n",
    "                              '6 Man Vote Results - Team',\n",
    "                             '6 Man Vote Results - Team Name Refined - accounts for players being traded']\n",
    "\n",
    "\n",
    "list_of_columns_to_rank = []\n",
    "\n",
    "\n",
    "list_of_columns_to_derive_indicator_for = []"
   ]
  },
  {
   "cell_type": "code",
   "execution_count": null,
   "id": "f050e739",
   "metadata": {},
   "outputs": [],
   "source": [
    "dataframe_column_prefix = '6 Man Vote Results - '\n",
    "\n",
    "# Create column to contain indicator\n",
    "six_man_df[f'{dataframe_column_prefix}6MAN Result Indicator'] = np.nan\n",
    "\n",
    "# Loop through year and populate indicator\n",
    "for year in list(six_man_df[f'{dataframe_column_prefix}Year'].unique()):\n",
    "    \n",
    "    # Filter dataframe by year\n",
    "    subset_df = six_man_df.loc[six_man_df[f'{dataframe_column_prefix}Year']==year]\n",
    "    \n",
    "    # Sort year subset by Total Voting Points Won\n",
    "    index_to_mark = subset_df[f'{dataframe_column_prefix}Total Voting Points Won'].idxmax()\n",
    "    \n",
    "    # Set value = 2 for winner\n",
    "    six_man_df.loc[index_to_mark,f'{dataframe_column_prefix}6MAN Result Indicator'] = 2\n",
    "\n",
    "    # Remove winner from consideration\n",
    "    subset_df = subset_df.drop(index_to_mark)\n",
    "    \n",
    "    # Sort year subset by Total Voting Points Won\n",
    "    index_to_mark = subset_df[f'{dataframe_column_prefix}Total Voting Points Won'].idxmax()\n",
    "          \n",
    "    # Set value = 3 for 2nd place\n",
    "    six_man_df.loc[index_to_mark,f'{dataframe_column_prefix}6MAN Result Indicator'] = 3   \n",
    "\n",
    "# Default in value of 1 to indicate they received a vote but did not win \n",
    "six_man_df.loc[~six_man_df[f'{dataframe_column_prefix}6MAN Result Indicator'].isin([3,2]),f'{dataframe_column_prefix}6MAN Result Indicator'] = 1         "
   ]
  },
  {
   "cell_type": "code",
   "execution_count": null,
   "id": "ca34aab4",
   "metadata": {},
   "outputs": [],
   "source": [
    "six_man_df.head(10)"
   ]
  },
  {
   "cell_type": "code",
   "execution_count": null,
   "id": "619a55f5",
   "metadata": {},
   "outputs": [],
   "source": [
    "# Store old dataframe in case needed\n",
    "six_man_df_before_changes = six_man_df.copy()\n",
    "\n",
    "# # Create ranked columns for columns desired to rank\n",
    "# mvp_vote_df = rank_column_values(player_play_by_play_in_regular_season_df,'Regular Season Play by Play Player Stats - Year',list_of_columns_to_rank)\n",
    "\n",
    "# Remove columns to exclude:\n",
    "for column in list_of_columns_to_exclude:\n",
    "    \n",
    "    six_man_df.drop(column,axis=1,inplace=True)\n",
    "    \n",
    "# # Encode nominal categorical variables using one-hot encoding\n",
    "# basic_player_stats_regular_season_df = pd.get_dummies(basic_player_stats_regular_season_df, columns=list_of_basic_player_stats_regular_season_df_categorical_to_encode)"
   ]
  },
  {
   "cell_type": "code",
   "execution_count": null,
   "id": "7c669d16",
   "metadata": {
    "scrolled": false
   },
   "outputs": [],
   "source": [
    "six_man_df.head(10)"
   ]
  },
  {
   "cell_type": "markdown",
   "id": "d0150ed2",
   "metadata": {},
   "source": [
    "## Prep All NBA voting history for machine learning"
   ]
  },
  {
   "cell_type": "code",
   "execution_count": null,
   "id": "e2ffb665",
   "metadata": {},
   "outputs": [],
   "source": [
    "list_of_categorical_to_encode = []\n",
    "                                                            \n",
    "\n",
    "\n",
    "\n",
    "list_of_columns_to_exclude = ['All NBA Vote Results - Player',\n",
    "                              'All NBA Vote Results - Player Unique ID',\n",
    "                              'All NBA Vote Results - Position',\n",
    "                              'All NBA Vote Results - Team',\n",
    "                              'All NBA Vote Results - Age',\n",
    "                              'All NBA Vote Results - Standardized/Modernized Team Name',\n",
    "                             'Team_name_and_year_concat',\n",
    "                             'All NBA Vote Results - Team Name Refined - accounts for players being traded',\n",
    "                             'All NBA Vote Results - Year']\n",
    "\n",
    "\n",
    "list_of_columns_to_rank = []\n",
    "\n",
    "\n",
    "list_of_columns_to_derive_indicator_for = []"
   ]
  },
  {
   "cell_type": "code",
   "execution_count": null,
   "id": "71018151",
   "metadata": {},
   "outputs": [],
   "source": [
    "all_nba_replacement_dict = {'3T':'3rd',\n",
    "                           '2T':'2nd',\n",
    "                           '1T':'1st'}\n",
    "\n",
    "all_nba_df['All NBA Vote Results - All NBA Award (e.g. 1st Team)'] = all_nba_df['All NBA Vote Results - All NBA Award (e.g. 1st Team)'].replace(all_nba_replacement_dict)\n",
    "\n",
    "all_nba_df['All NBA Vote Results - RESULT INDICATOR'] = all_nba_df['All NBA Vote Results - All NBA Award (e.g. 1st Team)']\n",
    "\n",
    "all_nba_replacement_dict = {'3rd':'2',\n",
    "                           '2nd':'3',\n",
    "                           '1st':'4',\n",
    "                           'ORV':'1'}\n",
    "\n",
    "all_nba_df['All NBA Vote Results - RESULT INDICATOR'] = all_nba_df['All NBA Vote Results - RESULT INDICATOR'].replace(all_nba_replacement_dict)\n",
    "\n",
    "all_nba_df"
   ]
  },
  {
   "cell_type": "code",
   "execution_count": null,
   "id": "3462fccc",
   "metadata": {},
   "outputs": [],
   "source": [
    "# Store old dataframe in case needed\n",
    "all_nba_df_before_changes = all_nba_df.copy()\n",
    "\n",
    "# # Create ranked columns for columns desired to rank\n",
    "# mvp_vote_df = rank_column_values(player_play_by_play_in_regular_season_df,'Regular Season Play by Play Player Stats - Year',list_of_columns_to_rank)\n",
    "\n",
    "# Remove columns to exclude:\n",
    "for column in list_of_columns_to_exclude:\n",
    "    \n",
    "    all_nba_df.drop(column,axis=1,inplace=True)\n",
    "    \n",
    "# # Encode nominal categorical variables using one-hot encoding\n",
    "# basic_player_stats_regular_season_df = pd.get_dummies(basic_player_stats_regular_season_df, columns=list_of_basic_player_stats_regular_season_df_categorical_to_encode)"
   ]
  },
  {
   "cell_type": "code",
   "execution_count": null,
   "id": "3cb73b4f",
   "metadata": {
    "scrolled": true
   },
   "outputs": [],
   "source": [
    "all_nba_df.head(10)"
   ]
  },
  {
   "cell_type": "markdown",
   "id": "9b7aaa4e",
   "metadata": {},
   "source": [
    "## Prep All Defense voting history for machine learning"
   ]
  },
  {
   "cell_type": "code",
   "execution_count": null,
   "id": "c5aca526",
   "metadata": {},
   "outputs": [],
   "source": [
    "list_of_categorical_to_encode = []\n",
    "                                                            \n",
    "\n",
    "\n",
    "\n",
    "list_of_columns_to_exclude = ['All Defensive Vote Results - Player',\n",
    "                              'All Defensive Vote Results - Player Unique ID',\n",
    "                              'All Defensive Vote Results - Position',\n",
    "                              'All Defensive Vote Results - Team',\n",
    "                              'All Defensive Vote Results - Age',\n",
    "                              'All Defensive Vote Results - Standardized/Modernized Team Name',\n",
    "                             'Team_name_and_year_concat',\n",
    "                             'All Defensive Vote Results - Team Name Refined - accounts for players being traded',\n",
    "                             'All Defensive Vote Results - Year']\n",
    "\n",
    "\n",
    "list_of_columns_to_rank = []\n",
    "\n",
    "\n",
    "list_of_columns_to_derive_indicator_for = []"
   ]
  },
  {
   "cell_type": "code",
   "execution_count": null,
   "id": "d1bed5c7",
   "metadata": {},
   "outputs": [],
   "source": [
    "all_defense_df['All Defensive Vote Results - All NBA Award (e.g. 1st Team)'].unique()"
   ]
  },
  {
   "cell_type": "code",
   "execution_count": null,
   "id": "78ba0f0d",
   "metadata": {},
   "outputs": [],
   "source": [
    "all_defense_df"
   ]
  },
  {
   "cell_type": "code",
   "execution_count": null,
   "id": "11512471",
   "metadata": {},
   "outputs": [],
   "source": [
    "all_defense_df['All Defensive Vote Results - RESULT INDICATOR'] = all_defense_df['All Defensive Vote Results - All NBA Award (e.g. 1st Team)']\n",
    "\n",
    "all_defense_replacement_dict = {\n",
    "                           '2nd':'2',\n",
    "                           '1st':'3',\n",
    "                           'ORV':'1'}\n",
    "\n",
    "all_defense_df['All Defensive Vote Results - RESULT INDICATOR'] = all_defense_df['All Defensive Vote Results - RESULT INDICATOR'].replace(all_defense_replacement_dict)\n",
    "\n",
    "all_defense_df"
   ]
  },
  {
   "cell_type": "code",
   "execution_count": null,
   "id": "a3b8e291",
   "metadata": {},
   "outputs": [],
   "source": [
    "# Store old dataframe in case needed\n",
    "all_defense_df_before_changes = all_defense_df.copy()\n",
    "\n",
    "# # Create ranked columns for columns desired to rank\n",
    "# mvp_vote_df = rank_column_values(player_play_by_play_in_regular_season_df,'Regular Season Play by Play Player Stats - Year',list_of_columns_to_rank)\n",
    "\n",
    "# Remove columns to exclude:\n",
    "for column in list_of_columns_to_exclude:\n",
    "    \n",
    "    all_defense_df.drop(column,axis=1,inplace=True)\n",
    "    \n",
    "# # Encode nominal categorical variables using one-hot encoding\n",
    "# basic_player_stats_regular_season_df = pd.get_dummies(basic_player_stats_regular_season_df, columns=list_of_basic_player_stats_regular_season_df_categorical_to_encode)"
   ]
  },
  {
   "cell_type": "code",
   "execution_count": null,
   "id": "02f3bb10",
   "metadata": {
    "scrolled": false
   },
   "outputs": [],
   "source": [
    "all_defense_df.head(10)"
   ]
  },
  {
   "cell_type": "markdown",
   "id": "da4df7b9",
   "metadata": {},
   "source": [
    "## Prep Finals MVP voting history for machine learning"
   ]
  },
  {
   "cell_type": "code",
   "execution_count": null,
   "id": "f9b85be7",
   "metadata": {},
   "outputs": [],
   "source": [
    "list_of_categorical_to_encode = []\n",
    "                                                            \n",
    "\n",
    "\n",
    "\n",
    "list_of_columns_to_exclude = ['Finals MVP Results - Year',\n",
    "                              'Finals MVP Results - Player',\n",
    "                              'Finals MVP Results - Team',\n",
    "                              'Finals MVP Results - Age',\n",
    "                              'Finals MVP Results - Player Unique ID',\n",
    "                              'Finals MVP Results - Standardized/Modernized Team Name',\n",
    "                             'Team_name_and_year_concat',\n",
    "                             'Finals MVP Results - Team Name Refined - accounts for players being traded']\n",
    "\n",
    "\n",
    "list_of_columns_to_rank = []\n",
    "\n",
    "\n",
    "list_of_columns_to_derive_indicator_for = []"
   ]
  },
  {
   "cell_type": "code",
   "execution_count": null,
   "id": "bd960521",
   "metadata": {},
   "outputs": [],
   "source": [
    "finals_mvp['Finals MVP Results - MVP Indicator'] = 1"
   ]
  },
  {
   "cell_type": "code",
   "execution_count": null,
   "id": "29fcc778",
   "metadata": {},
   "outputs": [],
   "source": [
    "# Store old dataframe in case needed\n",
    "finals_mvp_before_changes = finals_mvp.copy()\n",
    "\n",
    "# # Create ranked columns for columns desired to rank\n",
    "# mvp_vote_df = rank_column_values(player_play_by_play_in_regular_season_df,'Regular Season Play by Play Player Stats - Year',list_of_columns_to_rank)\n",
    "\n",
    "# Remove columns to exclude:\n",
    "for column in list_of_columns_to_exclude:\n",
    "    \n",
    "    finals_mvp.drop(column,axis=1,inplace=True)\n",
    "    \n",
    "# # Encode nominal categorical variables using one-hot encoding\n",
    "# basic_player_stats_regular_season_df = pd.get_dummies(basic_player_stats_regular_season_df, columns=list_of_basic_player_stats_regular_season_df_categorical_to_encode)"
   ]
  },
  {
   "cell_type": "code",
   "execution_count": null,
   "id": "e9dffe2e",
   "metadata": {
    "scrolled": false
   },
   "outputs": [],
   "source": [
    "finals_mvp.head(10)"
   ]
  },
  {
   "cell_type": "markdown",
   "id": "4b5aca24",
   "metadata": {},
   "source": [
    "## Prep team basic stat in regular season for machine learning"
   ]
  },
  {
   "cell_type": "code",
   "execution_count": null,
   "id": "517bd135",
   "metadata": {},
   "outputs": [],
   "source": [
    "list_of_categorical_to_encode = []\n",
    "                                                            \n",
    "\n",
    "\n",
    "\n",
    "list_of_columns_to_exclude = ['Regular Season Basic Team Stats - Rank',\n",
    "                               'Regular Season Basic Team Stats - Minutes Played Per Game',\n",
    "                              'Regular Season Basic Team Stats - Team Name Refined - accounts for players being traded',\n",
    "                              'Regular Season Basic Team Stats - Standardized/Modernized Team Name'\n",
    "                             ]\n",
    "\n",
    "\n",
    "list_of_columns_to_rank = [\n",
    "                           'Regular Season Basic Team Stats - Points Per Game',\n",
    "                           'Regular Season Basic Team Stats - Total Rebounds Per Game',\n",
    "                           'Regular Season Basic Team Stats - Offense Rebounds Per Game',\n",
    "                           'Regular Season Basic Team Stats - Defense Rebounds Per Game',\n",
    "                           'Regular Season Basic Team Stats - Total Rebounds Per Game',\n",
    "                           'Regular Season Basic Team Stats - Assists Per Game',\n",
    "                           'Regular Season Basic Team Stats - Steals Per Game',\n",
    "                           'Regular Season Basic Team Stats - Blocks Per Game',\n",
    "                           'Regular Season Basic Team Stats - Turnovers Per Game',\n",
    "                           'Regular Season Basic Team Stats - Personal Fouls Per Game'\n",
    "                          ]\n",
    "\n",
    "\n",
    "list_of_columns_to_derive_indicator_for = []"
   ]
  },
  {
   "cell_type": "code",
   "execution_count": null,
   "id": "aa78937c",
   "metadata": {},
   "outputs": [],
   "source": [
    "# Store with league averages\n",
    "nba_team_basic_stat_in_regular_season_df_league_average = nba_team_basic_stat_in_regular_season_df.copy()\n",
    "\n",
    "# Filter out league averages, as it will mess with rankings\n",
    "nba_team_basic_stat_in_regular_season_df = nba_team_basic_stat_in_regular_season_df.loc[nba_team_basic_stat_in_regular_season_df['Regular Season Basic Team Stats - Team']!='League Average']"
   ]
  },
  {
   "cell_type": "code",
   "execution_count": null,
   "id": "1742714d",
   "metadata": {},
   "outputs": [],
   "source": [
    "# Store old dataframe in case needed\n",
    "nba_team_basic_stat_in_regular_season_df_before_changes = nba_team_basic_stat_in_regular_season_df.copy()\n",
    "\n",
    "# Create ranked columns for columns desired to rank\n",
    "nba_team_basic_stat_in_regular_season_df = rank_column_values(nba_team_basic_stat_in_regular_season_df,'Regular Season Basic Team Stats - Year',list_of_columns_to_rank)\n",
    "\n",
    "# Remove columns to exclude:\n",
    "for column in list_of_columns_to_exclude:\n",
    "    \n",
    "    nba_team_basic_stat_in_regular_season_df.drop(column,axis=1,inplace=True)\n",
    "    \n",
    "# # Encode nominal categorical variables using one-hot encoding\n",
    "# basic_player_stats_regular_season_df = pd.get_dummies(basic_player_stats_regular_season_df, columns=list_of_basic_player_stats_regular_season_df_categorical_to_encode)"
   ]
  },
  {
   "cell_type": "code",
   "execution_count": null,
   "id": "3831e1e3",
   "metadata": {
    "scrolled": true
   },
   "outputs": [],
   "source": [
    "nba_team_basic_stat_in_regular_season_df.head(3)"
   ]
  },
  {
   "cell_type": "markdown",
   "id": "ca645d89",
   "metadata": {},
   "source": [
    "## Prep team basic opponent stat in regular season for machine learning"
   ]
  },
  {
   "cell_type": "code",
   "execution_count": null,
   "id": "523f5218",
   "metadata": {},
   "outputs": [],
   "source": [
    "list_of_categorical_to_encode = []\n",
    "                                                            \n",
    "\n",
    "\n",
    "\n",
    "list_of_columns_to_exclude = ['Regular Season Basic Team Opponent Stats - Rank',\n",
    "                               'Regular Season Basic Team Opponent Stats - Team',\n",
    "                               'Regular Season Basic Team Opponent Stats - Minutes Played Per Game',\n",
    "                             'Regular Season Basic Team Opponent Stats - Year',\n",
    "                              'Regular Season Basic Team Opponent Stats - Team Name Refined - accounts for players being traded',\n",
    "                              'Regular Season Basic Team Opponent Stats - Standardized/Modernized Team Name'\n",
    "                             ]\n",
    "\n",
    "\n",
    "list_of_columns_to_rank = [\n",
    "                           'Regular Season Basic Team Opponent Stats - Points Per Game',\n",
    "                           'Regular Season Basic Team Opponent Stats - Total Rebounds Per Game',\n",
    "                           'Regular Season Basic Team Opponent Stats - Offense Rebounds Per Game',\n",
    "                           'Regular Season Basic Team Opponent Stats - Defense Rebounds Per Game',\n",
    "                           'Regular Season Basic Team Opponent Stats - Total Rebounds Per Game',\n",
    "                           'Regular Season Basic Team Opponent Stats - Assists Per Game',\n",
    "                           'Regular Season Basic Team Opponent Stats - Steals Per Game',\n",
    "                           'Regular Season Basic Team Opponent Stats - Blocks Per Game',\n",
    "                           'Regular Season Basic Team Opponent Stats - Turnovers Per Game',\n",
    "                           'Regular Season Basic Team Opponent Stats - Personal Fouls Per Game'\n",
    "                          ]\n",
    "\n",
    "\n",
    "list_of_columns_to_derive_indicator_for = []"
   ]
  },
  {
   "cell_type": "code",
   "execution_count": null,
   "id": "7957fb11",
   "metadata": {},
   "outputs": [],
   "source": [
    "nba_team_basic_opponent_stat_in_regular_season_df"
   ]
  },
  {
   "cell_type": "code",
   "execution_count": null,
   "id": "91973c63",
   "metadata": {},
   "outputs": [],
   "source": [
    "# Store with league averages\n",
    "nba_team_basic_opponent_stat_in_regular_season_df_league_average = nba_team_basic_opponent_stat_in_regular_season_df.copy()\n",
    "\n",
    "# Filter out league averages, as it will mess with rankings\n",
    "nba_team_basic_opponent_stat_in_regular_season_df = nba_team_basic_opponent_stat_in_regular_season_df.loc[nba_team_basic_opponent_stat_in_regular_season_df['Regular Season Basic Team Opponent Stats - Team']!='League Average']"
   ]
  },
  {
   "cell_type": "code",
   "execution_count": null,
   "id": "8bb06ebd",
   "metadata": {},
   "outputs": [],
   "source": [
    "# Store old dataframe in case needed\n",
    "nba_team_basic_opponent_stat_in_regular_season_df_before_changes = nba_team_basic_opponent_stat_in_regular_season_df.copy()\n",
    "\n",
    "# Create ranked columns for columns desired to rank\n",
    "nba_team_basic_opponent_stat_in_regular_season_df = rank_column_values(nba_team_basic_opponent_stat_in_regular_season_df,'Regular Season Basic Team Opponent Stats - Year',list_of_columns_to_rank)\n",
    "\n",
    "# Remove columns to exclude:\n",
    "for column in list_of_columns_to_exclude:\n",
    "    \n",
    "    nba_team_basic_opponent_stat_in_regular_season_df.drop(column,axis=1,inplace=True)\n",
    "    \n",
    "# # Encode nominal categorical variables using one-hot encoding\n",
    "# basic_player_stats_regular_season_df = pd.get_dummies(basic_player_stats_regular_season_df, columns=list_of_basic_player_stats_regular_season_df_categorical_to_encode)"
   ]
  },
  {
   "cell_type": "code",
   "execution_count": null,
   "id": "615d82e3",
   "metadata": {
    "scrolled": true
   },
   "outputs": [],
   "source": [
    "nba_team_basic_opponent_stat_in_regular_season_df.head(3)"
   ]
  },
  {
   "cell_type": "markdown",
   "id": "125d7451",
   "metadata": {},
   "source": [
    "## Prep team advanced stats in regular season for machine learning"
   ]
  },
  {
   "cell_type": "code",
   "execution_count": null,
   "id": "83676acc",
   "metadata": {},
   "outputs": [],
   "source": [
    "list_of_categorical_to_encode = []\n",
    "                                                            \n",
    "\n",
    "\n",
    "\n",
    "list_of_columns_to_exclude = ['Regular Season Team Advanced Stats - Rank',\n",
    "                               'Regular Season Team Advanced Stats - Team',\n",
    "                             'Regular Season Team Advanced Stats - Year',\n",
    "                              'Regular Season Team Advanced Stats - Team Name Refined - accounts for players being traded',\n",
    "                              'Regular Season Team Advanced Stats - Standardized/Modernized Team Name',\n",
    "                              'Regular Season Team Advanced Stats - Wins',\n",
    "                              'Regular Season Team Advanced Stats - Losses']\n",
    "\n",
    "\n",
    "list_of_columns_to_rank = [\n",
    "                           'Regular Season Team Advanced Stats - Pythagorean Wins (expected wins based on points scored and allowed)',\n",
    "                           'Regular Season Team Advanced Stats - Pythagorean Losses (expected wins based on points scored and allowed)',\n",
    "                           'Regular Season Team Advanced Stats - Margin of Victory',\n",
    "                           'Regular Season Team Advanced Stats - Simple rating system: derived using average point differential and strength of scheduled',\n",
    "                           'Regular Season Team Advanced Stats - Offensive Rating',\n",
    "                           'Regular Season Team Advanced Stats - Defensive Rating',\n",
    "                           'Regular Season Team Advanced Stats - Net Rating',\n",
    "                           'Regular Season Team Advanced Stats - Pace (Possessions per 48 Minutes)',\n",
    "                            'Regular Season Team Advanced Stats - Average Effective Field Goal % For Season',\n",
    "                            'Regular Season Team Advanced Stats - Defensive Rebounding %',\n",
    "                            'Regular Season Team Advanced Stats - Opponent Effective Field Goal %',\n",
    "                            'Regular Season Team Advanced Stats - Opponent Turnover %',\n",
    "                            'Regular Season Team Advanced Stats - Offensive Rebounding %',\n",
    "                            'Regular Season Team Advanced Stats - Turnover %',\n",
    "                            'Regular Season Team Advanced Stats - Average Player Age'\n",
    "                          ]\n",
    "\n",
    "\n",
    "list_of_columns_to_derive_indicator_for = []"
   ]
  },
  {
   "cell_type": "code",
   "execution_count": null,
   "id": "a26bd1da",
   "metadata": {},
   "outputs": [],
   "source": [
    "nba_advanced_team_stats"
   ]
  },
  {
   "cell_type": "code",
   "execution_count": null,
   "id": "e73afa73",
   "metadata": {},
   "outputs": [],
   "source": [
    "# Store with league averages\n",
    "nba_advanced_team_stats_league_average = nba_advanced_team_stats.copy()\n",
    "\n",
    "# Filter out league averages, as it will mess with rankings\n",
    "nba_advanced_team_stats = nba_advanced_team_stats.loc[nba_advanced_team_stats['Regular Season Team Advanced Stats - Team']!='League Average']"
   ]
  },
  {
   "cell_type": "code",
   "execution_count": null,
   "id": "991498dd",
   "metadata": {
    "scrolled": false
   },
   "outputs": [],
   "source": [
    "# Store old dataframe in case needed\n",
    "nba_advanced_team_stats_before_changes = nba_advanced_team_stats.copy()\n",
    "\n",
    "# Create ranked columns for columns desired to rank\n",
    "nba_advanced_team_stats = rank_column_values(nba_advanced_team_stats,'Regular Season Team Advanced Stats - Year',list_of_columns_to_rank)\n",
    "\n",
    "# Remove columns to exclude:\n",
    "for column in list_of_columns_to_exclude:\n",
    "    \n",
    "    nba_advanced_team_stats.drop(column,axis=1,inplace=True)\n",
    "    \n",
    "# # Encode nominal categorical variables using one-hot encoding\n",
    "# basic_player_stats_regular_season_df = pd.get_dummies(basic_player_stats_regular_season_df, columns=list_of_basic_player_stats_regular_season_df_categorical_to_encode)"
   ]
  },
  {
   "cell_type": "code",
   "execution_count": null,
   "id": "d8961f5e",
   "metadata": {
    "scrolled": true
   },
   "outputs": [],
   "source": [
    "nba_advanced_team_stats.head(3)"
   ]
  },
  {
   "cell_type": "markdown",
   "id": "f09fac10",
   "metadata": {},
   "source": [
    "## Prep team shooting stats in regular season for machine learning"
   ]
  },
  {
   "cell_type": "code",
   "execution_count": null,
   "id": "0440fb52",
   "metadata": {},
   "outputs": [],
   "source": [
    "list_of_categorical_to_encode = []\n",
    "                                                            \n",
    "\n",
    "\n",
    "\n",
    "list_of_columns_to_exclude = ['Regular Season Team Shooting Stats - Rank',\n",
    "                               'Regular Season Team Shooting Stats - Team',\n",
    "                              'Regular Season Team Shooting Stats - Games Played',\n",
    "                             'Regular Season Team Shooting Stats - Year',\n",
    "                              'Regular Season Team Shooting Stats - Total Minutes Played During Season',\n",
    "                              'Regular Season Team Shooting Stats - Team Name Refined - accounts for players being traded',\n",
    "                              'Regular Season Team Shooting Stats - Standardized/Modernized Team Name']\n",
    "\n",
    "\n",
    "list_of_columns_to_rank = [\n",
    "                          ]\n",
    "\n",
    "\n",
    "list_of_columns_to_derive_indicator_for = []"
   ]
  },
  {
   "cell_type": "code",
   "execution_count": null,
   "id": "1ce9929b",
   "metadata": {},
   "outputs": [],
   "source": [
    "nba_team_shooting_stat_in_regular_season_df"
   ]
  },
  {
   "cell_type": "code",
   "execution_count": null,
   "id": "ee45c012",
   "metadata": {},
   "outputs": [],
   "source": [
    "# Store with league averages\n",
    "nba_team_shooting_stat_in_regular_season_df_league_average = nba_team_shooting_stat_in_regular_season_df.copy()\n",
    "\n",
    "# Filter out league averages, as it will mess with rankings\n",
    "nba_team_shooting_stat_in_regular_season_df = nba_team_shooting_stat_in_regular_season_df.loc[nba_team_shooting_stat_in_regular_season_df['Regular Season Team Shooting Stats - Team']!='League Average']"
   ]
  },
  {
   "cell_type": "code",
   "execution_count": null,
   "id": "5ca65b12",
   "metadata": {
    "scrolled": false
   },
   "outputs": [],
   "source": [
    "# Store old dataframe in case needed\n",
    "nba_team_shooting_stat_in_regular_season_df_before_changes = nba_team_shooting_stat_in_regular_season_df.copy()\n",
    "\n",
    "# Create ranked columns for columns desired to rank\n",
    "nba_team_shooting_stat_in_regular_season_df = rank_column_values(nba_team_shooting_stat_in_regular_season_df,'Regular Season Team Shooting Stats - Year',list_of_columns_to_rank)\n",
    "\n",
    "# Remove columns to exclude:\n",
    "for column in list_of_columns_to_exclude:\n",
    "    \n",
    "    nba_team_shooting_stat_in_regular_season_df.drop(column,axis=1,inplace=True)\n",
    "    \n",
    "# # Encode nominal categorical variables using one-hot encoding\n",
    "# basic_player_stats_regular_season_df = pd.get_dummies(basic_player_stats_regular_season_df, columns=list_of_basic_player_stats_regular_season_df_categorical_to_encode)"
   ]
  },
  {
   "cell_type": "code",
   "execution_count": null,
   "id": "02fbbe68",
   "metadata": {
    "scrolled": false
   },
   "outputs": [],
   "source": [
    "nba_team_shooting_stat_in_regular_season_df.head(3)"
   ]
  },
  {
   "cell_type": "markdown",
   "id": "b7cc706a",
   "metadata": {},
   "source": [
    "## Prep team opponent shooting stats in regular season for machine learning"
   ]
  },
  {
   "cell_type": "code",
   "execution_count": null,
   "id": "fc08c8d3",
   "metadata": {},
   "outputs": [],
   "source": [
    "list_of_categorical_to_encode = []\n",
    "                                                            \n",
    "\n",
    "\n",
    "\n",
    "list_of_columns_to_exclude = ['Regular Season Team Opponent Shooting Stats - Rank',\n",
    "                               'Regular Season Team Opponent Shooting Stats - Team',\n",
    "                              'Regular Season Team Opponent Shooting Stats - Games Played',\n",
    "                             'Regular Season Team Opponent Shooting Stats - Year',\n",
    "                              'Regular Season Team Opponent Shooting Stats - Total Minutes Played During Season',\n",
    "                              'Regular Season Team Opponent Shooting Stats - Team Name Refined - accounts for players being traded',\n",
    "                              'Regular Season Team Opponent Shooting Stats - Standardized/Modernized Team Name']\n",
    "\n",
    "\n",
    "list_of_columns_to_rank = [\n",
    "                          ]\n",
    "\n",
    "\n",
    "list_of_columns_to_derive_indicator_for = []"
   ]
  },
  {
   "cell_type": "code",
   "execution_count": null,
   "id": "3c0b1855",
   "metadata": {},
   "outputs": [],
   "source": [
    "nba_team_opponent_shooting_stat_in_regular_season_df"
   ]
  },
  {
   "cell_type": "code",
   "execution_count": null,
   "id": "d66f20d8",
   "metadata": {},
   "outputs": [],
   "source": [
    "# Store with league averages\n",
    "nba_team_opponent_shooting_stat_in_regular_season_df_league_average = nba_team_opponent_shooting_stat_in_regular_season_df.copy()\n",
    "\n",
    "# Filter out league averages, as it will mess with rankings\n",
    "nba_team_opponent_shooting_stat_in_regular_season_df = nba_team_opponent_shooting_stat_in_regular_season_df.loc[nba_team_opponent_shooting_stat_in_regular_season_df['Regular Season Team Opponent Shooting Stats - Team']!='League Average']"
   ]
  },
  {
   "cell_type": "code",
   "execution_count": null,
   "id": "1566a586",
   "metadata": {
    "scrolled": false
   },
   "outputs": [],
   "source": [
    "# Store old dataframe in case needed\n",
    "nba_team_opponent_shooting_stat_in_regular_season_df_before_changes = nba_team_opponent_shooting_stat_in_regular_season_df.copy()\n",
    "\n",
    "# Create ranked columns for columns desired to rank\n",
    "nba_team_opponent_shooting_stat_in_regular_season_df = rank_column_values(nba_team_opponent_shooting_stat_in_regular_season_df,'Regular Season Team Opponent Shooting Stats - Year',list_of_columns_to_rank)\n",
    "\n",
    "# Remove columns to exclude:\n",
    "for column in list_of_columns_to_exclude:\n",
    "    \n",
    "    nba_team_opponent_shooting_stat_in_regular_season_df.drop(column,axis=1,inplace=True)\n",
    "    \n",
    "# # Encode nominal categorical variables using one-hot encoding\n",
    "# basic_player_stats_regular_season_df = pd.get_dummies(basic_player_stats_regular_season_df, columns=list_of_basic_player_stats_regular_season_df_categorical_to_encode)"
   ]
  },
  {
   "cell_type": "code",
   "execution_count": null,
   "id": "479a863e",
   "metadata": {
    "scrolled": false
   },
   "outputs": [],
   "source": [
    "nba_team_opponent_shooting_stat_in_regular_season_df.head(3)"
   ]
  },
  {
   "cell_type": "markdown",
   "id": "87dd76c1",
   "metadata": {},
   "source": [
    "## Prep team regular season standings for machine learning"
   ]
  },
  {
   "cell_type": "code",
   "execution_count": null,
   "id": "9282cece",
   "metadata": {},
   "outputs": [],
   "source": [
    "def win_percent_function(column_value):\n",
    "    \n",
    "    wins = int(column_value.split('-')[0])\n",
    "    \n",
    "    losses = int(column_value.split('-')[1])\n",
    "    \n",
    "    win_loss_percent = wins/(wins+losses)\n",
    "    \n",
    "    return win_loss_percent"
   ]
  },
  {
   "cell_type": "code",
   "execution_count": null,
   "id": "2d93d516",
   "metadata": {},
   "outputs": [],
   "source": [
    "list_of_columns_to_apply_function_to = ['Regular Season Team Standings - Overall Team Record',\n",
    "                                        'Regular Season Team Standings - Team Record at Home',\n",
    "                                        'Regular Season Team Standings - Team Record on Road',\n",
    "                                        'Regular Season Team Standings - Team Record Pre All Star Break',\n",
    "                                        'Regular Season Team Standings - Team Record Post All Star Break',\n",
    "                                        'Regular Season Team Standings - Team Record in Games Decided by 3 points or under',\n",
    "                                        'Regular Season Team Standings - Team Record in Games Decided by 10 points or over'\n",
    "                                       ]\n",
    "\n",
    "for column in list_of_columns_to_apply_function_to:\n",
    "    \n",
    "    regular_season_standing_df[column] = regular_season_standing_df[column].apply(win_percent_function)\n",
    "    "
   ]
  },
  {
   "cell_type": "code",
   "execution_count": null,
   "id": "680b9fe3",
   "metadata": {},
   "outputs": [],
   "source": [
    "regular_season_standing_df\n"
   ]
  },
  {
   "cell_type": "code",
   "execution_count": null,
   "id": "c3cce2c3",
   "metadata": {},
   "outputs": [],
   "source": [
    "list_of_categorical_to_encode = []\n",
    "                                                            \n",
    "\n",
    "\n",
    "\n",
    "list_of_columns_to_exclude = ['Regular Season Team Standings - Rank',\n",
    "                               'Regular Season Team Standings - Team',\n",
    "                             'Regular Season Team Standings - Year',\n",
    "                              'Regular Season Team Standings - Team Name Refined - accounts for players being traded',\n",
    "                              'Regular Season Team Standings - Standardized/Modernized Team Name']\n",
    "\n",
    "\n",
    "list_of_columns_to_rank = ['Regular Season Team Standings - Overall Team Record',\n",
    "                           'Regular Season Team Standings - Team Record at Home',\n",
    "                           'Regular Season Team Standings - Team Record on Road',\n",
    "                           'Regular Season Team Standings - Team Record Pre All Star Break',\n",
    "                           'Regular Season Team Standings - Team Record Post All Star Break',\n",
    "                           'Regular Season Team Standings - Team Record in Games Decided by 3 points or under',\n",
    "                           'Regular Season Team Standings - Team Record in Games Decided by 10 points or over'\n",
    "                          ]\n",
    "\n",
    "\n",
    "list_of_columns_to_derive_indicator_for = []"
   ]
  },
  {
   "cell_type": "code",
   "execution_count": null,
   "id": "527a3893",
   "metadata": {
    "scrolled": false
   },
   "outputs": [],
   "source": [
    "# Store old dataframe in case needed\n",
    "regular_season_standing_df_before_changes = regular_season_standing_df.copy()\n",
    "\n",
    "# Create ranked columns for columns desired to rank\n",
    "regular_season_standing_df = rank_column_values(regular_season_standing_df,'Regular Season Team Standings - Year',list_of_columns_to_rank)\n",
    "\n",
    "# Remove columns to exclude:\n",
    "for column in list_of_columns_to_exclude:\n",
    "    \n",
    "    regular_season_standing_df.drop(column,axis=1,inplace=True)\n",
    "    \n",
    "# # Encode nominal categorical variables using one-hot encoding\n",
    "# basic_player_stats_regular_season_df = pd.get_dummies(basic_player_stats_regular_season_df, columns=list_of_basic_player_stats_regular_season_df_categorical_to_encode)"
   ]
  },
  {
   "cell_type": "code",
   "execution_count": null,
   "id": "c9e18408",
   "metadata": {
    "scrolled": false
   },
   "outputs": [],
   "source": [
    "regular_season_standing_df.head(3)"
   ]
  },
  {
   "cell_type": "markdown",
   "id": "802d662a",
   "metadata": {},
   "source": [
    "# Stage 7.) Merge Dataframes"
   ]
  },
  {
   "cell_type": "markdown",
   "id": "46170f4e",
   "metadata": {},
   "source": [
    "#  REGULAR SEASON PLAYER STATS MERGE. Create merged dataframe\n",
    "\n",
    " <a class=\"anchor\" id=\"Step32\"></a>"
   ]
  },
  {
   "cell_type": "markdown",
   "id": "f7a75b26",
   "metadata": {},
   "source": [
    "### Merge basic with advanced stats"
   ]
  },
  {
   "cell_type": "code",
   "execution_count": null,
   "id": "6d2c3b32",
   "metadata": {},
   "outputs": [],
   "source": [
    "number_of_columns_before = len(basic_player_stats_regular_season_df.columns)\n",
    "\n",
    "all_regular_season_player_stats_merged_df = basic_player_stats_regular_season_df.merge(advanced_player_stats_in_regular_season_df,how='left',on='Player_unique_id_and_year_concat')\n",
    "\n",
    "number_of_columns_after = len(all_regular_season_player_stats_merged_df.columns)\n",
    "\n",
    "print(f\"\"\"Went from {number_of_columns_before} columns to {number_of_columns_after} columns.\n",
    "      \n",
    "Added {number_of_columns_after-number_of_columns_before}\"\"\")"
   ]
  },
  {
   "cell_type": "markdown",
   "id": "5be35223",
   "metadata": {},
   "source": [
    "### Add player shooting stats"
   ]
  },
  {
   "cell_type": "code",
   "execution_count": null,
   "id": "cd5caf39",
   "metadata": {},
   "outputs": [],
   "source": [
    "number_of_columns_before = len(all_regular_season_player_stats_merged_df.columns)\n",
    "\n",
    "all_regular_season_player_stats_merged_df = all_regular_season_player_stats_merged_df.merge(player_shooting_in_regular_season_df,how='left',on='Player_unique_id_and_year_concat')\n",
    "\n",
    "number_of_columns_after = len(all_regular_season_player_stats_merged_df.columns)\n",
    "\n",
    "print(f\"\"\"Went from {number_of_columns_before} columns to {number_of_columns_after} columns.\n",
    "      \n",
    "Added {number_of_columns_after-number_of_columns_before}\"\"\")"
   ]
  },
  {
   "cell_type": "markdown",
   "id": "3a7ef571",
   "metadata": {},
   "source": [
    "### Add player play-by-play stats"
   ]
  },
  {
   "cell_type": "code",
   "execution_count": null,
   "id": "a42b5262",
   "metadata": {},
   "outputs": [],
   "source": [
    "number_of_columns_before = len(all_regular_season_player_stats_merged_df.columns)\n",
    "\n",
    "all_regular_season_player_stats_merged_df = all_regular_season_player_stats_merged_df.merge(player_play_by_play_in_regular_season_df,how='left',on='Player_unique_id_and_year_concat')\n",
    "\n",
    "number_of_columns_after = len(all_regular_season_player_stats_merged_df.columns)\n",
    "\n",
    "print(f\"\"\"Went from {number_of_columns_before} columns to {number_of_columns_after} columns.\n",
    "      \n",
    "Added {number_of_columns_after-number_of_columns_before}\"\"\")"
   ]
  },
  {
   "cell_type": "markdown",
   "id": "d0f53ee0",
   "metadata": {},
   "source": [
    "# REGULAR SEASON TEAM STATS MERGE\n",
    "\n",
    " <a class=\"anchor\" id=\"Step33\"></a>"
   ]
  },
  {
   "cell_type": "markdown",
   "id": "c7584619",
   "metadata": {},
   "source": [
    "### Merge regular season basic stats for team with regular season basic stats for opponents"
   ]
  },
  {
   "cell_type": "code",
   "execution_count": null,
   "id": "6dee04bb",
   "metadata": {},
   "outputs": [],
   "source": [
    "number_of_columns_before = len(nba_team_basic_stat_in_regular_season_df.columns)\n",
    "\n",
    "all_regular_season_team_stats_merged_df = nba_team_basic_stat_in_regular_season_df.merge(nba_team_basic_opponent_stat_in_regular_season_df,how='left',on='Team_name_and_year_concat')\n",
    "\n",
    "number_of_columns_after = len(all_regular_season_team_stats_merged_df.columns)\n",
    "\n",
    "print(f\"\"\"Went from {number_of_columns_before} columns to {number_of_columns_after} columns.\n",
    "      \n",
    "Added {number_of_columns_after-number_of_columns_before}\"\"\")"
   ]
  },
  {
   "cell_type": "markdown",
   "id": "c4705db6",
   "metadata": {},
   "source": [
    "### Add regular season advanced team stats"
   ]
  },
  {
   "cell_type": "code",
   "execution_count": null,
   "id": "93f3755b",
   "metadata": {},
   "outputs": [],
   "source": [
    "number_of_columns_before = len(all_regular_season_team_stats_merged_df.columns)\n",
    "\n",
    "all_regular_season_team_stats_merged_df = all_regular_season_team_stats_merged_df.merge(nba_advanced_team_stats,how='left',on='Team_name_and_year_concat')\n",
    "\n",
    "number_of_columns_after = len(all_regular_season_team_stats_merged_df.columns)\n",
    "\n",
    "print(f\"\"\"Went from {number_of_columns_before} columns to {number_of_columns_after} columns.\n",
    "      \n",
    "Added {number_of_columns_after-number_of_columns_before}\"\"\")"
   ]
  },
  {
   "cell_type": "markdown",
   "id": "ad49938b",
   "metadata": {},
   "source": [
    "### Add regular season team shooting stats"
   ]
  },
  {
   "cell_type": "code",
   "execution_count": null,
   "id": "1c665ac9",
   "metadata": {},
   "outputs": [],
   "source": [
    "number_of_columns_before = len(all_regular_season_team_stats_merged_df.columns)\n",
    "\n",
    "all_regular_season_team_stats_merged_df = all_regular_season_team_stats_merged_df.merge(nba_team_shooting_stat_in_regular_season_df,how='left',on='Team_name_and_year_concat')\n",
    "\n",
    "number_of_columns_after = len(all_regular_season_team_stats_merged_df.columns)\n",
    "\n",
    "print(f\"\"\"Went from {number_of_columns_before} columns to {number_of_columns_after} columns.\n",
    "      \n",
    "Added {number_of_columns_after-number_of_columns_before}\"\"\")"
   ]
  },
  {
   "cell_type": "markdown",
   "id": "c2039a98",
   "metadata": {},
   "source": [
    "### Add regular season team opponent shooting stats"
   ]
  },
  {
   "cell_type": "code",
   "execution_count": null,
   "id": "0785ee18",
   "metadata": {},
   "outputs": [],
   "source": [
    "number_of_columns_before = len(all_regular_season_team_stats_merged_df.columns)\n",
    "\n",
    "all_regular_season_team_stats_merged_df = all_regular_season_team_stats_merged_df.merge(nba_team_opponent_shooting_stat_in_regular_season_df,how='left',on='Team_name_and_year_concat')\n",
    "\n",
    "number_of_columns_after = len(all_regular_season_team_stats_merged_df.columns)\n",
    "\n",
    "print(f\"\"\"Went from {number_of_columns_before} columns to {number_of_columns_after} columns.\n",
    "      \n",
    "Added {number_of_columns_after-number_of_columns_before}\"\"\")"
   ]
  },
  {
   "cell_type": "markdown",
   "id": "b7992025",
   "metadata": {},
   "source": [
    "### Add regular season team standings"
   ]
  },
  {
   "cell_type": "code",
   "execution_count": null,
   "id": "088cf02d",
   "metadata": {},
   "outputs": [],
   "source": [
    "number_of_columns_before = len(all_regular_season_team_stats_merged_df.columns)\n",
    "\n",
    "all_regular_season_team_stats_merged_df = all_regular_season_team_stats_merged_df.merge(regular_season_standing_df,how='left',on='Team_name_and_year_concat')\n",
    "\n",
    "number_of_columns_after = len(all_regular_season_team_stats_merged_df.columns)\n",
    "\n",
    "print(f\"\"\"Went from {number_of_columns_before} columns to {number_of_columns_after} columns.\n",
    "      \n",
    "Added {number_of_columns_after-number_of_columns_before}\"\"\")"
   ]
  },
  {
   "cell_type": "markdown",
   "id": "0ea1c2ca",
   "metadata": {},
   "source": [
    "# Remove 2024 data that is used for predicting, not training "
   ]
  },
  {
   "cell_type": "code",
   "execution_count": null,
   "id": "3a109dd4",
   "metadata": {},
   "outputs": [],
   "source": [
    "all_regular_season_player_stats_merged_df_2024 = all_regular_season_player_stats_merged_df.loc[all_regular_season_player_stats_merged_df['Regular Season Basic Player Stats - Year']==2024].copy()\n",
    "all_regular_season_player_stats_merged_df = all_regular_season_player_stats_merged_df.loc[all_regular_season_player_stats_merged_df['Regular Season Basic Player Stats - Year']!=2024]\n",
    "\n",
    "all_regular_season_player_stats_merged_df_2024_final = all_regular_season_player_stats_merged_df_2024.copy()"
   ]
  },
  {
   "cell_type": "code",
   "execution_count": null,
   "id": "d3e7f97d",
   "metadata": {},
   "outputs": [],
   "source": [
    "all_regular_season_team_stats_merged_df_2024 = all_regular_season_team_stats_merged_df.loc[all_regular_season_team_stats_merged_df['Regular Season Basic Team Stats - Year']==2024].copy()\n",
    "all_regular_season_team_stats_merged_df = all_regular_season_team_stats_merged_df.loc[all_regular_season_team_stats_merged_df['Regular Season Basic Team Stats - Year']!=2024]\n"
   ]
  },
  {
   "cell_type": "code",
   "execution_count": null,
   "id": "6c8b29af",
   "metadata": {},
   "outputs": [],
   "source": [
    "all_regular_season_team_stats_merged_df_2024"
   ]
  },
  {
   "cell_type": "markdown",
   "id": "0157a926",
   "metadata": {},
   "source": [
    "# Predicting MVP - Machine Learning Model Using GBM\n",
    " <a class=\"anchor\" id=\"Step34\"></a>"
   ]
  },
  {
   "cell_type": "markdown",
   "id": "c78728e8",
   "metadata": {},
   "source": [
    "## Create dataset to analyze\n",
    "    \n",
    "###    1.) Merge regular season player stats with player mvp vote data \n",
    "\n",
    "###    2.) Merge the above data set with team data"
   ]
  },
  {
   "cell_type": "code",
   "execution_count": null,
   "id": "46470d0d",
   "metadata": {},
   "outputs": [],
   "source": [
    "mvp_prediction_df = all_regular_season_player_stats_merged_df.merge(mvp_vote_df,how='left',on='Player_unique_id_and_year_concat')"
   ]
  },
  {
   "cell_type": "code",
   "execution_count": null,
   "id": "e317d3c6",
   "metadata": {},
   "outputs": [],
   "source": [
    "mvp_prediction_df = mvp_prediction_df.merge(all_regular_season_team_stats_merged_df,how='left',on='Team_name_and_year_concat')"
   ]
  },
  {
   "cell_type": "code",
   "execution_count": null,
   "id": "6f11232e",
   "metadata": {},
   "outputs": [],
   "source": [
    "mvp_prediction_df.head(10)"
   ]
  },
  {
   "cell_type": "markdown",
   "id": "b521bc25",
   "metadata": {},
   "source": [
    "## Define list of features (exclude data not to be used in prediction) "
   ]
  },
  {
   "cell_type": "code",
   "execution_count": null,
   "id": "91420166",
   "metadata": {},
   "outputs": [],
   "source": [
    "list_of_columns_to_exclude = ['Regular Season Basic Player Stats - Player',\n",
    "                              'Regular Season Basic Team Stats - Team',\n",
    "                             'Regular Season Basic Player Stats - Team',\n",
    "                             'Regular Season Basic Player Stats - Standardized/Modernized Team Name',\n",
    "                             'Player_unique_id_and_year_concat',\n",
    "                              'Regular Season Basic Player Stats - Year',\n",
    "                             'Team_name_and_year_concat',\n",
    "                             'Regular Season Basic Team Stats - Games Played',\n",
    "                             'Regular Season Basic Team Opponent Stats - Games Played',\n",
    "                             'Regular Season Team Advanced Stats - Arena',\n",
    "                             'Regular Season Team Advanced Stats - Total Arena Attendance',\n",
    "                             'Regular Season Team Advanced Stats - Attendance Per Game',\n",
    "                            'MVP Vote Results - Total Voting Points Possible',\n",
    "                              'MVP Vote Results - Total Voting Points Won',\n",
    "                               'MVP Vote Results - First Place Votes',\n",
    "                              'MVP Vote Results - MVP Result Indicator',\n",
    "                              'Regular Season Basic Team Stats - Year'\n",
    "                             ]\n",
    "\n",
    "list_of_features = list(mvp_prediction_df.columns)\n",
    "\n",
    "for column in list_of_columns_to_exclude:\n",
    "    \n",
    "    list_of_features.remove(column)\n",
    "    \n",
    "for feature in list_of_features:\n",
    "    \n",
    "    print(f\"\"\"\n",
    "    {feature}\"\"\")"
   ]
  },
  {
   "cell_type": "markdown",
   "id": "01adbaa1",
   "metadata": {},
   "source": [
    "## Check for NaN values and review"
   ]
  },
  {
   "cell_type": "code",
   "execution_count": null,
   "id": "48538547",
   "metadata": {},
   "outputs": [],
   "source": [
    "for feature in list_of_features:\n",
    "    \n",
    "    if len(mvp_prediction_df.loc[mvp_prediction_df[feature].isnull()]) > 0:\n",
    "        \n",
    "        mvp_prediction_df.loc[mvp_prediction_df[feature].isnull(),feature] = 0\n",
    "        \n",
    "        print(f\"\"\"\n",
    "        {feature} contains {len(mvp_prediction_df.loc[mvp_prediction_df[feature].isnull()])} NaN values \"\"\")"
   ]
  },
  {
   "cell_type": "markdown",
   "id": "e5ef08f5",
   "metadata": {},
   "source": [
    "## Split into test and training data"
   ]
  },
  {
   "cell_type": "code",
   "execution_count": null,
   "id": "b9003b06",
   "metadata": {},
   "outputs": [],
   "source": [
    "list_of_features_filtered = ['Regular Season Advanced Player Stats - Total Minutes Played During Season',\n",
    "                           'Regular Season Advanced Player Stats - Player Efficiency',\n",
    "                           'Regular Season Advanced Player Stats - True Shooting % For Season',\n",
    "                           'Regular Season Advanced Player Stats - 3 Point Attempt Rate',\n",
    "                           'Regular Season Advanced Player Stats - Free Throw Rate for Season',\n",
    "                           'Regular Season Advanced Player Stats - Offensive Rebounding %',\n",
    "                           'Regular Season Advanced Player Stats - Defensive Rebound Percentage',\n",
    "                           'Regular Season Advanced Player Stats - Total Rebounding %',\n",
    "                           'Regular Season Advanced Player Stats - Assist % For Season',\n",
    "                           'Regular Season Advanced Player Stats - Steal Percentage for Season',\n",
    "                           'Regular Season Advanced Player Stats - Block %',\n",
    "                           'Regular Season Advanced Player Stats - Turnover % for Season',\n",
    "                           'Regular Season Advanced Player Stats - Usage % For Season',\n",
    "                           'Regular Season Advanced Player Stats - Total Offensive Win Shares For Season',\n",
    "                           'Regular Season Advanced Player Stats - Total Defensive Win Shares For Season',\n",
    "                           'Regular Season Advanced Player Stats - Win Shares',\n",
    "                           'Regular Season Advanced Player Stats - Win Shares Per 48 Minutes Played For the Season',\n",
    "                           'Regular Season Advanced Player Stats - Offensive Box Plus/Minus For Season',\n",
    "                           'Regular Season Advanced Player Stats - Defensive Box Plus/Minus',\n",
    "                           'Regular Season Advanced Player Stats - Box Plus/Minus For Season',\n",
    "                           'Regular Season Advanced Player Stats - Value Above Replacement Player',\n",
    "                           'Regular Season Advanced Player Stats - Player Efficiency Ranked',\n",
    "                           'Regular Season Advanced Player Stats - True Shooting % For Season Ranked',\n",
    "                           'Regular Season Advanced Player Stats - Offensive Rebounding % Ranked',\n",
    "                           'Regular Season Advanced Player Stats - Defensive Rebound Percentage Ranked',\n",
    "                           'Regular Season Advanced Player Stats - Total Rebounding % Ranked',\n",
    "                           'Regular Season Advanced Player Stats - Assist % For Season Ranked',\n",
    "                           'Regular Season Advanced Player Stats - Steal Percentage for Season Ranked',\n",
    "                           'Regular Season Advanced Player Stats - Block % Ranked',\n",
    "                           'Regular Season Advanced Player Stats - Turnover % for Season Ranked',\n",
    "                           'Regular Season Advanced Player Stats - Usage % For Season Ranked',\n",
    "                           'Regular Season Advanced Player Stats - Total Offensive Win Shares For Season Ranked',\n",
    "                           'Regular Season Advanced Player Stats - Total Defensive Win Shares For Season Ranked',\n",
    "                           'Regular Season Advanced Player Stats - Win Shares Ranked',\n",
    "                           'Regular Season Advanced Player Stats - Win Shares Per 48 Minutes Played For the Season Ranked',\n",
    "                           'Regular Season Advanced Player Stats - Offensive Box Plus/Minus For Season Ranked',\n",
    "                           'Regular Season Advanced Player Stats - Defensive Box Plus/Minus Ranked',\n",
    "                           'Regular Season Advanced Player Stats - Box Plus/Minus For Season Ranked',\n",
    "                           'Regular Season Advanced Player Stats - Value Above Replacement Player Ranked',\n",
    "                            'Regular Season Team Standings - Overall Team Record Ranked',\n",
    "                            'Regular Season Team Standings - Overall Team Record',\n",
    "                            'MVP Vote Results - % of Total Voting Points Possible That Were Won']"
   ]
  },
  {
   "cell_type": "code",
   "execution_count": null,
   "id": "c2aeacb3",
   "metadata": {},
   "outputs": [],
   "source": [
    "mvp_prediction_df_features = mvp_prediction_df.loc[:,list_of_features_filtered]\n",
    "\n",
    "# Separate features and target variable\n",
    "X = mvp_prediction_df_features.drop('MVP Vote Results - % of Total Voting Points Possible That Were Won', axis=1)\n",
    "y = mvp_prediction_df_features['MVP Vote Results - % of Total Voting Points Possible That Were Won']  \n",
    "\n",
    "# Split data into training and testing sets\n",
    "X_train, X_test, y_train, y_test = train_test_split(X, y, test_size=0.2, random_state=42)"
   ]
  },
  {
   "cell_type": "markdown",
   "id": "b5a7c859",
   "metadata": {},
   "source": [
    "## Initialize and Train the GBM Model"
   ]
  },
  {
   "cell_type": "code",
   "execution_count": null,
   "id": "f97cf0ef",
   "metadata": {},
   "outputs": [],
   "source": [
    "# Initialize the GBM regressor\n",
    "gbm_regressor = GradientBoostingRegressor(n_estimators=100, learning_rate=0.1, max_depth=3, random_state=42)\n",
    "\n",
    "# Train the model\n",
    "gbm_regressor.fit(X_train, y_train)"
   ]
  },
  {
   "cell_type": "markdown",
   "id": "2bdf3936",
   "metadata": {},
   "source": [
    "## Make Predictions and Evaluate the Model"
   ]
  },
  {
   "cell_type": "code",
   "execution_count": null,
   "id": "a3ceb16d",
   "metadata": {
    "scrolled": true
   },
   "outputs": [],
   "source": [
    "# Make predictions\n",
    "y_pred = gbm_regressor.predict(X_test)\n",
    "\n",
    "# Evaluate the model\n",
    "mse = mean_squared_error(y_test, y_pred)\n",
    "r2 = r2_score(y_test, y_pred)\n",
    "\n",
    "print(f'Mean Squared Error: {mse}')\n",
    "print(f'R^2 Score: {r2}')"
   ]
  },
  {
   "cell_type": "markdown",
   "id": "94b68ada",
   "metadata": {},
   "source": [
    "## Evaluate feature importance"
   ]
  },
  {
   "cell_type": "code",
   "execution_count": null,
   "id": "7e6d3326",
   "metadata": {},
   "outputs": [],
   "source": [
    "feature_importance = pd.DataFrame(gbm_regressor.feature_importances_, index=X_train.columns, columns=['importance']).sort_values('importance', ascending=False)\n",
    "\n",
    "feature_importance.head(10)"
   ]
  },
  {
   "cell_type": "markdown",
   "id": "8d4c000b",
   "metadata": {},
   "source": [
    "### Populate prediction dataframe with predictions"
   ]
  },
  {
   "cell_type": "code",
   "execution_count": null,
   "id": "2f53061a",
   "metadata": {},
   "outputs": [],
   "source": [
    "# Predict the percentage of 1st place votes for all players\n",
    "predicted_votes = gbm_regressor.predict(mvp_prediction_df_features.drop('MVP Vote Results - % of Total Voting Points Possible That Were Won', axis=1))\n",
    "\n",
    "# Add the predicted votes to the DataFrame\n",
    "mvp_prediction_df.loc[:,'Predicted Votes'] = predicted_votes"
   ]
  },
  {
   "cell_type": "code",
   "execution_count": null,
   "id": "524213f9",
   "metadata": {
    "scrolled": true
   },
   "outputs": [],
   "source": [
    "mvp_prediction_df.loc[:,['Regular Season Team Standings - Overall Team Record','Regular Season Basic Player Stats - Player','MVP Vote Results - % of Total Voting Points Possible That Were Won','Predicted Votes']].sort_values('Predicted Votes',ascending=False).head(200)"
   ]
  },
  {
   "cell_type": "code",
   "execution_count": null,
   "id": "69a1c577",
   "metadata": {},
   "outputs": [],
   "source": [
    "mvp_prediction_df['Actual Vote - Predicted'] = mvp_prediction_df['MVP Vote Results - % of Total Voting Points Possible That Were Won'] - mvp_prediction_df['Predicted Votes']\n",
    "mvp_prediction_df.loc[:,['Regular Season Team Standings - Overall Team Record','Regular Season Basic Player Stats - Player','MVP Vote Results - % of Total Voting Points Possible That Were Won','Predicted Votes','Actual Vote - Predicted','Team_name_and_year_concat']].sort_values('Actual Vote - Predicted',ascending=True).head(200)"
   ]
  },
  {
   "cell_type": "code",
   "execution_count": null,
   "id": "bec49706",
   "metadata": {},
   "outputs": [],
   "source": [
    "mvp_prediction_df['Predicted MVP Candidate'] = np.nan\n",
    "mvp_prediction_df['Predicted MVP Winner'] = np.nan\n",
    "\n",
    "for year in list(mvp_prediction_df['Regular Season Basic Player Stats - Year'].unique()):\n",
    "    \n",
    "    year_subset = mvp_prediction_df.loc[mvp_prediction_df['Regular Season Basic Player Stats - Year']==year]\n",
    "    \n",
    "    # Sort by Predicted Votes and Grab top 10 predicted \n",
    "    year_subset = year_subset.sort_values('Predicted Votes',ascending=False).head(15)\n",
    "    \n",
    "    # Populate grab indices and populate in mvp_prediction_df\n",
    "    mvp_prediction_df.loc[year_subset.index.tolist(),'Predicted MVP Candidate'] = 1\n",
    "    \n",
    "    # Grab just predicted MVP\n",
    "    year_subset = year_subset.head(1)\n",
    "    \n",
    "    # Populate predicted mvp at index\n",
    "    mvp_prediction_df.loc[year_subset.index.tolist(),'Predicted MVP Winner'] = 1"
   ]
  },
  {
   "cell_type": "code",
   "execution_count": null,
   "id": "309cd3f0",
   "metadata": {},
   "outputs": [],
   "source": [
    "all_regular_season_player_stats_merged_df['Predicted MVP Candidate'] = np.nan\n",
    "all_regular_season_player_stats_merged_df['Predicted MVP Winner'] = np.nan\n",
    "all_regular_season_player_stats_merged_df['Predicted % of MVP Votes'] = np.nan\n",
    "\n",
    "all_regular_season_player_stats_merged_df.loc[mvp_prediction_df.loc[mvp_prediction_df['Predicted MVP Candidate'].notnull()].index.tolist(),'Predicted MVP Candidate'] = mvp_prediction_df['Predicted MVP Candidate']\n",
    "all_regular_season_player_stats_merged_df.loc[mvp_prediction_df.loc[mvp_prediction_df['Predicted MVP Winner'].notnull()].index.tolist(),'Predicted MVP Winner'] = mvp_prediction_df['Predicted MVP Winner']\n",
    "all_regular_season_player_stats_merged_df.loc[mvp_prediction_df.loc[mvp_prediction_df['Predicted Votes'].notnull()].index.tolist(),'Predicted % of MVP Votes'] = mvp_prediction_df['Predicted Votes']"
   ]
  },
  {
   "cell_type": "code",
   "execution_count": null,
   "id": "c15af23b",
   "metadata": {},
   "outputs": [],
   "source": [
    "all_regular_season_player_stats_merged_df.loc[all_regular_season_player_stats_merged_df['Predicted MVP Winner'].notnull()].head(10)"
   ]
  },
  {
   "cell_type": "markdown",
   "id": "a712e3e4",
   "metadata": {},
   "source": [
    "# Predict 2024 MVP"
   ]
  },
  {
   "cell_type": "markdown",
   "id": "4f7fe880",
   "metadata": {},
   "source": [
    "## Prep the 2024 Data"
   ]
  },
  {
   "cell_type": "code",
   "execution_count": null,
   "id": "90f23f20",
   "metadata": {},
   "outputs": [],
   "source": [
    "mvp_2024_prediction_df = all_regular_season_player_stats_merged_df_2024.merge(all_regular_season_team_stats_merged_df_2024,how='left',on='Team_name_and_year_concat').set_index(all_regular_season_player_stats_merged_df_2024.index)"
   ]
  },
  {
   "cell_type": "code",
   "execution_count": null,
   "id": "2921c1f3",
   "metadata": {},
   "outputs": [],
   "source": [
    "columns_to_multiply = ['Regular Season Basic Player Stats - Games Played',\n",
    "                      'Regular Season Basic Player Stats - Games Started',\n",
    "                      'Regular Season Advanced Player Stats - Total Offensive Win Shares For Season',\n",
    "                      'Regular Season Advanced Player Stats - Total Defensive Win Shares For Season',\n",
    "                      'Regular Season Advanced Player Stats - Win Shares',\n",
    "                      'Regular Season Advanced Player Stats - Value Above Replacement Player']\n",
    "\n",
    "multiplier = 82/68\n",
    "\n",
    "for column in columns_to_multiply:\n",
    "    \n",
    "    mvp_2024_prediction_df[column] = mvp_2024_prediction_df[column]*multiplier"
   ]
  },
  {
   "cell_type": "markdown",
   "id": "6d79a9b3",
   "metadata": {},
   "source": [
    "### Define list of features (exclude data not to be used in prediction) "
   ]
  },
  {
   "cell_type": "code",
   "execution_count": null,
   "id": "d3f5a340",
   "metadata": {},
   "outputs": [],
   "source": [
    "list_of_columns_to_exclude = ['Regular Season Basic Player Stats - Player',\n",
    "                              'Regular Season Basic Team Stats - Team',\n",
    "                             'Regular Season Basic Player Stats - Team',\n",
    "                             'Regular Season Basic Player Stats - Standardized/Modernized Team Name',\n",
    "                             'Player_unique_id_and_year_concat',\n",
    "                              'Regular Season Basic Player Stats - Year',\n",
    "                             'Team_name_and_year_concat',\n",
    "                             'Regular Season Basic Team Stats - Games Played',\n",
    "                             'Regular Season Basic Team Opponent Stats - Games Played',\n",
    "                             'Regular Season Team Advanced Stats - Arena',\n",
    "                             'Regular Season Team Advanced Stats - Total Arena Attendance',\n",
    "                             'Regular Season Team Advanced Stats - Attendance Per Game',\n",
    "                              'Regular Season Basic Team Stats - Year'\n",
    "                             ]\n",
    "\n",
    "list_of_features = list(mvp_2024_prediction_df.columns)\n",
    "\n",
    "for column in list_of_columns_to_exclude:\n",
    "    \n",
    "    list_of_features.remove(column)\n",
    "    \n",
    "for feature in list_of_features:\n",
    "    \n",
    "    print(f\"\"\"\n",
    "    {feature}\"\"\")"
   ]
  },
  {
   "cell_type": "markdown",
   "id": "3644ff7f",
   "metadata": {},
   "source": [
    "### Check for NaN values and review"
   ]
  },
  {
   "cell_type": "code",
   "execution_count": null,
   "id": "74135f24",
   "metadata": {},
   "outputs": [],
   "source": [
    "for feature in list_of_features:\n",
    "    \n",
    "    if len(mvp_2024_prediction_df.loc[mvp_2024_prediction_df[feature].isnull()]) > 0:\n",
    "        \n",
    "        mvp_2024_prediction_df.loc[mvp_2024_prediction_df[feature].isnull(),feature] = 0\n",
    "        \n",
    "        print(f\"\"\"\n",
    "        {feature} contains {len(mvp_2024_prediction_df.loc[mvp_2024_prediction_df[feature].isnull()])} NaN values \"\"\")"
   ]
  },
  {
   "cell_type": "markdown",
   "id": "cef603b4",
   "metadata": {},
   "source": [
    "### Split into test and training data"
   ]
  },
  {
   "cell_type": "code",
   "execution_count": null,
   "id": "0c231855",
   "metadata": {},
   "outputs": [],
   "source": [
    "list_of_features_filtered = ['Regular Season Advanced Player Stats - Total Minutes Played During Season',\n",
    "                           'Regular Season Advanced Player Stats - Player Efficiency',\n",
    "                           'Regular Season Advanced Player Stats - True Shooting % For Season',\n",
    "                           'Regular Season Advanced Player Stats - 3 Point Attempt Rate',\n",
    "                           'Regular Season Advanced Player Stats - Free Throw Rate for Season',\n",
    "                           'Regular Season Advanced Player Stats - Offensive Rebounding %',\n",
    "                           'Regular Season Advanced Player Stats - Defensive Rebound Percentage',\n",
    "                           'Regular Season Advanced Player Stats - Total Rebounding %',\n",
    "                           'Regular Season Advanced Player Stats - Assist % For Season',\n",
    "                           'Regular Season Advanced Player Stats - Steal Percentage for Season',\n",
    "                           'Regular Season Advanced Player Stats - Block %',\n",
    "                           'Regular Season Advanced Player Stats - Turnover % for Season',\n",
    "                           'Regular Season Advanced Player Stats - Usage % For Season',\n",
    "                           'Regular Season Advanced Player Stats - Total Offensive Win Shares For Season',\n",
    "                           'Regular Season Advanced Player Stats - Total Defensive Win Shares For Season',\n",
    "                           'Regular Season Advanced Player Stats - Win Shares',\n",
    "                           'Regular Season Advanced Player Stats - Win Shares Per 48 Minutes Played For the Season',\n",
    "                           'Regular Season Advanced Player Stats - Offensive Box Plus/Minus For Season',\n",
    "                           'Regular Season Advanced Player Stats - Defensive Box Plus/Minus',\n",
    "                           'Regular Season Advanced Player Stats - Box Plus/Minus For Season',\n",
    "                           'Regular Season Advanced Player Stats - Value Above Replacement Player',\n",
    "                           'Regular Season Advanced Player Stats - Player Efficiency Ranked',\n",
    "                           'Regular Season Advanced Player Stats - True Shooting % For Season Ranked',\n",
    "                           'Regular Season Advanced Player Stats - Offensive Rebounding % Ranked',\n",
    "                           'Regular Season Advanced Player Stats - Defensive Rebound Percentage Ranked',\n",
    "                           'Regular Season Advanced Player Stats - Total Rebounding % Ranked',\n",
    "                           'Regular Season Advanced Player Stats - Assist % For Season Ranked',\n",
    "                           'Regular Season Advanced Player Stats - Steal Percentage for Season Ranked',\n",
    "                           'Regular Season Advanced Player Stats - Block % Ranked',\n",
    "                           'Regular Season Advanced Player Stats - Turnover % for Season Ranked',\n",
    "                           'Regular Season Advanced Player Stats - Usage % For Season Ranked',\n",
    "                           'Regular Season Advanced Player Stats - Total Offensive Win Shares For Season Ranked',\n",
    "                           'Regular Season Advanced Player Stats - Total Defensive Win Shares For Season Ranked',\n",
    "                           'Regular Season Advanced Player Stats - Win Shares Ranked',\n",
    "                           'Regular Season Advanced Player Stats - Win Shares Per 48 Minutes Played For the Season Ranked',\n",
    "                           'Regular Season Advanced Player Stats - Offensive Box Plus/Minus For Season Ranked',\n",
    "                           'Regular Season Advanced Player Stats - Defensive Box Plus/Minus Ranked',\n",
    "                           'Regular Season Advanced Player Stats - Box Plus/Minus For Season Ranked',\n",
    "                           'Regular Season Advanced Player Stats - Value Above Replacement Player Ranked',\n",
    "                            'Regular Season Team Standings - Overall Team Record Ranked',\n",
    "                            'Regular Season Team Standings - Overall Team Record']"
   ]
  },
  {
   "cell_type": "code",
   "execution_count": null,
   "id": "dcff175f",
   "metadata": {},
   "outputs": [],
   "source": [
    "mvp_2024_prediction_df_features = mvp_2024_prediction_df.loc[:,list_of_features_filtered]"
   ]
  },
  {
   "cell_type": "code",
   "execution_count": null,
   "id": "e5cd7b56",
   "metadata": {},
   "outputs": [],
   "source": [
    "# Predict the percentage of 1st place votes for all players\n",
    "predicted_votes = gbm_regressor.predict(mvp_2024_prediction_df_features)\n",
    "\n",
    "# Add the predicted votes to the DataFrame\n",
    "mvp_2024_prediction_df.loc[:,'Predicted Votes'] = predicted_votes"
   ]
  },
  {
   "cell_type": "code",
   "execution_count": null,
   "id": "b4a6b099",
   "metadata": {
    "scrolled": false
   },
   "outputs": [],
   "source": [
    "mvp_2024_prediction_df.sort_values('Predicted Votes',ascending=False).head(15)"
   ]
  },
  {
   "cell_type": "code",
   "execution_count": null,
   "id": "d9656d7a",
   "metadata": {},
   "outputs": [],
   "source": [
    "all_regular_season_player_stats_merged_df_2024_final.loc[mvp_2024_prediction_df.index.tolist(),'MVP Predicted Vote %'] = mvp_2024_prediction_df.loc[mvp_2024_prediction_df.index.tolist(),'Predicted Votes']"
   ]
  },
  {
   "cell_type": "code",
   "execution_count": null,
   "id": "5cb85707",
   "metadata": {
    "scrolled": true
   },
   "outputs": [],
   "source": [
    "all_regular_season_player_stats_merged_df_2024_final.sort_values('MVP Predicted Vote %',ascending=False)"
   ]
  },
  {
   "cell_type": "markdown",
   "id": "1d0b14d3",
   "metadata": {},
   "source": [
    "# Predicting DPOY - Machine Learning Model Using GBM\n",
    " <a class=\"anchor\" id=\"Step35\"></a>"
   ]
  },
  {
   "cell_type": "markdown",
   "id": "999f3a0e",
   "metadata": {},
   "source": [
    "## Create dataset to analyze\n",
    "    \n",
    "###    1.) Merge regular season player stats with player mvp vote data \n",
    "\n",
    "###    2.) Merge the above data set with team data"
   ]
  },
  {
   "cell_type": "code",
   "execution_count": null,
   "id": "14dfec71",
   "metadata": {},
   "outputs": [],
   "source": [
    "dpoy_prediction_df = all_regular_season_player_stats_merged_df.merge(dpoy_df,how='left',on='Player_unique_id_and_year_concat')"
   ]
  },
  {
   "cell_type": "code",
   "execution_count": null,
   "id": "39d48a6b",
   "metadata": {},
   "outputs": [],
   "source": [
    "dpoy_prediction_df = dpoy_prediction_df.merge(all_regular_season_team_stats_merged_df,how='left',on='Team_name_and_year_concat')"
   ]
  },
  {
   "cell_type": "code",
   "execution_count": null,
   "id": "cb761275",
   "metadata": {},
   "outputs": [],
   "source": [
    "dpoy_prediction_df.head(10)"
   ]
  },
  {
   "cell_type": "markdown",
   "id": "ae0336a3",
   "metadata": {},
   "source": [
    "## Define list of features (exclude data not to be used in prediction) "
   ]
  },
  {
   "cell_type": "code",
   "execution_count": null,
   "id": "b5603506",
   "metadata": {},
   "outputs": [],
   "source": [
    "list_of_columns_to_exclude = ['Regular Season Basic Player Stats - Player',\n",
    "                              'Regular Season Basic Team Stats - Team',\n",
    "                             'Regular Season Basic Player Stats - Team',\n",
    "                             'Regular Season Basic Player Stats - Standardized/Modernized Team Name',\n",
    "                             'Player_unique_id_and_year_concat',\n",
    "                             'Team_name_and_year_concat',\n",
    "                              'Regular Season Basic Player Stats - Year',\n",
    "                             'Regular Season Basic Team Stats - Games Played',\n",
    "                             'Regular Season Basic Team Opponent Stats - Games Played',\n",
    "                             'Regular Season Team Advanced Stats - Arena',\n",
    "                             'Regular Season Team Advanced Stats - Total Arena Attendance',\n",
    "                             'Regular Season Team Advanced Stats - Attendance Per Game',\n",
    "                            'DPOY Results - Total Voting Points Possible',\n",
    "                              'DPOY Results - Total Voting Points Won',\n",
    "                               'DPOY Results - First Place Votes',\n",
    "                              'DPOY Results - DPOY Result Indicator',\n",
    "                              'Regular Season Basic Team Stats - Year'\n",
    "                             ]\n",
    "\n",
    "list_of_features = list(dpoy_prediction_df.columns)\n",
    "\n",
    "for column in list_of_columns_to_exclude:\n",
    "    \n",
    "    list_of_features.remove(column)\n",
    "    \n",
    "for feature in list_of_features:\n",
    "    \n",
    "    print(f\"\"\"\n",
    "    {feature}\"\"\")"
   ]
  },
  {
   "cell_type": "markdown",
   "id": "9563a410",
   "metadata": {},
   "source": [
    "## Check for NaN values and review"
   ]
  },
  {
   "cell_type": "code",
   "execution_count": null,
   "id": "4eb32a3c",
   "metadata": {},
   "outputs": [],
   "source": [
    "for feature in list_of_features:\n",
    "    \n",
    "    if len(dpoy_prediction_df.loc[dpoy_prediction_df[feature].isnull()]) > 0:\n",
    "        \n",
    "        dpoy_prediction_df.loc[dpoy_prediction_df[feature].isnull(),feature] = 0\n",
    "        \n",
    "        print(f\"\"\"\n",
    "        {feature} contains {len(dpoy_prediction_df.loc[dpoy_prediction_df[feature].isnull()])} NaN values \"\"\")"
   ]
  },
  {
   "cell_type": "markdown",
   "id": "6e534081",
   "metadata": {},
   "source": [
    "## Split into test and training data"
   ]
  },
  {
   "cell_type": "code",
   "execution_count": null,
   "id": "21d67bcb",
   "metadata": {},
   "outputs": [],
   "source": [
    "list_of_features_filtered = [ 'Regular Season Advanced Player Stats - Total Minutes Played During Season',\n",
    " 'Regular Season Advanced Player Stats - Player Efficiency',\n",
    " 'Regular Season Advanced Player Stats - True Shooting % For Season',\n",
    " 'Regular Season Advanced Player Stats - 3 Point Attempt Rate',\n",
    " 'Regular Season Advanced Player Stats - Free Throw Rate for Season',\n",
    " 'Regular Season Advanced Player Stats - Offensive Rebounding %',\n",
    " 'Regular Season Advanced Player Stats - Defensive Rebound Percentage',\n",
    " 'Regular Season Advanced Player Stats - Total Rebounding %',\n",
    " 'Regular Season Advanced Player Stats - Assist % For Season',\n",
    " 'Regular Season Advanced Player Stats - Steal Percentage for Season',\n",
    " 'Regular Season Advanced Player Stats - Block %',\n",
    " 'Regular Season Advanced Player Stats - Turnover % for Season',\n",
    " 'Regular Season Advanced Player Stats - Usage % For Season',\n",
    " 'Regular Season Advanced Player Stats - Total Offensive Win Shares For Season',\n",
    " 'Regular Season Advanced Player Stats - Total Defensive Win Shares For Season',\n",
    " 'Regular Season Advanced Player Stats - Win Shares',\n",
    " 'Regular Season Advanced Player Stats - Win Shares Per 48 Minutes Played For the Season',\n",
    " 'Regular Season Advanced Player Stats - Offensive Box Plus/Minus For Season',\n",
    " 'Regular Season Advanced Player Stats - Defensive Box Plus/Minus',\n",
    " 'Regular Season Advanced Player Stats - Box Plus/Minus For Season',\n",
    " 'Regular Season Advanced Player Stats - Value Above Replacement Player',\n",
    " 'Regular Season Advanced Player Stats - Player Efficiency Ranked',\n",
    " 'Regular Season Advanced Player Stats - True Shooting % For Season Ranked',\n",
    " 'Regular Season Advanced Player Stats - Offensive Rebounding % Ranked',\n",
    " 'Regular Season Advanced Player Stats - Defensive Rebound Percentage Ranked',\n",
    " 'Regular Season Advanced Player Stats - Total Rebounding % Ranked',\n",
    " 'Regular Season Advanced Player Stats - Assist % For Season Ranked',\n",
    " 'Regular Season Advanced Player Stats - Steal Percentage for Season Ranked',\n",
    " 'Regular Season Advanced Player Stats - Block % Ranked',\n",
    " 'Regular Season Advanced Player Stats - Turnover % for Season Ranked',\n",
    " 'Regular Season Advanced Player Stats - Usage % For Season Ranked',\n",
    " 'Regular Season Advanced Player Stats - Total Offensive Win Shares For Season Ranked',\n",
    " 'Regular Season Advanced Player Stats - Total Defensive Win Shares For Season Ranked',\n",
    " 'Regular Season Advanced Player Stats - Win Shares Ranked',\n",
    " 'Regular Season Advanced Player Stats - Win Shares Per 48 Minutes Played For the Season Ranked',\n",
    " 'Regular Season Advanced Player Stats - Offensive Box Plus/Minus For Season Ranked',\n",
    " 'Regular Season Advanced Player Stats - Defensive Box Plus/Minus Ranked',\n",
    " 'Regular Season Advanced Player Stats - Box Plus/Minus For Season Ranked',\n",
    " 'Regular Season Advanced Player Stats - Value Above Replacement Player Ranked',\n",
    "                             'DPOY Results - % of Total Voting Points Possible That Were Won',\n",
    "                             'Regular Season Team Standings - Overall Team Record'\n",
    "                            ]"
   ]
  },
  {
   "cell_type": "code",
   "execution_count": null,
   "id": "6df633a0",
   "metadata": {},
   "outputs": [],
   "source": [
    "list_of_features"
   ]
  },
  {
   "cell_type": "code",
   "execution_count": null,
   "id": "bf1cf806",
   "metadata": {},
   "outputs": [],
   "source": [
    "dpoy_prediction_df_features = dpoy_prediction_df.loc[:,list_of_features_filtered]\n",
    "\n",
    "# Separate features and target variable\n",
    "X = dpoy_prediction_df_features.drop('DPOY Results - % of Total Voting Points Possible That Were Won', axis=1)\n",
    "y = dpoy_prediction_df_features['DPOY Results - % of Total Voting Points Possible That Were Won']  \n",
    "\n",
    "# Split data into training and testing sets\n",
    "X_train, X_test, y_train, y_test = train_test_split(X, y, test_size=0.2, random_state=42)"
   ]
  },
  {
   "cell_type": "markdown",
   "id": "3824c295",
   "metadata": {},
   "source": [
    "## Initialize and Train the GBM Model"
   ]
  },
  {
   "cell_type": "code",
   "execution_count": null,
   "id": "dd203293",
   "metadata": {},
   "outputs": [],
   "source": [
    "# Initialize the GBM regressor\n",
    "gbm_regressor = GradientBoostingRegressor(n_estimators=100, learning_rate=0.1, max_depth=3, random_state=42)\n",
    "\n",
    "# Train the model\n",
    "gbm_regressor.fit(X_train, y_train)"
   ]
  },
  {
   "cell_type": "markdown",
   "id": "5338867a",
   "metadata": {},
   "source": [
    "## Make Predictions and Evaluate the Model"
   ]
  },
  {
   "cell_type": "code",
   "execution_count": null,
   "id": "899ad0ea",
   "metadata": {
    "scrolled": true
   },
   "outputs": [],
   "source": [
    "# Make predictions\n",
    "y_pred = gbm_regressor.predict(X_test)\n",
    "\n",
    "# Evaluate the model\n",
    "mse = mean_squared_error(y_test, y_pred)\n",
    "r2 = r2_score(y_test, y_pred)\n",
    "\n",
    "print(f'Mean Squared Error: {mse}')\n",
    "print(f'R^2 Score: {r2}')"
   ]
  },
  {
   "cell_type": "code",
   "execution_count": null,
   "id": "d3b7481e",
   "metadata": {},
   "outputs": [],
   "source": [
    "# # All features had \n",
    "# Mean Squared Error: 0.001925368630181291\n",
    "# R^2 Score: 0.35803670206569393"
   ]
  },
  {
   "cell_type": "markdown",
   "id": "28f46dcf",
   "metadata": {},
   "source": [
    "## Evaluate feature importance"
   ]
  },
  {
   "cell_type": "code",
   "execution_count": null,
   "id": "869e9ba8",
   "metadata": {},
   "outputs": [],
   "source": [
    "feature_importance = pd.DataFrame(gbm_regressor.feature_importances_, index=X_train.columns, columns=['importance']).sort_values('importance', ascending=False)\n",
    "\n",
    "feature_importance.head(10)"
   ]
  },
  {
   "cell_type": "code",
   "execution_count": null,
   "id": "5d779d09",
   "metadata": {},
   "outputs": [],
   "source": [
    "dpoy_prediction_df.head(10)"
   ]
  },
  {
   "cell_type": "markdown",
   "id": "e89168a8",
   "metadata": {},
   "source": [
    "### Populate prediction dataframe with predictions"
   ]
  },
  {
   "cell_type": "code",
   "execution_count": null,
   "id": "dbce9dac",
   "metadata": {},
   "outputs": [],
   "source": [
    "# Predict the percentage of 1st place votes for all players\n",
    "predicted_votes = gbm_regressor.predict(dpoy_prediction_df_features.drop('DPOY Results - % of Total Voting Points Possible That Were Won', axis=1))\n",
    "\n",
    "# Add the predicted votes to the DataFrame\n",
    "dpoy_prediction_df.loc[:,'Predicted Votes'] = predicted_votes"
   ]
  },
  {
   "cell_type": "code",
   "execution_count": null,
   "id": "4f65446e",
   "metadata": {},
   "outputs": [],
   "source": [
    "dpoy_prediction_df"
   ]
  },
  {
   "cell_type": "code",
   "execution_count": null,
   "id": "474df885",
   "metadata": {
    "scrolled": true
   },
   "outputs": [],
   "source": [
    "dpoy_prediction_df.loc[:,['Regular Season Team Standings - Overall Team Record','Regular Season Basic Player Stats - Player','DPOY Results - % of Total Voting Points Possible That Were Won','Predicted Votes']].sort_values('Predicted Votes',ascending=False).head(200)"
   ]
  },
  {
   "cell_type": "code",
   "execution_count": null,
   "id": "5581d6bd",
   "metadata": {},
   "outputs": [],
   "source": [
    "dpoy_prediction_df['Actual Vote - Predicted'] = dpoy_prediction_df['DPOY Results - % of Total Voting Points Possible That Were Won'] - dpoy_prediction_df['Predicted Votes']\n",
    "dpoy_prediction_df.loc[:,['Regular Season Team Standings - Overall Team Record','Regular Season Basic Player Stats - Player','DPOY Results - % of Total Voting Points Possible That Were Won','Predicted Votes','Actual Vote - Predicted','Team_name_and_year_concat']].sort_values('Actual Vote - Predicted',ascending=False).head(200)"
   ]
  },
  {
   "cell_type": "code",
   "execution_count": null,
   "id": "b80bba5d",
   "metadata": {},
   "outputs": [],
   "source": [
    "dpoy_prediction_df['Predicted DPOY Candidate'] = np.nan\n",
    "dpoy_prediction_df['Predicted DPOY Winner'] = np.nan\n",
    "\n",
    "for year in list(dpoy_prediction_df['Regular Season Basic Player Stats - Year'].unique()):\n",
    "    \n",
    "    year_subset = dpoy_prediction_df.loc[dpoy_prediction_df['Regular Season Basic Player Stats - Year']==year]\n",
    "    \n",
    "    # Sort by Predicted Votes and Grab top 10 predicted \n",
    "    year_subset = year_subset.sort_values('Predicted Votes',ascending=False).head(15)\n",
    "    \n",
    "    # Populate grab indices and populate in dpoy_prediction_df\n",
    "    dpoy_prediction_df.loc[year_subset.index.tolist(),'Predicted DPOY Candidate'] = 1\n",
    "    \n",
    "    # Grab just predicted dpoy\n",
    "    year_subset = year_subset.head(1)\n",
    "    \n",
    "    # Populate predicted mvp at index\n",
    "    dpoy_prediction_df.loc[year_subset.index.tolist(),'Predicted DPOY Winner'] = 1"
   ]
  },
  {
   "cell_type": "code",
   "execution_count": null,
   "id": "90bb93d3",
   "metadata": {},
   "outputs": [],
   "source": [
    "all_regular_season_player_stats_merged_df['Predicted DPOY Candidate'] = np.nan\n",
    "all_regular_season_player_stats_merged_df['Predicted DPOY Winner'] = np.nan\n",
    "all_regular_season_player_stats_merged_df['Predicted % of DPOY Votes'] = np.nan\n",
    "\n",
    "all_regular_season_player_stats_merged_df.loc[dpoy_prediction_df.loc[dpoy_prediction_df['Predicted DPOY Candidate'].notnull()].index.tolist(),'Predicted DPOY Candidate'] = dpoy_prediction_df['Predicted DPOY Candidate']\n",
    "all_regular_season_player_stats_merged_df.loc[dpoy_prediction_df.loc[dpoy_prediction_df['Predicted DPOY Winner'].notnull()].index.tolist(),'Predicted DPOY Winner'] = dpoy_prediction_df['Predicted DPOY Winner']\n",
    "all_regular_season_player_stats_merged_df.loc[dpoy_prediction_df.loc[dpoy_prediction_df['Predicted Votes'].notnull()].index.tolist(),'Predicted % of DPOY Votes'] = dpoy_prediction_df['Predicted Votes']"
   ]
  },
  {
   "cell_type": "code",
   "execution_count": null,
   "id": "8b7024c2",
   "metadata": {},
   "outputs": [],
   "source": [
    "all_regular_season_player_stats_merged_df.loc[all_regular_season_player_stats_merged_df['Predicted DPOY Winner'].notnull()].head(10)"
   ]
  },
  {
   "cell_type": "markdown",
   "id": "4201fd80",
   "metadata": {},
   "source": [
    "# Predict 2024 DPOY"
   ]
  },
  {
   "cell_type": "code",
   "execution_count": null,
   "id": "a83e1a2f",
   "metadata": {},
   "outputs": [],
   "source": [
    "dpoy_2024_prediction_df = all_regular_season_player_stats_merged_df_2024.merge(all_regular_season_team_stats_merged_df_2024,how='left',on='Team_name_and_year_concat').set_index(all_regular_season_player_stats_merged_df_2024.index)"
   ]
  },
  {
   "cell_type": "markdown",
   "id": "82a3ed01",
   "metadata": {},
   "source": [
    "## Prep the 2024 DPOY data"
   ]
  },
  {
   "cell_type": "code",
   "execution_count": null,
   "id": "12378475",
   "metadata": {},
   "outputs": [],
   "source": [
    "columns_to_multiply = ['Regular Season Basic Player Stats - Games Played',\n",
    "                      'Regular Season Basic Player Stats - Games Started',\n",
    "                      'Regular Season Advanced Player Stats - Total Offensive Win Shares For Season',\n",
    "                      'Regular Season Advanced Player Stats - Total Defensive Win Shares For Season',\n",
    "                      'Regular Season Advanced Player Stats - Win Shares',\n",
    "                      'Regular Season Advanced Player Stats - Value Above Replacement Player']\n",
    "\n",
    "multiplier = 82/68\n",
    "\n",
    "for column in columns_to_multiply:\n",
    "    \n",
    "    dpoy_2024_prediction_df[column] = dpoy_2024_prediction_df[column]*multiplier"
   ]
  },
  {
   "cell_type": "markdown",
   "id": "9c1e701a",
   "metadata": {},
   "source": [
    "### Define list of features (exclude data not to be used in prediction) "
   ]
  },
  {
   "cell_type": "code",
   "execution_count": null,
   "id": "a3a32665",
   "metadata": {},
   "outputs": [],
   "source": [
    "list_of_columns_to_exclude = ['Regular Season Basic Player Stats - Player',\n",
    "                              'Regular Season Basic Team Stats - Team',\n",
    "                             'Regular Season Basic Player Stats - Team',\n",
    "                             'Regular Season Basic Player Stats - Standardized/Modernized Team Name',\n",
    "                             'Player_unique_id_and_year_concat',\n",
    "                             'Team_name_and_year_concat',\n",
    "                              'Regular Season Basic Player Stats - Year',\n",
    "                             'Regular Season Basic Team Stats - Games Played',\n",
    "                             'Regular Season Basic Team Opponent Stats - Games Played',\n",
    "                             'Regular Season Team Advanced Stats - Arena',\n",
    "                             'Regular Season Team Advanced Stats - Total Arena Attendance',\n",
    "                             'Regular Season Team Advanced Stats - Attendance Per Game',\n",
    "                              'Regular Season Basic Team Stats - Year'\n",
    "                             ]\n",
    "\n",
    "list_of_features = list(dpoy_2024_prediction_df.columns)\n",
    "\n",
    "for column in list_of_columns_to_exclude:\n",
    "    \n",
    "    list_of_features.remove(column)\n",
    "    \n",
    "for feature in list_of_features:\n",
    "    \n",
    "    print(f\"\"\"\n",
    "    {feature}\"\"\")"
   ]
  },
  {
   "cell_type": "markdown",
   "id": "3d82ae81",
   "metadata": {},
   "source": [
    "## Check for NaN values and review"
   ]
  },
  {
   "cell_type": "code",
   "execution_count": null,
   "id": "ef104dd3",
   "metadata": {},
   "outputs": [],
   "source": [
    "for feature in list_of_features:\n",
    "    \n",
    "    if len(dpoy_2024_prediction_df.loc[dpoy_2024_prediction_df[feature].isnull()]) > 0:\n",
    "        \n",
    "        dpoy_2024_prediction_df.loc[dpoy_2024_prediction_df[feature].isnull(),feature] = 0\n",
    "        \n",
    "        print(f\"\"\"\n",
    "        {feature} contains {len(dpoy_2024_prediction_df.loc[dpoy_2024_prediction_df[feature].isnull()])} NaN values \"\"\")"
   ]
  },
  {
   "cell_type": "markdown",
   "id": "b60a7386",
   "metadata": {},
   "source": [
    "### Filter down"
   ]
  },
  {
   "cell_type": "code",
   "execution_count": null,
   "id": "d452e6e4",
   "metadata": {},
   "outputs": [],
   "source": [
    "list_of_features_filtered = [ 'Regular Season Advanced Player Stats - Total Minutes Played During Season',\n",
    " 'Regular Season Advanced Player Stats - Player Efficiency',\n",
    " 'Regular Season Advanced Player Stats - True Shooting % For Season',\n",
    " 'Regular Season Advanced Player Stats - 3 Point Attempt Rate',\n",
    " 'Regular Season Advanced Player Stats - Free Throw Rate for Season',\n",
    " 'Regular Season Advanced Player Stats - Offensive Rebounding %',\n",
    " 'Regular Season Advanced Player Stats - Defensive Rebound Percentage',\n",
    " 'Regular Season Advanced Player Stats - Total Rebounding %',\n",
    " 'Regular Season Advanced Player Stats - Assist % For Season',\n",
    " 'Regular Season Advanced Player Stats - Steal Percentage for Season',\n",
    " 'Regular Season Advanced Player Stats - Block %',\n",
    " 'Regular Season Advanced Player Stats - Turnover % for Season',\n",
    " 'Regular Season Advanced Player Stats - Usage % For Season',\n",
    " 'Regular Season Advanced Player Stats - Total Offensive Win Shares For Season',\n",
    " 'Regular Season Advanced Player Stats - Total Defensive Win Shares For Season',\n",
    " 'Regular Season Advanced Player Stats - Win Shares',\n",
    " 'Regular Season Advanced Player Stats - Win Shares Per 48 Minutes Played For the Season',\n",
    " 'Regular Season Advanced Player Stats - Offensive Box Plus/Minus For Season',\n",
    " 'Regular Season Advanced Player Stats - Defensive Box Plus/Minus',\n",
    " 'Regular Season Advanced Player Stats - Box Plus/Minus For Season',\n",
    " 'Regular Season Advanced Player Stats - Value Above Replacement Player',\n",
    " 'Regular Season Advanced Player Stats - Player Efficiency Ranked',\n",
    " 'Regular Season Advanced Player Stats - True Shooting % For Season Ranked',\n",
    " 'Regular Season Advanced Player Stats - Offensive Rebounding % Ranked',\n",
    " 'Regular Season Advanced Player Stats - Defensive Rebound Percentage Ranked',\n",
    " 'Regular Season Advanced Player Stats - Total Rebounding % Ranked',\n",
    " 'Regular Season Advanced Player Stats - Assist % For Season Ranked',\n",
    " 'Regular Season Advanced Player Stats - Steal Percentage for Season Ranked',\n",
    " 'Regular Season Advanced Player Stats - Block % Ranked',\n",
    " 'Regular Season Advanced Player Stats - Turnover % for Season Ranked',\n",
    " 'Regular Season Advanced Player Stats - Usage % For Season Ranked',\n",
    " 'Regular Season Advanced Player Stats - Total Offensive Win Shares For Season Ranked',\n",
    " 'Regular Season Advanced Player Stats - Total Defensive Win Shares For Season Ranked',\n",
    " 'Regular Season Advanced Player Stats - Win Shares Ranked',\n",
    " 'Regular Season Advanced Player Stats - Win Shares Per 48 Minutes Played For the Season Ranked',\n",
    " 'Regular Season Advanced Player Stats - Offensive Box Plus/Minus For Season Ranked',\n",
    " 'Regular Season Advanced Player Stats - Defensive Box Plus/Minus Ranked',\n",
    " 'Regular Season Advanced Player Stats - Box Plus/Minus For Season Ranked',\n",
    " 'Regular Season Advanced Player Stats - Value Above Replacement Player Ranked',\n",
    "                             'Regular Season Team Standings - Overall Team Record'\n",
    "                            ]"
   ]
  },
  {
   "cell_type": "code",
   "execution_count": null,
   "id": "c27251eb",
   "metadata": {},
   "outputs": [],
   "source": [
    "dpoy_2024_prediction_df_features = dpoy_2024_prediction_df.loc[:,list_of_features_filtered]"
   ]
  },
  {
   "cell_type": "code",
   "execution_count": null,
   "id": "f79e0c8f",
   "metadata": {},
   "outputs": [],
   "source": [
    "# Predict the percentage of 1st place votes for all players\n",
    "predicted_votes = gbm_regressor.predict(dpoy_2024_prediction_df_features)\n",
    "\n",
    "# Add the predicted votes to the DataFrame\n",
    "dpoy_2024_prediction_df.loc[:,'Predicted Votes'] = predicted_votes"
   ]
  },
  {
   "cell_type": "code",
   "execution_count": null,
   "id": "a9e99675",
   "metadata": {
    "scrolled": false
   },
   "outputs": [],
   "source": [
    "dpoy_2024_prediction_df.sort_values('Predicted Votes',ascending=False).head(15)"
   ]
  },
  {
   "cell_type": "code",
   "execution_count": null,
   "id": "e925f62c",
   "metadata": {},
   "outputs": [],
   "source": [
    "all_regular_season_player_stats_merged_df_2024_final.loc[dpoy_2024_prediction_df.index.tolist(),'DPOY Predicted Vote %'] = dpoy_2024_prediction_df.loc[dpoy_2024_prediction_df.index.tolist(),'Predicted Votes']"
   ]
  },
  {
   "cell_type": "code",
   "execution_count": null,
   "id": "03cc0b1e",
   "metadata": {
    "scrolled": false
   },
   "outputs": [],
   "source": [
    "all_regular_season_player_stats_merged_df_2024_final.sort_values('DPOY Predicted Vote %',ascending=False)"
   ]
  },
  {
   "cell_type": "markdown",
   "id": "3e6a06b6",
   "metadata": {},
   "source": [
    "# Predicting six man - Machine Learning Model Using GBM\n",
    " <a class=\"anchor\" id=\"Step36\"></a>"
   ]
  },
  {
   "cell_type": "markdown",
   "id": "8affa784",
   "metadata": {},
   "source": [
    "## Create dataset to analyze\n",
    "    \n",
    "###    1.) Merge regular season player stats with player mvp vote data \n",
    "\n",
    "###    2.) Merge the above data set with team data"
   ]
  },
  {
   "cell_type": "code",
   "execution_count": null,
   "id": "51742295",
   "metadata": {},
   "outputs": [],
   "source": [
    "six_man_prediction_df = all_regular_season_player_stats_merged_df.merge(six_man_df,how='left',on='Player_unique_id_and_year_concat')"
   ]
  },
  {
   "cell_type": "code",
   "execution_count": null,
   "id": "1a16e17a",
   "metadata": {},
   "outputs": [],
   "source": [
    "six_man_prediction_df = six_man_prediction_df.merge(all_regular_season_team_stats_merged_df,how='left',on='Team_name_and_year_concat')"
   ]
  },
  {
   "cell_type": "code",
   "execution_count": null,
   "id": "b5269ce8",
   "metadata": {},
   "outputs": [],
   "source": [
    "six_man_prediction_df.head(10)"
   ]
  },
  {
   "cell_type": "markdown",
   "id": "e8052047",
   "metadata": {},
   "source": [
    "### Filter to just 6-men qualified candidates (minimum of 60 games played, less than 35 games started)"
   ]
  },
  {
   "cell_type": "code",
   "execution_count": null,
   "id": "8070add6",
   "metadata": {},
   "outputs": [],
   "source": [
    "six_man_prediction_df = six_man_prediction_df.loc[six_man_prediction_df['Regular Season Basic Player Stats - 6MAN Game Played and Started Qualification ']==1]\n",
    "\n",
    "six_man_prediction_df.head(5)"
   ]
  },
  {
   "cell_type": "markdown",
   "id": "95b31269",
   "metadata": {},
   "source": [
    "## Define list of features (exclude data not to be used in prediction) "
   ]
  },
  {
   "cell_type": "code",
   "execution_count": null,
   "id": "c42f89e8",
   "metadata": {},
   "outputs": [],
   "source": [
    "list_of_columns_to_exclude = ['Regular Season Basic Player Stats - Player',\n",
    "                             'Regular Season Basic Player Stats - Team',\n",
    "                              'Regular Season Basic Team Stats - Team',\n",
    "                             'Regular Season Basic Player Stats - Standardized/Modernized Team Name',\n",
    "                             'Player_unique_id_and_year_concat',\n",
    "                             'Team_name_and_year_concat',\n",
    "                             'Regular Season Basic Team Stats - Games Played',\n",
    "                             'Regular Season Basic Team Opponent Stats - Games Played',\n",
    "                             'Regular Season Team Advanced Stats - Arena',\n",
    "                              'Regular Season Basic Player Stats - Year',\n",
    "                             'Regular Season Team Advanced Stats - Total Arena Attendance',\n",
    "                             'Regular Season Team Advanced Stats - Attendance Per Game',\n",
    "                            '6 Man Vote Results - Total Voting Points Possible',\n",
    "                              '6 Man Vote Results - Total Voting Points Won',\n",
    "                               '6 Man Vote Results - First Place Votes',\n",
    "                              '6 Man Vote Results - 6MAN Result Indicator',\n",
    "                              'Regular Season Basic Team Stats - Year',\n",
    "                              \"Predicted MVP Candidate\",\n",
    "                              \"Predicted MVP Winner\",\n",
    "                              \"Predicted % of MVP Votes\",\n",
    "                              \"Predicted DPOY Candidate\",\n",
    "                              \"Predicted DPOY Winner\",\n",
    "                              \"Predicted % of DPOY Votes\"\n",
    "                             ]\n",
    "\n",
    "list_of_features = list(six_man_prediction_df.columns)\n",
    "\n",
    "for column in list_of_columns_to_exclude:\n",
    "    \n",
    "    list_of_features.remove(column)\n",
    "    \n",
    "for feature in list_of_features:\n",
    "    \n",
    "    print(f\"\"\"\n",
    "    {feature}\"\"\")"
   ]
  },
  {
   "cell_type": "markdown",
   "id": "a531dfce",
   "metadata": {},
   "source": [
    "## Check for NaN values and review"
   ]
  },
  {
   "cell_type": "code",
   "execution_count": null,
   "id": "a7d48c0e",
   "metadata": {},
   "outputs": [],
   "source": [
    "for feature in list_of_features:\n",
    "    \n",
    "    if len(six_man_prediction_df.loc[six_man_prediction_df[feature].isnull()]) > 0:\n",
    "        \n",
    "        six_man_prediction_df.loc[six_man_prediction_df[feature].isnull(),feature] = 0\n",
    "        \n",
    "        print(f\"\"\"\n",
    "        {feature} contains {len(six_man_prediction_df.loc[six_man_prediction_df[feature].isnull()])} NaN values \"\"\")"
   ]
  },
  {
   "cell_type": "markdown",
   "id": "ffa5989a",
   "metadata": {},
   "source": [
    "## Split into test and training data"
   ]
  },
  {
   "cell_type": "code",
   "execution_count": null,
   "id": "15a83abe",
   "metadata": {},
   "outputs": [],
   "source": [
    "list_of_features_filtered = [\"Regular Season Basic Player Stats - Points Per Game\",\n",
    "\"Regular Season Basic Player Stats - Points Per Game Ranked\",\n",
    "\"Regular Season Play by Play Player Stats - Plus/Minus Per 100 Possessions (On Court)\",\n",
    "\"Regular Season Advanced Player Stats - Value Above Replacement Player Ranked\",\n",
    "                             '6 Man Vote Results - % of Total Voting Points Possible That Were Won'\n",
    "                            ]"
   ]
  },
  {
   "cell_type": "code",
   "execution_count": null,
   "id": "19995da2",
   "metadata": {},
   "outputs": [],
   "source": [
    "list_of_features"
   ]
  },
  {
   "cell_type": "code",
   "execution_count": null,
   "id": "acac6377",
   "metadata": {},
   "outputs": [],
   "source": [
    "six_man_prediction_df_features = six_man_prediction_df.loc[:,list_of_features]\n",
    "\n",
    "# Separate features and target variable\n",
    "X = six_man_prediction_df_features.drop('6 Man Vote Results - % of Total Voting Points Possible That Were Won', axis=1)\n",
    "y = six_man_prediction_df_features['6 Man Vote Results - % of Total Voting Points Possible That Were Won']  \n",
    "\n",
    "# Split data into training and testing sets\n",
    "X_train, X_test, y_train, y_test = train_test_split(X, y, test_size=0.2, random_state=42)"
   ]
  },
  {
   "cell_type": "markdown",
   "id": "31713065",
   "metadata": {},
   "source": [
    "## Initialize and Train the GBM Model"
   ]
  },
  {
   "cell_type": "code",
   "execution_count": null,
   "id": "4faffe70",
   "metadata": {},
   "outputs": [],
   "source": [
    "# Initialize the GBM regressor\n",
    "gbm_regressor = GradientBoostingRegressor(n_estimators=100, learning_rate=0.1, max_depth=3, random_state=42)\n",
    "\n",
    "# Train the model\n",
    "gbm_regressor.fit(X_train, y_train)"
   ]
  },
  {
   "cell_type": "markdown",
   "id": "622c709a",
   "metadata": {},
   "source": [
    "## Make Predictions and Evaluate the Model"
   ]
  },
  {
   "cell_type": "code",
   "execution_count": null,
   "id": "6dee492f",
   "metadata": {
    "scrolled": true
   },
   "outputs": [],
   "source": [
    "# Make predictions\n",
    "y_pred = gbm_regressor.predict(X_test)\n",
    "\n",
    "# Evaluate the model\n",
    "mse = mean_squared_error(y_test, y_pred)\n",
    "r2 = r2_score(y_test, y_pred)\n",
    "\n",
    "print(f'Mean Squared Error: {mse}')\n",
    "print(f'R^2 Score: {r2}')"
   ]
  },
  {
   "cell_type": "code",
   "execution_count": null,
   "id": "41aa6f65",
   "metadata": {},
   "outputs": [],
   "source": [
    "# # All features had \n",
    "# Mean Squared Error: 0.001925368630181291\n",
    "# R^2 Score: 0.35803670206569393"
   ]
  },
  {
   "cell_type": "markdown",
   "id": "dca7167a",
   "metadata": {},
   "source": [
    "## Evaluate feature importance"
   ]
  },
  {
   "cell_type": "code",
   "execution_count": null,
   "id": "4cab2b68",
   "metadata": {},
   "outputs": [],
   "source": [
    "feature_importance = pd.DataFrame(gbm_regressor.feature_importances_, index=X_train.columns, columns=['importance']).sort_values('importance', ascending=False)\n",
    "\n",
    "feature_importance.head(10)"
   ]
  },
  {
   "cell_type": "code",
   "execution_count": null,
   "id": "b5100e6f",
   "metadata": {},
   "outputs": [],
   "source": [
    "six_man_prediction_df.head(10)"
   ]
  },
  {
   "cell_type": "markdown",
   "id": "2274eebd",
   "metadata": {},
   "source": [
    "### Populate prediction dataframe with predictions"
   ]
  },
  {
   "cell_type": "code",
   "execution_count": null,
   "id": "1b87e532",
   "metadata": {},
   "outputs": [],
   "source": [
    "# Predict the percentage of 1st place votes for all players\n",
    "predicted_votes = gbm_regressor.predict(six_man_prediction_df_features.drop('6 Man Vote Results - % of Total Voting Points Possible That Were Won', axis=1))\n",
    "\n",
    "# Add the predicted votes to the DataFrame\n",
    "six_man_prediction_df.loc[:,'Predicted Votes'] = predicted_votes"
   ]
  },
  {
   "cell_type": "code",
   "execution_count": null,
   "id": "2b657c13",
   "metadata": {},
   "outputs": [],
   "source": [
    "six_man_prediction_df.head(5)"
   ]
  },
  {
   "cell_type": "code",
   "execution_count": null,
   "id": "48410846",
   "metadata": {
    "scrolled": true
   },
   "outputs": [],
   "source": [
    "six_man_prediction_df.loc[:,['Regular Season Team Standings - Overall Team Record','Regular Season Basic Player Stats - Player','6 Man Vote Results - % of Total Voting Points Possible That Were Won','Predicted Votes']].sort_values('Predicted Votes',ascending=False).head(200)"
   ]
  },
  {
   "cell_type": "code",
   "execution_count": null,
   "id": "19917eec",
   "metadata": {
    "scrolled": false
   },
   "outputs": [],
   "source": [
    "six_man_prediction_df['Actual Vote - Predicted'] = six_man_prediction_df['6 Man Vote Results - % of Total Voting Points Possible That Were Won'] - six_man_prediction_df['Predicted Votes']\n",
    "six_man_prediction_df.loc[:,['Regular Season Team Standings - Overall Team Record','Regular Season Basic Player Stats - Player','6 Man Vote Results - % of Total Voting Points Possible That Were Won','Predicted Votes','Actual Vote - Predicted','Team_name_and_year_concat']].sort_values('Actual Vote - Predicted',ascending=True).head(200)"
   ]
  },
  {
   "cell_type": "code",
   "execution_count": null,
   "id": "6fceb307",
   "metadata": {},
   "outputs": [],
   "source": [
    "six_man_prediction_df['Predicted 6MAN Candidate'] = np.nan\n",
    "six_man_prediction_df['Predicted 6MAN Winner'] = np.nan\n",
    "\n",
    "for year in list(six_man_prediction_df['Regular Season Basic Player Stats - Year'].unique()):\n",
    "    \n",
    "    year_subset = six_man_prediction_df.loc[six_man_prediction_df['Regular Season Basic Player Stats - Year']==year]\n",
    "    \n",
    "    # Sort by Predicted Votes and Grab top 10 predicted \n",
    "    year_subset = year_subset.sort_values('Predicted Votes',ascending=False).head(15)\n",
    "    \n",
    "    # Populate grab indices and populate in mvp_prediction_df\n",
    "    six_man_prediction_df.loc[year_subset.index.tolist(),'Predicted 6MAN Candidate'] = 1\n",
    "    \n",
    "    # Grab just predicted MVP\n",
    "    year_subset = year_subset.head(1)\n",
    "    \n",
    "    # Populate predicted mvp at index\n",
    "    six_man_prediction_df.loc[year_subset.index.tolist(),'Predicted 6MAN Winner'] = 1"
   ]
  },
  {
   "cell_type": "code",
   "execution_count": null,
   "id": "d9126d4d",
   "metadata": {},
   "outputs": [],
   "source": [
    "all_regular_season_player_stats_merged_df['Predicted 6MAN Candidate'] = np.nan\n",
    "all_regular_season_player_stats_merged_df['Predicted 6MAN Winner'] = np.nan\n",
    "all_regular_season_player_stats_merged_df['Predicted % of 6MAN Votes'] = np.nan\n",
    "\n",
    "all_regular_season_player_stats_merged_df.loc[six_man_prediction_df.loc[six_man_prediction_df['Predicted 6MAN Candidate'].notnull()].index.tolist(),'Predicted 6MAN Candidate'] = six_man_prediction_df['Predicted 6MAN Candidate']\n",
    "all_regular_season_player_stats_merged_df.loc[six_man_prediction_df.loc[six_man_prediction_df['Predicted 6MAN Winner'].notnull()].index.tolist(),'Predicted 6MAN Winner'] = six_man_prediction_df['Predicted 6MAN Winner']\n",
    "all_regular_season_player_stats_merged_df.loc[six_man_prediction_df.loc[six_man_prediction_df['Predicted Votes'].notnull()].index.tolist(),'Predicted % of 6MAN Votes'] = six_man_prediction_df['Predicted Votes']"
   ]
  },
  {
   "cell_type": "code",
   "execution_count": null,
   "id": "58f9476a",
   "metadata": {},
   "outputs": [],
   "source": [
    "all_regular_season_player_stats_merged_df.loc[all_regular_season_player_stats_merged_df['Predicted 6MAN Winner'].notnull()].head(10)"
   ]
  },
  {
   "cell_type": "markdown",
   "id": "96cba70d",
   "metadata": {},
   "source": [
    "# Predict 2024 6MAN"
   ]
  },
  {
   "cell_type": "code",
   "execution_count": null,
   "id": "4f2ea3e6",
   "metadata": {},
   "outputs": [],
   "source": [
    "_six_man_2024_prediction_df = all_regular_season_player_stats_merged_df_2024.merge(all_regular_season_team_stats_merged_df_2024,how='left',on='Team_name_and_year_concat').set_index(all_regular_season_player_stats_merged_df_2024.index)"
   ]
  },
  {
   "cell_type": "markdown",
   "id": "4a618858",
   "metadata": {},
   "source": [
    "## Prep the 2024 data"
   ]
  },
  {
   "cell_type": "code",
   "execution_count": null,
   "id": "ee5b9571",
   "metadata": {},
   "outputs": [],
   "source": [
    "columns_to_multiply = ['Regular Season Basic Player Stats - Games Played',\n",
    "                      'Regular Season Basic Player Stats - Games Started',\n",
    "                      'Regular Season Advanced Player Stats - Total Offensive Win Shares For Season',\n",
    "                      'Regular Season Advanced Player Stats - Total Defensive Win Shares For Season',\n",
    "                      'Regular Season Advanced Player Stats - Win Shares',\n",
    "                      'Regular Season Advanced Player Stats - Value Above Replacement Player']\n",
    "\n",
    "multiplier = 82/68\n",
    "\n",
    "for column in columns_to_multiply:\n",
    "    \n",
    "    _six_man_2024_prediction_df[column] = _six_man_2024_prediction_df[column]*multiplier"
   ]
  },
  {
   "cell_type": "markdown",
   "id": "b3e829c2",
   "metadata": {},
   "source": [
    "## Define list of features (exclude data not to be used in prediction) "
   ]
  },
  {
   "cell_type": "code",
   "execution_count": null,
   "id": "f9d18f71",
   "metadata": {},
   "outputs": [],
   "source": [
    "list_of_columns_to_exclude = ['Regular Season Basic Player Stats - Player',\n",
    "                             'Regular Season Basic Player Stats - Team',\n",
    "                              'Regular Season Basic Team Stats - Team',\n",
    "                             'Regular Season Basic Player Stats - Standardized/Modernized Team Name',\n",
    "                             'Player_unique_id_and_year_concat',\n",
    "                             'Team_name_and_year_concat',\n",
    "                             'Regular Season Basic Team Stats - Games Played',\n",
    "                             'Regular Season Basic Team Opponent Stats - Games Played',\n",
    "                             'Regular Season Team Advanced Stats - Arena',\n",
    "                              'Regular Season Basic Player Stats - Year',\n",
    "                             'Regular Season Team Advanced Stats - Total Arena Attendance',\n",
    "                             'Regular Season Team Advanced Stats - Attendance Per Game',\n",
    "                              'Regular Season Basic Team Stats - Year'\n",
    "                             ]\n",
    "\n",
    "list_of_features = list(_six_man_2024_prediction_df.columns)\n",
    "\n",
    "for column in list_of_columns_to_exclude:\n",
    "    \n",
    "    list_of_features.remove(column)\n",
    "    \n",
    "for feature in list_of_features:\n",
    "    \n",
    "    print(f\"\"\"\n",
    "    {feature}\"\"\")"
   ]
  },
  {
   "cell_type": "markdown",
   "id": "64cd4564",
   "metadata": {},
   "source": [
    "## Check for NaN values and review"
   ]
  },
  {
   "cell_type": "code",
   "execution_count": null,
   "id": "3c9a6614",
   "metadata": {},
   "outputs": [],
   "source": [
    "for feature in list_of_features:\n",
    "    \n",
    "    if len(_six_man_2024_prediction_df.loc[_six_man_2024_prediction_df[feature].isnull()]) > 0:\n",
    "        \n",
    "        _six_man_2024_prediction_df.loc[_six_man_2024_prediction_df[feature].isnull(),feature] = 0\n",
    "        \n",
    "        print(f\"\"\"\n",
    "        {feature} contains {len(_six_man_2024_prediction_df.loc[_six_man_2024_prediction_df[feature].isnull()])} NaN values \"\"\")"
   ]
  },
  {
   "cell_type": "code",
   "execution_count": null,
   "id": "2edd109f",
   "metadata": {},
   "outputs": [],
   "source": [
    "_six_man_2024_prediction_df_features = _six_man_2024_prediction_df.loc[:,list_of_features]"
   ]
  },
  {
   "cell_type": "code",
   "execution_count": null,
   "id": "bd4f793c",
   "metadata": {},
   "outputs": [],
   "source": [
    "# Predict the percentage of 1st place votes for all players\n",
    "predicted_votes = gbm_regressor.predict(_six_man_2024_prediction_df_features)\n",
    "\n",
    "# Add the predicted votes to the DataFrame\n",
    "_six_man_2024_prediction_df.loc[:,'Predicted Votes'] = predicted_votes"
   ]
  },
  {
   "cell_type": "code",
   "execution_count": null,
   "id": "b1d69a33",
   "metadata": {
    "scrolled": false
   },
   "outputs": [],
   "source": [
    "_six_man_2024_prediction_df.sort_values('Predicted Votes',ascending=False).head(15)"
   ]
  },
  {
   "cell_type": "code",
   "execution_count": null,
   "id": "1e685c35",
   "metadata": {},
   "outputs": [],
   "source": [
    "all_regular_season_player_stats_merged_df_2024_final.loc[_six_man_2024_prediction_df.index.tolist(),'6MAN Predicted Vote %'] = _six_man_2024_prediction_df.loc[_six_man_2024_prediction_df.index.tolist(),'Predicted Votes']"
   ]
  },
  {
   "cell_type": "code",
   "execution_count": null,
   "id": "9cd98f0b",
   "metadata": {
    "scrolled": false
   },
   "outputs": [],
   "source": [
    "all_regular_season_player_stats_merged_df_2024_final_filtered = all_regular_season_player_stats_merged_df_2024_final.loc[(all_regular_season_player_stats_merged_df_2024_final['Regular Season Basic Player Stats - Games Played'] > 50)&(all_regular_season_player_stats_merged_df_2024_final['Regular Season Basic Player Stats - Games Started'] < 20)]\n",
    "\n",
    "all_regular_season_player_stats_merged_df_2024_final_filtered.sort_values('6MAN Predicted Vote %',ascending=False)"
   ]
  },
  {
   "cell_type": "markdown",
   "id": "cb703102",
   "metadata": {},
   "source": [
    "# Predicting ROY - Machine Learning Model Using GBM\n",
    " <a class=\"anchor\" id=\"Step37\"></a>"
   ]
  },
  {
   "cell_type": "markdown",
   "id": "e1f53a39",
   "metadata": {},
   "source": [
    "## Create dataset to analyze\n",
    "    \n",
    "###    1.) Merge regular season player stats with player mvp vote data \n",
    "\n",
    "###    2.) Merge the above data set with team data"
   ]
  },
  {
   "cell_type": "code",
   "execution_count": null,
   "id": "b5add6e8",
   "metadata": {},
   "outputs": [],
   "source": [
    "roy_prediction_df = all_regular_season_player_stats_merged_df.merge(roy_vote_df,how='left',on='Player_unique_id_and_year_concat')"
   ]
  },
  {
   "cell_type": "code",
   "execution_count": null,
   "id": "8dbc5960",
   "metadata": {},
   "outputs": [],
   "source": [
    "roy_prediction_df = roy_prediction_df.merge(all_regular_season_team_stats_merged_df,how='left',on='Team_name_and_year_concat')"
   ]
  },
  {
   "cell_type": "code",
   "execution_count": null,
   "id": "42840542",
   "metadata": {},
   "outputs": [],
   "source": [
    "roy_prediction_df.head(2)"
   ]
  },
  {
   "cell_type": "markdown",
   "id": "e52128e6",
   "metadata": {},
   "source": [
    "### Filter to just rookie. To do that, we have to load in rookie tables"
   ]
  },
  {
   "cell_type": "markdown",
   "id": "4678bbe8",
   "metadata": {},
   "source": [
    "### Compile yearly data into one dataframe"
   ]
  },
  {
   "cell_type": "markdown",
   "id": "1dbd992a",
   "metadata": {},
   "source": [
    "#### Create dataframes of yearly data"
   ]
  },
  {
   "cell_type": "code",
   "execution_count": null,
   "id": "e1c8a961",
   "metadata": {
    "scrolled": false
   },
   "outputs": [],
   "source": [
    "create_list_of_dataframes_for_yearly_stats(f'{os.getcwd()}\\\\NBA Rookies',1)"
   ]
  },
  {
   "cell_type": "markdown",
   "id": "de27a939",
   "metadata": {},
   "source": [
    "###### Validate that all of the yearly data files contain different data"
   ]
  },
  {
   "cell_type": "code",
   "execution_count": null,
   "id": "d1eebd5a",
   "metadata": {
    "scrolled": false
   },
   "outputs": [],
   "source": [
    "check_all_unique_dataframes(master_df_list,'Year')"
   ]
  },
  {
   "cell_type": "markdown",
   "id": "d515aa52",
   "metadata": {},
   "source": [
    "###### Validate that the column structure for every data frame is the same."
   ]
  },
  {
   "cell_type": "code",
   "execution_count": null,
   "id": "27acc604",
   "metadata": {
    "scrolled": false
   },
   "outputs": [],
   "source": [
    "validate_column_structure_is_same(master_df_list)"
   ]
  },
  {
   "cell_type": "markdown",
   "id": "9117f713",
   "metadata": {},
   "source": [
    "###### Concat/combine yearly dataframes into one AND validate that the length of the combined dataframe is the same as the sum of the yearly dataframes"
   ]
  },
  {
   "cell_type": "code",
   "execution_count": null,
   "id": "6dc4a002",
   "metadata": {
    "scrolled": false
   },
   "outputs": [],
   "source": [
    "concat_dataframes_and_validate_and_reset_index_and_sort('rookie_df',master_df_list,cumulative_row_counter)"
   ]
  },
  {
   "cell_type": "markdown",
   "id": "afe3902a",
   "metadata": {},
   "source": [
    "###### Validate we have all of the data we need from 2004-2023"
   ]
  },
  {
   "cell_type": "code",
   "execution_count": null,
   "id": "a0b8e70c",
   "metadata": {
    "scrolled": false
   },
   "outputs": [],
   "source": [
    "validate_completeness_of_data(rookie_df,2004,2024)"
   ]
  },
  {
   "cell_type": "markdown",
   "id": "8f71d02d",
   "metadata": {},
   "source": [
    "###### Clean player names"
   ]
  },
  {
   "cell_type": "code",
   "execution_count": null,
   "id": "81a3c317",
   "metadata": {
    "scrolled": false
   },
   "outputs": [],
   "source": [
    "clean_column_values(rookie_df,'Player')"
   ]
  },
  {
   "cell_type": "code",
   "execution_count": null,
   "id": "c1b58934",
   "metadata": {},
   "outputs": [],
   "source": [
    "rookie_df['Player_unique_id_and_year_concat'] = rookie_df['-9999'] + '-' + rookie_df['Year'].astype(str)\n",
    "rookie_df['Rookie year indicator'] = 1\n",
    "rookie_df = rookie_df[['Player_unique_id_and_year_concat','Rookie year indicator']]"
   ]
  },
  {
   "cell_type": "code",
   "execution_count": null,
   "id": "46b2dc42",
   "metadata": {},
   "outputs": [],
   "source": [
    "roy_prediction_df = roy_prediction_df.merge(rookie_df,how='left',on='Player_unique_id_and_year_concat')"
   ]
  },
  {
   "cell_type": "code",
   "execution_count": null,
   "id": "f2f86f24",
   "metadata": {},
   "outputs": [],
   "source": [
    "roy_prediction_df = roy_prediction_df.loc[roy_prediction_df['Rookie year indicator']==1]\n",
    "len(roy_prediction_df)"
   ]
  },
  {
   "cell_type": "code",
   "execution_count": null,
   "id": "dfb327a4",
   "metadata": {},
   "outputs": [],
   "source": [
    "roy_prediction_df.head(3)"
   ]
  },
  {
   "cell_type": "markdown",
   "id": "fa714384",
   "metadata": {},
   "source": [
    "## Define list of features (exclude data not to be used in prediction) "
   ]
  },
  {
   "cell_type": "code",
   "execution_count": null,
   "id": "380566b5",
   "metadata": {},
   "outputs": [],
   "source": [
    "list_of_columns_to_exclude = ['Regular Season Basic Player Stats - Player',\n",
    "                             'Regular Season Basic Player Stats - Team',\n",
    "                              'Regular Season Basic Team Stats - Team',\n",
    "                              \n",
    "                             'Regular Season Basic Player Stats - Standardized/Modernized Team Name',\n",
    "                             'Player_unique_id_and_year_concat',\n",
    "                             'Team_name_and_year_concat',\n",
    "                              'Regular Season Basic Player Stats - Year',\n",
    "                             'Regular Season Basic Team Stats - Games Played',\n",
    "                             'Regular Season Basic Team Opponent Stats - Games Played',\n",
    "                             'Regular Season Team Advanced Stats - Arena',\n",
    "                             'Regular Season Team Advanced Stats - Total Arena Attendance',\n",
    "                             'Regular Season Team Advanced Stats - Attendance Per Game',\n",
    "                            'ROY Vote Results - Total Voting Points Possible',\n",
    "                              'ROY Vote Results - Total Voting Points Won',\n",
    "                               'ROY Vote Results - First Place Votes',\n",
    "                              'ROY Vote Results - ROY Result Indicator',\n",
    "                              'Regular Season Basic Team Stats - Year',\n",
    "                                \"Predicted MVP Candidate\",\n",
    "                              \"Predicted MVP Winner\",\n",
    "                              \"Predicted % of MVP Votes\",\n",
    "                              \"Predicted DPOY Candidate\",\n",
    "                              \"Predicted DPOY Winner\",\n",
    "                              \"Predicted % of DPOY Votes\",\n",
    "                              \"Predicted 6MAN Candidate\",\n",
    "                              \"Predicted 6MAN Winner\",\n",
    "                              \"Predicted % of 6MAN Votes\"                             \n",
    "                             ]\n",
    "\n",
    "list_of_features = list(roy_prediction_df.columns)\n",
    "\n",
    "for column in list_of_columns_to_exclude:\n",
    "    \n",
    "    list_of_features.remove(column)\n",
    "    \n",
    "for feature in list_of_features:\n",
    "    \n",
    "    print(f\"\"\"\n",
    "    {feature}\"\"\")"
   ]
  },
  {
   "cell_type": "markdown",
   "id": "37a4803e",
   "metadata": {},
   "source": [
    "## Check for NaN values and review"
   ]
  },
  {
   "cell_type": "code",
   "execution_count": null,
   "id": "3d6b60ac",
   "metadata": {},
   "outputs": [],
   "source": [
    "for feature in list_of_features:\n",
    "    \n",
    "    if len(roy_prediction_df.loc[roy_prediction_df[feature].isnull()]) > 0:\n",
    "        \n",
    "        roy_prediction_df.loc[roy_prediction_df[feature].isnull(),feature] = 0\n",
    "        \n",
    "        print(f\"\"\"\n",
    "        {feature} contains {len(roy_prediction_df.loc[roy_prediction_df[feature].isnull()])} NaN values \"\"\")"
   ]
  },
  {
   "cell_type": "markdown",
   "id": "39cc8277",
   "metadata": {},
   "source": [
    "## Split into test and training data"
   ]
  },
  {
   "cell_type": "code",
   "execution_count": null,
   "id": "b04a9cab",
   "metadata": {},
   "outputs": [],
   "source": [
    "list_of_features_filtered = [\"Regular Season Basic Player Stats - Points Per Game\",\n",
    "\"Regular Season Basic Player Stats - Points Per Game Ranked\",\n",
    "\"Regular Season Play by Play Player Stats - Plus/Minus Per 100 Possessions (On Court)\",\n",
    "\"Regular Season Advanced Player Stats - Value Above Replacement Player Ranked\",\n",
    "                             '6 Man Vote Results - % of Total Voting Points Possible That Were Won'\n",
    "                            ]"
   ]
  },
  {
   "cell_type": "code",
   "execution_count": null,
   "id": "6b58f230",
   "metadata": {},
   "outputs": [],
   "source": [
    "list_of_features"
   ]
  },
  {
   "cell_type": "code",
   "execution_count": null,
   "id": "fc964237",
   "metadata": {},
   "outputs": [],
   "source": [
    "roy_prediction_df_features = roy_prediction_df.loc[:,list_of_features]\n",
    "\n",
    "# Separate features and target variable\n",
    "X = roy_prediction_df_features.drop('ROY Vote Results - % of Total Voting Points Possible That Were Won', axis=1)\n",
    "y = roy_prediction_df_features['ROY Vote Results - % of Total Voting Points Possible That Were Won']  \n",
    "\n",
    "# Split data into training and testing sets\n",
    "X_train, X_test, y_train, y_test = train_test_split(X, y, test_size=0.2, random_state=42)"
   ]
  },
  {
   "cell_type": "markdown",
   "id": "eabe5abf",
   "metadata": {},
   "source": [
    "## Initialize and Train the GBM Model"
   ]
  },
  {
   "cell_type": "code",
   "execution_count": null,
   "id": "06b6eed4",
   "metadata": {},
   "outputs": [],
   "source": [
    "# Initialize the GBM regressor\n",
    "gbm_regressor = GradientBoostingRegressor(n_estimators=100, learning_rate=0.1, max_depth=3, random_state=42)\n",
    "\n",
    "# Train the model\n",
    "gbm_regressor.fit(X_train, y_train)"
   ]
  },
  {
   "cell_type": "markdown",
   "id": "5e3dec11",
   "metadata": {},
   "source": [
    "## Make Predictions and Evaluate the Model"
   ]
  },
  {
   "cell_type": "code",
   "execution_count": null,
   "id": "d5cf41a8",
   "metadata": {
    "scrolled": true
   },
   "outputs": [],
   "source": [
    "# Make predictions\n",
    "y_pred = gbm_regressor.predict(X_test)\n",
    "\n",
    "# Evaluate the model\n",
    "mse = mean_squared_error(y_test, y_pred)\n",
    "r2 = r2_score(y_test, y_pred)\n",
    "\n",
    "print(f'Mean Squared Error: {mse}')\n",
    "print(f'R^2 Score: {r2}')"
   ]
  },
  {
   "cell_type": "code",
   "execution_count": null,
   "id": "f77207cc",
   "metadata": {},
   "outputs": [],
   "source": [
    "# # All features had \n",
    "# Mean Squared Error: 0.001925368630181291\n",
    "# R^2 Score: 0.35803670206569393"
   ]
  },
  {
   "cell_type": "markdown",
   "id": "f891de57",
   "metadata": {},
   "source": [
    "## Evaluate feature importance"
   ]
  },
  {
   "cell_type": "code",
   "execution_count": null,
   "id": "b66bc817",
   "metadata": {},
   "outputs": [],
   "source": [
    "feature_importance = pd.DataFrame(gbm_regressor.feature_importances_, index=X_train.columns, columns=['importance']).sort_values('importance', ascending=False)\n",
    "\n",
    "feature_importance.head(10)"
   ]
  },
  {
   "cell_type": "code",
   "execution_count": null,
   "id": "6ca40926",
   "metadata": {},
   "outputs": [],
   "source": [
    "roy_prediction_df.head(10)"
   ]
  },
  {
   "cell_type": "markdown",
   "id": "774c6f39",
   "metadata": {},
   "source": [
    "### Populate prediction dataframe with predictions"
   ]
  },
  {
   "cell_type": "code",
   "execution_count": null,
   "id": "d371d2cd",
   "metadata": {},
   "outputs": [],
   "source": [
    "# Predict the percentage of 1st place votes for all players\n",
    "predicted_votes = gbm_regressor.predict(roy_prediction_df_features.drop('ROY Vote Results - % of Total Voting Points Possible That Were Won', axis=1))\n",
    "\n",
    "# Add the predicted votes to the DataFrame\n",
    "roy_prediction_df.loc[:,'Predicted Votes'] = predicted_votes"
   ]
  },
  {
   "cell_type": "code",
   "execution_count": null,
   "id": "879d65d2",
   "metadata": {},
   "outputs": [],
   "source": [
    "roy_prediction_df.head(5)"
   ]
  },
  {
   "cell_type": "code",
   "execution_count": null,
   "id": "8117cc2c",
   "metadata": {
    "scrolled": true
   },
   "outputs": [],
   "source": [
    "roy_prediction_df.loc[:,['Regular Season Team Standings - Overall Team Record','Regular Season Basic Player Stats - Player','ROY Vote Results - % of Total Voting Points Possible That Were Won','Predicted Votes']].sort_values('Predicted Votes',ascending=False).head(200)"
   ]
  },
  {
   "cell_type": "code",
   "execution_count": null,
   "id": "cf09e1e9",
   "metadata": {
    "scrolled": false
   },
   "outputs": [],
   "source": [
    "roy_prediction_df['Actual Vote - Predicted'] = roy_prediction_df['ROY Vote Results - % of Total Voting Points Possible That Were Won'] - roy_prediction_df['Predicted Votes']\n",
    "roy_prediction_df.loc[:,['Regular Season Team Standings - Overall Team Record','Regular Season Basic Player Stats - Player','ROY Vote Results - % of Total Voting Points Possible That Were Won','Predicted Votes','Actual Vote - Predicted','Team_name_and_year_concat']].sort_values('Actual Vote - Predicted',ascending=True).head(200)"
   ]
  },
  {
   "cell_type": "code",
   "execution_count": null,
   "id": "7c1e755e",
   "metadata": {},
   "outputs": [],
   "source": [
    "roy_prediction_df['Predicted ROY Candidate'] = np.nan\n",
    "roy_prediction_df['Predicted ROY Winner'] = np.nan\n",
    "\n",
    "for year in list(roy_prediction_df['Regular Season Basic Player Stats - Year'].unique()):\n",
    "    \n",
    "    year_subset = roy_prediction_df.loc[roy_prediction_df['Regular Season Basic Player Stats - Year']==year]\n",
    "    \n",
    "    # Sort by Predicted Votes and Grab top 10 predicted \n",
    "    year_subset = year_subset.sort_values('Predicted Votes',ascending=False).head(15)\n",
    "    \n",
    "    # Populate grab indices and populate in mvp_prediction_df\n",
    "    roy_prediction_df.loc[year_subset.index.tolist(),'Predicted ROY Candidate'] = 1\n",
    "    \n",
    "    # Grab just predicted MVP\n",
    "    year_subset = year_subset.head(1)\n",
    "    \n",
    "    # Populate predicted mvp at index\n",
    "    roy_prediction_df.loc[year_subset.index.tolist(),'Predicted ROY Winner'] = 1"
   ]
  },
  {
   "cell_type": "code",
   "execution_count": null,
   "id": "12920c99",
   "metadata": {},
   "outputs": [],
   "source": [
    "all_regular_season_player_stats_merged_df['Predicted ROY Candidate'] = np.nan\n",
    "all_regular_season_player_stats_merged_df['Predicted ROY Winner'] = np.nan\n",
    "all_regular_season_player_stats_merged_df['Predicted % of ROY Votes'] = np.nan\n",
    "\n",
    "all_regular_season_player_stats_merged_df.loc[roy_prediction_df.loc[roy_prediction_df['Predicted ROY Candidate'].notnull()].index.tolist(),'Predicted ROY Candidate'] = roy_prediction_df['Predicted ROY Candidate']\n",
    "all_regular_season_player_stats_merged_df.loc[roy_prediction_df.loc[roy_prediction_df['Predicted ROY Winner'].notnull()].index.tolist(),'Predicted ROY Winner'] = roy_prediction_df['Predicted ROY Winner']\n",
    "all_regular_season_player_stats_merged_df.loc[roy_prediction_df.loc[roy_prediction_df['Predicted Votes'].notnull()].index.tolist(),'Predicted % of ROY Votes'] = roy_prediction_df['Predicted Votes']"
   ]
  },
  {
   "cell_type": "code",
   "execution_count": null,
   "id": "a0d6de64",
   "metadata": {},
   "outputs": [],
   "source": [
    "all_regular_season_player_stats_merged_df.loc[all_regular_season_player_stats_merged_df['Predicted ROY Winner'].notnull()].head(10)"
   ]
  },
  {
   "cell_type": "markdown",
   "id": "33062a4f",
   "metadata": {},
   "source": [
    "# Predict 2024 ROY"
   ]
  },
  {
   "cell_type": "code",
   "execution_count": null,
   "id": "1d0a03d5",
   "metadata": {},
   "outputs": [],
   "source": [
    "roy_2024_prediction_df = all_regular_season_player_stats_merged_df_2024.merge(all_regular_season_team_stats_merged_df_2024,how='left',on='Team_name_and_year_concat').set_index(all_regular_season_player_stats_merged_df_2024.index)"
   ]
  },
  {
   "cell_type": "markdown",
   "id": "6e49bf4e",
   "metadata": {},
   "source": [
    "# Prep the data"
   ]
  },
  {
   "cell_type": "code",
   "execution_count": null,
   "id": "91faaec5",
   "metadata": {},
   "outputs": [],
   "source": [
    "columns_to_multiply = ['Regular Season Basic Player Stats - Games Played',\n",
    "                      'Regular Season Basic Player Stats - Games Started',\n",
    "                      'Regular Season Advanced Player Stats - Total Offensive Win Shares For Season',\n",
    "                      'Regular Season Advanced Player Stats - Total Defensive Win Shares For Season',\n",
    "                      'Regular Season Advanced Player Stats - Win Shares',\n",
    "                      'Regular Season Advanced Player Stats - Value Above Replacement Player']\n",
    "\n",
    "multiplier = 82/68\n",
    "\n",
    "for column in columns_to_multiply:\n",
    "    \n",
    "    roy_2024_prediction_df[column] = roy_2024_prediction_df[column]*multiplier"
   ]
  },
  {
   "cell_type": "markdown",
   "id": "447fb45a",
   "metadata": {},
   "source": [
    "### Populate 2024 with rookie markers"
   ]
  },
  {
   "cell_type": "code",
   "execution_count": null,
   "id": "198bcd4e",
   "metadata": {},
   "outputs": [],
   "source": [
    "rookie_2024_df = pd.read_csv('2024 Special Rookie File.txt',header=1)\n",
    "rookie_2024_df['Year'] = 2024\n",
    "rookie_2024_df['Player_unique_id_and_year_concat'] = rookie_2024_df['-9999'] + '-' + rookie_2024_df['Year'].astype(str)\n",
    "rookie_2024_df['Rookie year indicator'] = 1\n",
    "rookie_2024_df = rookie_2024_df[['Player_unique_id_and_year_concat','Rookie year indicator']]\n",
    "roy_2024_prediction_df = roy_2024_prediction_df.merge(rookie_2024_df,how='left',on='Player_unique_id_and_year_concat').set_index(all_regular_season_player_stats_merged_df_2024.index)\n",
    "roy_2024_prediction_df"
   ]
  },
  {
   "cell_type": "markdown",
   "id": "5db934e0",
   "metadata": {},
   "source": [
    "## Define list of features (exclude data not to be used in prediction) "
   ]
  },
  {
   "cell_type": "code",
   "execution_count": null,
   "id": "995a3a8b",
   "metadata": {},
   "outputs": [],
   "source": [
    "list_of_columns_to_exclude = ['Regular Season Basic Player Stats - Player',\n",
    "                             'Regular Season Basic Player Stats - Team',\n",
    "                              'Regular Season Basic Team Stats - Team',\n",
    "                             'Regular Season Basic Player Stats - Standardized/Modernized Team Name',\n",
    "                             'Player_unique_id_and_year_concat',\n",
    "                             'Team_name_and_year_concat',\n",
    "                              'Regular Season Basic Player Stats - Year',\n",
    "                             'Regular Season Basic Team Stats - Games Played',\n",
    "                             'Regular Season Basic Team Opponent Stats - Games Played',\n",
    "                             'Regular Season Team Advanced Stats - Arena',\n",
    "                             'Regular Season Team Advanced Stats - Total Arena Attendance',\n",
    "                             'Regular Season Team Advanced Stats - Attendance Per Game',\n",
    "                              'Regular Season Basic Team Stats - Year',                             \n",
    "                             ]\n",
    "\n",
    "list_of_features = list(roy_2024_prediction_df.columns)\n",
    "\n",
    "for column in list_of_columns_to_exclude:\n",
    "    \n",
    "    list_of_features.remove(column)\n",
    "    \n",
    "for feature in list_of_features:\n",
    "    \n",
    "    print(f\"\"\"\n",
    "    {feature}\"\"\")"
   ]
  },
  {
   "cell_type": "markdown",
   "id": "f6e4a9c8",
   "metadata": {},
   "source": [
    "## Check for NaN values and review"
   ]
  },
  {
   "cell_type": "code",
   "execution_count": null,
   "id": "b71251c5",
   "metadata": {},
   "outputs": [],
   "source": [
    "for feature in list_of_features:\n",
    "    \n",
    "    if len(roy_2024_prediction_df.loc[roy_2024_prediction_df[feature].isnull()]) > 0:\n",
    "        \n",
    "        roy_2024_prediction_df.loc[roy_2024_prediction_df[feature].isnull(),feature] = 0\n",
    "        \n",
    "        print(f\"\"\"\n",
    "        {feature} contains {len(roy_2024_prediction_df.loc[roy_2024_prediction_df[feature].isnull()])} NaN values \"\"\")"
   ]
  },
  {
   "cell_type": "code",
   "execution_count": null,
   "id": "4c28bf2b",
   "metadata": {},
   "outputs": [],
   "source": [
    "roy_2024_prediction_df_features = roy_2024_prediction_df.loc[:,list_of_features]"
   ]
  },
  {
   "cell_type": "code",
   "execution_count": null,
   "id": "b11bfa8b",
   "metadata": {},
   "outputs": [],
   "source": [
    "# Predict the percentage of 1st place votes for all players\n",
    "predicted_votes = gbm_regressor.predict(roy_2024_prediction_df_features)\n",
    "\n",
    "# Add the predicted votes to the DataFrame\n",
    "roy_2024_prediction_df.loc[:,'Predicted Votes'] = predicted_votes"
   ]
  },
  {
   "cell_type": "code",
   "execution_count": null,
   "id": "bb943e1f",
   "metadata": {
    "scrolled": false
   },
   "outputs": [],
   "source": [
    "roy_2024_prediction_df.sort_values('Predicted Votes',ascending=False).head(15)"
   ]
  },
  {
   "cell_type": "code",
   "execution_count": null,
   "id": "ded51e9f",
   "metadata": {},
   "outputs": [],
   "source": [
    "all_regular_season_player_stats_merged_df_2024_final.loc[roy_2024_prediction_df.index.tolist(),'ROY Predicted Vote %'] = roy_2024_prediction_df.loc[roy_2024_prediction_df.index.tolist(),'Predicted Votes']\n",
    "all_regular_season_player_stats_merged_df_2024_final.loc[roy_2024_prediction_df.index.tolist(),'Rookie year indicator'] = roy_2024_prediction_df.loc[roy_2024_prediction_df.index.tolist(),'Rookie year indicator']"
   ]
  },
  {
   "cell_type": "code",
   "execution_count": null,
   "id": "1d316809",
   "metadata": {
    "scrolled": false
   },
   "outputs": [],
   "source": [
    "all_regular_season_player_stats_merged_df_2024_final_filtered = all_regular_season_player_stats_merged_df_2024_final.loc[all_regular_season_player_stats_merged_df_2024_final['Rookie year indicator']==1]\n",
    "\n",
    "all_regular_season_player_stats_merged_df_2024_final_filtered.sort_values('ROY Predicted Vote %',ascending=False).head(5)"
   ]
  },
  {
   "cell_type": "markdown",
   "id": "5ac70bef",
   "metadata": {},
   "source": [
    "# Predicting MIP - Machine Learning Model Using GBM\n",
    "\n",
    " <a class=\"anchor\" id=\"Step38\"></a>"
   ]
  },
  {
   "cell_type": "markdown",
   "id": "e98ac71a",
   "metadata": {},
   "source": [
    "## Create dataset to analyze\n",
    "    \n",
    "###    1.) Merge regular season player stats with player mvp vote data \n",
    "\n",
    "###    2.) Merge the above data set with team data"
   ]
  },
  {
   "cell_type": "code",
   "execution_count": null,
   "id": "a680037a",
   "metadata": {},
   "outputs": [],
   "source": [
    "mip_prediction_df = all_regular_season_player_stats_merged_df.merge(mip_df,how='left',on='Player_unique_id_and_year_concat')"
   ]
  },
  {
   "cell_type": "code",
   "execution_count": null,
   "id": "aa1f960c",
   "metadata": {},
   "outputs": [],
   "source": [
    "mip_prediction_df = mip_prediction_df.merge(all_regular_season_team_stats_merged_df,how='left',on='Team_name_and_year_concat')"
   ]
  },
  {
   "cell_type": "code",
   "execution_count": null,
   "id": "dca41c06",
   "metadata": {},
   "outputs": [],
   "source": [
    "mip_prediction_df.head(2)"
   ]
  },
  {
   "cell_type": "markdown",
   "id": "81b06dc4",
   "metadata": {},
   "source": [
    "### Filter out rookie years (because they wouldn't have year prior data)"
   ]
  },
  {
   "cell_type": "code",
   "execution_count": null,
   "id": "55ac544a",
   "metadata": {},
   "outputs": [],
   "source": [
    "mip_prediction_df = mip_prediction_df.merge(rookie_df,how='left',on='Player_unique_id_and_year_concat')\n",
    "mip_prediction_df = mip_prediction_df.loc[mip_prediction_df['Rookie year indicator'].isnull()]"
   ]
  },
  {
   "cell_type": "markdown",
   "id": "52973dc5",
   "metadata": {},
   "source": [
    "### Create delta columns for basic and advanced player stats"
   ]
  },
  {
   "cell_type": "code",
   "execution_count": null,
   "id": "77517b91",
   "metadata": {},
   "outputs": [],
   "source": [
    "list_of_indices_where_no_previous_year_data = []\n",
    "\n",
    "list_of_columns_to_delta = [\n",
    " 'Regular Season Basic Player Stats - Games Played',\n",
    " 'Regular Season Basic Player Stats - Games Started',\n",
    " 'Regular Season Basic Player Stats - Minutes Played Per Game',\n",
    " 'Regular Season Basic Player Stats - Field Goals Made Per Game',\n",
    " 'Regular Season Basic Player Stats - Field Goals Attempted Per Game',\n",
    " 'Regular Season Basic Player Stats - Average Field Goal % For Season',\n",
    " 'Regular Season Basic Player Stats - 3 Pointers Made Per Game',\n",
    " 'Regular Season Basic Player Stats - 3 Point Attempts Per Game',\n",
    " 'Regular Season Basic Player Stats - Average 3 Point % For Season',\n",
    " 'Regular Season Basic Player Stats - 2 Pointers Made Per Game',\n",
    " 'Regular Season Basic Player Stats - 2 Point Attempts Per Game',\n",
    " 'Regular Season Basic Player Stats - Average 2 Point % For Season',\n",
    " 'Regular Season Basic Player Stats - Average Effective Field Goal % For Season',\n",
    " 'Regular Season Basic Player Stats - Free Throws Made Per Game',\n",
    " 'Regular Season Basic Player Stats - Free Throw Attempts Per Game',\n",
    " 'Regular Season Basic Player Stats - Average Free Throw % For Season',\n",
    " 'Regular Season Basic Player Stats - Offense Rebounds Per Game',\n",
    " 'Regular Season Basic Player Stats - Defense Rebounds Per Game',\n",
    " 'Regular Season Basic Player Stats - Total Rebounds Per Game',\n",
    " 'Regular Season Basic Player Stats - Assists Per Game',\n",
    " 'Regular Season Basic Player Stats - Steals Per Game',\n",
    " 'Regular Season Basic Player Stats - Blocks Per Game',\n",
    " 'Regular Season Basic Player Stats - Turnovers Per Game',\n",
    " 'Regular Season Basic Player Stats - Personal Fouls Per Game',\n",
    " 'Regular Season Basic Player Stats - Points Per Game',\n",
    " 'Regular Season Basic Player Stats - Total Rebounds Per Game Ranked',\n",
    " 'Regular Season Basic Player Stats - Assists Per Game Ranked',\n",
    " 'Regular Season Basic Player Stats - Steals Per Game Ranked',\n",
    " 'Regular Season Basic Player Stats - Blocks Per Game Ranked',\n",
    " 'Regular Season Basic Player Stats - Points Per Game Ranked',\n",
    " 'Regular Season Basic Player Stats - Average Effective Field Goal % For Season Ranked',\n",
    " 'Regular Season Advanced Player Stats - Total Minutes Played During Season',\n",
    " 'Regular Season Advanced Player Stats - Player Efficiency',\n",
    " 'Regular Season Advanced Player Stats - True Shooting % For Season',\n",
    " 'Regular Season Advanced Player Stats - 3 Point Attempt Rate',\n",
    " 'Regular Season Advanced Player Stats - Free Throw Rate for Season',\n",
    " 'Regular Season Advanced Player Stats - Offensive Rebounding %',\n",
    " 'Regular Season Advanced Player Stats - Defensive Rebound Percentage',\n",
    " 'Regular Season Advanced Player Stats - Total Rebounding %',\n",
    " 'Regular Season Advanced Player Stats - Assist % For Season',\n",
    " 'Regular Season Advanced Player Stats - Steal Percentage for Season',\n",
    " 'Regular Season Advanced Player Stats - Block %',\n",
    " 'Regular Season Advanced Player Stats - Turnover % for Season',\n",
    " 'Regular Season Advanced Player Stats - Usage % For Season',\n",
    " 'Regular Season Advanced Player Stats - Total Offensive Win Shares For Season',\n",
    " 'Regular Season Advanced Player Stats - Total Defensive Win Shares For Season',\n",
    " 'Regular Season Advanced Player Stats - Win Shares',\n",
    " 'Regular Season Advanced Player Stats - Win Shares Per 48 Minutes Played For the Season',\n",
    " 'Regular Season Advanced Player Stats - Offensive Box Plus/Minus For Season',\n",
    " 'Regular Season Advanced Player Stats - Defensive Box Plus/Minus',\n",
    " 'Regular Season Advanced Player Stats - Box Plus/Minus For Season',\n",
    " 'Regular Season Advanced Player Stats - Value Above Replacement Player',\n",
    " 'Regular Season Advanced Player Stats - Player Efficiency Ranked',\n",
    " 'Regular Season Advanced Player Stats - True Shooting % For Season Ranked',\n",
    " 'Regular Season Advanced Player Stats - Offensive Rebounding % Ranked',\n",
    " 'Regular Season Advanced Player Stats - Defensive Rebound Percentage Ranked',\n",
    " 'Regular Season Advanced Player Stats - Total Rebounding % Ranked',\n",
    " 'Regular Season Advanced Player Stats - Assist % For Season Ranked',\n",
    " 'Regular Season Advanced Player Stats - Steal Percentage for Season Ranked',\n",
    " 'Regular Season Advanced Player Stats - Block % Ranked',\n",
    " 'Regular Season Advanced Player Stats - Turnover % for Season Ranked',\n",
    " 'Regular Season Advanced Player Stats - Usage % For Season Ranked',\n",
    " 'Regular Season Advanced Player Stats - Total Offensive Win Shares For Season Ranked',\n",
    " 'Regular Season Advanced Player Stats - Total Defensive Win Shares For Season Ranked',\n",
    " 'Regular Season Advanced Player Stats - Win Shares Ranked',\n",
    " 'Regular Season Advanced Player Stats - Win Shares Per 48 Minutes Played For the Season Ranked',\n",
    " 'Regular Season Advanced Player Stats - Offensive Box Plus/Minus For Season Ranked',\n",
    " 'Regular Season Advanced Player Stats - Defensive Box Plus/Minus Ranked',\n",
    " 'Regular Season Advanced Player Stats - Box Plus/Minus For Season Ranked',\n",
    " 'Regular Season Advanced Player Stats - Value Above Replacement Player Ranked']\n",
    "\n",
    "player_id_to_delta_value_dict = []\n",
    "\n",
    "for column in list_of_columns_to_delta:\n",
    "    mip_prediction_df[f'{column} Delta'] = np.nan\n",
    "\n",
    "# For each year that is not 2004...\n",
    "for year in list(mip_prediction_df['Regular Season Basic Player Stats - Year'].unique()):\n",
    "    \n",
    "    if year == 2004:\n",
    "        \n",
    "        continue\n",
    "        \n",
    "    previous_year = year - 1\n",
    "    \n",
    "    current_subset_df = mip_prediction_df.loc[mip_prediction_df['Regular Season Basic Player Stats - Year']==year].copy()\n",
    "    \n",
    "    current_subset_df['Temp_player_id'] = current_subset_df['Player_unique_id_and_year_concat'].str.split('-').str[0]\n",
    "    \n",
    "    previous_subset_df = mip_prediction_df.loc[mip_prediction_df['Regular Season Basic Player Stats - Year']==previous_year].copy()\n",
    "    \n",
    "    previous_subset_df['Temp_player_id'] = previous_subset_df['Player_unique_id_and_year_concat'].str.split('-').str[0]    \n",
    "        \n",
    "    # For each player that played in the current year\n",
    "    for unique_player in list(current_subset_df['Temp_player_id'].unique()):\n",
    "\n",
    "        # Grab index where the player exist in current year\n",
    "        index_for_current = current_subset_df.loc[current_subset_df['Temp_player_id']==unique_player].index[0]\n",
    "        \n",
    "        # Check and make sure we have previous year data. If not, print player and year value to check it out\n",
    "        if len(previous_subset_df.loc[previous_subset_df['Temp_player_id']==unique_player])==0:\n",
    "            \n",
    "            print(f'{unique_player} in {year} does not seem to have previous year data.')\n",
    "            \n",
    "            list_of_indices_where_no_previous_year_data.append(index_for_current) \n",
    "            \n",
    "        else:\n",
    "        \n",
    "            # Grab index where the player exist in PREVIOUS year\n",
    "            index_for_previous = previous_subset_df.loc[previous_subset_df['Temp_player_id']==unique_player].index[0]\n",
    "\n",
    "            for column in list_of_columns_to_delta:\n",
    "\n",
    "                # Grab value for current year and column\n",
    "                current_year_column_value = current_subset_df.loc[index_for_current,column]\n",
    "\n",
    "                # Grab value for previous year and column\n",
    "                previous_year_column_value = previous_subset_df.loc[index_for_previous,column]\n",
    "\n",
    "                # Calculate delta value\n",
    "                delta_value = current_year_column_value-previous_year_column_value\n",
    "\n",
    "                # Populate delta version of column with delta\n",
    "                mip_prediction_df.loc[index_for_current,f'{column} Delta'] = delta_value"
   ]
  },
  {
   "cell_type": "markdown",
   "id": "a7fa709c",
   "metadata": {},
   "source": [
    "### Drop columns that have nulls deltas (because no prior year data found)"
   ]
  },
  {
   "cell_type": "code",
   "execution_count": null,
   "id": "b56d62a5",
   "metadata": {},
   "outputs": [],
   "source": [
    "mip_prediction_df = mip_prediction_df.loc[mip_prediction_df['Regular Season Basic Player Stats - Points Per Game Delta'].notnull()]"
   ]
  },
  {
   "cell_type": "code",
   "execution_count": null,
   "id": "87d7186f",
   "metadata": {},
   "outputs": [],
   "source": [
    "mip_prediction_df.head(1)"
   ]
  },
  {
   "cell_type": "markdown",
   "id": "fb5b38d8",
   "metadata": {},
   "source": [
    "## Define list of features (exclude data not to be used in prediction) "
   ]
  },
  {
   "cell_type": "code",
   "execution_count": null,
   "id": "0bf1129e",
   "metadata": {},
   "outputs": [],
   "source": [
    "list_of_columns_to_exclude = ['Regular Season Basic Player Stats - Player',\n",
    "                             'Regular Season Basic Player Stats - Team',\n",
    "                              'Regular Season Basic Team Stats - Team',\n",
    "                             'Regular Season Basic Player Stats - Standardized/Modernized Team Name',\n",
    "                             'Player_unique_id_and_year_concat',\n",
    "                             'Team_name_and_year_concat',\n",
    "                             'Regular Season Basic Team Stats - Games Played',\n",
    "                             'Regular Season Basic Team Opponent Stats - Games Played',\n",
    "                             'Regular Season Team Advanced Stats - Arena',\n",
    "                             'Regular Season Team Advanced Stats - Total Arena Attendance',\n",
    "                             'Regular Season Team Advanced Stats - Attendance Per Game',\n",
    "                            'MIP Vote Results - Total Voting Points Possible',\n",
    "                              'MIP Vote Results - Total Voting Points Won',\n",
    "                               'MIP Vote Results - First Place Votes',\n",
    "                              'MIP Vote Results - MIP Result Indicator',\n",
    "                              'Regular Season Basic Team Stats - Year'\n",
    "                             ]\n",
    "\n",
    "list_of_features = list(mip_prediction_df.columns)\n",
    "\n",
    "for column in list_of_columns_to_exclude:\n",
    "    \n",
    "    list_of_features.remove(column)\n",
    "    \n",
    "for feature in list_of_features:\n",
    "    \n",
    "    print(f\"\"\"\n",
    "    {feature}\"\"\")"
   ]
  },
  {
   "cell_type": "markdown",
   "id": "cf4faab9",
   "metadata": {},
   "source": [
    "## Check for NaN values and review"
   ]
  },
  {
   "cell_type": "code",
   "execution_count": null,
   "id": "90778e1a",
   "metadata": {},
   "outputs": [],
   "source": [
    "for feature in list_of_features:\n",
    "    \n",
    "    if len(mip_prediction_df.loc[mip_prediction_df[feature].isnull()]) > 0:\n",
    "        \n",
    "        mip_prediction_df.loc[mip_prediction_df[feature].isnull(),feature] = 0\n",
    "        \n",
    "        print(f\"\"\"\n",
    "        {feature} contains {len(mip_prediction_df.loc[mip_prediction_df[feature].isnull()])} NaN values \"\"\")"
   ]
  },
  {
   "cell_type": "markdown",
   "id": "db39cd5e",
   "metadata": {},
   "source": [
    "## Split into test and training data"
   ]
  },
  {
   "cell_type": "code",
   "execution_count": null,
   "id": "ae8c8390",
   "metadata": {},
   "outputs": [],
   "source": [
    "list_of_features_filtered = ['Regular Season Advanced Player Stats - Value Above Replacement Player Delta',\n",
    " 'Regular Season Basic Player Stats - Points Per Game Delta',\n",
    " 'Regular Season Advanced Player Stats - Value Above Replacement Player Ranked',\n",
    " 'Regular Season Advanced Player Stats - Usage % For Season Ranked Delta',\n",
    " 'Regular Season Advanced Player Stats - Usage % For Season Delta',\n",
    " 'Regular Season Advanced Player Stats - Player Efficiency Delta',\n",
    " 'Regular Season Basic Player Stats - Field Goals Attempted Per Game Delta',\n",
    " 'Regular Season Basic Player Stats - Points Per Game Ranked',\n",
    " 'Regular Season Advanced Player Stats - Steal Percentage for Season Ranked',\n",
    " 'Regular Season Basic Player Stats - Games Started',\n",
    " 'Regular Season Advanced Player Stats - Win Shares',\n",
    " 'Regular Season Basic Player Stats - 2 Pointers Made Per Game',\n",
    " 'Regular Season Basic Player Stats - Average 2 Point % For Season Delta',\n",
    " 'Regular Season Team Advanced Stats - Net Rating Ranked',\n",
    " 'Regular Season Advanced Player Stats - Player Efficiency Ranked Delta',\n",
    " 'Regular Season Advanced Player Stats - Offensive Rebounding % Ranked Delta',\n",
    " 'Regular Season Basic Player Stats - 2 Pointers Made Per Game Delta',\n",
    " 'Regular Season Advanced Player Stats - Total Offensive Win Shares For Season Delta',\n",
    "  'MIP Vote Results - % of Total Voting Points Possible That Were Won']"
   ]
  },
  {
   "cell_type": "code",
   "execution_count": null,
   "id": "818cb242",
   "metadata": {},
   "outputs": [],
   "source": [
    "list_of_features"
   ]
  },
  {
   "cell_type": "code",
   "execution_count": null,
   "id": "65381a1e",
   "metadata": {},
   "outputs": [],
   "source": [
    "mip_prediction_df_features = mip_prediction_df.loc[:,list_of_features_filtered]\n",
    "\n",
    "# Separate features and target variable\n",
    "X = mip_prediction_df_features.drop('MIP Vote Results - % of Total Voting Points Possible That Were Won', axis=1)\n",
    "y = mip_prediction_df_features['MIP Vote Results - % of Total Voting Points Possible That Were Won']  \n",
    "\n",
    "# Split data into training and testing sets\n",
    "X_train, X_test, y_train, y_test = train_test_split(X, y, test_size=0.2, random_state=42)"
   ]
  },
  {
   "cell_type": "markdown",
   "id": "b82ccb34",
   "metadata": {},
   "source": [
    "## Initialize and Train the GBM Model"
   ]
  },
  {
   "cell_type": "code",
   "execution_count": null,
   "id": "fa8d6d3a",
   "metadata": {},
   "outputs": [],
   "source": [
    "# Initialize the GBM regressor\n",
    "gbm_regressor = GradientBoostingRegressor(n_estimators=100, learning_rate=0.1, max_depth=3, random_state=42)\n",
    "\n",
    "# Train the model\n",
    "gbm_regressor.fit(X_train, y_train)"
   ]
  },
  {
   "cell_type": "markdown",
   "id": "d37c6d32",
   "metadata": {},
   "source": [
    "## Make Predictions and Evaluate the Model"
   ]
  },
  {
   "cell_type": "code",
   "execution_count": null,
   "id": "94652fa7",
   "metadata": {
    "scrolled": true
   },
   "outputs": [],
   "source": [
    "# Make predictions\n",
    "y_pred = gbm_regressor.predict(X_test)\n",
    "\n",
    "# Evaluate the model\n",
    "mse = mean_squared_error(y_test, y_pred)\n",
    "r2 = r2_score(y_test, y_pred)\n",
    "\n",
    "print(f'Mean Squared Error: {mse}')\n",
    "print(f'R^2 Score: {r2}')"
   ]
  },
  {
   "cell_type": "code",
   "execution_count": null,
   "id": "0649687b",
   "metadata": {},
   "outputs": [],
   "source": [
    "# # All features had \n",
    "# Mean Squared Error: 0.001925368630181291\n",
    "# R^2 Score: 0.35803670206569393"
   ]
  },
  {
   "cell_type": "markdown",
   "id": "2efc1a5d",
   "metadata": {},
   "source": [
    "## Evaluate feature importance"
   ]
  },
  {
   "cell_type": "code",
   "execution_count": null,
   "id": "66b641d0",
   "metadata": {},
   "outputs": [],
   "source": [
    "feature_importance = pd.DataFrame(gbm_regressor.feature_importances_, index=X_train.columns, columns=['importance']).sort_values('importance', ascending=False)\n",
    "\n",
    "feature_importance.head(20)"
   ]
  },
  {
   "cell_type": "code",
   "execution_count": null,
   "id": "d6c455cf",
   "metadata": {},
   "outputs": [],
   "source": [
    "mip_prediction_df.head(3)"
   ]
  },
  {
   "cell_type": "markdown",
   "id": "0f2a4617",
   "metadata": {},
   "source": [
    "### Populate prediction dataframe with predictions"
   ]
  },
  {
   "cell_type": "code",
   "execution_count": null,
   "id": "26f280e2",
   "metadata": {},
   "outputs": [],
   "source": [
    "# Predict the percentage of 1st place votes for all players\n",
    "predicted_votes = gbm_regressor.predict(mip_prediction_df_features.drop('MIP Vote Results - % of Total Voting Points Possible That Were Won', axis=1))\n",
    "\n",
    "# Add the predicted votes to the DataFrame\n",
    "mip_prediction_df.loc[:,'Predicted Votes'] = predicted_votes"
   ]
  },
  {
   "cell_type": "code",
   "execution_count": null,
   "id": "c23acd3d",
   "metadata": {},
   "outputs": [],
   "source": [
    "mip_prediction_df.head(5)"
   ]
  },
  {
   "cell_type": "code",
   "execution_count": null,
   "id": "4661eff1",
   "metadata": {
    "scrolled": true
   },
   "outputs": [],
   "source": [
    "mip_prediction_df.loc[:,['Regular Season Team Standings - Overall Team Record','Regular Season Basic Player Stats - Player','MIP Vote Results - % of Total Voting Points Possible That Were Won','Predicted Votes']].sort_values('Predicted Votes',ascending=False).head(200)"
   ]
  },
  {
   "cell_type": "code",
   "execution_count": null,
   "id": "abcfb942",
   "metadata": {
    "scrolled": false
   },
   "outputs": [],
   "source": [
    "mip_prediction_df['Actual Vote - Predicted'] = mip_prediction_df['MIP Vote Results - % of Total Voting Points Possible That Were Won'] - mip_prediction_df['Predicted Votes']\n",
    "mip_prediction_df.loc[:,['Regular Season Team Standings - Overall Team Record','Regular Season Basic Player Stats - Player','MIP Vote Results - % of Total Voting Points Possible That Were Won','Predicted Votes','Actual Vote - Predicted','Team_name_and_year_concat']].sort_values('Actual Vote - Predicted',ascending=False).head(200)"
   ]
  },
  {
   "cell_type": "code",
   "execution_count": null,
   "id": "88cf4ebc",
   "metadata": {},
   "outputs": [],
   "source": [
    "mip_prediction_df['Predicted MIP Candidate'] = np.nan\n",
    "mip_prediction_df['Predicted MIP Winner'] = np.nan\n",
    "\n",
    "for year in list(mip_prediction_df['Regular Season Basic Player Stats - Year'].unique()):\n",
    "    \n",
    "    year_subset = mip_prediction_df.loc[mip_prediction_df['Regular Season Basic Player Stats - Year']==year]\n",
    "    \n",
    "    # Sort by Predicted Votes and Grab top 10 predicted \n",
    "    year_subset = year_subset.sort_values('Predicted Votes',ascending=False).head(15)\n",
    "    \n",
    "    # Populate grab indices and populate in mvp_prediction_df\n",
    "    mip_prediction_df.loc[year_subset.index.tolist(),'Predicted MIP Candidate'] = 1\n",
    "    \n",
    "    # Grab just predicted MVP\n",
    "    year_subset = year_subset.head(1)\n",
    "    \n",
    "    # Populate predicted mvp at index\n",
    "    mip_prediction_df.loc[year_subset.index.tolist(),'Predicted MIP Winner'] = 1"
   ]
  },
  {
   "cell_type": "code",
   "execution_count": null,
   "id": "50e95159",
   "metadata": {},
   "outputs": [],
   "source": [
    "all_regular_season_player_stats_merged_df['Predicted MIP Candidate'] = np.nan\n",
    "all_regular_season_player_stats_merged_df['Predicted MIP Winner'] = np.nan\n",
    "all_regular_season_player_stats_merged_df['Predicted % of MIP Votes'] = np.nan\n",
    "\n",
    "all_regular_season_player_stats_merged_df.loc[mip_prediction_df.loc[mip_prediction_df['Predicted MIP Candidate'].notnull()].index.tolist(),'Predicted MIP Candidate'] = mip_prediction_df['Predicted MIP Candidate']\n",
    "all_regular_season_player_stats_merged_df.loc[mip_prediction_df.loc[mip_prediction_df['Predicted MIP Winner'].notnull()].index.tolist(),'Predicted MIP Winner'] = mip_prediction_df['Predicted MIP Winner']\n",
    "all_regular_season_player_stats_merged_df.loc[mip_prediction_df.loc[mip_prediction_df['Predicted Votes'].notnull()].index.tolist(),'Predicted % of MIP Votes'] = mip_prediction_df['Predicted Votes']"
   ]
  },
  {
   "cell_type": "code",
   "execution_count": null,
   "id": "e423f27a",
   "metadata": {},
   "outputs": [],
   "source": [
    "all_regular_season_player_stats_merged_df.loc[all_regular_season_player_stats_merged_df['Predicted MIP Winner'].notnull()].head(10)"
   ]
  },
  {
   "cell_type": "code",
   "execution_count": null,
   "id": "8248f8d2",
   "metadata": {},
   "outputs": [],
   "source": [
    "# # Create delta column in merged_df\n",
    "# for columnn in list_of_columns_to_delta:\n",
    "    \n",
    "#     all_regular_season_player_stats_merged_df[f'{column} Delta'] = np.nan\n",
    "    \n",
    "# # Passthrough delta columns values\n",
    "# for column in list_of_columns_to_delta:\n",
    "    \n",
    "#     indices = mip_prediction_df.index.tolist()\n",
    "#     all_regular_season_player_stats_merged_df.loc[indices,f'{column} Delta'] = mip_prediction_df[f'{column} Delta']"
   ]
  },
  {
   "cell_type": "code",
   "execution_count": null,
   "id": "76f0ce8c",
   "metadata": {},
   "outputs": [],
   "source": [
    "list_of_indices_where_no_previous_year_data = []\n",
    "\n",
    "list_of_columns_to_delta = [\n",
    " 'Regular Season Basic Player Stats - Games Played',\n",
    " 'Regular Season Basic Player Stats - Games Started',\n",
    " 'Regular Season Basic Player Stats - Minutes Played Per Game',\n",
    " 'Regular Season Basic Player Stats - Field Goals Made Per Game',\n",
    " 'Regular Season Basic Player Stats - Field Goals Attempted Per Game',\n",
    " 'Regular Season Basic Player Stats - Average Field Goal % For Season',\n",
    " 'Regular Season Basic Player Stats - 3 Pointers Made Per Game',\n",
    " 'Regular Season Basic Player Stats - 3 Point Attempts Per Game',\n",
    " 'Regular Season Basic Player Stats - Average 3 Point % For Season',\n",
    " 'Regular Season Basic Player Stats - 2 Pointers Made Per Game',\n",
    " 'Regular Season Basic Player Stats - 2 Point Attempts Per Game',\n",
    " 'Regular Season Basic Player Stats - Average 2 Point % For Season',\n",
    " 'Regular Season Basic Player Stats - Average Effective Field Goal % For Season',\n",
    " 'Regular Season Basic Player Stats - Free Throws Made Per Game',\n",
    " 'Regular Season Basic Player Stats - Free Throw Attempts Per Game',\n",
    " 'Regular Season Basic Player Stats - Average Free Throw % For Season',\n",
    " 'Regular Season Basic Player Stats - Offense Rebounds Per Game',\n",
    " 'Regular Season Basic Player Stats - Defense Rebounds Per Game',\n",
    " 'Regular Season Basic Player Stats - Total Rebounds Per Game',\n",
    " 'Regular Season Basic Player Stats - Assists Per Game',\n",
    " 'Regular Season Basic Player Stats - Steals Per Game',\n",
    " 'Regular Season Basic Player Stats - Blocks Per Game',\n",
    " 'Regular Season Basic Player Stats - Turnovers Per Game',\n",
    " 'Regular Season Basic Player Stats - Personal Fouls Per Game',\n",
    " 'Regular Season Basic Player Stats - Points Per Game',\n",
    " 'Regular Season Basic Player Stats - Total Rebounds Per Game Ranked',\n",
    " 'Regular Season Basic Player Stats - Assists Per Game Ranked',\n",
    " 'Regular Season Basic Player Stats - Steals Per Game Ranked',\n",
    " 'Regular Season Basic Player Stats - Blocks Per Game Ranked',\n",
    " 'Regular Season Basic Player Stats - Points Per Game Ranked',\n",
    " 'Regular Season Basic Player Stats - Average Effective Field Goal % For Season Ranked',\n",
    " 'Regular Season Advanced Player Stats - Total Minutes Played During Season',\n",
    " 'Regular Season Advanced Player Stats - Player Efficiency',\n",
    " 'Regular Season Advanced Player Stats - True Shooting % For Season',\n",
    " 'Regular Season Advanced Player Stats - 3 Point Attempt Rate',\n",
    " 'Regular Season Advanced Player Stats - Free Throw Rate for Season',\n",
    " 'Regular Season Advanced Player Stats - Offensive Rebounding %',\n",
    " 'Regular Season Advanced Player Stats - Defensive Rebound Percentage',\n",
    " 'Regular Season Advanced Player Stats - Total Rebounding %',\n",
    " 'Regular Season Advanced Player Stats - Assist % For Season',\n",
    " 'Regular Season Advanced Player Stats - Steal Percentage for Season',\n",
    " 'Regular Season Advanced Player Stats - Block %',\n",
    " 'Regular Season Advanced Player Stats - Turnover % for Season',\n",
    " 'Regular Season Advanced Player Stats - Usage % For Season',\n",
    " 'Regular Season Advanced Player Stats - Total Offensive Win Shares For Season',\n",
    " 'Regular Season Advanced Player Stats - Total Defensive Win Shares For Season',\n",
    " 'Regular Season Advanced Player Stats - Win Shares',\n",
    " 'Regular Season Advanced Player Stats - Win Shares Per 48 Minutes Played For the Season',\n",
    " 'Regular Season Advanced Player Stats - Offensive Box Plus/Minus For Season',\n",
    " 'Regular Season Advanced Player Stats - Defensive Box Plus/Minus',\n",
    " 'Regular Season Advanced Player Stats - Box Plus/Minus For Season',\n",
    " 'Regular Season Advanced Player Stats - Value Above Replacement Player',\n",
    " 'Regular Season Advanced Player Stats - Player Efficiency Ranked',\n",
    " 'Regular Season Advanced Player Stats - True Shooting % For Season Ranked',\n",
    " 'Regular Season Advanced Player Stats - Offensive Rebounding % Ranked',\n",
    " 'Regular Season Advanced Player Stats - Defensive Rebound Percentage Ranked',\n",
    " 'Regular Season Advanced Player Stats - Total Rebounding % Ranked',\n",
    " 'Regular Season Advanced Player Stats - Assist % For Season Ranked',\n",
    " 'Regular Season Advanced Player Stats - Steal Percentage for Season Ranked',\n",
    " 'Regular Season Advanced Player Stats - Block % Ranked',\n",
    " 'Regular Season Advanced Player Stats - Turnover % for Season Ranked',\n",
    " 'Regular Season Advanced Player Stats - Usage % For Season Ranked',\n",
    " 'Regular Season Advanced Player Stats - Total Offensive Win Shares For Season Ranked',\n",
    " 'Regular Season Advanced Player Stats - Total Defensive Win Shares For Season Ranked',\n",
    " 'Regular Season Advanced Player Stats - Win Shares Ranked',\n",
    " 'Regular Season Advanced Player Stats - Win Shares Per 48 Minutes Played For the Season Ranked',\n",
    " 'Regular Season Advanced Player Stats - Offensive Box Plus/Minus For Season Ranked',\n",
    " 'Regular Season Advanced Player Stats - Defensive Box Plus/Minus Ranked',\n",
    " 'Regular Season Advanced Player Stats - Box Plus/Minus For Season Ranked',\n",
    " 'Regular Season Advanced Player Stats - Value Above Replacement Player Ranked']\n",
    "\n",
    "player_id_to_delta_value_dict = []\n",
    "\n",
    "for column in list_of_columns_to_delta:\n",
    "    all_regular_season_player_stats_merged_df[f'{column} Delta'] = np.nan\n",
    "\n",
    "# For each year that is not 2004...\n",
    "for year in list(all_regular_season_player_stats_merged_df['Regular Season Basic Player Stats - Year'].unique()):\n",
    "    \n",
    "    if year == 2004:\n",
    "        \n",
    "        continue\n",
    "        \n",
    "    previous_year = year - 1\n",
    "    \n",
    "    current_subset_df = all_regular_season_player_stats_merged_df.loc[all_regular_season_player_stats_merged_df['Regular Season Basic Player Stats - Year']==year].copy()\n",
    "    \n",
    "    current_subset_df['Temp_player_id'] = current_subset_df['Player_unique_id_and_year_concat'].str.split('-').str[0]\n",
    "    \n",
    "    previous_subset_df = all_regular_season_player_stats_merged_df.loc[all_regular_season_player_stats_merged_df['Regular Season Basic Player Stats - Year']==previous_year].copy()\n",
    "    \n",
    "    previous_subset_df['Temp_player_id'] = previous_subset_df['Player_unique_id_and_year_concat'].str.split('-').str[0]    \n",
    "        \n",
    "    # For each player that played in the current year\n",
    "    for unique_player in list(current_subset_df['Temp_player_id'].unique()):\n",
    "\n",
    "        # Grab index where the player exist in current year\n",
    "        index_for_current = current_subset_df.loc[current_subset_df['Temp_player_id']==unique_player].index[0]\n",
    "        \n",
    "        # Check and make sure we have previous year data. If not, print player and year value to check it out\n",
    "        if len(previous_subset_df.loc[previous_subset_df['Temp_player_id']==unique_player])==0:\n",
    "            \n",
    "            print(f'{unique_player} in {year} does not seem to have previous year data.')\n",
    "            \n",
    "            list_of_indices_where_no_previous_year_data.append(index_for_current) \n",
    "            \n",
    "        else:\n",
    "        \n",
    "            # Grab index where the player exist in PREVIOUS year\n",
    "            index_for_previous = previous_subset_df.loc[previous_subset_df['Temp_player_id']==unique_player].index[0]\n",
    "\n",
    "            for column in list_of_columns_to_delta:\n",
    "\n",
    "                # Grab value for current year and column\n",
    "                current_year_column_value = current_subset_df.loc[index_for_current,column]\n",
    "\n",
    "                # Grab value for previous year and column\n",
    "                previous_year_column_value = previous_subset_df.loc[index_for_previous,column]\n",
    "\n",
    "                # Calculate delta value\n",
    "                delta_value = current_year_column_value-previous_year_column_value\n",
    "\n",
    "                # Populate delta version of column with delta\n",
    "                all_regular_season_player_stats_merged_df.loc[index_for_current,f'{column} Delta'] = delta_value"
   ]
  },
  {
   "cell_type": "markdown",
   "id": "ad797038",
   "metadata": {},
   "source": [
    "# Predict 2024 MIP"
   ]
  },
  {
   "cell_type": "markdown",
   "id": "fe57d9d8",
   "metadata": {},
   "source": [
    "### Add in 2023 data to calculate deltas. First, create dataframe with just 2023 data"
   ]
  },
  {
   "cell_type": "code",
   "execution_count": null,
   "id": "45e1c426",
   "metadata": {},
   "outputs": [],
   "source": [
    "all_regular_season_player_stats_merged_df_2023 = all_regular_season_player_stats_merged_df.loc[all_regular_season_player_stats_merged_df['Regular Season Basic Player Stats - Year']==2023].copy()"
   ]
  },
  {
   "cell_type": "markdown",
   "id": "19fa3622",
   "metadata": {},
   "source": [
    "### Concat 2023 and 2024 Data "
   ]
  },
  {
   "cell_type": "code",
   "execution_count": null,
   "id": "061ed070",
   "metadata": {},
   "outputs": [],
   "source": [
    "all_regular_season_player_stats_merged_df_2024 = pd.concat([all_regular_season_player_stats_merged_df_2023,all_regular_season_player_stats_merged_df_2024])"
   ]
  },
  {
   "cell_type": "code",
   "execution_count": null,
   "id": "a9e6aec6",
   "metadata": {},
   "outputs": [],
   "source": [
    "mip_2024_prediction_df = all_regular_season_player_stats_merged_df_2024.merge(all_regular_season_team_stats_merged_df_2024,how='left',on='Team_name_and_year_concat').set_index(all_regular_season_player_stats_merged_df_2024.index)"
   ]
  },
  {
   "cell_type": "code",
   "execution_count": null,
   "id": "b2f9214f",
   "metadata": {},
   "outputs": [],
   "source": [
    "mip_2024_prediction_df"
   ]
  },
  {
   "cell_type": "markdown",
   "id": "ec8582c6",
   "metadata": {},
   "source": [
    "## Calculate delta columns for 2024"
   ]
  },
  {
   "cell_type": "code",
   "execution_count": null,
   "id": "52cd91b8",
   "metadata": {},
   "outputs": [],
   "source": [
    "list_of_indices_where_no_previous_year_data = []\n",
    "\n",
    "list_of_columns_to_delta = [\n",
    " 'Regular Season Basic Player Stats - Games Played',\n",
    " 'Regular Season Basic Player Stats - Games Started',\n",
    " 'Regular Season Basic Player Stats - Minutes Played Per Game',\n",
    " 'Regular Season Basic Player Stats - Field Goals Made Per Game',\n",
    " 'Regular Season Basic Player Stats - Field Goals Attempted Per Game',\n",
    " 'Regular Season Basic Player Stats - Average Field Goal % For Season',\n",
    " 'Regular Season Basic Player Stats - 3 Pointers Made Per Game',\n",
    " 'Regular Season Basic Player Stats - 3 Point Attempts Per Game',\n",
    " 'Regular Season Basic Player Stats - Average 3 Point % For Season',\n",
    " 'Regular Season Basic Player Stats - 2 Pointers Made Per Game',\n",
    " 'Regular Season Basic Player Stats - 2 Point Attempts Per Game',\n",
    " 'Regular Season Basic Player Stats - Average 2 Point % For Season',\n",
    " 'Regular Season Basic Player Stats - Average Effective Field Goal % For Season',\n",
    " 'Regular Season Basic Player Stats - Free Throws Made Per Game',\n",
    " 'Regular Season Basic Player Stats - Free Throw Attempts Per Game',\n",
    " 'Regular Season Basic Player Stats - Average Free Throw % For Season',\n",
    " 'Regular Season Basic Player Stats - Offense Rebounds Per Game',\n",
    " 'Regular Season Basic Player Stats - Defense Rebounds Per Game',\n",
    " 'Regular Season Basic Player Stats - Total Rebounds Per Game',\n",
    " 'Regular Season Basic Player Stats - Assists Per Game',\n",
    " 'Regular Season Basic Player Stats - Steals Per Game',\n",
    " 'Regular Season Basic Player Stats - Blocks Per Game',\n",
    " 'Regular Season Basic Player Stats - Turnovers Per Game',\n",
    " 'Regular Season Basic Player Stats - Personal Fouls Per Game',\n",
    " 'Regular Season Basic Player Stats - Points Per Game',\n",
    " 'Regular Season Basic Player Stats - Total Rebounds Per Game Ranked',\n",
    " 'Regular Season Basic Player Stats - Assists Per Game Ranked',\n",
    " 'Regular Season Basic Player Stats - Steals Per Game Ranked',\n",
    " 'Regular Season Basic Player Stats - Blocks Per Game Ranked',\n",
    " 'Regular Season Basic Player Stats - Points Per Game Ranked',\n",
    " 'Regular Season Basic Player Stats - Average Effective Field Goal % For Season Ranked',\n",
    " 'Regular Season Advanced Player Stats - Total Minutes Played During Season',\n",
    " 'Regular Season Advanced Player Stats - Player Efficiency',\n",
    " 'Regular Season Advanced Player Stats - True Shooting % For Season',\n",
    " 'Regular Season Advanced Player Stats - 3 Point Attempt Rate',\n",
    " 'Regular Season Advanced Player Stats - Free Throw Rate for Season',\n",
    " 'Regular Season Advanced Player Stats - Offensive Rebounding %',\n",
    " 'Regular Season Advanced Player Stats - Defensive Rebound Percentage',\n",
    " 'Regular Season Advanced Player Stats - Total Rebounding %',\n",
    " 'Regular Season Advanced Player Stats - Assist % For Season',\n",
    " 'Regular Season Advanced Player Stats - Steal Percentage for Season',\n",
    " 'Regular Season Advanced Player Stats - Block %',\n",
    " 'Regular Season Advanced Player Stats - Turnover % for Season',\n",
    " 'Regular Season Advanced Player Stats - Usage % For Season',\n",
    " 'Regular Season Advanced Player Stats - Total Offensive Win Shares For Season',\n",
    " 'Regular Season Advanced Player Stats - Total Defensive Win Shares For Season',\n",
    " 'Regular Season Advanced Player Stats - Win Shares',\n",
    " 'Regular Season Advanced Player Stats - Win Shares Per 48 Minutes Played For the Season',\n",
    " 'Regular Season Advanced Player Stats - Offensive Box Plus/Minus For Season',\n",
    " 'Regular Season Advanced Player Stats - Defensive Box Plus/Minus',\n",
    " 'Regular Season Advanced Player Stats - Box Plus/Minus For Season',\n",
    " 'Regular Season Advanced Player Stats - Value Above Replacement Player',\n",
    " 'Regular Season Advanced Player Stats - Player Efficiency Ranked',\n",
    " 'Regular Season Advanced Player Stats - True Shooting % For Season Ranked',\n",
    " 'Regular Season Advanced Player Stats - Offensive Rebounding % Ranked',\n",
    " 'Regular Season Advanced Player Stats - Defensive Rebound Percentage Ranked',\n",
    " 'Regular Season Advanced Player Stats - Total Rebounding % Ranked',\n",
    " 'Regular Season Advanced Player Stats - Assist % For Season Ranked',\n",
    " 'Regular Season Advanced Player Stats - Steal Percentage for Season Ranked',\n",
    " 'Regular Season Advanced Player Stats - Block % Ranked',\n",
    " 'Regular Season Advanced Player Stats - Turnover % for Season Ranked',\n",
    " 'Regular Season Advanced Player Stats - Usage % For Season Ranked',\n",
    " 'Regular Season Advanced Player Stats - Total Offensive Win Shares For Season Ranked',\n",
    " 'Regular Season Advanced Player Stats - Total Defensive Win Shares For Season Ranked',\n",
    " 'Regular Season Advanced Player Stats - Win Shares Ranked',\n",
    " 'Regular Season Advanced Player Stats - Win Shares Per 48 Minutes Played For the Season Ranked',\n",
    " 'Regular Season Advanced Player Stats - Offensive Box Plus/Minus For Season Ranked',\n",
    " 'Regular Season Advanced Player Stats - Defensive Box Plus/Minus Ranked',\n",
    " 'Regular Season Advanced Player Stats - Box Plus/Minus For Season Ranked',\n",
    " 'Regular Season Advanced Player Stats - Value Above Replacement Player Ranked']\n",
    "\n",
    "player_id_to_delta_value_dict = []\n",
    "\n",
    "for column in list_of_columns_to_delta:\n",
    "    mip_2024_prediction_df[f'{column} Delta'] = np.nan\n",
    "\n",
    "# For each year that is not 2004...\n",
    "for year in list(mip_2024_prediction_df['Regular Season Basic Player Stats - Year'].unique()):\n",
    "    \n",
    "    if year == 2023:\n",
    "        \n",
    "        continue\n",
    "        \n",
    "    previous_year = year - 1\n",
    "    \n",
    "    current_subset_df = mip_2024_prediction_df.loc[mip_2024_prediction_df['Regular Season Basic Player Stats - Year']==year].copy()\n",
    "    \n",
    "    current_subset_df['Temp_player_id'] = current_subset_df['Player_unique_id_and_year_concat'].str.split('-').str[0]\n",
    "    \n",
    "    previous_subset_df = mip_2024_prediction_df.loc[mip_2024_prediction_df['Regular Season Basic Player Stats - Year']==previous_year].copy()\n",
    "    \n",
    "    previous_subset_df['Temp_player_id'] = previous_subset_df['Player_unique_id_and_year_concat'].str.split('-').str[0]    \n",
    "        \n",
    "    # For each player that played in the current year\n",
    "    for unique_player in list(current_subset_df['Temp_player_id'].unique()):\n",
    "\n",
    "        # Grab index where the player exist in current year\n",
    "        index_for_current = current_subset_df.loc[current_subset_df['Temp_player_id']==unique_player].index[0]\n",
    "        \n",
    "        # Check and make sure we have previous year data. If not, print player and year value to check it out\n",
    "        if len(previous_subset_df.loc[previous_subset_df['Temp_player_id']==unique_player])==0:\n",
    "            \n",
    "            print(f'{unique_player} in {year} does not seem to have previous year data.')\n",
    "            \n",
    "            list_of_indices_where_no_previous_year_data.append(index_for_current) \n",
    "            \n",
    "        else:\n",
    "        \n",
    "            # Grab index where the player exist in PREVIOUS year\n",
    "            index_for_previous = previous_subset_df.loc[previous_subset_df['Temp_player_id']==unique_player].index[0]\n",
    "\n",
    "            for column in list_of_columns_to_delta:\n",
    "\n",
    "                # Grab value for current year and column\n",
    "                current_year_column_value = current_subset_df.loc[index_for_current,column]\n",
    "\n",
    "                # Grab value for previous year and column\n",
    "                previous_year_column_value = previous_subset_df.loc[index_for_previous,column]\n",
    "\n",
    "                # Calculate delta value\n",
    "                delta_value = current_year_column_value-previous_year_column_value\n",
    "\n",
    "                # Populate delta version of column with delta\n",
    "                mip_2024_prediction_df.loc[index_for_current,f'{column} Delta'] = delta_value"
   ]
  },
  {
   "cell_type": "markdown",
   "id": "3ac0032c",
   "metadata": {},
   "source": [
    "### Drop columns that have nulls deltas (because no prior year data found)"
   ]
  },
  {
   "cell_type": "code",
   "execution_count": null,
   "id": "ab45ea98",
   "metadata": {},
   "outputs": [],
   "source": [
    "mip_2024_prediction_df = mip_2024_prediction_df.loc[mip_2024_prediction_df['Regular Season Basic Player Stats - Points Per Game Delta'].notnull()]"
   ]
  },
  {
   "cell_type": "code",
   "execution_count": null,
   "id": "1a053834",
   "metadata": {},
   "outputs": [],
   "source": [
    "mip_2024_prediction_df.head(10)"
   ]
  },
  {
   "cell_type": "code",
   "execution_count": null,
   "id": "3fa64f32",
   "metadata": {},
   "outputs": [],
   "source": [
    "list_of_columns_to_exclude = ['Regular Season Basic Player Stats - Player',\n",
    "                             'Regular Season Basic Player Stats - Team',\n",
    "                              'Regular Season Basic Team Stats - Team',\n",
    "                             'Regular Season Basic Player Stats - Standardized/Modernized Team Name',\n",
    "                             'Player_unique_id_and_year_concat',\n",
    "                             'Team_name_and_year_concat',\n",
    "                             'Regular Season Basic Team Stats - Games Played',\n",
    "                             'Regular Season Basic Team Opponent Stats - Games Played',\n",
    "                             'Regular Season Team Advanced Stats - Arena',\n",
    "                             'Regular Season Team Advanced Stats - Total Arena Attendance',\n",
    "                             'Regular Season Team Advanced Stats - Attendance Per Game',\n",
    "                              'Regular Season Basic Team Stats - Year',\n",
    "                              'Predicted MIP Candidate',\n",
    "                              'Predicted MIP Winner'\n",
    "                             ]\n",
    "\n",
    "list_of_features = list(mip_2024_prediction_df.columns)\n",
    "\n",
    "for column in list_of_columns_to_exclude:\n",
    "    \n",
    "    list_of_features.remove(column)\n",
    "    \n",
    "for feature in list_of_features:\n",
    "    \n",
    "    print(f\"\"\"\n",
    "    {feature}\"\"\")"
   ]
  },
  {
   "cell_type": "code",
   "execution_count": null,
   "id": "7eca47d1",
   "metadata": {},
   "outputs": [],
   "source": [
    "list_of_features"
   ]
  },
  {
   "cell_type": "markdown",
   "id": "e7ca34d4",
   "metadata": {},
   "source": [
    "## Check for NaN values and review"
   ]
  },
  {
   "cell_type": "code",
   "execution_count": null,
   "id": "0bdd96b4",
   "metadata": {},
   "outputs": [],
   "source": [
    "for feature in list_of_features:\n",
    "    \n",
    "    if len(mip_2024_prediction_df.loc[mip_2024_prediction_df[feature].isnull()]) > 0:\n",
    "        \n",
    "        mip_2024_prediction_df.loc[mip_2024_prediction_df[feature].isnull(),feature] = 0\n",
    "        \n",
    "        print(f\"\"\"\n",
    "        {feature} contains {len(mip_2024_prediction_df.loc[mip_2024_prediction_df[feature].isnull()])} NaN values \"\"\")"
   ]
  },
  {
   "cell_type": "code",
   "execution_count": null,
   "id": "bf9fdd7e",
   "metadata": {},
   "outputs": [],
   "source": [
    "list_of_features_filtered = ['Regular Season Advanced Player Stats - Value Above Replacement Player Delta',\n",
    " 'Regular Season Basic Player Stats - Points Per Game Delta',\n",
    " 'Regular Season Advanced Player Stats - Value Above Replacement Player Ranked',\n",
    " 'Regular Season Advanced Player Stats - Usage % For Season Ranked Delta',\n",
    " 'Regular Season Advanced Player Stats - Usage % For Season Delta',\n",
    " 'Regular Season Advanced Player Stats - Player Efficiency Delta',\n",
    " 'Regular Season Basic Player Stats - Field Goals Attempted Per Game Delta',\n",
    " 'Regular Season Basic Player Stats - Points Per Game Ranked',\n",
    " 'Regular Season Advanced Player Stats - Steal Percentage for Season Ranked',\n",
    " 'Regular Season Basic Player Stats - Games Started',\n",
    " 'Regular Season Advanced Player Stats - Win Shares',\n",
    " 'Regular Season Basic Player Stats - 2 Pointers Made Per Game',\n",
    " 'Regular Season Basic Player Stats - Average 2 Point % For Season Delta',\n",
    " 'Regular Season Team Advanced Stats - Net Rating Ranked',\n",
    " 'Regular Season Advanced Player Stats - Player Efficiency Ranked Delta',\n",
    " 'Regular Season Advanced Player Stats - Offensive Rebounding % Ranked Delta',\n",
    " 'Regular Season Basic Player Stats - 2 Pointers Made Per Game Delta',\n",
    " 'Regular Season Advanced Player Stats - Total Offensive Win Shares For Season Delta']"
   ]
  },
  {
   "cell_type": "code",
   "execution_count": null,
   "id": "640f64a6",
   "metadata": {},
   "outputs": [],
   "source": [
    "mip_2024_prediction_df_features = mip_2024_prediction_df.loc[:,list_of_features_filtered]"
   ]
  },
  {
   "cell_type": "code",
   "execution_count": null,
   "id": "34fc4de8",
   "metadata": {},
   "outputs": [],
   "source": [
    "# Predict the percentage of 1st place votes for all players\n",
    "predicted_votes = gbm_regressor.predict(mip_2024_prediction_df_features)\n",
    "\n",
    "# Add the predicted votes to the DataFrame\n",
    "mip_2024_prediction_df.loc[:,'Predicted Votes'] = predicted_votes"
   ]
  },
  {
   "cell_type": "code",
   "execution_count": null,
   "id": "a23df806",
   "metadata": {
    "scrolled": false
   },
   "outputs": [],
   "source": [
    "mip_2024_prediction_df.sort_values('Predicted Votes',ascending=False).head(15)"
   ]
  },
  {
   "cell_type": "code",
   "execution_count": null,
   "id": "ebaba28a",
   "metadata": {},
   "outputs": [],
   "source": [
    "all_regular_season_player_stats_merged_df_2024_final.loc[mip_2024_prediction_df.index.tolist(),'MIP Predicted Vote %'] = mip_2024_prediction_df.loc[mip_2024_prediction_df.index.tolist(),'Predicted Votes']"
   ]
  },
  {
   "cell_type": "code",
   "execution_count": null,
   "id": "b9e0d3b8",
   "metadata": {},
   "outputs": [],
   "source": [
    "for column in list_of_columns_to_delta:\n",
    "    \n",
    "    name_of_column = f'{column} Delta'\n",
    "    \n",
    "    all_regular_season_player_stats_merged_df_2024_final[name_of_column] = np.nan\n",
    "    \n",
    "for column in list_of_columns_to_delta:\n",
    "    \n",
    "    name_of_column = f'{column} Delta'    \n",
    "    \n",
    "    # Populate delta columns\n",
    "    all_regular_season_player_stats_merged_df_2024_final.loc[mip_2024_prediction_df.index.tolist(),name_of_column] = mip_2024_prediction_df.loc[mip_2024_prediction_df.index.tolist(),name_of_column]"
   ]
  },
  {
   "cell_type": "code",
   "execution_count": null,
   "id": "9f249cd0",
   "metadata": {
    "scrolled": false
   },
   "outputs": [],
   "source": [
    "all_regular_season_player_stats_merged_df_2024_final_filtered = all_regular_season_player_stats_merged_df_2024_final.loc[all_regular_season_player_stats_merged_df_2024_final['Regular Season Basic Player Stats - Games Played']>55]\n",
    "all_regular_season_player_stats_merged_df_2024_final_filtered.sort_values('MIP Predicted Vote %',ascending=False).head(10)"
   ]
  },
  {
   "cell_type": "code",
   "execution_count": null,
   "id": "2f8055e6",
   "metadata": {},
   "outputs": [],
   "source": [
    "nba_award_predictions_df = all_regular_season_player_stats_merged_df_2024_final.merge(all_regular_season_team_stats_merged_df_2024,how='left',on='Team_name_and_year_concat')\n",
    "\n",
    "nba_award_predictions_df.to_excel('2024 NBA Award Predictions.xlsx')"
   ]
  },
  {
   "cell_type": "markdown",
   "id": "5495c2d8",
   "metadata": {},
   "source": [
    "# Predicting 2024 NBA Playoffs \n",
    " <a class=\"anchor\" id=\"Step39\"></a>"
   ]
  },
  {
   "cell_type": "code",
   "execution_count": null,
   "id": "c03cabfb",
   "metadata": {
    "scrolled": false
   },
   "outputs": [],
   "source": [
    "team_playoff_prediction_df = all_regular_season_team_stats_merged_df.merge(nba_team_playoff_standing,how='left',on='Team_name_and_year_concat')\n",
    "\n",
    "def win_function(column_value):\n",
    "    \n",
    "    if pd.isna(column_value):\n",
    "        \n",
    "        wins = 0\n",
    "        \n",
    "    else:     \n",
    "    \n",
    "        wins = int(column_value.split('-')[0])\n",
    "    \n",
    "    return wins\n",
    "\n",
    "team_playoff_prediction_df['Team Playoff Wins'] = team_playoff_prediction_df['Team Playoff Standings - Overall Record'].apply(win_function)"
   ]
  },
  {
   "cell_type": "code",
   "execution_count": null,
   "id": "e969515f",
   "metadata": {},
   "outputs": [],
   "source": [
    "team_playoff_prediction_df.head(1)"
   ]
  },
  {
   "cell_type": "markdown",
   "id": "ee23c91d",
   "metadata": {},
   "source": [
    "## Define list of features (exclude data not to be used in prediction) "
   ]
  },
  {
   "cell_type": "code",
   "execution_count": null,
   "id": "89685b96",
   "metadata": {},
   "outputs": [],
   "source": [
    "list_of_columns_to_exclude = ['Regular Season Basic Team Stats - Team',\n",
    "                              'Team_name_and_year_concat',\n",
    "                              'Regular Season Basic Team Stats - Year',\n",
    "                              'Regular Season Team Advanced Stats - Arena',\n",
    "                              'Regular Season Team Advanced Stats - Total Arena Attendance',\n",
    "                              'Regular Season Team Advanced Stats - Attendance Per Game',\n",
    "                              'Team Playoff Standings - Rank',\n",
    "                              'Team Playoff Standings - Team',\n",
    "                              'Team Playoff Standings - Overall Record',\n",
    "                              'Team Playoff Standings - Record at home',\n",
    "                              'Team Playoff Standings - Record on the road',\n",
    "                              'Team Playoff Standings - Record against Eastern Conference',\n",
    "                              'Team Playoff Standings - Record against Western Conference',\n",
    "                              'Team Playoff Standings - Year',\n",
    "                              'Team Playoff Standings - Team Name Refined - accounts for players being traded',\n",
    "                              'Team Playoff Standings - Standardized/Modernized Team Name',\n",
    "                              'Playoff Result'\n",
    "                             ]\n",
    "\n",
    "list_of_features = list(team_playoff_prediction_df.columns)\n",
    "\n",
    "for column in list_of_columns_to_exclude:\n",
    "    \n",
    "    list_of_features.remove(column)\n",
    "    \n",
    "for feature in list_of_features:\n",
    "    \n",
    "    print(f\"\"\"\n",
    "    {feature}\"\"\")"
   ]
  },
  {
   "cell_type": "markdown",
   "id": "8dc59b8b",
   "metadata": {},
   "source": [
    "## Check for NaN values and review"
   ]
  },
  {
   "cell_type": "code",
   "execution_count": null,
   "id": "b18db494",
   "metadata": {},
   "outputs": [],
   "source": [
    "for feature in list_of_features:\n",
    "    \n",
    "    if len(team_playoff_prediction_df.loc[team_playoff_prediction_df[feature].isnull()]) > 0:\n",
    "        \n",
    "        team_playoff_prediction_df.loc[team_playoff_prediction_df[feature].isnull(),feature] = 0\n",
    "        \n",
    "        print(f\"\"\"\n",
    "        {feature} contains {len(team_playoff_prediction_df.loc[team_playoff_prediction_df[feature].isnull()])} NaN values \"\"\")"
   ]
  },
  {
   "cell_type": "markdown",
   "id": "5216e3e9",
   "metadata": {},
   "source": [
    "## Split into test and training data"
   ]
  },
  {
   "cell_type": "code",
   "execution_count": null,
   "id": "9835947e",
   "metadata": {},
   "outputs": [],
   "source": [
    "list_of_features_filtered = [\n",
    "\"Regular Season Team Standings - Overall Team Record Ranked\",\n",
    "                             'Team Playoff Wins']"
   ]
  },
  {
   "cell_type": "code",
   "execution_count": null,
   "id": "2ada2c41",
   "metadata": {},
   "outputs": [],
   "source": [
    "team_playoff_prediction_df_features = team_playoff_prediction_df.loc[:,list_of_features_filtered]\n",
    "\n",
    "# Separate features and target variable\n",
    "X = team_playoff_prediction_df_features.drop('Team Playoff Wins', axis=1)\n",
    "y = team_playoff_prediction_df_features['Team Playoff Wins']  \n",
    "\n",
    "# Split data into training and testing sets\n",
    "X_train, X_test, y_train, y_test = train_test_split(X, y, test_size=0.2, random_state=42)"
   ]
  },
  {
   "cell_type": "markdown",
   "id": "fd976145",
   "metadata": {},
   "source": [
    "## Initialize and Train the GBM Model"
   ]
  },
  {
   "cell_type": "code",
   "execution_count": null,
   "id": "90d9831a",
   "metadata": {},
   "outputs": [],
   "source": [
    "# Initialize the GBM regressor\n",
    "gbm_regressor = GradientBoostingRegressor(n_estimators=100, learning_rate=0.1, max_depth=3, random_state=42)\n",
    "\n",
    "# Train the model\n",
    "gbm_regressor.fit(X_train, y_train)"
   ]
  },
  {
   "cell_type": "markdown",
   "id": "b7c30581",
   "metadata": {},
   "source": [
    "## Make Predictions and Evaluate the Model"
   ]
  },
  {
   "cell_type": "code",
   "execution_count": null,
   "id": "36e386a2",
   "metadata": {
    "scrolled": true
   },
   "outputs": [],
   "source": [
    "# Make predictions\n",
    "y_pred = gbm_regressor.predict(X_test)\n",
    "\n",
    "# Evaluate the model\n",
    "mse = mean_squared_error(y_test, y_pred)\n",
    "r2 = r2_score(y_test, y_pred)\n",
    "\n",
    "print(f'Mean Squared Error: {mse}')\n",
    "print(f'R^2 Score: {r2}')"
   ]
  },
  {
   "cell_type": "code",
   "execution_count": null,
   "id": "4966ea6b",
   "metadata": {},
   "outputs": [],
   "source": [
    "# # All features had \n",
    "# Mean Squared Error: 0.001925368630181291\n",
    "# R^2 Score: 0.35803670206569393"
   ]
  },
  {
   "cell_type": "markdown",
   "id": "bc56c02f",
   "metadata": {},
   "source": [
    "## Evaluate feature importance"
   ]
  },
  {
   "cell_type": "code",
   "execution_count": null,
   "id": "03d3266f",
   "metadata": {},
   "outputs": [],
   "source": [
    "feature_importance = pd.DataFrame(gbm_regressor.feature_importances_, index=X_train.columns, columns=['importance']).sort_values('importance', ascending=False)\n",
    "\n",
    "list(feature_importance.head(10).index)"
   ]
  },
  {
   "cell_type": "markdown",
   "id": "fb3e278f",
   "metadata": {},
   "source": [
    "### Populate prediction dataframe with predictions"
   ]
  },
  {
   "cell_type": "code",
   "execution_count": null,
   "id": "2d5c5f9e",
   "metadata": {},
   "outputs": [],
   "source": [
    "# Predict the percentage of 1st place votes for all players\n",
    "predicted_votes = gbm_regressor.predict(team_playoff_prediction_df_features.drop('Team Playoff Wins', axis=1))\n",
    "\n",
    "# Add the predicted votes to the DataFrame\n",
    "team_playoff_prediction_df.loc[:,'Predicted Votes'] = predicted_votes"
   ]
  },
  {
   "cell_type": "code",
   "execution_count": null,
   "id": "2e11b58f",
   "metadata": {},
   "outputs": [],
   "source": [
    "team_playoff_prediction_df.sort_values('Predicted Votes',ascending=False)"
   ]
  },
  {
   "cell_type": "markdown",
   "id": "7ef39b4e",
   "metadata": {},
   "source": [
    "# Predicting 2024 Playoffs"
   ]
  },
  {
   "cell_type": "code",
   "execution_count": null,
   "id": "2e0cd12d",
   "metadata": {},
   "outputs": [],
   "source": [
    "playoff_prediction_2024 = all_regular_season_team_stats_merged_df_2024"
   ]
  },
  {
   "cell_type": "markdown",
   "id": "50a2d303",
   "metadata": {},
   "source": [
    "# Prep the data"
   ]
  },
  {
   "cell_type": "markdown",
   "id": "1c99c2ee",
   "metadata": {},
   "source": [
    "## Define list of features (exclude data not to be used in prediction) "
   ]
  },
  {
   "cell_type": "code",
   "execution_count": null,
   "id": "9615189a",
   "metadata": {},
   "outputs": [],
   "source": [
    "list_of_columns_to_exclude = ['Regular Season Basic Team Stats - Team',\n",
    "                              'Team_name_and_year_concat',\n",
    "                              'Regular Season Basic Team Stats - Year',\n",
    "                              'Regular Season Team Advanced Stats - Arena',\n",
    "                              'Regular Season Team Advanced Stats - Total Arena Attendance',\n",
    "                              'Regular Season Team Advanced Stats - Attendance Per Game'\n",
    "                             ]\n",
    "\n",
    "list_of_features = list(playoff_prediction_2024.columns)\n",
    "\n",
    "for column in list_of_columns_to_exclude:\n",
    "    \n",
    "    list_of_features.remove(column)\n",
    "    \n",
    "for feature in list_of_features:\n",
    "    \n",
    "    print(f\"\"\"\n",
    "    {feature}\"\"\")"
   ]
  },
  {
   "cell_type": "markdown",
   "id": "dbb737ce",
   "metadata": {},
   "source": [
    "## Check for NaN values and review"
   ]
  },
  {
   "cell_type": "code",
   "execution_count": null,
   "id": "933909a7",
   "metadata": {},
   "outputs": [],
   "source": [
    "for feature in list_of_features:\n",
    "    \n",
    "    if len(playoff_prediction_2024.loc[playoff_prediction_2024[feature].isnull()]) > 0:\n",
    "        \n",
    "        playoff_prediction_2024.loc[playoff_prediction_2024[feature].isnull(),feature] = 0\n",
    "        \n",
    "        print(f\"\"\"\n",
    "        {feature} contains {len(playoff_prediction_2024.loc[playoff_prediction_2024[feature].isnull()])} NaN values \"\"\")"
   ]
  },
  {
   "cell_type": "code",
   "execution_count": null,
   "id": "635e6820",
   "metadata": {},
   "outputs": [],
   "source": [
    "list_of_features_filtered = [\"Regular Season Team Standings - Overall Team Record Ranked\"]"
   ]
  },
  {
   "cell_type": "code",
   "execution_count": null,
   "id": "49075dc9",
   "metadata": {},
   "outputs": [],
   "source": [
    "playoff_prediction_2024_features = playoff_prediction_2024.loc[:,list_of_features_filtered]"
   ]
  },
  {
   "cell_type": "code",
   "execution_count": null,
   "id": "39b680be",
   "metadata": {},
   "outputs": [],
   "source": [
    "# Predict the percentage of 1st place votes for all players\n",
    "predicted_votes = gbm_regressor.predict(playoff_prediction_2024_features)\n",
    "\n",
    "# Add the predicted votes to the DataFrame\n",
    "playoff_prediction_2024.loc[:,'Predicted Votes'] = predicted_votes"
   ]
  },
  {
   "cell_type": "code",
   "execution_count": null,
   "id": "9a3ae51b",
   "metadata": {
    "scrolled": false
   },
   "outputs": [],
   "source": [
    "playoff_prediction_2024.sort_values('Predicted Votes',ascending=False).head(30)"
   ]
  },
  {
   "cell_type": "markdown",
   "id": "eecac0ee",
   "metadata": {},
   "source": [
    "#  PLAYER AWARDS MERGE. Merge regular season players stats with player awards\n",
    "\n",
    " <a class=\"anchor\" id=\"Step40\"></a>"
   ]
  },
  {
   "cell_type": "markdown",
   "id": "ddcbf161",
   "metadata": {},
   "source": [
    "### Add MVP"
   ]
  },
  {
   "cell_type": "code",
   "execution_count": null,
   "id": "96b651c1",
   "metadata": {},
   "outputs": [],
   "source": [
    "number_of_columns_before = len(all_regular_season_player_stats_merged_df.columns)\n",
    "\n",
    "all_regular_season_player_stats_merged_df_plus_awards_df = all_regular_season_player_stats_merged_df.merge(mvp_vote_df,how='left',on='Player_unique_id_and_year_concat')\n",
    "\n",
    "number_of_columns_after = len(all_regular_season_player_stats_merged_df_plus_awards_df.columns)\n",
    "\n",
    "print(f\"\"\"Went from {number_of_columns_before} columns to {number_of_columns_after} columns.\n",
    "      \n",
    "Added {number_of_columns_after-number_of_columns_before}\"\"\")"
   ]
  },
  {
   "cell_type": "markdown",
   "id": "0c43b3df",
   "metadata": {},
   "source": [
    "### Add ROY"
   ]
  },
  {
   "cell_type": "code",
   "execution_count": null,
   "id": "c612aaae",
   "metadata": {},
   "outputs": [],
   "source": [
    "number_of_columns_before = len(all_regular_season_player_stats_merged_df_plus_awards_df.columns)\n",
    "\n",
    "all_regular_season_player_stats_merged_df_plus_awards_df = all_regular_season_player_stats_merged_df_plus_awards_df.merge(roy_vote_df,how='left',on='Player_unique_id_and_year_concat')\n",
    "\n",
    "number_of_columns_after = len(all_regular_season_player_stats_merged_df_plus_awards_df.columns)\n",
    "\n",
    "print(f\"\"\"Went from {number_of_columns_before} columns to {number_of_columns_after} columns.\n",
    "      \n",
    "Added {number_of_columns_after-number_of_columns_before}\"\"\")"
   ]
  },
  {
   "cell_type": "markdown",
   "id": "ad56fe4e",
   "metadata": {},
   "source": [
    "### Add MIP"
   ]
  },
  {
   "cell_type": "code",
   "execution_count": null,
   "id": "2eca2a53",
   "metadata": {},
   "outputs": [],
   "source": [
    "number_of_columns_before = len(all_regular_season_player_stats_merged_df_plus_awards_df.columns)\n",
    "\n",
    "all_regular_season_player_stats_merged_df_plus_awards_df = all_regular_season_player_stats_merged_df_plus_awards_df.merge(mip_df,how='left',on='Player_unique_id_and_year_concat')\n",
    "\n",
    "number_of_columns_after = len(all_regular_season_player_stats_merged_df_plus_awards_df.columns)\n",
    "\n",
    "print(f\"\"\"Went from {number_of_columns_before} columns to {number_of_columns_after} columns.\n",
    "      \n",
    "Added {number_of_columns_after-number_of_columns_before}\"\"\")"
   ]
  },
  {
   "cell_type": "markdown",
   "id": "baffed3b",
   "metadata": {},
   "source": [
    "### Add 6MAN"
   ]
  },
  {
   "cell_type": "code",
   "execution_count": null,
   "id": "f2f64908",
   "metadata": {},
   "outputs": [],
   "source": [
    "number_of_columns_before = len(all_regular_season_player_stats_merged_df_plus_awards_df.columns)\n",
    "\n",
    "all_regular_season_player_stats_merged_df_plus_awards_df = all_regular_season_player_stats_merged_df_plus_awards_df.merge(six_man_df,how='left',on='Player_unique_id_and_year_concat')\n",
    "\n",
    "number_of_columns_after = len(all_regular_season_player_stats_merged_df_plus_awards_df.columns)\n",
    "\n",
    "print(f\"\"\"Went from {number_of_columns_before} columns to {number_of_columns_after} columns.\n",
    "      \n",
    "Added {number_of_columns_after-number_of_columns_before}\"\"\")"
   ]
  },
  {
   "cell_type": "markdown",
   "id": "2124a718",
   "metadata": {},
   "source": [
    "### Add DPOY"
   ]
  },
  {
   "cell_type": "code",
   "execution_count": null,
   "id": "d5f6d6d8",
   "metadata": {},
   "outputs": [],
   "source": [
    "number_of_columns_before = len(all_regular_season_player_stats_merged_df_plus_awards_df.columns)\n",
    "\n",
    "all_regular_season_player_stats_merged_df_plus_awards_df = all_regular_season_player_stats_merged_df_plus_awards_df.merge(dpoy_df,how='left',on='Player_unique_id_and_year_concat')\n",
    "\n",
    "number_of_columns_after = len(all_regular_season_player_stats_merged_df_plus_awards_df.columns)\n",
    "\n",
    "print(f\"\"\"Went from {number_of_columns_before} columns to {number_of_columns_after} columns.\n",
    "      \n",
    "Added {number_of_columns_after-number_of_columns_before}\"\"\")"
   ]
  },
  {
   "cell_type": "markdown",
   "id": "5e5bdb55",
   "metadata": {},
   "source": [
    "### Add Finals MVP"
   ]
  },
  {
   "cell_type": "code",
   "execution_count": null,
   "id": "cc17e7ed",
   "metadata": {},
   "outputs": [],
   "source": [
    "number_of_columns_before = len(all_regular_season_player_stats_merged_df_plus_awards_df.columns)\n",
    "\n",
    "all_regular_season_player_stats_merged_df_plus_awards_df = all_regular_season_player_stats_merged_df_plus_awards_df.merge(finals_mvp,how='left',on='Player_unique_id_and_year_concat')\n",
    "\n",
    "number_of_columns_after = len(all_regular_season_player_stats_merged_df_plus_awards_df.columns)\n",
    "\n",
    "print(f\"\"\"Went from {number_of_columns_before} columns to {number_of_columns_after} columns.\n",
    "      \n",
    "Added {number_of_columns_after-number_of_columns_before}\"\"\")"
   ]
  },
  {
   "cell_type": "markdown",
   "id": "0a6337af",
   "metadata": {},
   "source": [
    "### Add All NBA"
   ]
  },
  {
   "cell_type": "code",
   "execution_count": null,
   "id": "e91f9815",
   "metadata": {},
   "outputs": [],
   "source": [
    "number_of_columns_before = len(all_regular_season_player_stats_merged_df_plus_awards_df.columns)\n",
    "\n",
    "all_regular_season_player_stats_merged_df_plus_awards_df = all_regular_season_player_stats_merged_df_plus_awards_df.merge(all_nba_df,how='left',on='Player_unique_id_and_year_concat')\n",
    "\n",
    "number_of_columns_after = len(all_regular_season_player_stats_merged_df_plus_awards_df.columns)\n",
    "\n",
    "print(f\"\"\"Went from {number_of_columns_before} columns to {number_of_columns_after} columns.\n",
    "      ### Add All NBA\n",
    "Added {number_of_columns_after-number_of_columns_before}\"\"\")"
   ]
  },
  {
   "cell_type": "markdown",
   "id": "ea0eb368",
   "metadata": {},
   "source": [
    "### Add All Defense"
   ]
  },
  {
   "cell_type": "code",
   "execution_count": null,
   "id": "210f2ac9",
   "metadata": {},
   "outputs": [],
   "source": [
    "number_of_columns_before = len(all_regular_season_player_stats_merged_df_plus_awards_df.columns)\n",
    "\n",
    "all_regular_season_player_stats_merged_df_plus_awards_df = all_regular_season_player_stats_merged_df_plus_awards_df.merge(all_defense_df,how='left',on='Player_unique_id_and_year_concat')\n",
    "\n",
    "number_of_columns_after = len(all_regular_season_player_stats_merged_df_plus_awards_df.columns)\n",
    "\n",
    "print(f\"\"\"Went from {number_of_columns_before} columns to {number_of_columns_after} columns.\n",
    "      \n",
    "Added {number_of_columns_after-number_of_columns_before}\"\"\")"
   ]
  },
  {
   "cell_type": "markdown",
   "id": "e2a06fe7",
   "metadata": {},
   "source": [
    "#  PLAYOFFS PLAYER STATS MERGE. Create merged dataframe\n",
    " <a class=\"anchor\" id=\"Step41\"></a>"
   ]
  },
  {
   "cell_type": "markdown",
   "id": "4f0fedd4",
   "metadata": {},
   "source": [
    "### Merge basic with advanced stats"
   ]
  },
  {
   "cell_type": "code",
   "execution_count": null,
   "id": "6854f6ab",
   "metadata": {},
   "outputs": [],
   "source": [
    "number_of_columns_before = len(player_basic_playoff_stats_df.columns)\n",
    "\n",
    "all_playoffs_player_stats_merged_df = player_basic_playoff_stats_df.merge(player_advanced_stats_in_playoffs_df,how='left',on='Player_unique_id_and_year_concat')\n",
    "\n",
    "number_of_columns_after = len(all_playoffs_player_stats_merged_df.columns)\n",
    "\n",
    "print(f\"\"\"Went from {number_of_columns_before} columns to {number_of_columns_after} columns.\n",
    "      \n",
    "Added {number_of_columns_after-number_of_columns_before}\"\"\")"
   ]
  },
  {
   "cell_type": "markdown",
   "id": "755600ee",
   "metadata": {},
   "source": [
    "### Add player shooting stats"
   ]
  },
  {
   "cell_type": "code",
   "execution_count": null,
   "id": "ec5b598f",
   "metadata": {},
   "outputs": [],
   "source": [
    "number_of_columns_before = len(all_playoffs_player_stats_merged_df.columns)\n",
    "\n",
    "all_playoffs_player_stats_merged_df = all_playoffs_player_stats_merged_df.merge(player_shooting_stats_in_playoffs_df.drop('Team_name_and_year_concat',axis=1),how='left',on='Player_unique_id_and_year_concat')\n",
    "\n",
    "number_of_columns_after = len(all_playoffs_player_stats_merged_df.columns)\n",
    "\n",
    "print(f\"\"\"Went from {number_of_columns_before} columns to {number_of_columns_after} columns.\n",
    "      \n",
    "Added {number_of_columns_after-number_of_columns_before}\"\"\")"
   ]
  },
  {
   "cell_type": "markdown",
   "id": "5c22a7f6",
   "metadata": {},
   "source": [
    "### Add player play-by-play stats"
   ]
  },
  {
   "cell_type": "code",
   "execution_count": null,
   "id": "4cb6ff9f",
   "metadata": {},
   "outputs": [],
   "source": [
    "number_of_columns_before = len(all_playoffs_player_stats_merged_df.columns)\n",
    "\n",
    "all_playoffs_player_stats_merged_df = all_playoffs_player_stats_merged_df.merge(player_play_by_play_stats_in_playoffs_df.drop('Team_name_and_year_concat',axis=1),how='left',on='Player_unique_id_and_year_concat')\n",
    "\n",
    "number_of_columns_after = len(all_playoffs_player_stats_merged_df.columns)\n",
    "\n",
    "print(f\"\"\"Went from {number_of_columns_before} columns to {number_of_columns_after} columns.\n",
    "      \n",
    "Added {number_of_columns_after-number_of_columns_before}\"\"\")"
   ]
  },
  {
   "cell_type": "markdown",
   "id": "61e23890",
   "metadata": {},
   "source": [
    "# PLAYOFFS TEAM STATS MERGE\n",
    "\n",
    " <a class=\"anchor\" id=\"Step42\"></a>"
   ]
  },
  {
   "cell_type": "markdown",
   "id": "1ac79a5a",
   "metadata": {},
   "source": [
    "### Merge playoffs basic stats for team with playoffs basic stats for opponents"
   ]
  },
  {
   "cell_type": "code",
   "execution_count": null,
   "id": "a2d46b37",
   "metadata": {},
   "outputs": [],
   "source": [
    "number_of_columns_before = len(nba_team_basic_stat_in_playoffs_df.columns)\n",
    "\n",
    "all_playoff_team_stats_merged_df = nba_team_basic_stat_in_playoffs_df.merge(nba_team_basic_opponent_stat_in_playoffs_df,how='left',on='Team_name_and_year_concat')\n",
    "\n",
    "number_of_columns_after = len(all_playoff_team_stats_merged_df.columns)\n",
    "\n",
    "print(f\"\"\"Went from {number_of_columns_before} columns to {number_of_columns_after} columns.\n",
    "      \n",
    "Added {number_of_columns_after-number_of_columns_before}\"\"\")"
   ]
  },
  {
   "cell_type": "markdown",
   "id": "792ec03a",
   "metadata": {},
   "source": [
    "### Add playoffs advanced team stats"
   ]
  },
  {
   "cell_type": "code",
   "execution_count": null,
   "id": "9788c3ee",
   "metadata": {},
   "outputs": [],
   "source": [
    "number_of_columns_before = len(all_playoff_team_stats_merged_df.columns)\n",
    "\n",
    "all_playoff_team_stats_merged_df = all_playoff_team_stats_merged_df.merge(nba_team_advanced_stat_in_playoffs_df,how='left',on='Team_name_and_year_concat')\n",
    "\n",
    "number_of_columns_after = len(all_playoff_team_stats_merged_df.columns)\n",
    "\n",
    "print(f\"\"\"Went from {number_of_columns_before} columns to {number_of_columns_after} columns.\n",
    "      \n",
    "Added {number_of_columns_after-number_of_columns_before}\"\"\")"
   ]
  },
  {
   "cell_type": "markdown",
   "id": "09c24606",
   "metadata": {},
   "source": [
    "### Add playoffs team shooting stats"
   ]
  },
  {
   "cell_type": "code",
   "execution_count": null,
   "id": "78e7bea9",
   "metadata": {},
   "outputs": [],
   "source": [
    "number_of_columns_before = len(all_playoff_team_stats_merged_df.columns)\n",
    "\n",
    "all_playoff_team_stats_merged_df = all_playoff_team_stats_merged_df.merge(nba_team_shooting_in_playoffs_df,how='left',on='Team_name_and_year_concat')\n",
    "\n",
    "number_of_columns_after = len(all_playoff_team_stats_merged_df.columns)\n",
    "\n",
    "print(f\"\"\"Went from {number_of_columns_before} columns to {number_of_columns_after} columns.\n",
    "      \n",
    "Added {number_of_columns_after-number_of_columns_before}\"\"\")"
   ]
  },
  {
   "cell_type": "markdown",
   "id": "56e04556",
   "metadata": {},
   "source": [
    "### Add playoffs team opponent shooting stats"
   ]
  },
  {
   "cell_type": "code",
   "execution_count": null,
   "id": "a485eb4f",
   "metadata": {},
   "outputs": [],
   "source": [
    "number_of_columns_before = len(all_playoff_team_stats_merged_df.columns)\n",
    "\n",
    "all_playoff_team_stats_merged_df = all_playoff_team_stats_merged_df.merge(nba_team_opponent_shooting_stat_in_playoffs_df,how='left',on='Team_name_and_year_concat')\n",
    "\n",
    "number_of_columns_after = len(all_playoff_team_stats_merged_df.columns)\n",
    "\n",
    "print(f\"\"\"Went from {number_of_columns_before} columns to {number_of_columns_after} columns.\n",
    "      \n",
    "Added {number_of_columns_after-number_of_columns_before}\"\"\")"
   ]
  },
  {
   "cell_type": "markdown",
   "id": "83f07ec7",
   "metadata": {},
   "source": [
    "### Add team playoff standing and results"
   ]
  },
  {
   "cell_type": "code",
   "execution_count": null,
   "id": "8965820e",
   "metadata": {},
   "outputs": [],
   "source": [
    "number_of_columns_before = len(all_playoff_team_stats_merged_df.columns)\n",
    "\n",
    "all_playoff_team_stats_merged_df = all_playoff_team_stats_merged_df.merge(nba_team_playoff_standing,how='left',on='Team_name_and_year_concat')\n",
    "\n",
    "number_of_columns_after = len(all_playoff_team_stats_merged_df.columns)\n",
    "\n",
    "print(f\"\"\"Went from {number_of_columns_before} columns to {number_of_columns_after} columns.\n",
    "      \n",
    "Added {number_of_columns_after-number_of_columns_before}\"\"\")"
   ]
  },
  {
   "cell_type": "markdown",
   "id": "949696aa",
   "metadata": {},
   "source": [
    "# ALL TEAM STATS\n",
    " <a class=\"anchor\" id=\"Step43\"></a>"
   ]
  },
  {
   "cell_type": "markdown",
   "id": "6064c19f",
   "metadata": {},
   "source": [
    "### Merge all regular season team stats with all playoff team stats"
   ]
  },
  {
   "cell_type": "code",
   "execution_count": null,
   "id": "100474ee",
   "metadata": {},
   "outputs": [],
   "source": [
    "number_of_columns_before = len(all_regular_season_team_stats_merged_df.columns)\n",
    "\n",
    "all_team_stats_and_playoff_standings_info_df = all_regular_season_team_stats_merged_df.merge(all_playoff_team_stats_merged_df,how='left',on='Team_name_and_year_concat')\n",
    "\n",
    "number_of_columns_after = len(all_team_stats_and_playoff_standings_info_df.columns)\n",
    "\n",
    "print(f\"\"\"Went from {number_of_columns_before} columns to {number_of_columns_after} columns.\n",
    "      \n",
    "Added {number_of_columns_after-number_of_columns_before}\"\"\")"
   ]
  },
  {
   "cell_type": "markdown",
   "id": "297a4b41",
   "metadata": {},
   "source": [
    "# ALL PLAYER STATS\n",
    " <a class=\"anchor\" id=\"Step44\"></a>"
   ]
  },
  {
   "cell_type": "markdown",
   "id": "bd94f6a3",
   "metadata": {},
   "source": [
    "### Merge regular season player + awards with player playoff stats. "
   ]
  },
  {
   "cell_type": "code",
   "execution_count": null,
   "id": "4789c63f",
   "metadata": {},
   "outputs": [],
   "source": [
    "number_of_columns_before = len(all_regular_season_player_stats_merged_df_plus_awards_df.columns)\n",
    "\n",
    "all_player_related_stats_df = all_regular_season_player_stats_merged_df_plus_awards_df.merge(all_playoffs_player_stats_merged_df,how='left',on='Player_unique_id_and_year_concat')\n",
    "\n",
    "number_of_columns_after = len(all_player_related_stats_df.columns)\n",
    "\n",
    "print(f\"\"\"Went from {number_of_columns_before} columns to {number_of_columns_after} columns.\n",
    "      \n",
    "Added {number_of_columns_after-number_of_columns_before}\"\"\")"
   ]
  },
  {
   "cell_type": "markdown",
   "id": "3b1af6de",
   "metadata": {},
   "source": [
    "# COMBINE ALL PLAYER AND TEAM STATS\n",
    " <a class=\"anchor\" id=\"Step45\"></a>"
   ]
  },
  {
   "cell_type": "markdown",
   "id": "8dd611a4",
   "metadata": {},
   "source": [
    "### Merge all team-related stats with all player related stats"
   ]
  },
  {
   "cell_type": "code",
   "execution_count": null,
   "id": "2610c90b",
   "metadata": {},
   "outputs": [],
   "source": [
    "number_of_columns_before = len(all_player_related_stats_df.columns)\n",
    "\n",
    "ultimate_combined_df = all_player_related_stats_df.merge(all_team_stats_and_playoff_standings_info_df,how='left',on='Team_name_and_year_concat')\n",
    "\n",
    "number_of_columns_after = len(ultimate_combined_df.columns)\n",
    "\n",
    "print(f\"\"\"Went from {number_of_columns_before} columns to {number_of_columns_after} columns.\n",
    "      \n",
    "Added {number_of_columns_after-number_of_columns_before}\"\"\")"
   ]
  },
  {
   "cell_type": "code",
   "execution_count": null,
   "id": "7161a189",
   "metadata": {},
   "outputs": [],
   "source": [
    "all_team_stats_and_playoff_standings_info_df.loc[all_team_stats_and_playoff_standings_info_df['Regular Season Basic Team Stats - Team']=='Atlanta Hawks']"
   ]
  },
  {
   "cell_type": "code",
   "execution_count": null,
   "id": "9e67ed10",
   "metadata": {},
   "outputs": [],
   "source": [
    "nba_team_basic_stat_in_regular_season_df_league_average"
   ]
  },
  {
   "cell_type": "markdown",
   "id": "b96334e7",
   "metadata": {},
   "source": [
    "# Create and export special merged regular season team stats containing league averages\n",
    " <a class=\"anchor\" id=\"Step46\"></a>"
   ]
  },
  {
   "cell_type": "code",
   "execution_count": null,
   "id": "53390dfc",
   "metadata": {},
   "outputs": [],
   "source": [
    "team_regular_season_df_with_league_averages = nba_team_basic_stat_in_regular_season_df_league_average.merge(nba_team_basic_opponent_stat_in_regular_season_df,how='left',on='Team_name_and_year_concat')\n",
    "team_regular_season_df_with_league_averages = team_regular_season_df_with_league_averages.merge(nba_advanced_team_stats_league_average,how='left',on='Team_name_and_year_concat')\n",
    "team_regular_season_df_with_league_averages = team_regular_season_df_with_league_averages.merge(nba_team_shooting_stat_in_regular_season_df_league_average,how='left',on='Team_name_and_year_concat')\n",
    "team_regular_season_df_with_league_averages = team_regular_season_df_with_league_averages.merge(nba_team_opponent_shooting_stat_in_regular_season_df_league_average,how='left',on='Team_name_and_year_concat')\n",
    "team_regular_season_df_with_league_averages = team_regular_season_df_with_league_averages.merge(all_playoff_team_stats_merged_df,how='left',on='Team_name_and_year_concat')"
   ]
  },
  {
   "cell_type": "code",
   "execution_count": null,
   "id": "ebf730f5",
   "metadata": {},
   "outputs": [],
   "source": [
    "list_of_columns_to_mark_best = ['Regular Season Basic Team Stats - Assists Per Game',\n",
    "                               'Regular Season Basic Team Stats - Blocks Per Game',\n",
    "                               'Regular Season Basic Team Stats - Steals Per Game',\n",
    "                               'Regular Season Basic Team Stats - Turnovers Per Game',\n",
    "                               'Regular Season Basic Team Stats - Points Per Game',\n",
    "                               'Regular Season Basic Team Stats - Total Rebounds Per Game',\n",
    "                               'Regular Season Team Advanced Stats - Offensive Rating',\n",
    "                               'Regular Season Team Advanced Stats - Defensive Rating',\n",
    "                               'Regular Season Team Advanced Stats - Net Rating',\n",
    "                               'Regular Season Team Advanced Stats - Pace (Possessions per 48 Minutes)',\n",
    "                               'Regular Season Team Advanced Stats - True Shooting %',\n",
    "                               'Regular Season Team Advanced Stats - Average Effective Field Goal % For Season',\n",
    "                               'Regular Season Team Shooting Stats - Average distance of shot',\n",
    "                               'Regular Season Basic Team Stats - 3 Point Attempts Per Game',\n",
    "                               'Regular Season Team Shooting Stats - 3 Pointer Attempt Rate For Season as % of total field goals attempted']\n",
    "\n",
    "for column in list_of_columns_to_mark_best:\n",
    "    \n",
    "    # New column name\n",
    "    new_column_name = f'{column} Best Flag'\n",
    "    \n",
    "    # Create new column with default value of FALSE\n",
    "    team_regular_season_df_with_league_averages[new_column_name] = 'FALSE'\n",
    "    \n",
    "    # For each year, find the index for the max value for the column of interest\n",
    "    for year in list(team_regular_season_df_with_league_averages['Regular Season Basic Team Stats - Year'].unique()):\n",
    "        \n",
    "        subset_df = team_regular_season_df_with_league_averages.loc[team_regular_season_df_with_league_averages['Regular Season Basic Team Stats - Year']==year]\n",
    "    \n",
    "        index_of_max = subset_df[column].idxmax()\n",
    "        \n",
    "        # Mark index of max\n",
    "        team_regular_season_df_with_league_averages.loc[index_of_max,new_column_name] = 'TRUE'"
   ]
  },
  {
   "cell_type": "code",
   "execution_count": null,
   "id": "e73b7917",
   "metadata": {},
   "outputs": [],
   "source": [
    "team_regular_season_df_with_league_averages.to_excel('All Team Stats from 2003-2023 - March 15.xlsx')"
   ]
  },
  {
   "cell_type": "markdown",
   "id": "46efb103",
   "metadata": {},
   "source": [
    "# Export Ultimate Combined dataframe\n",
    " <a class=\"anchor\" id=\"Step47\"></a>"
   ]
  },
  {
   "cell_type": "code",
   "execution_count": null,
   "id": "00b86644",
   "metadata": {},
   "outputs": [],
   "source": [
    "# list_of_columns_to_mark_best = ['Regular Season Basic Player Stats - 3 Point Attempts Per Game',\n",
    "#                                'Regular Season Basic Player Stats - Average 3 Point % For Season',\n",
    "#                                'Regular Season Basic Player Stats - Total Rebounds Per Game',\n",
    "#                                'Regular Season Basic Player Stats - Steals Per Game',\n",
    "#                                'Regular Season Basic Player Stats - Blocks Per Game',\n",
    "#                                'Regular Season Basic Player Stats - Points Per Game',\n",
    "#                                'Regular Season Basic Player Stats - Assists Per Game',\n",
    "#                                'Regular Season Basic Player Stats - Free Throw Attempts Per Game']\n",
    "\n",
    "# for column in list_of_columns_to_mark_best:\n",
    "    \n",
    "#     # New column name\n",
    "#     new_column_name = f'{column} Best Flag'\n",
    "    \n",
    "#     # Create new column with default value of FALSE\n",
    "#     ultimate_combined_df[new_column_name] = 'FALSE'\n",
    "    \n",
    "#     # For each year, find the index for the max value for the column of interest\n",
    "#     for year in list(ultimate_combined_df['Regular Season Basic Player Stats - Year'].unique()):\n",
    "        \n",
    "#         subset_df = ultimate_combined_df.loc[ultimate_combined_df['Regular Season Basic Player Stats - Year']==year]\n",
    "    \n",
    "#         index_of_max = subset_df[column].idxmax()\n",
    "        \n",
    "#         # Mark index of max\n",
    "#         ultimate_combined_df.loc[index_of_max,new_column_name] = 'TRUE'"
   ]
  },
  {
   "cell_type": "code",
   "execution_count": null,
   "id": "2553377c",
   "metadata": {},
   "outputs": [],
   "source": [
    "ultimate_combined_df.to_excel('All Player and Team Stats from 2003-2023.xlsx')"
   ]
  },
  {
   "cell_type": "code",
   "execution_count": null,
   "id": "429131cf",
   "metadata": {},
   "outputs": [],
   "source": [
    "ultimate_combined_df.loc[ultimate_combined_df['MIP Vote Results - MIP Result Indicator']==3]"
   ]
  },
  {
   "cell_type": "code",
   "execution_count": null,
   "id": "8da2838e",
   "metadata": {},
   "outputs": [],
   "source": []
  }
 ],
 "metadata": {
  "kernelspec": {
   "display_name": "Python 3 (ipykernel)",
   "language": "python",
   "name": "python3"
  },
  "language_info": {
   "codemirror_mode": {
    "name": "ipython",
    "version": 3
   },
   "file_extension": ".py",
   "mimetype": "text/x-python",
   "name": "python",
   "nbconvert_exporter": "python",
   "pygments_lexer": "ipython3",
   "version": "3.9.13"
  }
 },
 "nbformat": 4,
 "nbformat_minor": 5
}
